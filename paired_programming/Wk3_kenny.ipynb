{
 "cells": [
  {
   "cell_type": "code",
   "execution_count": 2,
   "metadata": {
    "collapsed": true
   },
   "outputs": [],
   "source": [
    "import numpy as np"
   ]
  },
  {
   "cell_type": "code",
   "execution_count": 46,
   "metadata": {
    "collapsed": false
   },
   "outputs": [
    {
     "name": "stdout",
     "output_type": "stream",
     "text": [
      "[23, 31, 39, 45, 60, 72, 75, 77, 77, 81, 81, 82, 85]\n"
     ]
    }
   ],
   "source": [
    "list_of_sim_results = []\n",
    "list_of_bdays = []\n",
    "num_of_people = 0\n",
    "for i in range(100):\n",
    "    one_persons_bday = np.random.randint(0, 365)\n",
    "    if one_persons_bday in list_of_bdays:\n",
    "        list_of_sim_results.append(num_of_people)\n",
    "    else: \n",
    "        list_of_bdays += [one_persons_bday]\n",
    "        num_of_people += 1\n",
    "# print(np.mean(list_of_sim_results))\n",
    "print(list_of_sim_results)"
   ]
  },
  {
   "cell_type": "code",
   "execution_count": 28,
   "metadata": {
    "collapsed": false
   },
   "outputs": [
    {
     "data": {
      "text/plain": [
       "2.0"
      ]
     },
     "execution_count": 28,
     "metadata": {},
     "output_type": "execute_result"
    }
   ],
   "source": [
    "np.mean([1,2, 3])"
   ]
  },
  {
   "cell_type": "code",
   "execution_count": null,
   "metadata": {
    "collapsed": true
   },
   "outputs": [],
   "source": [
    "#Alex's answer"
   ]
  },
  {
   "cell_type": "markdown",
   "metadata": {},
   "source": [
    "\n",
    "Need to know:\n",
    "\n",
    "$P(A|B)=\\frac{P(A\\cap B)}{P(B)}$\n",
    "\n",
    "\n",
    "Given:\n",
    "\n",
    "$P(A)=0.0001$\n",
    "\n",
    "$P(A')=0.9999$\n",
    "\n",
    "$P(B|A')=0.1$\n",
    "\n",
    "$P(B|A)=0.99$\n",
    "\n",
    "\n",
    "\n",
    "Using:\n",
    "\n",
    "$P(B \\cap A) = 0.000099$\n",
    "\n",
    "$P(B) = P(B|A)P(A)+P(B|A')P(A')=(0.99)(0.0001)+(0.1)(0.9999)$\n",
    "\n",
    "\n",
    "$P(A|B) = 0.000989$\n",
    "\n",
    "(maybe)"
   ]
  },
  {
   "cell_type": "code",
   "execution_count": 59,
   "metadata": {
    "collapsed": false
   },
   "outputs": [
    {
     "data": {
      "text/plain": [
       "0.009783577482509407"
      ]
     },
     "execution_count": 59,
     "metadata": {},
     "output_type": "execute_result"
    }
   ],
   "source": [
    "0.09891196834817012 * 0.09891196834817012"
   ]
  },
  {
   "cell_type": "code",
   "execution_count": null,
   "metadata": {
    "collapsed": true
   },
   "outputs": [],
   "source": []
  }
 ],
 "metadata": {
  "kernelspec": {
   "display_name": "Python 3",
   "language": "python",
   "name": "python3"
  },
  "language_info": {
   "codemirror_mode": {
    "name": "ipython",
    "version": 3
   },
   "file_extension": ".py",
   "mimetype": "text/x-python",
   "name": "python",
   "nbconvert_exporter": "python",
   "pygments_lexer": "ipython3",
   "version": "3.6.0"
  }
 },
 "nbformat": 4,
 "nbformat_minor": 2
}
