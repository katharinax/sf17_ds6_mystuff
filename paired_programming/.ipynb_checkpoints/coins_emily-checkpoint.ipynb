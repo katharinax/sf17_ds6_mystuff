{
 "cells": [
  {
   "cell_type": "code",
   "execution_count": 1,
   "metadata": {
    "collapsed": true
   },
   "outputs": [],
   "source": [
    "import numpy as np"
   ]
  },
  {
   "cell_type": "code",
   "execution_count": null,
   "metadata": {
    "collapsed": true
   },
   "outputs": [],
   "source": []
  },
  {
   "cell_type": "code",
   "execution_count": 2,
   "metadata": {
    "collapsed": true
   },
   "outputs": [],
   "source": [
    "def two_coins(amount, coins):\n",
    "    sorted_coins = sorted(coins, reverse = False)\n",
    "    total_ways = 0\n",
    "    max_times_to_fit_nickle = amount // sorted_coins[-1]\n",
    "    for time in range(max_times_to_fit_nickle + 1):\n",
    "        rest_of_amount = amount - sorted_coins[-1] * time\n",
    "        if rest_of_amount % sorted_coins[0] == 0:\n",
    "            total_ways += 1\n",
    "    return total_ways"
   ]
  },
  {
   "cell_type": "code",
   "execution_count": 18,
   "metadata": {
    "collapsed": false
   },
   "outputs": [
    {
     "data": {
      "text/plain": [
       "4"
      ]
     },
     "execution_count": 18,
     "metadata": {},
     "output_type": "execute_result"
    }
   ],
   "source": [
    "two_coins(2, [1, 5]) + two_coins(12, [1, 5])"
   ]
  },
  {
   "cell_type": "code",
   "execution_count": 35,
   "metadata": {
    "collapsed": false
   },
   "outputs": [],
   "source": [
    "#trying one of Andrew's solutions\n",
    "def multi_coins(amount, coins):\n",
    "    sorted_coins = sorted(coins, reverse = False)\n",
    "    total_ways = 0\n",
    "    if len(coins) > 2:\n",
    "        max_times_to_fit_largest = amount // sorted_coins[-1]\n",
    "        for time in range(max_times_to_fit_largest + 1):\n",
    "            rest_of_amount = amount - sorted_coins[-1] * time\n",
    "            total_ways += multi_coins(rest_of_amount, sorted_coins[:-1])\n",
    "        return total_ways\n",
    "    else:\n",
    "        return two_coins(amount, coins)"
   ]
  },
  {
   "cell_type": "code",
   "execution_count": 36,
   "metadata": {
    "collapsed": false
   },
   "outputs": [
    {
     "data": {
      "text/plain": [
       "242"
      ]
     },
     "execution_count": 36,
     "metadata": {},
     "output_type": "execute_result"
    }
   ],
   "source": [
    "multi_coins(100, [25, 10, 1, 5]) #242"
   ]
  },
  {
   "cell_type": "code",
   "execution_count": 5,
   "metadata": {
    "collapsed": true
   },
   "outputs": [],
   "source": [
    "def three_coins(amount, coins):\n",
    "    sorted_coins = sorted(coins, reverse = True)\n",
    "    total_ways = 0\n",
    "    for i in sorted_coins:\n",
    "        max_times_to_fit_largest_coin = amount // i\n",
    "        \n",
    "        for time in range(max_times_to_fit_largest_coin + 1):\n",
    "            max_times_to_fit_second_coin = (amont - sorted_coins[0]) // i\n",
    "            \n",
    "            \n",
    "            rest_of_amount = amount - sorted_coins[i] * time\n",
    "            if rest_of_amount % sorted_coins[i+1] == 0:\n",
    "                total_ways += 1\n",
    "    return total_ways"
   ]
  },
  {
   "cell_type": "code",
   "execution_count": null,
   "metadata": {
    "collapsed": true
   },
   "outputs": [],
   "source": [
    "def three_coins(amount, coins):\n",
    "    total_ways = 0\n",
    "    sorted_coins = sorted(coins, reverse = True)\n",
    "    max_times_largest = amount // sorted_coins[0]\n",
    "    max_times_middle = amount // sorted_coins[1]\n",
    "    max_times_smallest = amount // sorted_coins[2]\n",
    "    for time1 in range(max_times_largest + 1):\n",
    "        for time2 in range(max_times_middle + 1):\n",
    "            for time3 in range(max_times_smallest + 1):\n",
    "                if time1 * sorted_coins[0] + time2 * sorted_coins[1] + time3 * sorted_coins[2] == amount:\n",
    "                    total_ways += 1"
   ]
  },
  {
   "cell_type": "code",
   "execution_count": null,
   "metadata": {
    "collapsed": true
   },
   "outputs": [],
   "source": []
  },
  {
   "cell_type": "code",
   "execution_count": 6,
   "metadata": {
    "collapsed": false
   },
   "outputs": [
    {
     "data": {
      "text/plain": [
       "6"
      ]
     },
     "execution_count": 6,
     "metadata": {},
     "output_type": "execute_result"
    }
   ],
   "source": [
    "three_coins(12, [1, 5, 10])"
   ]
  },
  {
   "cell_type": "code",
   "execution_count": 14,
   "metadata": {
    "collapsed": false
   },
   "outputs": [
    {
     "name": "stdout",
     "output_type": "stream",
     "text": [
      "10\n",
      "5\n",
      "1\n"
     ]
    }
   ],
   "source": [
    "sorted_coins = sorted([1,5,10], reverse = True)\n",
    "for i in range(len(sorted_coins)):\n",
    "    print(sorted_coins[i])"
   ]
  },
  {
   "cell_type": "code",
   "execution_count": null,
   "metadata": {
    "collapsed": true
   },
   "outputs": [],
   "source": []
  }
 ],
 "metadata": {
  "kernelspec": {
   "display_name": "Python 3",
   "language": "python",
   "name": "python3"
  },
  "language_info": {
   "codemirror_mode": {
    "name": "ipython",
    "version": 3
   },
   "file_extension": ".py",
   "mimetype": "text/x-python",
   "name": "python",
   "nbconvert_exporter": "python",
   "pygments_lexer": "ipython3",
   "version": "3.6.0"
  }
 },
 "nbformat": 4,
 "nbformat_minor": 2
}
