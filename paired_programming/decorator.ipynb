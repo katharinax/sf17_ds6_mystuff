{
 "cells": [
  {
   "cell_type": "code",
   "execution_count": 1,
   "metadata": {
    "collapsed": false
   },
   "outputs": [
    {
     "name": "stdout",
     "output_type": "stream",
     "text": [
      "Something is happening before some_function() is called.\n",
      "Wheee!\n",
      "Something is happening after some_function() is called.\n"
     ]
    }
   ],
   "source": [
    "def my_decorator(some_function):\n",
    "\n",
    "    def wrapper():\n",
    "\n",
    "        print(\"Something is happening before some_function() is called.\")\n",
    "\n",
    "        some_function()\n",
    "\n",
    "        print(\"Something is happening after some_function() is called.\")\n",
    "\n",
    "    return wrapper\n",
    "\n",
    "\n",
    "def just_some_function():\n",
    "    print(\"Wheee!\")\n",
    "\n",
    "\n",
    "just_some_function = my_decorator(just_some_function)\n",
    "\n",
    "just_some_function()"
   ]
  },
  {
   "cell_type": "code",
   "execution_count": 2,
   "metadata": {
    "collapsed": false
   },
   "outputs": [
    {
     "name": "stdout",
     "output_type": "stream",
     "text": [
      "\n",
      "Sum of all the numbers: 49995000\n",
      "Time it took to run the function: 0.001672983169555664\n",
      "\n"
     ]
    }
   ],
   "source": [
    "import time\n",
    "\n",
    "\n",
    "def timing_function(some_function):\n",
    "\n",
    "    \"\"\"\n",
    "    Outputs the time a function takes\n",
    "    to execute.\n",
    "    \"\"\"\n",
    "\n",
    "    def wrapper():\n",
    "        t1 = time.time()\n",
    "        some_function()\n",
    "        t2 = time.time()\n",
    "        return \"Time it took to run the function: \" + str((t2 - t1)) + \"\\n\"\n",
    "    return wrapper\n",
    "\n",
    "\n",
    "@timing_function\n",
    "def my_function():\n",
    "    num_list = []\n",
    "    for num in (range(0, 10000)):\n",
    "        num_list.append(num)\n",
    "    print(\"\\nSum of all the numbers: \" + str((sum(num_list))))\n",
    "\n",
    "\n",
    "print(my_function())"
   ]
  },
  {
   "cell_type": "code",
   "execution_count": null,
   "metadata": {
    "collapsed": true
   },
   "outputs": [],
   "source": []
  },
  {
   "cell_type": "code",
   "execution_count": 33,
   "metadata": {
    "collapsed": false
   },
   "outputs": [],
   "source": [
    "import time\n",
    "\n",
    "\n",
    "def timing_function(some_function):\n",
    "\n",
    "    \"\"\"\n",
    "    Outputs the time a function takes\n",
    "    to execute.\n",
    "    \"\"\"\n",
    "\n",
    "    def wrapper():\n",
    "        t1 = time.time()\n",
    "        some_function()\n",
    "        t2 = time.time()\n",
    "        return \"Time it took to run the function: \" + str((t2 - t1)) + \"\\n\"\n",
    "    return wrapper"
   ]
  },
  {
   "cell_type": "code",
   "execution_count": null,
   "metadata": {
    "collapsed": true
   },
   "outputs": [],
   "source": []
  },
  {
   "cell_type": "code",
   "execution_count": 34,
   "metadata": {
    "collapsed": false
   },
   "outputs": [
    {
     "name": "stdout",
     "output_type": "stream",
     "text": [
      "\n",
      "Sum of all the numbers: 49995000\n",
      "Time it took to run the function: 0.0021097660064697266\n",
      "\n"
     ]
    }
   ],
   "source": [
    "@timing_function\n",
    "def my_function():\n",
    "    num_list = []\n",
    "    for num in (range(0, 10000)):\n",
    "        num_list.append(num)\n",
    "    print(\"\\nSum of all the numbers: \" + str((sum(num_list))))\n",
    "\n",
    "\n",
    "print(my_function())"
   ]
  },
  {
   "cell_type": "code",
   "execution_count": null,
   "metadata": {
    "collapsed": true
   },
   "outputs": [],
   "source": []
  },
  {
   "cell_type": "code",
   "execution_count": null,
   "metadata": {
    "collapsed": true
   },
   "outputs": [],
   "source": []
  },
  {
   "cell_type": "code",
   "execution_count": null,
   "metadata": {
    "collapsed": true
   },
   "outputs": [],
   "source": []
  },
  {
   "cell_type": "code",
   "execution_count": null,
   "metadata": {
    "collapsed": true
   },
   "outputs": [],
   "source": []
  },
  {
   "cell_type": "code",
   "execution_count": null,
   "metadata": {
    "collapsed": true
   },
   "outputs": [],
   "source": []
  },
  {
   "cell_type": "code",
   "execution_count": 48,
   "metadata": {
    "collapsed": false
   },
   "outputs": [
    {
     "name": "stdout",
     "output_type": "stream",
     "text": [
      "Oh hi!\n",
      "The result sure is 25!\n",
      "None\n",
      "Oh hi Aaron!\n",
      "The result sure is 25!\n",
      "None\n"
     ]
    },
    {
     "ename": "TypeError",
     "evalue": "talky2() missing 1 required positional argument: 'some_function'",
     "output_type": "error",
     "traceback": [
      "\u001b[0;31m---------------------------------------------------------------------------\u001b[0m",
      "\u001b[0;31mTypeError\u001b[0m                                 Traceback (most recent call last)",
      "\u001b[0;32m<ipython-input-48-9a13173afbca>\u001b[0m in \u001b[0;36m<module>\u001b[0;34m()\u001b[0m\n\u001b[1;32m     43\u001b[0m \u001b[0;34m\u001b[0m\u001b[0m\n\u001b[1;32m     44\u001b[0m \u001b[0;32mif\u001b[0m \u001b[0m__name__\u001b[0m \u001b[0;34m==\u001b[0m \u001b[0;34m\"__main__\"\u001b[0m\u001b[0;34m:\u001b[0m\u001b[0;34m\u001b[0m\u001b[0m\n\u001b[0;32m---> 45\u001b[0;31m     \u001b[0mtalky2\u001b[0m\u001b[0;34m(\u001b[0m\u001b[0;34m)\u001b[0m\u001b[0;34m\u001b[0m\u001b[0m\n\u001b[0m\u001b[1;32m     46\u001b[0m     \u001b[0mtalky_with2\u001b[0m\u001b[0;34m(\u001b[0m\u001b[0;34m)\u001b[0m\u001b[0;34m\u001b[0m\u001b[0m\n\u001b[1;32m     47\u001b[0m \u001b[0;34m\u001b[0m\u001b[0m\n",
      "\u001b[0;31mTypeError\u001b[0m: talky2() missing 1 required positional argument: 'some_function'"
     ]
    }
   ],
   "source": [
    "#THE FOLLOWING CODE CAN BE PLACED DIRECTLY IN IPYNB\n",
    "def talky(some_function):\n",
    "    def wrapper(*args, **kwargs):\n",
    "        print(\"Oh hi!\")\n",
    "        print(\"The result sure is\", str(some_function(*args, **kwargs)) + \"!\")\n",
    "    return wrapper\n",
    "\n",
    "def talky_with(name):\n",
    "    def peudo_decorator(some_function):\n",
    "        def wrapper(*args, **kwargs):\n",
    "            print(\"Oh hi\", name +\"!\")\n",
    "            print(\"The result sure is\", str(some_function(*args, **kwargs)) + \"!\")\n",
    "        return wrapper\n",
    "    return peudo_decorator\n",
    "\n",
    "@talky # i.e. talky(square)\n",
    "def square(num):\n",
    "    return num * num\n",
    "\n",
    "print(square(5))\n",
    "\n",
    "@talky_with(\"Aaron\")\n",
    "def square(num):\n",
    "    return num * num\n",
    "\n",
    "print(square(5))\n",
    "\n",
    "#THE FOLLOWING CODE SHOULD BE PLACED IN A FILE CALLED TALKY_WITH.PY\n",
    "def talky2(some_function):\n",
    "    def wrapper(*args, **kwargs):\n",
    "        print(\"Oh hi!\")\n",
    "        print(\"The result sure is\", str(some_function(*args, **kwargs)) + \"!\")\n",
    "    return wrapper\n",
    "\n",
    "\n",
    "def talky_with2(name):\n",
    "    def peudo_decorator(some_function):\n",
    "        def wrapper(*args, **kwargs):\n",
    "            print(\"Oh hi\", name +\"!\")\n",
    "            print(\"The result sure is\", str(some_function(*args, **kwargs)) + \"!\")\n",
    "        return wrapper\n",
    "    return peudo_decorator\n",
    "\n",
    "if __name__ == \"__main__\":\n",
    "    talky2()\n",
    "    talky_with2()\n",
    "    \n",
    "#THE FOLLOWING CODE CAN BE RUN AS A PY SCRIPT\n",
    "from talky_with import talky2, talky_with2\n",
    "\n",
    "@talky2 # i.e. talky(square)\n",
    "def square(num):\n",
    "    return num * num\n",
    "\n",
    "print(square(5))\n",
    "\n",
    "@talky_with2(\"Aaron\")\n",
    "def square(num):\n",
    "    return num * num\n",
    "\n",
    "print(square(5))"
   ]
  },
  {
   "cell_type": "code",
   "execution_count": null,
   "metadata": {
    "collapsed": true
   },
   "outputs": [],
   "source": []
  }
 ],
 "metadata": {
  "kernelspec": {
   "display_name": "Python 3",
   "language": "python",
   "name": "python3"
  },
  "language_info": {
   "codemirror_mode": {
    "name": "ipython",
    "version": 3
   },
   "file_extension": ".py",
   "mimetype": "text/x-python",
   "name": "python",
   "nbconvert_exporter": "python",
   "pygments_lexer": "ipython3",
   "version": "3.6.0"
  }
 },
 "nbformat": 4,
 "nbformat_minor": 2
}
