{
 "cells": [
  {
   "cell_type": "code",
   "execution_count": 41,
   "metadata": {
    "collapsed": false
   },
   "outputs": [],
   "source": [
    "import numpy as np\n",
    "import pandas as pd\n",
    "import matplotlib.pyplot as plt\n",
    "from bokeh.charts import Scatter, BoxPlot, output_file, show\n",
    "from bokeh.plotting import figure, output_file, show"
   ]
  },
  {
   "cell_type": "code",
   "execution_count": 11,
   "metadata": {
    "collapsed": true
   },
   "outputs": [],
   "source": [
    "df = pd.read_csv(\"hospital_mortailty.csv\")"
   ]
  },
  {
   "cell_type": "code",
   "execution_count": 12,
   "metadata": {
    "collapsed": false
   },
   "outputs": [
    {
     "data": {
      "text/plain": [
       "Index(['age', 'hospital', 'mortality'], dtype='object')"
      ]
     },
     "execution_count": 12,
     "metadata": {},
     "output_type": "execute_result"
    }
   ],
   "source": [
    "df.columns"
   ]
  },
  {
   "cell_type": "code",
   "execution_count": 13,
   "metadata": {
    "collapsed": false
   },
   "outputs": [],
   "source": [
    "# p = Scatter(df, x = \"age\", y = \"mortality\", title = \"\", xlabel = \"Age\", ylabel = \"Mortality\")\n",
    "# output_file(\"temp.html\")\n",
    "# show(p)"
   ]
  },
  {
   "cell_type": "code",
   "execution_count": 55,
   "metadata": {
    "collapsed": false
   },
   "outputs": [
    {
     "data": {
      "text/html": [
       "<div>\n",
       "<style>\n",
       "    .dataframe thead tr:only-child th {\n",
       "        text-align: right;\n",
       "    }\n",
       "\n",
       "    .dataframe thead th {\n",
       "        text-align: left;\n",
       "    }\n",
       "\n",
       "    .dataframe tbody tr th {\n",
       "        vertical-align: top;\n",
       "    }\n",
       "</style>\n",
       "<table border=\"1\" class=\"dataframe\">\n",
       "  <thead>\n",
       "    <tr>\n",
       "      <th></th>\n",
       "      <th>hospital</th>\n",
       "      <th>age</th>\n",
       "      <th colspan=\"3\" halign=\"left\">mortality</th>\n",
       "    </tr>\n",
       "    <tr>\n",
       "      <th></th>\n",
       "      <th></th>\n",
       "      <th></th>\n",
       "      <th>count</th>\n",
       "      <th>mean</th>\n",
       "      <th>std</th>\n",
       "    </tr>\n",
       "  </thead>\n",
       "  <tbody>\n",
       "    <tr>\n",
       "      <th>0</th>\n",
       "      <td>1.0</td>\n",
       "      <td>20</td>\n",
       "      <td>370</td>\n",
       "      <td>0.259459</td>\n",
       "      <td>0.438932</td>\n",
       "    </tr>\n",
       "    <tr>\n",
       "      <th>1</th>\n",
       "      <td>1.0</td>\n",
       "      <td>21</td>\n",
       "      <td>350</td>\n",
       "      <td>0.254286</td>\n",
       "      <td>0.436082</td>\n",
       "    </tr>\n",
       "    <tr>\n",
       "      <th>2</th>\n",
       "      <td>1.0</td>\n",
       "      <td>22</td>\n",
       "      <td>374</td>\n",
       "      <td>0.216578</td>\n",
       "      <td>0.412464</td>\n",
       "    </tr>\n",
       "    <tr>\n",
       "      <th>3</th>\n",
       "      <td>1.0</td>\n",
       "      <td>23</td>\n",
       "      <td>325</td>\n",
       "      <td>0.283077</td>\n",
       "      <td>0.451188</td>\n",
       "    </tr>\n",
       "    <tr>\n",
       "      <th>4</th>\n",
       "      <td>1.0</td>\n",
       "      <td>24</td>\n",
       "      <td>330</td>\n",
       "      <td>0.257576</td>\n",
       "      <td>0.437963</td>\n",
       "    </tr>\n",
       "  </tbody>\n",
       "</table>\n",
       "</div>"
      ],
      "text/plain": [
       "  hospital age mortality                    \n",
       "                   count      mean       std\n",
       "0      1.0  20       370  0.259459  0.438932\n",
       "1      1.0  21       350  0.254286  0.436082\n",
       "2      1.0  22       374  0.216578  0.412464\n",
       "3      1.0  23       325  0.283077  0.451188\n",
       "4      1.0  24       330  0.257576  0.437963"
      ]
     },
     "execution_count": 55,
     "metadata": {},
     "output_type": "execute_result"
    }
   ],
   "source": [
    "f = {'mortality':['count','mean', \"std\"]}\n",
    "agg = pd.DataFrame(df.groupby([\"hospital\", \"age\"]).agg(f))\n",
    "agg.reset_index(inplace = True)\n",
    "agg.head(5)"
   ]
  },
  {
   "cell_type": "code",
   "execution_count": null,
   "metadata": {
    "collapsed": true
   },
   "outputs": [],
   "source": [
    "# help(p)"
   ]
  },
  {
   "cell_type": "code",
   "execution_count": 40,
   "metadata": {
    "collapsed": false
   },
   "outputs": [
    {
     "name": "stderr",
     "output_type": "stream",
     "text": [
      "INFO:bokeh.core.state:Session output file 'temp.html' already exists, will be overwritten.\n"
     ]
    }
   ],
   "source": [
    "TOOLS=\"hover,crosshair,pan,wheel_zoom,zoom_in,zoom_out,box_zoom,undo,redo,reset,tap,save,box_select,poly_select,lasso_select,\"\n",
    "p = figure(tools=TOOLS) # legend = True\n",
    "cond = agg[\"hospital\"] == 1\n",
    "hosp1 = agg[cond]\n",
    "p.circle(hosp1[\"age\"], hosp1[\"mortality\"], color = \"Red\")\n",
    "\n",
    "cond = agg[\"hospital\"] == 2\n",
    "hosp2 = agg[cond]\n",
    "p.circle(hosp2[\"age\"], hosp2[\"mortality\"], color = \"Blue\")\n",
    "output_file(\"temp.html\")\n",
    "show(p)"
   ]
  },
  {
   "cell_type": "code",
   "execution_count": null,
   "metadata": {
    "collapsed": false
   },
   "outputs": [],
   "source": [
    "TOOLS=\"hover,crosshair,pan,wheel_zoom,zoom_in,zoom_out,box_zoom,undo,redo,reset,tap,save,box_select,poly_select,lasso_select,\"\n",
    "p = figure(tools=TOOLS) # legend = True\n",
    "cond = agg[\"hospital\"] == 1\n",
    "hosp1 = agg[cond]\n",
    "p.line(hosp1[\"age\"], hosp1[\"mortality\"], color = \"Red\")\n",
    "\n",
    "cond = agg[\"hospital\"] == 2\n",
    "hosp2 = agg[cond]\n",
    "p.line(hosp2[\"age\"], hosp2[\"mortality\"], color = \"Blue\")\n",
    "output_file(\"temp.html\")\n",
    "show(p)"
   ]
  },
  {
   "cell_type": "code",
   "execution_count": 49,
   "metadata": {
    "collapsed": false
   },
   "outputs": [],
   "source": [
    "cond = df[\"hospital\"] == 1\n",
    "hosp1 = df[cond]\n",
    "data = {\"y\": hosp1[\"age\"], \"z\": hosp1[\"mortality\"]}\n",
    "# p = BoxPlot(data, title = \"\")\n",
    "\n",
    "# # cond = agg[\"hospital\"] == 2\n",
    "# # hosp2 = agg[cond]\n",
    "# # p.BoxPlot(hosp2[\"age\"], hosp2[\"mortality\"], color = \"Blue\")\n",
    "# output_file(\"box.html\")\n",
    "# show(p)"
   ]
  },
  {
   "cell_type": "code",
   "execution_count": 51,
   "metadata": {
    "collapsed": false
   },
   "outputs": [
    {
     "name": "stderr",
     "output_type": "stream",
     "text": [
      "INFO:bokeh.core.state:Session output file 'box.html' already exists, will be overwritten.\n"
     ]
    }
   ],
   "source": [
    "data = {\"y\": df[\"age\"], \"z\": df[\"mortality\"]}\n",
    "p = BoxPlot(data, title = \"\")\n",
    "output_file(\"box.html\")\n",
    "show(p)"
   ]
  },
  {
   "cell_type": "code",
   "execution_count": null,
   "metadata": {
    "collapsed": true
   },
   "outputs": [],
   "source": []
  }
 ],
 "metadata": {
  "kernelspec": {
   "display_name": "Python 3",
   "language": "python",
   "name": "python3"
  },
  "language_info": {
   "codemirror_mode": {
    "name": "ipython",
    "version": 3
   },
   "file_extension": ".py",
   "mimetype": "text/x-python",
   "name": "python",
   "nbconvert_exporter": "python",
   "pygments_lexer": "ipython3",
   "version": "3.6.0"
  }
 },
 "nbformat": 4,
 "nbformat_minor": 2
}
