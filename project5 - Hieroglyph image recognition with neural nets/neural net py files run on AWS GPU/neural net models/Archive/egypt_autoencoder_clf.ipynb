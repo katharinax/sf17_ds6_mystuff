{
 "cells": [
  {
   "cell_type": "code",
   "execution_count": 1,
   "metadata": {},
   "outputs": [
    {
     "name": "stderr",
     "output_type": "stream",
     "text": [
      "Using Theano backend.\n"
     ]
    }
   ],
   "source": [
    "import pandas as pd \n",
    "import cv2, numpy as np\n",
    "from scipy.stats import norm\n",
    "from scipy.misc import imread\n",
    "import re\n",
    "import idx2numpy as idx\n",
    "from copy import copy\n",
    "import os\n",
    "from matplotlib import pyplot as plt\n",
    "import matplotlib.patches as mpatches\n",
    "import matplotlib.image as mpimg\n",
    "%matplotlib inline\n",
    "\n",
    "from sklearn.metrics import precision_recall_fscore_support, f1_score, accuracy_score, precision_score, recall_score\n",
    "from sklearn.manifold import TSNE\n",
    "\n",
    "# keras\n",
    "np.random.seed(13)\n",
    "from keras.models import Sequential, Model\n",
    "from keras.layers import Dense, Embedding, Reshape, Activation, SimpleRNN, GRU, LSTM, Convolution1D, \\\n",
    "                         MaxPooling1D, Merge, Dropout, Input\n",
    "from IPython.display import SVG\n",
    "from keras.utils import np_utils\n",
    "from keras.utils.data_utils import get_file\n",
    "from keras.preprocessing.text import Tokenizer\n",
    "#from keras.utils.visualize_util import model_to_dot, plot\n",
    "from keras.utils.vis_utils import model_to_dot, plot_model\n",
    "from keras.datasets import imdb, reuters\n",
    "from keras.preprocessing import sequence\n",
    "from keras.optimizers import SGD, RMSprop, Adam\n",
    "from keras import backend as K\n",
    "from keras.layers import Input, Flatten, Dense, Dropout, Activation, Lambda, Layer # keras.layers.core \n",
    "from keras.layers.convolutional import Convolution2D, MaxPooling2D, ZeroPadding2D\n",
    "from keras.layers.normalization import BatchNormalization\n",
    "from keras.datasets import mnist\n",
    "from keras.applications.vgg16 import VGG16\n",
    "from keras import metrics\n",
    "\n",
    "# logging\n",
    "import logging\n",
    "from importlib import reload\n",
    "reload(logging)\n",
    "logging.basicConfig(format='%(asctime)s : %(levelname)s : %(message)s', level=logging.INFO)"
   ]
  },
  {
   "cell_type": "code",
   "execution_count": 2,
   "metadata": {
    "collapsed": true
   },
   "outputs": [],
   "source": [
    "rootpath = \"../EgyptianHieroglyphDataset/MyTrainTest\"\n",
    "batch_size = 32 // 2 \n",
    "        # TODO 32 is standard; decrease futher for small datasets; \n",
    "        # has to be divisible by num training rows; must be int and not float\n",
    "original_dim = 75 * 50\n",
    "intermediate_dim = 850\n",
    "latent_dim = 10 # had it at 170 but Andrew didn't recommend it\n",
    "epochs = 10 # 50\n",
    "epsilon_std = 1.0\n",
    "n_classes = 170"
   ]
  },
  {
   "cell_type": "code",
   "execution_count": 3,
   "metadata": {
    "collapsed": true
   },
   "outputs": [],
   "source": [
    "def get_data(tr_ts):\n",
    "    \"\"\"\n",
    "    tr_ts: train or test as a string\n",
    "    \"\"\"\n",
    "    if tr_ts == \"train\":\n",
    "        try:\n",
    "            x_train = np.load(\"../data/x_train.pkl\")\n",
    "            y_train = np.load(\"../data/y_train.pkl\")\n",
    "        except:\n",
    "            logging.info(\"Pickle files not found. Creating data from png files.\")\n",
    "            x_train, y_train = get_tr_array_from_png()\n",
    "            x_train.dump(\"../data/x_train.pkl\")\n",
    "            y_train.dump(\"../data/y_train.pkl\")\n",
    "        return x_train, y_train\n",
    "    else:\n",
    "        try:\n",
    "            x_test = np.load(\"../data/x_test.pkl\")\n",
    "            y_test = np.load(\"../data/y_test.pkl\")\n",
    "        except:\n",
    "            logging.info(\"Pickle files not found. Creating data from png files.\")\n",
    "            x_test, y_test = get_ts_array_from_png()\n",
    "            x_test.dump(\"../data/x_test.pkl\")\n",
    "            y_test.dump(\"../data/y_test.pkl\")\n",
    "        return x_test, y_test          "
   ]
  },
  {
   "cell_type": "code",
   "execution_count": 4,
   "metadata": {},
   "outputs": [],
   "source": [
    "def get_tr_array_from_png():\n",
    "    \"\"\"\n",
    "    data description:\n",
    "        Dataset is compiled by Morris Franken, complementary to the paper titeled \"Automatic Egyptian \\\n",
    "        Hieroglyph Recognition by Retrieving Images as Texts\" (ACM Conference on Multimedia, 2013).\n",
    "    Shape of png file as rgb array:  (75, 50, 3)\n",
    "    future work: too many caveats to fit model to generator for now; need to try and fix it\n",
    "    \"\"\"\n",
    "    n_symbols = symbol_df.shape[0]\n",
    "    batch_arrayfile = np.empty((0, original_dim))\n",
    "    batch_label = np.empty((0, n_symbols))\n",
    "    tr_rootpath = os.path.join(rootpath, \"train\")\n",
    "    subdirs = [x for x in os.listdir(tr_rootpath) if re.search(r\"UNKNOWN|^\\.\", x) == None]\n",
    "    for subdirpath in subdirs:\n",
    "        subdir = os.path.join(tr_rootpath, subdirpath)\n",
    "        files = [x for x in os.listdir(subdir) if re.search(r\"UNKNOWN|^\\.\", x) == None]\n",
    "        for fpath in files:        \n",
    "            pngfile = os.path.join(subdir, fpath)\n",
    "            \n",
    "            # get y\n",
    "            label_txt = re.sub(r\"^.*_(?P<symbol>.*)\\.png$\", \"\\g<symbol>\", pngfile)\n",
    "            cond = symbol_df[\"symbol\"] == label_txt\n",
    "            label_num = int(symbol_df.loc[cond, \"symbol_num\"])\n",
    "            label = np_utils.to_categorical(label_num, n_symbols)\n",
    "            batch_label = np.vstack([batch_label, label])  \n",
    "            \n",
    "            # get x\n",
    "            arrayfile = imread(pngfile, flatten = True, mode = \"RGB\").astype('float32') # flatten means grey scale\n",
    "            arrayfile = np.reshape(arrayfile, original_dim) / 255.\n",
    "            batch_arrayfile = np.vstack([batch_arrayfile, arrayfile])     \n",
    "    return batch_arrayfile, batch_label"
   ]
  },
  {
   "cell_type": "code",
   "execution_count": 5,
   "metadata": {
    "collapsed": true
   },
   "outputs": [],
   "source": [
    "def get_ts_array_from_png():\n",
    "    \"\"\"\n",
    "    data description:\n",
    "        Dataset is compiled by Morris Franken, complementary to the paper titeled \"Automatic Egyptian \\\n",
    "        Hieroglyph Recognition by Retrieving Images as Texts\" (ACM Conference on Multimedia, 2013).\n",
    "    Shape of png file as rgb array:  (75, 50, 3)\n",
    "    future work: too many caveats to fit model to generator for now; need to try and fix it\n",
    "    \"\"\"\n",
    "    n_symbols = symbol_df.shape[0]\n",
    "    batch_arrayfile = np.empty((0, original_dim))\n",
    "    batch_label = np.empty((0, n_symbols))\n",
    "    ts_rootpath = os.path.join(rootpath, \"test\")\n",
    "    files = [x for x in os.listdir(ts_rootpath) if re.search(r\"UNKNOWN|^\\.\", x) == None]\n",
    "    for fpath in files:\n",
    "        pngfile = os.path.join(ts_rootpath, fpath)\n",
    "            \n",
    "        # get y\n",
    "        label_txt = re.sub(r\"^.*_(?P<symbol>.*)\\.png$\", \"\\g<symbol>\", pngfile)\n",
    "        try:\n",
    "            cond = symbol_df[\"symbol\"] == label_txt\n",
    "            label_num = int(symbol_df.loc[cond, \"symbol_num\"])\n",
    "            label = np_utils.to_categorical(label_num, n_symbols)\n",
    "            batch_label = np.vstack([batch_label, label])\n",
    "            \n",
    "            # get x\n",
    "            arrayfile = imread(pngfile, flatten = True, mode = \"RGB\").astype('float32') # flatten means grey scale\n",
    "            arrayfile = np.reshape(arrayfile, original_dim) / 255.\n",
    "            batch_arrayfile = np.vstack([batch_arrayfile, arrayfile]) \n",
    "        except:\n",
    "            logging.debug(label_txt + \" not found in dictionary. Fix this!\") \n",
    "    return batch_arrayfile, batch_label"
   ]
  },
  {
   "cell_type": "code",
   "execution_count": 6,
   "metadata": {
    "collapsed": true
   },
   "outputs": [],
   "source": [
    "def sampling(args):\n",
    "    z_mean, z_log_var = args\n",
    "    epsilon = K.random_normal(shape=(batch_size, latent_dim), mean=0.,\n",
    "                              stddev=epsilon_std)\n",
    "    return z_mean + K.exp(z_log_var / 2) * epsilon"
   ]
  },
  {
   "cell_type": "code",
   "execution_count": 7,
   "metadata": {
    "collapsed": true
   },
   "outputs": [],
   "source": [
    "# Custom loss layer\n",
    "class CustomVariationalLayer(Layer):\n",
    "    def __init__(self, **kwargs):\n",
    "        self.is_placeholder = True\n",
    "        super(CustomVariationalLayer, self).__init__(**kwargs)\n",
    "\n",
    "    def vae_loss(self, x, x_decoded_mean):\n",
    "        xent_loss = original_dim * metrics.binary_crossentropy(x, x_decoded_mean)\n",
    "        kl_loss = - 0.5 * K.sum(1 + z_log_var - K.square(z_mean) - K.exp(z_log_var), axis=-1)\n",
    "        return K.mean(xent_loss + kl_loss)\n",
    "\n",
    "    def call(self, inputs):\n",
    "        x = inputs[0]\n",
    "        x_decoded_mean = inputs[1]\n",
    "        loss = self.vae_loss(x, x_decoded_mean)\n",
    "        self.add_loss(loss, inputs=inputs)\n",
    "        # We won't actually use the output.\n",
    "        return x"
   ]
  },
  {
   "cell_type": "markdown",
   "metadata": {},
   "source": [
    "### import data"
   ]
  },
  {
   "cell_type": "code",
   "execution_count": 8,
   "metadata": {
    "collapsed": true
   },
   "outputs": [],
   "source": [
    "# !pwd"
   ]
  },
  {
   "cell_type": "code",
   "execution_count": 9,
   "metadata": {},
   "outputs": [
    {
     "data": {
      "text/html": [
       "<div>\n",
       "<style>\n",
       "    .dataframe thead tr:only-child th {\n",
       "        text-align: right;\n",
       "    }\n",
       "\n",
       "    .dataframe thead th {\n",
       "        text-align: left;\n",
       "    }\n",
       "\n",
       "    .dataframe tbody tr th {\n",
       "        vertical-align: top;\n",
       "    }\n",
       "</style>\n",
       "<table border=\"1\" class=\"dataframe\">\n",
       "  <thead>\n",
       "    <tr style=\"text-align: right;\">\n",
       "      <th></th>\n",
       "      <th>symbol_num</th>\n",
       "      <th>symbol</th>\n",
       "    </tr>\n",
       "  </thead>\n",
       "  <tbody>\n",
       "    <tr>\n",
       "      <th>169</th>\n",
       "      <td>169</td>\n",
       "      <td>Z7</td>\n",
       "    </tr>\n",
       "  </tbody>\n",
       "</table>\n",
       "</div>"
      ],
      "text/plain": [
       "     symbol_num symbol\n",
       "169         169     Z7"
      ]
     },
     "execution_count": 9,
     "metadata": {},
     "output_type": "execute_result"
    }
   ],
   "source": [
    "tr_rootpath = os.path.join(rootpath, \"train\")\n",
    "symbol_df = [x for x in os.listdir(tr_rootpath) if re.search(r\"UNKNOWN|^\\.\", x) == None]\n",
    "symbol_df = pd.DataFrame(sorted(symbol_df))\n",
    "symbol_df.reset_index(inplace = True)\n",
    "symbol_df.columns = [\"symbol_num\", \"symbol\"]\n",
    "symbol_df.tail(1)"
   ]
  },
  {
   "cell_type": "code",
   "execution_count": 10,
   "metadata": {},
   "outputs": [],
   "source": [
    "x_train, y_train = get_data(\"train\")"
   ]
  },
  {
   "cell_type": "code",
   "execution_count": 11,
   "metadata": {},
   "outputs": [
    {
     "name": "stdout",
     "output_type": "stream",
     "text": [
      "(3584, 3750) (3584, 170)\n"
     ]
    }
   ],
   "source": [
    "print(x_train.shape, y_train.shape)"
   ]
  },
  {
   "cell_type": "code",
   "execution_count": 12,
   "metadata": {},
   "outputs": [],
   "source": [
    "x_test, y_test = get_data(\"test\")"
   ]
  },
  {
   "cell_type": "code",
   "execution_count": 13,
   "metadata": {},
   "outputs": [
    {
     "name": "stdout",
     "output_type": "stream",
     "text": [
      "(448, 3750) (448, 170)\n"
     ]
    }
   ],
   "source": [
    "print(x_test.shape, y_test.shape)"
   ]
  },
  {
   "cell_type": "markdown",
   "metadata": {},
   "source": [
    "### build vae"
   ]
  },
  {
   "cell_type": "code",
   "execution_count": 14,
   "metadata": {
    "collapsed": true
   },
   "outputs": [],
   "source": [
    "# TODO convolution, and then encode?"
   ]
  },
  {
   "cell_type": "code",
   "execution_count": 15,
   "metadata": {
    "collapsed": true
   },
   "outputs": [],
   "source": [
    "x = Input(batch_shape=(batch_size, original_dim), name = \"input\")\n",
    "h = Dense(intermediate_dim, activation='relu', name = \"encoder1\")(x)\n",
    "z_mean = Dense(latent_dim, name = \"latent\")(h)\n",
    "z_log_var = Dense(latent_dim, name = \"latent_var\")(h)"
   ]
  },
  {
   "cell_type": "code",
   "execution_count": 16,
   "metadata": {},
   "outputs": [],
   "source": [
    "# note that \"output_shape\" isn't necessary with the TensorFlow backend\n",
    "z = Lambda(sampling, output_shape=(latent_dim,), name = \"lambda\")([z_mean, z_log_var])"
   ]
  },
  {
   "cell_type": "code",
   "execution_count": 17,
   "metadata": {
    "collapsed": true
   },
   "outputs": [],
   "source": [
    "# we instantiate these layers separately so as to reuse them later\n",
    "decoder_h = Dense(intermediate_dim, activation='relu')\n",
    "decoder_mean = Dense(original_dim, activation='sigmoid')\n",
    "h_decoded = decoder_h(z)\n",
    "x_decoded_mean = decoder_mean(h_decoded)"
   ]
  },
  {
   "cell_type": "code",
   "execution_count": 18,
   "metadata": {
    "collapsed": true
   },
   "outputs": [],
   "source": [
    "y = CustomVariationalLayer()([x, x_decoded_mean])"
   ]
  },
  {
   "cell_type": "code",
   "execution_count": 19,
   "metadata": {
    "collapsed": true
   },
   "outputs": [],
   "source": [
    "vae = Model(inputs=x, outputs=y)"
   ]
  },
  {
   "cell_type": "code",
   "execution_count": 20,
   "metadata": {},
   "outputs": [
    {
     "name": "stderr",
     "output_type": "stream",
     "text": [
      "/home/katharina/anaconda3/lib/python3.5/site-packages/ipykernel/__main__.py:3: UserWarning: Output \"custom_variational_layer_1\" missing from loss dictionary. We assume this was done on purpose, and we will not be expecting any data to be passed to \"custom_variational_layer_1\" during training.\n",
      "  app.launch_new_instance()\n"
     ]
    }
   ],
   "source": [
    "# rmsprop = RMSprop(lr=0.001, rho=0.9, epsilon=1e-08, decay=0.0)\n",
    "adm = Adam(lr=0.001, beta_1=0.9, beta_2=0.999, epsilon=1e-08, decay=0.0)\n",
    "vae.compile(optimizer=adm, loss=None) # rmsprop "
   ]
  },
  {
   "cell_type": "markdown",
   "metadata": {},
   "source": [
    "### train vae"
   ]
  },
  {
   "cell_type": "code",
   "execution_count": 21,
   "metadata": {},
   "outputs": [
    {
     "name": "stdout",
     "output_type": "stream",
     "text": [
      "Train on 3584 samples, validate on 448 samples\n",
      "Epoch 1/10\n",
      "3584/3584 [==============================] - 23s - loss: 2097.3727 - val_loss: 2149.1686\n",
      "Epoch 2/10\n",
      "3584/3584 [==============================] - 22s - loss: 2058.5758 - val_loss: 2168.0678\n",
      "Epoch 3/10\n",
      "3584/3584 [==============================] - 22s - loss: 2046.4633 - val_loss: 2141.6497\n",
      "Epoch 4/10\n",
      "3584/3584 [==============================] - 59s - loss: 2039.5353 - val_loss: 2126.0405\n",
      "Epoch 5/10\n",
      "3584/3584 [==============================] - 53s - loss: 2034.5784 - val_loss: 2125.0604\n",
      "Epoch 6/10\n",
      "3584/3584 [==============================] - 52s - loss: 2031.9612 - val_loss: 2122.1294\n",
      "Epoch 7/10\n",
      "3584/3584 [==============================] - 52s - loss: 2030.1031 - val_loss: 2120.2349\n",
      "Epoch 8/10\n",
      "3584/3584 [==============================] - 52s - loss: 2026.0621 - val_loss: 2112.7509\n",
      "Epoch 9/10\n",
      "3584/3584 [==============================] - 53s - loss: 2023.7579 - val_loss: 2111.3010\n",
      "Epoch 10/10\n",
      "3584/3584 [==============================] - 53s - loss: 2022.8143 - val_loss: 2104.5865\n"
     ]
    }
   ],
   "source": [
    "# train the VAE on MNIST digits\n",
    "history_callback = vae.fit(x_train,\n",
    "                           shuffle=True,\n",
    "                           epochs=epochs,\n",
    "                           batch_size=batch_size,\n",
    "                           validation_data=(x_test, x_test))\n",
    "\n",
    "# vae.fit_generator(tr_generator,\n",
    "#         epochs=epochs,\n",
    "#         steps_per_epoch = 100, \n",
    "#         validation_data=ts_generator, \n",
    "#         validation steps = 20)"
   ]
  },
  {
   "cell_type": "code",
   "execution_count": 27,
   "metadata": {},
   "outputs": [
    {
     "data": {
      "image/png": "[encoded data removed]",
      "text/plain": [
       "<matplotlib.figure.Figure at 0x7f1e7a6776a0>"
      ]
     },
     "metadata": {},
     "output_type": "display_data"
    }
   ],
   "source": [
    "plt.figure(figsize = (14, 4))\n",
    "xaxis = range(epochs)\n",
    "plt.plot(xaxis, history_callback.history['loss'], label = \"train\")\n",
    "plt.plot(xaxis, history_callback.history['val_loss'], label = \"test\")\n",
    "plt.xlabel(\"epoch\")\n",
    "plt.ylabel(\"loss\")\n",
    "plt.legend()\n",
    "plt.show()"
   ]
  },
  {
   "cell_type": "code",
   "execution_count": null,
   "metadata": {
    "collapsed": true
   },
   "outputs": [],
   "source": []
  },
  {
   "cell_type": "code",
   "execution_count": null,
   "metadata": {
    "collapsed": true
   },
   "outputs": [],
   "source": []
  },
  {
   "cell_type": "markdown",
   "metadata": {},
   "source": [
    "### get a separate model (the encoder) that outputs latent features"
   ]
  },
  {
   "cell_type": "code",
   "execution_count": null,
   "metadata": {},
   "outputs": [],
   "source": [
    "# build a model to project inputs on the latent space\n",
    "encoder = Model(inputs=x, outputs=z_mean)"
   ]
  },
  {
   "cell_type": "code",
   "execution_count": null,
   "metadata": {
    "collapsed": true
   },
   "outputs": [],
   "source": [
    "encoder_wt = encoder.get_weights()"
   ]
  },
  {
   "cell_type": "code",
   "execution_count": null,
   "metadata": {
    "scrolled": true
   },
   "outputs": [],
   "source": [
    "print(encoder_wt[0].shape, encoder_wt[1].shape, encoder_wt[2].shape, encoder_wt[3].shape)"
   ]
  },
  {
   "cell_type": "code",
   "execution_count": null,
   "metadata": {},
   "outputs": [],
   "source": [
    "encoder.summary()"
   ]
  },
  {
   "cell_type": "code",
   "execution_count": null,
   "metadata": {},
   "outputs": [],
   "source": [
    "encoder.layers"
   ]
  },
  {
   "cell_type": "markdown",
   "metadata": {},
   "source": [
    "### explore encoder result"
   ]
  },
  {
   "cell_type": "code",
   "execution_count": null,
   "metadata": {},
   "outputs": [],
   "source": [
    "x_train_encoded = encoder.predict(x_train, batch_size=batch_size)\n",
    "tsne = TSNE(n_components = 2)\n",
    "x_train_tsne = tsne.fit_transform(x_train_encoded)"
   ]
  },
  {
   "cell_type": "code",
   "execution_count": null,
   "metadata": {},
   "outputs": [],
   "source": [
    "print(x_train.shape, x_train_encoded.shape, x_train_tsne.shape)"
   ]
  },
  {
   "cell_type": "code",
   "execution_count": null,
   "metadata": {},
   "outputs": [],
   "source": [
    "# img=mpimg.imread(os.path.join(rootpath, \"test\", \"070000_M17.png\"))\n",
    "# plt.imshow(img, cmap='gray')"
   ]
  },
  {
   "cell_type": "code",
   "execution_count": null,
   "metadata": {},
   "outputs": [],
   "source": [
    "y_train_cat = pd.Series(np.argmax(y_train, 1), name = \"true\")\n",
    "plt.figure(figsize = (18, 8))\n",
    "plt.title(\"Latent Space T-SNE\")\n",
    "kwargs = {'alpha': 0.7, 's': 40}\n",
    "\n",
    "classes = set(symbol_df[\"symbol_num\"])\n",
    "if classes:\n",
    "    colormap = plt.cm.rainbow(np.linspace(0, 1, len(classes)))\n",
    "    kwargs['c'] = [colormap[i] for i in y_train_cat]\n",
    "    #kwargs['marker'] = r'$\\diamondsuit$' # TODO customize marker shape. Do it in D3?\n",
    "    ax = plt.subplot(111)\n",
    "    box = ax.get_position()\n",
    "    ax.set_position([box.x0, box.y0, box.width * 0.8, box.height])\n",
    "    handles = [mpatches.Circle((0, 0), label=class_, color=colormap[i])\n",
    "               for i, class_ in enumerate(classes)]\n",
    "#     ax.legend(handles=handles, shadow=True, bbox_to_anchor=(1.05, 0.45),\n",
    "#               fancybox=True, loc='center left')\n",
    "    \n",
    "plt.scatter(x_train_tsne[:, 0],\n",
    "            x_train_tsne[:, 1],\n",
    "            **kwargs)\n",
    "plt.show()"
   ]
  },
  {
   "cell_type": "code",
   "execution_count": null,
   "metadata": {
    "collapsed": true
   },
   "outputs": [],
   "source": []
  },
  {
   "cell_type": "code",
   "execution_count": null,
   "metadata": {
    "collapsed": true
   },
   "outputs": [],
   "source": [
    "# TODO pickle encoder?"
   ]
  },
  {
   "cell_type": "markdown",
   "metadata": {},
   "source": [
    "### build classifier based on latent features"
   ]
  },
  {
   "cell_type": "code",
   "execution_count": null,
   "metadata": {},
   "outputs": [],
   "source": [
    "try:\n",
    "    del clf\n",
    "except:\n",
    "    pass\n",
    "finally:\n",
    "    clf = Sequential()\n",
    "    clf.add(encoder.layers[0])\n",
    "    clf.add(encoder.layers[1])\n",
    "    clf.add(encoder.layers[2])\n",
    "    clf.set_weights(encoder_wt)\n",
    "    \n",
    "    for layer in clf.layers:\n",
    "        layer.trainable = True # False\n",
    "    \n",
    "    clf.add(BatchNormalization(axis=1, momentum=0.99, epsilon=0.001, name='batchnorm1'))\n",
    "    clf.add(Dense(1875, activation='relu', name='clf1'))\n",
    "    clf.add(BatchNormalization(axis=1, momentum=0.99, epsilon=0.001, name='batchnorm2'))\n",
    "    clf.add(Dropout(0.5))\n",
    "    clf.add(Dense(900, activation='relu', name='clf2'))\n",
    "    clf.add(BatchNormalization(axis=1, momentum=0.99, epsilon=0.001, name='batchnorm3'))\n",
    "    clf.add(Dropout(0.7))\n",
    "    clf.add(Dense(n_classes, activation='softmax', name='predictions'))"
   ]
  },
  {
   "cell_type": "code",
   "execution_count": null,
   "metadata": {},
   "outputs": [],
   "source": [
    "clf.summary()"
   ]
  },
  {
   "cell_type": "code",
   "execution_count": null,
   "metadata": {
    "collapsed": true
   },
   "outputs": [],
   "source": [
    "# compile model\n",
    "sgd = SGD(lr=0.01, decay=1e-6, momentum=0.9, nesterov=True) # TODO slowly lower lr to 0.01 or something else\n",
    "clf.compile(optimizer=sgd, loss='categorical_crossentropy')"
   ]
  },
  {
   "cell_type": "markdown",
   "metadata": {},
   "source": [
    "### train classifier"
   ]
  },
  {
   "cell_type": "code",
   "execution_count": null,
   "metadata": {},
   "outputs": [],
   "source": [
    "clf.fit(x_train, y_train,\n",
    "        shuffle=True,\n",
    "        epochs=epochs,\n",
    "        batch_size=batch_size,\n",
    "        validation_data=(x_test, y_test))"
   ]
  },
  {
   "cell_type": "code",
   "execution_count": null,
   "metadata": {
    "collapsed": true
   },
   "outputs": [],
   "source": [
    "# TODO  plot number of epochs (x axis) vs. accuracy (y axis)"
   ]
  },
  {
   "cell_type": "markdown",
   "metadata": {},
   "source": [
    "### explore classifier performance"
   ]
  },
  {
   "cell_type": "code",
   "execution_count": null,
   "metadata": {
    "collapsed": true
   },
   "outputs": [],
   "source": [
    "test_pred = clf.predict(x_test, batch_size=batch_size)"
   ]
  },
  {
   "cell_type": "code",
   "execution_count": null,
   "metadata": {},
   "outputs": [],
   "source": [
    "test_pred_cat = pd.Series(np.argmax(test_pred, 1), name = \"pred\")\n",
    "y_test_cat = pd.Series(np.argmax(y_test, 1), name = \"true\")"
   ]
  },
  {
   "cell_type": "code",
   "execution_count": null,
   "metadata": {},
   "outputs": [],
   "source": [
    "pd.crosstab(test_pred_cat, y_test_cat)"
   ]
  },
  {
   "cell_type": "code",
   "execution_count": null,
   "metadata": {},
   "outputs": [],
   "source": [
    "for avg in [\"micro\", \"macro\"]:\n",
    "    accuracy = accuracy_score(y_test_cat, test_pred_cat)\n",
    "    precision = precision_score(y_test_cat, test_pred_cat, average = avg)\n",
    "    recall = recall_score(y_test_cat, test_pred_cat, average = avg)\n",
    "    f1 = f1_score(y_test_cat, test_pred_cat, average = avg)\n",
    "    print(avg, \"average: accuracy\", format(accuracy, \"6.4f\"), \\\n",
    "          \"precision\", format(precision, \"6.4f\"), \\\n",
    "          \"recall\", format(recall, \"6.4f\"), \\\n",
    "          \"f1\", format(f1, \"6.4f\"))"
   ]
  },
  {
   "cell_type": "code",
   "execution_count": null,
   "metadata": {
    "collapsed": true
   },
   "outputs": [],
   "source": []
  },
  {
   "cell_type": "code",
   "execution_count": null,
   "metadata": {
    "collapsed": true
   },
   "outputs": [],
   "source": []
  },
  {
   "cell_type": "code",
   "execution_count": null,
   "metadata": {
    "collapsed": true
   },
   "outputs": [],
   "source": []
  },
  {
   "cell_type": "code",
   "execution_count": null,
   "metadata": {
    "collapsed": true
   },
   "outputs": [],
   "source": []
  },
  {
   "cell_type": "code",
   "execution_count": null,
   "metadata": {
    "collapsed": true
   },
   "outputs": [],
   "source": []
  },
  {
   "cell_type": "code",
   "execution_count": null,
   "metadata": {
    "collapsed": true
   },
   "outputs": [],
   "source": []
  },
  {
   "cell_type": "code",
   "execution_count": null,
   "metadata": {
    "collapsed": true
   },
   "outputs": [],
   "source": []
  },
  {
   "cell_type": "code",
   "execution_count": null,
   "metadata": {
    "collapsed": true
   },
   "outputs": [],
   "source": []
  },
  {
   "cell_type": "code",
   "execution_count": null,
   "metadata": {
    "collapsed": true
   },
   "outputs": [],
   "source": []
  },
  {
   "cell_type": "code",
   "execution_count": null,
   "metadata": {
    "collapsed": true
   },
   "outputs": [],
   "source": []
  },
  {
   "cell_type": "markdown",
   "metadata": {},
   "source": [
    "### check data imbalance"
   ]
  },
  {
   "cell_type": "code",
   "execution_count": null,
   "metadata": {},
   "outputs": [],
   "source": [
    "y_train_cat = pd.Series(np.argmax(y_train, 1), name = \"true\")\n",
    "y_train_cat.value_counts()"
   ]
  },
  {
   "cell_type": "code",
   "execution_count": null,
   "metadata": {
    "collapsed": true
   },
   "outputs": [],
   "source": []
  }
 ],
 "metadata": {
  "anaconda-cloud": {},
  "kernelspec": {
   "display_name": "Python 3",
   "language": "python",
   "name": "python3"
  },
  "language_info": {
   "codemirror_mode": {
    "name": "ipython",
    "version": 3
   },
   "file_extension": ".py",
   "mimetype": "text/x-python",
   "name": "python",
   "nbconvert_exporter": "python",
   "pygments_lexer": "ipython3",
   "version": "3.6.1"
  }
 },
 "nbformat": 4,
 "nbformat_minor": 2
}
