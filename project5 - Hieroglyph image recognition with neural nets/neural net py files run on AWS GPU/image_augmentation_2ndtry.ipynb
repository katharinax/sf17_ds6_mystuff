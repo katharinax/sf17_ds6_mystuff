{
 "cells": [
  {
   "cell_type": "code",
   "execution_count": 1,
   "metadata": {},
   "outputs": [
    {
     "name": "stderr",
     "output_type": "stream",
     "text": [
      "Using TensorFlow backend.\n"
     ]
    }
   ],
   "source": [
    "import pandas as pd \n",
    "import cv2, numpy as np\n",
    "import random\n",
    "from scipy.stats import norm\n",
    "from scipy.misc import imread, imsave\n",
    "import re\n",
    "import idx2numpy as idx\n",
    "from copy import copy\n",
    "import os\n",
    "from datetime import datetime \n",
    "from matplotlib import pyplot as plt\n",
    "import matplotlib.patches as mpatches\n",
    "import matplotlib.image as mpimg\n",
    "%matplotlib inline\n",
    "\n",
    "from sklearn.metrics import precision_recall_fscore_support, f1_score, accuracy_score, precision_score, recall_score\n",
    "from sklearn.manifold import TSNE\n",
    "\n",
    "# keras\n",
    "np.random.seed(13)\n",
    "import tensorflow as tf\n",
    "from keras.models import Sequential, Model\n",
    "from keras.layers import Dense, Embedding, Reshape, Activation, SimpleRNN, GRU, LSTM, Convolution1D, \\\n",
    "                         MaxPooling1D, Merge, Dropout, Input\n",
    "from IPython.display import SVG\n",
    "from keras.utils import np_utils\n",
    "from keras.utils.data_utils import get_file\n",
    "from keras.preprocessing.text import Tokenizer\n",
    "#from keras.utils.visualize_util import model_to_dot, plot\n",
    "from keras.utils.vis_utils import model_to_dot, plot_model\n",
    "from keras.datasets import imdb, reuters\n",
    "from keras.preprocessing import sequence\n",
    "from keras.optimizers import SGD, RMSprop, Adam\n",
    "from keras import backend as K\n",
    "from keras.layers import Input, Flatten, Dense, Dropout, Activation, Lambda, Layer # keras.layers.core \n",
    "from keras.layers.convolutional import Convolution2D, MaxPooling2D, ZeroPadding2D\n",
    "from keras.layers.normalization import BatchNormalization\n",
    "from keras.datasets import mnist\n",
    "from keras.applications.vgg16 import VGG16\n",
    "from keras import metrics\n",
    "from keras.preprocessing.image import ImageDataGenerator, array_to_img, img_to_array, load_img\n",
    "\n",
    "# logging\n",
    "import logging\n",
    "from importlib import reload\n",
    "reload(logging)\n",
    "logging.basicConfig(format='%(asctime)s : %(levelname)s : %(message)s', level=logging.INFO)"
   ]
  },
  {
   "cell_type": "code",
   "execution_count": 2,
   "metadata": {
    "collapsed": true
   },
   "outputs": [],
   "source": [
    "from copy import copy"
   ]
  },
  {
   "cell_type": "code",
   "execution_count": 3,
   "metadata": {
    "collapsed": true
   },
   "outputs": [],
   "source": [
    "rootpath = \"../EgyptianHieroglyphDataset/MyTrainTest\"\n",
    "original_dim = (75, 50) # without convolutional layers, use 75 * 50\n",
    "batch_size = 32 * 4 # this has to be the same as or multiplication of the param value in the analysis code"
   ]
  },
  {
   "cell_type": "code",
   "execution_count": 4,
   "metadata": {
    "collapsed": true
   },
   "outputs": [],
   "source": [
    "datagen = ImageDataGenerator(\n",
    "        rotation_range=10 # TODO too aggressive; Andrew suggests 10 or less\n",
    "        , width_shift_range=0.05\n",
    "        # , height_shift_range=0.05\n",
    "        # , rescale=1./255 # rescale will happen when I import png at analysis\n",
    "        , shear_range=0.1 # TODO too aggressive; Andrew suggests go way down\n",
    "        , zoom_range=[1-0.05, 1+0.5]\n",
    "        , horizontal_flip=False \n",
    "            # Egyptian heiroglyphs can actually be flipped depending on whether it's written from left to right\n",
    "            # or right to left, but it looks like all my training/testing data are facing the same way, so I'll \n",
    "            # keep it simple\n",
    "        , vertical_flip=False\n",
    "        , fill_mode='nearest' # nearest is default\n",
    "        , data_format='channels_first'\n",
    "        )"
   ]
  },
  {
   "cell_type": "markdown",
   "metadata": {},
   "source": [
    "# train"
   ]
  },
  {
   "cell_type": "markdown",
   "metadata": {},
   "source": [
    "### first check my data distribution"
   ]
  },
  {
   "cell_type": "code",
   "execution_count": 5,
   "metadata": {},
   "outputs": [
    {
     "data": {
      "text/html": [
       "<div>\n",
       "<style>\n",
       "    .dataframe thead tr:only-child th {\n",
       "        text-align: right;\n",
       "    }\n",
       "\n",
       "    .dataframe thead th {\n",
       "        text-align: left;\n",
       "    }\n",
       "\n",
       "    .dataframe tbody tr th {\n",
       "        vertical-align: top;\n",
       "    }\n",
       "</style>\n",
       "<table border=\"1\" class=\"dataframe\">\n",
       "  <thead>\n",
       "    <tr style=\"text-align: right;\">\n",
       "      <th></th>\n",
       "      <th>symbol_num</th>\n",
       "      <th>symbol</th>\n",
       "    </tr>\n",
       "  </thead>\n",
       "  <tbody>\n",
       "    <tr>\n",
       "      <th>170</th>\n",
       "      <td>170</td>\n",
       "      <td>Z7</td>\n",
       "    </tr>\n",
       "  </tbody>\n",
       "</table>\n",
       "</div>"
      ],
      "text/plain": [
       "     symbol_num symbol\n",
       "170         170     Z7"
      ]
     },
     "execution_count": 5,
     "metadata": {},
     "output_type": "execute_result"
    }
   ],
   "source": [
    "tr_rootpath = os.path.join(rootpath, \"train\")\n",
    "symbol_df = [x for x in os.listdir(tr_rootpath) if re.search(r\"UNKNOWN|^\\.\", x) == None]\n",
    "symbol_df = pd.DataFrame(sorted(symbol_df))\n",
    "symbol_df.reset_index(inplace = True)\n",
    "symbol_df.columns = [\"symbol_num\", \"symbol\"]\n",
    "symbol_df.tail(1)"
   ]
  },
  {
   "cell_type": "code",
   "execution_count": 6,
   "metadata": {
    "collapsed": true
   },
   "outputs": [],
   "source": [
    "tr_rootpath = os.path.join(rootpath, \"train\")\n",
    "subdirs = [x for x in os.listdir(tr_rootpath) if re.search(r\"UNKNOWN|^\\.\", x) == None]\n",
    "tr_fnames = pd.DataFrame(columns = [\"fname\"])\n",
    "for subdirpath in subdirs:\n",
    "    subdir = os.path.join(tr_rootpath, subdirpath)\n",
    "    files = [x for x in os.listdir(subdir) if re.search(r\"UNKNOWN|^\\.\", x) == None]\n",
    "    for fpath in files:        \n",
    "        pngfile = os.path.join(subdir, fpath)\n",
    "        tr_fnames = pd.concat([tr_fnames, pd.DataFrame({\"fname\": pngfile}, index = [0])])\n",
    "tr_fnames.reset_index(drop = True, inplace = True)"
   ]
  },
  {
   "cell_type": "code",
   "execution_count": 7,
   "metadata": {},
   "outputs": [
    {
     "data": {
      "text/plain": [
       "'../EgyptianHieroglyphDataset/MyTrainTest/train/G25/gen4_410090_G25.png'"
      ]
     },
     "execution_count": 7,
     "metadata": {},
     "output_type": "execute_result"
    }
   ],
   "source": [
    "tr_fnames.tail(1)['fname'].tolist()[0]"
   ]
  },
  {
   "cell_type": "code",
   "execution_count": 8,
   "metadata": {
    "collapsed": true
   },
   "outputs": [],
   "source": [
    "tr_fnames['label'] = tr_fnames['fname'].map(lambda x: re.sub(r\".*\\_(?P<label>.*)\\.png\", \"\\g<label>\", x))"
   ]
  },
  {
   "cell_type": "code",
   "execution_count": 9,
   "metadata": {},
   "outputs": [
    {
     "data": {
      "text/html": [
       "<div>\n",
       "<style>\n",
       "    .dataframe thead tr:only-child th {\n",
       "        text-align: right;\n",
       "    }\n",
       "\n",
       "    .dataframe thead th {\n",
       "        text-align: left;\n",
       "    }\n",
       "\n",
       "    .dataframe tbody tr th {\n",
       "        vertical-align: top;\n",
       "    }\n",
       "</style>\n",
       "<table border=\"1\" class=\"dataframe\">\n",
       "  <thead>\n",
       "    <tr style=\"text-align: right;\">\n",
       "      <th></th>\n",
       "      <th>fname</th>\n",
       "      <th>label</th>\n",
       "    </tr>\n",
       "  </thead>\n",
       "  <tbody>\n",
       "    <tr>\n",
       "      <th>43985</th>\n",
       "      <td>../EgyptianHieroglyphDataset/MyTrainTest/train...</td>\n",
       "      <td>G25</td>\n",
       "    </tr>\n",
       "  </tbody>\n",
       "</table>\n",
       "</div>"
      ],
      "text/plain": [
       "                                                   fname label\n",
       "43985  ../EgyptianHieroglyphDataset/MyTrainTest/train...   G25"
      ]
     },
     "execution_count": 9,
     "metadata": {},
     "output_type": "execute_result"
    }
   ],
   "source": [
    "tr_fnames.tail(1)"
   ]
  },
  {
   "cell_type": "code",
   "execution_count": 93,
   "metadata": {},
   "outputs": [
    {
     "data": {
      "text/html": [
       "<div>\n",
       "<style>\n",
       "    .dataframe thead tr:only-child th {\n",
       "        text-align: right;\n",
       "    }\n",
       "\n",
       "    .dataframe thead th {\n",
       "        text-align: left;\n",
       "    }\n",
       "\n",
       "    .dataframe tbody tr th {\n",
       "        vertical-align: top;\n",
       "    }\n",
       "</style>\n",
       "<table border=\"1\" class=\"dataframe\">\n",
       "  <thead>\n",
       "    <tr style=\"text-align: right;\">\n",
       "      <th></th>\n",
       "      <th>label</th>\n",
       "      <th>ct</th>\n",
       "    </tr>\n",
       "  </thead>\n",
       "  <tbody>\n",
       "    <tr>\n",
       "      <th>0</th>\n",
       "      <td>N35</td>\n",
       "      <td>403</td>\n",
       "    </tr>\n",
       "    <tr>\n",
       "      <th>1</th>\n",
       "      <td>M17</td>\n",
       "      <td>319</td>\n",
       "    </tr>\n",
       "  </tbody>\n",
       "</table>\n",
       "</div>"
      ],
      "text/plain": [
       "  label   ct\n",
       "0   N35  403\n",
       "1   M17  319"
      ]
     },
     "execution_count": 93,
     "metadata": {},
     "output_type": "execute_result"
    }
   ],
   "source": [
    "tr_counts = pd.DataFrame(tr_fnames[\"label\"].value_counts())\n",
    "tr_counts.reset_index(inplace = True)\n",
    "tr_counts.columns = [\"label\", \"ct\"]\n",
    "tr_counts.sort_values(by = \"ct\", inplace = True, ascending = False)\n",
    "tr_counts.reset_index(drop = True, inplace = True)\n",
    "tr_counts.head(2)"
   ]
  },
  {
   "cell_type": "code",
   "execution_count": 94,
   "metadata": {},
   "outputs": [
    {
     "data": {
      "image/png": "[encoded data removed]",
      "text/plain": [
       "<matplotlib.figure.Figure at 0x7f20d05dbf98>"
      ]
     },
     "metadata": {},
     "output_type": "display_data"
    }
   ],
   "source": [
    "plt.figure(figsize = (16, 4))\n",
    "n_rows = tr_counts.shape[0]\n",
    "n_to_display = 20\n",
    "xaxis = range(n_rows - 1, -1, -1)\n",
    "plt.barh(xaxis, tr_counts[\"ct\"])\n",
    "plt.yticks(xaxis, tr_counts[\"label\"], fontsize = 14)\n",
    "plt.ylim([n_rows - n_to_display, n_rows])\n",
    "plt.show()"
   ]
  },
  {
   "cell_type": "markdown",
   "metadata": {},
   "source": [
    "### merge info into one table"
   ]
  },
  {
   "cell_type": "code",
   "execution_count": 95,
   "metadata": {
    "collapsed": true
   },
   "outputs": [],
   "source": [
    "cap = 256"
   ]
  },
  {
   "cell_type": "code",
   "execution_count": 96,
   "metadata": {
    "collapsed": true
   },
   "outputs": [],
   "source": [
    "tr_counts['new_img_ct'] = cap - tr_counts[\"ct\"]\n",
    "no_need_to_add_img = tr_counts['new_img_ct'] < 0\n",
    "tr_counts.loc[no_need_to_add_img, 'new_img_ct'] = 0"
   ]
  },
  {
   "cell_type": "code",
   "execution_count": 97,
   "metadata": {},
   "outputs": [
    {
     "data": {
      "text/html": [
       "<div>\n",
       "<style>\n",
       "    .dataframe thead tr:only-child th {\n",
       "        text-align: right;\n",
       "    }\n",
       "\n",
       "    .dataframe thead th {\n",
       "        text-align: left;\n",
       "    }\n",
       "\n",
       "    .dataframe tbody tr th {\n",
       "        vertical-align: top;\n",
       "    }\n",
       "</style>\n",
       "<table border=\"1\" class=\"dataframe\">\n",
       "  <thead>\n",
       "    <tr style=\"text-align: right;\">\n",
       "      <th></th>\n",
       "      <th>label</th>\n",
       "      <th>ct</th>\n",
       "      <th>new_img_ct</th>\n",
       "    </tr>\n",
       "  </thead>\n",
       "  <tbody>\n",
       "    <tr>\n",
       "      <th>169</th>\n",
       "      <td>M26</td>\n",
       "      <td>1</td>\n",
       "      <td>255</td>\n",
       "    </tr>\n",
       "    <tr>\n",
       "      <th>170</th>\n",
       "      <td>D53</td>\n",
       "      <td>1</td>\n",
       "      <td>255</td>\n",
       "    </tr>\n",
       "  </tbody>\n",
       "</table>\n",
       "</div>"
      ],
      "text/plain": [
       "    label  ct  new_img_ct\n",
       "169   M26   1         255\n",
       "170   D53   1         255"
      ]
     },
     "execution_count": 97,
     "metadata": {},
     "output_type": "execute_result"
    }
   ],
   "source": [
    "tr_counts.tail(2)"
   ]
  },
  {
   "cell_type": "code",
   "execution_count": 98,
   "metadata": {},
   "outputs": [
    {
     "name": "stdout",
     "output_type": "stream",
     "text": [
      "(3586, 2)\n",
      "(3586, 4)\n"
     ]
    }
   ],
   "source": [
    "print(tr_fnames.shape)\n",
    "tr_fnames = tr_fnames.merge(tr_counts, on = \"label\")\n",
    "print(tr_fnames.shape)"
   ]
  },
  {
   "cell_type": "code",
   "execution_count": 99,
   "metadata": {
    "collapsed": true
   },
   "outputs": [],
   "source": [
    "tr_fnames[\"rand\"] = np.random.random(tr_fnames.shape[0])\n",
    "tr_fnames = tr_fnames.sort_values([\"label\", \"rand\"])\n",
    "tr_fnames.reset_index(drop = True, inplace = True)\n",
    "tr_fnames.reset_index(inplace = True)"
   ]
  },
  {
   "cell_type": "code",
   "execution_count": 100,
   "metadata": {},
   "outputs": [
    {
     "data": {
      "text/html": [
       "<div>\n",
       "<style>\n",
       "    .dataframe thead tr:only-child th {\n",
       "        text-align: right;\n",
       "    }\n",
       "\n",
       "    .dataframe thead th {\n",
       "        text-align: left;\n",
       "    }\n",
       "\n",
       "    .dataframe tbody tr th {\n",
       "        vertical-align: top;\n",
       "    }\n",
       "</style>\n",
       "<table border=\"1\" class=\"dataframe\">\n",
       "  <thead>\n",
       "    <tr style=\"text-align: right;\">\n",
       "      <th></th>\n",
       "      <th>index</th>\n",
       "      <th>fname</th>\n",
       "      <th>label</th>\n",
       "      <th>ct</th>\n",
       "      <th>new_img_ct</th>\n",
       "      <th>rand</th>\n",
       "    </tr>\n",
       "  </thead>\n",
       "  <tbody>\n",
       "    <tr>\n",
       "      <th>3584</th>\n",
       "      <td>3584</td>\n",
       "      <td>../EgyptianHieroglyphDataset/MyTrainTest/train...</td>\n",
       "      <td>Z7</td>\n",
       "      <td>4</td>\n",
       "      <td>252</td>\n",
       "      <td>0.689954</td>\n",
       "    </tr>\n",
       "    <tr>\n",
       "      <th>3585</th>\n",
       "      <td>3585</td>\n",
       "      <td>../EgyptianHieroglyphDataset/MyTrainTest/train...</td>\n",
       "      <td>Z7</td>\n",
       "      <td>4</td>\n",
       "      <td>252</td>\n",
       "      <td>0.743827</td>\n",
       "    </tr>\n",
       "  </tbody>\n",
       "</table>\n",
       "</div>"
      ],
      "text/plain": [
       "      index                                              fname label  ct  \\\n",
       "3584   3584  ../EgyptianHieroglyphDataset/MyTrainTest/train...    Z7   4   \n",
       "3585   3585  ../EgyptianHieroglyphDataset/MyTrainTest/train...    Z7   4   \n",
       "\n",
       "      new_img_ct      rand  \n",
       "3584         252  0.689954  \n",
       "3585         252  0.743827  "
      ]
     },
     "execution_count": 100,
     "metadata": {},
     "output_type": "execute_result"
    }
   ],
   "source": [
    "tr_fnames.tail(2)"
   ]
  },
  {
   "cell_type": "code",
   "execution_count": 101,
   "metadata": {
    "collapsed": true
   },
   "outputs": [],
   "source": [
    "cond = tr_fnames['new_img_ct'] != 0\n",
    "cat_and_ct_df = tr_fnames.loc[cond, ['label', 'new_img_ct']].drop_duplicates()\n",
    "cat_and_ct_df.reset_index(drop = True, inplace = True)\n",
    "cat_and_ct = {}\n",
    "for row in range(cat_and_ct_df.shape[0]):\n",
    "    label = cat_and_ct_df.loc[row, 'label']\n",
    "    new_img_ct = cat_and_ct_df.loc[row, 'new_img_ct']\n",
    "    cat_and_ct[label] = new_img_ct"
   ]
  },
  {
   "cell_type": "markdown",
   "metadata": {},
   "source": [
    "### generate images"
   ]
  },
  {
   "cell_type": "code",
   "execution_count": 118,
   "metadata": {},
   "outputs": [
    {
     "name": "stdout",
     "output_type": "stream",
     "text": [
      "('A55', 255)\n",
      "('Aa15', 253)\n",
      "('Aa26', 251)\n",
      "('Aa27', 254)\n",
      "('Aa28', 255)\n",
      "('D1', 252)\n",
      "('D10', 253)\n",
      "('D156', 253)\n",
      "('D19', 254)\n",
      "('D2', 238)\n",
      "('D21', 91)\n",
      "('D28', 240)\n",
      "('D34', 255)\n",
      "('D35', 207)\n",
      "('D36', 201)\n",
      "('D39', 254)\n",
      "('D4', 221)\n",
      "('D46', 209)\n",
      "('D52', 252)\n",
      "('D53', 255)\n",
      "('D54', 244)\n",
      "('D56', 253)\n",
      "('D58', 222)\n",
      "('D60', 250)\n",
      "('D62', 255)\n",
      "('E1', 253)\n",
      "('E17', 255)\n",
      "('E23', 249)\n",
      "('E34', 151)\n",
      "('E9', 249)\n",
      "('F12', 255)\n",
      "('F13', 248)\n",
      "('F16', 251)\n",
      "('F18', 250)\n",
      "('F21', 255)\n",
      "('F22', 255)\n",
      "('F23', 255)\n",
      "('F26', 252)\n",
      "('F29', 255)\n",
      "('F30', 255)\n",
      "('F31', 251)\n",
      "('F32', 255)\n",
      "('F34', 247)\n",
      "('F35', 254)\n",
      "('F4', 252)\n",
      "('F40', 254)\n",
      "('F9', 253)\n",
      "('G1', 231)\n",
      "('G10', 255)\n",
      "('G14', 254)\n",
      "('G17', 81)\n",
      "('G21', 254)\n",
      "('G25', 229)\n",
      "('G26', 254)\n",
      "('G29', 253)\n",
      "('G35', 218)\n",
      "('G36', 247)\n",
      "('G37', 253)\n",
      "('G39', 237)\n",
      "('G4', 248)\n",
      "('G40', 249)\n",
      "('G43', 73)\n",
      "('G5', 228)\n",
      "('G50', 255)\n",
      "('G7', 250)\n",
      "('H6', 249)\n",
      "('I10', 220)\n",
      "('I5', 255)\n",
      "('I9', 132)\n",
      "('L1', 254)\n",
      "('M1', 253)\n",
      "('M12', 253)\n",
      "('M16', 254)\n",
      "('M18', 245)\n",
      "('M195', 253)\n",
      "('M20', 254)\n",
      "('M23', 218)\n",
      "('M26', 255)\n",
      "('M29', 253)\n",
      "('M3', 252)\n",
      "('M4', 255)\n",
      "('M40', 253)\n",
      "('M41', 253)\n",
      "('M42', 252)\n",
      "('M44', 249)\n",
      "('M8', 254)\n",
      "('N1', 238)\n",
      "('N14', 243)\n",
      "('N16', 255)\n",
      "('N17', 250)\n",
      "('N18', 237)\n",
      "('N19', 255)\n",
      "('N2', 255)\n",
      "('N24', 255)\n",
      "('N25', 254)\n",
      "('N26', 255)\n",
      "('N29', 240)\n",
      "('N30', 250)\n",
      "('N31', 239)\n",
      "('N36', 254)\n",
      "('N37', 226)\n",
      "('N41', 253)\n",
      "('N5', 238)\n",
      "('O1', 237)\n",
      "('O11', 255)\n",
      "('O28', 253)\n",
      "('O29', 255)\n",
      "('O31', 255)\n",
      "('O34', 237)\n",
      "('O4', 242)\n",
      "('O49', 250)\n",
      "('O50', 155)\n",
      "('O51', 255)\n",
      "('P1', 251)\n",
      "('P13', 255)\n",
      "('P6', 253)\n",
      "('P8', 241)\n",
      "('P98', 253)\n",
      "('Q1', 239)\n",
      "('Q3', 184)\n",
      "('Q7', 253)\n",
      "('R4', 253)\n",
      "('R8', 206)\n",
      "('S24', 254)\n",
      "('S28', 255)\n",
      "('S29', 18)\n",
      "('S34', 246)\n",
      "('S42', 255)\n",
      "('T14', 255)\n",
      "('T20', 252)\n",
      "('T21', 253)\n",
      "('T22', 254)\n",
      "('T28', 254)\n",
      "('T30', 255)\n",
      "('U1', 236)\n",
      "('U15', 245)\n",
      "('U28', 253)\n",
      "('U33', 243)\n",
      "('U35', 255)\n",
      "('U7', 252)\n",
      "('V13', 185)\n",
      "('V16', 255)\n",
      "('V22', 255)\n",
      "('V24', 251)\n",
      "('V25', 255)\n",
      "('V28', 222)\n",
      "('V30', 249)\n",
      "('V31', 138)\n",
      "('V4', 244)\n",
      "('V6', 254)\n",
      "('V7', 251)\n",
      "('W11', 251)\n",
      "('W14', 255)\n",
      "('W15', 255)\n",
      "('W18', 251)\n",
      "('W19', 253)\n",
      "('W22', 254)\n",
      "('W24', 227)\n",
      "('W25', 244)\n",
      "('X1', 51)\n",
      "('X6', 255)\n",
      "('X8', 250)\n",
      "('Y1', 255)\n",
      "('Y2', 249)\n",
      "('Y3', 253)\n",
      "('Y5', 252)\n",
      "('Z1', 209)\n",
      "('Z11', 245)\n",
      "('Z7', 252)\n",
      "runtime 0.95 minutes\n"
     ]
    }
   ],
   "source": [
    "start = datetime.now()\n",
    "shape_dim = (1, 1) + (original_dim)\n",
    "for item in cat_and_ct.items():\n",
    "    print(item)\n",
    "    label = item[0]\n",
    "    pngfile_li = list(tr_fnames.loc[tr_fnames['label'] == label, 'fname'])\n",
    "    # print(pngfile_li)\n",
    "    df_len = len(pngfile_li)\n",
    "    counter = 0\n",
    "    row = 0\n",
    "    i = 0\n",
    "    while counter < item[1]:\n",
    "        pngfile = pngfile_li[row] \n",
    "        # print(pngfile, \"new image\", counter, \"orig image\", row)\n",
    "        newimg_dir = os.path.join(rootpath, \"train\", label)\n",
    "        arrayfile = imread(pngfile, flatten = True, mode = \"RGB\").astype('float32') # flatten means grey scale\n",
    "        arrayfile = np.reshape(arrayfile, shape_dim) # note: no rescaling here!\n",
    "        genflow = datagen.flow(x = arrayfile, y = None, batch_size=1, save_to_dir=None)\n",
    "        for new_arrayfile in genflow:\n",
    "            new_arrayfile = np.reshape(new_arrayfile, original_dim)\n",
    "            fname = \"gen\" + str(i) + \"_\" + pngfile.split(\"/\")[-1]\n",
    "            fpath = os.path.join(newimg_dir, fname)\n",
    "            # print(fpath)\n",
    "            imsave(fpath, new_arrayfile)\n",
    "            break\n",
    "        row += 1\n",
    "        if row >= df_len:\n",
    "            row = 0\n",
    "            i += 1\n",
    "        counter += 1\n",
    "end = datetime.now()\n",
    "runtime = (end - start).seconds / 60\n",
    "print(\"runtime\", runtime, \"minutes\")"
   ]
  },
  {
   "cell_type": "code",
   "execution_count": 119,
   "metadata": {},
   "outputs": [
    {
     "name": "stdout",
     "output_type": "stream",
     "text": [
      "Z7 0 63 ../EgyptianHieroglyphDataset/MyTrainTest/train/Z7/gen62_390316_Z7.png\n"
     ]
    },
    {
     "data": {
      "image/png": "[encoded data removed]",
      "text/plain": [
       "<matplotlib.figure.Figure at 0x7f20d073c898>"
      ]
     },
     "metadata": {},
     "output_type": "display_data"
    }
   ],
   "source": [
    "# spot check\n",
    "print(label, row, i, fpath)\n",
    "plt.figure()\n",
    "plt.imshow(np.reshape(new_arrayfile, original_dim))\n",
    "plt.show()"
   ]
  },
  {
   "cell_type": "markdown",
   "metadata": {},
   "source": [
    "### double check resulting distribution"
   ]
  },
  {
   "cell_type": "code",
   "execution_count": 120,
   "metadata": {},
   "outputs": [
    {
     "data": {
      "text/html": [
       "<div>\n",
       "<style>\n",
       "    .dataframe thead tr:only-child th {\n",
       "        text-align: right;\n",
       "    }\n",
       "\n",
       "    .dataframe thead th {\n",
       "        text-align: left;\n",
       "    }\n",
       "\n",
       "    .dataframe tbody tr th {\n",
       "        vertical-align: top;\n",
       "    }\n",
       "</style>\n",
       "<table border=\"1\" class=\"dataframe\">\n",
       "  <thead>\n",
       "    <tr style=\"text-align: right;\">\n",
       "      <th></th>\n",
       "      <th>symbol_num</th>\n",
       "      <th>symbol</th>\n",
       "    </tr>\n",
       "  </thead>\n",
       "  <tbody>\n",
       "    <tr>\n",
       "      <th>170</th>\n",
       "      <td>170</td>\n",
       "      <td>Z7</td>\n",
       "    </tr>\n",
       "  </tbody>\n",
       "</table>\n",
       "</div>"
      ],
      "text/plain": [
       "     symbol_num symbol\n",
       "170         170     Z7"
      ]
     },
     "execution_count": 120,
     "metadata": {},
     "output_type": "execute_result"
    }
   ],
   "source": [
    "tr_rootpath = os.path.join(rootpath, \"train\")\n",
    "symbol_df = [x for x in os.listdir(tr_rootpath) if re.search(r\"UNKNOWN|^\\.\", x) == None]\n",
    "symbol_df = pd.DataFrame(sorted(symbol_df))\n",
    "symbol_df.reset_index(inplace = True)\n",
    "symbol_df.columns = [\"symbol_num\", \"symbol\"]\n",
    "symbol_df.tail(1)"
   ]
  },
  {
   "cell_type": "code",
   "execution_count": 121,
   "metadata": {
    "collapsed": true
   },
   "outputs": [],
   "source": [
    "tr_rootpath = os.path.join(rootpath, \"train\")\n",
    "subdirs = [x for x in os.listdir(tr_rootpath) if re.search(r\"UNKNOWN|^\\.\", x) == None]\n",
    "tr_fnames = pd.DataFrame(columns = [\"fname\"])\n",
    "for subdirpath in subdirs:\n",
    "    subdir = os.path.join(tr_rootpath, subdirpath)\n",
    "    files = [x for x in os.listdir(subdir) if re.search(r\"UNKNOWN|^\\.\", x) == None]\n",
    "    for fpath in files:        \n",
    "        pngfile = os.path.join(subdir, fpath)\n",
    "        tr_fnames = pd.concat([tr_fnames, pd.DataFrame({\"fname\": pngfile}, index = [0])])\n",
    "tr_fnames.reset_index(drop = True, inplace = True)"
   ]
  },
  {
   "cell_type": "code",
   "execution_count": 122,
   "metadata": {
    "collapsed": true
   },
   "outputs": [],
   "source": [
    "tr_fnames['label'] = tr_fnames['fname'].map(lambda x: re.sub(r\".*\\_(?P<label>.*)\\.png\", \"\\g<label>\", x))"
   ]
  },
  {
   "cell_type": "code",
   "execution_count": 123,
   "metadata": {},
   "outputs": [
    {
     "data": {
      "text/html": [
       "<div>\n",
       "<style>\n",
       "    .dataframe thead tr:only-child th {\n",
       "        text-align: right;\n",
       "    }\n",
       "\n",
       "    .dataframe thead th {\n",
       "        text-align: left;\n",
       "    }\n",
       "\n",
       "    .dataframe tbody tr th {\n",
       "        vertical-align: top;\n",
       "    }\n",
       "</style>\n",
       "<table border=\"1\" class=\"dataframe\">\n",
       "  <thead>\n",
       "    <tr style=\"text-align: right;\">\n",
       "      <th></th>\n",
       "      <th>label</th>\n",
       "      <th>ct</th>\n",
       "    </tr>\n",
       "  </thead>\n",
       "  <tbody>\n",
       "    <tr>\n",
       "      <th>0</th>\n",
       "      <td>N35</td>\n",
       "      <td>403</td>\n",
       "    </tr>\n",
       "    <tr>\n",
       "      <th>1</th>\n",
       "      <td>M17</td>\n",
       "      <td>319</td>\n",
       "    </tr>\n",
       "  </tbody>\n",
       "</table>\n",
       "</div>"
      ],
      "text/plain": [
       "  label   ct\n",
       "0   N35  403\n",
       "1   M17  319"
      ]
     },
     "execution_count": 123,
     "metadata": {},
     "output_type": "execute_result"
    }
   ],
   "source": [
    "tr_counts = pd.DataFrame(tr_fnames[\"label\"].value_counts())\n",
    "tr_counts.reset_index(inplace = True)\n",
    "tr_counts.columns = [\"label\", \"ct\"]\n",
    "tr_counts.sort_values(by = \"ct\", inplace = True, ascending = False)\n",
    "tr_counts.reset_index(drop = True, inplace = True)\n",
    "tr_counts.head(2)"
   ]
  },
  {
   "cell_type": "code",
   "execution_count": 124,
   "metadata": {},
   "outputs": [
    {
     "data": {
      "image/png": "[encoded data removed]",
      "text/plain": [
       "<matplotlib.figure.Figure at 0x7f20b7eb22b0>"
      ]
     },
     "metadata": {},
     "output_type": "display_data"
    }
   ],
   "source": [
    "plt.figure(figsize = (16, 4))\n",
    "n_rows = tr_counts.shape[0]\n",
    "# n_to_display = 40\n",
    "xaxis = range(n_rows - 1, -1, -1)\n",
    "plt.barh(xaxis, tr_counts[\"ct\"])\n",
    "plt.yticks(xaxis, tr_counts[\"label\"], fontsize = 14)\n",
    "# plt.ylim([n_rows - n_to_display, n_rows])\n",
    "plt.show()"
   ]
  },
  {
   "cell_type": "markdown",
   "metadata": {},
   "source": [
    "# test"
   ]
  },
  {
   "cell_type": "markdown",
   "metadata": {},
   "source": [
    "### first check my data distribution"
   ]
  },
  {
   "cell_type": "code",
   "execution_count": 162,
   "metadata": {
    "collapsed": true
   },
   "outputs": [],
   "source": [
    "ts_rootpath = os.path.join(rootpath, \"test\")\n",
    "files = [x for x in os.listdir(ts_rootpath) if re.search(r\"UNKNOWN|^\\.\", x) == None]\n",
    "ts_fnames = pd.DataFrame(columns = [\"fname\"])\n",
    "for fpath in files:\n",
    "    pngfile = os.path.join(ts_rootpath, fpath)\n",
    "    ts_fnames = pd.concat([ts_fnames, pd.DataFrame({\"fname\": pngfile}, index = [0])])\n",
    "ts_fnames.reset_index(drop = True, inplace = True)"
   ]
  },
  {
   "cell_type": "code",
   "execution_count": 163,
   "metadata": {},
   "outputs": [
    {
     "data": {
      "text/plain": [
       "'../EgyptianHieroglyphDataset/MyTrainTest/test/070226_N35.png'"
      ]
     },
     "execution_count": 163,
     "metadata": {},
     "output_type": "execute_result"
    }
   ],
   "source": [
    "ts_fnames.tail(1)['fname'].tolist()[0]"
   ]
  },
  {
   "cell_type": "code",
   "execution_count": 164,
   "metadata": {
    "collapsed": true
   },
   "outputs": [],
   "source": [
    "ts_fnames['label'] = ts_fnames['fname'].map(lambda x: re.sub(r\".*\\_(?P<label>.*)\\.png\", \"\\g<label>\", x))"
   ]
  },
  {
   "cell_type": "code",
   "execution_count": 165,
   "metadata": {},
   "outputs": [
    {
     "data": {
      "text/html": [
       "<div>\n",
       "<style>\n",
       "    .dataframe thead tr:only-child th {\n",
       "        text-align: right;\n",
       "    }\n",
       "\n",
       "    .dataframe thead th {\n",
       "        text-align: left;\n",
       "    }\n",
       "\n",
       "    .dataframe tbody tr th {\n",
       "        vertical-align: top;\n",
       "    }\n",
       "</style>\n",
       "<table border=\"1\" class=\"dataframe\">\n",
       "  <thead>\n",
       "    <tr style=\"text-align: right;\">\n",
       "      <th></th>\n",
       "      <th>fname</th>\n",
       "      <th>label</th>\n",
       "    </tr>\n",
       "  </thead>\n",
       "  <tbody>\n",
       "    <tr>\n",
       "      <th>511</th>\n",
       "      <td>../EgyptianHieroglyphDataset/MyTrainTest/test/...</td>\n",
       "      <td>N35</td>\n",
       "    </tr>\n",
       "  </tbody>\n",
       "</table>\n",
       "</div>"
      ],
      "text/plain": [
       "                                                 fname label\n",
       "511  ../EgyptianHieroglyphDataset/MyTrainTest/test/...   N35"
      ]
     },
     "execution_count": 165,
     "metadata": {},
     "output_type": "execute_result"
    }
   ],
   "source": [
    "ts_fnames.tail(1)"
   ]
  },
  {
   "cell_type": "code",
   "execution_count": 166,
   "metadata": {},
   "outputs": [
    {
     "data": {
      "text/html": [
       "<div>\n",
       "<style>\n",
       "    .dataframe thead tr:only-child th {\n",
       "        text-align: right;\n",
       "    }\n",
       "\n",
       "    .dataframe thead th {\n",
       "        text-align: left;\n",
       "    }\n",
       "\n",
       "    .dataframe tbody tr th {\n",
       "        vertical-align: top;\n",
       "    }\n",
       "</style>\n",
       "<table border=\"1\" class=\"dataframe\">\n",
       "  <thead>\n",
       "    <tr style=\"text-align: right;\">\n",
       "      <th></th>\n",
       "      <th>label</th>\n",
       "      <th>ct</th>\n",
       "    </tr>\n",
       "  </thead>\n",
       "  <tbody>\n",
       "    <tr>\n",
       "      <th>0</th>\n",
       "      <td>M17</td>\n",
       "      <td>46</td>\n",
       "    </tr>\n",
       "    <tr>\n",
       "      <th>1</th>\n",
       "      <td>N35</td>\n",
       "      <td>46</td>\n",
       "    </tr>\n",
       "  </tbody>\n",
       "</table>\n",
       "</div>"
      ],
      "text/plain": [
       "  label  ct\n",
       "0   M17  46\n",
       "1   N35  46"
      ]
     },
     "execution_count": 166,
     "metadata": {},
     "output_type": "execute_result"
    }
   ],
   "source": [
    "ts_counts = pd.DataFrame(ts_fnames[\"label\"].value_counts())\n",
    "ts_counts.reset_index(inplace = True)\n",
    "ts_counts.columns = [\"label\", \"ct\"]\n",
    "ts_counts.sort_values(by = \"ct\", inplace = True, ascending = False)\n",
    "ts_counts.reset_index(drop = True, inplace = True)\n",
    "ts_counts.head(2)"
   ]
  },
  {
   "cell_type": "code",
   "execution_count": 167,
   "metadata": {
    "scrolled": true
   },
   "outputs": [
    {
     "data": {
      "image/png": "[encoded data removed]",
      "text/plain": [
       "<matplotlib.figure.Figure at 0x7f20b78567f0>"
      ]
     },
     "metadata": {},
     "output_type": "display_data"
    }
   ],
   "source": [
    "plt.figure(figsize = (16, 4))\n",
    "n_rows = ts_counts.shape[0]\n",
    "n_to_display = 20\n",
    "xaxis = range(n_rows - 1, -1, -1)\n",
    "plt.barh(xaxis, ts_counts[\"ct\"])\n",
    "plt.yticks(xaxis, ts_counts[\"label\"], fontsize = 14)\n",
    "plt.ylim([n_rows - n_to_display, n_rows])\n",
    "plt.show()"
   ]
  },
  {
   "cell_type": "markdown",
   "metadata": {},
   "source": [
    "### calculate how many new images to generate while keeping distribution roughly as is\n",
    "Note: testing data distribution seems to follow freq distribution in real life (i.e. text from pyramid of Unas)"
   ]
  },
  {
   "cell_type": "code",
   "execution_count": 131,
   "metadata": {},
   "outputs": [
    {
     "data": {
      "text/plain": [
       "256"
      ]
     },
     "execution_count": 131,
     "metadata": {},
     "output_type": "execute_result"
    }
   ],
   "source": [
    "cap"
   ]
  },
  {
   "cell_type": "code",
   "execution_count": 133,
   "metadata": {},
   "outputs": [
    {
     "data": {
      "text/plain": [
       "445"
      ]
     },
     "execution_count": 133,
     "metadata": {},
     "output_type": "execute_result"
    }
   ],
   "source": [
    "ts_counts[\"ct\"].sum()"
   ]
  },
  {
   "cell_type": "code",
   "execution_count": 141,
   "metadata": {},
   "outputs": [
    {
     "data": {
      "text/plain": [
       "67"
      ]
     },
     "execution_count": 141,
     "metadata": {},
     "output_type": "execute_result"
    }
   ],
   "source": [
    "cap - (ts_counts[\"ct\"].sum() - cap)"
   ]
  },
  {
   "cell_type": "code",
   "execution_count": 143,
   "metadata": {},
   "outputs": [
    {
     "data": {
      "text/plain": [
       "(67,)"
      ]
     },
     "execution_count": 143,
     "metadata": {},
     "output_type": "execute_result"
    }
   ],
   "source": [
    "ts_counts[\"ct\"].shape"
   ]
  },
  {
   "cell_type": "code",
   "execution_count": 149,
   "metadata": {},
   "outputs": [
    {
     "data": {
      "text/html": [
       "<div>\n",
       "<style>\n",
       "    .dataframe thead tr:only-child th {\n",
       "        text-align: right;\n",
       "    }\n",
       "\n",
       "    .dataframe thead th {\n",
       "        text-align: left;\n",
       "    }\n",
       "\n",
       "    .dataframe tbody tr th {\n",
       "        vertical-align: top;\n",
       "    }\n",
       "</style>\n",
       "<table border=\"1\" class=\"dataframe\">\n",
       "  <thead>\n",
       "    <tr style=\"text-align: right;\">\n",
       "      <th></th>\n",
       "      <th>fname</th>\n",
       "      <th>label</th>\n",
       "    </tr>\n",
       "  </thead>\n",
       "  <tbody>\n",
       "    <tr>\n",
       "      <th>444</th>\n",
       "      <td>../EgyptianHieroglyphDataset/MyTrainTest/test/...</td>\n",
       "      <td>N35</td>\n",
       "    </tr>\n",
       "  </tbody>\n",
       "</table>\n",
       "</div>"
      ],
      "text/plain": [
       "                                                 fname label\n",
       "444  ../EgyptianHieroglyphDataset/MyTrainTest/test/...   N35"
      ]
     },
     "execution_count": 149,
     "metadata": {},
     "output_type": "execute_result"
    }
   ],
   "source": [
    "ts_fnames.tail(1)"
   ]
  },
  {
   "cell_type": "markdown",
   "metadata": {
    "collapsed": true
   },
   "source": [
    "### need to generate exactly 67 new images"
   ]
  },
  {
   "cell_type": "code",
   "execution_count": 159,
   "metadata": {
    "collapsed": true
   },
   "outputs": [],
   "source": [
    "test_cat_li = list(ts_counts['label'])"
   ]
  },
  {
   "cell_type": "code",
   "execution_count": 160,
   "metadata": {},
   "outputs": [
    {
     "name": "stdout",
     "output_type": "stream",
     "text": [
      "0 M17 ../EgyptianHieroglyphDataset/MyTrainTest/test/070345_M17.png\n",
      "1 N35 ../EgyptianHieroglyphDataset/MyTrainTest/test/070053_N35.png\n",
      "2 X1 ../EgyptianHieroglyphDataset/MyTrainTest/test/070013_X1.png\n",
      "3 S29 ../EgyptianHieroglyphDataset/MyTrainTest/test/070376_S29.png\n",
      "4 I9 ../EgyptianHieroglyphDataset/MyTrainTest/test/070160_I9.png\n",
      "5 G17 ../EgyptianHieroglyphDataset/MyTrainTest/test/070305_G17.png\n",
      "6 D21 ../EgyptianHieroglyphDataset/MyTrainTest/test/070411_D21.png\n",
      "7 R8 ../EgyptianHieroglyphDataset/MyTrainTest/test/070176_R8.png\n",
      "8 E34 ../EgyptianHieroglyphDataset/MyTrainTest/test/070087_E34.png\n",
      "9 V31 ../EgyptianHieroglyphDataset/MyTrainTest/test/070120_V31.png\n",
      "10 G43 ../EgyptianHieroglyphDataset/MyTrainTest/test/070044_G43.png\n",
      "11 W24 ../EgyptianHieroglyphDataset/MyTrainTest/test/070265_W24.png\n",
      "12 G1 ../EgyptianHieroglyphDataset/MyTrainTest/test/070008_G1.png\n",
      "13 D35 ../EgyptianHieroglyphDataset/MyTrainTest/test/070268_D35.png\n",
      "14 V13 ../EgyptianHieroglyphDataset/MyTrainTest/test/070060_V13.png\n",
      "15 O49 ../EgyptianHieroglyphDataset/MyTrainTest/test/070130_O49.png\n",
      "16 T22 ../EgyptianHieroglyphDataset/MyTrainTest/test/070279_T22.png\n",
      "17 O28 ../EgyptianHieroglyphDataset/MyTrainTest/test/070117_O28.png\n",
      "18 N30 ../EgyptianHieroglyphDataset/MyTrainTest/test/070400_N30.png\n",
      "19 D2 ../EgyptianHieroglyphDataset/MyTrainTest/test/070232_D2.png\n",
      "20 O31 ../EgyptianHieroglyphDataset/MyTrainTest/test/070290_O31.png\n",
      "21 O50 ../EgyptianHieroglyphDataset/MyTrainTest/test/070421_O50.png\n",
      "22 Q3 ../EgyptianHieroglyphDataset/MyTrainTest/test/070271_Q3.png\n",
      "23 G7 ../EgyptianHieroglyphDataset/MyTrainTest/test/070212_G7.png\n",
      "24 I10 ../EgyptianHieroglyphDataset/MyTrainTest/test/070390_I10.png\n",
      "25 U1 ../EgyptianHieroglyphDataset/MyTrainTest/test/070436_U1.png\n",
      "26 E1 ../EgyptianHieroglyphDataset/MyTrainTest/test/070342_E1.png\n",
      "27 U33 ../EgyptianHieroglyphDataset/MyTrainTest/test/070094_U33.png\n",
      "28 D36 ../EgyptianHieroglyphDataset/MyTrainTest/test/070205_D36.png\n",
      "29 Y5 ../EgyptianHieroglyphDataset/MyTrainTest/test/070073_Y5.png\n",
      "30 E9 ../EgyptianHieroglyphDataset/MyTrainTest/test/070010_E9.png\n",
      "31 F31 ../EgyptianHieroglyphDataset/MyTrainTest/test/070372_F31.png\n",
      "32 E23 ../EgyptianHieroglyphDataset/MyTrainTest/test/070019_E23.png\n",
      "33 N5 ../EgyptianHieroglyphDataset/MyTrainTest/test/070136_N5.png\n",
      "34 G5 ../EgyptianHieroglyphDataset/MyTrainTest/test/070006_G5.png\n",
      "35 D46 ../EgyptianHieroglyphDataset/MyTrainTest/test/070215_D46.png\n",
      "36 G39 ../EgyptianHieroglyphDataset/MyTrainTest/test/070209_G39.png\n",
      "37 N17 ../EgyptianHieroglyphDataset/MyTrainTest/test/070199_N17.png\n",
      "38 D4 ../EgyptianHieroglyphDataset/MyTrainTest/test/070437_D4.png\n",
      "39 V28 ../EgyptianHieroglyphDataset/MyTrainTest/test/070319_V28.png\n",
      "40 U15 ../EgyptianHieroglyphDataset/MyTrainTest/test/070192_U15.png\n",
      "41 W18 ../EgyptianHieroglyphDataset/MyTrainTest/test/070096_W18.png\n",
      "42 T30 ../EgyptianHieroglyphDataset/MyTrainTest/test/070039_T30.png\n",
      "43 N29 ../EgyptianHieroglyphDataset/MyTrainTest/test/070257_N29.png\n",
      "44 M18 ../EgyptianHieroglyphDataset/MyTrainTest/test/070324_M18.png\n",
      "45 F16 ../EgyptianHieroglyphDataset/MyTrainTest/test/070261_F16.png\n",
      "46 Z1 ../EgyptianHieroglyphDataset/MyTrainTest/test/070219_Z1.png\n",
      "47 P98 ../EgyptianHieroglyphDataset/MyTrainTest/test/070296_P98.png\n",
      "48 D58 ../EgyptianHieroglyphDataset/MyTrainTest/test/070210_D58.png\n",
      "49 D19 ../EgyptianHieroglyphDataset/MyTrainTest/test/070247_D19.png\n",
      "50 N14 ../EgyptianHieroglyphDataset/MyTrainTest/test/070023_N14.png\n",
      "51 V4 ../EgyptianHieroglyphDataset/MyTrainTest/test/070022_V4.png\n",
      "52 F34 ../EgyptianHieroglyphDataset/MyTrainTest/test/070048_F34.png\n",
      "53 W19 ../EgyptianHieroglyphDataset/MyTrainTest/test/070447_W19.png\n",
      "54 F35 ../EgyptianHieroglyphDataset/MyTrainTest/test/070188_F35.png\n",
      "55 S28 ../EgyptianHieroglyphDataset/MyTrainTest/test/070432_S28.png\n",
      "56 G40 ../EgyptianHieroglyphDataset/MyTrainTest/test/070256_G40.png\n",
      "57 P8 ../EgyptianHieroglyphDataset/MyTrainTest/test/070422_P8.png\n",
      "58 D1 ../EgyptianHieroglyphDataset/MyTrainTest/test/070175_D1.png\n",
      "59 D28 ../EgyptianHieroglyphDataset/MyTrainTest/test/070346_D28.png\n",
      "60 D52 ../EgyptianHieroglyphDataset/MyTrainTest/test/070347_D52.png\n",
      "61 M20 ../EgyptianHieroglyphDataset/MyTrainTest/test/070016_M20.png\n",
      "62 Aa27 ../EgyptianHieroglyphDataset/MyTrainTest/test/070246_Aa27.png\n",
      "63 M42 ../EgyptianHieroglyphDataset/MyTrainTest/test/070084_M42.png\n",
      "64 O1 ../EgyptianHieroglyphDataset/MyTrainTest/test/070417_O1.png\n",
      "65 V30 ../EgyptianHieroglyphDataset/MyTrainTest/test/070213_V30.png\n",
      "66 L1 ../EgyptianHieroglyphDataset/MyTrainTest/test/070065_L1.png\n",
      "runtime 0.0 minutes\n"
     ]
    }
   ],
   "source": [
    "start = datetime.now()\n",
    "shape_dim = (1, 1) + (original_dim)\n",
    "counter = 0\n",
    "harcode_gennumber = 0\n",
    "for label in test_cat_li:\n",
    "    pngfile = random.choice(list(ts_fnames.loc[ts_fnames['label'] == label, 'fname']))\n",
    "    print(counter, label, pngfile)\n",
    "    arrayfile = imread(pngfile, flatten = True, mode = \"RGB\").astype('float32') # flatten means grey scale\n",
    "    arrayfile = np.reshape(arrayfile, shape_dim) # note: no rescaling here!\n",
    "    genflow = datagen.flow(x = arrayfile, y = None, batch_size=1, save_to_dir=None)\n",
    "    for new_arrayfile in genflow:\n",
    "        new_arrayfile = np.reshape(new_arrayfile, original_dim)\n",
    "        fname = \"gen\" + str(harcode_gennumber) + \"_\" + pngfile.split(\"/\")[-1]\n",
    "        fpath = os.path.join(rootpath, \"test\", fname)\n",
    "        # print(fpath)\n",
    "        imsave(fpath, new_arrayfile)\n",
    "        break\n",
    "    counter += 1\n",
    "end = datetime.now()\n",
    "runtime = (end - start).seconds / 60\n",
    "print(\"runtime\", runtime, \"minutes\")"
   ]
  },
  {
   "cell_type": "code",
   "execution_count": 161,
   "metadata": {},
   "outputs": [
    {
     "name": "stdout",
     "output_type": "stream",
     "text": [
      "L1 0 63 ../EgyptianHieroglyphDataset/MyTrainTest/test/gen0_070065_L1.png\n"
     ]
    },
    {
     "data": {
      "image/png": "[encoded data removed]",
      "text/plain": [
       "<matplotlib.figure.Figure at 0x7f20b7882be0>"
      ]
     },
     "metadata": {},
     "output_type": "display_data"
    }
   ],
   "source": [
    "# spot check\n",
    "print(label, row, i, fpath)\n",
    "plt.figure()\n",
    "plt.imshow(np.reshape(new_arrayfile, original_dim))\n",
    "plt.show()"
   ]
  },
  {
   "cell_type": "code",
   "execution_count": null,
   "metadata": {
    "collapsed": true
   },
   "outputs": [],
   "source": []
  },
  {
   "cell_type": "code",
   "execution_count": null,
   "metadata": {
    "collapsed": true
   },
   "outputs": [],
   "source": []
  },
  {
   "cell_type": "code",
   "execution_count": null,
   "metadata": {
    "collapsed": true
   },
   "outputs": [],
   "source": []
  },
  {
   "cell_type": "code",
   "execution_count": null,
   "metadata": {
    "collapsed": true
   },
   "outputs": [],
   "source": []
  }
 ],
 "metadata": {
  "kernelspec": {
   "display_name": "Python 3",
   "language": "python",
   "name": "python3"
  },
  "language_info": {
   "codemirror_mode": {
    "name": "ipython",
    "version": 3
   },
   "file_extension": ".py",
   "mimetype": "text/x-python",
   "name": "python",
   "nbconvert_exporter": "python",
   "pygments_lexer": "ipython3",
   "version": "3.6.1"
  }
 },
 "nbformat": 4,
 "nbformat_minor": 2
}
