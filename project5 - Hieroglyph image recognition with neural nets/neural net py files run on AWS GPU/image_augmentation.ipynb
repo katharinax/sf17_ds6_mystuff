{
 "cells": [
  {
   "cell_type": "code",
   "execution_count": 11,
   "metadata": {
    "collapsed": true
   },
   "outputs": [],
   "source": [
    "import pandas as pd \n",
    "import cv2, numpy as np\n",
    "from scipy.stats import norm\n",
    "from scipy.misc import imread, imsave\n",
    "import re\n",
    "import idx2numpy as idx\n",
    "from copy import copy\n",
    "import os\n",
    "from matplotlib import pyplot as plt\n",
    "import matplotlib.patches as mpatches\n",
    "import matplotlib.image as mpimg\n",
    "%matplotlib inline\n",
    "\n",
    "from sklearn.metrics import precision_recall_fscore_support, f1_score, accuracy_score, precision_score, recall_score\n",
    "from sklearn.manifold import TSNE\n",
    "\n",
    "# keras\n",
    "np.random.seed(13)\n",
    "import tensorflow as tf\n",
    "from keras.models import Sequential, Model\n",
    "from keras.layers import Dense, Embedding, Reshape, Activation, SimpleRNN, GRU, LSTM, Convolution1D, \\\n",
    "                         MaxPooling1D, Merge, Dropout, Input\n",
    "from IPython.display import SVG\n",
    "from keras.utils import np_utils\n",
    "from keras.utils.data_utils import get_file\n",
    "from keras.preprocessing.text import Tokenizer\n",
    "#from keras.utils.visualize_util import model_to_dot, plot\n",
    "from keras.utils.vis_utils import model_to_dot, plot_model\n",
    "from keras.datasets import imdb, reuters\n",
    "from keras.preprocessing import sequence\n",
    "from keras.optimizers import SGD, RMSprop, Adam\n",
    "from keras import backend as K\n",
    "from keras.layers import Input, Flatten, Dense, Dropout, Activation, Lambda, Layer # keras.layers.core \n",
    "from keras.layers.convolutional import Convolution2D, MaxPooling2D, ZeroPadding2D\n",
    "from keras.layers.normalization import BatchNormalization\n",
    "from keras.datasets import mnist\n",
    "from keras.applications.vgg16 import VGG16\n",
    "from keras import metrics\n",
    "from keras.preprocessing.image import ImageDataGenerator, array_to_img, img_to_array, load_img\n",
    "\n",
    "# logging\n",
    "import logging\n",
    "from importlib import reload\n",
    "reload(logging)\n",
    "logging.basicConfig(format='%(asctime)s : %(levelname)s : %(message)s', level=logging.INFO)"
   ]
  },
  {
   "cell_type": "code",
   "execution_count": 12,
   "metadata": {
    "collapsed": true
   },
   "outputs": [],
   "source": [
    "rootpath = \"../EgyptianHieroglyphDataset/MyTrainTest\"\n",
    "original_dim = (75, 50) # without convolutional layers, use 75 * 50\n",
    "batch_size = 32 * 2 # this has to be the same as the param value in the analysis code"
   ]
  },
  {
   "cell_type": "code",
   "execution_count": 140,
   "metadata": {
    "collapsed": true
   },
   "outputs": [],
   "source": [
    "datagen = ImageDataGenerator(\n",
    "        rotation_range=45 # TODO too aggressive; Andrew suggests 10 or less\n",
    "        , width_shift_range=0.05\n",
    "        # , height_shift_range=0.05\n",
    "        # , rescale=1./255 # rescale will happen when I import png at analysis\n",
    "        , shear_range=0.5 # TODO too aggressive; Andrew suggests go way down\n",
    "        , zoom_range=[1-0.05, 1+1]\n",
    "        , horizontal_flip=False \n",
    "            # Egyptian heiroglyphs can actually be flipped depending on whether it's written from left to right\n",
    "            # or right to left, but it looks like all my training/testing data are facing the same way, so I'll \n",
    "            # keep it simple\n",
    "        , vertical_flip=False\n",
    "        , fill_mode='nearest' # nearest is default\n",
    "        , data_format='channels_first'\n",
    "        )"
   ]
  },
  {
   "cell_type": "markdown",
   "metadata": {},
   "source": [
    "# train"
   ]
  },
  {
   "cell_type": "markdown",
   "metadata": {},
   "source": [
    "### first check my data distribution"
   ]
  },
  {
   "cell_type": "code",
   "execution_count": 4,
   "metadata": {},
   "outputs": [
    {
     "data": {
      "text/html": [
       "<div>\n",
       "<style>\n",
       "    .dataframe thead tr:only-child th {\n",
       "        text-align: right;\n",
       "    }\n",
       "\n",
       "    .dataframe thead th {\n",
       "        text-align: left;\n",
       "    }\n",
       "\n",
       "    .dataframe tbody tr th {\n",
       "        vertical-align: top;\n",
       "    }\n",
       "</style>\n",
       "<table border=\"1\" class=\"dataframe\">\n",
       "  <thead>\n",
       "    <tr style=\"text-align: right;\">\n",
       "      <th></th>\n",
       "      <th>symbol_num</th>\n",
       "      <th>symbol</th>\n",
       "    </tr>\n",
       "  </thead>\n",
       "  <tbody>\n",
       "    <tr>\n",
       "      <th>170</th>\n",
       "      <td>170</td>\n",
       "      <td>Z7</td>\n",
       "    </tr>\n",
       "  </tbody>\n",
       "</table>\n",
       "</div>"
      ],
      "text/plain": [
       "     symbol_num symbol\n",
       "170         170     Z7"
      ]
     },
     "execution_count": 4,
     "metadata": {},
     "output_type": "execute_result"
    }
   ],
   "source": [
    "tr_rootpath = os.path.join(rootpath, \"train\")\n",
    "symbol_df = [x for x in os.listdir(tr_rootpath) if re.search(r\"UNKNOWN|^\\.\", x) == None]\n",
    "symbol_df = pd.DataFrame(sorted(symbol_df))\n",
    "symbol_df.reset_index(inplace = True)\n",
    "symbol_df.columns = [\"symbol_num\", \"symbol\"]\n",
    "symbol_df.tail(1)"
   ]
  },
  {
   "cell_type": "code",
   "execution_count": 4,
   "metadata": {
    "collapsed": true
   },
   "outputs": [],
   "source": [
    "tr_rootpath = os.path.join(rootpath, \"train\")\n",
    "subdirs = [x for x in os.listdir(tr_rootpath) if re.search(r\"UNKNOWN|^\\.\", x) == None]\n",
    "tr_fnames = pd.DataFrame(columns = [\"fname\"])\n",
    "for subdirpath in subdirs:\n",
    "    subdir = os.path.join(tr_rootpath, subdirpath)\n",
    "    files = [x for x in os.listdir(subdir) if re.search(r\"UNKNOWN|^\\.\", x) == None]\n",
    "    for fpath in files:        \n",
    "        pngfile = os.path.join(subdir, fpath)\n",
    "        tr_fnames = pd.concat([tr_fnames, pd.DataFrame({\"fname\": pngfile}, index = [0])])\n",
    "tr_fnames.reset_index(drop = True, inplace = True)"
   ]
  },
  {
   "cell_type": "code",
   "execution_count": 5,
   "metadata": {},
   "outputs": [
    {
     "data": {
      "text/plain": [
       "'../EgyptianHieroglyphDataset/MyTrainTest/train/G25/410088_G25.png'"
      ]
     },
     "execution_count": 5,
     "metadata": {},
     "output_type": "execute_result"
    }
   ],
   "source": [
    "tr_fnames.tail(1)['fname'].tolist()[0]"
   ]
  },
  {
   "cell_type": "code",
   "execution_count": 6,
   "metadata": {
    "collapsed": true
   },
   "outputs": [],
   "source": [
    "tr_fnames['label'] = tr_fnames['fname'].map(lambda x: re.sub(r\".*\\_(?P<label>.*)\\.png\", \"\\g<label>\", x))"
   ]
  },
  {
   "cell_type": "code",
   "execution_count": 7,
   "metadata": {},
   "outputs": [
    {
     "data": {
      "text/html": [
       "<div>\n",
       "<style>\n",
       "    .dataframe thead tr:only-child th {\n",
       "        text-align: right;\n",
       "    }\n",
       "\n",
       "    .dataframe thead th {\n",
       "        text-align: left;\n",
       "    }\n",
       "\n",
       "    .dataframe tbody tr th {\n",
       "        vertical-align: top;\n",
       "    }\n",
       "</style>\n",
       "<table border=\"1\" class=\"dataframe\">\n",
       "  <thead>\n",
       "    <tr style=\"text-align: right;\">\n",
       "      <th></th>\n",
       "      <th>fname</th>\n",
       "      <th>label</th>\n",
       "    </tr>\n",
       "  </thead>\n",
       "  <tbody>\n",
       "    <tr>\n",
       "      <th>3583</th>\n",
       "      <td>../EgyptianHieroglyphDataset/MyTrainTest/train...</td>\n",
       "      <td>G25</td>\n",
       "    </tr>\n",
       "  </tbody>\n",
       "</table>\n",
       "</div>"
      ],
      "text/plain": [
       "                                                  fname label\n",
       "3583  ../EgyptianHieroglyphDataset/MyTrainTest/train...   G25"
      ]
     },
     "execution_count": 7,
     "metadata": {},
     "output_type": "execute_result"
    }
   ],
   "source": [
    "tr_fnames.tail(1)"
   ]
  },
  {
   "cell_type": "code",
   "execution_count": 8,
   "metadata": {},
   "outputs": [
    {
     "data": {
      "text/html": [
       "<div>\n",
       "<style>\n",
       "    .dataframe thead tr:only-child th {\n",
       "        text-align: right;\n",
       "    }\n",
       "\n",
       "    .dataframe thead th {\n",
       "        text-align: left;\n",
       "    }\n",
       "\n",
       "    .dataframe tbody tr th {\n",
       "        vertical-align: top;\n",
       "    }\n",
       "</style>\n",
       "<table border=\"1\" class=\"dataframe\">\n",
       "  <thead>\n",
       "    <tr style=\"text-align: right;\">\n",
       "      <th></th>\n",
       "      <th>label</th>\n",
       "      <th>ct</th>\n",
       "    </tr>\n",
       "  </thead>\n",
       "  <tbody>\n",
       "    <tr>\n",
       "      <th>0</th>\n",
       "      <td>N35</td>\n",
       "      <td>403</td>\n",
       "    </tr>\n",
       "    <tr>\n",
       "      <th>1</th>\n",
       "      <td>M17</td>\n",
       "      <td>319</td>\n",
       "    </tr>\n",
       "  </tbody>\n",
       "</table>\n",
       "</div>"
      ],
      "text/plain": [
       "  label   ct\n",
       "0   N35  403\n",
       "1   M17  319"
      ]
     },
     "execution_count": 8,
     "metadata": {},
     "output_type": "execute_result"
    }
   ],
   "source": [
    "tr_counts = pd.DataFrame(tr_fnames[\"label\"].value_counts())\n",
    "tr_counts.reset_index(inplace = True)\n",
    "tr_counts.columns = [\"label\", \"ct\"]\n",
    "tr_counts.sort_values(by = \"ct\", inplace = True, ascending = False)\n",
    "tr_counts.reset_index(drop = True, inplace = True)\n",
    "tr_counts.head(2)"
   ]
  },
  {
   "cell_type": "code",
   "execution_count": 9,
   "metadata": {},
   "outputs": [
    {
     "data": {
      "image/png": "[encoded data removed]",
      "text/plain": [
       "<matplotlib.figure.Figure at 0x7fd1977a4668>"
      ]
     },
     "metadata": {},
     "output_type": "display_data"
    }
   ],
   "source": [
    "plt.figure(figsize = (16, 4))\n",
    "n_rows = tr_counts.shape[0]\n",
    "n_to_display = 40\n",
    "xaxis = range(n_rows - 1, -1, -1)\n",
    "plt.barh(xaxis, tr_counts[\"ct\"])\n",
    "plt.yticks(xaxis, tr_counts[\"label\"], fontsize = 14)\n",
    "plt.ylim([n_rows - n_to_display, n_rows])\n",
    "plt.show()"
   ]
  },
  {
   "cell_type": "markdown",
   "metadata": {},
   "source": [
    "### merge info into one table"
   ]
  },
  {
   "cell_type": "code",
   "execution_count": 10,
   "metadata": {
    "collapsed": true
   },
   "outputs": [],
   "source": [
    "tr_counts['new_img_ct'] = max(tr_counts[\"ct\"]) - tr_counts[\"ct\"]\n",
    "tr_counts['new_img_rounded'] = tr_counts['new_img_ct'] + (batch_size - tr_counts['new_img_ct'] % batch_size)\n",
    "tr_counts['new_img_per_orig_img'] = (tr_counts['new_img_rounded'] / tr_counts['ct']).map(np.ceil)"
   ]
  },
  {
   "cell_type": "code",
   "execution_count": 11,
   "metadata": {
    "collapsed": true
   },
   "outputs": [],
   "source": [
    "no_need_to_add_img = tr_counts['ct'] > 150\n",
    "tr_counts.loc[no_need_to_add_img, 'new_img_per_orig_img'] = 0"
   ]
  },
  {
   "cell_type": "code",
   "execution_count": 12,
   "metadata": {
    "collapsed": true
   },
   "outputs": [],
   "source": [
    "variance_too_inflated = tr_counts['new_img_per_orig_img'] > 150\n",
    "tr_counts.loc[variance_too_inflated, 'new_img_per_orig_img'] = 128"
   ]
  },
  {
   "cell_type": "code",
   "execution_count": 13,
   "metadata": {},
   "outputs": [
    {
     "data": {
      "text/html": [
       "<div>\n",
       "<style>\n",
       "    .dataframe thead tr:only-child th {\n",
       "        text-align: right;\n",
       "    }\n",
       "\n",
       "    .dataframe thead th {\n",
       "        text-align: left;\n",
       "    }\n",
       "\n",
       "    .dataframe tbody tr th {\n",
       "        vertical-align: top;\n",
       "    }\n",
       "</style>\n",
       "<table border=\"1\" class=\"dataframe\">\n",
       "  <thead>\n",
       "    <tr style=\"text-align: right;\">\n",
       "      <th></th>\n",
       "      <th>label</th>\n",
       "      <th>ct</th>\n",
       "      <th>new_img_ct</th>\n",
       "      <th>new_img_rounded</th>\n",
       "      <th>new_img_per_orig_img</th>\n",
       "    </tr>\n",
       "  </thead>\n",
       "  <tbody>\n",
       "    <tr>\n",
       "      <th>168</th>\n",
       "      <td>O29</td>\n",
       "      <td>1</td>\n",
       "      <td>402</td>\n",
       "      <td>416</td>\n",
       "      <td>128.0</td>\n",
       "    </tr>\n",
       "    <tr>\n",
       "      <th>169</th>\n",
       "      <td>V16</td>\n",
       "      <td>1</td>\n",
       "      <td>402</td>\n",
       "      <td>416</td>\n",
       "      <td>128.0</td>\n",
       "    </tr>\n",
       "  </tbody>\n",
       "</table>\n",
       "</div>"
      ],
      "text/plain": [
       "    label  ct  new_img_ct  new_img_rounded  new_img_per_orig_img\n",
       "168   O29   1         402              416                 128.0\n",
       "169   V16   1         402              416                 128.0"
      ]
     },
     "execution_count": 13,
     "metadata": {},
     "output_type": "execute_result"
    }
   ],
   "source": [
    "tr_counts.tail(2)"
   ]
  },
  {
   "cell_type": "code",
   "execution_count": 14,
   "metadata": {},
   "outputs": [
    {
     "name": "stdout",
     "output_type": "stream",
     "text": [
      "(3584, 2)\n",
      "(3584, 6)\n"
     ]
    }
   ],
   "source": [
    "print(tr_fnames.shape)\n",
    "tr_fnames = tr_fnames.merge(tr_counts, on = \"label\")\n",
    "print(tr_fnames.shape)"
   ]
  },
  {
   "cell_type": "code",
   "execution_count": 15,
   "metadata": {},
   "outputs": [
    {
     "data": {
      "text/html": [
       "<div>\n",
       "<style>\n",
       "    .dataframe thead tr:only-child th {\n",
       "        text-align: right;\n",
       "    }\n",
       "\n",
       "    .dataframe thead th {\n",
       "        text-align: left;\n",
       "    }\n",
       "\n",
       "    .dataframe tbody tr th {\n",
       "        vertical-align: top;\n",
       "    }\n",
       "</style>\n",
       "<table border=\"1\" class=\"dataframe\">\n",
       "  <thead>\n",
       "    <tr style=\"text-align: right;\">\n",
       "      <th></th>\n",
       "      <th>fname</th>\n",
       "      <th>label</th>\n",
       "      <th>ct</th>\n",
       "      <th>new_img_ct</th>\n",
       "      <th>new_img_rounded</th>\n",
       "      <th>new_img_per_orig_img</th>\n",
       "    </tr>\n",
       "  </thead>\n",
       "  <tbody>\n",
       "    <tr>\n",
       "      <th>3582</th>\n",
       "      <td>../EgyptianHieroglyphDataset/MyTrainTest/train...</td>\n",
       "      <td>G25</td>\n",
       "      <td>27</td>\n",
       "      <td>376</td>\n",
       "      <td>384</td>\n",
       "      <td>15.0</td>\n",
       "    </tr>\n",
       "    <tr>\n",
       "      <th>3583</th>\n",
       "      <td>../EgyptianHieroglyphDataset/MyTrainTest/train...</td>\n",
       "      <td>G25</td>\n",
       "      <td>27</td>\n",
       "      <td>376</td>\n",
       "      <td>384</td>\n",
       "      <td>15.0</td>\n",
       "    </tr>\n",
       "  </tbody>\n",
       "</table>\n",
       "</div>"
      ],
      "text/plain": [
       "                                                  fname label  ct  new_img_ct  \\\n",
       "3582  ../EgyptianHieroglyphDataset/MyTrainTest/train...   G25  27         376   \n",
       "3583  ../EgyptianHieroglyphDataset/MyTrainTest/train...   G25  27         376   \n",
       "\n",
       "      new_img_rounded  new_img_per_orig_img  \n",
       "3582              384                  15.0  \n",
       "3583              384                  15.0  "
      ]
     },
     "execution_count": 15,
     "metadata": {},
     "output_type": "execute_result"
    }
   ],
   "source": [
    "tr_fnames.tail(2)"
   ]
  },
  {
   "cell_type": "markdown",
   "metadata": {},
   "source": [
    "### generate images"
   ]
  },
  {
   "cell_type": "code",
   "execution_count": 23,
   "metadata": {},
   "outputs": [
    {
     "data": {
      "text/plain": [
       "fname                   ../EgyptianHieroglyphDataset/MyTrainTest/train...\n",
       "label                                                                  I9\n",
       "ct                                                                    124\n",
       "new_img_ct                                                            279\n",
       "new_img_rounded                                                       288\n",
       "new_img_per_orig_img                                                    3\n",
       "Name: 1000, dtype: object"
      ]
     },
     "execution_count": 23,
     "metadata": {},
     "output_type": "execute_result"
    }
   ],
   "source": [
    "# range(tr_fnames.shape[0])\n",
    "tr_fnames.loc[1000, :]"
   ]
  },
  {
   "cell_type": "code",
   "execution_count": 25,
   "metadata": {
    "collapsed": true
   },
   "outputs": [],
   "source": [
    "shape_dim = (1, 1) + (original_dim)\n",
    "for row in range(tr_fnames.shape[0]):\n",
    "    print(row)\n",
    "    n_new = tr_fnames.loc[row, \"new_img_per_orig_img\"]\n",
    "    if n_new > 0:\n",
    "        pngfile = tr_fnames.loc[row, \"fname\"]\n",
    "        label = tr_fnames.loc[row, \"label\"]\n",
    "        newimg_dir = os.path.join(rootpath, \"train\", label)\n",
    "        arrayfile = imread(pngfile, flatten = True, mode = \"RGB\").astype('float32') # flatten means grey scale\n",
    "        arrayfile = np.reshape(arrayfile, shape_dim) # note: no rescaling here!\n",
    "\n",
    "        # the .flow() command below generates batches of randomly transformed images\n",
    "        genflow = datagen.flow(x = arrayfile, y = None, batch_size=1, save_to_dir=None)\n",
    "        i = 0\n",
    "        for new_arrayfile in genflow:\n",
    "            if i < n_new:\n",
    "                new_arrayfile = np.reshape(new_arrayfile, original_dim)\n",
    "                fname = \"gen\" + str(i) + \"_\" + pngfile.split(\"/\")[-1]\n",
    "                fpath = os.path.join(newimg_dir, fname)\n",
    "                # print(fpath)\n",
    "                imsave(fpath, new_arrayfile)\n",
    "                i += 1\n",
    "            else:\n",
    "                break # otherwise the generator would loop indefinitely\n",
    "print(\"done\")"
   ]
  },
  {
   "cell_type": "code",
   "execution_count": 28,
   "metadata": {},
   "outputs": [
    {
     "name": "stdout",
     "output_type": "stream",
     "text": [
      "G25 3583 15 ../EgyptianHieroglyphDataset/MyTrainTest/train/G25/gen14_410088_G25.png\n"
     ]
    },
    {
     "data": {
      "image/png": "[encoded data removed]",
      "text/plain": [
       "<matplotlib.figure.Figure at 0x7fd1973deac8>"
      ]
     },
     "metadata": {},
     "output_type": "display_data"
    }
   ],
   "source": [
    "# spot check\n",
    "print(label, row, i, fpath)\n",
    "plt.figure()\n",
    "plt.imshow(np.reshape(new_arrayfile, original_dim))\n",
    "plt.show()"
   ]
  },
  {
   "cell_type": "markdown",
   "metadata": {},
   "source": [
    "### double check resulting distribution"
   ]
  },
  {
   "cell_type": "code",
   "execution_count": 4,
   "metadata": {},
   "outputs": [
    {
     "data": {
      "text/html": [
       "<div>\n",
       "<style>\n",
       "    .dataframe thead tr:only-child th {\n",
       "        text-align: right;\n",
       "    }\n",
       "\n",
       "    .dataframe thead th {\n",
       "        text-align: left;\n",
       "    }\n",
       "\n",
       "    .dataframe tbody tr th {\n",
       "        vertical-align: top;\n",
       "    }\n",
       "</style>\n",
       "<table border=\"1\" class=\"dataframe\">\n",
       "  <thead>\n",
       "    <tr style=\"text-align: right;\">\n",
       "      <th></th>\n",
       "      <th>symbol_num</th>\n",
       "      <th>symbol</th>\n",
       "    </tr>\n",
       "  </thead>\n",
       "  <tbody>\n",
       "    <tr>\n",
       "      <th>170</th>\n",
       "      <td>170</td>\n",
       "      <td>Z7</td>\n",
       "    </tr>\n",
       "  </tbody>\n",
       "</table>\n",
       "</div>"
      ],
      "text/plain": [
       "     symbol_num symbol\n",
       "170         170     Z7"
      ]
     },
     "execution_count": 4,
     "metadata": {},
     "output_type": "execute_result"
    }
   ],
   "source": [
    "tr_rootpath = os.path.join(rootpath, \"train\")\n",
    "symbol_df = [x for x in os.listdir(tr_rootpath) if re.search(r\"UNKNOWN|^\\.\", x) == None]\n",
    "symbol_df = pd.DataFrame(sorted(symbol_df))\n",
    "symbol_df.reset_index(inplace = True)\n",
    "symbol_df.columns = [\"symbol_num\", \"symbol\"]\n",
    "symbol_df.tail(1)"
   ]
  },
  {
   "cell_type": "code",
   "execution_count": 5,
   "metadata": {
    "collapsed": true
   },
   "outputs": [],
   "source": [
    "tr_rootpath = os.path.join(rootpath, \"train\")\n",
    "subdirs = [x for x in os.listdir(tr_rootpath) if re.search(r\"UNKNOWN|^\\.\", x) == None]\n",
    "tr_fnames = pd.DataFrame(columns = [\"fname\"])\n",
    "for subdirpath in subdirs:\n",
    "    subdir = os.path.join(tr_rootpath, subdirpath)\n",
    "    files = [x for x in os.listdir(subdir) if re.search(r\"UNKNOWN|^\\.\", x) == None]\n",
    "    for fpath in files:        \n",
    "        pngfile = os.path.join(subdir, fpath)\n",
    "        tr_fnames = pd.concat([tr_fnames, pd.DataFrame({\"fname\": pngfile}, index = [0])])\n",
    "tr_fnames.reset_index(drop = True, inplace = True)"
   ]
  },
  {
   "cell_type": "code",
   "execution_count": 6,
   "metadata": {
    "collapsed": true
   },
   "outputs": [],
   "source": [
    "tr_fnames['label'] = tr_fnames['fname'].map(lambda x: re.sub(r\".*\\_(?P<label>.*)\\.png\", \"\\g<label>\", x))"
   ]
  },
  {
   "cell_type": "code",
   "execution_count": 7,
   "metadata": {},
   "outputs": [
    {
     "data": {
      "text/html": [
       "<div>\n",
       "<style>\n",
       "    .dataframe thead tr:only-child th {\n",
       "        text-align: right;\n",
       "    }\n",
       "\n",
       "    .dataframe thead th {\n",
       "        text-align: left;\n",
       "    }\n",
       "\n",
       "    .dataframe tbody tr th {\n",
       "        vertical-align: top;\n",
       "    }\n",
       "</style>\n",
       "<table border=\"1\" class=\"dataframe\">\n",
       "  <thead>\n",
       "    <tr style=\"text-align: right;\">\n",
       "      <th></th>\n",
       "      <th>label</th>\n",
       "      <th>ct</th>\n",
       "    </tr>\n",
       "  </thead>\n",
       "  <tbody>\n",
       "    <tr>\n",
       "      <th>0</th>\n",
       "      <td>O50</td>\n",
       "      <td>505</td>\n",
       "    </tr>\n",
       "    <tr>\n",
       "      <th>1</th>\n",
       "      <td>I9</td>\n",
       "      <td>496</td>\n",
       "    </tr>\n",
       "  </tbody>\n",
       "</table>\n",
       "</div>"
      ],
      "text/plain": [
       "  label   ct\n",
       "0   O50  505\n",
       "1    I9  496"
      ]
     },
     "execution_count": 7,
     "metadata": {},
     "output_type": "execute_result"
    }
   ],
   "source": [
    "tr_counts = pd.DataFrame(tr_fnames[\"label\"].value_counts())\n",
    "tr_counts.reset_index(inplace = True)\n",
    "tr_counts.columns = [\"label\", \"ct\"]\n",
    "tr_counts.sort_values(by = \"ct\", inplace = True, ascending = False)\n",
    "tr_counts.reset_index(drop = True, inplace = True)\n",
    "tr_counts.head(2)"
   ]
  },
  {
   "cell_type": "code",
   "execution_count": 8,
   "metadata": {},
   "outputs": [
    {
     "data": {
      "image/png": "[encoded data removed]",
      "text/plain": [
       "<matplotlib.figure.Figure at 0x7f9ef4b83278>"
      ]
     },
     "metadata": {},
     "output_type": "display_data"
    }
   ],
   "source": [
    "plt.figure(figsize = (16, 4))\n",
    "n_rows = tr_counts.shape[0]\n",
    "# n_to_display = 40\n",
    "xaxis = range(n_rows - 1, -1, -1)\n",
    "plt.barh(xaxis, tr_counts[\"ct\"])\n",
    "plt.yticks(xaxis, tr_counts[\"label\"], fontsize = 14)\n",
    "# plt.ylim([n_rows - n_to_display, n_rows])\n",
    "plt.show()"
   ]
  },
  {
   "cell_type": "code",
   "execution_count": 10,
   "metadata": {},
   "outputs": [
    {
     "data": {
      "image/png": "[encoded data removed]",
      "text/plain": [
       "<matplotlib.figure.Figure at 0x7f9ef473d9e8>"
      ]
     },
     "metadata": {},
     "output_type": "display_data"
    }
   ],
   "source": [
    "plt.figure(figsize = (16, 4))\n",
    "n_rows = tr_counts.shape[0]\n",
    "n_to_display = 20\n",
    "xaxis = range(n_rows - 1, -1, -1)\n",
    "plt.barh(xaxis, tr_counts[\"ct\"])\n",
    "plt.yticks(xaxis, tr_counts[\"label\"], fontsize = 14)\n",
    "plt.ylim([n_rows - n_to_display, n_rows])\n",
    "plt.show()"
   ]
  },
  {
   "cell_type": "markdown",
   "metadata": {},
   "source": [
    "### deal with M20 (it was only in test data for some reason; i added two training files via command line)"
   ]
  },
  {
   "cell_type": "code",
   "execution_count": 18,
   "metadata": {
    "collapsed": true
   },
   "outputs": [],
   "source": [
    "tr_rootpath = os.path.join(rootpath, \"train\")\n",
    "tr_fnames = pd.DataFrame(columns = [\"fname\"])\n",
    "subdirpath = 'M20'\n",
    "subdir = os.path.join(tr_rootpath, subdirpath)\n",
    "files = [x for x in os.listdir(subdir) if re.search(r\"UNKNOWN|^\\.\", x) == None]\n",
    "for fpath in files:        \n",
    "    pngfile = os.path.join(subdir, fpath)\n",
    "    tr_fnames = pd.concat([tr_fnames, pd.DataFrame({\"fname\": pngfile}, index = [0])])\n",
    "tr_fnames.reset_index(drop = True, inplace = True)"
   ]
  },
  {
   "cell_type": "code",
   "execution_count": 19,
   "metadata": {
    "collapsed": true
   },
   "outputs": [],
   "source": [
    "tr_fnames['label'] = tr_fnames['fname'].map(lambda x: re.sub(r\".*\\_(?P<label>.*)\\.png\", \"\\g<label>\", x))"
   ]
  },
  {
   "cell_type": "code",
   "execution_count": 20,
   "metadata": {
    "collapsed": true
   },
   "outputs": [],
   "source": [
    "tr_counts = pd.DataFrame(tr_fnames[\"label\"].value_counts())\n",
    "tr_counts.reset_index(inplace = True)\n",
    "tr_counts.columns = [\"label\", \"ct\"]\n",
    "tr_counts.sort_values(by = \"ct\", inplace = True, ascending = False)\n",
    "tr_counts.reset_index(drop = True, inplace = True)"
   ]
  },
  {
   "cell_type": "code",
   "execution_count": 21,
   "metadata": {
    "collapsed": true
   },
   "outputs": [],
   "source": [
    "tr_counts['new_img_ct'] = 403 - tr_counts[\"ct\"] # max(tr_counts[\"ct\"]) - tr_counts[\"ct\"]\n",
    "tr_counts['new_img_rounded'] = tr_counts['new_img_ct'] + (batch_size - tr_counts['new_img_ct'] % batch_size)\n",
    "tr_counts['new_img_per_orig_img'] = (tr_counts['new_img_rounded'] / tr_counts['ct']).map(np.ceil)"
   ]
  },
  {
   "cell_type": "code",
   "execution_count": 22,
   "metadata": {
    "collapsed": true
   },
   "outputs": [],
   "source": [
    "no_need_to_add_img = tr_counts['ct'] > 150\n",
    "tr_counts.loc[no_need_to_add_img, 'new_img_per_orig_img'] = 0"
   ]
  },
  {
   "cell_type": "code",
   "execution_count": 23,
   "metadata": {
    "collapsed": true
   },
   "outputs": [],
   "source": [
    "variance_too_inflated = tr_counts['new_img_per_orig_img'] > 150\n",
    "tr_counts.loc[variance_too_inflated, 'new_img_per_orig_img'] = 128"
   ]
  },
  {
   "cell_type": "code",
   "execution_count": 24,
   "metadata": {},
   "outputs": [
    {
     "data": {
      "text/html": [
       "<div>\n",
       "<style>\n",
       "    .dataframe thead tr:only-child th {\n",
       "        text-align: right;\n",
       "    }\n",
       "\n",
       "    .dataframe thead th {\n",
       "        text-align: left;\n",
       "    }\n",
       "\n",
       "    .dataframe tbody tr th {\n",
       "        vertical-align: top;\n",
       "    }\n",
       "</style>\n",
       "<table border=\"1\" class=\"dataframe\">\n",
       "  <thead>\n",
       "    <tr style=\"text-align: right;\">\n",
       "      <th></th>\n",
       "      <th>fname</th>\n",
       "      <th>label</th>\n",
       "      <th>ct</th>\n",
       "      <th>new_img_ct</th>\n",
       "      <th>new_img_rounded</th>\n",
       "      <th>new_img_per_orig_img</th>\n",
       "    </tr>\n",
       "  </thead>\n",
       "  <tbody>\n",
       "    <tr>\n",
       "      <th>0</th>\n",
       "      <td>../EgyptianHieroglyphDataset/MyTrainTest/train...</td>\n",
       "      <td>M20</td>\n",
       "      <td>2</td>\n",
       "      <td>401</td>\n",
       "      <td>416</td>\n",
       "      <td>128.0</td>\n",
       "    </tr>\n",
       "    <tr>\n",
       "      <th>1</th>\n",
       "      <td>../EgyptianHieroglyphDataset/MyTrainTest/train...</td>\n",
       "      <td>M20</td>\n",
       "      <td>2</td>\n",
       "      <td>401</td>\n",
       "      <td>416</td>\n",
       "      <td>128.0</td>\n",
       "    </tr>\n",
       "  </tbody>\n",
       "</table>\n",
       "</div>"
      ],
      "text/plain": [
       "                                               fname label  ct  new_img_ct  \\\n",
       "0  ../EgyptianHieroglyphDataset/MyTrainTest/train...   M20   2         401   \n",
       "1  ../EgyptianHieroglyphDataset/MyTrainTest/train...   M20   2         401   \n",
       "\n",
       "   new_img_rounded  new_img_per_orig_img  \n",
       "0              416                 128.0  \n",
       "1              416                 128.0  "
      ]
     },
     "execution_count": 24,
     "metadata": {},
     "output_type": "execute_result"
    }
   ],
   "source": [
    "tr_fnames = tr_fnames.merge(tr_counts, on = \"label\")\n",
    "tr_fnames"
   ]
  },
  {
   "cell_type": "code",
   "execution_count": 26,
   "metadata": {},
   "outputs": [
    {
     "name": "stdout",
     "output_type": "stream",
     "text": [
      "0\n",
      "1\n",
      "done\n"
     ]
    }
   ],
   "source": [
    "shape_dim = (1, 1) + (original_dim)\n",
    "for row in range(tr_fnames.shape[0]):\n",
    "    print(row)\n",
    "    n_new = tr_fnames.loc[row, \"new_img_per_orig_img\"]\n",
    "    if n_new > 0:\n",
    "        pngfile = tr_fnames.loc[row, \"fname\"]\n",
    "        label = tr_fnames.loc[row, \"label\"]\n",
    "        newimg_dir = os.path.join(rootpath, \"train\", label)\n",
    "        arrayfile = imread(pngfile, flatten = True, mode = \"RGB\").astype('float32') # flatten means grey scale\n",
    "        arrayfile = np.reshape(arrayfile, shape_dim) # note: no rescaling here!\n",
    "\n",
    "        # the .flow() command below generates batches of randomly transformed images\n",
    "        genflow = datagen.flow(x = arrayfile, y = None, batch_size=1, save_to_dir=None)\n",
    "        i = 0\n",
    "        for new_arrayfile in genflow:\n",
    "            if i < n_new:\n",
    "                new_arrayfile = np.reshape(new_arrayfile, original_dim)\n",
    "                fname = \"gen\" + str(i) + \"_\" + pngfile.split(\"/\")[-1]\n",
    "                fpath = os.path.join(newimg_dir, fname)\n",
    "                # print(fpath)\n",
    "                imsave(fpath, new_arrayfile)\n",
    "                i += 1\n",
    "            else:\n",
    "                break # otherwise the generator would loop indefinitely\n",
    "print(\"done\")"
   ]
  },
  {
   "cell_type": "code",
   "execution_count": 27,
   "metadata": {},
   "outputs": [
    {
     "name": "stdout",
     "output_type": "stream",
     "text": [
      "M20 1 128 ../EgyptianHieroglyphDataset/MyTrainTest/train/M20/gen127_070015_M20.png\n"
     ]
    },
    {
     "data": {
      "image/png": "[encoded data removed]",
      "text/plain": [
       "<matplotlib.figure.Figure at 0x7fb5e44b5ef0>"
      ]
     },
     "metadata": {},
     "output_type": "display_data"
    }
   ],
   "source": [
    "# spot check\n",
    "print(label, row, i, fpath)\n",
    "plt.figure()\n",
    "plt.imshow(np.reshape(new_arrayfile, original_dim))\n",
    "plt.show()"
   ]
  },
  {
   "cell_type": "markdown",
   "metadata": {},
   "source": [
    "# test"
   ]
  },
  {
   "cell_type": "markdown",
   "metadata": {},
   "source": [
    "### first check my data distribution"
   ]
  },
  {
   "cell_type": "code",
   "execution_count": 126,
   "metadata": {
    "collapsed": true
   },
   "outputs": [],
   "source": [
    "ts_rootpath = os.path.join(rootpath, \"test\")\n",
    "files = [x for x in os.listdir(ts_rootpath) if re.search(r\"UNKNOWN|^\\.\", x) == None]\n",
    "ts_fnames = pd.DataFrame(columns = [\"fname\"])\n",
    "for fpath in files:\n",
    "    pngfile = os.path.join(ts_rootpath, fpath)\n",
    "    ts_fnames = pd.concat([ts_fnames, pd.DataFrame({\"fname\": pngfile}, index = [0])])\n",
    "ts_fnames.reset_index(drop = True, inplace = True)"
   ]
  },
  {
   "cell_type": "code",
   "execution_count": 127,
   "metadata": {},
   "outputs": [
    {
     "data": {
      "text/plain": [
       "'../EgyptianHieroglyphDataset/MyTrainTest/test/070226_N35.png'"
      ]
     },
     "execution_count": 127,
     "metadata": {},
     "output_type": "execute_result"
    }
   ],
   "source": [
    "ts_fnames.tail(1)['fname'].tolist()[0]"
   ]
  },
  {
   "cell_type": "code",
   "execution_count": 128,
   "metadata": {
    "collapsed": true
   },
   "outputs": [],
   "source": [
    "ts_fnames['label'] = ts_fnames['fname'].map(lambda x: re.sub(r\".*\\_(?P<label>.*)\\.png\", \"\\g<label>\", x))"
   ]
  },
  {
   "cell_type": "code",
   "execution_count": 129,
   "metadata": {},
   "outputs": [
    {
     "data": {
      "text/html": [
       "<div>\n",
       "<style>\n",
       "    .dataframe thead tr:only-child th {\n",
       "        text-align: right;\n",
       "    }\n",
       "\n",
       "    .dataframe thead th {\n",
       "        text-align: left;\n",
       "    }\n",
       "\n",
       "    .dataframe tbody tr th {\n",
       "        vertical-align: top;\n",
       "    }\n",
       "</style>\n",
       "<table border=\"1\" class=\"dataframe\">\n",
       "  <thead>\n",
       "    <tr style=\"text-align: right;\">\n",
       "      <th></th>\n",
       "      <th>fname</th>\n",
       "      <th>label</th>\n",
       "    </tr>\n",
       "  </thead>\n",
       "  <tbody>\n",
       "    <tr>\n",
       "      <th>448</th>\n",
       "      <td>../EgyptianHieroglyphDataset/MyTrainTest/test/...</td>\n",
       "      <td>N35</td>\n",
       "    </tr>\n",
       "  </tbody>\n",
       "</table>\n",
       "</div>"
      ],
      "text/plain": [
       "                                                 fname label\n",
       "448  ../EgyptianHieroglyphDataset/MyTrainTest/test/...   N35"
      ]
     },
     "execution_count": 129,
     "metadata": {},
     "output_type": "execute_result"
    }
   ],
   "source": [
    "ts_fnames.tail(1)"
   ]
  },
  {
   "cell_type": "code",
   "execution_count": 130,
   "metadata": {},
   "outputs": [
    {
     "data": {
      "text/html": [
       "<div>\n",
       "<style>\n",
       "    .dataframe thead tr:only-child th {\n",
       "        text-align: right;\n",
       "    }\n",
       "\n",
       "    .dataframe thead th {\n",
       "        text-align: left;\n",
       "    }\n",
       "\n",
       "    .dataframe tbody tr th {\n",
       "        vertical-align: top;\n",
       "    }\n",
       "</style>\n",
       "<table border=\"1\" class=\"dataframe\">\n",
       "  <thead>\n",
       "    <tr style=\"text-align: right;\">\n",
       "      <th></th>\n",
       "      <th>label</th>\n",
       "      <th>ct</th>\n",
       "    </tr>\n",
       "  </thead>\n",
       "  <tbody>\n",
       "    <tr>\n",
       "      <th>0</th>\n",
       "      <td>M17</td>\n",
       "      <td>46</td>\n",
       "    </tr>\n",
       "    <tr>\n",
       "      <th>1</th>\n",
       "      <td>N35</td>\n",
       "      <td>45</td>\n",
       "    </tr>\n",
       "  </tbody>\n",
       "</table>\n",
       "</div>"
      ],
      "text/plain": [
       "  label  ct\n",
       "0   M17  46\n",
       "1   N35  45"
      ]
     },
     "execution_count": 130,
     "metadata": {},
     "output_type": "execute_result"
    }
   ],
   "source": [
    "ts_counts = pd.DataFrame(ts_fnames[\"label\"].value_counts())\n",
    "ts_counts.reset_index(inplace = True)\n",
    "ts_counts.columns = [\"label\", \"ct\"]\n",
    "ts_counts.sort_values(by = \"ct\", inplace = True, ascending = False)\n",
    "ts_counts.reset_index(drop = True, inplace = True)\n",
    "ts_counts.head(2)"
   ]
  },
  {
   "cell_type": "code",
   "execution_count": 131,
   "metadata": {},
   "outputs": [
    {
     "data": {
      "image/png": "[encoded data removed]",
      "text/plain": [
       "<matplotlib.figure.Figure at 0x7f9ef47e69e8>"
      ]
     },
     "metadata": {},
     "output_type": "display_data"
    }
   ],
   "source": [
    "plt.figure(figsize = (16, 4))\n",
    "n_rows = ts_counts.shape[0]\n",
    "n_to_display = 20\n",
    "xaxis = range(n_rows - 1, -1, -1)\n",
    "plt.barh(xaxis, ts_counts[\"ct\"])\n",
    "plt.yticks(xaxis, ts_counts[\"label\"], fontsize = 14)\n",
    "plt.ylim([n_rows - n_to_display, n_rows])\n",
    "plt.show()"
   ]
  },
  {
   "cell_type": "markdown",
   "metadata": {
    "collapsed": true
   },
   "source": [
    "### need to generate exactly 63 new images\n",
    "Note: testing data distribution seems to follow freq distribution in real life (i.e. text from pyramid of Unas)"
   ]
  },
  {
   "cell_type": "code",
   "execution_count": 132,
   "metadata": {
    "collapsed": true
   },
   "outputs": [],
   "source": [
    "ts_counts.sort_values(by = \"ct\", inplace = True, ascending = True)\n",
    "ts_counts.reset_index(drop = True, inplace = True)"
   ]
  },
  {
   "cell_type": "code",
   "execution_count": 133,
   "metadata": {},
   "outputs": [
    {
     "data": {
      "text/plain": [
       "63"
      ]
     },
     "execution_count": 133,
     "metadata": {},
     "output_type": "execute_result"
    }
   ],
   "source": [
    "ts_counts[\"new_img_per_label\"] = 0\n",
    "ts_counts.loc[:62, \"new_img_per_label\"] = 1 # pandas df includes the last index!\n",
    "sum(ts_counts[\"new_img_per_label\"])"
   ]
  },
  {
   "cell_type": "code",
   "execution_count": 134,
   "metadata": {},
   "outputs": [
    {
     "name": "stdout",
     "output_type": "stream",
     "text": [
      "(449, 2) (67, 3)\n",
      "(449, 4)\n"
     ]
    }
   ],
   "source": [
    "print(ts_fnames.shape, ts_counts.shape)\n",
    "ts_fnames = ts_fnames.merge(ts_counts, on = \"label\")\n",
    "print(ts_fnames.shape)"
   ]
  },
  {
   "cell_type": "code",
   "execution_count": 135,
   "metadata": {
    "collapsed": true
   },
   "outputs": [],
   "source": [
    "ts_fnames[\"rand\"] = np.random.random(ts_fnames.shape[0])\n",
    "ts_fnames[\"rank\"] = ts_fnames.groupby(\"label\").rank()[\"rand\"]\n",
    "ts_fnames = ts_fnames.sort_values([\"label\", \"rank\"])\n",
    "cond = (ts_fnames[\"new_img_per_label\"] == 1) & (ts_fnames[\"rank\"] == 1)\n",
    "ts_fnames[\"new_img_per_orig_img\"] = 0\n",
    "ts_fnames.loc[cond, \"new_img_per_orig_img\"] = 1"
   ]
  },
  {
   "cell_type": "code",
   "execution_count": 145,
   "metadata": {},
   "outputs": [
    {
     "data": {
      "text/html": [
       "<div>\n",
       "<style>\n",
       "    .dataframe thead tr:only-child th {\n",
       "        text-align: right;\n",
       "    }\n",
       "\n",
       "    .dataframe thead th {\n",
       "        text-align: left;\n",
       "    }\n",
       "\n",
       "    .dataframe tbody tr th {\n",
       "        vertical-align: top;\n",
       "    }\n",
       "</style>\n",
       "<table border=\"1\" class=\"dataframe\">\n",
       "  <thead>\n",
       "    <tr style=\"text-align: right;\">\n",
       "      <th></th>\n",
       "      <th>fname</th>\n",
       "      <th>label</th>\n",
       "      <th>ct</th>\n",
       "      <th>new_img_per_label</th>\n",
       "      <th>rand</th>\n",
       "      <th>rank</th>\n",
       "      <th>new_img_per_orig_img</th>\n",
       "    </tr>\n",
       "  </thead>\n",
       "  <tbody>\n",
       "    <tr>\n",
       "      <th>308</th>\n",
       "      <td>../EgyptianHieroglyphDataset/MyTrainTest/test/...</td>\n",
       "      <td>Z1</td>\n",
       "      <td>2</td>\n",
       "      <td>1</td>\n",
       "      <td>0.64918</td>\n",
       "      <td>2.0</td>\n",
       "      <td>0</td>\n",
       "    </tr>\n",
       "  </tbody>\n",
       "</table>\n",
       "</div>"
      ],
      "text/plain": [
       "                                                 fname label  ct  \\\n",
       "308  ../EgyptianHieroglyphDataset/MyTrainTest/test/...    Z1   2   \n",
       "\n",
       "     new_img_per_label     rand  rank  new_img_per_orig_img  \n",
       "308                  1  0.64918   2.0                     0  "
      ]
     },
     "execution_count": 145,
     "metadata": {},
     "output_type": "execute_result"
    }
   ],
   "source": [
    "ts_fnames.tail(1)"
   ]
  },
  {
   "cell_type": "code",
   "execution_count": 139,
   "metadata": {},
   "outputs": [
    {
     "data": {
      "text/plain": [
       "63"
      ]
     },
     "execution_count": 139,
     "metadata": {},
     "output_type": "execute_result"
    }
   ],
   "source": [
    "# double check \n",
    "sum(ts_fnames[\"new_img_per_orig_img\"])"
   ]
  },
  {
   "cell_type": "markdown",
   "metadata": {},
   "source": [
    "### generate images"
   ]
  },
  {
   "cell_type": "code",
   "execution_count": 148,
   "metadata": {},
   "outputs": [
    {
     "name": "stdout",
     "output_type": "stream",
     "text": [
      "done\n"
     ]
    }
   ],
   "source": [
    "shape_dim = (1, 1) + (original_dim)\n",
    "counter = 0\n",
    "for row in range(ts_fnames.shape[0]):\n",
    "    n_new = ts_fnames.loc[row, \"new_img_per_orig_img\"]\n",
    "    if n_new > 0:\n",
    "        pngfile = ts_fnames.loc[row, \"fname\"]\n",
    "        label = ts_fnames.loc[row, \"label\"]\n",
    "        arrayfile = imread(pngfile, flatten = True, mode = \"RGB\").astype('float32') # flatten means grey scale\n",
    "        arrayfile = np.reshape(arrayfile, shape_dim) # note: no rescaling here!\n",
    "\n",
    "        # the .flow() command below generates batches of randomly transformed images\n",
    "        genflow = datagen.flow(x = arrayfile, y = None, batch_size=1, save_to_dir=None)\n",
    "        i = 0\n",
    "        for new_arrayfile in genflow:\n",
    "            if i < n_new:\n",
    "                new_arrayfile = np.reshape(new_arrayfile, original_dim)\n",
    "                fname = \"gen\" + str(i) + \"_\" + pngfile.split(\"/\")[-1]\n",
    "                fpath = os.path.join(rootpath, \"test\", fname)\n",
    "                # print(counter, fpath)\n",
    "                imsave(fpath, new_arrayfile)\n",
    "                counter += 1\n",
    "                i += 1\n",
    "            else:\n",
    "                break # otherwise the generator would loop indefinitely\n",
    "print(\"done\")"
   ]
  },
  {
   "cell_type": "code",
   "execution_count": 149,
   "metadata": {},
   "outputs": [
    {
     "name": "stdout",
     "output_type": "stream",
     "text": [
      "S28 448 1 ../EgyptianHieroglyphDataset/MyTrainTest/test/gen0_070432_S28.png\n"
     ]
    },
    {
     "data": {
      "image/png": "[encoded data removed]",
      "text/plain": [
       "<matplotlib.figure.Figure at 0x7f9ef48e2160>"
      ]
     },
     "metadata": {},
     "output_type": "display_data"
    }
   ],
   "source": [
    "# spot check\n",
    "print(label, row, i, fpath)\n",
    "plt.figure()\n",
    "plt.imshow(np.reshape(new_arrayfile, original_dim))\n",
    "plt.show()"
   ]
  },
  {
   "cell_type": "code",
   "execution_count": null,
   "metadata": {
    "collapsed": true
   },
   "outputs": [],
   "source": []
  },
  {
   "cell_type": "code",
   "execution_count": null,
   "metadata": {
    "collapsed": true
   },
   "outputs": [],
   "source": []
  },
  {
   "cell_type": "code",
   "execution_count": null,
   "metadata": {
    "collapsed": true
   },
   "outputs": [],
   "source": []
  },
  {
   "cell_type": "code",
   "execution_count": null,
   "metadata": {
    "collapsed": true
   },
   "outputs": [],
   "source": []
  }
 ],
 "metadata": {
  "kernelspec": {
   "display_name": "Python 3",
   "language": "python",
   "name": "python3"
  },
  "language_info": {
   "codemirror_mode": {
    "name": "ipython",
    "version": 3
   },
   "file_extension": ".py",
   "mimetype": "text/x-python",
   "name": "python",
   "nbconvert_exporter": "python",
   "pygments_lexer": "ipython3",
   "version": "3.6.1"
  }
 },
 "nbformat": 4,
 "nbformat_minor": 2
}
