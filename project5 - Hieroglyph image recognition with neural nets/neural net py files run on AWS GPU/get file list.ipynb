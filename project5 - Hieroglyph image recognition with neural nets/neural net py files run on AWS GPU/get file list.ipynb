{
 "cells": [
  {
   "cell_type": "code",
   "execution_count": 17,
   "metadata": {},
   "outputs": [],
   "source": [
    "import pandas as pd \n",
    "import cv2, numpy as np\n",
    "import random\n",
    "from scipy.stats import norm\n",
    "from scipy.misc import imread, imsave\n",
    "import re\n",
    "import pickle\n",
    "import idx2numpy as idx\n",
    "from copy import copy\n",
    "import os\n",
    "from datetime import datetime \n",
    "from matplotlib import pyplot as plt\n",
    "import matplotlib.patches as mpatches\n",
    "import matplotlib.image as mpimg\n",
    "%matplotlib inline\n",
    "\n",
    "from sklearn.metrics import precision_recall_fscore_support, f1_score, accuracy_score, precision_score, recall_score\n",
    "from sklearn.manifold import TSNE\n",
    "\n",
    "# keras\n",
    "np.random.seed(13)\n",
    "import tensorflow as tf\n",
    "from keras.models import Sequential, Model\n",
    "from keras.layers import Dense, Embedding, Reshape, Activation, SimpleRNN, GRU, LSTM, Convolution1D, \\\n",
    "                         MaxPooling1D, Merge, Dropout, Input\n",
    "from IPython.display import SVG\n",
    "from keras.utils import np_utils\n",
    "from keras.utils.data_utils import get_file\n",
    "from keras.preprocessing.text import Tokenizer\n",
    "#from keras.utils.visualize_util import model_to_dot, plot\n",
    "from keras.utils.vis_utils import model_to_dot, plot_model\n",
    "from keras.datasets import imdb, reuters\n",
    "from keras.preprocessing import sequence\n",
    "from keras.optimizers import SGD, RMSprop, Adam\n",
    "from keras import backend as K\n",
    "from keras.layers import Input, Flatten, Dense, Dropout, Activation, Lambda, Layer # keras.layers.core \n",
    "from keras.layers.convolutional import Convolution2D, MaxPooling2D, ZeroPadding2D\n",
    "from keras.layers.normalization import BatchNormalization\n",
    "from keras.datasets import mnist\n",
    "from keras.applications.vgg16 import VGG16\n",
    "from keras import metrics\n",
    "from keras.preprocessing.image import ImageDataGenerator, array_to_img, img_to_array, load_img\n",
    "\n",
    "# logging\n",
    "import logging\n",
    "from importlib import reload\n",
    "reload(logging)\n",
    "logging.basicConfig(format='%(asctime)s : %(levelname)s : %(message)s', level=logging.INFO)"
   ]
  },
  {
   "cell_type": "code",
   "execution_count": 7,
   "metadata": {
    "collapsed": true
   },
   "outputs": [],
   "source": [
    "from copy import copy"
   ]
  },
  {
   "cell_type": "code",
   "execution_count": 8,
   "metadata": {
    "collapsed": true
   },
   "outputs": [],
   "source": [
    "rootpath = \"../EgyptianHieroglyphDataset/MyTrainTest\"\n",
    "original_dim = (75, 50) # without convolutional layers, use 75 * 50\n",
    "batch_size = 32 * 4 # this has to be the same as or multiplication of the param value in the analysis code"
   ]
  },
  {
   "cell_type": "markdown",
   "metadata": {},
   "source": [
    "### training file list"
   ]
  },
  {
   "cell_type": "code",
   "execution_count": 9,
   "metadata": {},
   "outputs": [
    {
     "data": {
      "text/html": [
       "<div>\n",
       "<style>\n",
       "    .dataframe thead tr:only-child th {\n",
       "        text-align: right;\n",
       "    }\n",
       "\n",
       "    .dataframe thead th {\n",
       "        text-align: left;\n",
       "    }\n",
       "\n",
       "    .dataframe tbody tr th {\n",
       "        vertical-align: top;\n",
       "    }\n",
       "</style>\n",
       "<table border=\"1\" class=\"dataframe\">\n",
       "  <thead>\n",
       "    <tr style=\"text-align: right;\">\n",
       "      <th></th>\n",
       "      <th>symbol_num</th>\n",
       "      <th>symbol</th>\n",
       "    </tr>\n",
       "  </thead>\n",
       "  <tbody>\n",
       "    <tr>\n",
       "      <th>170</th>\n",
       "      <td>170</td>\n",
       "      <td>Z7</td>\n",
       "    </tr>\n",
       "  </tbody>\n",
       "</table>\n",
       "</div>"
      ],
      "text/plain": [
       "     symbol_num symbol\n",
       "170         170     Z7"
      ]
     },
     "execution_count": 9,
     "metadata": {},
     "output_type": "execute_result"
    }
   ],
   "source": [
    "tr_rootpath = os.path.join(rootpath, \"train\")\n",
    "symbol_df = [x for x in os.listdir(tr_rootpath) if re.search(r\"UNKNOWN|^\\.\", x) == None]\n",
    "symbol_df = pd.DataFrame(sorted(symbol_df))\n",
    "symbol_df.reset_index(inplace = True)\n",
    "symbol_df.columns = [\"symbol_num\", \"symbol\"]\n",
    "symbol_df.tail(1)"
   ]
  },
  {
   "cell_type": "code",
   "execution_count": 10,
   "metadata": {},
   "outputs": [],
   "source": [
    "tr_rootpath = os.path.join(rootpath, \"train\")\n",
    "subdirs = [x for x in os.listdir(tr_rootpath) if re.search(r\"UNKNOWN|^\\.\", x) == None]\n",
    "tr_fnames = pd.DataFrame(columns = [\"fname\"])\n",
    "for subdirpath in subdirs:\n",
    "    subdir = os.path.join(tr_rootpath, subdirpath)\n",
    "    files = [x for x in os.listdir(subdir) if re.search(r\"UNKNOWN|^\\.\", x) == None]\n",
    "    for fpath in files:        \n",
    "        pngfile = os.path.join(subdir, fpath)\n",
    "        tr_fnames = pd.concat([tr_fnames, pd.DataFrame({\"fname\": pngfile}, index = [0])])\n",
    "tr_fnames.reset_index(drop = True, inplace = True)"
   ]
  },
  {
   "cell_type": "code",
   "execution_count": 11,
   "metadata": {},
   "outputs": [
    {
     "data": {
      "text/plain": [
       "'../EgyptianHieroglyphDataset/MyTrainTest/train/G25/gen4_410090_G25.png'"
      ]
     },
     "execution_count": 11,
     "metadata": {},
     "output_type": "execute_result"
    }
   ],
   "source": [
    "tr_fnames.tail(1)['fname'].tolist()[0]"
   ]
  },
  {
   "cell_type": "code",
   "execution_count": 12,
   "metadata": {
    "collapsed": true
   },
   "outputs": [],
   "source": [
    "tr_fnames['symbol'] = tr_fnames['fname'].map(lambda x: re.sub(r\".*\\_(?P<label>.*)\\.png\", \"\\g<label>\", x))"
   ]
  },
  {
   "cell_type": "code",
   "execution_count": 13,
   "metadata": {},
   "outputs": [
    {
     "data": {
      "text/html": [
       "<div>\n",
       "<style>\n",
       "    .dataframe thead tr:only-child th {\n",
       "        text-align: right;\n",
       "    }\n",
       "\n",
       "    .dataframe thead th {\n",
       "        text-align: left;\n",
       "    }\n",
       "\n",
       "    .dataframe tbody tr th {\n",
       "        vertical-align: top;\n",
       "    }\n",
       "</style>\n",
       "<table border=\"1\" class=\"dataframe\">\n",
       "  <thead>\n",
       "    <tr style=\"text-align: right;\">\n",
       "      <th></th>\n",
       "      <th>fname</th>\n",
       "      <th>symbol</th>\n",
       "    </tr>\n",
       "  </thead>\n",
       "  <tbody>\n",
       "    <tr>\n",
       "      <th>43985</th>\n",
       "      <td>../EgyptianHieroglyphDataset/MyTrainTest/train...</td>\n",
       "      <td>G25</td>\n",
       "    </tr>\n",
       "  </tbody>\n",
       "</table>\n",
       "</div>"
      ],
      "text/plain": [
       "                                                   fname symbol\n",
       "43985  ../EgyptianHieroglyphDataset/MyTrainTest/train...    G25"
      ]
     },
     "execution_count": 13,
     "metadata": {},
     "output_type": "execute_result"
    }
   ],
   "source": [
    "tr_fnames.tail(1)"
   ]
  },
  {
   "cell_type": "code",
   "execution_count": 14,
   "metadata": {},
   "outputs": [
    {
     "name": "stdout",
     "output_type": "stream",
     "text": [
      "(43986, 2)\n",
      "(43986, 3)\n"
     ]
    }
   ],
   "source": [
    "print(tr_fnames.shape)\n",
    "tr_fnames = tr_fnames.merge(symbol_df, on = \"symbol\")\n",
    "print(tr_fnames.shape)"
   ]
  },
  {
   "cell_type": "code",
   "execution_count": 15,
   "metadata": {},
   "outputs": [
    {
     "data": {
      "text/html": [
       "<div>\n",
       "<style>\n",
       "    .dataframe thead tr:only-child th {\n",
       "        text-align: right;\n",
       "    }\n",
       "\n",
       "    .dataframe thead th {\n",
       "        text-align: left;\n",
       "    }\n",
       "\n",
       "    .dataframe tbody tr th {\n",
       "        vertical-align: top;\n",
       "    }\n",
       "</style>\n",
       "<table border=\"1\" class=\"dataframe\">\n",
       "  <thead>\n",
       "    <tr style=\"text-align: right;\">\n",
       "      <th></th>\n",
       "      <th>fname</th>\n",
       "      <th>symbol</th>\n",
       "      <th>symbol_num</th>\n",
       "    </tr>\n",
       "  </thead>\n",
       "  <tbody>\n",
       "    <tr>\n",
       "      <th>43980</th>\n",
       "      <td>../EgyptianHieroglyphDataset/MyTrainTest/train...</td>\n",
       "      <td>G25</td>\n",
       "      <td>52</td>\n",
       "    </tr>\n",
       "    <tr>\n",
       "      <th>43981</th>\n",
       "      <td>../EgyptianHieroglyphDataset/MyTrainTest/train...</td>\n",
       "      <td>G25</td>\n",
       "      <td>52</td>\n",
       "    </tr>\n",
       "    <tr>\n",
       "      <th>43982</th>\n",
       "      <td>../EgyptianHieroglyphDataset/MyTrainTest/train...</td>\n",
       "      <td>G25</td>\n",
       "      <td>52</td>\n",
       "    </tr>\n",
       "    <tr>\n",
       "      <th>43983</th>\n",
       "      <td>../EgyptianHieroglyphDataset/MyTrainTest/train...</td>\n",
       "      <td>G25</td>\n",
       "      <td>52</td>\n",
       "    </tr>\n",
       "    <tr>\n",
       "      <th>43984</th>\n",
       "      <td>../EgyptianHieroglyphDataset/MyTrainTest/train...</td>\n",
       "      <td>G25</td>\n",
       "      <td>52</td>\n",
       "    </tr>\n",
       "    <tr>\n",
       "      <th>43985</th>\n",
       "      <td>../EgyptianHieroglyphDataset/MyTrainTest/train...</td>\n",
       "      <td>G25</td>\n",
       "      <td>52</td>\n",
       "    </tr>\n",
       "  </tbody>\n",
       "</table>\n",
       "</div>"
      ],
      "text/plain": [
       "                                                   fname symbol  symbol_num\n",
       "43980  ../EgyptianHieroglyphDataset/MyTrainTest/train...    G25          52\n",
       "43981  ../EgyptianHieroglyphDataset/MyTrainTest/train...    G25          52\n",
       "43982  ../EgyptianHieroglyphDataset/MyTrainTest/train...    G25          52\n",
       "43983  ../EgyptianHieroglyphDataset/MyTrainTest/train...    G25          52\n",
       "43984  ../EgyptianHieroglyphDataset/MyTrainTest/train...    G25          52\n",
       "43985  ../EgyptianHieroglyphDataset/MyTrainTest/train...    G25          52"
      ]
     },
     "execution_count": 15,
     "metadata": {},
     "output_type": "execute_result"
    }
   ],
   "source": [
    "tr_fnames.tail(6)"
   ]
  },
  {
   "cell_type": "code",
   "execution_count": 19,
   "metadata": {},
   "outputs": [],
   "source": [
    "with open(os.path.join(rootpath, \"tr_filelist.pkl\"), \"wb\") as picklefile:\n",
    "    pickle.dump(tr_fnames, picklefile)"
   ]
  },
  {
   "cell_type": "code",
   "execution_count": 33,
   "metadata": {},
   "outputs": [
    {
     "name": "stdout",
     "output_type": "stream",
     "text": [
      "(43986, 3)\n"
     ]
    }
   ],
   "source": [
    "print(tr_fnames.shape)"
   ]
  },
  {
   "cell_type": "markdown",
   "metadata": {},
   "source": [
    "### testing file list"
   ]
  },
  {
   "cell_type": "code",
   "execution_count": 24,
   "metadata": {
    "collapsed": true
   },
   "outputs": [],
   "source": [
    "ts_rootpath = os.path.join(rootpath, \"test\")\n",
    "files = [x for x in os.listdir(ts_rootpath) if re.search(r\"UNKNOWN|^\\.\", x) == None]\n",
    "ts_fnames = pd.DataFrame(columns = [\"fname\"])\n",
    "for fpath in files:\n",
    "    pngfile = os.path.join(ts_rootpath, fpath)\n",
    "    ts_fnames = pd.concat([ts_fnames, pd.DataFrame({\"fname\": pngfile}, index = [0])])\n",
    "ts_fnames.reset_index(drop = True, inplace = True)"
   ]
  },
  {
   "cell_type": "code",
   "execution_count": 25,
   "metadata": {},
   "outputs": [
    {
     "data": {
      "text/plain": [
       "'../EgyptianHieroglyphDataset/MyTrainTest/test/070226_N35.png'"
      ]
     },
     "execution_count": 25,
     "metadata": {},
     "output_type": "execute_result"
    }
   ],
   "source": [
    "ts_fnames.tail(1)['fname'].tolist()[0]"
   ]
  },
  {
   "cell_type": "code",
   "execution_count": 26,
   "metadata": {
    "collapsed": true
   },
   "outputs": [],
   "source": [
    "ts_fnames['symbol'] = ts_fnames['fname'].map(lambda x: re.sub(r\".*\\_(?P<label>.*)\\.png\", \"\\g<label>\", x))"
   ]
  },
  {
   "cell_type": "code",
   "execution_count": 27,
   "metadata": {},
   "outputs": [
    {
     "data": {
      "text/html": [
       "<div>\n",
       "<style>\n",
       "    .dataframe thead tr:only-child th {\n",
       "        text-align: right;\n",
       "    }\n",
       "\n",
       "    .dataframe thead th {\n",
       "        text-align: left;\n",
       "    }\n",
       "\n",
       "    .dataframe tbody tr th {\n",
       "        vertical-align: top;\n",
       "    }\n",
       "</style>\n",
       "<table border=\"1\" class=\"dataframe\">\n",
       "  <thead>\n",
       "    <tr style=\"text-align: right;\">\n",
       "      <th></th>\n",
       "      <th>fname</th>\n",
       "      <th>symbol</th>\n",
       "    </tr>\n",
       "  </thead>\n",
       "  <tbody>\n",
       "    <tr>\n",
       "      <th>511</th>\n",
       "      <td>../EgyptianHieroglyphDataset/MyTrainTest/test/...</td>\n",
       "      <td>N35</td>\n",
       "    </tr>\n",
       "  </tbody>\n",
       "</table>\n",
       "</div>"
      ],
      "text/plain": [
       "                                                 fname symbol\n",
       "511  ../EgyptianHieroglyphDataset/MyTrainTest/test/...    N35"
      ]
     },
     "execution_count": 27,
     "metadata": {},
     "output_type": "execute_result"
    }
   ],
   "source": [
    "ts_fnames.tail(1)"
   ]
  },
  {
   "cell_type": "code",
   "execution_count": 28,
   "metadata": {},
   "outputs": [
    {
     "name": "stdout",
     "output_type": "stream",
     "text": [
      "(512, 2)\n",
      "(512, 3)\n"
     ]
    }
   ],
   "source": [
    "print(ts_fnames.shape)\n",
    "ts_fnames = ts_fnames.merge(symbol_df, on = \"symbol\", how = \"left\")\n",
    "print(ts_fnames.shape)"
   ]
  },
  {
   "cell_type": "code",
   "execution_count": 29,
   "metadata": {},
   "outputs": [
    {
     "data": {
      "text/html": [
       "<div>\n",
       "<style>\n",
       "    .dataframe thead tr:only-child th {\n",
       "        text-align: right;\n",
       "    }\n",
       "\n",
       "    .dataframe thead th {\n",
       "        text-align: left;\n",
       "    }\n",
       "\n",
       "    .dataframe tbody tr th {\n",
       "        vertical-align: top;\n",
       "    }\n",
       "</style>\n",
       "<table border=\"1\" class=\"dataframe\">\n",
       "  <thead>\n",
       "    <tr style=\"text-align: right;\">\n",
       "      <th></th>\n",
       "      <th>fname</th>\n",
       "      <th>symbol</th>\n",
       "      <th>symbol_num</th>\n",
       "    </tr>\n",
       "  </thead>\n",
       "  <tbody>\n",
       "    <tr>\n",
       "      <th>506</th>\n",
       "      <td>../EgyptianHieroglyphDataset/MyTrainTest/test/...</td>\n",
       "      <td>I9</td>\n",
       "      <td>68</td>\n",
       "    </tr>\n",
       "    <tr>\n",
       "      <th>507</th>\n",
       "      <td>../EgyptianHieroglyphDataset/MyTrainTest/test/...</td>\n",
       "      <td>O31</td>\n",
       "      <td>109</td>\n",
       "    </tr>\n",
       "    <tr>\n",
       "      <th>508</th>\n",
       "      <td>../EgyptianHieroglyphDataset/MyTrainTest/test/...</td>\n",
       "      <td>D21</td>\n",
       "      <td>10</td>\n",
       "    </tr>\n",
       "    <tr>\n",
       "      <th>509</th>\n",
       "      <td>../EgyptianHieroglyphDataset/MyTrainTest/test/...</td>\n",
       "      <td>N35</td>\n",
       "      <td>100</td>\n",
       "    </tr>\n",
       "    <tr>\n",
       "      <th>510</th>\n",
       "      <td>../EgyptianHieroglyphDataset/MyTrainTest/test/...</td>\n",
       "      <td>I9</td>\n",
       "      <td>68</td>\n",
       "    </tr>\n",
       "    <tr>\n",
       "      <th>511</th>\n",
       "      <td>../EgyptianHieroglyphDataset/MyTrainTest/test/...</td>\n",
       "      <td>N35</td>\n",
       "      <td>100</td>\n",
       "    </tr>\n",
       "  </tbody>\n",
       "</table>\n",
       "</div>"
      ],
      "text/plain": [
       "                                                 fname symbol  symbol_num\n",
       "506  ../EgyptianHieroglyphDataset/MyTrainTest/test/...     I9          68\n",
       "507  ../EgyptianHieroglyphDataset/MyTrainTest/test/...    O31         109\n",
       "508  ../EgyptianHieroglyphDataset/MyTrainTest/test/...    D21          10\n",
       "509  ../EgyptianHieroglyphDataset/MyTrainTest/test/...    N35         100\n",
       "510  ../EgyptianHieroglyphDataset/MyTrainTest/test/...     I9          68\n",
       "511  ../EgyptianHieroglyphDataset/MyTrainTest/test/...    N35         100"
      ]
     },
     "execution_count": 29,
     "metadata": {},
     "output_type": "execute_result"
    }
   ],
   "source": [
    "ts_fnames.tail(6)"
   ]
  },
  {
   "cell_type": "code",
   "execution_count": 30,
   "metadata": {
    "collapsed": true
   },
   "outputs": [],
   "source": [
    "with open(os.path.join(rootpath, \"ts_filelist.pkl\"), \"wb\") as picklefile:\n",
    "    pickle.dump(ts_fnames, picklefile)"
   ]
  },
  {
   "cell_type": "code",
   "execution_count": 31,
   "metadata": {},
   "outputs": [
    {
     "name": "stdout",
     "output_type": "stream",
     "text": [
      "(512, 3)\n"
     ]
    }
   ],
   "source": [
    "print(ts_fnames.shape)"
   ]
  },
  {
   "cell_type": "code",
   "execution_count": null,
   "metadata": {
    "collapsed": true
   },
   "outputs": [],
   "source": []
  },
  {
   "cell_type": "code",
   "execution_count": null,
   "metadata": {
    "collapsed": true
   },
   "outputs": [],
   "source": []
  }
 ],
 "metadata": {
  "kernelspec": {
   "display_name": "Python 3",
   "language": "python",
   "name": "python3"
  },
  "language_info": {
   "codemirror_mode": {
    "name": "ipython",
    "version": 3
   },
   "file_extension": ".py",
   "mimetype": "text/x-python",
   "name": "python",
   "nbconvert_exporter": "python",
   "pygments_lexer": "ipython3",
   "version": "3.6.1"
  }
 },
 "nbformat": 4,
 "nbformat_minor": 2
}
