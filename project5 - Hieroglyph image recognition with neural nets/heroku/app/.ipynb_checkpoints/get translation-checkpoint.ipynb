{
 "cells": [
  {
   "cell_type": "code",
   "execution_count": 16,
   "metadata": {
    "collapsed": false
   },
   "outputs": [],
   "source": [
    "import pandas as pd \n",
    "import numpy as np\n",
    "from scipy.stats import norm\n",
    "from scipy.misc import imread\n",
    "import re\n",
    "# from PyPDF2 import PdfFileReader\n",
    "import pickle\n",
    "import sys\n",
    "from copy import copy\n",
    "import os\n",
    "from datetime import datetime \n",
    "from matplotlib import pyplot as plt\n",
    "%matplotlib inline"
   ]
  },
  {
   "cell_type": "code",
   "execution_count": 17,
   "metadata": {
    "collapsed": false
   },
   "outputs": [],
   "source": [
    "fpath = \"../../egypt/EgyptianHieroglyphDataset/LanguageModel/Lexicon.txt\""
   ]
  },
  {
   "cell_type": "code",
   "execution_count": 53,
   "metadata": {
    "collapsed": false
   },
   "outputs": [
    {
     "data": {
      "text/html": [
       "<div>\n",
       "<style>\n",
       "    .dataframe thead tr:only-child th {\n",
       "        text-align: right;\n",
       "    }\n",
       "\n",
       "    .dataframe thead th {\n",
       "        text-align: left;\n",
       "    }\n",
       "\n",
       "    .dataframe tbody tr th {\n",
       "        vertical-align: top;\n",
       "    }\n",
       "</style>\n",
       "<table border=\"1\" class=\"dataframe\">\n",
       "  <thead>\n",
       "    <tr style=\"text-align: right;\">\n",
       "      <th></th>\n",
       "      <th>symbol</th>\n",
       "      <th>phonetic</th>\n",
       "      <th>translation</th>\n",
       "      <th>freq</th>\n",
       "    </tr>\n",
       "  </thead>\n",
       "  <tbody>\n",
       "    <tr>\n",
       "      <th>11724</th>\n",
       "      <td>Z9,N35,W24,G43</td>\n",
       "      <td>Sbnw</td>\n",
       "      <td>various</td>\n",
       "      <td>0.00</td>\n",
       "    </tr>\n",
       "    <tr>\n",
       "      <th>11725</th>\n",
       "      <td>Z9,N35</td>\n",
       "      <td>Sbnw</td>\n",
       "      <td>various</td>\n",
       "      <td>0.25</td>\n",
       "    </tr>\n",
       "    <tr>\n",
       "      <th>11726</th>\n",
       "      <td>Z9,N35,W24,Y1,Z2</td>\n",
       "      <td>Sbnw</td>\n",
       "      <td>various</td>\n",
       "      <td>0.00</td>\n",
       "    </tr>\n",
       "  </tbody>\n",
       "</table>\n",
       "</div>"
      ],
      "text/plain": [
       "                 symbol phonetic translation  freq\n",
       "11724    Z9,N35,W24,G43     Sbnw     various  0.00\n",
       "11725            Z9,N35     Sbnw     various  0.25\n",
       "11726  Z9,N35,W24,Y1,Z2     Sbnw     various  0.00"
      ]
     },
     "execution_count": 53,
     "metadata": {},
     "output_type": "execute_result"
    }
   ],
   "source": [
    "lexicon_all = pd.read_csv(fpath, sep = \";\", header = None)\n",
    "del lexicon_all[4]\n",
    "lexicon_all.columns = [\"symbol\", \"phonetic\", \"translation\", \"freq\"]\n",
    "lexicon_all[\"symbol\"] = lexicon_all[\"symbol\"].str.strip(\",\")\n",
    "lexicon_all.tail(3)"
   ]
  },
  {
   "cell_type": "code",
   "execution_count": 55,
   "metadata": {
    "collapsed": false
   },
   "outputs": [
    {
     "data": {
      "text/html": [
       "<div>\n",
       "<style>\n",
       "    .dataframe thead tr:only-child th {\n",
       "        text-align: right;\n",
       "    }\n",
       "\n",
       "    .dataframe thead th {\n",
       "        text-align: left;\n",
       "    }\n",
       "\n",
       "    .dataframe tbody tr th {\n",
       "        vertical-align: top;\n",
       "    }\n",
       "</style>\n",
       "<table border=\"1\" class=\"dataframe\">\n",
       "  <thead>\n",
       "    <tr style=\"text-align: right;\">\n",
       "      <th></th>\n",
       "      <th>symbol</th>\n",
       "      <th>phonetic</th>\n",
       "      <th>translation</th>\n",
       "      <th>freq</th>\n",
       "    </tr>\n",
       "  </thead>\n",
       "  <tbody>\n",
       "    <tr>\n",
       "      <th>9220</th>\n",
       "      <td>S7</td>\n",
       "      <td>xprS</td>\n",
       "      <td>the Blue Crown</td>\n",
       "      <td>0.0</td>\n",
       "    </tr>\n",
       "    <tr>\n",
       "      <th>99</th>\n",
       "      <td>A6</td>\n",
       "      <td>wab</td>\n",
       "      <td>pure, purify oneself, bathe, cleanse, purifica...</td>\n",
       "      <td>0.0</td>\n",
       "    </tr>\n",
       "    <tr>\n",
       "      <th>6626</th>\n",
       "      <td>O17</td>\n",
       "      <td>tAyty</td>\n",
       "      <td>the shrouded one (of Osiris)</td>\n",
       "      <td>0.0</td>\n",
       "    </tr>\n",
       "  </tbody>\n",
       "</table>\n",
       "</div>"
      ],
      "text/plain": [
       "     symbol phonetic                                        translation  freq\n",
       "9220     S7     xprS                                     the Blue Crown   0.0\n",
       "99       A6      wab  pure, purify oneself, bathe, cleanse, purifica...   0.0\n",
       "6626    O17    tAyty                       the shrouded one (of Osiris)   0.0"
      ]
     },
     "execution_count": 55,
     "metadata": {},
     "output_type": "execute_result"
    }
   ],
   "source": [
    "single_word = lexicon_all[\"symbol\"].map(lambda x: re.match(r\"^[^,]*,.+$\", x) == None)\n",
    "lexicon = lexicon_all[single_word].copy()\n",
    "lexicon.sort_values(\"freq\", inplace = True, ascending = False)\n",
    "lexicon.tail(3)"
   ]
  },
  {
   "cell_type": "code",
   "execution_count": 60,
   "metadata": {
    "collapsed": false
   },
   "outputs": [
    {
     "data": {
      "image/png": "[encoded data removed]",
      "text/plain": [
       "<matplotlib.figure.Figure at 0x113629e48>"
      ]
     },
     "metadata": {},
     "output_type": "display_data"
    }
   ],
   "source": [
    "plt.figure(figsize = (16, 3))\n",
    "plt.hist(lexicon[\"freq\"], bins = 200)\n",
    "plt.show()"
   ]
  },
  {
   "cell_type": "code",
   "execution_count": 63,
   "metadata": {
    "collapsed": false
   },
   "outputs": [
    {
     "data": {
      "image/png": "[encoded data removed]",
      "text/plain": [
       "<matplotlib.figure.Figure at 0x1142b25f8>"
      ]
     },
     "metadata": {},
     "output_type": "display_data"
    }
   ],
   "source": [
    "plt.figure(figsize = (16, 3))\n",
    "plt.hist(lexicon[\"freq\"], bins = 600)\n",
    "plt.xlim([0, 200])\n",
    "plt.show()"
   ]
  },
  {
   "cell_type": "code",
   "execution_count": 65,
   "metadata": {
    "collapsed": false
   },
   "outputs": [
    {
     "data": {
      "image/png": "[encoded data removed]",
      "text/plain": [
       "<matplotlib.figure.Figure at 0x1142a0c88>"
      ]
     },
     "metadata": {},
     "output_type": "display_data"
    }
   ],
   "source": [
    "plt.figure(figsize = (16, 3))\n",
    "plt.hist(lexicon[\"freq\"], bins = 2400)\n",
    "plt.xlim([0, 50])\n",
    "plt.show()"
   ]
  },
  {
   "cell_type": "code",
   "execution_count": 66,
   "metadata": {
    "collapsed": true
   },
   "outputs": [],
   "source": [
    "# TODO refine this\n",
    "lexicon.loc[600 <= lexicon[\"freq\"], \"freq_cat\"] = \"Very common\"\n",
    "lexicon.loc[(200 <= lexicon[\"freq\"]) & (lexicon[\"freq\"] < 600), \"freq_cat\"] = \"Common\"\n",
    "lexicon.loc[(15 <= lexicon[\"freq\"]) & (lexicon[\"freq\"] < 200), \"freq_cat\"] = \"Moderate\"\n",
    "lexicon.loc[lexicon[\"freq\"] < 15, \"freq_cat\"] = \"Rare\""
   ]
  },
  {
   "cell_type": "code",
   "execution_count": 68,
   "metadata": {
    "collapsed": false
   },
   "outputs": [
    {
     "data": {
      "text/plain": [
       "Rare           272\n",
       "Moderate        97\n",
       "Common          26\n",
       "Very common     10\n",
       "Name: freq_cat, dtype: int64"
      ]
     },
     "execution_count": 68,
     "metadata": {},
     "output_type": "execute_result"
    }
   ],
   "source": [
    "lexicon[\"freq_cat\"].value_counts()"
   ]
  },
  {
   "cell_type": "markdown",
   "metadata": {},
   "source": [
    "### pickle translation"
   ]
  },
  {
   "cell_type": "code",
   "execution_count": 70,
   "metadata": {
    "collapsed": false
   },
   "outputs": [
    {
     "data": {
      "text/html": [
       "<div>\n",
       "<style>\n",
       "    .dataframe thead tr:only-child th {\n",
       "        text-align: right;\n",
       "    }\n",
       "\n",
       "    .dataframe thead th {\n",
       "        text-align: left;\n",
       "    }\n",
       "\n",
       "    .dataframe tbody tr th {\n",
       "        vertical-align: top;\n",
       "    }\n",
       "</style>\n",
       "<table border=\"1\" class=\"dataframe\">\n",
       "  <thead>\n",
       "    <tr style=\"text-align: right;\">\n",
       "      <th></th>\n",
       "      <th>symbol</th>\n",
       "      <th>phonetic</th>\n",
       "      <th>translation</th>\n",
       "      <th>freq</th>\n",
       "      <th>freq_cat</th>\n",
       "    </tr>\n",
       "  </thead>\n",
       "  <tbody>\n",
       "    <tr>\n",
       "      <th>9222</th>\n",
       "      <td>S95</td>\n",
       "      <td>wDA</td>\n",
       "      <td>pectoral</td>\n",
       "      <td>0.0</td>\n",
       "      <td>Rare</td>\n",
       "    </tr>\n",
       "    <tr>\n",
       "      <th>9221</th>\n",
       "      <td>S8</td>\n",
       "      <td>Atfw</td>\n",
       "      <td>Atef crown</td>\n",
       "      <td>0.0</td>\n",
       "      <td>Rare</td>\n",
       "    </tr>\n",
       "    <tr>\n",
       "      <th>9220</th>\n",
       "      <td>S7</td>\n",
       "      <td>xprS</td>\n",
       "      <td>the Blue Crown</td>\n",
       "      <td>0.0</td>\n",
       "      <td>Rare</td>\n",
       "    </tr>\n",
       "    <tr>\n",
       "      <th>99</th>\n",
       "      <td>A6</td>\n",
       "      <td>wab</td>\n",
       "      <td>pure, purify oneself, bathe, cleanse, purifica...</td>\n",
       "      <td>0.0</td>\n",
       "      <td>Rare</td>\n",
       "    </tr>\n",
       "    <tr>\n",
       "      <th>6626</th>\n",
       "      <td>O17</td>\n",
       "      <td>tAyty</td>\n",
       "      <td>the shrouded one (of Osiris)</td>\n",
       "      <td>0.0</td>\n",
       "      <td>Rare</td>\n",
       "    </tr>\n",
       "  </tbody>\n",
       "</table>\n",
       "</div>"
      ],
      "text/plain": [
       "     symbol phonetic                                        translation  freq  \\\n",
       "9222    S95      wDA                                           pectoral   0.0   \n",
       "9221     S8     Atfw                                         Atef crown   0.0   \n",
       "9220     S7     xprS                                     the Blue Crown   0.0   \n",
       "99       A6      wab  pure, purify oneself, bathe, cleanse, purifica...   0.0   \n",
       "6626    O17    tAyty                       the shrouded one (of Osiris)   0.0   \n",
       "\n",
       "     freq_cat  \n",
       "9222     Rare  \n",
       "9221     Rare  \n",
       "9220     Rare  \n",
       "99       Rare  \n",
       "6626     Rare  "
      ]
     },
     "execution_count": 70,
     "metadata": {},
     "output_type": "execute_result"
    }
   ],
   "source": [
    "lexicon.tail(5)"
   ]
  },
  {
   "cell_type": "code",
   "execution_count": 71,
   "metadata": {
    "collapsed": false
   },
   "outputs": [
    {
     "data": {
      "text/plain": [
       "(405, 5)"
      ]
     },
     "execution_count": 71,
     "metadata": {},
     "output_type": "execute_result"
    }
   ],
   "source": [
    "lexicon.shape"
   ]
  },
  {
   "cell_type": "code",
   "execution_count": 69,
   "metadata": {
    "collapsed": true
   },
   "outputs": [],
   "source": [
    "with open(\"../models/translate.h5\", \"wb\") as picklefile:\n",
    "    pickle.dump(lexicon, picklefile)"
   ]
  },
  {
   "cell_type": "code",
   "execution_count": null,
   "metadata": {
    "collapsed": true
   },
   "outputs": [],
   "source": []
  }
 ],
 "metadata": {
  "kernelspec": {
   "display_name": "Python 3",
   "language": "python",
   "name": "python3"
  },
  "language_info": {
   "codemirror_mode": {
    "name": "ipython",
    "version": 3
   },
   "file_extension": ".py",
   "mimetype": "text/x-python",
   "name": "python",
   "nbconvert_exporter": "python",
   "pygments_lexer": "ipython3",
   "version": "3.6.0"
  }
 },
 "nbformat": 4,
 "nbformat_minor": 2
}
