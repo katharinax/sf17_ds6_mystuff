{
 "cells": [
  {
   "cell_type": "code",
   "execution_count": 86,
   "metadata": {
    "collapsed": true
   },
   "outputs": [],
   "source": [
    "import pandas as pd\n",
    "import numpy as np\n",
    "import matplotlib.pyplot as plt\n",
    "from sklearn.preprocessing import PolynomialFeatures\n",
    "import re\n",
    "from sqlalchemy import create_engine\n",
    "import pickle\n",
    "import warnings\n",
    "#import requests\n",
    "#from bs4 import BeautifulSoup\n",
    "#import time\n",
    "#from fake_useragent import UserAgent\n",
    "#import sys, os\n",
    "\n",
    "warnings.filterwarnings(\"ignore\")\n",
    "%matplotlib inline"
   ]
  },
  {
   "cell_type": "code",
   "execution_count": 87,
   "metadata": {
    "collapsed": true
   },
   "outputs": [],
   "source": [
    "with open(\"cleaned_data.pkl\", 'rb') as picklefile: \n",
    "    df = pickle.load(picklefile).drop_duplicates()"
   ]
  },
  {
   "cell_type": "markdown",
   "metadata": {},
   "source": [
    "### add features"
   ]
  },
  {
   "cell_type": "markdown",
   "metadata": {},
   "source": [
    "- tag as dummies"
   ]
  },
  {
   "cell_type": "code",
   "execution_count": 88,
   "metadata": {
    "collapsed": false
   },
   "outputs": [],
   "source": [
    "tag_dummy = pd.DataFrame(df[['q_id', 'q_tag']].drop_duplicates().pivot_table(\n",
    "    index = 'q_id', values = 'q_tag', aggfunc = (lambda x: \",\".join(x))))\n",
    "tag_dummy.reset_index(inplace = True)\n",
    "row_ind = tag_dummy['q_id'].values\n",
    "tag_dummy = tag_dummy['q_tag'].str.get_dummies(sep=',')\n",
    "tag_dummy = tag_dummy.set_index(row_ind)\n",
    "tag_dummy.reset_index(inplace = True)\n",
    "tag_dummy.rename(index = str, columns = {\"index\": \"q_id\"}, inplace = True)\n",
    "df = df.merge(tag_dummy, on = 'q_id')"
   ]
  },
  {
   "cell_type": "code",
   "execution_count": 90,
   "metadata": {
    "collapsed": false
   },
   "outputs": [
    {
     "data": {
      "text/html": [
       "<div>\n",
       "<table border=\"1\" class=\"dataframe\">\n",
       "  <thead>\n",
       "    <tr style=\"text-align: right;\">\n",
       "      <th>python-3.x</th>\n",
       "      <th>0</th>\n",
       "      <th>1</th>\n",
       "    </tr>\n",
       "    <tr>\n",
       "      <th>python-2.7</th>\n",
       "      <th></th>\n",
       "      <th></th>\n",
       "    </tr>\n",
       "  </thead>\n",
       "  <tbody>\n",
       "    <tr>\n",
       "      <th>0</th>\n",
       "      <td>67839</td>\n",
       "      <td>6809</td>\n",
       "    </tr>\n",
       "    <tr>\n",
       "      <th>1</th>\n",
       "      <td>7577</td>\n",
       "      <td>655</td>\n",
       "    </tr>\n",
       "  </tbody>\n",
       "</table>\n",
       "</div>"
      ],
      "text/plain": [
       "python-3.x      0     1\n",
       "python-2.7             \n",
       "0           67839  6809\n",
       "1            7577   655"
      ]
     },
     "execution_count": 90,
     "metadata": {},
     "output_type": "execute_result"
    }
   ],
   "source": [
    "#pd.crosstab(df['python-2.7'], df['python-3.x'])"
   ]
  },
  {
   "cell_type": "code",
   "execution_count": 91,
   "metadata": {
    "collapsed": false
   },
   "outputs": [],
   "source": [
    "cond = (df['python-2.7'] == 1) ^ (df['python-3.x'] == 1)\n",
    "df = df.loc[cond]\n",
    "df['label_col'] = df['python-3.x'] == 1 #label_col == 1 means it's a Python3 question\n",
    "df = df.drop(['q_tag', 'python-2.7', 'python-3.x'], axis = 1)"
   ]
  },
  {
   "cell_type": "markdown",
   "metadata": {
    "collapsed": true
   },
   "source": [
    "- datetime manipulation"
   ]
  },
  {
   "cell_type": "code",
   "execution_count": 92,
   "metadata": {
    "collapsed": false
   },
   "outputs": [],
   "source": [
    "df['log_qa_diff_secs'] = (df['a_date'] - df['q_date']).dt.seconds.map(np.log)\n",
    "cond = np.isinf(df['log_qa_diff_secs'])\n",
    "df.loc[cond, 'log_qa_diff_secs'] = 0\n",
    "\n",
    "df['q_year'] = df['q_date'].dt.year\n",
    "df['q_mon'] = df['q_date'].dt.month\n",
    "df['q_day'] = df['q_date'].dt.day\n",
    "df['q_dow'] = df['q_date'].dt.weekday\n",
    "df['log_q_how_recent_secs'] = (max(df['q_date']) - df['q_date']).dt.seconds.map(np.log)\n",
    "cond = np.isinf(df['log_q_how_recent_secs'])\n",
    "df.loc[cond, 'log_q_how_recent_secs'] = 0\n",
    "\n",
    "df['a_year'] = df['a_date'].dt.year\n",
    "df['a_mon'] = df['a_date'].dt.month\n",
    "df['a_day'] = df['a_date'].dt.day\n",
    "df['a_dow'] = df['a_date'].dt.weekday\n",
    "df['log_a_how_recent_secs'] = (max(df['a_date']) - df['a_date']).dt.seconds.map(np.log)\n",
    "cond = np.isinf(df['log_a_how_recent_secs'])\n",
    "df.loc[cond, 'log_a_how_recent_secs'] = 0\n",
    "\n",
    "df = df.drop(['q_date', 'a_date'], axis = 1)"
   ]
  },
  {
   "cell_type": "markdown",
   "metadata": {
    "collapsed": true
   },
   "source": [
    "- length of text"
   ]
  },
  {
   "cell_type": "code",
   "execution_count": 93,
   "metadata": {
    "collapsed": false
   },
   "outputs": [],
   "source": [
    "df['q_title_len'] = df['q_title'].str.len()\n",
    "df['q_body_len'] = df['q_body'].str.len()\n",
    "df['a_body_len'] = df['a_body'].str.len()\n",
    "\n",
    "#TODO Process html tags, does it contain code, more nlp, etc.\n",
    "\n",
    "df = df.drop(['q_title', 'q_body', 'a_body'], axis = 1)"
   ]
  },
  {
   "cell_type": "code",
   "execution_count": null,
   "metadata": {
    "collapsed": true
   },
   "outputs": [],
   "source": []
  },
  {
   "cell_type": "code",
   "execution_count": null,
   "metadata": {
    "collapsed": true
   },
   "outputs": [],
   "source": []
  },
  {
   "cell_type": "code",
   "execution_count": null,
   "metadata": {
    "collapsed": true
   },
   "outputs": [],
   "source": []
  },
  {
   "cell_type": "code",
   "execution_count": null,
   "metadata": {
    "collapsed": true
   },
   "outputs": [],
   "source": []
  },
  {
   "cell_type": "markdown",
   "metadata": {},
   "source": [
    "### pickle data"
   ]
  },
  {
   "cell_type": "code",
   "execution_count": 94,
   "metadata": {
    "collapsed": true
   },
   "outputs": [],
   "source": [
    "with open('cleaned2_data.pkl', 'wb') as picklefile:\n",
    "    pickle.dump(df, picklefile)"
   ]
  },
  {
   "cell_type": "code",
   "execution_count": null,
   "metadata": {
    "collapsed": true
   },
   "outputs": [],
   "source": []
  }
 ],
 "metadata": {
  "kernelspec": {
   "display_name": "Python 3",
   "language": "python",
   "name": "python3"
  },
  "language_info": {
   "codemirror_mode": {
    "name": "ipython",
    "version": 3
   },
   "file_extension": ".py",
   "mimetype": "text/x-python",
   "name": "python",
   "nbconvert_exporter": "python",
   "pygments_lexer": "ipython3",
   "version": "3.6.0"
  }
 },
 "nbformat": 4,
 "nbformat_minor": 2
}
