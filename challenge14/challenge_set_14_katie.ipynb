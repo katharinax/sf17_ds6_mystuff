{
 "cells": [
  {
   "cell_type": "code",
   "execution_count": 1,
   "metadata": {
    "collapsed": true
   },
   "outputs": [],
   "source": [
    "# Keep this running in the command line:\n",
    "# ssh -NL 12345:localhost:27017 myaws &\n",
    "# To kill:\n",
    "# use ps | grep \"ssh -NL\" to find jobID, then\n",
    "# kill [jobID]"
   ]
  },
  {
   "cell_type": "code",
   "execution_count": 190,
   "metadata": {
    "collapsed": true
   },
   "outputs": [],
   "source": [
    "import json\n",
    "from pymongo import MongoClient\n",
    "import pickle\n",
    "import numpy as np\n",
    "import pandas as pd\n",
    "import matplotlib.pyplot as plt\n",
    "import re\n",
    "from stop_words import get_stop_words\n",
    "%matplotlib inline"
   ]
  },
  {
   "cell_type": "markdown",
   "metadata": {},
   "source": [
    "### set up mongo"
   ]
  },
  {
   "cell_type": "code",
   "execution_count": 3,
   "metadata": {
    "collapsed": true
   },
   "outputs": [],
   "source": [
    "client = MongoClient(port=12345)"
   ]
  },
  {
   "cell_type": "code",
   "execution_count": 13,
   "metadata": {
    "collapsed": true
   },
   "outputs": [],
   "source": [
    "db = client.metal"
   ]
  },
  {
   "cell_type": "code",
   "execution_count": 14,
   "metadata": {
    "collapsed": true
   },
   "outputs": [],
   "source": [
    "collection = db.metalCollections"
   ]
  },
  {
   "cell_type": "markdown",
   "metadata": {},
   "source": [
    "### import data"
   ]
  },
  {
   "cell_type": "code",
   "execution_count": 126,
   "metadata": {
    "collapsed": false
   },
   "outputs": [],
   "source": [
    "with open(\"heavy_metal_parsed.pkl\", 'rb') as datafile:\n",
    "    heavy_metal_reviews = pickle.load(datafile)"
   ]
  },
  {
   "cell_type": "code",
   "execution_count": 37,
   "metadata": {
    "collapsed": false
   },
   "outputs": [
    {
     "data": {
      "text/plain": [
       "856"
      ]
     },
     "execution_count": 37,
     "metadata": {},
     "output_type": "execute_result"
    }
   ],
   "source": [
    "#len(heavy_metal_reviews)"
   ]
  },
  {
   "cell_type": "code",
   "execution_count": 11,
   "metadata": {
    "collapsed": false
   },
   "outputs": [
    {
     "name": "stdout",
     "output_type": "stream",
     "text": [
      "dict_keys(['raw', 'head', 'metal_cred', 'title', 'direct', 'solid_metal_nuggets', 'cast', 'the_meat', 'year', 'sections'])\n"
     ]
    }
   ],
   "source": [
    "# first_review = heavy_metal_reviews[0]\n",
    "# for line in first_review['raw']:\n",
    "#     print(line)\n",
    "# print(first_review.keys())"
   ]
  },
  {
   "cell_type": "markdown",
   "metadata": {},
   "source": [
    "### insert data"
   ]
  },
  {
   "cell_type": "code",
   "execution_count": 34,
   "metadata": {
    "collapsed": false
   },
   "outputs": [],
   "source": [
    "#del_result = collection.delete_many({})"
   ]
  },
  {
   "cell_type": "code",
   "execution_count": 35,
   "metadata": {
    "collapsed": false
   },
   "outputs": [],
   "source": [
    "result = collection.insert_many(heavy_metal_reviews)"
   ]
  },
  {
   "cell_type": "code",
   "execution_count": 38,
   "metadata": {
    "collapsed": true
   },
   "outputs": [],
   "source": [
    "del heavy_metal_reviews # make sure I'm not using the list directly"
   ]
  },
  {
   "cell_type": "markdown",
   "metadata": {},
   "source": [
    "### challenge 1"
   ]
  },
  {
   "cell_type": "code",
   "execution_count": 84,
   "metadata": {
    "collapsed": false
   },
   "outputs": [],
   "source": [
    "yr = list(collection.aggregate([\n",
    "    { \"$group\": { \n",
    "        \"_id\": \"$year\", \n",
    "        \"ct\": { \"$sum\": 1 } \n",
    "    } }\n",
    "    ]))"
   ]
  },
  {
   "cell_type": "code",
   "execution_count": 90,
   "metadata": {
    "collapsed": false
   },
   "outputs": [
    {
     "data": {
      "text/plain": [
       "<Container object of 74 artists>"
      ]
     },
     "execution_count": 90,
     "metadata": {},
     "output_type": "execute_result"
    },
    {
     "data": {
      "image/png": "[encoded data removed]",
      "text/plain": [
       "<matplotlib.figure.Figure at 0x10ced7be0>"
      ]
     },
     "metadata": {},
     "output_type": "display_data"
    }
   ],
   "source": [
    "x = [x['_id'] for x in yr]\n",
    "y = [x['ct'] for x in yr]\n",
    "plt.bar(x, y)"
   ]
  },
  {
   "cell_type": "code",
   "execution_count": 91,
   "metadata": {
    "collapsed": false
   },
   "outputs": [
    {
     "name": "stdout",
     "output_type": "stream",
     "text": [
      "74 metal movies came out over the years\n"
     ]
    }
   ],
   "source": [
    "print(len(x), \"metal movies came out over the years\")"
   ]
  },
  {
   "cell_type": "markdown",
   "metadata": {},
   "source": [
    "### Challenge 2"
   ]
  },
  {
   "cell_type": "code",
   "execution_count": 141,
   "metadata": {
    "collapsed": false
   },
   "outputs": [],
   "source": [
    "cast = collection.find({}, {\"_id\": 0, \"cast\": 1})"
   ]
  },
  {
   "cell_type": "code",
   "execution_count": 142,
   "metadata": {
    "collapsed": false
   },
   "outputs": [],
   "source": [
    "cast_dict = {}\n",
    "for c in cast: \n",
    "    li = c[\"cast\"]\n",
    "    for person in li:\n",
    "        if person != '': # clean data\n",
    "            try:\n",
    "                cast_dict[person] += 1\n",
    "            except:\n",
    "                cast_dict[person] = 1"
   ]
  },
  {
   "cell_type": "code",
   "execution_count": 164,
   "metadata": {
    "collapsed": false
   },
   "outputs": [
    {
     "name": "stdout",
     "output_type": "stream",
     "text": [
      "The cast member that appeared in most Heavy Metal movies is Alice Cooper\n"
     ]
    }
   ],
   "source": [
    "max_val = max(cast_dict.values())\n",
    "max_person = [x[0] for x in cast_dict.items() if x[1] == max_val]\n",
    "print(\"The cast member that appeared in most Heavy Metal movies is\", max_person[0])"
   ]
  },
  {
   "cell_type": "code",
   "execution_count": 166,
   "metadata": {
    "collapsed": false
   },
   "outputs": [
    {
     "name": "stdout",
     "output_type": "stream",
     "text": [
      "There is at least one that is shared by more than one of these movies\n"
     ]
    }
   ],
   "source": [
    "# c = collection.find({\"cast\":{\"$elemMatch\": {\"$regex\" : 'Alice Cooper'}}}, {\"_id\": 1, \"cast\": 1})\n",
    "# for i in c:\n",
    "#     print(i)\n",
    "print(\"There is at least one that is shared by more than one of these movies\")"
   ]
  },
  {
   "cell_type": "markdown",
   "metadata": {},
   "source": [
    "### Challenge 3"
   ]
  },
  {
   "cell_type": "code",
   "execution_count": 212,
   "metadata": {
    "collapsed": true
   },
   "outputs": [],
   "source": [
    "title = collection.find({}, {\"_id\": 0, \"title\": 1})"
   ]
  },
  {
   "cell_type": "code",
   "execution_count": 213,
   "metadata": {
    "collapsed": false
   },
   "outputs": [],
   "source": [
    "title_dict = {}\n",
    "for t in title: \n",
    "    li = t[\"title\"].split(\" \")\n",
    "    for word in li:\n",
    "        word = word.lower() # clean data\n",
    "        if word != '': # clean data\n",
    "            try:\n",
    "                title_dict[word] += 1\n",
    "            except:\n",
    "                title_dict[word] = 1"
   ]
  },
  {
   "cell_type": "code",
   "execution_count": 216,
   "metadata": {
    "collapsed": false
   },
   "outputs": [
    {
     "name": "stdout",
     "output_type": "stream",
     "text": [
      "The word that appeared the most is \"the\"\n"
     ]
    }
   ],
   "source": [
    "max_val = max(title_dict.values())\n",
    "max_word = [x[0] for x in title_dict.items() if x[1] == max_val]\n",
    "print('The word that appeared the most is \"' + max_word[0] + '\"')"
   ]
  },
  {
   "cell_type": "markdown",
   "metadata": {},
   "source": [
    "### Challenge 3 - get rid of stop words"
   ]
  },
  {
   "cell_type": "code",
   "execution_count": 217,
   "metadata": {
    "collapsed": true
   },
   "outputs": [],
   "source": [
    "title2 = collection.find({}, {\"_id\": 0, \"title\": 1}) # need to re-assign cursor"
   ]
  },
  {
   "cell_type": "code",
   "execution_count": 218,
   "metadata": {
    "collapsed": true
   },
   "outputs": [],
   "source": [
    "title_dict2 = {}\n",
    "stop_words = get_stop_words('en')\n",
    "for t in title2: \n",
    "    li = t[\"title\"].split(\" \")\n",
    "    for word in li:\n",
    "        word = word.lower() # clean data\n",
    "        if (word != '') and (word not in stop_words): # clean data\n",
    "            try:\n",
    "                title_dict2[word] += 1\n",
    "            except:\n",
    "                title_dict2[word] = 1"
   ]
  },
  {
   "cell_type": "code",
   "execution_count": 219,
   "metadata": {
    "collapsed": false
   },
   "outputs": [
    {
     "name": "stdout",
     "output_type": "stream",
     "text": [
      "The non-stop word that appeared the most is \"metal\"\n"
     ]
    }
   ],
   "source": [
    "max_val = max(title_dict2.values())\n",
    "max_nonstopword = [x[0] for x in title_dict2.items() if x[1] == max_val]\n",
    "print('The non-stop word that appeared the most is \"' + max_nonstopword[0] + '\"')"
   ]
  },
  {
   "cell_type": "markdown",
   "metadata": {},
   "source": [
    "### Challenge 4"
   ]
  },
  {
   "cell_type": "code",
   "execution_count": 236,
   "metadata": {
    "collapsed": false
   },
   "outputs": [],
   "source": [
    "# cred = collection.aggregate([\n",
    "#     { \"$match\": { \"year\": {\"$gt\": 1969, \"$lt\": 1980} } },\n",
    "#     { \"$group\": { \"_id\": \"$metal_cred\", \"ct\": { \"$sum\": 1 } } }\n",
    "#     ])"
   ]
  },
  {
   "cell_type": "code",
   "execution_count": 278,
   "metadata": {
    "collapsed": false
   },
   "outputs": [],
   "source": [
    "def get_top5(st_yr, end_yr):\n",
    "    cred = collection.find({\"year\": {\"$gt\": st_yr - 1, \"$lt\": end_yr}}, {\"_id\": 0, \"metal_cred\": 1})\n",
    "\n",
    "    cred_dict = {}\n",
    "    for c in cred:\n",
    "        li = c[\"metal_cred\"] \n",
    "        for word in li:\n",
    "            if (word != '') and (word != 'METAL CRED') and (word != 'METAL\\nCRED'): # clean data\n",
    "                try:\n",
    "                    cred_dict[word] += 1\n",
    "                except:\n",
    "                    cred_dict[word] = 1\n",
    "\n",
    "    max_val_li = sorted(cred_dict.values(), reverse = True)[:5]\n",
    "    max_cred = [x[0] for x in cred_dict.items() if x[1] in max_val_li]\n",
    "    return max_cred"
   ]
  },
  {
   "cell_type": "code",
   "execution_count": 279,
   "metadata": {
    "collapsed": false
   },
   "outputs": [
    {
     "name": "stdout",
     "output_type": "stream",
     "text": [
      "The top 5 (including ties) metal cred keywords in the 70s are\n",
      "['Satan', 'Black Mass', 'Giallo', 'Video Nasty', 'Zombies', 'Post-Apocalypse']\n"
     ]
    }
   ],
   "source": [
    "print(r\"The top 5 (including ties) metal cred keywords in the 70s are\")\n",
    "print(get_top5(1970, 1980))"
   ]
  },
  {
   "cell_type": "code",
   "execution_count": 280,
   "metadata": {
    "collapsed": false
   },
   "outputs": [
    {
     "name": "stdout",
     "output_type": "stream",
     "text": [
      "The top 5 (including ties) metal cred keywords in the 80s are\n",
      "['Post-Apocalypse', '’80s Italian Horror', 'Video Nasty', 'Satan', 'Sword and Sorcery', 'Zombies', '’80s Slasher']\n"
     ]
    }
   ],
   "source": [
    "print(r\"The top 5 (including ties) metal cred keywords in the 80s are\")\n",
    "print(get_top5(1980, 1990))"
   ]
  },
  {
   "cell_type": "code",
   "execution_count": 281,
   "metadata": {
    "collapsed": false
   },
   "outputs": [
    {
     "name": "stdout",
     "output_type": "stream",
     "text": [
      "The top 5 (including ties) metal cred keywords in the 90s are\n",
      "['Lemmy', 'Ozzy Osbourne', 'Satan', 'Iggy Pop', 'Zombies', 'Post-Apocalypse', 'Gwar', 'Alice Cooper', 'Metallica']\n"
     ]
    }
   ],
   "source": [
    "print(r\"The top 5 (including ties) metal cred keywords in the 90s are\")\n",
    "print(get_top5(1990, 2000))"
   ]
  },
  {
   "cell_type": "code",
   "execution_count": 282,
   "metadata": {
    "collapsed": false
   },
   "outputs": [
    {
     "name": "stdout",
     "output_type": "stream",
     "text": [
      "The top 5 (including ties) metal cred keywords in the 2000s are\n",
      "['Censorship', 'Satan', 'Rob Zombie', 'Torture Porn', 'Christopher Lee', 'Jigsaw', 'Billy Puppet', 'Music Score: Charlie Clouser']\n"
     ]
    }
   ],
   "source": [
    "print(r\"The top 5 (including ties) metal cred keywords in the 2000s are\")\n",
    "print(get_top5(2000, 2010))"
   ]
  },
  {
   "cell_type": "markdown",
   "metadata": {},
   "source": [
    "### Challenge 5"
   ]
  },
  {
   "cell_type": "code",
   "execution_count": null,
   "metadata": {
    "collapsed": true
   },
   "outputs": [],
   "source": [
    "#TODO questions at https://github.com/katharinax/sf17_ds6/tree/master/challenges/challenges_questions/14-mongo_twitter"
   ]
  },
  {
   "cell_type": "code",
   "execution_count": null,
   "metadata": {
    "collapsed": true
   },
   "outputs": [],
   "source": []
  },
  {
   "cell_type": "code",
   "execution_count": null,
   "metadata": {
    "collapsed": true
   },
   "outputs": [],
   "source": []
  },
  {
   "cell_type": "code",
   "execution_count": null,
   "metadata": {
    "collapsed": true
   },
   "outputs": [],
   "source": []
  },
  {
   "cell_type": "code",
   "execution_count": null,
   "metadata": {
    "collapsed": true
   },
   "outputs": [],
   "source": []
  }
 ],
 "metadata": {
  "kernelspec": {
   "display_name": "Python 3",
   "language": "python",
   "name": "python3"
  },
  "language_info": {
   "codemirror_mode": {
    "name": "ipython",
    "version": 3
   },
   "file_extension": ".py",
   "mimetype": "text/x-python",
   "name": "python",
   "nbconvert_exporter": "python",
   "pygments_lexer": "ipython3",
   "version": "3.6.0"
  }
 },
 "nbformat": 4,
 "nbformat_minor": 2
}
