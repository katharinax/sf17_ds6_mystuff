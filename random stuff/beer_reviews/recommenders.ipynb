{
 "cells": [
  {
   "cell_type": "markdown",
   "metadata": {
    "slideshow": {
     "slide_type": "slide"
    }
   },
   "source": [
    "# Recommender Systems"
   ]
  },
  {
   "cell_type": "markdown",
   "metadata": {
    "slideshow": {
     "slide_type": "slide"
    }
   },
   "source": [
    "Recommender Systems have become ubiquitous in the modern data science landscape, as companies like Google, Netflix, Pandora, Facebook, etc. rely heavily on them to provide targeted content recommendation to their users to create a more enjoyable user experience.  In these exercises, we'll focus on the process of ***collaborative filtering*** for building recommenders on 2 different datasets (beers and movies).  "
   ]
  },
  {
   "cell_type": "markdown",
   "metadata": {
    "slideshow": {
     "slide_type": "slide"
    }
   },
   "source": [
    "[Collaborative Filtering](https://en.wikipedia.org/wiki/Collaborative_filtering) relies on a ***ratings matrix*** for all items to generate similarities between items and users based on similar ratings.  It's important to remember that collaborative filtering is one of the 2 main ways to conduct recommendation, the other being [Content-Based Filtering](https://en.wikipedia.org/wiki/Recommender_system#Content-based_filtering) which explicitly maps items and/or users into a shared feature space based on explicit user/item characteristics.  State of the art recommenders will often rely on hybrid approaches of these 2, so it's important to understand the differences, strengths, and weaknesses of each and what separates them."
   ]
  },
  {
   "cell_type": "markdown",
   "metadata": {
    "slideshow": {
     "slide_type": "slide"
    }
   },
   "source": [
    "### Datasets\n",
    "- [Beer Ratings](https://github.com/pburkard88/DS_BOS_06/blob/master/Data/beer_reviews.tar.gz): A dataset of beer reviews\n",
    "- [Movielens Data](https://github.com/pburkard88/DS_BOS_06/blob/master/Data/movielens): A dataset of movie ratings from the original [here](http://grouplens.org/datasets/movielens/)"
   ]
  },
  {
   "cell_type": "markdown",
   "metadata": {
    "slideshow": {
     "slide_type": "slide"
    }
   },
   "source": [
    "### Learning Goals\n",
    "- Perform collaborative filtering from ratings matrices using `pandas` and `sklearn` on the beers data\n",
    "- Understand why this approach represents collaborative filtering\n",
    "- Perform collaborative filtering using the [python-recsys](https://github.com/ocelma/python-recsys) library that provides some nice built-in recommender functionality\n",
    "- Understand how SVDs or other matrix decompositions might fit in in the context of a recommender algorithm"
   ]
  },
  {
   "cell_type": "markdown",
   "metadata": {
    "slideshow": {
     "slide_type": "slide"
    }
   },
   "source": [
    "## Similarity based Recommendation System: Beers\n",
    "The first dataset we'll work with is a list of many beer reviews by a variety of reviewers with accompanying beer metadata on every review.  We'll use this data to generate our reviewer/beer ratings matrix from which we can perform collaborative filtering and recommend beers based on user preferences."
   ]
  },
  {
   "cell_type": "markdown",
   "metadata": {
    "slideshow": {
     "slide_type": "slide"
    }
   },
   "source": [
    "### Beers: Get the Data\n",
    "First perform the usual imports of `numpy` and `pandas` as `np` and `pd`."
   ]
  },
  {
   "cell_type": "code",
   "execution_count": 2,
   "metadata": {
    "collapsed": false,
    "slideshow": {
     "slide_type": "slide"
    }
   },
   "outputs": [],
   "source": [
    "import pandas as pd\n",
    "import numpy as np"
   ]
  },
  {
   "cell_type": "markdown",
   "metadata": {
    "slideshow": {
     "slide_type": "slide"
    }
   },
   "source": [
    "Now let's get the data.  If you don't already have it locally you can use curl to pull it down."
   ]
  },
  {
   "cell_type": "code",
   "execution_count": 2,
   "metadata": {
    "collapsed": false,
    "slideshow": {
     "slide_type": "slide"
    }
   },
   "outputs": [
    {
     "name": "stdout",
     "output_type": "stream",
     "text": [
      "  % Total    % Received % Xferd  Average Speed   Time    Time     Time  Current\n",
      "                                 Dload  Upload   Total   Spent    Left  Speed\n",
      "100 27.3M  100 27.3M    0     0  6907k      0  0:00:04  0:00:04 --:--:-- 6959k\n"
     ]
    }
   ],
   "source": [
    "! curl -O https://s3.amazonaws.com/demo-datasets/beer_reviews.tar.gz"
   ]
  },
  {
   "cell_type": "markdown",
   "metadata": {
    "slideshow": {
     "slide_type": "slide"
    }
   },
   "source": [
    "These steps here are optional, just move the data some place where you know where it is and then point your eventual call to `read_csv()` to that location."
   ]
  },
  {
   "cell_type": "code",
   "execution_count": 3,
   "metadata": {
    "collapsed": false,
    "slideshow": {
     "slide_type": "slide"
    }
   },
   "outputs": [],
   "source": [
    "! mv 'beer_reviews.tar.gz' ~/data/"
   ]
  },
  {
   "cell_type": "code",
   "execution_count": 4,
   "metadata": {
    "collapsed": false,
    "slideshow": {
     "slide_type": "slide"
    }
   },
   "outputs": [
    {
     "name": "stdout",
     "output_type": "stream",
     "text": [
      "GoogleNews-vectors-negative300.bin    beer_reviews.tar.gz\r\n",
      "GoogleNews-vectors-negative300.bin.gz enable1.txt\r\n",
      "\u001b[34mbeer_reviews\u001b[m\u001b[m                          text8.zip\r\n",
      "beer_reviews.tar                      text8.zip.1\r\n"
     ]
    }
   ],
   "source": [
    "!ls ~/data"
   ]
  },
  {
   "cell_type": "markdown",
   "metadata": {
    "slideshow": {
     "slide_type": "slide"
    }
   },
   "source": [
    "Import the data into a `pandas` dataframe called `df` by calling `read_csv()` with the appropriate path and the parameter `compression='gzip'` (you don't need this if you already extracted your file, it's just nice to see that pandas can handle gzipped data)."
   ]
  },
  {
   "cell_type": "code",
   "execution_count": 8,
   "metadata": {
    "collapsed": false,
    "slideshow": {
     "slide_type": "slide"
    }
   },
   "outputs": [],
   "source": [
    "#df = pd.read_csv(\"~/data/beer_reviews.tar.gz\", compression='gzip', error_bad_lines=False)\n",
    "df = pd.read_csv(\"~/data/beer_reviews/beer_reviews.csv\")\n"
   ]
  },
  {
   "cell_type": "markdown",
   "metadata": {
    "slideshow": {
     "slide_type": "slide"
    }
   },
   "source": [
    "### Explore the Data\n",
    "Let's look at the data with `head()`"
   ]
  },
  {
   "cell_type": "code",
   "execution_count": 6,
   "metadata": {
    "collapsed": false,
    "slideshow": {
     "slide_type": "slide"
    }
   },
   "outputs": [
    {
     "data": {
      "text/html": [
       "<div>\n",
       "<table border=\"1\" class=\"dataframe\">\n",
       "  <thead>\n",
       "    <tr style=\"text-align: right;\">\n",
       "      <th></th>\n",
       "      <th>brewery_id</th>\n",
       "      <th>brewery_name</th>\n",
       "      <th>review_time</th>\n",
       "      <th>review_overall</th>\n",
       "      <th>review_aroma</th>\n",
       "      <th>review_appearance</th>\n",
       "      <th>review_profilename</th>\n",
       "      <th>beer_style</th>\n",
       "      <th>review_palate</th>\n",
       "      <th>review_taste</th>\n",
       "      <th>beer_name</th>\n",
       "      <th>beer_abv</th>\n",
       "      <th>beer_beerid</th>\n",
       "    </tr>\n",
       "  </thead>\n",
       "  <tbody>\n",
       "    <tr>\n",
       "      <th>0</th>\n",
       "      <td>10325</td>\n",
       "      <td>Vecchio Birraio</td>\n",
       "      <td>1234817823</td>\n",
       "      <td>1.5</td>\n",
       "      <td>2.0</td>\n",
       "      <td>2.5</td>\n",
       "      <td>stcules</td>\n",
       "      <td>Hefeweizen</td>\n",
       "      <td>1.5</td>\n",
       "      <td>1.5</td>\n",
       "      <td>Sausa Weizen</td>\n",
       "      <td>5.0</td>\n",
       "      <td>47986</td>\n",
       "    </tr>\n",
       "    <tr>\n",
       "      <th>1</th>\n",
       "      <td>10325</td>\n",
       "      <td>Vecchio Birraio</td>\n",
       "      <td>1235915097</td>\n",
       "      <td>3.0</td>\n",
       "      <td>2.5</td>\n",
       "      <td>3.0</td>\n",
       "      <td>stcules</td>\n",
       "      <td>English Strong Ale</td>\n",
       "      <td>3.0</td>\n",
       "      <td>3.0</td>\n",
       "      <td>Red Moon</td>\n",
       "      <td>6.2</td>\n",
       "      <td>48213</td>\n",
       "    </tr>\n",
       "    <tr>\n",
       "      <th>2</th>\n",
       "      <td>10325</td>\n",
       "      <td>Vecchio Birraio</td>\n",
       "      <td>1235916604</td>\n",
       "      <td>3.0</td>\n",
       "      <td>2.5</td>\n",
       "      <td>3.0</td>\n",
       "      <td>stcules</td>\n",
       "      <td>Foreign / Export Stout</td>\n",
       "      <td>3.0</td>\n",
       "      <td>3.0</td>\n",
       "      <td>Black Horse Black Beer</td>\n",
       "      <td>6.5</td>\n",
       "      <td>48215</td>\n",
       "    </tr>\n",
       "    <tr>\n",
       "      <th>3</th>\n",
       "      <td>10325</td>\n",
       "      <td>Vecchio Birraio</td>\n",
       "      <td>1234725145</td>\n",
       "      <td>3.0</td>\n",
       "      <td>3.0</td>\n",
       "      <td>3.5</td>\n",
       "      <td>stcules</td>\n",
       "      <td>German Pilsener</td>\n",
       "      <td>2.5</td>\n",
       "      <td>3.0</td>\n",
       "      <td>Sausa Pils</td>\n",
       "      <td>5.0</td>\n",
       "      <td>47969</td>\n",
       "    </tr>\n",
       "    <tr>\n",
       "      <th>4</th>\n",
       "      <td>1075</td>\n",
       "      <td>Caldera Brewing Company</td>\n",
       "      <td>1293735206</td>\n",
       "      <td>4.0</td>\n",
       "      <td>4.5</td>\n",
       "      <td>4.0</td>\n",
       "      <td>johnmichaelsen</td>\n",
       "      <td>American Double / Imperial IPA</td>\n",
       "      <td>4.0</td>\n",
       "      <td>4.5</td>\n",
       "      <td>Cauldron DIPA</td>\n",
       "      <td>7.7</td>\n",
       "      <td>64883</td>\n",
       "    </tr>\n",
       "  </tbody>\n",
       "</table>\n",
       "</div>"
      ],
      "text/plain": [
       "   brewery_id             brewery_name  review_time  review_overall  \\\n",
       "0       10325          Vecchio Birraio   1234817823             1.5   \n",
       "1       10325          Vecchio Birraio   1235915097             3.0   \n",
       "2       10325          Vecchio Birraio   1235916604             3.0   \n",
       "3       10325          Vecchio Birraio   1234725145             3.0   \n",
       "4        1075  Caldera Brewing Company   1293735206             4.0   \n",
       "\n",
       "   review_aroma  review_appearance review_profilename  \\\n",
       "0           2.0                2.5            stcules   \n",
       "1           2.5                3.0            stcules   \n",
       "2           2.5                3.0            stcules   \n",
       "3           3.0                3.5            stcules   \n",
       "4           4.5                4.0     johnmichaelsen   \n",
       "\n",
       "                       beer_style  review_palate  review_taste  \\\n",
       "0                      Hefeweizen            1.5           1.5   \n",
       "1              English Strong Ale            3.0           3.0   \n",
       "2          Foreign / Export Stout            3.0           3.0   \n",
       "3                 German Pilsener            2.5           3.0   \n",
       "4  American Double / Imperial IPA            4.0           4.5   \n",
       "\n",
       "                beer_name  beer_abv  beer_beerid  \n",
       "0            Sausa Weizen       5.0        47986  \n",
       "1                Red Moon       6.2        48213  \n",
       "2  Black Horse Black Beer       6.5        48215  \n",
       "3              Sausa Pils       5.0        47969  \n",
       "4           Cauldron DIPA       7.7        64883  "
      ]
     },
     "execution_count": 6,
     "metadata": {},
     "output_type": "execute_result"
    }
   ],
   "source": [
    "df.head()"
   ]
  },
  {
   "cell_type": "markdown",
   "metadata": {
    "slideshow": {
     "slide_type": "slide"
    }
   },
   "source": [
    "Create a separate data frame `df_test` to investigate a little bit further by selecting out only the **beer_name=\"Pale Ale\"** reviews using the `isIn([])` function.  Then sort this resulting table by **review_profilename** and examine the first 100 rows.  You should notice that the same reviewer can review multiple Pale Ales."
   ]
  },
  {
   "cell_type": "code",
   "execution_count": 9,
   "metadata": {
    "collapsed": false,
    "slideshow": {
     "slide_type": "slide"
    }
   },
   "outputs": [
    {
     "name": "stderr",
     "output_type": "stream",
     "text": [
      "/Users/ablevins/anaconda/envs/py35/lib/python3.5/site-packages/ipykernel/__main__.py:1: FutureWarning: sort(columns=....) is deprecated, use sort_values(by=.....)\n",
      "  if __name__ == '__main__':\n"
     ]
    },
    {
     "data": {
      "text/html": [
       "<div>\n",
       "<table border=\"1\" class=\"dataframe\">\n",
       "  <thead>\n",
       "    <tr style=\"text-align: right;\">\n",
       "      <th></th>\n",
       "      <th>brewery_id</th>\n",
       "      <th>brewery_name</th>\n",
       "      <th>review_time</th>\n",
       "      <th>review_overall</th>\n",
       "      <th>review_aroma</th>\n",
       "      <th>review_appearance</th>\n",
       "      <th>review_profilename</th>\n",
       "      <th>beer_style</th>\n",
       "      <th>review_palate</th>\n",
       "      <th>review_taste</th>\n",
       "      <th>beer_name</th>\n",
       "      <th>beer_abv</th>\n",
       "      <th>beer_beerid</th>\n",
       "    </tr>\n",
       "  </thead>\n",
       "  <tbody>\n",
       "    <tr>\n",
       "      <th>912451</th>\n",
       "      <td>19402</td>\n",
       "      <td>Inland Empire Brewing Company</td>\n",
       "      <td>1240528130</td>\n",
       "      <td>4.0</td>\n",
       "      <td>3.0</td>\n",
       "      <td>3.0</td>\n",
       "      <td>0110x011</td>\n",
       "      <td>American Pale Ale (APA)</td>\n",
       "      <td>3.0</td>\n",
       "      <td>3.5</td>\n",
       "      <td>Pale Ale</td>\n",
       "      <td>5.50</td>\n",
       "      <td>49291</td>\n",
       "    </tr>\n",
       "    <tr>\n",
       "      <th>1406262</th>\n",
       "      <td>9824</td>\n",
       "      <td>Silverado Brewing Company</td>\n",
       "      <td>1253298781</td>\n",
       "      <td>3.5</td>\n",
       "      <td>3.5</td>\n",
       "      <td>3.5</td>\n",
       "      <td>1759Girl</td>\n",
       "      <td>American Pale Ale (APA)</td>\n",
       "      <td>2.5</td>\n",
       "      <td>4.0</td>\n",
       "      <td>Pale Ale</td>\n",
       "      <td>5.12</td>\n",
       "      <td>25427</td>\n",
       "    </tr>\n",
       "    <tr>\n",
       "      <th>563154</th>\n",
       "      <td>423</td>\n",
       "      <td>Boulevard Brewing Co.</td>\n",
       "      <td>1305678006</td>\n",
       "      <td>3.5</td>\n",
       "      <td>2.0</td>\n",
       "      <td>4.0</td>\n",
       "      <td>1Adam12</td>\n",
       "      <td>American Pale Ale (APA)</td>\n",
       "      <td>3.0</td>\n",
       "      <td>3.0</td>\n",
       "      <td>Pale Ale</td>\n",
       "      <td>5.40</td>\n",
       "      <td>2094</td>\n",
       "    </tr>\n",
       "    <tr>\n",
       "      <th>525342</th>\n",
       "      <td>2101</td>\n",
       "      <td>Blue Star Brewing Company</td>\n",
       "      <td>1237655645</td>\n",
       "      <td>4.5</td>\n",
       "      <td>4.0</td>\n",
       "      <td>4.0</td>\n",
       "      <td>1fastz28</td>\n",
       "      <td>American Pale Ale (APA)</td>\n",
       "      <td>4.0</td>\n",
       "      <td>4.0</td>\n",
       "      <td>Pale Ale</td>\n",
       "      <td>NaN</td>\n",
       "      <td>5828</td>\n",
       "    </tr>\n",
       "    <tr>\n",
       "      <th>41264</th>\n",
       "      <td>13397</td>\n",
       "      <td>Mountaineer Brewing Co.</td>\n",
       "      <td>1291941443</td>\n",
       "      <td>4.0</td>\n",
       "      <td>3.0</td>\n",
       "      <td>3.5</td>\n",
       "      <td>321jeff</td>\n",
       "      <td>American Pale Ale (APA)</td>\n",
       "      <td>4.0</td>\n",
       "      <td>3.0</td>\n",
       "      <td>Pale Ale</td>\n",
       "      <td>5.59</td>\n",
       "      <td>28951</td>\n",
       "    </tr>\n",
       "    <tr>\n",
       "      <th>1385721</th>\n",
       "      <td>3725</td>\n",
       "      <td>Réservoir</td>\n",
       "      <td>1120719056</td>\n",
       "      <td>3.5</td>\n",
       "      <td>3.0</td>\n",
       "      <td>3.0</td>\n",
       "      <td>3Vandoo</td>\n",
       "      <td>English Pale Ale</td>\n",
       "      <td>4.0</td>\n",
       "      <td>3.0</td>\n",
       "      <td>Pale Ale</td>\n",
       "      <td>5.00</td>\n",
       "      <td>24527</td>\n",
       "    </tr>\n",
       "    <tr>\n",
       "      <th>562967</th>\n",
       "      <td>423</td>\n",
       "      <td>Boulevard Brewing Co.</td>\n",
       "      <td>1203782439</td>\n",
       "      <td>5.0</td>\n",
       "      <td>4.5</td>\n",
       "      <td>4.5</td>\n",
       "      <td>7thstreetbrewery</td>\n",
       "      <td>American Pale Ale (APA)</td>\n",
       "      <td>5.0</td>\n",
       "      <td>4.5</td>\n",
       "      <td>Pale Ale</td>\n",
       "      <td>5.40</td>\n",
       "      <td>2094</td>\n",
       "    </tr>\n",
       "    <tr>\n",
       "      <th>563116</th>\n",
       "      <td>423</td>\n",
       "      <td>Boulevard Brewing Co.</td>\n",
       "      <td>1058366048</td>\n",
       "      <td>4.0</td>\n",
       "      <td>3.5</td>\n",
       "      <td>4.0</td>\n",
       "      <td>ADR</td>\n",
       "      <td>American Pale Ale (APA)</td>\n",
       "      <td>3.5</td>\n",
       "      <td>3.0</td>\n",
       "      <td>Pale Ale</td>\n",
       "      <td>5.40</td>\n",
       "      <td>2094</td>\n",
       "    </tr>\n",
       "    <tr>\n",
       "      <th>477535</th>\n",
       "      <td>16465</td>\n",
       "      <td>Croucher Brewing Co.</td>\n",
       "      <td>1248702467</td>\n",
       "      <td>4.5</td>\n",
       "      <td>3.0</td>\n",
       "      <td>4.5</td>\n",
       "      <td>ADZA</td>\n",
       "      <td>American Pale Ale (APA)</td>\n",
       "      <td>3.5</td>\n",
       "      <td>4.5</td>\n",
       "      <td>Pale Ale</td>\n",
       "      <td>5.00</td>\n",
       "      <td>40487</td>\n",
       "    </tr>\n",
       "    <tr>\n",
       "      <th>1429227</th>\n",
       "      <td>25252</td>\n",
       "      <td>Goodieson Brewery</td>\n",
       "      <td>1304334057</td>\n",
       "      <td>3.0</td>\n",
       "      <td>3.0</td>\n",
       "      <td>3.5</td>\n",
       "      <td>ADZA</td>\n",
       "      <td>American Pale Ale (APA)</td>\n",
       "      <td>3.0</td>\n",
       "      <td>3.0</td>\n",
       "      <td>Pale Ale</td>\n",
       "      <td>4.50</td>\n",
       "      <td>68580</td>\n",
       "    </tr>\n",
       "    <tr>\n",
       "      <th>612416</th>\n",
       "      <td>199</td>\n",
       "      <td>Ballast Point Brewing Company</td>\n",
       "      <td>1305123703</td>\n",
       "      <td>3.5</td>\n",
       "      <td>3.0</td>\n",
       "      <td>3.5</td>\n",
       "      <td>ADZA</td>\n",
       "      <td>Kölsch</td>\n",
       "      <td>3.0</td>\n",
       "      <td>3.5</td>\n",
       "      <td>Pale Ale</td>\n",
       "      <td>5.00</td>\n",
       "      <td>696</td>\n",
       "    </tr>\n",
       "    <tr>\n",
       "      <th>836014</th>\n",
       "      <td>18414</td>\n",
       "      <td>Three Troupers Brewery</td>\n",
       "      <td>1288180209</td>\n",
       "      <td>3.5</td>\n",
       "      <td>3.0</td>\n",
       "      <td>3.0</td>\n",
       "      <td>ADZA</td>\n",
       "      <td>English Pale Ale</td>\n",
       "      <td>3.0</td>\n",
       "      <td>3.5</td>\n",
       "      <td>Pale Ale</td>\n",
       "      <td>4.50</td>\n",
       "      <td>46137</td>\n",
       "    </tr>\n",
       "    <tr>\n",
       "      <th>175527</th>\n",
       "      <td>94</td>\n",
       "      <td>Long Trail Brewing Co.</td>\n",
       "      <td>1285474135</td>\n",
       "      <td>4.5</td>\n",
       "      <td>5.0</td>\n",
       "      <td>5.0</td>\n",
       "      <td>AITCTKD170</td>\n",
       "      <td>English Pale Ale</td>\n",
       "      <td>4.0</td>\n",
       "      <td>4.0</td>\n",
       "      <td>Pale Ale</td>\n",
       "      <td>5.70</td>\n",
       "      <td>55960</td>\n",
       "    </tr>\n",
       "    <tr>\n",
       "      <th>743832</th>\n",
       "      <td>7730</td>\n",
       "      <td>Nøgne Ø - Det Kompromissløse Bryggeri A/S</td>\n",
       "      <td>1197602199</td>\n",
       "      <td>3.5</td>\n",
       "      <td>5.0</td>\n",
       "      <td>3.0</td>\n",
       "      <td>AKBelgianBeast</td>\n",
       "      <td>American Pale Ale (APA)</td>\n",
       "      <td>3.5</td>\n",
       "      <td>3.5</td>\n",
       "      <td>Pale Ale</td>\n",
       "      <td>6.00</td>\n",
       "      <td>19781</td>\n",
       "    </tr>\n",
       "    <tr>\n",
       "      <th>739049</th>\n",
       "      <td>1910</td>\n",
       "      <td>Water Street Brewery</td>\n",
       "      <td>1143907983</td>\n",
       "      <td>2.0</td>\n",
       "      <td>2.5</td>\n",
       "      <td>2.0</td>\n",
       "      <td>ALESwhatCURESya</td>\n",
       "      <td>American Pale Ale (APA)</td>\n",
       "      <td>2.0</td>\n",
       "      <td>2.0</td>\n",
       "      <td>Pale Ale</td>\n",
       "      <td>NaN</td>\n",
       "      <td>10207</td>\n",
       "    </tr>\n",
       "    <tr>\n",
       "      <th>562980</th>\n",
       "      <td>423</td>\n",
       "      <td>Boulevard Brewing Co.</td>\n",
       "      <td>1196906504</td>\n",
       "      <td>4.0</td>\n",
       "      <td>4.0</td>\n",
       "      <td>3.5</td>\n",
       "      <td>AMo</td>\n",
       "      <td>American Pale Ale (APA)</td>\n",
       "      <td>4.5</td>\n",
       "      <td>4.0</td>\n",
       "      <td>Pale Ale</td>\n",
       "      <td>5.40</td>\n",
       "      <td>2094</td>\n",
       "    </tr>\n",
       "    <tr>\n",
       "      <th>477693</th>\n",
       "      <td>7406</td>\n",
       "      <td>Bitter Root Brewing</td>\n",
       "      <td>1209855215</td>\n",
       "      <td>3.5</td>\n",
       "      <td>3.5</td>\n",
       "      <td>3.5</td>\n",
       "      <td>ATLbeerDog</td>\n",
       "      <td>English Pale Ale</td>\n",
       "      <td>3.5</td>\n",
       "      <td>3.5</td>\n",
       "      <td>Pale Ale</td>\n",
       "      <td>5.40</td>\n",
       "      <td>17402</td>\n",
       "    </tr>\n",
       "    <tr>\n",
       "      <th>585600</th>\n",
       "      <td>414</td>\n",
       "      <td>Diamond Bear Brewing Company</td>\n",
       "      <td>1223779502</td>\n",
       "      <td>2.5</td>\n",
       "      <td>2.5</td>\n",
       "      <td>3.0</td>\n",
       "      <td>ATLbeerDog</td>\n",
       "      <td>English Pale Ale</td>\n",
       "      <td>2.5</td>\n",
       "      <td>2.5</td>\n",
       "      <td>Pale Ale</td>\n",
       "      <td>6.20</td>\n",
       "      <td>1216</td>\n",
       "    </tr>\n",
       "    <tr>\n",
       "      <th>258037</th>\n",
       "      <td>778</td>\n",
       "      <td>Pioneer Brewing Company</td>\n",
       "      <td>1027861379</td>\n",
       "      <td>4.0</td>\n",
       "      <td>4.0</td>\n",
       "      <td>4.0</td>\n",
       "      <td>AaronRed</td>\n",
       "      <td>American Pale Ale (APA)</td>\n",
       "      <td>4.0</td>\n",
       "      <td>4.0</td>\n",
       "      <td>Pale Ale</td>\n",
       "      <td>4.20</td>\n",
       "      <td>5095</td>\n",
       "    </tr>\n",
       "    <tr>\n",
       "      <th>1567447</th>\n",
       "      <td>5062</td>\n",
       "      <td>Meantime Brewing Company Limited</td>\n",
       "      <td>1249487635</td>\n",
       "      <td>3.5</td>\n",
       "      <td>3.5</td>\n",
       "      <td>3.5</td>\n",
       "      <td>Absumaster</td>\n",
       "      <td>English Pale Ale</td>\n",
       "      <td>3.0</td>\n",
       "      <td>3.5</td>\n",
       "      <td>Pale Ale</td>\n",
       "      <td>4.70</td>\n",
       "      <td>26632</td>\n",
       "    </tr>\n",
       "    <tr>\n",
       "      <th>12041</th>\n",
       "      <td>9020</td>\n",
       "      <td>Yazoo Brewing Company</td>\n",
       "      <td>1312412155</td>\n",
       "      <td>3.5</td>\n",
       "      <td>3.0</td>\n",
       "      <td>3.0</td>\n",
       "      <td>AgentMunky</td>\n",
       "      <td>American Pale Ale (APA)</td>\n",
       "      <td>4.5</td>\n",
       "      <td>4.0</td>\n",
       "      <td>Pale Ale</td>\n",
       "      <td>5.80</td>\n",
       "      <td>25656</td>\n",
       "    </tr>\n",
       "    <tr>\n",
       "      <th>395060</th>\n",
       "      <td>17282</td>\n",
       "      <td>Good People Brewing Company</td>\n",
       "      <td>1281330164</td>\n",
       "      <td>3.0</td>\n",
       "      <td>2.5</td>\n",
       "      <td>3.0</td>\n",
       "      <td>AgentMunky</td>\n",
       "      <td>American Pale Ale (APA)</td>\n",
       "      <td>3.5</td>\n",
       "      <td>2.5</td>\n",
       "      <td>Pale Ale</td>\n",
       "      <td>5.60</td>\n",
       "      <td>43676</td>\n",
       "    </tr>\n",
       "    <tr>\n",
       "      <th>12035</th>\n",
       "      <td>9020</td>\n",
       "      <td>Yazoo Brewing Company</td>\n",
       "      <td>1322460626</td>\n",
       "      <td>2.5</td>\n",
       "      <td>3.0</td>\n",
       "      <td>3.5</td>\n",
       "      <td>AgentZero</td>\n",
       "      <td>American Pale Ale (APA)</td>\n",
       "      <td>3.0</td>\n",
       "      <td>2.0</td>\n",
       "      <td>Pale Ale</td>\n",
       "      <td>5.80</td>\n",
       "      <td>25656</td>\n",
       "    </tr>\n",
       "    <tr>\n",
       "      <th>1074374</th>\n",
       "      <td>20400</td>\n",
       "      <td>The Ruddy Duck Brewery And Grill</td>\n",
       "      <td>1286255589</td>\n",
       "      <td>4.0</td>\n",
       "      <td>3.0</td>\n",
       "      <td>3.0</td>\n",
       "      <td>AgentZero</td>\n",
       "      <td>American Pale Ale (APA)</td>\n",
       "      <td>3.0</td>\n",
       "      <td>3.0</td>\n",
       "      <td>Pale Ale</td>\n",
       "      <td>5.20</td>\n",
       "      <td>62351</td>\n",
       "    </tr>\n",
       "    <tr>\n",
       "      <th>435820</th>\n",
       "      <td>4614</td>\n",
       "      <td>Orlando Brewing Partners</td>\n",
       "      <td>1245586170</td>\n",
       "      <td>4.5</td>\n",
       "      <td>3.5</td>\n",
       "      <td>4.0</td>\n",
       "      <td>AgingWarrior</td>\n",
       "      <td>American Pale Ale (APA)</td>\n",
       "      <td>4.0</td>\n",
       "      <td>4.0</td>\n",
       "      <td>Pale Ale</td>\n",
       "      <td>6.25</td>\n",
       "      <td>32442</td>\n",
       "    </tr>\n",
       "    <tr>\n",
       "      <th>563180</th>\n",
       "      <td>423</td>\n",
       "      <td>Boulevard Brewing Co.</td>\n",
       "      <td>1285031077</td>\n",
       "      <td>4.5</td>\n",
       "      <td>2.5</td>\n",
       "      <td>3.5</td>\n",
       "      <td>Agold</td>\n",
       "      <td>American Pale Ale (APA)</td>\n",
       "      <td>4.0</td>\n",
       "      <td>3.0</td>\n",
       "      <td>Pale Ale</td>\n",
       "      <td>5.40</td>\n",
       "      <td>2094</td>\n",
       "    </tr>\n",
       "    <tr>\n",
       "      <th>612409</th>\n",
       "      <td>199</td>\n",
       "      <td>Ballast Point Brewing Company</td>\n",
       "      <td>1308611562</td>\n",
       "      <td>3.5</td>\n",
       "      <td>3.5</td>\n",
       "      <td>3.5</td>\n",
       "      <td>AlCaponeJunior</td>\n",
       "      <td>Kölsch</td>\n",
       "      <td>3.0</td>\n",
       "      <td>3.5</td>\n",
       "      <td>Pale Ale</td>\n",
       "      <td>5.00</td>\n",
       "      <td>696</td>\n",
       "    </tr>\n",
       "    <tr>\n",
       "      <th>563172</th>\n",
       "      <td>423</td>\n",
       "      <td>Boulevard Brewing Co.</td>\n",
       "      <td>1291155881</td>\n",
       "      <td>4.0</td>\n",
       "      <td>3.5</td>\n",
       "      <td>4.0</td>\n",
       "      <td>AlCaponeJunior</td>\n",
       "      <td>American Pale Ale (APA)</td>\n",
       "      <td>4.0</td>\n",
       "      <td>4.0</td>\n",
       "      <td>Pale Ale</td>\n",
       "      <td>5.40</td>\n",
       "      <td>2094</td>\n",
       "    </tr>\n",
       "    <tr>\n",
       "      <th>1391878</th>\n",
       "      <td>486</td>\n",
       "      <td>Legend Brewing Co.</td>\n",
       "      <td>1302750809</td>\n",
       "      <td>3.5</td>\n",
       "      <td>3.5</td>\n",
       "      <td>4.0</td>\n",
       "      <td>AlCaponeJunior</td>\n",
       "      <td>American Pale Ale (APA)</td>\n",
       "      <td>4.0</td>\n",
       "      <td>4.0</td>\n",
       "      <td>Pale Ale</td>\n",
       "      <td>6.40</td>\n",
       "      <td>4831</td>\n",
       "    </tr>\n",
       "    <tr>\n",
       "      <th>612457</th>\n",
       "      <td>199</td>\n",
       "      <td>Ballast Point Brewing Company</td>\n",
       "      <td>1280009304</td>\n",
       "      <td>4.0</td>\n",
       "      <td>4.0</td>\n",
       "      <td>3.5</td>\n",
       "      <td>AleWatcher</td>\n",
       "      <td>Kölsch</td>\n",
       "      <td>3.0</td>\n",
       "      <td>3.0</td>\n",
       "      <td>Pale Ale</td>\n",
       "      <td>5.00</td>\n",
       "      <td>696</td>\n",
       "    </tr>\n",
       "    <tr>\n",
       "      <th>...</th>\n",
       "      <td>...</td>\n",
       "      <td>...</td>\n",
       "      <td>...</td>\n",
       "      <td>...</td>\n",
       "      <td>...</td>\n",
       "      <td>...</td>\n",
       "      <td>...</td>\n",
       "      <td>...</td>\n",
       "      <td>...</td>\n",
       "      <td>...</td>\n",
       "      <td>...</td>\n",
       "      <td>...</td>\n",
       "      <td>...</td>\n",
       "    </tr>\n",
       "    <tr>\n",
       "      <th>684413</th>\n",
       "      <td>1683</td>\n",
       "      <td>Santa Fe Brewing Company</td>\n",
       "      <td>1298659381</td>\n",
       "      <td>4.0</td>\n",
       "      <td>3.0</td>\n",
       "      <td>3.5</td>\n",
       "      <td>BeardedRiker</td>\n",
       "      <td>American Pale Ale (APA)</td>\n",
       "      <td>3.5</td>\n",
       "      <td>3.5</td>\n",
       "      <td>Pale Ale</td>\n",
       "      <td>5.50</td>\n",
       "      <td>4798</td>\n",
       "    </tr>\n",
       "    <tr>\n",
       "      <th>562340</th>\n",
       "      <td>423</td>\n",
       "      <td>Boulevard Brewing Co.</td>\n",
       "      <td>1254631484</td>\n",
       "      <td>3.5</td>\n",
       "      <td>3.0</td>\n",
       "      <td>4.5</td>\n",
       "      <td>Beaver13</td>\n",
       "      <td>American Pale Ale (APA)</td>\n",
       "      <td>4.0</td>\n",
       "      <td>3.0</td>\n",
       "      <td>Pale Ale</td>\n",
       "      <td>5.40</td>\n",
       "      <td>2094</td>\n",
       "    </tr>\n",
       "    <tr>\n",
       "      <th>684396</th>\n",
       "      <td>1683</td>\n",
       "      <td>Santa Fe Brewing Company</td>\n",
       "      <td>1097127507</td>\n",
       "      <td>2.5</td>\n",
       "      <td>1.5</td>\n",
       "      <td>4.0</td>\n",
       "      <td>Beaver13</td>\n",
       "      <td>American Pale Ale (APA)</td>\n",
       "      <td>3.5</td>\n",
       "      <td>1.5</td>\n",
       "      <td>Pale Ale</td>\n",
       "      <td>5.50</td>\n",
       "      <td>4798</td>\n",
       "    </tr>\n",
       "    <tr>\n",
       "      <th>1296993</th>\n",
       "      <td>878</td>\n",
       "      <td>Oasis Brewery</td>\n",
       "      <td>1082956131</td>\n",
       "      <td>3.5</td>\n",
       "      <td>3.5</td>\n",
       "      <td>3.5</td>\n",
       "      <td>Beaver13</td>\n",
       "      <td>American Pale Ale (APA)</td>\n",
       "      <td>3.0</td>\n",
       "      <td>3.5</td>\n",
       "      <td>Pale Ale</td>\n",
       "      <td>NaN</td>\n",
       "      <td>5320</td>\n",
       "    </tr>\n",
       "    <tr>\n",
       "      <th>562922</th>\n",
       "      <td>423</td>\n",
       "      <td>Boulevard Brewing Co.</td>\n",
       "      <td>1224559179</td>\n",
       "      <td>4.0</td>\n",
       "      <td>3.5</td>\n",
       "      <td>4.0</td>\n",
       "      <td>BedetheVenerable</td>\n",
       "      <td>American Pale Ale (APA)</td>\n",
       "      <td>4.0</td>\n",
       "      <td>3.5</td>\n",
       "      <td>Pale Ale</td>\n",
       "      <td>5.40</td>\n",
       "      <td>2094</td>\n",
       "    </tr>\n",
       "    <tr>\n",
       "      <th>379251</th>\n",
       "      <td>776</td>\n",
       "      <td>Catamount Brewing Company</td>\n",
       "      <td>918691201</td>\n",
       "      <td>4.0</td>\n",
       "      <td>3.5</td>\n",
       "      <td>4.0</td>\n",
       "      <td>BeerAdvocate</td>\n",
       "      <td>American Pale Ale (APA)</td>\n",
       "      <td>4.0</td>\n",
       "      <td>4.0</td>\n",
       "      <td>Pale Ale</td>\n",
       "      <td>NaN</td>\n",
       "      <td>2379</td>\n",
       "    </tr>\n",
       "    <tr>\n",
       "      <th>612359</th>\n",
       "      <td>199</td>\n",
       "      <td>Ballast Point Brewing Company</td>\n",
       "      <td>1152930407</td>\n",
       "      <td>4.0</td>\n",
       "      <td>3.5</td>\n",
       "      <td>3.5</td>\n",
       "      <td>BeerAmbassador</td>\n",
       "      <td>Kölsch</td>\n",
       "      <td>3.5</td>\n",
       "      <td>4.0</td>\n",
       "      <td>Pale Ale</td>\n",
       "      <td>5.00</td>\n",
       "      <td>696</td>\n",
       "    </tr>\n",
       "    <tr>\n",
       "      <th>698628</th>\n",
       "      <td>130</td>\n",
       "      <td>Boulder Beer / Wilderness Pub</td>\n",
       "      <td>1037390448</td>\n",
       "      <td>3.5</td>\n",
       "      <td>4.0</td>\n",
       "      <td>3.0</td>\n",
       "      <td>BeerAngel</td>\n",
       "      <td>American Pale Ale (APA)</td>\n",
       "      <td>3.0</td>\n",
       "      <td>3.0</td>\n",
       "      <td>Pale Ale</td>\n",
       "      <td>NaN</td>\n",
       "      <td>4707</td>\n",
       "    </tr>\n",
       "    <tr>\n",
       "      <th>739047</th>\n",
       "      <td>1910</td>\n",
       "      <td>Water Street Brewery</td>\n",
       "      <td>1175291079</td>\n",
       "      <td>3.5</td>\n",
       "      <td>3.0</td>\n",
       "      <td>4.5</td>\n",
       "      <td>BeerBelcher</td>\n",
       "      <td>American Pale Ale (APA)</td>\n",
       "      <td>4.0</td>\n",
       "      <td>3.5</td>\n",
       "      <td>Pale Ale</td>\n",
       "      <td>NaN</td>\n",
       "      <td>10207</td>\n",
       "    </tr>\n",
       "    <tr>\n",
       "      <th>1519573</th>\n",
       "      <td>791</td>\n",
       "      <td>Minocqua Brewing Company</td>\n",
       "      <td>1181581516</td>\n",
       "      <td>3.5</td>\n",
       "      <td>3.0</td>\n",
       "      <td>3.0</td>\n",
       "      <td>BeerBelcher</td>\n",
       "      <td>American Pale Ale (APA)</td>\n",
       "      <td>2.5</td>\n",
       "      <td>3.0</td>\n",
       "      <td>Pale Ale</td>\n",
       "      <td>NaN</td>\n",
       "      <td>5714</td>\n",
       "    </tr>\n",
       "    <tr>\n",
       "      <th>698630</th>\n",
       "      <td>130</td>\n",
       "      <td>Boulder Beer / Wilderness Pub</td>\n",
       "      <td>1031596534</td>\n",
       "      <td>4.5</td>\n",
       "      <td>3.5</td>\n",
       "      <td>3.5</td>\n",
       "      <td>BeerBob</td>\n",
       "      <td>American Pale Ale (APA)</td>\n",
       "      <td>4.0</td>\n",
       "      <td>4.0</td>\n",
       "      <td>Pale Ale</td>\n",
       "      <td>NaN</td>\n",
       "      <td>4707</td>\n",
       "    </tr>\n",
       "    <tr>\n",
       "      <th>563137</th>\n",
       "      <td>423</td>\n",
       "      <td>Boulevard Brewing Co.</td>\n",
       "      <td>1026396472</td>\n",
       "      <td>4.0</td>\n",
       "      <td>3.5</td>\n",
       "      <td>3.0</td>\n",
       "      <td>BeerBob</td>\n",
       "      <td>American Pale Ale (APA)</td>\n",
       "      <td>3.5</td>\n",
       "      <td>4.0</td>\n",
       "      <td>Pale Ale</td>\n",
       "      <td>5.40</td>\n",
       "      <td>2094</td>\n",
       "    </tr>\n",
       "    <tr>\n",
       "      <th>671988</th>\n",
       "      <td>651</td>\n",
       "      <td>Ithaca Beer Company</td>\n",
       "      <td>1259634565</td>\n",
       "      <td>3.5</td>\n",
       "      <td>4.0</td>\n",
       "      <td>3.0</td>\n",
       "      <td>BeerCon5</td>\n",
       "      <td>American Pale Ale (APA)</td>\n",
       "      <td>3.5</td>\n",
       "      <td>3.0</td>\n",
       "      <td>Pale Ale</td>\n",
       "      <td>5.80</td>\n",
       "      <td>1783</td>\n",
       "    </tr>\n",
       "    <tr>\n",
       "      <th>470544</th>\n",
       "      <td>392</td>\n",
       "      <td>Weyerbacher Brewing Co.</td>\n",
       "      <td>1299020278</td>\n",
       "      <td>3.5</td>\n",
       "      <td>3.5</td>\n",
       "      <td>3.5</td>\n",
       "      <td>BeerConnoiseur</td>\n",
       "      <td>American Pale Ale (APA)</td>\n",
       "      <td>3.5</td>\n",
       "      <td>3.5</td>\n",
       "      <td>Pale Ale</td>\n",
       "      <td>NaN</td>\n",
       "      <td>10373</td>\n",
       "    </tr>\n",
       "    <tr>\n",
       "      <th>1514385</th>\n",
       "      <td>4426</td>\n",
       "      <td>Hinterland Brewery Restaurant</td>\n",
       "      <td>1276220473</td>\n",
       "      <td>3.5</td>\n",
       "      <td>3.0</td>\n",
       "      <td>3.5</td>\n",
       "      <td>BeerFMAndy</td>\n",
       "      <td>American Pale Ale (APA)</td>\n",
       "      <td>3.5</td>\n",
       "      <td>3.5</td>\n",
       "      <td>Pale Ale</td>\n",
       "      <td>NaN</td>\n",
       "      <td>10175</td>\n",
       "    </tr>\n",
       "    <tr>\n",
       "      <th>739044</th>\n",
       "      <td>1910</td>\n",
       "      <td>Water Street Brewery</td>\n",
       "      <td>1257016347</td>\n",
       "      <td>3.5</td>\n",
       "      <td>4.0</td>\n",
       "      <td>4.0</td>\n",
       "      <td>BeerFMAndy</td>\n",
       "      <td>American Pale Ale (APA)</td>\n",
       "      <td>3.0</td>\n",
       "      <td>3.0</td>\n",
       "      <td>Pale Ale</td>\n",
       "      <td>NaN</td>\n",
       "      <td>10207</td>\n",
       "    </tr>\n",
       "    <tr>\n",
       "      <th>1519571</th>\n",
       "      <td>791</td>\n",
       "      <td>Minocqua Brewing Company</td>\n",
       "      <td>1281320038</td>\n",
       "      <td>3.0</td>\n",
       "      <td>3.0</td>\n",
       "      <td>2.5</td>\n",
       "      <td>BeerFMAndy</td>\n",
       "      <td>American Pale Ale (APA)</td>\n",
       "      <td>3.0</td>\n",
       "      <td>3.0</td>\n",
       "      <td>Pale Ale</td>\n",
       "      <td>NaN</td>\n",
       "      <td>5714</td>\n",
       "    </tr>\n",
       "    <tr>\n",
       "      <th>435817</th>\n",
       "      <td>4614</td>\n",
       "      <td>Orlando Brewing Partners</td>\n",
       "      <td>1255902269</td>\n",
       "      <td>4.0</td>\n",
       "      <td>3.0</td>\n",
       "      <td>3.5</td>\n",
       "      <td>BeerImmediately</td>\n",
       "      <td>American Pale Ale (APA)</td>\n",
       "      <td>4.0</td>\n",
       "      <td>4.0</td>\n",
       "      <td>Pale Ale</td>\n",
       "      <td>6.25</td>\n",
       "      <td>32442</td>\n",
       "    </tr>\n",
       "    <tr>\n",
       "      <th>743774</th>\n",
       "      <td>7730</td>\n",
       "      <td>Nøgne Ø - Det Kompromissløse Bryggeri A/S</td>\n",
       "      <td>1297100278</td>\n",
       "      <td>4.0</td>\n",
       "      <td>4.0</td>\n",
       "      <td>4.0</td>\n",
       "      <td>BeerLover99</td>\n",
       "      <td>American Pale Ale (APA)</td>\n",
       "      <td>4.0</td>\n",
       "      <td>4.5</td>\n",
       "      <td>Pale Ale</td>\n",
       "      <td>6.00</td>\n",
       "      <td>19781</td>\n",
       "    </tr>\n",
       "    <tr>\n",
       "      <th>612262</th>\n",
       "      <td>199</td>\n",
       "      <td>Ballast Point Brewing Company</td>\n",
       "      <td>1234314186</td>\n",
       "      <td>4.0</td>\n",
       "      <td>4.0</td>\n",
       "      <td>3.5</td>\n",
       "      <td>BeerManDan</td>\n",
       "      <td>Kölsch</td>\n",
       "      <td>4.0</td>\n",
       "      <td>4.0</td>\n",
       "      <td>Pale Ale</td>\n",
       "      <td>5.00</td>\n",
       "      <td>696</td>\n",
       "    </tr>\n",
       "    <tr>\n",
       "      <th>791180</th>\n",
       "      <td>255</td>\n",
       "      <td>SLO Brewing Company</td>\n",
       "      <td>1037702315</td>\n",
       "      <td>4.0</td>\n",
       "      <td>4.5</td>\n",
       "      <td>4.0</td>\n",
       "      <td>BeerManDan</td>\n",
       "      <td>American Pale Ale (APA)</td>\n",
       "      <td>4.0</td>\n",
       "      <td>4.0</td>\n",
       "      <td>Pale Ale</td>\n",
       "      <td>NaN</td>\n",
       "      <td>7199</td>\n",
       "    </tr>\n",
       "    <tr>\n",
       "      <th>1238775</th>\n",
       "      <td>7064</td>\n",
       "      <td>Coastal Fog Brewing</td>\n",
       "      <td>1237521126</td>\n",
       "      <td>4.0</td>\n",
       "      <td>3.5</td>\n",
       "      <td>4.0</td>\n",
       "      <td>BeerMeHearMe</td>\n",
       "      <td>American Pale Ale (APA)</td>\n",
       "      <td>4.5</td>\n",
       "      <td>4.0</td>\n",
       "      <td>Pale Ale</td>\n",
       "      <td>4.70</td>\n",
       "      <td>13196</td>\n",
       "    </tr>\n",
       "    <tr>\n",
       "      <th>244105</th>\n",
       "      <td>692</td>\n",
       "      <td>Ellicottville Brewing Co.</td>\n",
       "      <td>1281361186</td>\n",
       "      <td>4.0</td>\n",
       "      <td>4.0</td>\n",
       "      <td>4.5</td>\n",
       "      <td>BeerNinja007</td>\n",
       "      <td>American Pale Ale (APA)</td>\n",
       "      <td>3.5</td>\n",
       "      <td>4.5</td>\n",
       "      <td>Pale Ale</td>\n",
       "      <td>5.50</td>\n",
       "      <td>1983</td>\n",
       "    </tr>\n",
       "    <tr>\n",
       "      <th>175536</th>\n",
       "      <td>94</td>\n",
       "      <td>Long Trail Brewing Co.</td>\n",
       "      <td>1280445373</td>\n",
       "      <td>3.5</td>\n",
       "      <td>4.0</td>\n",
       "      <td>4.5</td>\n",
       "      <td>BeerNinja007</td>\n",
       "      <td>English Pale Ale</td>\n",
       "      <td>2.0</td>\n",
       "      <td>3.5</td>\n",
       "      <td>Pale Ale</td>\n",
       "      <td>5.70</td>\n",
       "      <td>55960</td>\n",
       "    </tr>\n",
       "    <tr>\n",
       "      <th>175539</th>\n",
       "      <td>94</td>\n",
       "      <td>Long Trail Brewing Co.</td>\n",
       "      <td>1275183284</td>\n",
       "      <td>4.0</td>\n",
       "      <td>3.5</td>\n",
       "      <td>4.0</td>\n",
       "      <td>BeerPhan86</td>\n",
       "      <td>English Pale Ale</td>\n",
       "      <td>3.5</td>\n",
       "      <td>4.5</td>\n",
       "      <td>Pale Ale</td>\n",
       "      <td>5.70</td>\n",
       "      <td>55960</td>\n",
       "    </tr>\n",
       "    <tr>\n",
       "      <th>1497976</th>\n",
       "      <td>403</td>\n",
       "      <td>Pyramid Breweries, Inc.</td>\n",
       "      <td>1062476348</td>\n",
       "      <td>4.0</td>\n",
       "      <td>4.0</td>\n",
       "      <td>4.0</td>\n",
       "      <td>BeerResearcher</td>\n",
       "      <td>American Pale Ale (APA)</td>\n",
       "      <td>3.5</td>\n",
       "      <td>3.5</td>\n",
       "      <td>Pale Ale</td>\n",
       "      <td>5.10</td>\n",
       "      <td>1238</td>\n",
       "    </tr>\n",
       "    <tr>\n",
       "      <th>1388935</th>\n",
       "      <td>22509</td>\n",
       "      <td>Kind Beers Brewing</td>\n",
       "      <td>1063246793</td>\n",
       "      <td>4.0</td>\n",
       "      <td>3.5</td>\n",
       "      <td>3.5</td>\n",
       "      <td>BeerResearcher</td>\n",
       "      <td>American Pale Ale (APA)</td>\n",
       "      <td>4.0</td>\n",
       "      <td>3.5</td>\n",
       "      <td>Pale Ale</td>\n",
       "      <td>7.30</td>\n",
       "      <td>57492</td>\n",
       "    </tr>\n",
       "    <tr>\n",
       "      <th>563124</th>\n",
       "      <td>423</td>\n",
       "      <td>Boulevard Brewing Co.</td>\n",
       "      <td>1050255284</td>\n",
       "      <td>4.0</td>\n",
       "      <td>4.0</td>\n",
       "      <td>3.5</td>\n",
       "      <td>BeerResearcher</td>\n",
       "      <td>American Pale Ale (APA)</td>\n",
       "      <td>3.5</td>\n",
       "      <td>4.0</td>\n",
       "      <td>Pale Ale</td>\n",
       "      <td>5.40</td>\n",
       "      <td>2094</td>\n",
       "    </tr>\n",
       "    <tr>\n",
       "      <th>612358</th>\n",
       "      <td>199</td>\n",
       "      <td>Ballast Point Brewing Company</td>\n",
       "      <td>1153005997</td>\n",
       "      <td>5.0</td>\n",
       "      <td>4.0</td>\n",
       "      <td>4.5</td>\n",
       "      <td>BeerRun13</td>\n",
       "      <td>Kölsch</td>\n",
       "      <td>4.0</td>\n",
       "      <td>4.0</td>\n",
       "      <td>Pale Ale</td>\n",
       "      <td>5.00</td>\n",
       "      <td>696</td>\n",
       "    </tr>\n",
       "    <tr>\n",
       "      <th>432750</th>\n",
       "      <td>485</td>\n",
       "      <td>Humboldt Brews LLC</td>\n",
       "      <td>1207511439</td>\n",
       "      <td>4.0</td>\n",
       "      <td>4.0</td>\n",
       "      <td>4.0</td>\n",
       "      <td>BeerSox</td>\n",
       "      <td>American Pale Ale (APA)</td>\n",
       "      <td>4.0</td>\n",
       "      <td>3.5</td>\n",
       "      <td>Pale Ale</td>\n",
       "      <td>4.90</td>\n",
       "      <td>5709</td>\n",
       "    </tr>\n",
       "  </tbody>\n",
       "</table>\n",
       "<p>100 rows × 13 columns</p>\n",
       "</div>"
      ],
      "text/plain": [
       "         brewery_id                               brewery_name  review_time  \\\n",
       "912451        19402              Inland Empire Brewing Company   1240528130   \n",
       "1406262        9824                  Silverado Brewing Company   1253298781   \n",
       "563154          423                      Boulevard Brewing Co.   1305678006   \n",
       "525342         2101                  Blue Star Brewing Company   1237655645   \n",
       "41264         13397                    Mountaineer Brewing Co.   1291941443   \n",
       "1385721        3725                                  Réservoir   1120719056   \n",
       "562967          423                      Boulevard Brewing Co.   1203782439   \n",
       "563116          423                      Boulevard Brewing Co.   1058366048   \n",
       "477535        16465                       Croucher Brewing Co.   1248702467   \n",
       "1429227       25252                          Goodieson Brewery   1304334057   \n",
       "612416          199              Ballast Point Brewing Company   1305123703   \n",
       "836014        18414                     Three Troupers Brewery   1288180209   \n",
       "175527           94                     Long Trail Brewing Co.   1285474135   \n",
       "743832         7730  Nøgne Ø - Det Kompromissløse Bryggeri A/S   1197602199   \n",
       "739049         1910                       Water Street Brewery   1143907983   \n",
       "562980          423                      Boulevard Brewing Co.   1196906504   \n",
       "477693         7406                        Bitter Root Brewing   1209855215   \n",
       "585600          414               Diamond Bear Brewing Company   1223779502   \n",
       "258037          778                    Pioneer Brewing Company   1027861379   \n",
       "1567447        5062           Meantime Brewing Company Limited   1249487635   \n",
       "12041          9020                      Yazoo Brewing Company   1312412155   \n",
       "395060        17282                Good People Brewing Company   1281330164   \n",
       "12035          9020                      Yazoo Brewing Company   1322460626   \n",
       "1074374       20400           The Ruddy Duck Brewery And Grill   1286255589   \n",
       "435820         4614                   Orlando Brewing Partners   1245586170   \n",
       "563180          423                      Boulevard Brewing Co.   1285031077   \n",
       "612409          199              Ballast Point Brewing Company   1308611562   \n",
       "563172          423                      Boulevard Brewing Co.   1291155881   \n",
       "1391878         486                         Legend Brewing Co.   1302750809   \n",
       "612457          199              Ballast Point Brewing Company   1280009304   \n",
       "...             ...                                        ...          ...   \n",
       "684413         1683                   Santa Fe Brewing Company   1298659381   \n",
       "562340          423                      Boulevard Brewing Co.   1254631484   \n",
       "684396         1683                   Santa Fe Brewing Company   1097127507   \n",
       "1296993         878                              Oasis Brewery   1082956131   \n",
       "562922          423                      Boulevard Brewing Co.   1224559179   \n",
       "379251          776                  Catamount Brewing Company    918691201   \n",
       "612359          199              Ballast Point Brewing Company   1152930407   \n",
       "698628          130              Boulder Beer / Wilderness Pub   1037390448   \n",
       "739047         1910                       Water Street Brewery   1175291079   \n",
       "1519573         791                   Minocqua Brewing Company   1181581516   \n",
       "698630          130              Boulder Beer / Wilderness Pub   1031596534   \n",
       "563137          423                      Boulevard Brewing Co.   1026396472   \n",
       "671988          651                        Ithaca Beer Company   1259634565   \n",
       "470544          392                    Weyerbacher Brewing Co.   1299020278   \n",
       "1514385        4426              Hinterland Brewery Restaurant   1276220473   \n",
       "739044         1910                       Water Street Brewery   1257016347   \n",
       "1519571         791                   Minocqua Brewing Company   1281320038   \n",
       "435817         4614                   Orlando Brewing Partners   1255902269   \n",
       "743774         7730  Nøgne Ø - Det Kompromissløse Bryggeri A/S   1297100278   \n",
       "612262          199              Ballast Point Brewing Company   1234314186   \n",
       "791180          255                        SLO Brewing Company   1037702315   \n",
       "1238775        7064                        Coastal Fog Brewing   1237521126   \n",
       "244105          692                  Ellicottville Brewing Co.   1281361186   \n",
       "175536           94                     Long Trail Brewing Co.   1280445373   \n",
       "175539           94                     Long Trail Brewing Co.   1275183284   \n",
       "1497976         403                    Pyramid Breweries, Inc.   1062476348   \n",
       "1388935       22509                         Kind Beers Brewing   1063246793   \n",
       "563124          423                      Boulevard Brewing Co.   1050255284   \n",
       "612358          199              Ballast Point Brewing Company   1153005997   \n",
       "432750          485                         Humboldt Brews LLC   1207511439   \n",
       "\n",
       "         review_overall  review_aroma  review_appearance review_profilename  \\\n",
       "912451              4.0           3.0                3.0           0110x011   \n",
       "1406262             3.5           3.5                3.5           1759Girl   \n",
       "563154              3.5           2.0                4.0            1Adam12   \n",
       "525342              4.5           4.0                4.0           1fastz28   \n",
       "41264               4.0           3.0                3.5            321jeff   \n",
       "1385721             3.5           3.0                3.0            3Vandoo   \n",
       "562967              5.0           4.5                4.5   7thstreetbrewery   \n",
       "563116              4.0           3.5                4.0                ADR   \n",
       "477535              4.5           3.0                4.5               ADZA   \n",
       "1429227             3.0           3.0                3.5               ADZA   \n",
       "612416              3.5           3.0                3.5               ADZA   \n",
       "836014              3.5           3.0                3.0               ADZA   \n",
       "175527              4.5           5.0                5.0         AITCTKD170   \n",
       "743832              3.5           5.0                3.0     AKBelgianBeast   \n",
       "739049              2.0           2.5                2.0    ALESwhatCURESya   \n",
       "562980              4.0           4.0                3.5                AMo   \n",
       "477693              3.5           3.5                3.5         ATLbeerDog   \n",
       "585600              2.5           2.5                3.0         ATLbeerDog   \n",
       "258037              4.0           4.0                4.0           AaronRed   \n",
       "1567447             3.5           3.5                3.5         Absumaster   \n",
       "12041               3.5           3.0                3.0         AgentMunky   \n",
       "395060              3.0           2.5                3.0         AgentMunky   \n",
       "12035               2.5           3.0                3.5          AgentZero   \n",
       "1074374             4.0           3.0                3.0          AgentZero   \n",
       "435820              4.5           3.5                4.0       AgingWarrior   \n",
       "563180              4.5           2.5                3.5              Agold   \n",
       "612409              3.5           3.5                3.5     AlCaponeJunior   \n",
       "563172              4.0           3.5                4.0     AlCaponeJunior   \n",
       "1391878             3.5           3.5                4.0     AlCaponeJunior   \n",
       "612457              4.0           4.0                3.5         AleWatcher   \n",
       "...                 ...           ...                ...                ...   \n",
       "684413              4.0           3.0                3.5       BeardedRiker   \n",
       "562340              3.5           3.0                4.5           Beaver13   \n",
       "684396              2.5           1.5                4.0           Beaver13   \n",
       "1296993             3.5           3.5                3.5           Beaver13   \n",
       "562922              4.0           3.5                4.0   BedetheVenerable   \n",
       "379251              4.0           3.5                4.0       BeerAdvocate   \n",
       "612359              4.0           3.5                3.5     BeerAmbassador   \n",
       "698628              3.5           4.0                3.0          BeerAngel   \n",
       "739047              3.5           3.0                4.5        BeerBelcher   \n",
       "1519573             3.5           3.0                3.0        BeerBelcher   \n",
       "698630              4.5           3.5                3.5            BeerBob   \n",
       "563137              4.0           3.5                3.0            BeerBob   \n",
       "671988              3.5           4.0                3.0           BeerCon5   \n",
       "470544              3.5           3.5                3.5     BeerConnoiseur   \n",
       "1514385             3.5           3.0                3.5         BeerFMAndy   \n",
       "739044              3.5           4.0                4.0         BeerFMAndy   \n",
       "1519571             3.0           3.0                2.5         BeerFMAndy   \n",
       "435817              4.0           3.0                3.5    BeerImmediately   \n",
       "743774              4.0           4.0                4.0        BeerLover99   \n",
       "612262              4.0           4.0                3.5         BeerManDan   \n",
       "791180              4.0           4.5                4.0         BeerManDan   \n",
       "1238775             4.0           3.5                4.0       BeerMeHearMe   \n",
       "244105              4.0           4.0                4.5       BeerNinja007   \n",
       "175536              3.5           4.0                4.5       BeerNinja007   \n",
       "175539              4.0           3.5                4.0         BeerPhan86   \n",
       "1497976             4.0           4.0                4.0     BeerResearcher   \n",
       "1388935             4.0           3.5                3.5     BeerResearcher   \n",
       "563124              4.0           4.0                3.5     BeerResearcher   \n",
       "612358              5.0           4.0                4.5          BeerRun13   \n",
       "432750              4.0           4.0                4.0            BeerSox   \n",
       "\n",
       "                      beer_style  review_palate  review_taste beer_name  \\\n",
       "912451   American Pale Ale (APA)            3.0           3.5  Pale Ale   \n",
       "1406262  American Pale Ale (APA)            2.5           4.0  Pale Ale   \n",
       "563154   American Pale Ale (APA)            3.0           3.0  Pale Ale   \n",
       "525342   American Pale Ale (APA)            4.0           4.0  Pale Ale   \n",
       "41264    American Pale Ale (APA)            4.0           3.0  Pale Ale   \n",
       "1385721         English Pale Ale            4.0           3.0  Pale Ale   \n",
       "562967   American Pale Ale (APA)            5.0           4.5  Pale Ale   \n",
       "563116   American Pale Ale (APA)            3.5           3.0  Pale Ale   \n",
       "477535   American Pale Ale (APA)            3.5           4.5  Pale Ale   \n",
       "1429227  American Pale Ale (APA)            3.0           3.0  Pale Ale   \n",
       "612416                    Kölsch            3.0           3.5  Pale Ale   \n",
       "836014          English Pale Ale            3.0           3.5  Pale Ale   \n",
       "175527          English Pale Ale            4.0           4.0  Pale Ale   \n",
       "743832   American Pale Ale (APA)            3.5           3.5  Pale Ale   \n",
       "739049   American Pale Ale (APA)            2.0           2.0  Pale Ale   \n",
       "562980   American Pale Ale (APA)            4.5           4.0  Pale Ale   \n",
       "477693          English Pale Ale            3.5           3.5  Pale Ale   \n",
       "585600          English Pale Ale            2.5           2.5  Pale Ale   \n",
       "258037   American Pale Ale (APA)            4.0           4.0  Pale Ale   \n",
       "1567447         English Pale Ale            3.0           3.5  Pale Ale   \n",
       "12041    American Pale Ale (APA)            4.5           4.0  Pale Ale   \n",
       "395060   American Pale Ale (APA)            3.5           2.5  Pale Ale   \n",
       "12035    American Pale Ale (APA)            3.0           2.0  Pale Ale   \n",
       "1074374  American Pale Ale (APA)            3.0           3.0  Pale Ale   \n",
       "435820   American Pale Ale (APA)            4.0           4.0  Pale Ale   \n",
       "563180   American Pale Ale (APA)            4.0           3.0  Pale Ale   \n",
       "612409                    Kölsch            3.0           3.5  Pale Ale   \n",
       "563172   American Pale Ale (APA)            4.0           4.0  Pale Ale   \n",
       "1391878  American Pale Ale (APA)            4.0           4.0  Pale Ale   \n",
       "612457                    Kölsch            3.0           3.0  Pale Ale   \n",
       "...                          ...            ...           ...       ...   \n",
       "684413   American Pale Ale (APA)            3.5           3.5  Pale Ale   \n",
       "562340   American Pale Ale (APA)            4.0           3.0  Pale Ale   \n",
       "684396   American Pale Ale (APA)            3.5           1.5  Pale Ale   \n",
       "1296993  American Pale Ale (APA)            3.0           3.5  Pale Ale   \n",
       "562922   American Pale Ale (APA)            4.0           3.5  Pale Ale   \n",
       "379251   American Pale Ale (APA)            4.0           4.0  Pale Ale   \n",
       "612359                    Kölsch            3.5           4.0  Pale Ale   \n",
       "698628   American Pale Ale (APA)            3.0           3.0  Pale Ale   \n",
       "739047   American Pale Ale (APA)            4.0           3.5  Pale Ale   \n",
       "1519573  American Pale Ale (APA)            2.5           3.0  Pale Ale   \n",
       "698630   American Pale Ale (APA)            4.0           4.0  Pale Ale   \n",
       "563137   American Pale Ale (APA)            3.5           4.0  Pale Ale   \n",
       "671988   American Pale Ale (APA)            3.5           3.0  Pale Ale   \n",
       "470544   American Pale Ale (APA)            3.5           3.5  Pale Ale   \n",
       "1514385  American Pale Ale (APA)            3.5           3.5  Pale Ale   \n",
       "739044   American Pale Ale (APA)            3.0           3.0  Pale Ale   \n",
       "1519571  American Pale Ale (APA)            3.0           3.0  Pale Ale   \n",
       "435817   American Pale Ale (APA)            4.0           4.0  Pale Ale   \n",
       "743774   American Pale Ale (APA)            4.0           4.5  Pale Ale   \n",
       "612262                    Kölsch            4.0           4.0  Pale Ale   \n",
       "791180   American Pale Ale (APA)            4.0           4.0  Pale Ale   \n",
       "1238775  American Pale Ale (APA)            4.5           4.0  Pale Ale   \n",
       "244105   American Pale Ale (APA)            3.5           4.5  Pale Ale   \n",
       "175536          English Pale Ale            2.0           3.5  Pale Ale   \n",
       "175539          English Pale Ale            3.5           4.5  Pale Ale   \n",
       "1497976  American Pale Ale (APA)            3.5           3.5  Pale Ale   \n",
       "1388935  American Pale Ale (APA)            4.0           3.5  Pale Ale   \n",
       "563124   American Pale Ale (APA)            3.5           4.0  Pale Ale   \n",
       "612358                    Kölsch            4.0           4.0  Pale Ale   \n",
       "432750   American Pale Ale (APA)            4.0           3.5  Pale Ale   \n",
       "\n",
       "         beer_abv  beer_beerid  \n",
       "912451       5.50        49291  \n",
       "1406262      5.12        25427  \n",
       "563154       5.40         2094  \n",
       "525342        NaN         5828  \n",
       "41264        5.59        28951  \n",
       "1385721      5.00        24527  \n",
       "562967       5.40         2094  \n",
       "563116       5.40         2094  \n",
       "477535       5.00        40487  \n",
       "1429227      4.50        68580  \n",
       "612416       5.00          696  \n",
       "836014       4.50        46137  \n",
       "175527       5.70        55960  \n",
       "743832       6.00        19781  \n",
       "739049        NaN        10207  \n",
       "562980       5.40         2094  \n",
       "477693       5.40        17402  \n",
       "585600       6.20         1216  \n",
       "258037       4.20         5095  \n",
       "1567447      4.70        26632  \n",
       "12041        5.80        25656  \n",
       "395060       5.60        43676  \n",
       "12035        5.80        25656  \n",
       "1074374      5.20        62351  \n",
       "435820       6.25        32442  \n",
       "563180       5.40         2094  \n",
       "612409       5.00          696  \n",
       "563172       5.40         2094  \n",
       "1391878      6.40         4831  \n",
       "612457       5.00          696  \n",
       "...           ...          ...  \n",
       "684413       5.50         4798  \n",
       "562340       5.40         2094  \n",
       "684396       5.50         4798  \n",
       "1296993       NaN         5320  \n",
       "562922       5.40         2094  \n",
       "379251        NaN         2379  \n",
       "612359       5.00          696  \n",
       "698628        NaN         4707  \n",
       "739047        NaN        10207  \n",
       "1519573       NaN         5714  \n",
       "698630        NaN         4707  \n",
       "563137       5.40         2094  \n",
       "671988       5.80         1783  \n",
       "470544        NaN        10373  \n",
       "1514385       NaN        10175  \n",
       "739044        NaN        10207  \n",
       "1519571       NaN         5714  \n",
       "435817       6.25        32442  \n",
       "743774       6.00        19781  \n",
       "612262       5.00          696  \n",
       "791180        NaN         7199  \n",
       "1238775      4.70        13196  \n",
       "244105       5.50         1983  \n",
       "175536       5.70        55960  \n",
       "175539       5.70        55960  \n",
       "1497976      5.10         1238  \n",
       "1388935      7.30        57492  \n",
       "563124       5.40         2094  \n",
       "612358       5.00          696  \n",
       "432750       4.90         5709  \n",
       "\n",
       "[100 rows x 13 columns]"
      ]
     },
     "execution_count": 9,
     "metadata": {},
     "output_type": "execute_result"
    }
   ],
   "source": [
    "df_test = df[df.beer_name.isin(['Pale Ale'])].sort(columns='review_profilename')\n",
    "df_test.head(100)"
   ]
  },
  {
   "cell_type": "markdown",
   "metadata": {
    "slideshow": {
     "slide_type": "slide"
    }
   },
   "source": [
    "Let's restrict this to the top 250 beers. Use the `value_counts()` method to get a sorted list by value count on **beer_name** and then taking the first 250.  Overwrite `df` with this new data."
   ]
  },
  {
   "cell_type": "code",
   "execution_count": 8,
   "metadata": {
    "collapsed": false,
    "slideshow": {
     "slide_type": "slide"
    }
   },
   "outputs": [
    {
     "data": {
      "text/plain": [
       "90 Minute IPA                                 3290\n",
       "India Pale Ale                                3130\n",
       "Old Rasputin Russian Imperial Stout           3111\n",
       "Sierra Nevada Celebration Ale                 3000\n",
       "Two Hearted Ale                               2728\n",
       "Arrogant Bastard Ale                          2704\n",
       "Stone Ruination IPA                           2704\n",
       "Sierra Nevada Pale Ale                        2587\n",
       "Stone IPA (India Pale Ale)                    2575\n",
       "Pliny The Elder                               2527\n",
       "Founders Breakfast Stout                      2502\n",
       "Pale Ale                                      2500\n",
       "Sierra Nevada Bigfoot Barleywine Style Ale    2492\n",
       "La Fin Du Monde                               2483\n",
       "60 Minute IPA                                 2475\n",
       "Storm King Stout                              2452\n",
       "Duvel                                         2450\n",
       "Brooklyn Black Chocolate Stout                2447\n",
       "Bell's Hopslam Ale                            2443\n",
       "Samuel Adams Boston Lager                     2418\n",
       "Stone Imperial Russian Stout                  2329\n",
       "HopDevil Ale                                  2302\n",
       "Chocolate Stout                               2292\n",
       "Imperial Stout                                2273\n",
       "Young's Double Chocolate Stout                2257\n",
       "Dead Guy Ale                                  2234\n",
       "St. Bernardus Abt 12                          2217\n",
       "Guinness Draught                              2210\n",
       "Trappistes Rochefort 10                       2170\n",
       "Ayinger Celebrator Doppelbock                 2070\n",
       "                                              ... \n",
       "Nut Brown Premium Ale                            1\n",
       "McHale's Irish Stout                             1\n",
       "Creekside Holy Night Holiday Spice Ale           1\n",
       "EPA                                              1\n",
       "Reilly's Rye Ale                                 1\n",
       "West Highland Black IPA                          1\n",
       "Black Gold Pepper Pale Ale                       1\n",
       "Elzacher Pils                                    1\n",
       "Millenium Vintage Porter                         1\n",
       "Nova Schin Malzbier                              1\n",
       "To Hell N' Bock                                  1\n",
       "Ballards Alchemist                               1\n",
       "Hop Drop IPA                                     1\n",
       "Sugar Creek Pale Ale                             1\n",
       "Old Capitol Brew Works Saison                    1\n",
       "Little Nik Pils                                  1\n",
       "Bamberg Alt                                      1\n",
       "Eden                                             1\n",
       "Golfschteiner                                    1\n",
       "Mexican Bandit                                   1\n",
       "Honey Maibock                                    1\n",
       "Grüntengold                                      1\n",
       "Thatcher Brook Blonde                            1\n",
       "Bourbon Barrel Aged Munich Dunkel                1\n",
       "Hoppycock                                        1\n",
       "French Farmhouse Winter Ale                      1\n",
       "Cocoa Beach Summer Ale                           1\n",
       "Apehanger IPA                                    1\n",
       "Silver Fox Double IPA                            1\n",
       "Sundancer                                        1\n",
       "Name: beer_name, dtype: int64"
      ]
     },
     "execution_count": 8,
     "metadata": {},
     "output_type": "execute_result"
    }
   ],
   "source": [
    "df.beer_name.value_counts()"
   ]
  },
  {
   "cell_type": "code",
   "execution_count": 10,
   "metadata": {
    "collapsed": false,
    "slideshow": {
     "slide_type": "slide"
    }
   },
   "outputs": [
    {
     "data": {
      "text/html": [
       "<div>\n",
       "<table border=\"1\" class=\"dataframe\">\n",
       "  <thead>\n",
       "    <tr style=\"text-align: right;\">\n",
       "      <th></th>\n",
       "      <th>brewery_id</th>\n",
       "      <th>brewery_name</th>\n",
       "      <th>review_time</th>\n",
       "      <th>review_overall</th>\n",
       "      <th>review_aroma</th>\n",
       "      <th>review_appearance</th>\n",
       "      <th>review_profilename</th>\n",
       "      <th>beer_style</th>\n",
       "      <th>review_palate</th>\n",
       "      <th>review_taste</th>\n",
       "      <th>beer_name</th>\n",
       "      <th>beer_abv</th>\n",
       "      <th>beer_beerid</th>\n",
       "    </tr>\n",
       "  </thead>\n",
       "  <tbody>\n",
       "    <tr>\n",
       "      <th>798</th>\n",
       "      <td>1075</td>\n",
       "      <td>Caldera Brewing Company</td>\n",
       "      <td>1212201268</td>\n",
       "      <td>4.5</td>\n",
       "      <td>4.5</td>\n",
       "      <td>4.0</td>\n",
       "      <td>grumpy</td>\n",
       "      <td>American Double / Imperial Stout</td>\n",
       "      <td>4.0</td>\n",
       "      <td>4.5</td>\n",
       "      <td>Imperial Stout</td>\n",
       "      <td>NaN</td>\n",
       "      <td>42964</td>\n",
       "    </tr>\n",
       "    <tr>\n",
       "      <th>1559</th>\n",
       "      <td>11715</td>\n",
       "      <td>Destiny Brewing Company</td>\n",
       "      <td>1137124057</td>\n",
       "      <td>4.0</td>\n",
       "      <td>3.5</td>\n",
       "      <td>4.0</td>\n",
       "      <td>blitheringidiot</td>\n",
       "      <td>American Pale Ale (APA)</td>\n",
       "      <td>3.5</td>\n",
       "      <td>3.5</td>\n",
       "      <td>Pale Ale</td>\n",
       "      <td>4.5</td>\n",
       "      <td>26420</td>\n",
       "    </tr>\n",
       "    <tr>\n",
       "      <th>1560</th>\n",
       "      <td>11715</td>\n",
       "      <td>Destiny Brewing Company</td>\n",
       "      <td>1129504403</td>\n",
       "      <td>4.0</td>\n",
       "      <td>2.5</td>\n",
       "      <td>4.0</td>\n",
       "      <td>NeroFiddled</td>\n",
       "      <td>American Pale Ale (APA)</td>\n",
       "      <td>4.0</td>\n",
       "      <td>3.5</td>\n",
       "      <td>Pale Ale</td>\n",
       "      <td>4.5</td>\n",
       "      <td>26420</td>\n",
       "    </tr>\n",
       "    <tr>\n",
       "      <th>1563</th>\n",
       "      <td>11715</td>\n",
       "      <td>Destiny Brewing Company</td>\n",
       "      <td>1137125989</td>\n",
       "      <td>3.5</td>\n",
       "      <td>3.0</td>\n",
       "      <td>4.0</td>\n",
       "      <td>blitheringidiot</td>\n",
       "      <td>American IPA</td>\n",
       "      <td>4.0</td>\n",
       "      <td>4.0</td>\n",
       "      <td>IPA</td>\n",
       "      <td>NaN</td>\n",
       "      <td>26132</td>\n",
       "    </tr>\n",
       "    <tr>\n",
       "      <th>1564</th>\n",
       "      <td>11715</td>\n",
       "      <td>Destiny Brewing Company</td>\n",
       "      <td>1130936611</td>\n",
       "      <td>3.0</td>\n",
       "      <td>3.0</td>\n",
       "      <td>3.0</td>\n",
       "      <td>Gavage</td>\n",
       "      <td>American IPA</td>\n",
       "      <td>4.0</td>\n",
       "      <td>3.5</td>\n",
       "      <td>IPA</td>\n",
       "      <td>NaN</td>\n",
       "      <td>26132</td>\n",
       "    </tr>\n",
       "  </tbody>\n",
       "</table>\n",
       "</div>"
      ],
      "text/plain": [
       "      brewery_id             brewery_name  review_time  review_overall  \\\n",
       "798         1075  Caldera Brewing Company   1212201268             4.5   \n",
       "1559       11715  Destiny Brewing Company   1137124057             4.0   \n",
       "1560       11715  Destiny Brewing Company   1129504403             4.0   \n",
       "1563       11715  Destiny Brewing Company   1137125989             3.5   \n",
       "1564       11715  Destiny Brewing Company   1130936611             3.0   \n",
       "\n",
       "      review_aroma  review_appearance review_profilename  \\\n",
       "798            4.5                4.0             grumpy   \n",
       "1559           3.5                4.0    blitheringidiot   \n",
       "1560           2.5                4.0        NeroFiddled   \n",
       "1563           3.0                4.0    blitheringidiot   \n",
       "1564           3.0                3.0             Gavage   \n",
       "\n",
       "                            beer_style  review_palate  review_taste  \\\n",
       "798   American Double / Imperial Stout            4.0           4.5   \n",
       "1559           American Pale Ale (APA)            3.5           3.5   \n",
       "1560           American Pale Ale (APA)            4.0           3.5   \n",
       "1563                      American IPA            4.0           4.0   \n",
       "1564                      American IPA            4.0           3.5   \n",
       "\n",
       "           beer_name  beer_abv  beer_beerid  \n",
       "798   Imperial Stout       NaN        42964  \n",
       "1559        Pale Ale       4.5        26420  \n",
       "1560        Pale Ale       4.5        26420  \n",
       "1563             IPA       NaN        26132  \n",
       "1564             IPA       NaN        26132  "
      ]
     },
     "execution_count": 10,
     "metadata": {},
     "output_type": "execute_result"
    }
   ],
   "source": [
    "n = 250\n",
    "top_n = df.beer_name.value_counts().index[:n]\n",
    "df = df[df.beer_name.isin(top_n)]\n",
    "df.head()"
   ]
  },
  {
   "cell_type": "markdown",
   "metadata": {
    "slideshow": {
     "slide_type": "slide"
    }
   },
   "source": [
    "How big is this dataset?  Use `df.info()`"
   ]
  },
  {
   "cell_type": "code",
   "execution_count": 11,
   "metadata": {
    "collapsed": false,
    "slideshow": {
     "slide_type": "slide"
    }
   },
   "outputs": [
    {
     "name": "stdout",
     "output_type": "stream",
     "text": [
      "<class 'pandas.core.frame.DataFrame'>\n",
      "Int64Index: 355275 entries, 798 to 1586564\n",
      "Data columns (total 13 columns):\n",
      "brewery_id            355275 non-null int64\n",
      "brewery_name          355275 non-null object\n",
      "review_time           355275 non-null int64\n",
      "review_overall        355275 non-null float64\n",
      "review_aroma          355275 non-null float64\n",
      "review_appearance     355275 non-null float64\n",
      "review_profilename    355175 non-null object\n",
      "beer_style            355275 non-null object\n",
      "review_palate         355275 non-null float64\n",
      "review_taste          355275 non-null float64\n",
      "beer_name             355275 non-null object\n",
      "beer_abv              353477 non-null float64\n",
      "beer_beerid           355275 non-null int64\n",
      "dtypes: float64(6), int64(3), object(4)\n",
      "memory usage: 37.9+ MB\n"
     ]
    }
   ],
   "source": [
    "df.info()"
   ]
  },
  {
   "cell_type": "markdown",
   "metadata": {
    "slideshow": {
     "slide_type": "slide"
    }
   },
   "source": [
    "Aggregate the data in a pivot table called `df_wide` using the `pivot_table` method. Display the mean review_overall for each beer_name aggregating the review_overall values by review_profilename. Use the mean (numpy.mean) as aggregator.  In other words, the `values` parameter should contain **review_overall** and the `index` parameter should contain **beer_name** and **beer_name**.  Make sure to call `unstack()` at the end."
   ]
  },
  {
   "cell_type": "code",
   "execution_count": 12,
   "metadata": {
    "collapsed": false,
    "slideshow": {
     "slide_type": "slide"
    }
   },
   "outputs": [
    {
     "data": {
      "text/plain": [
       "(250, 22140)"
      ]
     },
     "execution_count": 12,
     "metadata": {},
     "output_type": "execute_result"
    }
   ],
   "source": [
    "df_wide = pd.pivot_table(df, values=[\"review_overall\"],\n",
    "        index=[\"beer_name\", \"review_profilename\"],\n",
    "        aggfunc=np.mean).unstack()\n",
    "df_wide.shape"
   ]
  },
  {
   "cell_type": "markdown",
   "metadata": {
    "slideshow": {
     "slide_type": "slide"
    }
   },
   "source": [
    "Display the head of the pivot table, but only for 5 users (columns are users)"
   ]
  },
  {
   "cell_type": "code",
   "execution_count": 12,
   "metadata": {
    "collapsed": false
   },
   "outputs": [
    {
     "data": {
      "text/html": [
       "<div>\n",
       "<table border=\"1\" class=\"dataframe\">\n",
       "  <thead>\n",
       "    <tr>\n",
       "      <th></th>\n",
       "      <th colspan=\"5\" halign=\"left\">review_overall</th>\n",
       "    </tr>\n",
       "    <tr>\n",
       "      <th>review_profilename</th>\n",
       "      <th>0110x011</th>\n",
       "      <th>02maxima</th>\n",
       "      <th>03SVTCobra</th>\n",
       "      <th>05Harley</th>\n",
       "      <th>0Naught0</th>\n",
       "    </tr>\n",
       "    <tr>\n",
       "      <th>beer_name</th>\n",
       "      <th></th>\n",
       "      <th></th>\n",
       "      <th></th>\n",
       "      <th></th>\n",
       "      <th></th>\n",
       "    </tr>\n",
       "  </thead>\n",
       "  <tbody>\n",
       "    <tr>\n",
       "      <th>#9</th>\n",
       "      <td>NaN</td>\n",
       "      <td>NaN</td>\n",
       "      <td>NaN</td>\n",
       "      <td>NaN</td>\n",
       "      <td>NaN</td>\n",
       "    </tr>\n",
       "    <tr>\n",
       "      <th>120 Minute IPA</th>\n",
       "      <td>NaN</td>\n",
       "      <td>NaN</td>\n",
       "      <td>NaN</td>\n",
       "      <td>4.0</td>\n",
       "      <td>NaN</td>\n",
       "    </tr>\n",
       "    <tr>\n",
       "      <th>1554 Enlightened Black Ale</th>\n",
       "      <td>NaN</td>\n",
       "      <td>NaN</td>\n",
       "      <td>NaN</td>\n",
       "      <td>NaN</td>\n",
       "      <td>NaN</td>\n",
       "    </tr>\n",
       "    <tr>\n",
       "      <th>60 Minute IPA</th>\n",
       "      <td>NaN</td>\n",
       "      <td>NaN</td>\n",
       "      <td>NaN</td>\n",
       "      <td>NaN</td>\n",
       "      <td>NaN</td>\n",
       "    </tr>\n",
       "    <tr>\n",
       "      <th>90 Minute IPA</th>\n",
       "      <td>5.0</td>\n",
       "      <td>NaN</td>\n",
       "      <td>NaN</td>\n",
       "      <td>4.0</td>\n",
       "      <td>NaN</td>\n",
       "    </tr>\n",
       "  </tbody>\n",
       "</table>\n",
       "</div>"
      ],
      "text/plain": [
       "                           review_overall                               \\\n",
       "review_profilename               0110x011 02maxima 03SVTCobra 05Harley   \n",
       "beer_name                                                                \n",
       "#9                                    NaN      NaN        NaN      NaN   \n",
       "120 Minute IPA                        NaN      NaN        NaN      4.0   \n",
       "1554 Enlightened Black Ale            NaN      NaN        NaN      NaN   \n",
       "60 Minute IPA                         NaN      NaN        NaN      NaN   \n",
       "90 Minute IPA                         5.0      NaN        NaN      4.0   \n",
       "\n",
       "                                     \n",
       "review_profilename         0Naught0  \n",
       "beer_name                            \n",
       "#9                              NaN  \n",
       "120 Minute IPA                  NaN  \n",
       "1554 Enlightened Black Ale      NaN  \n",
       "60 Minute IPA                   NaN  \n",
       "90 Minute IPA                   NaN  "
      ]
     },
     "execution_count": 12,
     "metadata": {},
     "output_type": "execute_result"
    }
   ],
   "source": [
    "df_wide.ix[0:5, 0:5]"
   ]
  },
  {
   "cell_type": "markdown",
   "metadata": {
    "slideshow": {
     "slide_type": "slide"
    }
   },
   "source": [
    "### Discussion: what do you notice in this table?"
   ]
  },
  {
   "cell_type": "markdown",
   "metadata": {
    "slideshow": {
     "slide_type": "slide"
    }
   },
   "source": [
    "Set Nans to zero with the `fillna()` function."
   ]
  },
  {
   "cell_type": "code",
   "execution_count": 13,
   "metadata": {
    "collapsed": false,
    "slideshow": {
     "slide_type": "slide"
    }
   },
   "outputs": [],
   "source": [
    "df_wide = df_wide.fillna(0)"
   ]
  },
  {
   "cell_type": "markdown",
   "metadata": {
    "slideshow": {
     "slide_type": "slide"
    }
   },
   "source": [
    "Check that columns are users by examining the first few columns."
   ]
  },
  {
   "cell_type": "code",
   "execution_count": 14,
   "metadata": {
    "collapsed": false,
    "slideshow": {
     "slide_type": "slide"
    }
   },
   "outputs": [
    {
     "data": {
      "text/plain": [
       "MultiIndex(levels=[['review_overall'], ['0110x011', '02maxima', '03SVTCobra', '05Harley', '0Naught0', '0beerguy0', '0runkp0s', '0tt0', '1000Bottles', '1001111.0', '100floods', '100proof', '1050Sudz', '108Dragons', '1099.0', '1100.0', '1121987.0', '11millsown113', '11osixBrew', '11thFloorBrewing', '1229design', '12NattiBottles', '12ouncecurls', '12percent', '12vUnion', '130guy', '13smurrf', '160Shillings', '1759Girl', '1759dallas', '17Guinness59', '18alpha', '196osh', '1993Heel', '1996StrokerKid', '1Adam12', '1MiltonWaddams', '1PA', '1after909', '1brbn1sctch1beer', '1fastz28', '1morebeer', '1noa', '1quiks10', '1santore', '1thinmint', '1whiskey', '20ozmonkey', '21mmer', '220emaple', '22ozStone', '2369.0', '2378GCGTG', '23fyerfyter', '2408bwk', '245Trioxin', '24Beer92', '25santurce', '28Rock', '2BDChicago', '2Cruzy', '2DaMtns', '2KHokie', '2LBrew', '2Shay', '2Stout4u', '2beerdogs', '2cansam', '2girls1hop', '2heartedMIKE', '2late2brew', '2melow', '2ndloveofmylife', '2ndstage', '2oose', '2roosters', '2stepZ', '2wheeledpirate', '2xHops', '311kevin', '31thadrty1', '321jeff', '322wingedfoot', '32hoss32', '33nickadams', '3FaveryRogue', '3HovsepiansBrews', '3Vandoo', '3dudesbeerblog', '3frog', '3leggeddub', '3m3rson', '3nlightenedfool', '3rdRowTailgater', '4000qtrap', '404UGA', '40oztofreedom89', '420.0', '44ouncer', '454onbeerss', '484dan', '49degrees', '4DAloveofSTOUT', '4thmedbn', '4thoseabout2bock', '51mmz0rz', '5285.0', '559bulldog', '57andcounting', '57md', '585.0', '5dots', '604growler', '6470zzy', '650gs', '65dos', '67cuda', '6993bc', '69davis', '6DaysBottomOcean', '6pak', '6sm9', '6string', '6stringfunk', '6thomas3', '7.0', '700Uave', '703RaiderNation', '706Union', '76Son', '77ships', '77suburban', '7UCK', '7ate9', '7beerphil', '7out', '7thInningSuds', '7thstreetbrewery', '7ways', '815Sox', '828beagle', '86MonteSS', '86sportster883', '88blkiroc', '89Vision', '8O0B1E5', '8Punisher8', '908carson', '90minipalvr', '92jAKe47FS', '94coog', '96Bravo', '972.0', '973423.0', '99a3136', '99bottles', '9InchNails', 'A380', 'A38Fitness', 'A7Zulu', 'AARomanov', 'AAis4quiters', 'AApparel', 'AAxsom', 'ABCBeer', 'ABCJiugui', 'ABCLikesBeers', 'ABHatter', 'ABO1', 'ABOW', 'ABOWMan', 'ABV', 'ABVerageJoe', 'ABeerandacigar', 'ABrewOrTwo', 'AChamberlain', 'ADR', 'ADTaber', 'ADTrep', 'ADWnyc', 'ADZA', 'AEArider', 'AEK', 'AES', 'AGDMainer', 'AHNUBIS', 'AHaytko', 'AHebel', 'AITCTKD170', 'AJ99', 'AJDean', 'AJFitz', 'AJNolen', 'AJPainter', 'AJStank', 'AJacob81', 'AKBeerGuy', 'AKBelgianBeast', 'ALEBOY', 'ALESwhatCURESya', 'ALEvalanche', 'ALX', 'ALeF', 'AMG44', 'AMURPHY524', 'AMo', 'AMoceri7', 'AMoriarty', 'APB', 'APNumber3', 'APetitfils', 'ARJaeger381', 'ARbeerguy', 'ASUBeer', 'AScribjr', 'ASharkAteYourMom', 'ASymon13', 'ATGHomebrewer', 'ATLbeerDog', 'ATPete', 'ATSJer', 'ATraurig', 'ATvics', 'AUTIGERS', 'AVDeuph', 'AWSBeerDude', 'AWolf', 'AWolfAtTheDoor', 'AXIS', 'AZTEX', 'AZbelgian', 'Aardvarkman', 'Aaron420', 'Aaron58', 'AaronHomoya', 'AaronRed', 'AaronSRosenberg', 'Aaronius', 'Abacinate', 'AbbayeDeLuke', 'Abbeloos', 'AbePhroman', 'Abelmacias20', 'Aberod11', 'Aberration', 'AbiesIrishRose', 'Abita45', 'AbitaOnTap', 'About2Crash', 'AboutBeverages', 'AbrahamRobert', 'Abrengle', 'Abshire86', 'Absumaster', 'AbyssJunkie13', 'Abyssmal', 'Acaciaatrox', 'AccidentalKate', 'AceOHearts', 'AcesFullup', 'Acho', 'Ack9788', 'Ackit', 'Ackman', 'Acochran', 'Aconnoisseur', 'Acraig', 'ActonBrewer', 'ActualAir', 'Actualimeer', 'Adam2200', 'AdamB84', 'AdamBear', 'AdamBsweetwater', 'AdamCook', 'AdamEstess', 'AdamF', 'AdamGarcia', 'AdamJackson', 'AdamMY', 'AdamPT1', 'AdamToomey', 'Adamdc', 'Adamist', 'Adamostella', 'Adamthome1', 'AdkTrek', 'AdmiralDiaz', 'Admiraldinty', 'Adouble', 'Adoxander', 'AdrenX', 'AdrianRP', 'Adrianized', 'Adrigon', 'AdvocateFan', 'Aeneid', 'Aenema', 'Aesop', 'AfricPepperbird', 'Afterburner', 'Agallotto1', 'Agent0040oz', 'Agent1', 'AgentDark', 'AgentMunky', 'AgentShenanigan', 'AgentZero', 'AgingWarrior', 'Agold', 'Aguirre', 'AhabFlanders', 'Ahhdball', 'Ahoyhoyindeed', 'AimToCheat', 'Aimstatus', 'Aiptasia', 'Aircow86', 'Airedoggie', 'Airyk12', 'Akerris', 'Akhkharu', 'Akinol', 'AlCaponeJunior', 'AlFergie', 'AlFromBayShore', 'AlHam', 'AlXalone', 'AlamoYeti', 'Alanthebeerguy', 'AlaskaBeerBloke', 'Alatorre', 'AlbertF', 'Albertv05', 'Albinoh', 'Alboy037', 'AlcahueteJ', 'AleBlager', 'AleBop', 'AleDrinkToThat', 'AleEvangelist', 'AleHound', 'AleLover2', 'AleMonger69', 'AleWatcher', 'AleWeizengarten', 'AleWerks', 'AleWynch', 'AleYes', 'AledrinkerJB', 'AlephNull', 'AlesALot', 'AlesRTasty', 'Alewife', 'Alex740', 'AlexBlueV', 'AlexCorleone', 'AlexCuse', 'AlexDancho', 'AlexF', 'AlexFields', 'AlexJ', 'AlexLMS', 'AlexMunse', 'AlexTheAleMan', 'AlexTonic', 'AlexanderCsamaj', 'AlexanderSelby', 'Alexmc2', 'Alexwhitehurst', 'Alf7247', 'AlfaMale', 'AlienOddity', 'Alieniloquium', 'AlimonyAle', 'Alkey', 'Alkiser', 'AllAboutStout', 'AllAboutTheTaste', 'AllAgesPete', 'AllFineThings', 'AllHatDavidson', 'AllHoppedUp84', 'AllThingsNinja', 'Allcor', 'AlleywayRover', 'Allpe45', 'AllthekingsMen', 'AlohaRicky', 'Alpar', 'AlphaFiend1', 'AlphaFireX5', 'AlphaKevo', 'AlsationBiere', 'Alston73', 'AltBock', 'AltTrinker', 'AlvinStraight', 'Amalak', 'Amar', 'Amazingbeer', 'AmberMan22', 'Ambiorix', 'Amdahl', 'Amdy', 'Amenhotep', 'AmericanCanuck', 'AmericanGothic', 'AmgineDanus', 'AmieMize', 'AmishBrew', 'AmishT', 'Amnesia', 'Amnoisis', 'AmorousAngel', 'Amorrn', 'Amoxtli', 'Amsterdam', 'Amtrak', 'AnPiobaire', 'AnalogReigns', 'Anaom', 'AnavelGato', 'Anaz', 'AnchorMan', 'Anchorage42', 'AncientFlounder', 'AndIWantYou', 'Andbrew', 'AndersonGT', 'Ando', 'AndoBrew', 'Andouille', 'AndreiX', 'Andreji', 'Andrew644', 'AndrewCrestline', 'AndrewD1022', 'AndrewMcLemore', 'AndrewNWI', 'AndrewNations', 'AndrewOToole', 'AndrewR', 'AndrewT', 'Andrewtherooster', 'Andy', 'AndyAvalanche', 'AndyCapp', 'AndyFarvaDingler', 'AndyM', 'AndySR15', 'AndySim', 'Andyc101', 'Angelface', 'Anglewood', 'AngryLincoln', 'AngryPirate', 'Angrygerman', 'Angst', 'AniGamor', 'AnnaEA', 'AnonWut', 'Anonmatel', 'Another6Pack', 'AnswerInQuestion', 'Antacid', 'Antagony', 'Anthony1', 'Anthony88', 'AntiMac', 'Antihippy6', 'Antikythera', 'Antilochus', 'Antonius08', 'Antonothon', 'AntsMarching654', 'Apellonious', 'Aphexwolf', 'Apolloster2', 'Apostrophe', 'AppalachianTrout', 'Applesauce1', 'AprilMarie', 'Aprilluvsbeer', 'Aquavit', 'AqueousSnake', 'ArG10ChE', 'Aracos', 'Aradan', 'AragornUnplugged', 'Arbitrationer', 'Arbitrator', 'Arbutus', 'ArcTeryx', 'ArcadeArson', 'ArcaneXor', 'Arceo', 'ArchEnemyBrew', 'Archelenon', 'Archemedies', 'Archer072384', 'Architech', 'Ardon', 'Arenbeer', 'Aress', 'Argentum', 'Argion', 'Argonaught', 'Arielle', 'Arinthos', 'Arithmeticus', 'ArizonaAl', 'Arknot', 'Arkofsax', 'Arliman201', 'Arlohoke', 'Armand', 'Armstrongm', 'Army', 'Arnie2709', 'Arnone10', 'Arnulf', 'ArodGetsSick', 'ArogantBastard26', 'AronVietti', 'ArrogantB', 'ArrogantBastage', 'ArrogantDeadGuy', 'ArrogantJaron', 'Arsenal04', 'Arsenal11', 'Arsenal82', 'Arsil', 'ArtD', 'ArthurShipkowski', 'ArtofBrewing', 'Arzdback51', 'Asgeirr', 'Asher1982', 'AshevilleSippin', 'AshleyMiller', 'Ashmada', 'Assassin', 'AstroAcks6', 'AtLagerHeads', 'Atch', 'Athanasios', 'Atlas1', 'AtlasBrew', 'Atricapilla', 'Atron67', 'AtrumAnimus', 'Attenuation', 'Atticus', 'Atvar', 'Atyoungberg', 'Auburnbean33', 'AudioGilz', 'Audiohero', 'AudreyH', 'Augustiner719', 'Auracom', 'Auroraboy', 'Ausbeerboy', 'Auslander', 'Auspice', 'AussieInPhilly', 'AustinBeerLvr', 'AustinSommelier', 'Autoeros', 'AutumnTwilight', 'Avagadro', 'Avalon68', 'Avantyawn', 'Ave', 'AventinusCam', 'AverageJay', 'AveryAdams', 'Aviar7495', 'Avryle', 'AwYeh', 'Axe12001', 'AxelTheRed', 'Axic10', 'Axismundi', 'Axlrose', 'AylwinForbes', 'AzAleC', 'Azumel', 'AzureIzs', 'Azurelimits', 'Azurescens', 'B0bD0bbselbock', 'B33RKrazz', 'B891', 'B967ierhunter177', 'BA23598', 'BACTAdam', 'BACabrera', 'BAbaracus', 'BAmike', 'BB1313', 'BBBosco', 'BBM', 'BBMuffins', 'BBP', 'BBeerL', 'BBnum3', 'BBri', 'BCGabbo', 'BCK', 'BCMan', 'BColton1', 'BDIMike', 'BDJake', 'BDLbrewster', 'BDTyre', 'BEERANDNOW', 'BEERBOY13323', 'BEEREXPERT', 'BEERHEAD001', 'BEERME528', 'BEERMILER12', 'BEERchitect', 'BEERligerent', 'BFresh', 'BFrost', 'BGP', 'BGrider85', 'BHwks', 'BIG420D', 'BISCUIT0301', 'BJ1833', 'BJA', 'BJBarleyWine83', 'BJCPBeerjudge', 'BJDuty', 'BJam', 'BJamesII', 'BKIII', 'BKZer0', 'BKotch', 'BLACKOUT0213', 'BLOODYLANE', 'BLove', 'BMW328IS', 'BMWMommy', 'BMac17', 'BMan1113VR', 'BMasi', 'BMoldy', 'BMoney575', 'BPudd', 'BRBeerMan', 'BREWCONSUMER', 'BRFN8TK', 'BRLockwood', 'BRoberts914', 'BRoss242', 'BS68280', 'BSF', 'BSG', 'BSH', 'BStalf21', 'BTPete', 'BUD', 'BUDZBOX', 'BUNZILLA', 'BWH3', 'BWMKappaSig', 'BWScott', 'BWStyle', 'BYO123', 'BYOFB', 'BZM', 'BZero007', 'BabaJohn', 'Babaauto', 'BabiakNo9', 'BabyBastard', 'BabySnakes', 'Bachledk', 'Bachus', 'BackAlleyBev', 'Backer2004', 'BacklitAvenger', 'Backpacker', 'Backroadking', 'BackwoodBrewer82', 'Bacong', 'Baconisaveggie', 'BadBadger', 'BadRockBeer', 'Badbobx', 'Badger28', 'Badgersno1', 'Badrinath', 'Badssinblack', 'Bael', 'BaerBeer', 'BaghdadBob', 'Bagman007', 'Baileyuk', 'Bajasith', 'BaldDude', 'BallAleDark', 'BaltimoreMike', 'Baltimorebrew', 'BamaBeerBuff', 'BamaScholar', 'BamaViper1', 'BamaWorKs', 'Bamabadass', 'Bamabrew22', 'Bammo22', 'Bananaman', 'BandFan', 'BanderaBrewing', 'BanditBrewingCo', 'BanditTA', 'BanditoB', 'Bang34', 'Banger530', 'BanjoGasmic', 'Bankrobber77', 'BarBEERian', 'Baraka', 'Barbula', 'BardofBeer', 'BareFeetPete', 'BareRepublic', 'Barfighter', 'Barfwin', 'Barkeep101', 'BarkingLeopard', 'BarleyAndApple', 'BarleyAndMe', 'BarleyBoz', 'BarleyMine', 'BarleyStud', 'Barleydine', 'Barleythenred', 'Barleywhiner', 'Barleywino324', 'BarnacleBill', 'Baron', 'BaronAndrew', 'BaronRVH', 'BaronRogue', 'BaronVonHawkeye', 'Barraclou', 'BarrelBrother', 'BarrelO', 'BarrettJA', 'Barrilitos', 'BarronWolfgang', 'BarroomHero', 'BarryMFBurton', 'BarryNL', 'BarrytheBear', 'Bartas', 'Bartian', 'Bartinator', 'Bartrash', 'Bartrob6', 'BaseballGuru', 'BasementBer', 'BasementBrew', 'BasementBrewerSF', 'BasementDweller', 'BashOnABike', 'BassAssassin', 'BassBone', 'BassPlayer82', 'Bassetdawg', 'Basshunter', 'BastardKing24', 'BatDaddy', 'BatsforBeer', 'Battousai', 'Bauschan', 'Bavaria1516', 'BavarianTex', 'Bay01', 'BayerischBier', 'BayernJoe', 'BayouBengal1537', 'Bbloom1989', 'Bcant', 'Bcaulin', 'Bclintho', 'Bdc17', 'BdubleEdubleRUN', 'BeRanger', 'BeTheBall', 'BeaBeerWife', 'BeachBierLieben', 'BeachBrewerDude', 'BeachBumC', 'BeachRez', 'BeanBone', 'Beanmeister', 'BearJohnson', 'BearablePhoto', 'BeardFacePhD', 'BeardedBoffin', 'BeardedRiker', 'BeardedSquash', 'BearsOnAcid', 'BearsSox', 'BearsWin', 'Bearthebrewer', 'Beast35', 'Beastdog75', 'Beasticles', 'BeastofWotan', 'BeatBama', 'Beathalor', 'Beatnik4913', 'Beauregard', 'Beaver13', 'BeavisCubs', 'Beck', 'BeckyFreesTibet', 'BedStuyBeerMate', 'BedetheVenerable', 'Bedlamist', 'BeefMerciful', 'BeefTongue', 'Beefeater57', 'BeefyMee', 'Beejay', 'Beejis60', 'BeelzeBrew', 'Beelzebeer', 'BeenJammin', 'Beer21', 'Beer3irty', 'Beer4Baltimore', 'Beer4Beard', 'BeerAdvocate', 'BeerAmbassador', 'BeerAndBourbon', 'BeerAngel', 'BeerApostle', 'BeerArtEtc', 'BeerB4Water', 'BeerBATvocate', 'BeerBadger', 'BeerBard', 'BeerBaron08', 'BeerBaronBekit', 'BeerBastard308', 'BeerBean', 'BeerBear80', 'BeerBeatnik', 'BeerBeing', 'BeerBelcher', 'BeerBelle', 'BeerBishop', 'BeerBob', 'BeerBobWFM', 'BeerBodisafa', 'BeerBoss', 'BeerBreaker', 'BeerBubby', 'BeerBuckeye', 'BeerBuddhaJr', 'BeerBuggy', 'BeerBuilder', 'BeerCheese', 'BeerCigar', 'BeerCoffeeWater', 'BeerCon5', 'BeerConnoiseur', 'BeerConnoisseur', 'BeerDawgs', 'BeerDetective', 'BeerDoc', 'BeerDocT', 'BeerDreadz', 'BeerDrinkerDave', 'BeerEndevour14', 'BeerEngineer89', 'BeerFMAndy', 'BeerFan', 'BeerFan95', 'BeerFanDan17', 'BeerFarter', 'BeerFiend2002', 'BeerFink', 'BeerForMuscle', 'BeerGodz', 'BeerGoodness', 'BeerGut4Life', 'BeerGuy1986', 'BeerGuy208', 'BeerGuyFW25', 'BeerHiker', 'BeerHonky', 'BeerImmediately', 'BeerInReview', 'BeerIndustry98', 'BeerIsArTT', 'BeerIsMetal', 'BeerIsMyPassion', 'BeerIsPoetry', 'BeerIsland', 'BeerKnights', 'BeerLover48Fan', 'BeerLover729', 'BeerLover99', 'BeerLuvver', 'BeerMan7777777', 'BeerManDan', 'BeerManDanNYC', 'BeerMandS', 'BeerMane', 'BeerMang', 'BeerMansGirl', 'BeerMark', 'BeerMarshall', 'BeerMasterD', 'BeerMaverick', 'BeerMe20', 'BeerMe82', 'BeerMeDatBeer', 'BeerMeHearMe', 'BeerMeInMS', 'BeerMonarch', 'BeerMusketeer', 'BeerMutt', 'BeerNails', 'BeerNation19', 'BeerNemesis', 'BeerNinja007', 'BeerNoobNC', 'BeerNuggets', 'BeerNutta', 'BeerNutz324', 'BeerOnTheWall', 'BeerPanther', 'BeerPhan86', 'BeerPilot', 'BeerPug', 'BeerRasta', 'BeerResearcher', 'BeerRican', 'BeerRun13', 'BeerShark', 'BeerShirts', 'BeerSingh', 'BeerSki', 'BeerSnorkel', 'BeerSox', 'BeerSquid', 'BeerStine', 'BeerT3ch', 'BeerTaster', 'BeerThursdays', 'BeerTitan', 'BeerTourOhio', 'BeerTrader', 'BeerTrick', 'BeerTruth', 'BeerTwigs', 'BeerVikingSailor', 'BeerWanker', 'BeerWhale', 'BeerYain', 'BeerZack', 'BeerandBeer', 'BeerandBlues2', 'Beerandraiderfan', 'Beerasaurus', 'Beerbeer101', 'Beerbluesbiology', 'Beerboybill', 'Beerbuddha', 'Beerbuddy55', 'Beerbythepool', 'Beercub', 'Beerdawg1568', 'Beerdregs', 'Beerenauslese', 'Beerfayce', 'Beergineer', 'Beerguru', 'Beerguy1554', 'Beerhappens', 'Beerhoppitus', 'Beerinabelle', 'BeerisfoodLLC', 'Beerisgood3', 'Beerisheaven', 'Beerislife652854', 'Beerking721', 'Beerkovich', 'BeerlyHuman', 'Beerman3000', 'Beerman420', 'Beerme5', 'Beermerica', 'Beernf', 'Beernoisseur', 'Beerocrat69', 'Beeromaniac', 'Beeronious07', 'Beeronist', 'Beerontwowheels', 'Beerparrot', 'Beerquester', 'Beers', 'BeersAroundWorld', 'BeersCriteria', 'Beersel', 'Beersignal', 'BeerskiBrewski61', 'Beerstein', 'Beertarded', 'Beertinez', 'Beertool', 'Beertracker', 'Beertron', 'Beertroop', 'Beervalve', 'Beervis', 'Beerwolf17', 'Beeryce', 'Beerzebub', 'Beezor', 'BeforeNoon', 'BeguiledSmile', 'Beguiler', 'BehindtheFinBrew', 'Bejogle', 'Bekke', 'Belekinbeer', 'Belgae', 'BelgianAleSlut', 'BelgianBeers', 'BelgianBrown', 'BelgianL', 'BelgianPrincess', 'Belgianlover', 'Belgianwhite52', 'BelgiumBill', 'Belgur', 'Bellabananas', 'BellsFan', 'Belpaire', 'Ben4881', 'BenConnery', 'BenH1068', 'BenHesk12', 'BenJames1984', 'BenRiches', 'BenSammis', 'BenSelf', 'BenZ', 'Bendurgin', 'Benjamin', 'BenjieK', 'Benjiehorn', 'Bennettrox', 'BennyL1', 'Bentley', 'Benway', 'Benysaj', 'Berecki', 'Beren', 'BergenZero', 'Bergenboy1981', 'BerkeleyBeerMan', 'BermahOne', 'BernardusHo', 'Berrmecca13', 'Berserkr', 'Berthold', 'Berticus', 'BertoEwry', 'Berutkowski', 'Bessie113Life', 'BestOfBatonRouge', 'Bestein', 'Bestuurder', 'Bethanya1982', 'Betmore', 'BetterDarker', 'BevMoAndrew', 'BevMoPatrick1', 'Bevitore', 'BexarBrewing', 'BexxyBexx', 'Bfarr', 'BgThang', 'Bi0hazrd', 'Bibliophilist', 'BicycleNbeer', 'BierBliss', 'BierBrawlinator', 'BierBreath305', 'BierFan', 'BierGartenok', 'BierMacher71', 'BierManVA', 'BierMonkey', 'BierReise', 'BierSmith', 'BierStein711', 'BierWolff', 'Bierbauch', 'BiereBlanche', 'BieresDesMoines', 'Bierfreund', 'Bierguy5', 'Bierguzzler', 'Bierlerner', 'Bierman9', 'Bierschenker', 'Bierzengot', 'Biffster', 'Big78CJ', 'BigAl723', 'BigB', 'BigB415', 'BigBadWolf', 'BigBarley', 'BigBass', 'BigBelly', 'BigBen61', 'BigBigPickle', 'BigBlacke', 'BigBoobsMcGhee', 'BigBoochDaddy', 'BigBru407', 'BigBry', 'BigCheeks', 'BigCheese', 'BigD1972', 'BigDRS', 'BigDaddyBlues', 'BigDaddyWil', 'BigDank', 'BigDogMi', 'BigDoug', 'BigDub', 'BigE90', 'BigFrank71', 'BigH75', 'BigHead', 'BigHeavy', 'BigIrishman', 'BigJTrucker', 'BigJim5021', 'BigJimSlade', 'BigLake', 'BigLou', 'BigMart42', 'BigMcLargeHuge', 'BigMike', 'BigMilly8', 'BigPapaD', 'BigPapaLager', 'BigPapiBrewingCo', 'BigPlay1824', 'BigRedN', 'BigRook', 'BigSipper', 'BigSteinsEmpire', 'BigTex', 'BigTomZ', 'BigTone', 'BigTunaHaircut', 'BigV', 'BigWilly', 'BigbROB', 'Bigbadbudman', 'Bigboyash73', 'Bigc3031', 'Bigdogodie', 'Bigfatbino', 'BiggieMassMMA', 'Biggin6655', 'Biggness', 'Bighuge', 'Bigjay1584', 'BignJames', 'Bigswig', 'Bigvalbowski', 'BikeChef', 'BikerPA', 'Bikinbrewbroad', 'BilboBagns', 'BilbosNuts', 'Bill68', 'Bill7007', 'BillA', 'BillBuckner48', 'BillDon', 'BillHaverchuck', 'BillHilly', 'BillLovesBeer', 'BillRoth', 'BillSempf', 'Billcr222', 'Billm67', 'Billolick', 'Bills453', 'BillyB', 'BillyBeernut', 'BillyBob78', 'BillyBoysPie', 'BillyBrew', 'BillyBroas', 'Billythebeerman', 'BiltmoreShores', 'BinaryBeer', 'BingDings', 'Binnys', 'BioBilly', 'BiologySean', 'BiomedHawk', 'Bionic', 'Birchgrove77', 'BirdFlu', 'Birdiebeagle', 'Birmingham', 'Biscuit033', 'Bisho', 'Bitburgerisyummy', 'BittRnessabounds', 'BitteBier', 'BitterBrian', 'BitterHOPface', 'BitterLover', 'BitterPachyderm', 'BitterRogue', 'Bitterbill', 'BittererPlease', 'Bittergirl', 'Bitterman', 'Bitzy', 'Bizz88', 'BizzyQU', 'Bkuz', 'Black7Blue', 'BlackAngus', 'BlackBearForge', 'BlackBeerPirate', 'BlackDogBrews', 'BlackHaddock', 'BlackHoleBrew42', 'BlackJeremiah', 'BlackMagik', 'BlackMath', 'BlackRob', 'BlackWednesday', 'BlackWizard', 'Blackdevil77', 'BlacklightBrewin', 'Blackshoepirate', 'BladeRunner', 'BlaiseDemon', 'Blakaeris', 'Blake', 'Blaketj80', 'Blanchette', 'Blanco', 'BlankFrank', 'BlastBeats', 'BlastTyrant', 'Blatzman', 'Blazedale', 'BlazeofCory', 'BlazmoIntoWowee', 'BleedBlueUSAF', 'Bleedingshrimp', 'Blind00Squirrel', 'BlindPig', 'BlindSalimander', 'Blindfolk', 'Blissmo', 'BlitzShadow', 'Blitzen15', 'BlitzkriegHop', 'Blitzstyle', 'Blizzz', 'Blob77', 'Bloop', 'BlueBill', 'BlueBloodBrew', 'BlueCat1', 'BlueEcho', 'BlueHammer', 'BlueLawyer', 'BlueMoonJones', 'BlueRibbonBeer', 'BlueStoneBrew', 'Bluemoonlover', 'Blueribbon666', 'BluesDaddy', 'Bluesbuster', 'Bluetick', 'Bluetrekrider', 'Blueye80', 'Blupoet03', 'BlurryVisi0n', 'Blursimarsi', 'Blybloke', 'BmoreBeerGuy', 'Bmoyer0301', 'Bmuncy', 'BoDiddly', 'BoSox5902', 'Bob96358Biese', 'BobCS', 'BobCarr', 'BobJustBob', 'BobLuvBeer', 'BobSmooth', 'BobThomas', 'BobWoodshed', 'BobZ', 'Bobancheff', 'Bobby12many', 'Bobby13', 'BobbyBeerman', 'BobbyBoy610', 'Bobbydigi', 'Bobdope', 'Bobheed', 'Bobikel', 'Bobmisy', 'Bobo77', 'Bobsurfhb', 'Bobthenailer', 'Bobzilla', 'Bobzilla13', 'Bockrules', 'Bodart', 'Boehemyth', 'BogeyBob', 'Bogforce', 'Bogie', 'BogleHill', 'BogusOwnz', 'Boilermaker88', 'BoitSansSoif', 'Boitnott', 'Bolendak', 'Bolonya', 'BomberHunter', 'Bombers4Benedict', 'Bombman86', 'Bond', 'Boneheadmx', 'Bones54', 'Bonhoeffer', 'Bonis', 'Bonzo531', 'BooRad81', 'Boodoggy', 'Boofshavik', 'Boohausen', 'Bookseeb', 'Boolshot', 'Boomhower', 'Boonedoggle', 'BoosPackage', 'Bootscraper', 'BoozeHound81', 'Boozefox', 'Boozeisfood', 'Boozie132', 'BoozingViking', 'BoozySmurf', 'Boppar', 'Borgs', 'Borjas', 'BorntoLate86', 'Bosstone', 'BostonBrewins', 'BostonJohn', 'BostonTriggs', 'BostonianInSoCal', 'Boto', 'BottleOfPills', 'BoucheGulp', 'Bouleboubier', 'Bouncingsoul1682', 'Bounty628', 'BourbonDork', 'Bourre', 'Bowdoinbeerboy', 'Bowman2001', 'Box4Rocks', 'BoxingFanatic', 'Boxus', 'Br0', 'BrSpiritus', 'Brabander', 'Brad007', 'BradBLR', 'BradBoesen', 'BradDurbin89', 'BradEC08', 'BradLikesBrew', 'BradtheGreat7', 'Bradvarg', 'BrahnSolo', 'BrainDad', 'Brambleman', 'Brand', 'Brandegee', 'BrandonB', 'BrandonUB', 'BrandonWardlaw', 'Brandonator', 'Brandt', 'BranfordBound', 'Braseltonage', 'BrauKilR', 'Braudog', 'Brauluver', 'BraveUlysses', 'Bravo4', 'Bravo8Dex', 'BravoTwo', 'Brazedowl', 'BreWolf', 'BreadSlicer', 'Breadvan19', 'Breedlove', 'Brencr', 'Brenden', 'Brent', 'BrentMC', 'Brenttt', 'BretSikkink', 'Brettster', 'Breuks', 'Brew33', 'Brew34', 'BrewAStorm', 'BrewBastard', 'BrewBlast', 'BrewBoone', 'BrewBra', 'BrewCrew2010', 'BrewDoc12', 'BrewDoctor', 'BrewDrinkRepeat', 'BrewFanatics', 'BrewHops', 'BrewIndy', 'BrewIrish98', 'BrewMaester', 'BrewMan13', 'BrewMan82', 'BrewMaster', 'BrewMasterBurch', 'BrewMasterG', 'BrewMaven', 'BrewMeisterSteve', 'BrewMichigan', 'BrewMonkey', 'BrewRunner', 'BrewSomerville', 'BrewStoutMagic', 'BrewSwillis', 'BrewTat', 'Brewbro000', 'Brewdacris', 'Brewdog22', 'BrewedInHeaven', 'BrewerB', 'BrewerMike', 'BrewerSomerville', 'Brewfan', 'Brewfanatic55', 'BrewinBliz', 'Brewingbanjos', 'BrewitYerself', 'Brewligan', 'Brewlore', 'Brewman334', 'BrewmasterNPB', 'BrewmasterNate', 'BrewmasterT', 'Brewmba', 'Brewmeist', 'Brewmiser', 'Brewmuse508', 'BrewnZ', 'Brewnami', 'Brewno8it', 'BrewnoMarzen', 'BreworFerment', 'BrewsB4Shrews', 'BrewsBrother', 'BrewsBudzNBuzz', 'BrewsCrewSA', 'Brewski4Drewski', 'BrewskiBanks', 'BrewskiLaw', 'Brewsky29', 'Brewsmith', 'Brewsta', 'Brewtalitea', 'BrewtifulMind', 'Brewtr0n', 'Brewzzle', 'Brez07', 'BriPete', 'Brian50Oshen1', 'Brian700', 'BrianBoruma', 'BrianBrewsBeer', 'BrianCavtanker', 'BrianJ', 'BrianKJ', 'BrianOfMayberry', 'BrianOhio', 'BrianSiembor', 'Brianito', 'Brianjames16', 'Brianmerrilyn', 'Briant230', 'Briarbush', 'Briarscratch', 'Bricelyn', 'BricksandPorter', 'Bricky29', 'Brideshead', 'Brillig', 'BringusKilkenney', 'BrinkyBeerBoy', 'Britt6', 'Brittmb29', 'Britton', 'Brizam', 'BrlyHpsWtrYst', 'Brno', 'Brodie', 'Brodirt', 'BrokenStones', 'Brokenbil', 'BronYrAur', 'Bronislaw', 'BrookieRookie', 'BrooklynBlack', 'Brooks44', 'Broombrew', 'Broron54', 'BrotherBear', 'Brouwerij78', 'BrownAleMale', 'BrownNut', 'Browning', 'Brownsfan7', 'Brownshoe', 'BruChef', 'BruMeister', 'BruceAJones', 'BruceBeerman', 'BruceWineworks', 'BruinEric', 'Bruiser81', 'Brumbybeerman', 'Brunite', 'BrunnerG', 'Brushkanna', 'BrutalBeerFan', 'BrutalSusan', 'Brutmasta', 'Brutus55', 'BrutusOrca', 'BryanCarey', 'BryanEast', 'BryanRex', 'BryantTheOgre', 'BryceBidwell', 'Brynbar', 'Brynn', 'Brysky', 'Bryson', 'Bslied', 'Bsmith', 'Bsobotik', 'Btrue121', 'Bubba83', 'BubbaNJ', 'BubbaSteve', 'Bubbalito', 'Bubslang', 'BucBasil', 'BucannonXC5', 'Buck18', 'Buck2', 'BuckSpin', 'BucketBoy', 'BuckettOfBeer', 'Buckettt', 'BuckeyeNation', 'BuckeyeOne', 'BuckeyeSlim', 'Buckeyes67', 'Buckmaister', 'Bucknutty24', 'BucksBrew', 'BuckyFresh', 'BudBoy', 'BudHater111', 'BudKistner', 'BudWizeMan', 'Buddha22', 'BuddhaEK', 'BuddhaNate', 'BuddyNuggsTX', 'BuddyP87', 'Budking', 'Budlum', 'Budro', 'Budz', 'Buebie', 'BuffaloBill91', 'BuffaloBilly', 'BuffaloTapHugger', 'Bufford1234', 'Buggabeer', 'BuggerCheer', 'Buggies', 'Bugman', 'Bugsey', 'Buildscharacter', 'Bulabeers', 'Bulkman', 'BullCityB', 'BullDurham', 'BumpkinBrewer', 'Bumpon10s', 'Bung', 'Bungalo22', 'Bungle2', 'Bunkles', 'Bunnyhop', 'Burdman', 'BurgBrewer', 'BurgerJones', 'BurghBrewPSU', 'Burl41', 'BurnBlueSky', 'BurnInLA', 'BurnsTau', 'BurpingtonDC', 'Burt', 'BuruKaizoku', 'Busbluesman', 'Buschyfor3', 'BushdrinksBeast', 'Bushrod', 'Bustin', 'BusyNinja', 'Butch', 'ButchAleman', 'ButlerBeerworks', 'ButtWizzard', 'ButterScotch', 'Buttermaker', 'Buttstorm', 'Butzen', 'BuxMontBeerLover', 'BuzzLitebier', 'Buzzboyslim', 'Buzzkill', 'ByTor2112', 'Byeast', 'CAMRAhardliner', 'CANinUS', 'CAOMarcos', 'CAP1868', 'CASK1', 'CAbeerCAbeerCA', 'CAcreeks', 'CAnthonyNev', 'CBFanWish', 'CBOLAND17', 'CBenn', 'CBennett', 'CBlack85', 'CBowser', 'CCBadger', 'CCUBA', 'CCalvert', 'CDBeerDisappear', 'CEversole', 'CFHMagnet', 'CFWBDave', 'CFbeermaker', 'CFrank', 'CGeiger0718', 'CH3CH2OH', 'CHADMC3', 'CHICOBEERMATT', 'CHILLINDYLAN', 'CHL', 'CHSLBrew', 'CHickman', 'CJD', 'CJN11', 'CJStout', 'CJfromPhilly', 'CJohn', 'CJthirty7', 'CLBizzle', 'CLevar', 'CMB2012', 'CMW', 'CMiller683', 'CMitchell', 'CNeilP09', 'COBeerBuff', 'CONOR8832', 'CObeerdrinker', 'CPbeerman', 'CPeterson', 'CPfromTX', 'CQuin', 'CRACKHEADNU', 'CRAZYLITHUANIAN', 'CRJMellor', 'CRichardsMN', 'CRooney5787', 'CRossi', 'CS1971', 'CS1Will', 'CSAsylum', 'CSQ1111', 'CSimon', 'CSquared', 'CTDrinks', 'CTRukus', 'CTguy', 'CTraft', 'CU570M', 'CVC', 'CWBlues', 'CWC2003', 'CWiggins', 'CZeman', 'Cabadrin', 'Cadebro', 'Cadetten', 'Cadyfatcat', 'Caesar024', 'Caesar1pup', 'Cagden', 'Caine', 'CajunCavern', 'Cakanator', 'Cakebroue', 'Cakefan', 'CalhounJohn', 'CaliBeerLover86', 'Calico', 'Calicoast', 'Caligula', 'Calimouth', 'CallMeCoolEthan', 'CallMeIschmael', 'Callaghan', 'Callenak', 'Calyps0', 'CameronNoSense', 'CameronTyl3r', 'Cameroon', 'Camp187', 'CampbellKe11', 'Camperdown', 'CampusCrew', 'Campuspartystore', 'CamuMahubah', 'CanaanBob', 'CanadaBlue', 'Canibacea', 'CanisFirebrand', 'Cannabinaceae', 'Cannon6', 'CannonSP', 'Cannoneer', 'CanonJohn', 'CantillonKing', 'CanuckRover', 'Capicu', 'Capicu1987', 'CapitalGains', 'Capitalist', 'CapitalsFan', 'CapitolCrusher', 'CaptAhab76', 'CaptArmo', 'CaptCleveland', 'CaptDavyJones', 'CaptFrothy', 'CaptJackHarkness', 'CaptKirkles', 'CaptMurdock', 'CaptYellow', 'CaptainFuzion', 'CaptainIPA', 'CaptainInsaneO', 'CaptainPascoe', 'CaptainPiret', 'CaptainTripps', 'Captainren', 'CaptinRedBeard', 'CarPus', 'Carac3', 'CarbonIS', 'CardinalBiggles', 'CardinalBrewing', 'Cards81fan', 'Careerinbeer', 'CarfiCZ', 'CargoCulte', 'CarlP2', 'CarlosTheRealtor', 'Carlton1964', 'Carnage0070', 'CarolinaAle32', 'Carolvs', 'Carpathia', 'CasanovaCummins', 'Cascade99', 'CascadeConan', 'CascadeFan', 'Cascadia', 'Casconi', 'Casey10', 'CaseyFig', 'CaseyR22', 'CashMoneyVagrant', 'CasinoAce', 'CaskAleFan', 'CaskBeerouac', 'CaskofFlyingDog', 'CastAStone', 'CatFishHead', 'Caterwaul', 'Cath0de', 'CathWern', 'Cavalier92', 'CavePainter', 'Cavery', 'Cawdog', 'Cberry0037', 'Cchambers', 'Cdunk11', 'Cedromar', 'Ceej1978', 'CelebrityHolmes', 'Celestion321', 'Cellar', 'Cellardweller', 'Celt44', 'Celtic71', 'CelticAleMan', 'CelticKevin', 'Celtics76', 'Cen2112', 'CenCalMario', 'Centennial', 'CervezaMesa', 'Cfahooligan', 'Cfowler', 'Ch1mpy', 'ChEOSU', 'ChRiSt', 'ChadFromCanada', 'ChadQuest', 'ChadSexington1', 'ChadSimmons', 'Chadbrew', 'Chadpaq', 'ChainGangGuy', 'ChainsawStebus', 'ChairmanMeow', 'Challynger', 'Chambic', 'ChanChan', 'Chaney', 'ChappyBrew', 'ChappyCubsFan', 'Chapstone', 'Chapter40z', 'CharacterCounts', 'CharlatanSin', 'Charles5773', 'CharlesDarwin', 'CharlesRiver', 'Charleston', 'CharlieC', 'CharlieLawyer', 'CharlieMopps', 'CharlieMurphy', 'Charlotte09', 'CharlyNovember', 'CharmCityCrab', 'CharmCityTerp', 'Charnews', 'Charthepirate', 'ChaseT', 'Chasem1', 'Chatter', 'Chaz', 'ChazMania', 'CheapHysterics', 'CheckMate', 'CheckmateBrew', 'Cheech22', 'Cheers', 'Cheesemoose', 'CheezyBlaster', 'ChefCook730', 'ChefJ', 'ChefMoore', 'ChefSchipull', 'Chefie', 'Chele1097', 'Chello', 'Chelsea1905', 'CherylM', 'ChestSplitter', 'Chevami', 'ChiBeerKM', 'ChiHophead13', 'ChiPool', 'ChiSox05', 'ChicagoTom', 'Chicchan', 'Chickenbob', 'Chickenhawk9932', 'Chico1985', 'ChicoraBoy', 'Chiefbrutus', 'Chiefoneeye', 'Chiefrocker', 'Chiefy770', 'Child502', 'Chile', 'Chilidogg', 'ChillMike', 'ChimRichels', 'ChimayMayDay', 'ChinHoFive0', 'Chincino', 'Chinon01', 'Chinookie', 'Chizoad', 'Chodite', 'ChokeHold', 'CholYoon', 'Choo', 'ChopperSmith', 'Choppr', 'Chops', 'ChoqlitStout', 'ChouffeSanderson', 'ChowHound', 'Chowdogz', 'Chris19000', 'Chris1999', 'Chris585', 'ChrisA', 'ChrisBK', 'ChrisBakken', 'ChrisBowers', 'ChrisBuster', 'ChrisCage', 'ChrisCastillo', 'ChrisKalejta', 'ChrisMon02', 'ChrisOsman', 'ChrisPro', 'ChrisQ', 'ChrisSSBB', 'ChrisSimpson1968', 'ChrisVA', 'ChrisWashington', 'Chrisco88', 'Chriscrundwell12', 'Chrispyc1211', 'ChristianBlack', 'ChristianBonde', 'Christianholdt', 'ChristopherB', 'Chronofied', 'Chsyhkr', 'Chubby', 'Chubby815', 'ChubbyLushiano', 'ChuckD', 'ChuckMartel', 'ChuckMartel37', 'ChuckR343', 'ChuckTownB', 'ChuckVee', 'Chug1', 'Chugg', 'ChugginOil', 'Chuggnutt', 'Chuggs', 'ChuggyMcBeer', 'Chugmonkey', 'Chugs13', 'ChugsMugs', 'Chumlley', 'ChunkyGravy', 'Church89', 'Chyren', 'Cidersurfer', 'CigarMatt', 'Cinderbike', 'Cindirene', 'CircusBoy', 'Circusboy1082', 'Cisco619', 'Citadel82', 'CityBoy1986', 'ClammyClaude', 'Clamwacker', 'ClanKenneally', 'ClaremontBrew', 'ClarkPinnock', 'ClarkVV', 'ClashCityRockers', 'ClashmoreMike', 'ClassicBrad', 'ClassyLadyJen', 'Claudehenrysmoot', 'Claudius424', 'Clause80', 'ClavinCliff', 'ClavisAurea', 'Clayspapa', 'ClearDog', 'ClearGrit', 'Cleb', 'Clembo1957', 'ClevelandBrew', 'ClevoPiwo', 'Clickerstein', 'CliffBrake', 'ClimbStuff', 'Clippers652', 'Clockwork420', 'ClockworkOrange', 'Clowerweb', 'Clownpants', 'Clubchat', 'Clutch28', 'Clydesdale', 'Cmack15', 'Cmuska902', 'CoSMoSYS', 'Coach', 'Coachaloach', 'CoalCellar', 'CoalPorter', 'CoastieSimon', 'Cobrakai22', 'Cobratrooper', 'Cobrawilly', 'Codnasty', 'CoffeeKaioken', 'CoffeyShop', 'CogSciBierNut', 'Coji', 'Cokie', 'ColForbin', 'ColForbinBC', 'ColSanders123', 'ColdPoncho', 'Colin108', 'Colleen219', 'Collegedrinker', 'ColonelFrobin', 'ColoradoBobs', 'ColoradoRocket', 'Colt4540', 'Colterd', 'Columbanus', 'ComfortablyBum', 'ComicalAli', 'Commandogeraldo', 'ComputerBeer', 'ComradeCanadia', 'ComradeK', 'ConanDan', 'ConchobarNessa', 'Conk', 'ConnHuskyFan', 'Connnor', 'Conqueror', 'Conrad', 'Constellation', 'ConsumerOfBeer', 'ConsumerWhore', 'Contagion', 'Contra', 'Converge', 'CoolBlueDude', 'CoolJosh', 'Coolcheech', 'Cooldill', 'CooperEllis', 'Coorskid33', 'Coplains', 'Corbet', 'CorbinB', 'Cord018', 'Corey82', 'Corker444', 'CormanoWild', 'Cormier29', 'Corndork2', 'CornedBeef', 'CoronaADAMS', 'CorporateTool', 'CortexBomb', 'CosmicCharlie', 'CosmoHopHead', 'Cossacks19', 'Cotterman', 'Cottzilla', 'CouchCobra', 'CountJustinian', 'CountLupulus', 'CountOrgaz', 'CounterVulture', 'Countrysurfertt3', 'CourteManche', 'Coutastic', 'Covert22', 'CowboyDarb', 'CowboyNeil', 'Cowboystout', 'CowsCanBark', 'Coximus', 'Cozzatoad', 'Cpherg', 'CplHunter', 'CpnJunkyard', 'CpnYates', 'CptAubrey', 'CptCaveman', 'CptCha0s88', 'CptnJack', 'Crabbicuss', 'Craboo', 'Crack1Open', 'CrackyMcZap', 'CraftAle', 'CraftAleRookie', 'CraftBeerTastic', 'Craftbrewlvr', 'Crafted', 'Craibcr', 'CraigKodish', 'CraigMac', 'Crajun', 'Cranus', 'CrashWorship', 'CrawlingSpirit', 'Crayz', 'CrazeIrish', 'Crazy4LegMoose', 'CrazyDavros', 'CrazyHorsePete', 'CrazyMacHarris99', 'CrazyMike', 'CrazyOtto623', 'CreamAle128', 'CreamyBeer101', 'CreamyStoutMan', 'Creeoss', 'CrellMoset', 'Cresant', 'CrescentFresh', 'CrescentLake', 'CrestwoodG', 'Crftbrfan', 'Crimefish22', 'Criscoh88', 'Crittervision', 'Crizzle316', 'Croll', 'Crom', 'CromDubh', 'Cromster', 'CrookedStill', 'Crosby', 'Crosling', 'CrossArmant', 'CrossFitAlex', 'CrossansWright', 'Crossmc1423', 'Crossmd', 'Crotor', 'Crousejs', 'Crowls', 'Crowquill', 'Cru', 'CruisaC', 'CrumpledFish', 'Crunch', 'Crundy', 'Cruzin023', 'CrystalPesci', 'CrystalShipMS3', 'Crystufer', 'Cs1987', 'Cschmidt87', 'Ctendall', 'CualityC', 'Cubaneagle', 'Cubsfan1087', 'Cubslover', 'CudOfCow', 'CultureJamMN', 'Cummins9110', 'Cunningham26', 'CupcakeNY', 'CuriousMonk', 'CurmudgeonOmar', 'CurtDoggYo', 'CurtisLoew', 'CuseItUp', 'CushyGig', 'CuttDeez', 'Cuttooth', 'Cuzco', 'CuznRoy', 'Cwalk3205', 'Cwillia9', 'Cwrw', 'CyR', 'Cyberkedi', 'CyclingLush666', 'Cylinsier', 'Cymru7', 'Cyn1c', 'Cyrano41', 'D11', 'D23', 'DAEverett', 'DAILYCHUGGIN', 'DAVEnHOPS', 'DAVIDMAGNUM', 'DAVIDTHEBANDIT', 'DAllspaw', 'DArinello', 'DBoone', 'DC11', 'DCDevilDancer', 'DCPlus14', 'DCX', 'DClikeshops', 'DCon', 'DDCMember', 'DDKennemore', 'DERTY1', 'DESTRO', 'DFHAle', 'DFN', 'DFWCat', 'DGavagan', 'DGryger', 'DHGranstrand', 'DHedeman', 'DHermit', 'DHolte', 'DIM', 'DIPA', 'DIPAbrewer', 'DIYBrewing', 'DJButters', 'DJED69', 'DJHombre', 'DJM13', 'DJRezN00', 'DJRoswell', 'DJSteadman', 'DJindy', 'DK420', 'DKMonroe', 'DKight', 'DKter', 'DLReeves', 'DLXSF86', 'DLtheMD', 'DLucky', 'DM1293', 'DMBoSox11', 'DMXLOX22', 'DMZ', 'DMZG', 'DMac', 'DManMillZ', 'DNA', 'DNICE555', 'DOCALYN', 'DPFRD', 'DPMomutant', 'DPhillips1027', 'DPuro329', 'DRGinLBC', 'DRMcKnight', 'DRODICHOK', 'DRjester', 'DRtacoburger', 'DSmith24', 'DStave', 'DT7', 'DTJPPR', 'DTavares', 'DUBinMIA', 'DUNDERBAK', 'DV8HARD', 'DVTO2', 'DWA', 'DWilliams76', 'Da1nonlyBD', 'DaBrewsNIU', 'DaCheesehead', 'DaPeculierDane', 'Daav', 'DabblinWiscCraft', 'Dabe', 'Dabrownthing', 'DackAchan', 'DadOfMax', 'Daddy1', 'Dadoftwogirls', 'DaeHanL', 'Daehpoh', 'Daementia', 'DaftCaskBC', 'DagFishHead', 'DaggerEyes', 'Dajtai007', 'Dakotablue', 'Dakotah13', 'Daktyls', 'DaleMcMutt', 'Dalem', 'Dallasjohn', 'DamDweller', 'DamYankee', 'Damaged', 'Damian', 'DamienJax', 'DamnedSaint', 'Dan2165', 'Dan3279', 'DanBerliner', 'DanBob35', 'DanChapin', 'DanDaMan77', 'DanDantheIPAman', 'DanGraser', 'DanHefeweizen', 'DanJ', 'DanJan', 'DanK222', 'DanM08', 'DanOLeary', 'DanThomas', 'DanWatkins', 'DanaBeerMaster', 'Danbeer3', 'Danfield', 'DangQuesadilla', 'DangerDawg', 'DangerRukus', 'DangerVoltage', 'Dangermonkey', 'Dangerous', 'Dangus', 'DanielClouser', 'DanielDanza', 'DanielDavis421', 'DanielRP', 'Daniell', 'Daniellobo', 'Danimal', 'Danimaleatdrums', 'Danistheman', 'Danjamin', 'Dank0814', 'Dankuel', 'Danmc200', 'Danny1217', 'Danny2321', 'DannyDan', 'DannyS', 'Dannyb', 'Dannyt', 'Dano420', 'Dansrc51', 'Dansting', 'Dantes', 'Dantetar', 'DantheBeerMan', 'Dantheman4162', 'Dantman', 'DarbyOGill', 'Daredevil', 'Darien', 'DarinRobbins', 'Darius75', 'DarkAngel', 'DarkBeerGuy', 'DarkBeerRuler', 'DarkDryad', 'DarkMagus77', 'Darkale', 'DarkerTheBetter', 'Darkhorse09', 'Darklight', 'Darkmagus82', 'DarrellK', 'DarrinRasberry', 'DarthFedor', 'DarthKostrizer', 'DarthMalt', 'DarthRadb', 'Dartswizard', 'Darwin1975', 'DasBoot91', 'Dasa1044', 'Dave128', 'Dave380', 'Dave412', 'DaveAnderson', 'DaveBeers', 'DaveBlack', 'DaveC93036', 'DaveCS', 'DaveFL1976', 'DaveFromDetroit', 'DaveGood', 'DaveHS', 'DaveHack', 'DaveJanssen', 'DaveMacDave', 'DaveMarner', 'DaveUK', 'DaveWhite', 'DaveonBA', 'DaveyBoy1', 'DavidEddie', 'DavidFBN', 'DavidHawman', 'DavidJFaber', 'DavidLindley', 'DavidST', 'DavidSeanNJ', 'Davidpgibbons', 'Davme76', 'DavoleBomb', 'Dawkfan', 'DawnL', 'Daybis', 'Daytripper42', 'DeAdGuY', 'DeDolle', 'DeGrog', 'DeSoto', 'DeaconBluez', 'DeadGuyRyan', 'Deadheadbill', 'Deadstar', 'DeanMoriarty', 'DearthVader', 'Deas', 'DeathTrain', 'DeathbySexyBT', 'DeauxBoy', 'Deconstructionis', 'DeeMented', 'DeepSix', 'Degus4', 'Deingeist', 'Deit39', 'DelMontiac', 'Delerium', 'DeliciousSeeker', 'Delirium', 'DeliriumDuck', 'Deliteru', 'Delraypete', 'Delta9', 'DeltaBrain', 'DeltaGolfSierra', 'Demer', 'DemonCarcass', 'Denali', 'Dendrite77', 'Dennycurr', 'Dentist666', 'DenverLogan', 'DenverW1', 'DerBayer', 'DerKaiser', 'Derek', 'DerekDudley', 'DerekP', 'DerekStek', 'Derranged', 'Derrich', 'DerrickBerg', 'Dertbert', 'Derwood49', 'DesMoinesMike', 'DeschutesNut', 'DesertDragon', 'Desertstorm', 'Destral', 'Deuane', 'Deus1138', 'DeusExChronica', 'DeutscheJeff', 'DeutschesBier', 'Deutschlandic', 'Deutschmann', 'Devi0us', 'DevilDogBeer', 'DevilSaint78', 'Devildog3', 'DevilsCups', 'Devilsfan87', 'Dewboarder213', 'DgtlDonkey', 'Dhgirl', 'Dhren1979', 'Diablerie', 'Diablo7', 'DiabolikDUB', 'Diagoras', 'Dibujob', 'Dicahomebrewing', 'Dieffenbach', 'Diesel76', 'DieselSnorter', 'Dieseljaxx', 'DigPorter113', 'Diggnation', 'Diggy30', 'Digimaika2', 'DigitalDude', 'DigitalHype', 'Dignan123', 'Dijeriduster', 'DijonKetchup', 'DilleyGafph', 'DingusKhan', 'DioS', 'Dionysius86', 'DionysusII', 'Dipper1234', 'DirtHelmet', 'Dirty1', 'DirtyDan86', 'DirtyPenny', 'DirtybeerguyRI', 'Disclosednot', 'Distilled10', 'Dithyramb', 'DiverDan88', 'DividedAvery', 'Division250', 'Dixonian', 'Dizzle32', 'Dizzy', 'Djedhead360', 'Dleonard', 'Dlish', 'DmanGTR', 'Dmann', 'Dmart1223', 'Dmbhawker', 'Dmoore07', 'Dmorrison', 'DoSerMaN', 'DoShek', 'Dobby', 'Doby', 'DocAJ', 'DocBrewsky', 'DocBrown', 'DocDownUnder', 'DocTheDJ', 'Docer', 'DoctorB2B', 'DoctorDog', 'DoctorRock', 'DoctorStrangiato', 'Doctuh', 'Dodo2step', 'Dodt', 'DoesntMatter46', 'DogFood11', 'DogHouseBrewery', 'Dogbrick', 'DogfishJoe', 'DogfishRyan', 'DogfishTail', 'Dogfishface55', 'Dogfishipas', 'Dogsgogrrrr', 'Dogshirt', 'Dogstooth5', 'Dohdaman', 'Doiv', 'Dojima', 'Dokatz', 'DoktaHops', 'DoktorZee', 'Dolamite', 'DollarCan', 'DomErie', 'Domingo', 'Dominicvampire', 'DonDirkA', 'DonMaroney', 'DonWalter', 'DonaCake', 'Donerik', 'Donnie2112', 'Donnie373', 'DonnieNarco', 'DontCallMeSurly', 'DontToewsMe', 'Donthoseme', 'DooMMonkey', 'Doodler', 'Doodlesby', 'DookDrinkyCrow', 'Dools9', 'Doomcifer', 'DoomyMcDoomdoom', 'Doostin82', 'Dope', 'DopeRawBrewing', 'Doppel07', 'DoppleJock', 'Dopplebock', 'DoreenAndDave', 'Dorian', 'DosBeerigos', 'Doshkin', 'Dostortugas', 'Dotcubed', 'Double06', 'DoubleBagger', 'DoubleD89', 'DoubleDIPA', 'DoubleDeadGuy', 'DoubleDutchin', 'DoubleJ', 'DoubleOught', 'DoubleSimcoe', 'Doublebass27', 'DougBrew', 'DougLomax', 'Dougal', 'DouggiePhresh', 'Doughcifer', 'Douglas14', 'Douglas88', 'DouglasPerron', 'DousedInStout', 'DovaliHops', 'DownDaHatch', 'DownNout', 'DownsouthDrinker', 'DrBell', 'DrColossus', 'DrCronic', 'DrDCon', 'DrDemento456', 'DrDocRudge', 'DrDogbeer', 'DrDoitchbig', 'DrHoppy', 'DrJ', 'DrJay', 'DrJones', 'DrKnoskelson', 'DrLasers', 'DrMalt', 'DrMaturin', 'DrRosenscrotum', 'DrScotch', 'DrSend', 'DrShizzle', 'DrStiffington', 'DrTrobridge', 'DrUFO', 'DrVetur', 'DrWho', 'DrZarkov', 'DrZot', 'DragYourBone', 'DrainBamage', 'Drama99', 'DraperyFalls', 'Drasak', 'DraughtPunk', 'Draughted', 'Draughtsman', 'Drazzamatazz', 'Dreadnaught33', 'DreamInOrange', 'Dredpenguin', 'Drew966', 'DrewCapzz', 'DrewHodges', 'DrewKid4', 'DrewOSU', 'DrewS', 'DrewS667', 'DrewShal9', 'DrewSnyc667', 'DrewV', 'DrewZ', 'DrewZ926', 'Drewcifer', 'Drewer757', 'Drewtholomew', 'DrinkBEEROrDie', 'DrinkSlurm', 'DrinkThemAll', 'Drinkerofales', 'Drinkin4Two', 'DrinkinBoy', 'DrinkinBuddy', 'DrinkingAleToday', 'DrinkingDrake', 'Drinksinthebarn', 'Drinkslinger', 'DrinkumsMcBooze', 'DrinkyGuy', 'Dripdry', 'Drone53', 'Drufus', 'DrummerDan', 'DrunkMcDermott', 'DrunkPagan', 'DrunkRorschach', 'Drunkasamunky', 'DrunkenMaster', 'DrunkenPanda', 'DrunkenPanther', 'DrunknMonkey', 'Dsb3350', 'Dshaw', 'Dspohn', 'Dsqrd', 'Dster', 'DualLines', 'DubBrewer', 'DubRuss', 'DubbelDown', 'Dubber55', 'Dubbercody', 'Dubblebock', 'Dubbledown', 'Dubhglas', 'DuceMcCracken', 'Duckmancgy', 'Ducttape', 'Duder13', 'DudleyRose', 'Duff10323', 'Duff27', 'DuffBeerHere', 'DuffManOhYeah', 'Duffman', 'Duffman929', 'DuffmanOhYeah01', 'Duhast500', 'Duhey2', 'DukeKensington', 'DukeofAle', 'Dukeofearl', 'Dulliwhig', 'DunDun', 'DuncanIdaho', 'DuncanIdaho86', 'DunesBrewer', 'DunkelFester', 'Dunkelhund', 'Dunkle', 'Dunt', 'DuqTroops', 'Durand', 'Durchfall', 'Durge', 'Durisko', 'Durk', 'Durtdiggler', 'DurtyNellie', 'DurtyUI', 'DurwoodSauls', 'DustPanMan', 'Duster72', 'DustinPowers74', 'DustinSmall', 'Dusty278', 'Dusty8807', 'Dutch0ven', 'Duttonic', 'Duvelmonami', 'Duxx', 'DwnTwnBwn', 'DylanEllis', 'Dzugashvili', 'E7bass', 'EA728', 'EAKovac', 'EAlex', 'EBOhopfan', 'ECUbrew', 'ECdOc', 'ECioffoletti', 'EDNOSE', 'EE311', 'EGledhill', 'EJ6759', 'EJFinegan', 'EJNibs', 'EK33', 'ELFERALO', 'ELN', 'EMV', 'EMedic87', 'EORS', 'EPICAC', 'EPseja', 'ERASE21', 'ESATIKKFAN', 'ESPNman', 'EStreet20', 'ETF5000', 'EVLguy', 'EVaughan', 'EWSchulenburg', 'EWWilson', 'EagleAg', 'EagleAndChild', 'EagleTalon', 'Eagles1331', 'EarlNuce', 'Earthchild180', 'EasternDivide', 'Eastman2009', 'EatsTacos', 'EazyR', 'EbPhrygian', 'Ebola', 'Echo1Mike', 'EchoCharlieEcho', 'Echosolace', 'Ecliptica', 'EdTheEdge', 'EddieSTL', 'EddieTheTrooper', 'Edella', 'Edgecrusher', 'Edmund', 'EdmundFitzgerald', 'Edragon', 'Edwaka01', 'EdwardStark', 'EdwardTeach', 'Edwin', 'EdwintheAmish', 'EeRocKK', 'EehaiCJ', 'Ego', 'Ehlonya', 'Ehouse', 'Ehrnstrom', 'Eichenlaub', 'Eigenslam', 'EighchBrews', 'Eiik', 'Eirerate', 'Eisen', 'Ek0nomik', 'EkimGram', 'ElCaholicRacer', 'ElCerverzero', 'ElCommodoro', 'ElDavicho', 'ElDiablo', 'ElGallo', 'ElGaucho', 'ElGeordie', 'ElGordo', 'ElGrecoVerde', 'ElGuapo', 'ElHefeweizen', 'ElJoebo', 'Eldalonde', 'ElderRasputin', 'Elderbeerman', 'Eldritch', 'Elecid', 'ElectricHarry', 'Eleinad', 'Elemental', 'Elendinn', 'Eleutheria', 'Elevator', 'EliBrew', 'Elihapa', 'ElijahCSkuggs', 'Elimination', 'EliotW', 'EliottJW', 'EliteDigger', 'ElizabethCraig', 'Ell', 'EllaLythe', 'Ellbert', 'ElliotNess', 'ElmerBruisery', 'Elric14', 'Elrod23', 'Eltorrente', 'Elviss', 'EmChouffe', 'Emarble17', 'Embers', 'EmeraldMyung', 'Emerging1', 'EmergingZymurgy', 'EmericaMoon', 'Emerson1310', 'EmilNoldSinclair', 'EmoBeerGuy', 'EmperorBevis', 'EmperorStan', 'EnJeiBee', 'EnVinoVeritas', 'Enderdraught', 'EndoftheWorld', 'EnemyWithin', 'Engibeer', 'Engine50brew', 'Engineerbob', 'EnigmaticDream', 'Enigmaticgesture', 'Enlightenedbeer7', 'Enlil', 'EnojysAnyBeer', 'Enola', 'Entityofme', 'Envious', 'Enygma', 'EoCahill', 'Epicedion', 'EpicurEsquire', 'Eramen', 'Erdinger2003', 'Eric8478', 'EricCioe', 'EricHeff', 'EricKufrin', 'EricMichael', 'EricTheJew', 'EricVB', 'EricZeiler', 'Ericcc', 'Ericnpeterson', 'Erigone', 'ErikMay1', 'Eriktheipaman', 'Erish', 'Erix', 'ErlendA', 'Erniek', 'Erocky12', 'Erodr015', 'Errto', 'EruditeWizard', 'Erzengel', 'Eschulz91', 'Esco02', 'EseLocoSS', 'EskimoDave', 'EsoxLucius', 'Espenoza', 'Esper', 'EssexAleMan', 'Estarrio', 'Esters', 'Estocker', 'Estranged', 'EtJ', 'EtOHMD', 'EternityofNight', 'Ethan27', 'Etheldreda', 'EthersTragic', 'Euroman', 'Evan87', 'Evbowski', 'EveL', 'Everdrift', 'Everydayoff', 'EvilFlyingCow', 'EvilGnome6', 'EvilKeith', 'EvilPumpkin', 'EvilTwin', 'Evilchef71', 'Evocatus', 'Evoeater', 'EwaldEichstaett', 'ExMachina1', 'Excalibur33', 'Exiled', 'Exner83', 'Experimentacious', 'ExpertAndrew', 'ExplosivoSR', 'ExpungeTheWorm', 'ExtraStout', 'Extrajoker00', 'Eyedrinkale', 'Ezekiel81923', 'Ezone024', 'F15jock1701', 'F2brewers', 'FACEMEAT', 'FACSman', 'FARGO619', 'FATKIDPWNS', 'FATKIDREVOLUTION', 'FBBrewingCo', 'FBH', 'FCBamberg', 'FCC3', 'FCGrabo', 'FFighter', 'FFudnam', 'FGCUkyleOz', 'FINA', 'FISHTHEINFAMOUS', 'FLAbeergutinMASS', 'FLBeerGuy', 'FLHopHead', 'FLOCCUNATION', 'FLOglida', 'FLYINGSCOOTER', 'FMetzger', 'FOUR', 'FOUREYEDFREAK', 'FPandMM', 'FRANKCROUSE', 'FRivard', 'FSU5385', 'FSUBrad', 'FSUmac', 'FSUplumber', 'FUNKPhD', 'Fabric8r', 'FacistCannonBall', 'Fadefury', 'Fahmaboi', 'Fahmie25', 'Falcon91Wolvrn03', 'FallinDeck', 'Fallonrmq', 'Fallynn', 'Falstaff1642', 'FamousShamus', 'FanofHefe', 'FarBeyondDriven', 'FarmGirl', 'FarmHouseJam', 'FarmerJohnny', 'FarmerJorganic', 'FarmerTed', 'Farmeral', 'Farrell', 'Fartknocker', 'FastEddie50', 'FatBoyGotSwagger', 'FatCaster', 'FatHeadCarl', 'FatSean', 'Fatduck', 'Fatehunter', 'FatheadBrew', 'Fatheranderson', 'Fatherskull', 'FatsoForgotso', 'Fattonyisfat5555', 'FattyJLE', 'Faulconerbrewing', 'Faune', 'Faustgeist', 'FaustieMo', 'Fazulka', 'FeDUBBELFIST', 'Feareon', 'Fearnofish', 'Fengzi', 'Fenrir088', 'Fenris244', 'Fenrisulfur', 'FenwaySquid', 'Fermented42', 'Fermenticusrex', 'FernMaster', 'Fernans', 'Fetus', 'Fezfreak', 'FickleBeast', 'Fieldzy27', 'Fievel321', 'Figgy', 'FightOnAlum', 'FightinScot', 'FightingEntropy', 'Fikash', 'Fillpott', 'Filosoof', 'FinDelMundo', 'FinFan', 'Finatic', 'Finite', 'Finkel', 'Finn', 'Finnman', 'Finster', 'FireEmt37', 'FireStarter6', 'Fireal1222', 'FireorHigher', 'FirkinDave', 'FirstBrewsoon', 'FirstMan', 'Fischy', 'Fiset35', 'Fish113d', 'FishGetter', 'FishHeadLover', 'FishMan123', 'Fishbone', 'Fishdawg71', 'FishinWolf', 'Fitwitchik', 'Fitzgerald', 'Fizzlybear', 'FlBlue2857', 'Fladder', 'FlakyBiscuit', 'Flamefighter', 'FlannelAvenger', 'Flare1728', 'Flashsp2', 'Flashy', 'FleckHead', 'FleeVT', 'Fleetdog', 'Flightoficarus', 'FlikkerDans', 'Flipadelphia84', 'Flippindiscs', 'FloppyDog', 'Florida9', 'FloridaDrinker', 'Flounder57', 'FlounderDouglas', 'Floyd12', 'Floydster', 'Fluffy88', 'Fluffytaster', 'Fluke828', 'Flup', 'Flux', 'FlyFisher2782', 'Flyer', 'FlyinFrog06', 'FlyinHawaiian', 'FlyingHog', 'FlyingRabbit', 'Flynn', 'Fnerk', 'Fnord', 'Foam', 'Foamblower', 'FoamyMustache', 'Foetaphagist', 'Folderol', 'FollowedMyFolly', 'FoodBlog', 'FoodandBrews', 'FoolCircle', 'Foolmonkey', 'FootballFan15', 'ForWhatAlesYou', 'Forb', 'FordBrewing', 'ForkAndSpoonOp', 'FormatKid', 'ForrestWolf', 'Fortheluv', 'FosterJM', 'FoundersFanatic', 'FourBetter', 'FourKicks', 'FourQuarters', 'Foxman', 'Foxtrot', 'FoxxTrottAle', 'Foxxypants', 'Francepants06', 'Franchise', 'Franiblector', 'FrankJ1982', 'FrankLloydMike', 'FrankWBurnsIII', 'FrankZappa', 'Frankcost', 'Frankdaatank24', 'FrankenBeerStein', 'FrankieLovesAle', 'FranklinDBier', 'FranklinPCombs', 'Frankthetank67', 'Franz4', 'Frasier433', 'Fratstar', 'FredTheSeal', 'Fredk24', 'FreeEagle', 'FreeTibet', 'FreekBoi', 'Freestater', 'Freethyhops', 'FreightTrain', 'FreshHawk', 'Freshcraft', 'Freshie', 'FreshmanPour77', 'FriarTuckInLuck', 'FriedGold2010', 'Frijolyqueso', 'FritterFlip', 'FrndthDuvel', 'FrognutUnl', 'Frondeur', 'Frostedluck', 'Frosthazard', 'Frosty288', 'Frosty80', 'FrothHead', 'Frothboss', 'Frothface', 'FrothyBeverage', 'FrothyFogarty', 'FrozenJoe', 'Frozensoul327', 'Frozer', 'FstrungUCoutT', 'FtownThrowDown', 'Fugazme', 'Fulkrum78', 'Fulky', 'Fuller', 'Fumanchu', 'FumblingTowardsX', 'FunHouse99', 'FunkyBrewster', 'FunkyFibes', 'FunkyMacGroovin', 'Furball', 'Furia', 'FutureCowboy', 'Fux', 'Fuzzy1', 'FuzzyGuy84', 'Fweezle', 'Fyourface316', 'Fytopiu', 'G2Brew', 'GANIMAL', 'GAPit', 'GARY1', 'GBB', 'GBRunner24', 'GBalbin', 'GBbrew', 'GCBrewingCo', 'GCGrant', 'GCal05', 'GClarkage', 'GDBEERMAN', 'GDMFSOB', 'GENNER', 'GFSchwab', 'GIG', 'GISentinel', 'GITPF87', 'GIVEMEBACKMYSON', 'GJ40', 'GLD', 'GLM0011', 'GLTHFJ60', 'GNR4life2', 'GNWBC', 'GODofALL', 'GOGRANDE', 'GONZALOYANNA', 'GORDONSWALTHAM', 'GPHarris', 'GParr', 'GQGeek81', 'GRANTmeAbeer', 'GRBrew', 'GREENANO', 'GRG1313', 'GRPunk', 'GRbruR', 'GSK', 'GSmithBeer', 'GWEBB9', 'GWaters', 'Gabemik', 'Gaben', 'GabesAles', 'GabrielM', 'Gaffa91', 'Gagnonsux', 'GainingAPalate', 'Gaisgeil', 'Galathil', 'GalenM', 'GallaghFinest', 'GallowsOak', 'GallowsThief', 'GambachMan', 'Gambelli', 'Gambrinus1184', 'GameFreac', 'Gamemako', 'Gandhified', 'GardenWaters', 'GardnerAleBrewer', 'Garet', 'GarethYoung1', 'Garin', 'GarrettB', 'GarrettM99', 'GarrettMD', 'GarrisWH', 'GarryGarrett', 'GarthDanielson', 'GarthTaargus', 'Gary2863', 'GaryKing28', 'GaryT2', 'Garyh', 'Garzan72', 'Gash', 'Gasp100', 'GatheringBrews', 'GatlinSmeijers', 'Gator1107', 'GatorBait', 'GatorBeer', 'GatorBeerNerd', 'Gattopardo', 'GavDomDadGH', 'Gavage', 'Gaverny19', 'Gavroche', 'GbVDave', 'Geauxnads', 'GeckoD', 'Gedackt16', 'GeeButtersnaps', 'GeeL', 'GeezLynn', 'GehenHerzog', 'Gehoffrey426', 'Gehrig', 'GenCornwallis', 'GeneLowy', 'GeneralZod', 'Generalataris', 'Generik420', 'Genghis22', 'Genji', 'Genry', 'GentlemanCole', 'Genuine', 'GeoJ', 'GeoffFromSJ', 'GeoffM', 'GeoffRizzo', 'GeoffW', 'GeoffnotJeff', 'Geonious', 'George24', 'GeorgeAldi', 'GeorgeIV', 'Georgiabeer', 'GermanHero', 'GetMeAnIPA', 'GetYourRiotGear3', 'Getinthevan', 'Geuzedad', 'Gfunk720', 'Ghenna', 'GhettoFabulous', 'GhostMtnAbbey', 'Ghostface', 'Giaach', 'Giavid', 'Gigan988', 'Gigantis', 'Giggaman', 'Giggy', 'GilGarp', 'GilaMinumBeer', 'Gilgemesh', 'Gillard', 'Gilly1980', 'Gilmango', 'GilmooDaddy', 'GimmeAGuinness', 'GimmeAles', 'GimmeGumballHead', 'GimpyCane', 'Ginacow', 'GioannBagoss', 'Giovacchini', 'Giovanni', 'GirlInRed', 'Girlybeer', 'Gish', 'Gitboxer09', 'GitcheGumee', 'Gitguy', 'Givekidsmeth', 'Givemesome', 'Gizmo', 'GlassCityBrewer', 'GlassFreeek', 'Glax69', 'Glazed144', 'GlennSt', 'Glibber', 'GloTownBrew', 'Globetrotter', 'GlockAmore', 'Glory', 'Gluek', 'Gmann', 'GnobRekot40King', 'GnomeKing', 'Gnosis', 'GoApps', 'GoBrewOrGoHome', 'GoGators', 'GoGriz', 'GoNowhere', 'GoRedlegs', 'GoalieRon33', 'Goatshaver', 'Goban', 'Gobigvt7', 'Goblinmunkey7', 'GoblueMS', 'Gobzilla', 'GodOfBeer', 'Godard', 'Godot', 'Godspeed', 'Goejoe', 'Gogol', 'Goibniu', 'GolamKovach', 'GoldHorde', 'Golddove07', 'Golden', 'Golden2wenty1', 'GoldenChild', 'GoldenJet', 'GoldenVIKE', 'Goldfish', 'Goldfish19', 'Goldopelgt', 'Goldorak', 'Golfstudisd', 'GolgiIPAratus', 'Goliath', 'GoneDogFishing', 'GonzoPizzaBurger', 'Gooball201', 'GooberMcNutly', 'GoodBeerTire', 'GoodKnight1220', 'GoodNamesTaken', 'GoodOldDuke', 'Goop721', 'Gordito', 'GordonQuid', 'GoreStorm', 'Gorefiendus', 'Goregazm', 'Gorf', 'Gorgoroth', 'GorillaJake', 'Gorillaz', 'Gosox8787', 'GossageBrewery', 'GotHood', 'GottBier', 'Gouldsby', 'Gouxman', 'Gr00veMerchant', 'Grabbin2nd', 'GradyS1', 'Graebner', 'Graeme23', 'Grafter', 'Graham21', 'Graham5161986', 'GrahamWalters', 'GrainDamaged', 'GrandCruDrew', 'GrandmaCrouton', 'Grandwazoo', 'Granhaugen', 'GrantCorbett', 'GrantDuthie', 'Grass', 'GratefulBeerGuy', 'Grathan', 'Gravelost', 'Grayhog', 'Greasetrap', 'GreatEastern', 'GreatJob', 'GreatLakesGirl79', 'GreatLeo', 'GreatMNFlyer', 'GreatPondBrewer', 'GreatSatchmo', 'GreatWeisseHope', 'Greatheil', 'GreenCard', 'GreenJetta912', 'GreenPea', 'GreenTara', 'GreenThumb', 'GreenWBush', 'Greencoat', 'Greenfloyd', 'Greenlabel', 'Greenleaf', 'Greenst82', 'Greer', 'Greg529', 'GregBlatz', 'GregBrewski', 'GregMcQ', 'GregPearson33', 'GregSVT', 'Greggy', 'Greggy2Crazy', 'Gregorious', 'Gregory', 'GregoryFrazier', 'GregoryShmegory', 'GregoryVII', 'GregorywBrown13', 'Gremner', 'Grendelgrey', 'GreyMorel', 'Greywulfken', 'Gribbs23', 'Griddlestacks', 'GrillMeister', 'GrimGuzzler', 'Grimes', 'GrimmReaper', 'Grimsooth', 'Grin', 'GrinNBeerIt', 'GrindFatherBob', 'Grintbrad', 'Gritch', 'Gritsak', 'GrittyMug345', 'GrizXTKEX519', 'Grizzld', 'GrizzlyBeer1282', 'GrizzlyBehr', 'GrizzlyBrew', 'Groomsy', 'Grossbier', 'Groucho75', 'GrowingEden', 'GruitGood', 'GrumpyGas', 'Grundle20', 'Grunewald', 'Gruntlumber', 'GruvisHops', 'Gtg642', 'Gtheroux', 'Gtreid', 'Guardian', 'Guden', 'Gueuzedude', 'GuezednConfused', 'GuillaumeDurden', 'GuinNess86', 'Guinness21', 'Guinness4Duff', 'Guinness4me', 'GuinnessGuinness', 'GuinnessHero', 'GuinnessSmurf', 'Guitarctica', 'GuitarmanST', 'Guizzy', 'GuldenBoy', 'Gulfnut036', 'GumbaHops', 'Gump', 'Gunnell', 'Gunnz', 'Gunruner', 'Gunslinger711', 'GurneySausage', 'GuruDel', 'GusDom', 'GusESB', 'Gushue3', 'Gusler', 'GusterFan', 'Gutensheisse', 'Guzzler78', 'Gvader13', 'GweedoeBRew', 'Gyle41386', 'H1N1', 'H473CR4F7', 'HAB', 'HABike', 'HAVANABEERTINI', 'HBS', 'HBang', 'HBeagle', 'HBeezley', 'HBomb81', 'HCYJ', 'HESSLER500', 'HIFF', 'HOMEPL8', 'HOPOLOGIST', 'HOPPYKC', 'HOSSHICKS', 'HRCam', 'HSThompson', 'HTGthird', 'HURTemHIZZY', 'HUXC', 'HaVoKnYnJ', 'Habanero58', 'Habmike', 'Hachiman', 'Haessly', 'Hagbard', 'Haggard', 'HagueBrook', 'Hahake13', 'Hahhbs', 'HairOfTh3Dog', 'Halcyondays', 'HalenRush', 'HalfFull', 'Halldog', 'Hallsey9', 'Hammarby', 'HammerOfThor1', 'Hamp', 'Hampton73', 'Hampton77', 'Hamsteroceros', 'HanTran', 'Hanby', 'HandOfOmmegang', 'Hands22', 'Handybierdrinker', 'Hanger', 'HansBlix', 'Hap', 'HaplessHero', 'HappiestCow', 'HappyBivouac', 'HappyHourHero', 'Happyhour', 'Happyshooter', 'HardTarget', 'HardcoreKeith', 'Harfatum', 'Harlequin', 'Harley1', 'HarleyGirl', 'HarleyQuilter', 'HarleyRider', 'Harmzy00', 'HaroldStarr86', 'HarrisonDean', 'Harry1936', 'Harry72', 'HarryPoondini', 'Hasser82', 'HatTrick', 'Hatch', 'HaticousPrim', 'HattedClassic', 'Hatzilla', 'Haufniensis', 'Hauguinness', 'Haunter', 'Haus', 'HausBrewer', 'Hautacam', 'Havinapretzel', 'HawkeyeDaz', 'Hawktane', 'Hawoh', 'Hawthorne', 'HayatoJin', 'Haybeerman', 'HayesdaHophead', 'HaysAmerica', 'Hayward', 'Hayyan', 'Hazer115', 'HeabyMetawHunta', 'HeadE', 'HeadFullaHops', 'Headfirst', 'HeadofHops', 'HeadwatersFinest', 'HeartPAC', 'HeatherTuckiee', 'HeathersBEERguy', 'Heatwave33', 'Heavenisbeer', 'HeavyCsOptician', 'HeavyG', 'HeavyMetalBrew', 'HeckYeah', 'HeeNalu', 'Hefe', 'Hefe21', 'Hefedrinker', 'Heferwiezer', 'HefeweissbierCWC', 'Hefeweizguy', 'Hefewise', 'HeightsEats', 'Heinens11', 'Heischman', 'Hellabeerguzzler', 'HellsBELLS24', 'Hemi', 'HemingwayDrinker', 'Hempdigler', 'Hendo', 'HenryH', 'HenrySwank', 'Hephaestus', 'HerculesRM', 'Herefishey', 'HereticDivine', 'Heritage02Rider', 'Herky21', 'Hermanater77', 'HeroJH', 'Herodotus', 'HeroicDoses', 'HerrBob', 'HerrKommissar', 'Herrbrokt', 'Herrless', 'Hershdawg', 'HersheyRhino', 'Hessy', 'Hex92', 'HeyItsChili', 'Heynik1885', 'Hhawk06', 'HiAIPA', 'HiGravShawn', 'HiLLWiLLiam', 'HiMyNameIsDerek', 'Hibernator', 'HighCarbDiet', 'HighCotton', 'HighOctane', 'Highbrewer', 'Higravity', 'HikerCT', 'HimerMan', 'HipHop5', 'Hiphop1', 'HippityHopps', 'Hiram357', 'HiroProtagonist', 'HisDorian', 'Hitman23', 'HitokiriNate85', 'HmmmmBeer', 'Hoagie1973', 'Hobbiman', 'Hobbitjedi', 'Hobbz', 'HoboAGoGo', 'HochFliegen', 'Hockeyabe', 'Hockeyfan1189', 'HockeytownBrew', 'Hoegaardener', 'Hoescheg', 'Hofer', 'Hofmann', 'HogHill', 'HoganRJ', 'Hogie2005', 'HogieWan', 'Hojaminbag', 'HokieNoPokie', 'HokieWolf', 'Hokies', 'Holden', 'Holland', 'Hollenbeck2', 'HollidaySlim', 'Hollister', 'Hollowleg', 'Hollybee', 'Holmes1135', 'Holmes698', 'Holyterror', 'HombreWing', 'HomeBrewGut', 'HomeBrewJunkie', 'HomeRunBaker', 'Homebrew35', 'Homebrew63', 'HomebrewPgh', 'Homebrewer4ever', 'HomelessShoes', 'Homer27', 'Homer7530', 'HomerSimpson742', 'Homerbag', 'Homeroaster', 'HoneyLamb', 'HoneygoWS', 'HonoluluLouie', 'Honza', 'HoopTime', 'Hoops4life511', 'Hoopster4hire', 'HoorayBeer', 'HoosBrews', 'HoosierInOhio', 'Hop2it', 'Hop505', 'HopBacchus', 'HopCrazy', 'HopDamn', 'HopDawg', 'HopDerek', 'HopDevil', 'HopDiggityDawg', 'HopDisciple', 'HopDr', 'HopDuvel', 'HopEnforcer', 'HopEnthusiast', 'HopGoblin', 'HopHead1982', 'HopHead29', 'HopHead84', 'HopHeadHerman', 'HopHeadHurls', 'HopHeadJim', 'HopHeadKen', 'HopHeadLouie', 'HopHeadMerlin', 'HopHeadMike', 'HopHeadMoe', 'HopHeadRyan', 'HopHeadTuc', 'HopHearted', 'HopHed', 'HopHedz', 'HopHobo', 'HopHog', 'HopHog22', 'HopHooligan', 'HopHottie', 'HopJ', 'HopJack', 'HopJen', 'HopMaster', 'HopMasterFlex', 'HopMe77', 'HopNelius', 'HopNuggets', 'HopOverdose', 'HopSkank', 'HopSlap72', 'HopTaco', 'HopTroll', 'HopWallopguy22', 'Hopalong29', 'HopasaurusRex', 'Hopdaemon39', 'Hopdam', 'HopeinHop', 'Hopfenpeter', 'Hopfist', 'Hopforte', 'Hophead101', 'Hophead717', 'HopheadEd', 'Hopheadburke', 'Hopilator', 'Hopine', 'Hopittome15', 'Hopnobbin', 'HopoPotomus', 'Hopoholic', 'HoppedUp420', 'Hoppensniffer', 'Hopperbolic', 'Hoppington', 'Hoppy27', 'HoppyAlesToYou', 'HoppyBen', 'HoppyHachey', 'HoppyInfidel', 'HoppyMcStout', 'HoppyMofo84', 'HoppyMonkey', 'HoppyPopster', 'HoppyPotter', 'HoppySuds', 'Hoppydude1980', 'Hops1', 'Hops23', 'Hops67', 'HopsAreOverrated', 'HopsGirl7', 'HopsHopenstein', 'HopsHops', 'HopsKeepDroppin', 'HopsMcGee', 'HopsNPot', 'HopsRunner', 'HopsYeast', 'Hopslady', 'Hopswagger', 'HopsyTurvy', 'HoptimusPrimeIPA', 'Hoptometrist', 'Hoptoss', 'Hoptrollop', 'HopzMan', 'Hornet2003', 'Horsley54', 'Hortator', 'Hortus', 'HosP', 'Hoser77', 'Hoss76', 'HossMcGraw', 'HotHabanero', 'HotHands', 'HotterThanHell', 'Houblonimous', 'HoundDog', 'HoustonTX', 'Hovellord', 'Hoves', 'HowellVillage', 'Hrolhp', 'HubsInn', 'HugePlume', 'Hugerat', 'HugoGrim', 'Huhzubendah', 'Hujak22', 'Hullabaloo2', 'HumuloneRed', 'Humulus85', 'HumulusLupuLust', 'Hunter', 'Hunterbrewhaha', 'HuppMJH', 'HurricaneMo', 'HuskyinPDX', 'Husslerc', 'Hutson', 'Hybrid', 'Hypersomnia', 'IAmNinjor', 'IBU99', 'IBUStu', 'IBUlover', 'IBUnit63', 'ICCULIS', 'ICPrice', 'IChuChuChuzBEER', 'IDS', 'IDrinkAllot', 'IHABrew', 'IHC', 'IHasaFlavaFlav', 'IIKaRuII', 'IIPA', 'IKHOURY', 'IKR', 'ILOVESTOUTS', 'ILessThan3Brett', 'ILhophead', 'ILikeBeer13', 'ILikeGoodCider', 'ILiveOffHops', 'IMPERIALWILL', 'IMincedTheKing', 'IPA35', 'IPA4LIFE', 'IPA4me', 'IPABrewer', 'IPADAN', 'IPAHound', 'IPAIPA', 'IPALOVER', 'IPALover23', 'IPASetter', 'IPAcraig', 'IPAescotch', 'IPAguy2009', 'IPAkindaguy', 'IPAlot', 'IPAs4lyfe', 'IPAsippa', 'IPhantom', 'IRNBRU', 'IRONRakkasan', 'IRequireBeer', 'ITK4ever', 'IZoot', 'Ian522', 'IanAnthony', 'IanCAnderson', 'IanH84', 'IanPaleAle', 'Ianhockey91', 'IceAce', 'IceEyes', 'IceHog', 'IceStation', 'IceTrey9785', 'Icehouse57', 'Iceman77', 'IcemanYaw', 'Icepak', 'IchabodcraneIpa', 'Idea', 'IdentityAles', 'Idodgepucks', 'IdrinkGas', 'Ieatlambfries', 'Ig0r', 'IggyTT', 'IgnatiusReilly', 'IgnorantBastard', 'IgotsHops', 'Iguana', 'Ihearthops', 'Iheartstouts', 'Ijimmy', 'Ikhoudvanbier', 'IlIlIllIlIllIlIl', 'Ilacquin', 'IllNate', 'Illini5596', 'Illinick', 'Illtryit', 'Iloverasputin', 'Ilovesuds', 'Ilushny', 'ImBOBtheBEERguy', 'ImWithStupid', 'Imbiber', 'Immacolata', 'Immortale25', 'ImpairedPirate', 'Imperial313', 'ImperialAndy', 'ImperialKitten', 'ImperialPashka', 'ImperialScott', 'ImperialStoat', 'Impfan', 'Impsonsay', 'Imsothirsty', 'Imstillthegman', 'ImusBeer', 'InDreams', 'InIBUsWeTrust', 'InandOutBeerGuys', 'IndiaCalebAle', 'IndolentReader', 'Indulgence', 'IndustrialCanine', 'Indy', 'Indybeer', 'Indybier', 'InebriatedJoker', 'Ineedabeerhere', 'Infamous7100', 'InfiniteLoop', 'Injemanze', 'Innocentexile', 'Insanity', 'Insomnicat', 'InspectorBob', 'IntegratedPi', 'Intelligentsia', 'Interfectus', 'Internatbrewlove', 'Intimidtor', 'IntoIPA570', 'IntoxicatedRat', 'Intrinsic', 'IntriqKen', 'Invisoclam', 'Ior', 'IowaBiertrinker', 'IowaHawkeyesFan', 'Ipameister', 'Ipatsfans', 'Irie', 'IrieJackalope', 'Irish212', 'Irish619', 'IrishAndSurly', 'IrishBeerMan', 'IrishCowboy', 'IrishEyes32250', 'IrishJava', 'IrishMan34', 'IrishMike', 'IrishPirate', 'IrishRacer', 'IrishRedBeard', 'IrishRedRock', 'IrishTed122', 'Irishchick22', 'Irishdagger', 'Irishfamilyboy', 'Irishmadden', 'Irishtexan', 'Irishwallaby', 'IronCitySteve', 'IronDjinn', 'IronGiant', 'IronLover', 'IronMickey', 'Irondookie', 'IronicLuddite', 'Irrigate', 'ItMakesMeHappy', 'Italianemperor', 'Italianish', 'Italktomyself77', 'Ithaca', 'Itlan', 'Itoclown', 'ItsTheLimit', 'Ivanthehero', 'Iwegen', 'Iwhitney', 'IwuvBEER', 'J0E', 'J0EL', 'J23hc', 'J4de', 'JAA', 'JACKandGINGER', 'JAL67', 'JAMESN8OR', 'JAMdaBuilder87', 'JANASKI', 'JAStheAce', 'JAXBrewHouse', 'JAXSON', 'JAYAR1', 'JAYBLACK', 'JAZwara', 'JArami', 'JAramini', 'JB12383', 'JBClaypool', 'JBG', 'JBMorrissey', 'JBStith', 'JBamin', 'JBmadera', 'JBogan', 'JBrew13', 'JBritt50', 'JBuff41413', 'JBushEsq', 'JC5886', 'JCAMPBELL', 'JCBears', 'JCDenver', 'JCIV', 'JCWeaze', 'JCaweinstein', 'JCellars', 'JChristopher', 'JChurch', 'JDBeer', 'JDFish', 'JDH2000', 'JDK', 'JDM02370', 'JDRourke', 'JDV', 'JDew', 'JDizzle', 'JDogg', 'JEFFRIBEGGIN', 'JEdmund', 'JEngler', 'JFarrell', 'JFazekas', 'JFurey', 'JGS', 'JGrooveDrums', 'JHackney87', 'JHamm', 'JHara', 'JHawkBrew', 'JHutton', 'JISurfer', 'JJBlanche', 'JJJ22', 'JK4Stout', 'JKIRBY', 'JKrout', 'JLShepard', 'JLaB', 'JLan86', 'JLebowski', 'JLeege', 'JM03', 'JMB22', 'JMBSH', 'JMD', 'JMD1970', 'JMD71', 'JMOvechkin', 'JMWEB2', 'JMac311', 'JMad', 'JMastrangelo', 'JMazzic', 'JMendyka', 'JMforman', 'JNewbs', 'JOENAMATH1', 'JOEYvegas', 'JONNYC', 'JONNYFJ', 'JOT', 'JOaikido', 'JP024', 'JPA5768', 'JPB', 'JPBCrown', 'JPMONEY88', 'JRG', 'JRMluvsbeer', 'JROCK8588', 'JRS', 'JRdaSconnie', 'JRed', 'JRhode', 'JRoweMDN', 'JSMarsolais', 'JSchn0w7', 'JSommers', 'JT2875', 'JTAndres', 'JTL', 'JTSbeerislife', 'JTWILDOATS', 'JTZimmerman', 'JTahoe', 'JThysens', 'JToad', 'JTrona11', 'JWD', 'JWFokker', 'JWHColdOne', 'JWU', 'JWolf', 'JZED', 'JaYsOuL', 'Jables', 'Jablonski', 'JackRose', 'JackStraw22', 'JackTheRipper', 'JackWeizen', 'JackieTH', 'JackieTreehorn', 'Jackinape', 'JacoBiz666', 'Jacobob10', 'Jacobpaul81', 'Jadjunk', 'Jae27', 'Jagcorps', 'Jagger', 'Jaguar', 'JahNoth', 'Jake1605', 'JakeManor', 'JakeSuperior', 'Jakerelli', 'Jales140984', 'JalfPsu', 'JamesBerry', 'JamesMcPolin', 'JamesP123', 'JamesPGH', 'JamesRobbins', 'JamesS', 'JamesSchutz', 'Jameskorte', 'Jameson480', 'JamfSlayer', 'Jamison27', 'JamisonM', 'Jammies', 'JamnesCameron', 'JanM', 'Janbobbo', 'Janderson91', 'Jangles', 'Janus', 'Japerrault', 'JaphyRyder', 'Jared3118', 'JaredKent', 'JaredWolgemuth', 'Jaredmcarrier', 'Jarhead271', 'Jarod', 'Jarpo', 'JarrodK', 'JasStewart', 'Jasel', 'Jasmarie86', 'Jason', 'JasonA', 'JasonCoop', 'JasonStrauss', 'Jaup', 'JavelinPride', 'Javers', 'Jawn', 'Jaxxon61', 'JayAre46', 'JayDreamin', 'JayDub', 'JayHill', 'JayMooch1', 'JayNH', 'JayQue', 'JayRey', 'JayS2629', 'JayT', 'JayTheFinn', 'Jaycase', 'Jayhawk', 'Jayhawk1995', 'Jayli', 'Jaymad', 'Jayman931', 'Jayna', 'Jaynuze', 'Jayo3000', 'Jazz1', 'Jazzcrop', 'Jazzfan333', 'Jazzpatel', 'Jbelokur', 'Jberb', 'Jbino34', 'JbirdWI', 'Jcarrane', 'Jcb890', 'Jcdolan', 'JdRotten', 'Jdecarol', 'Jdiddy', 'Jdmpolk', 'Jdog66', 'Jdub983', 'JeTToBOyzInc', 'JeanO', 'Jedimaster1', 'JednoPivoProsim', 'Jeebs', 'JeepCop', 'Jef59', 'JefNat', 'Jeff271828', 'JeffBob', 'JeffH', 'JeffMcAwesome', 'JeffTibbetts', 'JeffV', 'Jeffo', 'JeffreyG', 'Jeffro96', 'Jekster', 'Jemonster', 'Jenkster4', 'JennyJam', 'Jents71', 'Jeplacek', 'Jerdmier', 'JeremyBrews', 'JeremyK', 'Jeremym27', 'Jerermy', 'Jeriacor', 'Jeriba', 'Jerico', 'Jermbrew', 'Jerone', 'Jeronimo', 'Jerreve', 'JerryBullfrog', 'Jerrytas', 'Jersey', 'JerseyDevil980', 'JerseyKirk', 'JerseyPaul', 'JerseyToughGuys', 'JerzDevl2000', 'Jerzdevil1116', 'Jerzy86', 'Jespao', 'Jesse13713', 'Jesse14', 'JesseP09', 'Jessearellano', 'Jessefive', 'Jesstyr', 'JesteR14', 'JesusShoes', 'JetSmooth', 'Jethro6191', 'JethroAdam', 'Jetlag767', 'Jetlichan', 'JetsterDajet', 'Jettanbass9', 'Jfo1987', 'Jfraser', 'Jhandy', 'Jhasoe', 'Jhaysohn', 'Jhun', 'Jiggamyte', 'JimBird', 'JimFalzone', 'JimKal', 'JimLetson', 'Jimbo07', 'Jimbo87', 'JimboHD2005', 'JimbobAlonymous', 'Jimboozle', 'JiminKY', 'JimmieFrisbee', 'JimmyK77', 'JimmyKane', 'JimmyTango', 'Jimmys', 'JimsArcade', 'Jinholic', 'Jips', 'Jishguy', 'Jisho', 'Jivicin', 'JizackFH', 'Jjonbur', 'Jjt', 'Jlaw12', 'JmOdrkrk', 'Jmamay22', 'Jman0086', 'Jmaths', 'Jmchrz9', 'Jmoore50', 'JoBoTo', 'JoBobJim', 'JoEBoBpr', 'JoKo', 'JoLight', 'JoeA7', 'JoeAC', 'JoeAmerican77', 'JoeBCBC', 'JoeBloe', 'JoeCeez', 'JoeFourstringer', 'JoeLlama', 'JoeML', 'JoeMayo', 'JoeMertens', 'JoeNobody', 'JoeOfParma', 'JoePabeerno', 'JoePat', 'JoePopa', 'JoeST', 'Joel', 'Joel1515', 'Joey7F', 'JoeyBags1', 'JoeyBeerBelly', 'JoeyHotrod', 'JoeySchlitz', 'JoeyV', 'Joeycnews', 'Joeynocturnum', 'JohannBock', 'John', 'John1985', 'John42', 'JohnCurran', 'JohnFatAss', 'JohnGSO', 'JohnGalt1', 'JohnGalt57', 'JohnHoyos', 'JohnL9013', 'JohnMeinhardt', 'JohnNickel', 'JohnPPutz', 'JohnPecod', 'JohnQVegas', 'JohnRossKirby', 'JohnScav', 'JohnSmiths1', 'JohnW', 'JohnWaynes44', 'JohnY', 'JohnfromDublin', 'Johnnn', 'JohnnyBarman', 'JohnnyBeer', 'JohnnyChicago', 'JohnnyDuvel', 'JohnnyHopps', 'JohnnyK', 'JohnnyM2002', 'JohnnyP3', 'JohnnyS17', 'JohnnyV8312', 'JohnnyWS6', 'Johnnyfacelift', 'JohnnysBarIsIt', 'Johnwesleyhardin', 'JohnyK7', 'Jojoknows', 'Jok3r', 'JokeInsurance', 'Joker2008', 'JollyRodger', 'JollyToper', 'Jon', 'JonB1958', 'JonCus', 'JonMich13', 'JonSD', 'JonathanCrites', 'JonathanFalco', 'JonathanG', 'JonathanL7890', 'JondaRam', 'Joneyee', 'JonnieC', 'JonnyAtlas', 'JonnyDiablo', 'JonnyHud', 'Jono0284', 'Jonopoly', 'Jonp82', 'Jonte', 'Joplisan', 'Jordan', 'Jordan1985rec', 'JordanC', 'JordanChabot', 'JordanEllwanger', 'JordanParfitt', 'JordoBeerlady', 'JordonHoltzman', 'Jorel', 'Jorex', 'Jorge', 'JorisP', 'JosephLondon', 'Josephkeene', 'Josh311', 'JoshBeer86', 'JoshD', 'JoshJ', 'JoshJayne', 'JoshRadTxist', 'JoshVandy', 'JoshW', 'JoshuaCain', 'JoshuaJ', 'Josiah2729', 'JosiahS', 'Josievan', 'Joss', 'Jp7010', 'Jparkanzky', 'Jparker37', 'Jpatrix', 'Jprebs', 'Jprobinson', 'Jpwv', 'Jra1985', 'Jreb79', 'Jredner', 'JryAro0507', 'Jshaouni', 'Jslay77', 'Jtschupp04', 'Jtthegreat', 'JudgeRoughneck', 'JuggaloPhatMatt', 'Juggernaut', 'JugglerPeter', 'JuicesFlowing', 'JukeboxEmperor', 'Jules11788', 'JulieRFoster', 'JuliusWolf', 'July2Nov', 'Julz', 'Junior', 'JunkYardJake', 'Junnila', 'JupiterJesus', 'JustEarl', 'JustHarmless', 'JustIPAs', 'JustLovinBeer', 'Justin0001', 'Justin23060', 'JustinAniello', 'JustinBathurst', 'JustinJTisdale', 'JustinMann', 'JustinMatthew', 'JustinOSU99', 'JustinQ', 'Justinmclane', 'Jwaks', 'Jwale73', 'Jwren5', 'JxDuff', 'Jynxbaby', 'Jyubei', 'K270', 'K7M', 'K7online', 'K9AleingPiss', 'K9H20', 'KAF', 'KALIKGOLD', 'KAP1356', 'KATE12', 'KAVSE', 'KAdams', 'KBBA', 'KBC1', 'KBHops', 'KBomb', 'KBoudreau66', 'KBrady487', 'KC8LTL', 'KCHopHead', 'KCHops', 'KChardstock', 'KChurch86', 'KClarkin', 'KCoemgen', 'KDReeves', 'KDawg', 'KDeLibero', 'KEL', 'KELPAK', 'KFaulkner', 'KHallas', 'KI9A', 'KIMIfan', 'KINGSIZE', 'KJGAGNE', 'KJH', 'KJay1408', 'KKosmoski2', 'KLAYNE87', 'KMDouds', 'KMcG', 'KOPBeerDrinker', 'KOrtega', 'KRMBeerGuy', 'KSac4115', 'KTCamm', 'KUpolo', 'KWally', 'KYBrewgrass', 'KYFriedChildren', 'KYbrewgal', 'KYlawyer', 'Kadonny', 'Kadugen', 'Kaerous', 'Kahlerbock', 'KaiMiller', 'Kaie', 'Kain292', 'Kaiser777', 'Kaiser81', 'KaitouShiroi', 'KajII', 'Kakaraht', 'KalH', 'Kala1073', 'Kallessin', 'Kallsays23', 'Kamahl75', 'Kamuimusackie', 'Kanebanger', 'KansasBeerLover', 'KansasNate', 'Kanyon22', 'KarlHungus', 'KarlosT', 'Kartoffeln', 'Karyyk', 'Kasia', 'Katahdin', 'Katherinek6968', 'Kathleen', 'Kato', 'Katulus7', 'Kaydogg', 'Kaydoh', 'Kayn169', 'Kazechka', 'KazikliBey', 'Kbogac', 'Kc12349', 'Kc4shore', 'KeOw', 'Keblar', 'KeefD', 'Keene', 'Keeton', 'Keffa', 'KegMasta621', 'Kegatron', 'KeggerKen', 'Keginator70', 'Keith238', 'KeithOhio', 'KeithPatton', 'KeithStolte', 'Keitherduder', 'Keithmac115', 'Keithstone44', 'Kelly88', 'Kelp', 'Kemmerlin', 'Kemperfi', 'Kempleton', 'KenC', 'KenC411', 'KenDawg19', 'KenGage', 'KenOnBass', 'Kendo', 'Kenny411', 'KennyB', 'Kensai', 'Kensanity', 'Kenshin', 'KentT', 'KentonDunson', 'KentuckyBeerCat', 'Kerin', 'Kerrin85', 'Kessel', 'Kestrel452', 'Ketchup75', 'KevBrews', 'KevPet84', 'KevSal', 'Kevin400', 'KevinB', 'KevinBrewer', 'KevinCurtis', 'Kevinator', 'Kevuas', 'KevyKev', 'Kexx', 'Khano', 'Khazadum', 'KhourysBeerGuy', 'KickInTheChalice', 'Kickass', 'KickbacksSteve', 'Kicksmile67', 'KidneyBean', 'Kidrythm', 'KidsDoc', 'KieranValla', 'Kierkegaardian', 'Kikkycat', 'KilgoreTrout27', 'Kilonad', 'KiltedCulinarian', 'KiltedSnowman', 'KimenTshom', 'KindBeer', 'KingColliwog', 'KingDarkLord', 'KingEdward', 'KingFarm', 'KingG', 'KingHefey', 'KingMoomie', 'KingNoonan', 'KingPuuChuu', 'KingRamer', 'KingSlender', 'KingSpank', 'Kingdom4aPint', 'Kingpin', 'Kinsman', 'Kirby', 'Kirch', 'Kirkles', 'Kiser', 'Kitt', 'Kiwano', 'KixRules', 'Kjendahl', 'Kjos29', 'Kkottonmouthkngz', 'KlausKinski', 'Klgkenny', 'Klondike', 'Kloug', 'Klunco', 'Klym', 'Kmad55', 'Kmccabe33', 'Kmosiman', 'Knapp85', 'Knecht', 'Knifestyles', 'Knives', 'Knodel', 'Knowledge612', 'Knuckles', 'KoG', 'Kobangus', 'Koblentz', 'Kodiak', 'KodyBrannon', 'Kolsch', 'KomodoDragon', 'KomradeKraft', 'Kongquistador', 'KonigObHops', 'Kookiekwan', 'KoolWhp', 'Koolbreeze2', 'Kooz', 'Kopp', 'Koufax21', 'Kpowers', 'KraegerB', 'Kraken', 'Krakistophales', 'Kranders', 'Krebsy', 'Kreuger', 'Krevee', 'Krieg', 'KrisPaulk77', 'KrispyKirk', 'Kristing', 'KristyLeigh', 'KroMagnon', 'Kromes', 'Krovtar', 'Krunchky', 'KrupaTroopa', 'Krypton1001001', 'Kshock', 'Kubus', 'Kudashov', 'KuehneBe', 'Kuemmelbrau', 'Kulrak', 'Kulyboy', 'Kumicho', 'Kunsan90', 'Kurioser', 'Kurland', 'KuroNekoSama', 'Kuromaru', 'Kurtism', 'Kurtland', 'Kvltbm', 'Kvlterbm', 'Kwak', 'Kyanite', 'Kyle987', 'KyleMWood', 'KyleVick4', 'KylightZone', 'Kylito87', 'Kyrgyzbrewer', 'L337ish', 'L4t3rg4t3r', 'LAMAGS', 'LAWDAWG', 'LBBeer', 'LBHops62', 'LBIguard', 'LBrito', 'LFHaines', 'LGF', 'LHOOQ', 'LHOwasFramed', 'LJArsenal', 'LOCAL', 'LOVEALES', 'LPcreation', 'LPorter33', 'LRAC', 'LSIVA', 'LSUDranker', 'LSUExplorer03', 'LSUPT', 'LTMac', 'LTS', 'LVBen', 'LWG1970', 'LXIXME', 'LaChaBennDotcom', 'LaCoursiere', 'Labonix', 'Lacesoutcody', 'LacquerHead', 'LadyBastet27', 'LadyGisellys', 'LadyOfMuchBeer', 'Ladybugger', 'Lafe', 'Lagaffe74', 'LagerFiend', 'LagerMan', 'LagerandGospel', 'Lagerfeld', 'Lagerglatze', 'LairdChisholm', 'Lakers805', 'Lakes', 'LambicKing', 'Lambstrong', 'LanceW', 'Lancer211', 'Lancer39', 'Landfill21', 'Landgolier', 'Lando', 'Landser116', 'Landshark67', 'Landshrk83', 'LaneMeyer', 'Lantern', 'LarrBear', 'LarryKemp', 'LarryMac', 'LarryV', 'LarryWilliams', 'Larrytown', 'Lars3', 'LauraAlberts', 'LauraG', 'Lauthaha', 'LawHog', 'Lawl3ss', 'LayinLo', 'LaymanReviews', 'LazFTW', 'Lazerlobe', 'LazyL', 'LeCanonnier', 'LeMoose', 'LeRay', 'LeRose', 'LeTonneau', 'LeafCutter', 'Leafs18', 'LeathChuinn', 'LebronJeremy', 'Lecithin', 'Lee45102', 'LeeMarvin', 'Leebo2007', 'LeeinVA', 'Leemen1983', 'LeeryLeprechaun', 'LeffeHanded', 'Leftfield00', 'LeftonJackman', 'Lefty1881', 'LeftyBWS', 'LeftyEtc', 'LegendaAcBn', 'Lemke10', 'Lemmiwinks', 'LemmyRamone', 'Lemon', 'Lenny2884', 'LennyV', 'LeoEnergy', 'LeoPanna', 'Leocohen', 'Leon', 'LeonTrotsky', 'Lepley', 'Lerxst', 'LesStewart', 'Lesbrad', 'LessthanLuke24', 'LestatSabastian', 'LethalChickens', 'LetsGoHawks2009', 'LetsGoQuakers', 'Lev', 'LeviAllen', 'LeviLovesBeer', 'Leviathan', 'LevitatedEep', 'LewisMartin', 'Lexicon', 'Lexluthor33', 'Lexx', 'Lezbrew', 'LiamMcFee', 'LiamStLiam', 'LibertyTurns', 'LibraryTom', 'LicherRules', 'LieutenantD', 'LieutenantSour', 'LieutenantWort', 'LifeIsGood', 'LightEnthusiast', 'Lightbearer2012', 'LikaThaHops', 'Likeburning', 'LilBeerDoctor', 'LilMatrix', 'Lillenk', 'Lillie1128', 'Limberg316', 'Limenitis', 'LimoBarbie', 'Limpeye', 'Linda', 'Lindeman', 'Lintyfresh', 'LinusStick', 'LiquidBread219', 'LiquidBreadMan', 'LiquidCucumber', 'LiquidLord', 'Liquids', 'LiquorB4Berrr', 'LiquorLockerVP', 'Litterbean', 'LittleBreeze', 'LittleBug31', 'LittleCreature', 'LittleDon', 'LittleOtts', 'LittleWolf', 'LiveOakMarket', 'LiveRight', 'Livelaughlovep', 'LiverDonor', 'Liverpool08', 'LivinTheBrews', 'LizzieDearest915', 'Ljunkan', 'Lldeegan', 'Llewellyn9', 'Lnedrive14', 'LoadedSchells', 'Loadedgunz', 'LoblawBeer', 'LoboLikesBeer', 'Lockedin', 'Locker101', 'Lofgrep', 'Loftarasa', 'Loki', 'Loki83', 'LokiTheDog', 'Lolli1315', 'Lomofo', 'London1985', 'Long813', 'LongBeachHopHead', 'Longhorn22', 'LonghornBrewer', 'LongsPeakAveBrew', 'Longstaff', 'Lookalive07', 'LooksCouldKiilll', 'Looneybiz', 'Loot', 'Loppuu', 'LordAdmNelson', 'LordBag', 'LordChesterfield', 'LordFinley', 'LordHammer', 'LordHarris', 'LordKvlt', 'LordOdin', 'LordSMAF', 'Lordbacchus', 'Lordcheez', 'LordofTime25', 'Lordquackingstic', 'Lordsloth', 'Lordsoth', 'LosAngelesJoinMe', 'LosRobots', 'Lothar666', 'Lothore', 'LotusGt111', 'Louie1031', 'LouieF', 'Lounge14ABV', 'LoveBeerNo7', 'LoveMeAGoodBeer', 'Lovinthebrew', 'Lsmith', 'LtCracker20', 'LucaBrasi', 'Lucarelli3062', 'Luchman', 'LucienDeRubempre', 'Lucklys', 'LuckyBrewer', 'LuckySeven', 'LuckySevens82', 'LuckySkuff', 'Luckyboy81', 'Luff', 'Luigi', 'Luk13', 'Lukafer', 'Luke9311', 'LukeAnthony', 'LukeD23', 'LukeK1231', 'LukeShep31', 'Lukecook', 'Lukie', 'LumpyGuitar', 'LunaChick', 'LunarU4EA', 'Lunch', 'LunchBoxOfBees', 'Lunchmade', 'Lupe', 'Lupin', 'Lupuliniac', 'Lurchington', 'Lurius', 'LusciousJackson', 'Lushbesi', 'LuskusDelph', 'Luster', 'LuthersLager', 'LuthersMug', 'Lutter', 'Luvzsurfrz', 'LuxBuddy', 'LvilleIPA', 'Lynux', 'LyonsHead', 'LyriCa1z', 'M01', 'M0stlyHarmless', 'MA08', 'MAB', 'MABZ', 'MADhombrewer', 'MASPuros', 'MBABJJ', 'MBPChead', 'MBrausen', 'MC6', 'MCDuhamel', 'MCfunkyJ', 'MChobanian', 'MCorrea', 'MCrtn', 'MDAWG81', 'MDDMD', 'MDekker', 'MECU', 'MEPBlue', 'MEhophead', 'MEsoJD', 'MEsquandoles', 'MEverritt', 'MGL', 'MGrimley', 'MILECO', 'MIZZOBrew', 'MIbeerfan', 'MJR', 'MJRusso', 'MJnar1', 'MKEHophead', 'MLasoski', 'MLegendre', 'MLucky', 'MMAJYK', 'MMCCX', 'MMansfield', 'MNJR', 'MNRon', 'MNstout', 'MOB210SA', 'MOLASSESnsuch', 'MONKandTUCK', 'MOShepp', 'MOTrout89', 'MP72', 'MPLS', 'MPrint', 'MQ4188', 'MRLMedic', 'MRSPORTS', 'MS22', 'MS2k', 'MSchae1017', 'MScottLedoux', 'MT59917', 'MTMugs', 'MTNboy', 'MUHAWKRUNNER', 'MURF0320', 'MUSHROOMCLOUD', 'MVassar', 'MVotter', 'MWKozak', 'MWP', 'MWellington', 'MYGUINNESS', 'MYJELLOMISFIT', 'MYSTIKPIZZA', 'MaGno', 'MaaikeMae', 'MacDaddyJ', 'MacDomer', 'MacEnvy', 'MacMan1980', 'MacQ32', 'Macca', 'Macdoyal', 'Machiavelli2', 'Machinehead', 'Macky20', 'Maction', 'MadCat', 'MadElf25', 'MadHopz', 'MadMike80', 'MadTown1000', 'MaddogOrlando', 'MadeInOregon', 'Madigan', 'Madmax99', 'Madtowner', 'MaduroMike', 'Maedhros', 'Maerzen', 'Maestro', 'Mag00n', 'Magery', 'MagicHatFan', 'MagicLantern', 'Magicc82', 'MagnusJager', 'Magpie14', 'MagyarPuska', 'Mahgeetah527', 'Mahlik', 'Mahones', 'MainSpark', 'MaineBeerGuy', 'MaineBeerMan', 'MaineBirdMan', 'Majestic', 'MajesticKodiak', 'Majorscrilla', 'MakeIncuSciBus', 'MakeMineAPBR', 'MakeMischief', 'MakeshiftBrew', 'Mako82', 'MaldonGold', 'Malfunkt', 'MaliciousBot225', 'Malina', 'Malpa', 'Malt', 'MaltFrazier', 'Maltab', 'Malted', 'MaltistLupulist', 'Maltoftheearth', 'MaltsOfGlory', 'MaltyBob', 'MaltyGoodness', 'MaltyHoppyGood', 'MamaMeier', 'Mamerong', 'MammothBrew', 'ManVersusBeer', 'ManWithHat', 'Mancer', 'Mandark', 'MandatoryJimmy', 'Mandrake', 'ManekiNeko', 'Mangus', 'ManicD', 'Mannix', 'ManofMead', 'ManofWax', 'Manoftyr', 'Manos', 'Manosbeeroffate', 'Mantis05753', 'ManuelHerrera', 'Mao', 'Mar02x', 'Maracuja', 'MarcGetty', 'MarcatGSB', 'Marcrates', 'Marcus6679', 'Mardukk', 'MarenJensen', 'MargaritaDAD', 'MarineHokie', 'Mario61Aler', 'MarioL66', 'Mark', 'Mark4', 'MarkBeer', 'MarkBlackout', 'MarkFy', 'MarkIntihar', 'MarkNLaura1', 'MarkSCCOT', 'MarkVegas', 'Marplot', 'MarsMoose', 'MarshallMan', 'Martin2D', 'MartinVanBrewin', 'Martindelaware', 'Marty', 'Marty30', 'Martyartie', 'Marveljess', 'MarvinSnyder', 'MarvinTheMarzen', 'MaryMoTu', 'MaryS80', 'MarzenBierManiac', 'MarzenMan', 'MashMouth', 'MasonBeerMan', 'MassDriver', 'MasterNate2003', 'MasterSki', 'Masterson', 'Mastodactyl', 'Matador', 'Matcpd', 'MathBadger', 'Mati', 'Matt1234', 'Matt1516', 'MattAtAmeriCraft', 'MattBrooks', 'MattChaos', 'MattCote', 'MattFrenzy', 'MattM901', 'MattMacLeod', 'MattMcGinnis', 'MattPL', 'MattSweatshirt', 'Matteox3', 'Matthew', 'MatthewPatthew', 'Matthewislee', 'Matthias726', 'Matthoc116', 'Matticus03', 'Mattrh07', 'MattsLilBeerLuvr', 'Mattvg67', 'Matty1918', 'Matty67', 'MattyDonny', 'MattyG85', 'MattyV', 'Mattysox', 'Mattyssox', 'Maudite', 'Mauerhan', 'Mauhyr', 'Mavajo', 'MaxBrewell', 'MaxBrews', 'MaxSpang', 'Maxax', 'MaximusDecimus1', 'Maxwell106', 'MaxxDaddy', 'Maxxthepenguin', 'MayLattimore', 'Mayhem976', 'MayorAdamWest', 'Mazaman', 'Mazda3', 'Mazdajoe', 'Mazeraski', 'Mbarnes304', 'MbpBugeye', 'McBastard', 'McClungbrew2', 'McCrae', 'McCranky', 'McD0uche', 'McDiddyPop', 'McDizzle', 'McDosey', 'McFarlandJ', 'McGIPA', 'McGuire75', 'McHall', 'McKibben25', 'McKnightOwl', 'McLaughlin5350', 'McLovinmybeer', 'McNealc31', 'McNuts', 'McStagger', 'McThirsty', 'McWoods', 'Mcburks', 'Mcculler', 'MchugN', 'Mdog', 'MeLikeBeer', 'MeMyselfNAles7', 'MeadDrinker', 'MeadGuyfromMD', 'MeadMardigan', 'MealInAGlass', 'MeanGene', 'Meandmymonkey', 'Means0451', 'MeatHunter', 'Mebuzzard', 'Mechphisto', 'Med', 'MedicineMan', 'MediocreatBest', 'Meeg', 'Meerkey', 'Meeseface', 'MeganElyse', 'Meik', 'MeisterBurger', 'MelJohn', 'Melachai', 'Melchizedek', 'Meliorist', 'MelissaJ', 'MellowG', 'MenamenaDooDoo', 'MeninCleats', 'MenloBeer', 'MentorBeerGuy', 'Merchant46', 'MerkinMan', 'Merkur', 'Mertzy', 'Meshuggah135', 'Mess', 'Messiahbolical', 'Messiinnnaaaa', 'Metal4Breakfast', 'MetalBoozingBen', 'MetalHopHead6', 'MetalandBeer', 'Metallix6403', 'Metalmonk', 'Metalmoon', 'Methodd', 'MetlGuy', 'MetroOhio', 'Metropole', 'MetsQNY', 'Metuo', 'MexicanSkittel', 'Mexinate', 'MiScusi', 'Mibeerfan239', 'MicEp', 'Micahman', 'MichaelBurns', 'MichaelGreene', 'MichaelJSmith', 'MichaelLynBryant', 'MichaelMeister', 'MichaelMote', 'Michaelbeer', 'MichaelinFishers', 'Michalak', 'Michelle1069', 'MichiBrew', 'MichialTanner1', 'MichiganHopHead', 'Mick', 'MickGoBrach', 'Mickelswit', 'MickeyHops', 'Mickrowbrue', 'MicroBeerMan1980', 'Microbrewtaster', 'Midfielder', 'MidgetX', 'MidnightWatch', 'Midway', 'MightyCasey', 'MightyCow9', 'MightyMonk', 'MiguelMandingo', 'MihcaelBarb', 'Mike191', 'Mike3865', 'MikeB094', 'MikeB20', 'MikeBlemker', 'MikeBrandman', 'MikeCheck88', 'MikeCrime', 'MikeCz', 'MikeDelta1', 'MikeEveleigh', 'MikeGill', 'MikeInIowa', 'MikeInThe517', 'MikeM40', 'MikeMello', 'MikeOPFL', 'MikePenn', 'MikeRa', 'MikeRoper1989', 'MikeSr619', 'MikeT', 'MikeT77', 'MikeTaz', 'MikeWard', 'MikeWilson', 'MikefromDormont', 'Mikes360', 'Miketwolf21', 'Mikeus', 'Mikey58', 'Mikey905', 'MikeyHamilton', 'MikeyMikee', 'MikeyMisfit', 'MikeyRx', 'Mikeyboxx', 'Mikeyr89', 'MikeytotheB', 'MikieV', 'MilanoItaly', 'Miles2go', 'Milestone221', 'MillRat', 'Milla', 'Millerman', 'Millski7', 'MillySox', 'MiltonWaddams', 'Mindabyss', 'Mineo', 'Minkybut', 'MinnesotaRIS', 'MinorThreat', 'Minotaur', 'Mints', 'MirImage', 'MiracleMets22', 'MirkoCroCough', 'MischiefMtnC', 'Misfit025', 'Misfit138', 'MissA', 'MissDev', 'MissKristin', 'MissLynx', 'MissOrch', 'MissYaJim', 'MississaugaMatt', 'Mississipping', 'MistaC', 'MisterClean', 'MisterDeeds', 'MisterE', 'MisterElephants', 'MisterSH', 'MisterStout', 'MisterSub', 'MisterTiat', 'Mistofminn', 'Mit', 'MitchSauget', 'MitchW', 'Mitchel', 'Mitchill', 'Mitchster', 'MithosYggdrasil', 'Mithrandir', 'Mitro', 'MittenBeer', 'Mjoepp', 'Mjones15', 'MjrMjr', 'Mkfitz', 'Mkgrenwel', 'MlhopeTC', 'MmmIPA', 'Mmmaibock', 'MnDCochenour', 'MoBitter', 'MoJoe', 'MoLynch', 'MobBarley', 'ModemMisuser', 'ModernJester', 'Moe55', 'MoeSizlak', 'Mohoney', 'Mojoman8561', 'Mokattam', 'Molson2000', 'MondoMan', 'Monfort', 'Monk0383', 'Monk1', 'Monk11', 'Monk67', 'Monkey962', 'Monkeyknife', 'MonkeymooTJ', 'Monkeypaws', 'Monkieman2000', 'Monsone', 'MonsoonSeason', 'Monsteruss', 'Montrose79', 'Mooch273', 'Moodybeer1', 'MookDawg', 'MookieMoo', 'Moon2Goddess', 'Moonraker7', 'Moontang', 'MooreHopps', 'Moorkop', 'Mooseky', 'Mora2000', 'Morbo', 'MoreBeerforTimm', 'MoreThanWine', 'MorelandBrewer', 'Morethanbitter', 'Morey', 'Morfie', 'Morgasm', 'Moriya', 'Morlup', 'MorningBeer', 'MorningDove', 'Morningside', 'Morningstar', 'Morphoenix', 'Morris729', 'MortNoire', 'Mosley1212', 'Mosstrooper', 'Motladiwa', 'MoundOfSound', 'MountainBeagle', 'MoustacheHero', 'MouthFullOBeer', 'MowryJC', 'Moxley', 'Mozz74', 'MpPierce', 'Mposha', 'Mr3dPHD', 'MrAleman', 'MrArmageddon', 'MrB2006', 'MrBaconpants', 'MrBen', 'MrBendo', 'MrBigB', 'MrBlueShirt', 'MrBungle', 'MrCraggs', 'MrDanders', 'MrDanno96', 'MrDark', 'MrDerp', 'MrDibbs', 'MrDirt', 'MrDonQuixote', 'MrDriscoll', 'MrE', 'MrELovesBeer', 'MrFade26', 'MrFootstones', 'MrGaryFish', 'MrGraybeard', 'MrHadack', 'MrHall', 'MrHassellYaHurd', 'MrHellsKitchen', 'MrHirschybar', 'MrHolland', 'MrHungryMonkey', 'MrHurmateeowish', 'MrIncognito', 'MrKegs', 'MrKennedy', 'MrKsBeer', 'MrMatt', 'MrMcGibblets', 'MrNuggets', 'MrOH', 'MrOsgood', 'MrPsychic', 'MrRetardedMonkey', 'MrRogers88', 'MrSeth', 'MrSkyGuy', 'MrSmoogle', 'MrSnrub', 'MrStark', 'MrSwitch', 'MrThursday', 'MrTopher', 'MrVisegrips', 'MrVonzipper', 'MrWeaselWheat', 'MrWinky', 'Mrbassjedi', 'Mrcalrizion', 'Mrkinkle', 'Mrmarmot', 'Mryup', 'MsMandy', 'MsRif', 'Mscarpen', 'Msquared2', 'Msundt', 'MtAiryMike', 'MtGoat', 'MtVernon', 'MtnBikingandBeer', 'Mubbly', 'MuchoCerveza', 'Muck4', 'MuddyFeet', 'MuddyMcGinny', 'MuddyMikes', 'Muddybuddy', 'Mudja', 'Mudpuppet', 'MuenchenerKindl', 'MufflnMan', 'MugOfGoodness', 'Mule600', 'Muller', 'Mumbly', 'Mummygrabber', 'Mumps', 'Mumsbrew', 'MunchkinDrinker', 'Munkaboo', 'MunkeeD', 'Murchmac', 'MurdaMassMan', 'Murph', 'Murphious', 'MurphyKieran', 'MurphyMacManus', 'MurphysIrish', 'Murrdogg', 'Murrhey', 'Muse', 'MusicAndBeer', 'MusicalBeers', 'MusicaleMike', 'MusicmanSD', 'Musition12', 'Musky', 'Mustard', 'MutualAid', 'Mvega909', 'MyGoodness', 'Myk', 'Myke', 'Mypintishalffull', 'MysterySwirl', 'MysticRuler', 'Mythologian', 'Myyry', 'N8TheGreat', 'NA1NSXR', 'NATOuk', 'NBake', 'NBradley2', 'NCBeerFan', 'NCBeerman1', 'NCBeernut', 'NCSUdo', 'NClifestyle', 'NCoastWineBeer', 'NDPDuke', 'NDZonie', 'NEB1', 'NEbeerbro', 'NEhophead', 'NHGrafx', 'NHJim', 'NHLakesBrewer', 'NHbrewer', 'NICKV1117', 'NJBeerFan', 'NJBeerguy', 'NJBrewer', 'NJIPA', 'NJJereme', 'NJWerewolf', 'NJbeerman', 'NJpadreFan', 'NLCBULK', 'NLtex', 'NNY2DC', 'NODAK', 'NOOGIE', 'NOX', 'NRa4ever', 'NStLincoln', 'NV9', 'NVbeer', 'NWC', 'NWer', 'NYCBoy212', 'NYCWheatFanSC', 'NYJRE85', 'NYMETSSS', 'NYManc', 'NYPongBeast', 'NYRfan4ever', 'NYbeerwolf', 'NYfold', 'NaLoGra', 'NachlamSie', 'Nachojon', 'Nadja6123', 'Naerhu', 'Naes', 'NahpunGnome', 'Napalm85', 'Naples', 'Napone', 'NardiByNature', 'NascarJDS', 'Nascartailgatefa', 'Nashvillain', 'NastyCanasta', 'NastyDogg72', 'Nastynas95', 'Natainos', 'NatalBrewingCo', 'NateMac13', 'NatetheGreat', 'Nathan3496', 'NathanBeerFoo', 'Nathanielgl', 'Natural510', 'Nature777', 'NatureSon', 'Naugled', 'Naugros', 'Navalartichoke', 'Nay', 'NealCassady', 'NealVsBeer', 'NearerMyBeerToMe', 'NebulousNate', 'Nectar', 'Nedjimb0sTavern', 'Neecee513', 'NeedBeerNow', 'Needsbeer', 'Neehan', 'NefariousR', 'Neffbeer', 'NegativeCreep', 'NegativeSpin', 'Neilio', 'NekotoNikku', 'NeoMoose', 'Neorebel', 'Nerdmom', 'Nerfherderhan', 'Nermal', 'Nero', 'NeroFiddled', 'Nerudamann', 'NerveStorm', 'Neskimo', 'Nesued', 'Netdigger2', 'NeuroticNectar', 'NeutraAir', 'NeutroMan', 'Never2Dark', 'New2TheBrew', 'NewBedfordBrewer', 'NewCastle56', 'NewGeneric', 'NewSc2', 'NewcastleLover', 'Newglarusguy', 'Newkie', 'Newmerator', 'Newsman', 'Newworlddan', 'Nezzy', 'Nhoddus', 'Nibbley', 'NicAutry', 'NiceGuyMike', 'NiceHead', 'NiceTaps', 'NicholasCasber', 'NicholasMiller', 'NicholasSchell', 'Nichts', 'Nick3', 'NickBus', 'NickCel1', 'NickEMTn', 'NickG', 'NickH07', 'NickH44', 'NickHerrmann', 'NickLovesBeer', 'NickQ', 'NickRWB', 'NickRivers', 'NickTsU', 'Nicked', 'Nickls', 'NicoCruz000', 'NicotineDesire', 'Night', 'NightINgale', 'NightProwler86', 'Nightwielder', 'Nihilanthic', 'NikkiMacBrain', 'Nikkibrews13', 'NilsFrisk', 'NinjaDave', 'Ninjabrew', 'Ninjaworm', 'Nipitato', 'NitroGen', 'NittanyBeerFan', 'NittanyNation', 'Nixon', 'NixonsHead', 'Niziekiel', 'Nizinski', 'NoBitterFace', 'NoClearBeer', 'NoDeity', 'NoFC', 'NoHipTee', 'NoLiberty', 'NoLite', 'NoRoadtrippin', 'NoSignsOfPain', 'NoTearsInMyBeer', 'NoahSYGG', 'Noahman23', 'Nobody420', 'Noctilucus', 'Noelito76', 'NolanGTI', 'NolateM', 'NonChica', 'NonServiam', 'Noneverest', 'Noobster', 'NoonanDBarbarian', 'NorCalYeti', 'NordeastBrewer77', 'Nordicmonk', 'Nordicsk8er', 'NordikWolf', 'Nordstrand', 'Norfawkers', 'Norica', 'Normski', 'Norse23', 'Norsebrew', 'NorthbayStout', 'NorthernVA', 'Northjames', 'NorthsideFred', 'Northsider', 'Nostradamus', 'NotACommunist', 'NotBlonde', 'NotMyRealName', 'NottinghamRon', 'Nowhereman529', 'Noxious26', 'Nrod', 'Nrokitka', 'NuBrewm', 'Nubster', 'NuclearDolphin', 'NuclearEra25', 'NuclearWarhead', 'Nucleozoid', 'Nugganooch', 'NuggetNectar22', 'Nuggethops', 'Nuggetnectarfan', 'Nuke77', 'Nukeman3000', 'Nukesquad', 'NumbSensation', 'Number967', 'Nurb', 'NurseJody', 'Nutleybeer', 'NyackNicky', 'Nycko', 'Nytemare', 'OBeerMeGreatOne', 'OCBeerBaron', 'OChaos', 'ODBRIP', 'OHLRangers', 'OKCNittany', 'OKMadMonk', 'OKTAVIAN', 'OLaw', 'OMGTheyKilkenny', 'ONUMello', 'ONeill', 'OPWN3NTSL4Y3R', 'ORM1', 'ORothlain', 'OSUBeerStudent', 'OSUbrewman', 'OStrungT', 'OWSLEY069', 'OZz', 'Oahu', 'Oakagedyeti', 'OakedCanuck', 'OaktownFunk', 'OatherS', 'OatmattStout', 'Oatsoda', 'Ob1kanobi', 'ObeerwanCO', 'Ochsenblut', 'Octagonal', 'OddNotion', 'Oddefellowe', 'OdinsApprentice', 'Offa', 'OhDaNnYbOy', 'OhSoHoppy', 'OhYesILoveBeer', 'OhioBulldog', 'OhioHopDevil', 'OhioUTOD', 'Ohiovania', 'Okey', 'OkiDevil', 'Oktoberfest', 'OlRasputin989', 'OldEngineOil', 'OldFrothingSlosh', 'OldGregC', 'OldGreyBeerd', 'OldGrowler', 'OldIronLungs', 'OldPenguinHunter', 'OldRaspi', 'OldRaysputin', 'OldSchoolGamer', 'OldSkoolNintendo', 'OldSock', 'OldStyle', 'OldYoda', 'Oldbagofbones', 'OldeEnglishD', 'OldeGolde', 'Oldscramch', 'OleJohnnieAle', 'Olebiker', 'OliasOfSunhillow', 'OlieIPA', 'Olivander', 'OliverTweek', 'Olorin', 'Omegabyte', 'Ommegeddon', 'Ommy', 'Omniscia', 'OmygodOmmegang', 'On2Wheels', 'OnThenIn', 'Onceeven', 'One2Remeber', 'OneBadBird', 'OneDropSoup', 'OneEyedJack', 'OneLowChevy', 'OneWildRover', 'Onenote81', 'Onestepderek', 'Onibubba', 'Onicochetu', 'Only23', 'Onslow', 'OoompaLoompa', 'Ooter', 'OpIvy', 'OpenMic', 'Opethsprite', 'Opiadic', 'Oppoponax', 'Optimat0r', 'Optimator', 'Optimator7', 'OrangeAmps', 'OrangeCharlie', 'Orangesoda111', 'Orangevango', 'Orbitalinput', 'OregonLightning', 'OregonPaul', 'Oregonfiresteed', 'OremLK', 'OrganicBeer', 'Orgasmicbrew', 'OrioleWay', 'OrionImprisoned', 'OrionsBow', 'OronoChris', 'OrpheusTheSnake', 'Orrshow', 'Ortt', 'Orval1109', 'Osiris9588', 'Osirus', 'OskarL', 'OsuJohn', 'Osurak', 'Otacon', 'Otesanek', 'OtherMillerTime', 'OtherShoe2', 'Otis911', 'OtisCampbell', 'OtisStreetBrew', 'OtisinAZ', 'Otsaika', 'Otterburn', 'Ottertude', 'OttoBomb', 'OttoPeeWee', 'OudErnest', 'OutFox', 'Outchillen', 'OuthouseBrewing', 'OutlawJoseyWales', 'OverToad', 'Overlord', 'Owlwithknees', 'Oxymoron', 'OysterMonkey', 'Oz1516', 'OzarkElmo', 'Ozone34', 'OzzyDog', 'PABSTMASTER', 'PABSTPUSHER', 'PALMEJ1', 'PATECO', 'PAYankeeFan', 'PAvolksbiermann', 'PBBC', 'PBEAR', 'PBRdestroyer', 'PBRstreetgang', 'PBoegel', 'PCBrewski', 'PCampbell', 'PCaravan', 'PCmofo', 'PDK', 'PDX2LA', 'PDXHops', 'PEBKAC', 'PEIBeerGuy', 'PEIhop', 'PFCblue', 'PGCelebration', 'PGHeppJr', 'PHawk', 'PJ33', 'PJC', 'PJKSR02', 'PJipa', 'PLANETBUSTERRAVE', 'PLG', 'PMoo', 'PORTalianBrewess', 'PRemi', 'PRpitmaster', 'PSUBeerman', 'PSUBrew', 'PSUDREW', 'PSUguru', 'PTB25', 'PTMcB', 'PZuke', 'PaRappa746', 'Pabs311', 'PabstMan252', 'PacNWDad', 'Packforever1976', 'Paddez', 'Padron4KM', 'Pagzzz', 'Pahn', 'Paincane', 'Paisan', 'PaleAleHater', 'PaleAlien2', 'Palealetial', 'Palesmith', 'Palmcroft', 'Pamola', 'Pancakes', 'Panch', 'PandorasBottle', 'PangaeaBeerFood', 'PanicUnited', 'Panterrorist', 'PantherLightning', 'PantherProwLs', 'PantsOptional', 'PanzerFaced', 'PapaChabre', 'PapaEugene', 'PapaGemutlich', 'Papi', 'PapillonJohn', 'PappaT', 'Pappers', 'PappinAce', 'Parched', 'Pardishcreel', 'Parky1', 'Parrotbeak', 'Parrotshake', 'Partsdriver', 'PartyBear', 'PartyHatjo', 'PasadenaVicar', 'Pashtet', 'Paskalini', 'PatLarsen', 'PatYoda', 'PatandDavid', 'Patchmaster', 'PaterIovisLII', 'Patrick999', 'PatrickJR', 'PatrickKing', 'PatrickSullivan', 'Patrickbrusil', 'PatronWizard', 'PattynSuicide', 'Paul2505', 'Paul68', 'PaulAD', 'PaulM', 'PaulStoneAnchor', 'PaulW', 'PaulfromNoVa', 'Paulny', 'Paulster88', 'Pauly2X', 'Paulydeets', 'Pawel', 'PayLayAle', 'Paymygasbill77', 'Payso10', 'Pballa4lyfe', 'Pblives', 'Pbomb', 'Pdavidsoncycle', 'Pdiddey3d', 'PdxBeerNut', 'PeBelanger', 'PeaDiddy', 'PearlJam1221', 'PeatReek', 'Pecafaced', 'Peconic', 'Pecorasc', 'PedanticBrewing', 'Pedro07', 'PeerlessMark', 'Pegasus', 'PeggyHill', 'Pehlman', 'Peleador77', 'Pellinore1', 'Pencader', 'Pencible', 'Penguin3200', 'PenguinBeerFan', 'Pengvim', 'Pentastar', 'Pepeton', 'PepitoneConQueso', 'PeprSprYoFace', 'PerHops', 'PerfesserHomer', 'PerkBrewing', 'Perkyanda', 'PerroGrande', 'Perrucci', 'Perrumpo', 'PerzentRizen', 'PeskySaurus', 'Pete0403', 'Pete0714', 'Pete27lax', 'PeteIPA', 'PeterIngemi', 'PeterLemonjello', 'Petrislav', 'Pexkool', 'Pezcraig', 'Pfeifer', 'Phade42', 'PhageLab', 'PhantomVodoo', 'Pharazon', 'Pharkle', 'Pharmr', 'PhatAtUT', 'PhatMatt', 'Phatz', 'PheerNoBeer', 'Phelps', 'Phenom', 'Phertt', 'PhiGDeltaBrewman', 'PhiOmega', 'PhilFisher06', 'PhilH23', 'PhilLandfill', 'Philabeerphia', 'PhilfromPA', 'Philfromakron', 'Philipp', 'PhillaTheSpilla', 'Phillbus', 'Phillie', 'PhillipJFry', 'Philly82785', 'PhillyCop', 'PhillyDrinker1', 'PhillyHopMonster', 'PhillyLovesBeer', 'PhillyMonk', 'PhillyStyle', 'Phillyduke', 'Phillyphilms', 'Phillysportswhiz', 'PhiloPsych', 'Philosophic', 'Philousa', 'Philter85', 'PhineasGage', 'Phinner', 'Phishboy568', 'Pho', 'Phocion', 'Phoenix2443', 'Phormula', 'PhragMunkee', 'Phread', 'PhuckinPhil', 'PhunkyBeerGuy85', 'PhxHorn', 'Phyl21ca', 'Phylomatic', 'PicoPapa', 'PiecefulToker', 'PiecesOfFlare', 'PierceMyers', 'PigSkinFilms', 'Pigwings6', 'PileOwnz', 'Piliper', 'Pilky', 'Pillowhead', 'Pilsnerman44', 'Pimento', 'PinataRobot', 'Pineywoodsrooter', 'Pingotas', 'PintGlass', 'PintOHops', 'PintOfNoReturn', 'PintPiner', 'Pinto21', 'PintofPlain', 'Pintofbrown', 'Pipmeister', 'PiratePete', 'PirateUlf73', 'PisoMojado', 'Pisshead', 'Pisstank52', 'PistolB', 'PistolCreep', 'PistolPete86', 'PistyPete', 'Pitmonkey', 'PittBeerGirl', 'Pittsburgh', 'PittsburghAJ', 'Pity', 'PizzaQueen1', 'Pjev11', 'Pjhuppenthal', 'PlanBBar', 'Platinum88', 'PlaywrightSam', 'Pleepleus', 'Plenum', 'PlinyBeMiney', 'PlinyTheKid', 'Plinythechugger', 'Plokhooy', 'Plonk', 'PlowKing', 'Plughfish', 'Plumbwader', 'Pmazz19', 'Pockey', 'Pointman', 'PoisonOakAdam', 'PoisonedMushroom', 'PokerGod', 'PokerRick', 'PolarBear3', 'Polifemo', 'PollardsVision', 'Polycarp', 'PonchoEquihua', 'Ponsism', 'PonyBar', 'Pooba001', 'PoolhouseRebel', 'PoorArtist', 'Poormon79', 'Poorpatz', 'Pooter', 'PopScene', 'PopeJonPaul', 'Popkas', 'Popkorn615', 'Popov', 'Popp24', 'Poppleton', 'Poppypitbull', 'PopsBrew', 'Popsinc', 'Porkchuck', 'Porkfist', 'PorterForMe', 'PorterHall', 'PorterJan', 'PorterJunkie', 'PorterLambic', 'PorterLover83', 'PorterNicole', 'Porterholic', 'Portertime', 'Portiabella', 'Poser', 'PossumJenkins', 'PossumMunsen31', 'Possumlad', 'PotownAl', 'Pounddog', 'PrAndo', 'PrairiePenguin', 'PrayingColonel', 'PreacherBrewer', 'Preisman', 'Preismj', 'PremiumPete83', 'PresidentSkroob', 'Preston6578', 'PretzelCity', 'PretzelsNBeer', 'Priam', 'Prime16', 'Primetime1337', 'Primitivechef', 'PrinceDarren', 'PriorateOden', 'PrivateEquity', 'ProLiquorMan', 'ProbFrank', 'Probie', 'Procrastinator', 'ProdigalSon', 'ProducerBRBeer', 'ProfessorCJ', 'ProfessorHomer', 'ProfessorHops', 'Progenitor', 'Prosper0', 'Prost', 'Prost1812', 'Prostman81', 'Proteus93', 'ProudBeerSnob', 'ProudGreen89', 'Provocajade', 'Prufrock', 'Psilo707', 'PsychoJedi', 'Psydrith', 'Psyopticon', 'Pualee', 'Pubcrawler', 'PubliusII', 'PuckLSHS', 'PuckX', 'PudTinkler', 'Puddintane', 'Puddleglum', 'Pudge43', 'Pullen', 'Punch', 'Pundarquartis', 'Punker', 'PunkyBrewmeister', 'Pup', 'PureGonzo', 'PurpleCloud', 'Pusa', 'PutsDeBnABV', 'PvtVile', 'Pwnzilla', 'Px2GrafX', 'PyroPete', 'Pyronite', 'QXSTER1', 'Qacman', 'Qnix', 'QtipsandGrits', 'Quaffer', 'Quasmo', 'QuaterTill2', 'Quaxile', 'Quazgaa', 'Quej', 'QuentinCall', 'QuentinCompson', 'Quesadilla', 'QuestionableScum', 'Quimosabe', 'QuinnFam', 'Quinnpin', 'QuintKillsSharks', 'R1chdrinksBeer', 'RA1NMAN1205', 'RAFTER', 'RAdragna', 'RBassSFHOPit2ME', 'RBorsato', 'RCHatfield', 'RCStout', 'RDAdams', 'RDHerm', 'RDUImperialStout', 'REDBIKE22', 'REP012', 'RFModeler', 'RHCP313', 'RISky', 'RIbeaz', 'RJBeverage', 'RJJahnke', 'RJLarse', 'RJUGA03', 'RJay', 'RMBoswell', 'RMDuff', 'RMI15', 'ROBORB', 'ROCKETMAN998', 'ROLL', 'ROMER79', 'RPFinn', 'RPG', 'RQC', 'RRC87', 'RRRRRT', 'RRoeb1123', 'RSRIZZO', 'RSchaeffer', 'RTJakarta', 'RTL44', 'RThomas436', 'RTrain12', 'RWNewhouse', 'RWalschlager', 'RYGIANT22', 'RadNitroMan', 'Radar', 'Radiodred', 'Radley521', 'Radome', 'Raebies', 'Rafovargas', 'Ragedman', 'Ragedominion', 'Ragingbull', 'Raine', 'Rainintheface', 'Rainne', 'Ralelen', 'Raligitano', 'Ralphs66', 'Ralphus', 'Rammstein', 'Rampage1', 'Ranbot', 'Ranchito', 'RanchoMaduro', 'RandomBattle', 'Randori', 'RandyKemka', 'RandyR', 'RandyV', 'Randyweizen', 'RangerBeecham', 'Rangerator', 'Rangermonk', 'Ranic', 'RankRefugee88', 'Rantingfury', 'Rapax', 'RareMonkey', 'RashyGrillCook', 'Rasolante1', 'Rasputin', 'RasputinsRevenge', 'Rastacouere', 'RateOn', 'Ratman197', 'Rattlehead', 'Raugupatis', 'Rauknar', 'RaulMatisse', 'Raven051', 'Raven3464', 'Ray', 'RayDeMundo', 'RayMcCusker', 'Rayek', 'RayenK', 'RaysJazz', 'RayzorRay', 'Rayzorspur', 'Razor', 'Rbald42', 'Rbehrens', 'RblWthACoz', 'Rchap1', 'Rciwws', 'Rddymk', 'ReDNeCk98', 'ReDave', 'ReFill31', 'ReadChesterton', 'ReadyFireAim', 'Reagan1984', 'Realale', 'RealityDeviant', 'RealityGrill', 'ReallyBadReverb', 'Reanimator', 'Reaper16', 'ReaquiredHabit', 'Reason2B', 'Reaviate', 'RebelJunior', 'Recordgrooves', 'RedBaron', 'RedBeerHead', 'RedBeerchetta', 'RedBiddy', 'RedBrewer83', 'RedChrome', 'RedDiamond', 'RedHaze', 'RedHunter', 'RedLetterDay', 'RedLion', 'RedPorter', 'RedRocker5152', 'RedShoeBeerBabe', 'RedSoxFan1983', 'RedSpecial1', 'RedTrooper', 'RedWhiteArcher', 'RedWingsRool', 'Redbear', 'Redfoot19', 'Redhawk2feathers', 'RedneckBeerz', 'RedneckChemist', 'Redrover', 'Redsox09', 'Redteketed', 'Redweasel', 'Redwood21', 'RedwoodGeorge', 'ReebShorts', 'Reed415', 'ReelBigwigFish', 'Regenpak', 'ReggieC', 'Reidrover', 'Reiksguard', 'Reils', 'Reimtime', 'ReindeerFlotilla', 'Reinheitsgebot71', 'Reino', 'Rekrule', 'ReluctantScooper', 'Remedynj', 'RemittanceMan', 'RemyLeBeau', 'Renberg', 'Reneejane', 'RennoVattio', 'Rennpferd', 'RenoZymurgist', 'RepMichigan', 'ResearchTeam', 'ReservaPrivada', 'Reswald', 'Retail1LO', 'Retsinis', 'Reux', 'RevBiz', 'RevChico', 'RevDrDark', 'RevDru', 'Reveille1984', 'Reverand', 'RevereBeer', 'Revolver', 'Revvy', 'RexPaladin', 'RexlySnipes', 'ReynardenBrew', 'Reznick', 'Rezzin', 'Rguardian989', 'Rhadryn', 'Rhett', 'Rhettbuck', 'Rhettroactive', 'Rhode17', 'RhodyBrewzah', 'Rhynes2', 'RicardoPino', 'Riccymon', 'Ricelikesbeer', 'RichBenn', 'RichLightweight', 'RichRobb27', 'RichScherle', 'RichT73', 'RichVetter', 'RichardWalter', 'Richardberg', 'RichieS2', 'RichmondBeerGuy', 'Richter35', 'Ricjaywhit', 'Rick187', 'RickDPgh', 'RickJP', 'RickKrumenacker', 'RickRicardo', 'RickS95', 'RickSawyer', 'Rickery', 'Ricklinator', 'Ricky1964', 'Rickythejeweler', 'RicoBrew', 'Ricochet', 'RidiculedDisplay', 'RidleyBrewery', 'RiekerStarBrew', 'RievyRW', 'Rifrafboy', 'Rifugium', 'Riggo', 'Riggsy', 'Rijtjeshuis', 'RileyRowan', 'Ringo9er', 'Ringwoodbrewer', 'Rio', 'Rippeddisc', 'Riptides', 'Risser09', 'Riv3r', 'RiverCityBrews', 'RiverDog', 'RiverheadBev', 'Riverwarrior', 'RixBeer', 'Rizalini', 'Rizow', 'Rjhami', 'Rmac111', 'Rmason104', 'Rmassimiano', 'RnRCircus', 'RnRManifesto', 'RoBotGod', 'RoRoMKW', 'RoadLizard', 'RoadPhish', 'RoamingGnome', 'Rob315', 'Rob6852', 'RobAlsbury1', 'RobH', 'RobJTejas', 'RobbieB5555', 'RobertColianni', 'RobertDwight', 'RobertFL', 'RobertMichael', 'RobertTaylor', 'RobertTh3Texian', 'Robertgc', 'RobeyStreet', 'RobinLawrence123', 'Robje', 'Robtobfest', 'RocPorterFanatic', 'Rochefort10nh', 'RockandRoll', 'RockerD', 'RocketFrog', 'RocketWidget', 'Rocketman8911', 'Rocklandbagpiper', 'Rocko', 'RockyTopHeel', 'RodBurg', 'Rodan', 'Rodekill', 'Roderick', 'RodneyFarva', 'RodneyX', 'Rodrickor', 'RodyRod', 'Roeters', 'RogGobshire', 'RogueTzarok', 'Roguejaguar', 'Roguester', 'Rojopunk', 'Roke87', 'RollTide05', 'RollingRock', 'RollingRocker', 'Rollzroyce21', 'RomanW70', 'RomaniIteDomum', 'Rommel', 'RomulanAle', 'Romulus141', 'Romulux', 'Ron860', 'RonBeerBox', 'RonaldTheriot', 'RonfromJersey', 'RonnieBear', 'RonofPA', 'Roofieweizen', 'Rooney107', 'Rootdog316', 'RootedFool', 'Rors', 'RoryDoherty', 'RoryGilmore', 'RossCain', 'RossPeterson', 'Rossi', 'RoterTeufel', 'RothBrews', 'RothenbergXXX', 'Roughstock', 'RoundelMike', 'Roy3268', 'RoyalT', 'Royalenfield1990', 'RppIII', 'Rsobotka', 'Ruaidhri', 'RuckusDu', 'RudeNorthernBoy', 'Rudgers73', 'Ruds', 'RudyDawg', 'Ruffio', 'RugbyBeerRepeat', 'RugbyGreg', 'Ruination2007', 'RuinationMan', 'RuinationPress', 'Rukasu', 'RumRiverWorthog', 'RumRunners', 'Rumblebelly', 'Rumplemintz', 'Rumpole', 'Rumrunner', 'RunDWP', 'RunForYourBeer', 'RunawayJim', 'Running4beer', 'RuntoBarleywine', 'Rupertlikesbeer', 'RushLimbmalt', 'Ruslanchik', 'RussK', 'Russellmania', 'RussianImperial', 'RussianRiverFan', 'Rustoleum', 'RustyDiamond', 'RustyShackleford', 'RustythePelican', 'Rutager', 'RutgersBeerGuy', 'RuudJH', 'RyToy', 'RyWill', 'Ryaka', 'Ryan011235', 'Ryan4', 'Ryan805Beer', 'RyanBelle', 'RyanC', 'RyanC3958', 'RyanC84', 'RyanF82', 'RyanH', 'RyanLigeia', 'RyanOkonski', 'RyanPB', 'RyanPS', 'RyanS107', 'RyanWo', 'Ryanbob', 'Ryanm1', 'RyeIPA', 'Ryggwelted', 'Rymar9', 'Rynoman', 'Ryphraph', 'Rzzzzz', 'S7R4nG3', 'SAABtech', 'SABERG', 'SACraig', 'SAMUEL999', 'SAS', 'SASN', 'SAmori', 'SAtaMi', 'SAxDRC5', 'SBALDWIN', 'SBPCGuru', 'SBXLII', 'SCastardi', 'SDDanC', 'SDHoffers', 'SDbeerguy', 'SDtastentune', 'SEOhioSipper', 'SERENGETI', 'SFBeerGuy', 'SFC21', 'SFGuy187', 'SFLpunk', 'SFRider', 'SFrankBrew', 'SHO', 'SHODriver', 'SIRIUS1', 'SIRIUS2', 'SJI', 'SKMO', 'SLOBGOBLIN', 'SLObeer', 'SLOcooker', 'SLeffler27', 'SLubben', 'SMADMS', 'SMF', 'SMILLIE', 'SMark', 'SMcGuire33', 'SMortiL987', 'SPLITGRIN', 'SPRichard', 'SPThirtyThree', 'SQNfan', 'SQUIDPORT', 'SRFeldman79', 'SRJohnson', 'SRossman', 'SSBrennan', 'SSGPat', 'SSJPhatMatt', 'SShelly', 'SSstout', 'ST2', 'STEELERJIMMY34', 'STEG', 'STKPICR0720', 'STLStoutAddict', 'STLbeerwriter', 'STLbrewman1', 'STRONGALE', 'SUjunkie', 'SV650TN', 'SWMeyer4141', 'SaCkErZ9', 'Sabby2000', 'Saccian', 'Sachsenfreude', 'SacoDeToro', 'SacredBeverage', 'Saeyddthe', 'SafariJoe420', 'SafeAtFirst', 'Sage', 'SageO', 'Saint', 'SaintArnold', 'SaintJonah', 'SaintNathaniel', 'SaintPeter', 'SaintsFan', 'SaisonInTheAbyss', 'SakisRakis', 'Sallerj', 'Salo', 'Salpta', 'SaltyLime', 'SalukiAlum', 'Sam21', 'SamAdams', 'SamMiller0', 'SamN', 'Samadamsfan2', 'Samalamahamdam', 'Samashley', 'Samdaddy', 'Samichlaus', 'Samichlaus85', 'SammiJo', 'Samminator', 'SammyB', 'SammyDavisJrJrJr', 'Samoht126', 'Samp01', 'SamsonAKAK', 'SamuelJackson45', 'SamuraiJack', 'SanAnMan', 'SanDiegoBeerLove', 'SanDog', 'SanantoneRob', 'SanderR', 'SandieBeaches', 'Sandstone', 'SandstormPaul', 'Sanford', 'SarahRenee', 'SargeC', 'Sasha130', 'Sassafrassa', 'SassyBootblack', 'Satchboogie', 'Saturday', 'SauceBoss', 'SaucyA', 'SaucyJack', 'SaunaKing', 'Saunapoika', 'Sauron2012', 'SausageTurkish', 'Sav623', 'Savagelibations', 'Savnok', 'SawDog505', 'SayYaToDaUP', 'Sayson', 'Sbkrogers', 'Scantron', 'ScarletFire', 'ScarletLady', 'Scelestus', 'ScenicWoozy', 'SchaefMan', 'Schagc01', 'SchavenBawls', 'Scheity', 'Scherring', 'Schitzengiggle', 'SchlaflyFan', 'SchlatherHouse5', 'Schlete', 'Schlitzcooler', 'Schmack', 'Schmaltzy', 'SchmichaelJ', 'Schmidts', 'Schmidty', 'Schmit', 'SchmittyRexus', 'Schmittymack', 'SchmoTerp', 'Schneic8', 'Schnitzel', 'Schnitzengiggles', 'Schoney62', 'Schooly', 'Schracky', 'Schreibeers', 'Schwab', 'Schwarz', 'Schwarz04', 'Schwarzbart', 'Schwarzenegger', 'Schwarzwald', 'Schwer', 'Schwoopty', 'SciFiHorrorShow', 'Scoats', 'Scojo2usa', 'Sconnie', 'Scoobydank', 'Scooter70', 'Scooter77', 'ScooterMcJ13', 'Scootser', 'Scoott', 'Scoppa', 'Scorpious', 'ScorpyX', 'Scotchboy', 'Scott29', 'Scott414', 'ScottAW', 'ScottCameron', 'ScottCoffee', 'ScottF2345', 'ScottS', 'ScottUCF84', 'Scottasaurus', 'ScottishBrew83', 'Scottiv', 'Scottsan', 'ScottyC', 'Scottyboy', 'Scourge07', 'ScoutOutStout', 'Scrancy', 'Scrapss', 'ScreamForMe', 'Scriba', 'Scribbles', 'Scrumtralecent', 'Scrylol', 'ScubaStevebcd', 'Scubatim', 'Sdesenberg', 'SeaBiscuiT', 'SeaBrew40', 'SeaOfShells', 'SeaUrchin', 'Seahawk480', 'Seahorse', 'Seakyden', 'Sean9689', 'SeanChouffe', 'SeanColl84', 'SeanFlanagan', 'SeanLassiter', 'SeanMacGC', 'SeanRCole', 'SeanRedd', 'SeanRossy', 'Seanbear13', 'Seanibus', 'Seanish', 'Seanizzle', 'Seanont', 'Seanstoppable', 'Seanv', 'SeasonalBrew', 'SeattleAdam', 'SeattleBeerBlog', 'SebD', 'SebastianBock', 'Sebletitje', 'Secsip', 'Seebs847', 'Seeker41184', 'Sekkes', 'Selenolycus', 'Sendji', 'SenkoSnack808', 'SenorBeaver', 'SenorHops', 'Sensaray', 'Sensibud2488', 'Sephiroth', 'SepticDeath', 'Sergey', 'SerieDNo3', 'Seru1', 'Sesmu', 'SetarconeX', 'SethB2', 'Setix', 'Seumas', 'SeussMD', 'SeveOllllO', 'Severum27', 'Sevoking', 'Seyhan', 'Sgolenbo', 'Sgorzynski', 'SgtStout', 'Shades', 'ShadesOfGray', 'Shadman', 'Shadow1100', 'ShadowRunner', 'Shadowzz4', 'Shadteks', 'ShadyD', 'Shaggy9356', 'Shagtastic', 'Shakenbarley', 'Shakesbeere', 'Shakujin', 'Shalabi', 'ShamasUVA', 'Shamgar', 'Shandias', 'Shane94941', 'ShaneBertou', 'ShanePB', 'ShaneStump', 'Shaner', 'Shango42', 'Shango4232', 'Shannon', 'ShannonHoon', 'Shaon94', 'ShareANevada', 'Sharkophile', 'Sharma', 'ShavedWookie', 'Shaw', 'Shawn1974', 'ShawnKemp', 'ShawnRock', 'Shearwater', 'Shearwater912', 'Shecky', 'SheepNutz', 'Shefus', 'Sheldon', 'ShemRahBoo', 'Shepman', 'ShermanHelms', 'Sheva', 'Shibbykaiyai', 'Shibs', 'ShiftyCapone', 'Shikitohno', 'Shiloh', 'ShinerStArnoldTX', 'ShiningWater', 'Shinreineko', 'Shinypoptart', 'ShireExfiguniter', 'ShireReeve', 'Shiredave', 'Shmeal', 'Shmohel', 'Shmota', 'ShockDiesel', 'ShoeLaw', 'Shoegaze99', 'Shoehornhands', 'ShogoKawada', 'Shonkers', 'Shooter1960', 'Shovelbum', 'ShowMeYourHops', 'ShrLSU', 'ShredVicious', 'Shredz', 'Shrews629', 'ShrinerMcBitey', 'Shrun', 'Shuffledaddy', 'Shultzerdugen', 'Shumania', 'Shumista', 'Shuppiluliumas', 'ShwarzAl3r', 'SiB57', 'SickBrew', 'SickGnar', 'SickNukes', 'SickPythons', 'Sicknot', 'SidVicious619', 'Sidabeef7', 'SideOrder', 'SideShowBob3', 'Sidebordz', 'Sidedrummer', 'Sideswipe', 'SidewinderX', 'Siegmund', 'SiepJones', 'SierraGS', 'SierraNev4Life', 'SigEp', 'Siggy125', 'SiggyFay', 'SigmaSocko', 'Sigmund', 'Signal61', 'Sigurd', 'SilentBob2u2', 'SilentBrew', 'SilentSabre', 'Silentmalaise', 'Silenus', 'Silenus89', 'SillyCheez', 'SilverFoxxy', 'SilverJew', 'Simkin1', 'SimmoGee', 'Simmy7000', 'SimpleBeerLover', 'SimpleM', 'SimplySinister', 'SindriMar', 'SingleCell', 'SingleFin1969', 'Sipchue', 'SiphonKing', 'SippinOnSomeHops', 'Sippy', 'SirAndyR', 'SirBenton', 'SirBurpsalot', 'SirChugsAlot', 'SirDrinxAlot', 'SirEO', 'SirEgbert', 'SirGreensworth', 'SirLexington', 'SirLicksalot', 'SirRuss', 'SirSaranac', 'SirSketch', 'SirSmokeALot', 'SirTheory', 'SirVeza420', 'SirWalkAbout', 'Sirbaron', 'SiriusAth', 'SiriusBock', 'Siriusfisherman', 'Sirwootalot', 'Sirzuke', 'SisuPride', 'Sixofsigmas', 'Sixpack595', 'Sixpoint', 'Sixtus6', 'Sixtyeight', 'Sjokvistarn', 'Sjvek', 'SkaRocker31', 'Skagbaron', 'Skanska', 'Skarod', 'Skarphedinn', 'Skeeter', 'Skeeter206', 'SkeeterHawk', 'Ski39Off', 'SkiBum22', 'Skidud313', 'Skidz', 'SkinneeNate', 'SkinnyElvis', 'SkipWeathers', 'Skitowneric', 'SkittleBrau82', 'SkitzIrish3', 'SkolVikings', 'Skolks', 'Skoodog', 'Skrudzas', 'SkullFission', 'SkunkMan', 'SkunkWorks', 'SkunkleDunkel', 'SkurvvyPirate', 'Sky2625', 'SkyBlueWaters', 'SkynetResistance', 'Slar211', 'Slasa', 'Slater042887', 'Slatetank', 'Slats', 'Sleepisforthewik', 'SleepyMonk', 'Sleestak', 'Slim', 'Slimfatty', 'SlinkyBluefoot', 'Slipperys', 'SloMoSlovak', 'Sloth', 'SlowCentury', 'SlowTwitch', 'SluggerOToole', 'SlyFox21', 'Slygato', 'Slyjoker87', 'Slynger', 'Sm00thHoperator', 'SmallestArt', 'Smalty', 'Smartestmonkey', 'SmartyPints', 'SmasNadroj', 'Smatty4483', 'Smeagol', 'Smile', 'SmilinMofo', 'Smithj86', 'Smithson49er', 'SmithwicksNut', 'Smittysguinness', 'Smixam', 'SmokeMonkey', 'Smokee', 'Smokehouse2012', 'SmokinSmyth', 'Smorgasbord', 'Smurf2055', 'Snaggy', 'Snamnoum', 'Snappo', 'Snazzinator7290', 'Sneekeren', 'Sneers', 'Sneevel', 'Snodog', 'Snorkapotamus', 'Snorlax', 'Snow81', 'SnowGoon99', 'SnowLovesIt', 'Snowman14', 'Snyder18', 'SoCalStout', 'SoCaliC8', 'Soaker', 'SoberCajun', 'SoberKid', 'Socalz', 'SoccerCoachSam', 'Socrates', 'SodoSyco', 'Soilworker', 'Solafide', 'Soldier000', 'Solidarity1', 'SolipsismalCat', 'Solomon420', 'SolomonGrundy', 'SolsticeDreamer', 'SomeLady', 'Someguy1989', 'Somrakj', 'Soneast', 'SonofScots', 'SoobyDoo', 'Soonami', 'SoonerNY', 'Soozy', 'Sorgasm', 'Sorrow', 'SortaAmbivalent', 'Sorvahr', 'Sosh', 'Souleman', 'SourBatchKid', 'SourHopHead', 'Source', 'Sourcorn', 'SouthAtholSuds', 'SouthFLBeerLover', 'SouthLoopSuds', 'SouthTexasAaron', 'Southernbrew', 'SovereignBCS', 'Soybomb', 'SpaceAce119', 'SpaceMadness', 'Spacegrass', 'Spadoof', 'Spankyman333', 'SparklePants', 'Spartan517', 'Spartan602', 'Spasmolytic', 'Spcoly', 'SpdKilz', 'SpeakFreely', 'Speakeasy01', 'SpecialCare', 'SpecialK088', 'SpecsBEERMAN', 'SpeedwayJim', 'SpencerDB', 'SpencerSauce', 'SpencerT', 'Sperzel', 'Sphere', 'Spica66', 'Spider889', 'Spiderhouse', 'Spidey13', 'Spiekerbox', 'Spikester', 'SpillyBeers', 'SpinachEater', 'Spineypanda', 'Spiri7', 'Splunny', 'Spock187', 'Sponan', 'Sporkus', 'Springdogg', 'Sprows', 'SpruceFish', 'Spump78', 'Squam256', 'Squaretooth', 'Squatchito', 'SqueeCantCook', 'Squelch', 'SquirrelBoy', 'Squizzo', 'Sreidy12', 'Srodri10', 'Srsly', 'StADrinker', 'StAlex', 'StAnthony', 'StBoisterous', 'StJamesGate', 'StLThrash', 'StMichael', 'StRocco', 'StaEva', 'Stacy53', 'StacyD', 'Stagi', 'StaleBeerFart', 'Stamp3r', 'StanW', 'Stanford', 'Stang895', 'Stanhagen', 'Stankonia', 'Star80', 'StarSAELS', 'Starchild', 'StargherKing', 'StarlightSeraph', 'Starpuppy', 'StarshipPoopers', 'Statman', 'StatutoryGrapes', 'Stavage', 'StaveHooks', 'Stavebomb', 'StayWhatYouAre2', 'StayWounded', 'Steaks', 'Steamhead', 'Steedee', 'SteelKettle', 'Steelcurtain', 'SteelerChris', 'SteelerNation', 'SteelersX', 'Steelman', 'SteepH2O', 'Steimes', 'StellaMan', 'Stengah', 'Stephen63', 'StephenNorman', 'StephenRich', 'Steppenwccr', 'Stereobeer', 'SterlingNass', 'Steve188821', 'SteveCram', 'SteveDavies', 'SteveGNC', 'SteveGus', 'SteveLyman', 'SteveMcKinney', 'SteveO1231', 'SteveO80', 'SteveP', 'SteveP763', 'SteveS1', 'SteveToronto', 'StevenBilodeau', 'StevenGu3', 'Stevenab', 'Steventos', 'SteveoNY', 'StevieCasino', 'StevieW', 'Stew1284', 'Stew41', 'Sticket', 'Stigs', 'Stimack', 'Stingray5', 'StinkBall', 'StinkyD', 'Stinkypuss', 'StlHopHead77', 'Stocean1', 'Stockfan42', 'StoneBrewFanatic', 'StoneDisciple', 'StoneTSR', 'Stonebreaker', 'StonedRugger', 'StonedTrippin', 'Stoneman78', 'Stonepot', 'StonesPublic', 'Stoney123', 'StoneyDoc', 'Stoneyrok', 'StonyB', 'Stopper', 'StormKing47', 'StoryOfTheGhost', 'Stosh', 'StoutBulldog', 'StoutCream', 'StoutFan', 'StoutGoddess', 'StoutHearted', 'StoutHouse', 'StoutHunter', 'StoutKing0104', 'StoutLoverJon', 'StoutMaster77', 'StoutPiper', 'StoutRugger', 'StoutScout', 'StoutSlayer', 'StoutToGetYa', 'StoutandBitter', 'Stoutdude', 'Stoutfan23DJ', 'Stoutfield', 'StoutishDan', 'Stoutman88', 'StoutmanMiller', 'StoutofHeart', 'StoutsMcgee', 'StoutsnIPAs', 'StoutyMcHaggis', 'StoutyMcStouters', 'Strages', 'Strand', 'StrangeBrew1', 'StrangeBrewer76', 'Stranger5582', 'StrangerBrew', 'Strategery', 'Strawbs', 'Stretch270', 'StrictlyStout', 'Strider119', 'StringSmoke', 'Stringth', 'Strix', 'Stro23m', 'Strom1', 'StrongandSmooth', 'StuFox', 'StuartCarter', 'Stubbie1', 'Stumpenstein', 'Stunner97', 'SturgeonHead', 'SturmWolf', 'StyAndOrDem', 'Stygr', 'SubPop77', 'SubpoenaDeuces', 'SubtleHammer', 'SudNut', 'SudburyWineBeer', 'Sudmissle', 'Suds', 'Sudsdog', 'Sudsy89', 'SugarBunny', 'SugarMagnolia13', 'Suick', 'SummitVA', 'SunDevilBeer', 'SuncrestBeerMen', 'SundaySour', 'Sunnanek', 'Suomi411', 'SupaCelt', 'SuperBreeze', 'SuperBrian', 'SuperNova777', 'SuperSpy', 'SuperStory', 'SuperWale', 'SuperWhite92', 'Superbeerguy', 'Superdaunte', 'Superfreak', 'SupernovaReborn', 'Supersweetshirts', 'Supertyfon', 'Supes', 'Suprasman01', 'Surefire', 'Surfbeverage', 'SurferJ', 'Surfinsoljah', 'SurgeonGeneral', 'Surlington', 'Surly87', 'SurlyDuff', 'SurlyMe', 'SurlyZach', 'Sushi', 'SushiSquid', 'SusurusIgnoramus', 'Sutardja', 'Suzilla', 'Sveiks', 'Svejk', 'Swalden28', 'Swann', 'Swarp', 'Sweasty', 'Swedes21', 'SwiftyMcBeer', 'Swill5786', 'SwillBilly', 'SwillinBrew', 'Swilllover', 'Swim424', 'Swimsum', 'SwordandSorcery', 'Sycodrummer', 'SykDoc', 'SylviaFaye', 'Symphonic', 'Symposium', 'Symptomu', 'Systembolaget', 'Szinker', 'TAMU99', 'TANSTAAFB', 'TAPJMartin', 'TAREUA', 'TATTORSO', 'TB2', 'TBKeys', 'TBeer07', 'TBoner', 'TCFA1', 'TCHopCraver', 'TCMike', 'TCadillac', 'TCgoalie', 'TCog', 'TDisbennett', 'TEUFELHuNDEN420', 'TEXTONE', 'TFoxD', 'TFrankMac2140', 'TGCleric', 'TGFB', 'TGINaturday', 'TGates13', 'THEBEERBAR0N', 'THECPJ', 'THEMGG', 'THEOPTIMATOR88', 'THERoss', 'THESTORMKING', 'THETRONSPECIAL', 'THORN', 'TIAAN', 'TIMMYJ21', 'TIP', 'TJBAIHWL', 'TJBurgess', 'TJOhara', 'TJP52', 'TJustice', 'TK5150', 'TK905', 'TKCastle', 'TKEAnimal', 'TKEbeerman', 'TKempe', 'TLITD', 'TLJ', 'TLove', 'TMB0424', 'TMinton22', 'TMoney2591', 'TNKEMIST', 'TOMHONE', 'TOOSE', 'TPINC3', 'TPSReports', 'TPatuto', 'TPoling', 'TRAICH', 'TRICKYD1CK', 'TRIFECTA', 'TSOFan0000', 'TSOFan88', 'TStandley13', 'TStron', 'TTAmod', 'TVScientist', 'TVolt1', 'TWhjite', 'TXAggie', 'TXHops', 'TXTider', 'TYE', 'TYVP', 'Tabitha', 'TableTopJoe', 'Tabni', 'TackleDummy', 'Tackledorange', 'TacoSaladin', 'TacoShark', 'Tadbubbs', 'TaddyPorter', 'TaekwonDylan', 'Taelec', 'Taera', 'Taffle', 'TagOnlyForNow', 'TagoMago', 'Tahoeman1971', 'Taibiz', 'Taipans', 'Tajmoben', 'Takahiro', 'TakeTheMonyNrun', 'Talisker', 'TallDrinkOfLager', 'TallPaul07', 'Tallboy', 'TamTamIam', 'Tamarack22', 'Tang07', 'TangTKE402', 'Tani357', 'Tanuja', 'TapTitan', 'TapeDeck', 'TapleyBrewery', 'TappaKeggaBrew', 'Tarmac', 'Tarps68', 'Tartarus', 'TasteTester', 'TastyTaste', 'Tates', 'TattoedSailor', 'Taverner420', 'Tawnos', 'Taylor88', 'Taze', 'Tballz420', 'Tbn2', 'Tbone', 'Tdizzle', 'TeamSeabass', 'TeamSeinfeld', 'Tearik', 'TechMyst', 'TechTriumph', 'Technik', 'TedKaczynski34', 'TeddyBG', 'TeddyBrew', 'Tee76', 'TeeCee', 'Teeter', 'TehAnkh', 'TehJon', 'Teke0611', 'Teleweizen2', 'Telix', 'TempeBeerMan', 'TempestJones', 'TenEighty', 'TenHi', 'TenHornsProud', 'TenSpoons', 'TenaciosE', 'Tenchi221', 'Tenderstone', 'TenmaNeko', 'TequilaSauer', 'TerenceMc', 'TerenceNyc', 'Terics', 'TerjUGA', 'Terp96', 'TerpInHotLanta', 'Terrasco', 'TerrenceOBrien', 'TerryW', 'Tesno', 'Tetano', 'TeutonicKnight', 'TexIndy', 'Texan29', 'TexasBrewSlinger', 'TexasPensFan', 'TexasTowHead', 'Texasbeerman08', 'Texasville', 'Textures', 'Tford', 'ThEbEErKiNg', 'ThaBobfather', 'ThaCreep', 'ThaSmokinGun', 'Thaddeaus', 'Thads324', 'Thanby', 'ThatWineGuy', 'The1WineGuy', 'The3rdbeer', 'TheAcacian', 'TheAdventurella', 'TheAlamoWrocker', 'TheArse', 'TheBCrew', 'TheBear11D', 'TheBearWakes', 'TheBeerAlmanac', 'TheBeerAuthority', 'TheBeerBaron14', 'TheBeerCarl', 'TheBeerDetective', 'TheBeerLovesYou', 'TheBeerWarden', 'TheBeerWatcher', 'TheBeerWolf', 'TheBeermaster', 'TheBeerologist', 'TheBierBand', 'TheBigBoy', 'TheBigE5', 'TheBishop', 'TheBlackMallard', 'TheBoog013', 'TheBrewViking', 'TheBrewo', 'TheBrother', 'TheBungyo', 'TheCarboyKid', 'TheCervezaChica', 'TheChauffeur1', 'TheClampdown', 'TheClassical', 'TheCommonwealth', 'TheCondor', 'TheCorkStopsHere', 'TheCrane', 'TheCrowsNest', 'TheCyturn', 'TheDM', 'TheDTrain', 'TheDane19', 'TheDantMan', 'TheDayIsMine', 'TheDean82', 'TheDeuce', 'TheDinger', 'TheDodge', 'TheDole', 'TheDoorman', 'TheDragonTony', 'TheDreadnought', 'TheDrunkMonk', 'TheDudeBeers', 'TheDudeRules', 'TheEclecticGent', 'TheEdge', 'TheElusiveAlexT', 'TheEmperor', 'TheEnd0fSilence', 'TheEpeeist', 'TheEremite', 'TheFallenOne', 'TheFeintingGoat', 'TheFightfan1', 'TheFiremanNJ', 'TheFirstKnight', 'TheFlern', 'TheGAC', 'TheGarvenator', 'TheGipper', 'TheGoon', 'TheGordianKnot', 'TheGov', 'TheGreatReverend', 'TheGrunt', 'TheHammer', 'TheHopCharacter', 'TheHopMonster', 'TheHopfather', 'TheHoppiest', 'TheHopster', 'TheHungryHiker', 'TheIronHammer', 'TheJackel', 'TheJoj', 'TheJollyHop', 'TheJones', 'TheJudge', 'TheKahuna', 'TheKegerator', 'TheKelsey', 'TheKingofBeers', 'TheKingofWichita', 'TheKingsOfHop', 'TheKtulu7', 'TheLVBeerGuy', 'TheLastEngineer', 'TheLastSediment', 'TheLegendaryGary', 'TheLightweight', 'TheLiterati', 'TheLocust830', 'TheLongBeachBum', 'TheMUBM', 'TheMadChef10', 'TheMadJack', 'TheManiacalOne', 'TheMattJones88', 'TheMetalBrew', 'TheMightyGUEST', 'TheMightyGwin', 'TheMiser', 'TheMistler', 'TheMultiYeast', 'TheMurse', 'TheName', 'TheNapkin', 'TheNewBrew88', 'TheNightbird', 'TheNightwatchman', 'TheObsession', 'TheOtherBob', 'TheOtherMike', 'TheParchedOne', 'ThePeskyDingo', 'ThePorterSorter', 'ThePortlander', 'ThePudgeman', 'TheQuietMan22', 'TheRealBigC', 'TheRealDBCooper', 'TheRealEss', 'TheRedScare27', 'TheRexter', 'TheRowan', 'TheSSG', 'TheSaboteur', 'TheSandman', 'TheSarge', 'TheSchnork', 'TheSeeker61', 'TheSevenDuffs', 'TheSicilian33', 'TheSignPost', 'TheSinfonian', 'TheSixthRing', 'TheSkollsBeer', 'TheSkunk', 'TheSnakeFish', 'TheSpeakeasy', 'TheSquirrel801', 'TheStBernard', 'TheSteiny', 'TheStig', 'TheStoutAholic', 'TheStove', 'TheSupremeAJ', 'TheSushiBoy', 'TheTallOne', 'TheThirdFloyd', 'TheTippler', 'TheTot', 'TheTrevor', 'TheTromboner', 'TheViceBlog', 'TheViolator666', 'TheVrolok', 'TheWargraveArms', 'TheWhaleShark', 'TheWhiskerReview', 'TheYeagermeister', 'TheZakOne', 'Theabyss', 'Thedaver4220', 'Thefinerthings', 'Thehuntmaster', 'Thehurt01', 'Theitos', 'TheodorHerzl', 'Theredtroweller', 'TheseusT', 'Thesis', 'Thevenin', 'TheycallmeTim', 'Thezapper', 'Thia417', 'ThickNStout', 'ThickestHead', 'Thickfreakness', 'Thiestru', 'Thingus', 'ThirdCoast', 'ThirdGen', 'ThirdLap', 'ThirstyBird', 'ThirstyBoy', 'ThirstyClyde', 'ThirstyFellow', 'ThirstyHerf', 'ThirstyHobbit', 'ThirstyHopHead', 'ThisWangsChung', 'ThistleKing', 'ThomHolland', 'Thomajt', 'ThomasFeeney1', 'ThomasMetal75', 'ThoreauLikeAGirl', 'Thorpe429', 'Thorrgrimr', 'ThorsHammer', 'ThoughtPolice', 'Thrash', 'Thrasher', 'ThreeDimesDown', 'ThreeDollarDewey', 'ThreeGorchMan', 'ThreePistols', 'ThreeWiseMen', 'Threelittlefish', 'Thrill62', 'ThrillerBee', 'Throckmorton', 'Throwrug', 'Throy67', 'Thrymfal', 'Thunderball', 'Thur123', 'Thurston03', 'TiMX', 'Tianjoja', 'Tick', 'TicklishSubject', 'TicksAndLeeches', 'Tiderion', 'Tifore', 'TigerFriend', 'TikkiGodxxx', 'Tiklmelmo', 'Tilley4', 'Tim', 'Tim2000', 'Tim460', 'TimC', 'TimDudley', 'TimHoss', 'TimInPA', 'TimP2115', 'TimPowell', 'TimTheGoodman', 'TimWeizen1', 'Timba', 'Timdean1964', 'Timmace', 'Timmah11', 'Timmush', 'TimmyNolan', 'Timtac', 'TinPigeon', 'Tinfoilrcr', 'TinusTime', 'Tinybaum', 'TippySelenoid', 'TitanTake', 'Tizzod', 'Tlomp11', 'Tmappin', 'Tncapehart', 'ToAzwethinkweizm', 'ToThePain', 'ToadManA1A37651', 'Toaster565', 'ToasterChef', 'TobiasGoth', 'TobyRocksSoHard', 'Todd', 'ToddT', 'Toddv29424', 'Todler', 'ToeNee11', 'Toggle', 'ToggleEyes', 'Tolann', 'Tolnik', 'Tom8Analise', 'TomBier', 'TomBottos', 'TomGavin', 'TomStew', 'Tomas77', 'Tomblerone', 'Tombomb', 'Tomdee74', 'TommyBuckeye', 'TommySudz', 'TommyW', 'Tone', 'ToneControl', 'Tonesy', 'TongoRad', 'Tonka74', 'TonyBaloney', 'TonyBrew', 'TonyC', 'TonyHoprano', 'TonyReaves', 'TonySoprano', 'TonyT', 'TonyVic', 'ToolHead', 'TooleBurger', 'Toowombaus', 'Topher78', 'TopherRI', 'Torch', 'Torchiest', 'TorpedoIPA', 'Torps', 'TotallyHoppy', 'TotallyHosed', 'TownDunkel', 'Trajega', 'Transatlantic', 'TrapFan11', 'Trapiste389', 'Trappissed', 'TrappistFan', 'TrappistJohnMD', 'Trappistfan1', 'Trappster', 'Traquairlover', 'TravelingBeerMug', 'Travix1516', 'Travlr', 'TrebleStauter', 'Treborofmoria', 'Tree', 'Tree43088', 'TreeTopFlyer', 'Treebs', 'Trenton', 'Trentonator', 'Trevor33', 'Trevor7', 'TrevorGW', 'Treyliff', 'TriGuy20', 'TrickFinlay2', 'TrickKnee', 'Trigcove', 'Trilogy31', 'TrinkGermanBier', 'TripT', 'TripelBelly', 'TripelDouble', 'TripelJ', 'TripelMajor', 'TripleTap', 'Triples', 'Tripphop', 'TrippnFiasco', 'Trizzle', 'Troegman', 'TrojanBrewer', 'TrojanMan', 'Tromba', 'Tron67', 'Tropicalslip', 'TroughLolly', 'TrouserSneeze', 'Troy518', 'TroyS', 'Troyone', 'TrubSlinger', 'TrueRates', 'Trueant1', 'Truh', 'Trystero', 'Tschnab', 'Tsmalley', 'TtheGrey', 'Ttoille', 'TubaManJack', 'Tubesox', 'TuckerCarlson', 'Tuckstar', 'Tucquan', 'Tucson25', 'TucsonPIRAAT', 'TucsonTom', 'Tudval', 'Tuey13', 'TuffLuff', 'TulipSnifter', 'Tulkas', 'Tumpster', 'Tunafever73', 'Tundruth', 'TupakSade', 'Tupperwolf', 'Turbansurfer', 'Turbohio', 'TurdFurgison', 'Turnerp561', 'Turrry', 'TurtleCove', 'TwelveOunces', 'Twerknasty', 'Twerp28', 'TwinButte', 'TwinSox33', 'TwistedDigit', 'TwistedRaisin', 'Twitch', 'Twitchsey', 'TwoHeartedMale', 'TwoPack', 'Twombly', 'Ty1erC', 'TyBogey', 'TyDaws', 'Tybarnett', 'Tyler', 'Tyler08', 'TylerAddisonJ13', 'TylerBGoode', 'TylerJones62', 'TylerLutz', 'TypeSJess', 'TyrainDreams', 'Tyrawlings', 'U2FAN', 'U4ic', 'UA8', 'UBERBOCK', 'UCLABrewN84', 'UDbeernut', 'UFGUY2122', 'UGADawgGuy', 'UHRHAN', 'UHRedCat', 'UKBeerman', 'UMNbeerhunter', 'UPbeergirl', 'UPtheHAMMERS', 'USAF', 'USCTrojanBrian', 'USNMark', 'USSDOLPHINSailor', 'USSRNUKE9', 'UTCengOwl', 'UTee28', 'UWDAWG90', 'UWagner', 'UberHopped', 'UberWasser', 'Uberbastard', 'UconnHusky', 'Ueberales', 'UglyBaby', 'Uhlikm', 'UintaBrooklyn', 'UkiPiper', 'UltimateDisc29', 'UltraZelda64', 'Umbra', 'Ummagum', 'UnDeadly', 'UncleAddie', 'UncleAl', 'UncleBubba', 'UncleDads', 'UncleEd', 'UncleFlip', 'UncleFrank', 'UncleHammy', 'UncleJimbo', 'UncleRicoII', 'UncleanBastard', 'UndeniableMalt', 'UnderPressure', 'Ungertaker', 'Ungespundet', 'Unhopped', 'UniBottler', 'Unibroue84', 'UnionMade', 'UnknownKoger', 'UnskinnyHop', 'Unsuited', 'UnsungBeero', 'UpNorthLager', 'UpToMeBeer', 'UpdateSet', 'Upgrayedd', 'UplandFan', 'Urbancaver', 'Urthiln', 'VHL', 'VICVALLIN', 'VIEILLE', 'VMWhelan', 'VPSax', 'VTBobcat', 'VTCRAFTROCKS', 'VTCRAFTSALESREP', 'VTaler', 'VTbeerbroad', 'VWBuggirl', 'VaRam', 'VaTechHopHead', 'Vahur', 'Vaison', 'Valarauko', 'Valevapor', 'Validus', 'Valmor88', 'VanHopper69', 'Vancer', 'Vancoubeer', 'Vandilioff', 'Vanlingleipa', 'Vansmack', 'Varkias41', 'Vashtar', 'VaterRoss', 'Vaylaus', 'Vdubb86', 'Vec2267', 'Veedubb22', 'Veejer', 'Veggies', 'Veillantif', 'VelvetJones', 'VelvetMonkey', 'Vendetta', 'Vengeance526', 'VerbingNouns', 'Verecund', 'Verticalgambit', 'Viajero', 'Vibbly', 'VicDip', 'VicSlick', 'VicVonFoam', 'Viciousknishs', 'VictorEHuskie', 'VictorZaidi', 'Vidav', 'Vierenner', 'VietPong', 'Viggo', 'VikeMan', 'Viking', 'Viking1985', 'VikingBeer', 'Villa', 'Vilmer', 'VincentVanGogh', 'Vincenzo839', 'Vineyard', 'Vineyardselite', 'VinnieVanGogh', 'Vinny150', 'Vinny71', 'Vinodiuz', 'Vinyeard', 'VinylHanger', 'Vipsanius', 'VirginiaSpirit', 'VirtualAsylum', 'VitBAficionado', 'VitaEBella87', 'Vito', 'VivaHops13', 'ViveLaChouffe', 'Vixie', 'Vman', 'Vmaster', 'VncentLIFE', 'VoiceOfTheSoul', 'VolcomBrewer', 'VonBoozenberg', 'VonSteinhoist', 'Vonerichs', 'VoodooBrew', 'Voonder', 'Voss', 'VtBeerRun', 'VtBrew', 'Vvall', 'Vylo', 'W11B2349', 'WAN2RIDE', 'WAP', 'WBCFM', 'WCBCFrank', 'WDorning', 'WEBBEER', 'WEISSASS', 'WFU03', 'WHOLEBEER', 'WHROO', 'WHYB', 'WIBeer', 'WIBeerGuy', 'WJDobbs321', 'WJVII', 'WMBierguy', 'WMEugene', 'WOLFGANG', 'WORT', 'WOTO97', 'WPRebelFan', 'WPhilabrew', 'WRXedUSA', 'WSB', 'WSPWeasel', 'WTBash', 'WTexas', 'WVRadar', 'WVbeergeek', 'WWWade', 'WYVYRN527', 'WaXHeLL', 'Wackyfoot', 'Wadsey', 'WaffleSauce', 'Wafflstat', 'WakeandBake', 'Walken', 'Walker8810', 'WalkingStickMan', 'Wallstreet', 'WallyBoag', 'WalrusJockey', 'Walsar', 'WaltTrombone', 'WalterSobchak', 'WalterWalter', 'Wamba', 'Wamesit', 'Wamphyri', 'WanderingFool', 'Wanderlust89', 'WankelEngine', 'Wantbeer', 'WarsteinerIceman', 'WasTrinkenSie', 'Wasatch', 'Washburne', 'Wasteofpaint911', 'WastingFreetime', 'WatchMeJumpstart', 'WatouKentucky', 'Watti', 'Wattsox', 'WaveRebel51', 'Waveform', 'WayneRooneyFan', 'WboweIII', 'Wd2048', 'WeR138', 'Weasel', 'Webbalicious', 'Webby64', 'WeeObese', 'Weebay', 'WeedKing4', 'WeezyBoPeep', 'Wegbier', 'Wegee', 'Wegomlegging', 'Wehrmacht', 'WeiXinkai', 'WeimtimeBier', 'Weingeliebter', 'WeisGuy', 'WeiseOldMan', 'Weisnmeister', 'Weissbierman', 'WeissbrauMeister', 'Weissenheimer', 'Weizenmensch', 'Weliketheporter', 'WelshBoy', 'Welsman', 'Wench', 'WendyandCraig', 'WertMaker', 'WesFCSI', 'WesM63', 'WesWes', 'WestValleyIPA', 'Westmallelight', 'Westsidebuddha', 'Westsidethreat', 'WetCoaster', 'Wetpaperbag', 'WeymouthMike', 'Whadawookie', 'WhatsNewinBooze', 'Wheatmanny', 'Wheeble', 'Wheelinb', 'WhiskerWrangler', 'WhiskeyFist666', 'WhiskeyNinja', 'WhistlingBird', 'WhiteDevil', 'WhiteDog2006', 'WhiteInfidel', 'WhiteOak', 'WhiteRiverSuds', 'Whitefolks305', 'Whiteweasel', 'WhiteyHesa', 'Whitley', 'WhittlingWombat', 'WhoDey', 'Whobody', 'WholeFoodsDerek', 'WhyBeNormal', 'WickedSluggy', 'Wickenstein', 'Wiessmonkey', 'Wikipeteia', 'Wilburn', 'Wilceaser', 'WildFermenter', 'WildKarrde', 'WildMaverick1200', 'WildRage', 'WildTurkey', 'Wildman', 'Wildman23', 'Wiles', 'Will46andbrew', 'WillCarrera', 'WillClark', 'Willamette', 'Willclark1', 'WilliamD', 'WilliamDeFronzo', 'WilliamHardgrove', 'WilliamLee', 'WilliamLious', 'WilliamPhilaPa', 'Willibomb', 'WillieJenkins', 'WillieMoe', 'WilsonBenA', 'Wilsonjr1', 'Wimberley87', 'WindUpBird', 'Windigo', 'Windigstadt', 'Windowdog', 'WinstonSmith', 'Winter', 'Wintermute', 'Winters', 'WinthrHOPHEAD89', 'Wisconsin', 'Wisconsin93', 'WisconsinDavid', 'Wisconsinality', 'Wisconsuds', 'WishYouWereBeer', 'Witbierlover', 'Witchlord', 'WitteBelgique', 'WmWest', 'WmcBean', 'WobblyPopps', 'Wogs', 'Wohzah', 'Wolf', 'WolfKeeper', 'WolfeEats', 'Wolfhausen', 'WolfmanK', 'Wolfpack2005', 'Wolfsdenbrew', 'WolverineWench', 'WonderWoman', 'WonderfulSam', 'Wonka', 'WoodBrew', 'WoodHammer', 'WoodenWizard', 'WoogityBoogity', 'Woosta', 'Working4Beer', 'Workodactyl', 'WorldWideStout', 'Wowcoolman', 'WrathsU', 'WreckDiver', 'Wreckoncile', 'Wren', 'Wronsky', 'Wtbrooks', 'WuKAZUKI', 'Wutang1', 'Wutz', 'WwRGSwW', 'WxAxGxS', 'Wyattz0r', 'WynnO', 'Wyrdbrew', 'XCobra427X', 'XVPierogies', 'XXAmber', 'XXX', 'Xadoor', 'XanderCruz', 'XmotormanX', 'XsoreXsubjectX', 'Xul', 'XxBeerIsBestxX', 'XxNitExX', 'Xziz', 'YAPO', 'YOOJ', 'Yagman3000', 'YankChef', 'Yanks8000', 'YannickB', 'Yaz8', 'Ybsnroh', 'Yeastcakes', 'Yegg', 'Yekaterina', 'YellowTail', 'YesFest', 'Yesac', 'Yetiman420', 'Yetti', 'Yimosan', 'YippiesRhinos', 'Ynot2', 'YoYoPete', 'YogiBear', 'Yojimbo1941', 'YonderWanderer', 'Yongshan', 'Yoonisaykul', 'Yooperduder', 'Yoshiplace', 'Yotus', 'YouSkeete', 'YoungRasputin', 'YourMomDrinksBud', 'Ysgard', 'YuenglingMan1987', 'YukataNinja', 'YuleBeHoppin', 'YumYumGumGum', 'Yvaithe', 'ZAP', 'ZDub', 'ZOXXO', 'ZPB', 'ZSimon', 'ZX6Chris', 'ZacHart', 'Zaccone', 'ZachGates', 'ZachTaylor', 'ZacharyJ', 'Zadok', 'Zaimejs', 'Zak', 'Zap2008', 'Zaplt', 'Zaradog', 'Zash', 'Zasty', 'Zebus0', 'Zeckster', 'Zeke', 'Zekezilla', 'ZenAgnostic', 'Zenblend', 'Zephenbrewid', 'Zeppelindude', 'ZeroSignal', 'ZeroToLove', 'Zerric', 'Zhugs547', 'Ziek', 'ZiggyStarbuck', 'ZimZamZoom', 'Zimbo', 'Zimri', 'Zinsk', 'Zippie9999', 'Ziro', 'Zodijackyl', 'Zogman100', 'Zoh', 'Zoid', 'ZombieDon', 'Zombiedestroyer', 'Zonthark', 'Zoot', 'ZorPrime', 'Zorba', 'Zorro', 'ZotDuivel27', 'Zoxygen', 'Zraly', 'ZumbieBeerBear', 'Zundo', 'Zurc', 'Zwetschgen', 'ZymasefungiI207I', 'Zymurgo', 'Zynski10', 'Zywiec06', 'Zzyzx', 'a061183', 'a10t2', 'a4ester', 'a4tuurbo', 'a74gent', 'aNONbudlightgirl', 'aabgirl', 'aahynick', 'aalappatel', 'aandresen', 'aapp', 'aaron', 'aaron12', 'aaronbeach69', 'aaroncoop', 'aaronh', 'aaronhanson', 'aaronxsubaru', 'aaronz', 'aarunt1', 'aasher', 'aayooper', 'abaculy', 'abaer123', 'abankovich', 'abar22', 'abastias', 'abby', 'abc3', 'abcentfishing', 'abcfan', 'abcsofbeer', 'abduke678', 'abecall98', 'abedenbaugh', 'abeerlovr', 'abents', 'abfraser', 'abgba121', 'abizzles', 'ablaze', 'aboyle', 'abramorton', 'abrand', 'abraxel', 'abrethanson', 'abriggs1', 'abru17', 'absolUtmagnitUd', 'absolete', 'absolom', 'absoludicrous', 'absolutbc2001', 'abstractpablo', 'abtcabe', 'abuliarose', 'acarrb4', 'acarroll413', 'acbe', 'acbpharm', 'accordselux', 'ace125koo', 'ace3', 'acehart1', 'acelin', 'aceman60', 'acer95', 'achek74', 'acidmojojojo', 'ackleydg', 'acoatley', 'aconder', 'acrawf6', 'actone2001', 'acurtis', 'acwaest89', 'ad5os', 'adam32386', 'adam42381', 'adamb02155', 'adamboeckman', 'adamdarcy', 'adamdotson', 'adamdrap', 'adamette', 'adamhdv', 'adamhimself', 'adamingersoll', 'adamks', 'adamlangolf', 'adammacmillan', 'adammets', 'adammetz', 'adammills', 'adamngram', 'adamparker05', 'adamritchie', 'adamrobertt', 'adams82', 'adamwhite5', 'adamwonak', 'adarby', 'adastraperaspera', 'addiegg', 'addmorehops', 'adefa', 'adevans', 'adil', 'adkirkish', 'adman08', 'admiralcrunch', 'adnielsen', 'ado485', 'adowney523', 'adpietsc', 'adrian910ss', 'adrianwallbridge', 'adriatic502', 'adrock1978', 'adrock7309', 'adsomers', 'advill88', 'advm1', 'aefbjo', 'aelthwin', 'aeminter', 'aeolianshredhead', 'aepb1', 'aerin184', 'aerozeppl', 'aesopsgato', 'aewinte1', 'afacini', 'afatty', 'afausser', 'afdempse', 'aficionado', 'aficionado224', 'afinepilsner', 'afksports', 'afoersch', 'afogg0855', 'aforbes10', 'afordney', 'aforwark', 'afrokaze', 'afrye29', 'after5', 'againes', 'agbarr', 'agent2550', 'aggiearcher13', 'agiato', 'agirginis', 'agirlnamedjess', 'aglose45', 'agomega', 'ahalloin', 'ahatch551', 'ahatcher78', 'ahking', 'ahlavato', 'ahogue', 'ahoverton', 'ahpark', 'ahq514', 'ahrkchum', 'ahurd11085', 'aibkstaff', 'aidanskinner', 'aidanxfriesen', 'airforbes1', 'airheadmtrcycle', 'airmike', 'airohead2001', 'ajAGOFF', 'ajacobs', 'ajanesz', 'ajaxivan', 'ajayma', 'ajbick', 'ajcobb24', 'ajd912', 'ajfa531', 'ajg83', 'ajhod', 'ajm11', 'ajmoody76', 'ajp0483', 'ajr24', 'ajs4bd', 'ajsdad06', 'ajsuper1221', 'ajuarez', 'ajwillys', 'ak329', 'ak7071', 'akahn', 'akajimmyd', 'akarmadillo', 'akeeper', 'akenethon', 'akgrandon', 'akinsja', 'akk101', 'akogrady', 'akokandy', 'akorsak', 'akronzipfan', 'aksavi', 'aksuited29', 'al3', 'alHiboux', 'alabamagolf', 'alabeer', 'alabencki', 'alacrimsontide1', 'alalvarez75', 'alamere', 'alamode', 'alankwak', 'alanms00', 'alanp11', 'alarusse', 'alaskaiscold', 'alaskajoe', 'albern', 'albertjr21', 'albertmdh', 'albinolion', 'albo', 'alcooper', 'alcstradamus', 'alcurtsinger', 'aldizy', 'aldujaparov', 'ale1', 'ale2theking', 'alea711', 'alec7717', 'aleckpa', 'aledrinker26', 'alee42', 'alehead87', 'alehopman', 'alehouseadam', 'alejandro', 'alejandrostyle', 'alemakesmestrong', 'aleman01', 'alenonbeeradv', 'alephilmac', 'ales4baldo', 'aletale', 'aletales', 'alewarrior', 'alex667gbg', 'alexAK', 'alexatlatx', 'alexgash', 'alexgrahamlv', 'alexhahn82', 'alexhammond', 'alexipa', 'alexkeil', 'alexmeier175', 'alexmpino', 'alexonate', 'alexpkoehler', 'alexrichman', 'alexsess', 'alexskovan', 'alexw', 'alexwag', 'aleyeast', 'aleyin', 'alf212', 'alfistheman', 'alisah318', 'alittlehazy', 'aliveguy17', 'aljordan', 'alk3kenny', 'alkchrios', 'alkemy', 'all5n', 'allagashfan', 'allanorn', 'allanplaysguitar', 'allboutbierge', 'alldaydrinker', 'allengarvin', 'allergictomacros', 'alleykatking', 'allforbetterbeer', 'alli4051', 'allrizz', 'allthatAles', 'allymcteo', 'almychristopher', 'alobert', 'alohaC', 'alohaspicoli', 'alovesupreme', 'alphagnome', 'alphaking', 'alphanon', 'alphawolf', 'alpinebryant', 'alpineclimber', 'alspaleale', 'altadenabrou', 'altctrlsdelete', 'altgeeky1', 'alumley', 'alus', 'aluskungs', 'always4beer', 'alwbii', 'alwolfen', 'alyankus', 'alysmith4', 'alysonwhite', 'alzy', 'amallen', 'amandebates', 'amanofbeer', 'amateur', 'amatuerbeerguy', 'ambluhm', 'amc', 'amc2341', 'amccormi', 'amcmaho1', 'americanaqualung', 'americanbeerbuzz', 'americanwolfdrea', 'amesfan', 'amherstdrew', 'amhudson77', 'amicar', 'amidabha', 'amightyfinebeer', 'amightywind', 'amiles', 'aminobutyricacid', 'amneziak', 'amoebalink', 'amp138', 'amphion1065', 'ampzilla', 'ams0286', 'ams4k', 'amstelcat', 'amsterdamaged', 'amtriska', 'amusingdream', 'amw315', 'amyhran', 'anacrime', 'anaduja', 'anakar', 'anap', 'anarchobrew', 'anchordrinker', 'ancientelixir', 'andebrice', 'anders36', 'anderson', 'andjusticeforale', 'andr27', 'andrao', 'andre66', 'andreasinvicta', 'andreasmwatt', 'andrecrompton', 'andrenaline', 'andrewdodd86', 'andrewengler', 'andrewgator', 'andrewinski1', 'andrewjm82', 'andrewjraab', 'andrewm190', 'andrewmartin', 'andrewme2', 'andrewprange', 'andrewroush', 'andrewsporter', 'andrewt960', 'andrewtraughber', 'andrewvit', 'andrwjedi', 'andyf847', 'andyfrancis', 'andyg2smooth', 'andyinsdca', 'andyj', 'andylipp', 'andyluvbeer', 'andyo', 'andythegief', 'andythejerk', 'anell213', 'angelmonster', 'angelogarcia3', 'angie497', 'anglagard1', 'angrybabboon', 'angrygrimace', 'angrywolf', 'angus13', 'angusdegraosta', 'aniano', 'animal', 'animal69', 'animalchin', 'animortician', 'annatar', 'annawees', 'anneseg', 'anotherbeerguy84', 'anotherpg', 'ansurdu', 'ant5431', 'ant707', 'antaydos', 'anthony120ipa', 'anthony914', 'anthonyvolpe', 'antilogic', 'antioch', 'antique', 'antlerwrestler19', 'antoines15', 'antonio16309', 'antonlauter', 'antwan3421', 'antword', 'antzman', 'anycrew', 'anygivenbelgian', 'anzalonec', 'aogilvie', 'aorloski', 'aowen355', 'apache119', 'aparoche', 'apbarwood', 'apfactor', 'aphor', 'apierce1', 'apintofknowledge', 'apmarkey', 'apollo11', 'apowar', 'appenzeller', 'appliancesex', 'applky', 'apratsunrthd', 'apresskibrewer', 'apwilla', 'aqsprint', 'aquaderek', 'aquaphiliac', 'aquaphyre', 'aquatonex', 'aquilontendants', 'ar70584', 'aracauna', 'aramk', 'aranheaney', 'aravenel', 'arboristfish', 'arbrinkman', 'archaeofreak', 'archiespeck', 'arcticstout', 'ardmoreryan', 'argenti44', 'arghbowl', 'arglynn', 'argock', 'argon', 'arguemaniac', 'aricpaul', 'aristeros', 'arizcards', 'ark1ebs', 'ark57', 'arkhamresident', 'arktos', 'arkurzynski', 'arlo', 'arlo19', 'arlugg', 'armedgardener', 'armock', 'arnold1975', 'arnoldbrew', 'arnulfooxblood', 'aromatorio', 'arrangerx', 'arsheets', 'artcurtis', 'artdob', 'artistintheambul', 'artruism', 'arturorg', 'artusory', 'artvandelay', 'arvjunk', 'asabreed', 'asauer', 'ascavuzzo', 'ascenzi', 'aschwab', 'ascrivens', 'aseiter', 'ash111', 'ashleyshalyn', 'askantik', 'aslanskeep76', 'asnider', 'asphaltbuffet', 'assmandugle', 'assmasterson', 'association330', 'assurbanipaul', 'astout', 'astrasday', 'astrobrewer', 'astronaut888', 'asuirish121', 'at1234', 'at7000', 'atate', 'atbump', 'atchernev', 'athensbeermaster', 'athlete420', 'athmeous', 'atigerlife', 'atis', 'atlanta', 'atlantisrob', 'atlason', 'atlasproaudio', 'atliens81', 'atom420', 'atomicbeer', 'atomicbolt', 'atomicbwax', 'atorres600', 'atowle25', 'atozymurgy', 'atpben', 'atr2605', 'atremains', 'atrus138', 'atsprings', 'atthetone', 'atuite', 'au1sec', 'aubuc1', 'auburngrad82', 'audacian', 'auderale', 'audiocheck', 'audiodav', 'audiojon', 'audioserf', 'audirs4s', 'auggiedoggy', 'augievikings', 'augusta', 'augustgarage', 'auntfloyd', 'aunwin', 'auro0006', 'auroraborealis', 'auroracrisis', 'ausonius', 'aussiebilly', 'aussielars', 'austinbroker', 'austinhensley', 'autokratic', 'auxiliary', 'avaccani', 'avail316', 'aval89', 'avaldivia', 'avalon07', 'avaulteriam', 'aventinus829', 'averagejoeshmoe', 'averbisadverbera', 'avius', 'avocadoz', 'avuros', 'avvs', 'avw555', 'avylover', 'awalk1227', 'awall422', 'awatkins54', 'awermuth', 'awesomeandrew', 'awester462', 'awhipker', 'awinkro', 'awmiller', 'awolcfh5150', 'awright', 'aws666', 'axeman9182', 'axfelix', 'axisjones', 'axxis64', 'aychbomb', 'ayellayen', 'azabyss', 'azagthoth', 'azdback', 'azorie', 'azsupra', 'azureoval', 'b0r3dguy', 'b33rM4achine', 'b33rb3lly', 'b3barron', 'b3shine', 'b5d106', 'babaracas', 'babydoc', 'babydoctor', 'babyhobbes', 'babywhooper', 'bac37', 'bacabuck', 'backfat', 'baconbourbon', 'baconquest', 'baconsausage', 'badapplebrewing', 'badbassrandy', 'badbeer', 'badbonez', 'badboris', 'badboyrsl84', 'badbread', 'baddy579', 'badenglishihave', 'badesign', 'badlydrawnbeauty', 'badmandy', 'badmoon', 'badturtle', 'badtzmaru', 'bag057', 'bagelmiester', 'baggio', 'baggylean', 'bagpiper2005', 'bags6lax', 'bah44', 'bahua', 'bahumutx', 'bainard', 'baiser', 'bak8976', 'bakeller', 'bakerslp', 'bala747', 'balberts', 'balconybrew', 'baldben', 'baldiegooner', 'baldmasterflex', 'baldycmu', 'ballenc', 'ballewblake', 'ballmouse', 'ballz50401', 'balzern', 'bamadog', 'bamojr', 'bangelos80', 'banjaxed', 'banker', 'baos', 'barbarian', 'barczar', 'bardyar', 'barefootbrewer', 'barfly', 'bargainboytrav', 'bargerking', 'bark', 'barknee', 'barleyPops', 'barleyman', 'barleynvinebrew', 'barleypop', 'barleypopmaker', 'barleyroad', 'barleysandwich', 'barleysangel', 'barleywhine08', 'barleywinebrewer', 'barleywinefiend', 'barleywineman', 'barleywort', 'barneby', 'barnettch', 'barnuba', 'barnzy78', 'barondebourgogne', 'baronofthebrew', 'baronvonotocon', 'barrelman', 'barrelroller', 'barrenbane', 'barrettds', 'barrettf', 'barretthead22', 'barronkr', 'barroomhero1234', 'barrylitchfield', 'barrymccochener', 'bartle', 'baseballrock', 'bashiba', 'basi76', 'basica', 'baso', 'basscram', 'bassman83', 'bassmantin', 'bastardface', 'bastu', 'bataround', 'batman1935', 'batman3', 'bator22', 'batsdc', 'batsolo653', 'battlekow', 'batty', 'baugherlager', 'bax72', 'baxterbrew', 'baybassboy', 'bayinghound', 'bayoubeerguy', 'bayougutter', 'bb8189', 'bballmj2k', 'bbarrows', 'bbb099', 'bbdog', 'bbeane', 'bbeerman', 'bberrey', 'bbirks', 'bbkd3b', 'bboelens', 'bbold', 'bbothen', 'bboven', 'bbqwings', 'bbrown29073', 'bc2208', 'bcastine', 'bcdees47', 'bceaglejoe', 'bceagles39', 'bcf', 'bcgantz', 'bcgoldtoe', 'bcgpete', 'bckelso', 'bcklick', 'bcm119', 'bcmurray66', 'bcole002', 'bcolflesh', 'bcollar', 'bcollegeoston', 'bcostner1', 'bdb', 'bdb08', 'bdeast1', 'bdelanghe', 'bdevilbullet', 'bditty187', 'bdjacoby', 'bdkbrown', 'bdkucharski', 'bdnyed', 'bdo894', 'bdolphens', 'bdp1201', 'bds1313', 'bdupree', 'bdutton', 'beabear', 'beace', 'beachbum1975', 'beachfirebrews', 'beachian', 'beachscrat', 'beagle75', 'beaglemac', 'beaker2651', 'beakerboy', 'beals', 'beamishman', 'beanbagg', 'beanboots1912', 'beancounter', 'beanieb', 'beans281', 'bearadvocate', 'bearass', 'bearcamp', 'bearcobb', 'beardtongue', 'bearfootdaddy', 'bearish', 'bearrunner44', 'bearsxco', 'beastdrink', 'beastfromtheeast', 'beatingwings', 'beautifulday', 'beauweaver', 'beavers', 'bebbcorp', 'bebopabilly', 'bebopkola', 'beck2008', 'beckerboots', 'beckje01', 'beckscrusader420', 'becktone', 'bedavis', 'bednie', 'beebz1087', 'beefbait', 'beefytee', 'beehivechaos311', 'beejayud', 'beenitty', 'beep71', 'beer1018', 'beer256', 'beer272', 'beer2day', 'beer30somewhere', 'beer348', 'beer420dope', 'beer4colin', 'beer4jesus', 'beerNdarts', 'beerSexualizer', 'beeraboo', 'beerad666', 'beeragent', 'beerandcycling88', 'beerandsandals', 'beerandwaffles', 'beerattorney', 'beerayrton', 'beerbart', 'beerbeacon', 'beerbeas', 'beerbellydaddy', 'beerbiatchMD', 'beerbill', 'beerbitch', 'beerblanket', 'beerboy21', 'beerboy90', 'beerboy9876', 'beerboy9960', 'beerboygb', 'beerbrains', 'beerbrewerdan', 'beerbuddah', 'beerbully', 'beerbum05', 'beerbutcher', 'beercap', 'beercar', 'beercat11', 'beerceller99', 'beerchick', 'beercollector', 'beerdad', 'beerdavis', 'beerdedking', 'beerdedpunk', 'beerdeity', 'beerdepartment', 'beerdiablo', 'beerdown77', 'beerdrifter', 'beerdrinker4life', 'beerdrinkerhellr', 'beereality', 'beerenjoyer1', 'beerera4', 'beerfairy', 'beerfan82', 'beerfan99', 'beerfanbill', 'beerfinder', 'beerfish68', 'beerforceltics', 'beerfox', 'beerfree', 'beerg0ggles', 'beergambit', 'beerganica', 'beergardener', 'beergeek279', 'beergirltammy', 'beergod1', 'beergoot', 'beerguru14', 'beerguru15', 'beerguy04', 'beerguy101', 'beerguyfromalma', 'beerguzlor', 'beerguztom', 'beergynt', 'beerhan', 'beerhandy', 'beerhappy', 'beerhawk', 'beerhermit', 'beerhistory', 'beerhobo22', 'beerinator', 'beerindex', 'beerindulger', 'beerineer', 'beerinmorning', 'beerislove', 'beerislovely', 'beerismysavior', 'beeristhefuture', 'beeritron', 'beerjerk', 'beerjunkie420', 'beerkatz', 'beerkeeper', 'beerking1', 'beerkittycat', 'beerkoz', 'beerkrump', 'beerlassie', 'beerlikesme', 'beerlolo', 'beerlove', 'beerlove82', 'beerlover3692', 'beerlovergirl', 'beerlovinbaptist', 'beerluva', 'beerluvr', 'beerlyhere', 'beermaker1', 'beerman061587', 'beerman20', 'beerman207', 'beerman21', 'beerman599', 'beerman999999', 'beermanWV', 'beermanbrian', 'beerme5582', 'beermebeerman', 'beermolly', 'beernbbq', 'beerneeder', 'beernightscout', 'beernoobreviews', 'beernut', 'beernut7', 'beernuts4u', 'beeroclock', 'beerogre', 'beeronesse', 'beeronthebrain', 'beerorRIP', 'beeroverwineguy', 'beerpadawan', 'beerpainting', 'beerphan', 'beerphilosopher', 'beerphotographer', 'beerpirates', 'beerprovedwright', 'beerquestman', 'beerrocks', 'beerrookie', 'beers2danno', 'beersabound', 'beersalesman', 'beersands', 'beersarang', 'beersensei305', 'beersgood', 'beersheppard', 'beershrine', 'beerslut007', 'beersnaub', 'beersnoop', 'beerstallion', 'beersteak', 'beerswamie', 'beertastegood', 'beertaster13', 'beertattoo', 'beerthirtysa', 'beerthulhu', 'beertooth', 'beertownbaron', 'beertravel', 'beertunes', 'beerudrthebodhi', 'beervana1858', 'beerwads', 'beerwolf77', 'beeryama', 'beerznmoon', 'beesy', 'beforeitsallover', 'begforme4484', 'belbogen', 'beldav', 'beldin96', 'belenita', 'belgaridub', 'belgbeerdrinker', 'belgian4ever', 'belgianbeerlover', 'belgionbeerelf', 'belgiumbud', 'belgiumking', 'belhav0322', 'belias', 'believeinpeople', 'belizethehop', 'bellafromsocal', 'bellan01', 'bellealtesse', 'bellebouche', 'beltranzandar', 'beltyrion', 'belzo35', 'ben68cat', 'ben94gt', 'benagame', 'benbeerman', 'benbou17', 'benclimbs', 'beneeball', 'benfons', 'bengtaaron', 'benhemp', 'benimator', 'benito', 'benj9', 'benjamin1cs', 'benjammin643', 'benjathelion', 'benjilek', 'benlaitman', 'benlovesbeer', 'benmiliron', 'bennetj17', 'bennorthenor', 'benoit', 'benpopper', 'benpst', 'bens0n', 'bensamann', 'bensiff', 'benteach', 'benthousand', 'bentrider1957', 'benwah22', 'benwiley', 'benyerd', 'benz08', 'benzy', 'beorn7676', 'beragg', 'berebrando', 'beresnaub', 'bergands', 'berkeley', 'berkey', 'berley31', 'berliner07', 'bernardus1212', 'bernie879', 'bernie896', 'berniejr', 'berpwillie', 'berserker256', 'bert13tj', 'bertacular10', 'bertram', 'bertwagner', 'betaamylase', 'betajeff', 'betsona', 'betterbgood', 'bevdaddy', 'bevenson', 'beveragecaptain', 'beveragesampler', 'beveritt', 'bewareOFpenguin', 'beweller', 'bewley', 'beyah', 'bezakjon', 'bfboy', 'bfecteau', 'bfflo', 'bfields4', 'bfife', 'bfirkin45', 'bfitzlaw', 'bfr1992t', 'bfree', 'bgarrity', 'bgcookie', 'bgildea', 'bgjohnston', 'bgramer', 'bgraney', 'bgreene14', 'bgreg3', 'bguzz', 'bhal', 'bhalter8', 'bhb', 'bheilman', 'bhitt', 'bhodgson0739', 'bhodsden', 'bhoffman681', 'biacone', 'bianchibuddy', 'biboergosum', 'biegaman', 'bierSnob', 'bierbrauer', 'biercircus', 'bierdabbler', 'bierenutz', 'bierfly', 'bierfreundlich', 'biergeniesser', 'bierguru', 'biergut', 'bieristgut', 'bierkoning', 'bierman2000', 'biernuss', 'bierschmecktgut', 'biershurk', 'bifrojm', 'bifrostguard', 'biga7346', 'bigaizsosexy', 'bigalcole44', 'bigalk', 'bigaltemple', 'bigbeeersrule', 'bigbeerbrett', 'bigbeerdrinka', 'bigbelcher', 'bigbluebeerguy', 'bigblueheron', 'bigbodybussey', 'bigboytim28', 'bigbrewbowski', 'bigbubba', 'bigchiefbc', 'bigchiefcoconuts', 'bigchris1313', 'bigd123', 'bigdaddybrewery', 'bigdaddyd069', 'bigdaddyv10', 'bigdan908', 'bigdave11', 'bigdeuce', 'bigdogplaypen', 'bigdonniebrasco', 'bigdrewsmoove', 'bigdutchblue', 'bige2118', 'bigelguapo', 'bigelo1016', 'bigeyedfish', 'bigflatsbeerman', 'bigfnjoe', 'bigfoot13', 'biggerboat88', 'biggied', 'biggietattoos', 'biggjohnstudd68', 'biggmike', 'biggred1', 'biggsbowler', 'bighoppymonster', 'bighops', 'bigjilm', 'bigjohn', 'bigk', 'bigkactus', 'bigkahunas4', 'bigkamp', 'biglickbrewer', 'biglite351', 'bigliver', 'biglobo8971', 'bigluch1', 'bigman147', 'bigmike55', 'bigmoneybastard', 'bignick', 'bigolbeerbelly', 'bigone4', 'bigoten13', 'bigpatvoodoodad', 'bigpb04', 'bigpoppacueball', 'bigred4343', 'bigredchronic13', 'bigreduw64', 'bigremy', 'bigrond', 'bigrzman', 'bigsassyster', 'bigshawn87', 'bigsilky', 'bigsquirrel', 'bigwern', 'bigwillystyle9', 'bigwoody117', 'bikehorn', 'bikencycle', 'biker24a69', 'biker30x', 'bikerboy', 'bikeymoy', 'biking4beer', 'bill93063', 'billab914', 'billbradleyjr', 'billez62', 'billiambomb', 'billiardman1', 'billinlafayette', 'billiumk', 'billmiky', 'billshmeinke', 'billthethrill', 'billyb14', 'billybob', 'billybrew21', 'billyshears', 'billysj', 'billyzoom666', 'billzav', 'billzee', 'bilyboy65', 'bimish', 'binkman', 'binnysbrat', 'bionerd', 'biophiliadude', 'birchstick', 'bird18', 'birdbrawn', 'birddogg66', 'birderbeerer', 'birdman200', 'birdman9251979', 'birdyone', 'birdypowder', 'birkhouse', 'bishes', 'bishopdc0', 'bishopgary', 'bishopscollar', 'bismarksays', 'bisonkron', 'bisoubisou', 'bissel', 'biteme398', 'biteur', 'bitjanitor', 'bitterbeerguy', 'bitterdestroyer', 'bitterdude', 'bitterking', 'bittersweet', 'bitterthebetter', 'bitzbach', 'bizzlebrew', 'bjacobsen', 'bjamin', 'bjasvensk', 'bjcmoney', 'bjkrog', 'bjlovers68', 'bjn714', 'bjohnson', 'bjorumj', 'bjoyce12', 'bjs', 'bk3nj', 'bkett01', 'bkilpatr', 'bklyn1rr', 'bklynbeerbaron', 'bkny27', 'bkregel', 'bkrueger', 'bl400315', 'blabla19', 'black13', 'blackandtanman', 'blackandwhitemax', 'blackbear', 'blackbearywheat', 'blackc5', 'blackcat34', 'blackcompg', 'blackcrow911', 'blackdiamond', 'blackdog1101', 'blackearth', 'blackenmn', 'blackfish73', 'blackhammer', 'blackheartbilly', 'blackhole', 'blackie', 'blackjack000', 'blackjack21', 'blackkristos', 'blacklabel67k', 'blackterror', 'blackthistle', 'blackwelma01', 'blah114', 'blaheath', 'blaje', 'blakelive784', 'blakeman12', 'blakereik', 'blakesell', 'blaketwahoo', 'blakkheim', 'blammasterj', 'blamoe', 'blane1', 'blankie41', 'blastyaker', 'blatherbeard', 'blatzmenstout', 'blausebas', 'blazin5050', 'bld81', 'bleacherbum', 'bled', 'bleeng', 'blewisg', 'blgianbeer', 'blimey', 'blincoln', 'blink1371', 'blitheringidiot', 'blittle', 'blitz134', 'blivingston1985', 'bljebd', 'blkknight02', 'blklab2007', 'blknikon', 'bloberglawp', 'blodgetm', 'blojewski', 'bloodzombie', 'bloominhop', 'blsdmf33', 'blsfreak', 'bltzburgh', 'bluHatter', 'bluebrew', 'bluecoat', 'bluegrassbrew', 'bluegrasscat', 'bluehulk', 'bluejacket74', 'bluemoonswoon', 'bluemoundshines', 'bluenosebrewery', 'bluesfan1181', 'bluesoul', 'bluesplit63', 'bluethumb87', 'bluetravlr', 'bluetyger86', 'blueyedman', 'blumonkey', 'blynes75', 'bm0095', 'bm7094', 'bmacaskill', 'bmack94536', 'bmanning', 'bmbig', 'bmcclure', 'bmcnamara', 'bmeyer', 'bmillen22', 'bmills1608', 'bminor7', 'bminus', 'bmo56', 'bmohead', 'bmoney', 'bmonty412', 'bmoses', 'bmvla', 'bmw0825', 'bmwats', 'bmwfan1987', 'bmwgirl9606', 'bmxer87', 'bnes09', 'bnewall3', 'bnieman', 'bnuttz', 'boMD', 'board45', 'boatshoes', 'boatyard', 'bob3701', 'bob5958', 'bobapfel', 'bobarito', 'bobbinalong', 'bobby32', 'bobbybou', 'bobbyc881', 'bobbygunit33', 'bobbypaulson', 'bobbyrlg', 'bobdabutt', 'bobfraples', 'bobgrave', 'bobhits', 'bobholt', 'bobinnola', 'bobinverted', 'bobjonesSD', 'boblawson', 'boblinneman', 'bobljr', 'bobloblaw22', 'boblog', 'bobman006', 'bobpanz', 'bobquick', 'bobsed', 'bobsmuddley', 'bobstockwell', 'bobsy', 'bobthebiker', 'bobutt', 'bobv', 'bochi23', 'bodegajohn', 'bodybyadam', 'boelker62', 'boett', 'bog', 'bogeypro64', 'bogus564', 'bohemiandonut', 'boilermakerbrew', 'boilers', 'boisehack', 'boldcity2008', 'bolddeciever', 'boldej', 'bolerosanchez', 'bolus14', 'bombinthepotty', 'bonapartist1', 'bonbini26', 'bonbright7', 'bondjedi', 'boneboy', 'bonemuse07', 'bonezx86', 'bonk0076', 'bonk420247', 'bonkers', 'bonski', 'bonsreeb85', 'boogles', 'boogyman', 'bookem', 'boomer31', 'boookak', 'boostsr20', 'boothbeer', 'boothy443', 'bootlegger1929', 'bootylicious', 'boozers', 'boralyl', 'borchsenius', 'bordsox', 'borktron', 'bornridiculous', 'bort11', 'bosco1', 'bosco7', 'bosox941827', 'bosoxbily', 'boss302', 'bossmanjg', 'boston2bburg', 'bostonbrew', 'bostoneo', 'bostonstoutman', 'botham', 'bottleneckedblog', 'boudreaux', 'boudreauxgg', 'boulderaz78', 'boulderglassmonk', 'boulevard2', 'bound4er', 'bourbonandbeer', 'bourbonbock', 'boutleg32', 'bovinecrusader', 'boweave', 'bowersdm', 'bowmanbrew', 'bowz32', 'box299', 'boxofepilepsy', 'boxvic', 'boyda', 'boyermi206', 'boyessen', 'boyfromthenorth', 'boynabubble', 'bozebus17', 'bozman9', 'bpalfrey10', 'bparks85', 'bpaugie06', 'bpbieste', 'bpelowski', 'bpfishback', 'bpgpitt10', 'bpharr', 'bpierce2', 'bpiwarzyk', 'bpw28', 'bpwatl', 'br3wmeister', 'brad97z', 'bradcochran', 'bradcochran1234', 'bradford', 'bradg77', 'bradlemay', 'bradley0114', 'bradley194', 'bradleyp', 'bradleyseven', 'bradmann', 'bradriverview', 'bradsmithjr', 'bradyan820', 'bradybeer', 'brakspear', 'bramsdell', 'branden', 'brandnewchair', 'brandon0350', 'brandon911', 'brandonbynum', 'brandoncox', 'brandoneast', 'brandtr3', 'branimal9', 'brantadid', 'branwynne', 'braski', 'bratley', 'braubeater', 'brauseboof', 'bravejoejoe', 'brazilhead', 'brc', 'brdc', 'breadnerd', 'breakchair', 'breakfastandbeer', 'breakofdawn', 'brealbg', 'breals', 'breathinblue', 'brees6221', 'breeze', 'breity', 'brendan13', 'brendanbeer', 'brendanec', 'brendaniel', 'brendanmoody', 'brendanos', 'brendanspub', 'brentblackwell', 'brenthaertlein', 'brentk56', 'breslaubrewer', 'bret27', 'bretmaverick24', 'bretquiring', 'bretseeley', 'brett1989h', 'brettheartshops', 'brew3crew', 'brew4health', 'brewQ', 'brewadelphia', 'brewandbbq', 'brewanddrink', 'brewandstew', 'brewapprentice', 'brewbacca', 'brewballer', 'brewbasser', 'brewbasterd', 'brewboat', 'brewbubba', 'brewbubba1', 'brewbucker', 'brewcast6', 'brewcat', 'brewcity414', 'brewcitybeerman', 'brewcore', 'brewcrew76', 'brewdan', 'brewdaniel', 'brewdenver', 'brewdlyhooked13', 'brewdoc75', 'brewdogmrb', 'brewdub17', 'brewduck', 'brewemstrong', 'brewer27513', 'brewerb223', 'brewerburgundy', 'brewerdub', 'breweryaprntc13', 'brewgetter', 'brewgirl', 'brewha13', 'brewhaven', 'brewingmatt', 'brewingmonk', 'brewintheLou', 'brewjones', 'brewkrew', 'brewman6', 'brewmanDJ', 'brewmandan', 'brewmaster411', 'brewmasterash', 'brewmudgeon', 'brewmunster', 'brewmyster', 'brewnic', 'brewnickbrew', 'brewnut11', 'brewone', 'brewpaab', 'brewpaul', 'brewpig', 'brewsandscrews', 'brewsclues', 'brewshakes', 'brewski09', 'brewski101', 'brewskier', 'brewskifan55', 'brewskitier', 'brewsky24', 'brewsterz', 'brewtal', 'brewtalizer', 'brewusmatt', 'brewwhat', 'brewymcgee', 'brewyou2', 'breyton490', 'brfbeerdrinker', 'brgurley', 'bri7755', 'brian23456', 'brian252', 'brian420', 'brian44556', 'brianandpiper', 'brianbeerman', 'briancantrell', 'briancroz12', 'briandkne', 'brianh78', 'brianj555', 'brianjay', 'briankrespan', 'brianlg', 'brianlindman', 'brichaz', 'bricksandivey', 'bridgeporter', 'bridgetowhophead', 'briggssteel', 'briman', 'bringonthehops', 'briscott99', 'bristei', 'bristerboy', 'bristol2120', 'britzdog', 'briwood', 'brjr508', 'brndwn', 'brobeerbot', 'brobot', 'brock146', 'broken22', 'brokenleadedcask', 'brokennedy120', 'broker0078', 'bronco94', 'broncobeerguy', 'broncojockey', 'brontosaurus', 'bronxlord', 'bronzeside', 'broodog', 'brooks4', 'broom420', 'broompa', 'broozer81', 'brothercannon', 'brotherloco', 'brouwer', 'brouwerijman', 'brow1901', 'brown2cu', 'browna71', 'brownaler', 'brownbeer', 'brownbottlehall', 'browncrayon', 'browner', 'brownlderek', 'brownwu', 'brsett', 'brskoff', 'brstilson', 'brstls4drmrs', 'bruachan', 'brubrew2001', 'brucepepper', 'brucer1', 'brueger', 'bruemaster', 'brugge2004', 'bruinhoppy', 'brundo4', 'brunellj2000', 'bruningmd', 'brunop', 'brunrn1', 'brushpig', 'brushtachio', 'brvijay', 'bryanbrick', 'bryanmetzger', 'brycemc', 'brydeen', 'bryehn', 'bryman1999', 'bryskal', 'brystmar', 'bs870621345', 'bsaavedra1', 'bschinelli', 'bsdlite', 'bsdrums', 'bsend', 'bshanly', 'bsherb', 'bshirley', 'bshrode', 'bskrtz', 'bsoakley', 'bsp77', 'bspersonal', 'bstewyb', 'bsu2005', 'bsuedekum', 'btbkorn', 'btchesandsake', 'btcook007', 'bthompuz', 'btighe428', 'btkennett', 'btmo', 'btorsdog', 'bturton', 'btuthill', 'bubba59', 'bubba87', 'bubbaoyster', 'bubbapit', 'bubbler', 'bubenry', 'bubrewer', 'bubseymour', 'bubtronic', 'buck1futter', 'buckeyebing', 'buckeyesox', 'buckiflyer', 'buckit', 'bucklemyshoe', 'bucko', 'buckobrock', 'bucktana', 'bud914', 'budducci', 'budgood1', 'budley922', 'budsboy', 'buellers', 'buffalexander', 'buffalotheorybc', 'buffettfan', 'buffs9', 'bugaboo416', 'builder53', 'bukowskiwasright', 'buliwuf', 'bulldogp04', 'bulldogsturge', 'bulletrain76', 'bullwinkle88', 'bultrey', 'bulwer', 'bum732', 'bump8628', 'bunbury', 'bundtpan', 'bundy462', 'bunn4funn', 'bunnyhustle', 'bunster316', 'buphreshphil', 'burbs89', 'burcher', 'burchetts', 'burda', 'burden', 'burgerandbeer', 'burkyburk', 'burner', 'burnerfinger', 'burnheartsMKE', 'burningrome', 'burns', 'burns1066', 'burnstar', 'burring', 'bursty', 'burtonb', 'burtonbe', 'busa89', 'buschbeer', 'bushbeer75', 'bushwhacker', 'bushwik', 'bushwilliams', 'business32', 'busternuggz', 'busterthecat', 'busterwhite', 'butlerj', 'butlertd', 'buttcat', 'butti001', 'buxwheat', 'buyBinboaVodka', 'buyaa', 'buzzardman', 'buzzedup', 'buzzgreg', 'buzzworthy', 'bv74550p', 'bvanpelt', 'bvarn', 'bvburnes', 'bventure', 'bwan15', 'bwarbiany', 'bwatson', 'bwb0402', 'bwd110', 'bwhite105', 'bwiechmann', 'bwieckert', 'bwmichaud', 'bworley', 'bwyker', 'bxbeerdepot', 'bymyheelicarenot', 'byrd', 'byrdman16', 'byrdman33', 'byteme94', 'bythebeerofnight', 'bythisaxe', 'bytor', 'bzzpop', 'c1377', 'cDubs', 'cLFlaVA', 'cMonkey', 'caSSino', 'cabsandking', 'cactusjuggalo', 'cadaugherty', 'caddybuyer', 'caddyguy', 'caddyshack199', 'cadenwhitaker', 'cadetpher', 'cadizkyguy', 'cafemondegar', 'cagocubs', 'cakebread', 'cakennedy', 'cakennedy2006', 'cakirkl', 'cakirkl2', 'cal82', 'calcio360jrd', 'calebmills', 'calebroberts811', 'californiakebab', 'californiakulak', 'calinative68', 'calir1', 'calise1122', 'callhimishmael', 'callmeclemens', 'callmemickey', 'callmeopus', 'callmescraps', 'calltond', 'calluci', 'calsbeek', 'calupax', 'cambabeer', 'camcgrath', 'camcroteau', 'camel92', 'cameraman', 'cameraready', 'camferranti', 'camil1mj', 'caminiti', 'camklein', 'cammall', 'cammark35', 'cammc', 'camp0474', 'campbellj21', 'canadianbarman', 'cancino45', 'canes420', 'canislupus88', 'canjeeps', 'cannabanaceae', 'cannon800', 'canoehornpoint', 'canolte42', 'cantloveemall', 'canucklehead', 'canuckns', 'capaneus', 'capeannbass36', 'capimex', 'capn', 'capnbob', 'capnbobby', 'capo56', 'capogeannis', 'capps24', 'capra12', 'capsule33', 'captainhops', 'captainjferjado', 'captaj', 'captenaj', 'captj', 'captnamerca', 'capybara', 'carach', 'carbonfiber', 'cardigan', 'cardinal25', 'cardtosser', 'cardwel1', 'caresville', 'carlborch', 'carln26', 'carlosd74', 'carlspeed', 'carlton012', 'carolinahophead', 'carp420', 'carparker', 'carpecervesi', 'carpezytha', 'carps12', 'carregado', 'carsonplunkett', 'cartagena', 'cartdan', 'carterbt', 'carwreCk', 'casadebia', 'case4816', 'casechopper', 'casemw', 'casetlc', 'cash22', 'cashbyjohnnycash', 'cashm', 'casinojkh', 'caskstrength', 'casper85', 'cassandralane', 'cassanoj', 'cassy36', 'casualbeerman', 'casualfan', 'casualone', 'catbert913', 'catgirl4276', 'catmann', 'catrone', 'causey007j', 'cavedave', 'cavemanlawyer', 'cawthonb', 'cb102348', 'cb462', 'cbaird2', 'cbak999', 'cbarrett', 'cbarrett4', 'cbbjr', 'cbeard13', 'cbeer88', 'cbeerbomb', 'cbgVT', 'cbgbslev', 'cbilek06', 'cbill', 'cbingham24', 'cbl2', 'cbleary', 'cbless97', 'cbmatt', 'cbn', 'cbn620', 'cbniles', 'cbo2122', 'cbonham', 'cbrakel', 'cbray', 'cbreitro', 'cbrenberg', 'cbriggz', 'cbros', 'cbrowndsotm', 'cburian', 'cbutova', 'cbw1978', 'cbwufpack', 'ccahoon22', 'ccam123451', 'ccampo', 'ccarney2', 'ccbassman', 'ccbrewer138', 'ccbrewing', 'cccarson', 'cciesiel', 'ccj', 'ccm414', 'ccoffeegod', 'ccolumbus1977', 'ccory1971', 'ccrampton29', 'ccrida', 'ccs', 'ccskiandrun', 'cdViking', 'cdbooth219', 'cdeem', 'cdfairchild31', 'cdflem', 'cdfree', 'cdizinno', 'cdkrenz', 'cdmastro', 'cdmop', 'cdog3', 'cdondera', 'cdoublev', 'cdparker2', 'cdpike', 'cdrogers', 'cdrummer', 'cds3717', 'cdubb', 'cdwitmer', 'ceable', 'ceaser', 'cedricwarner', 'ceeman', 'cekgriffith', 'celeriac', 'celinett123', 'celistealth', 'cellarwillpower', 'celldog', 'cellopudding15', 'celticfutblclub', 'celticgladiator', 'cenci1m', 'centbeerfest', 'centurian62', 'cer40', 'cerambus', 'cerevisiae', 'cerevisiaephilus', 'cerveza5150', 'cervezale', 'cervezango', 'cetae', 'cetherid', 'cfergusn', 'cfh64', 'cfinch2', 'cflanagan', 'cfleisher', 'cflore6', 'cflury', 'cford1', 'cfpct', 'cfrancis', 'cfriend2', 'cfrivera1', 'cgarviereg', 'cgdogg', 'cgludko', 'cgmees', 'cgraham5', 'cgstarry', 'ch3nzi', 'ch473', 'chOAKbarrell', 'chadadams44', 'chadd11', 'chadhops', 'chadjulius', 'chadlebald', 'chadmoe1', 'chadn', 'chadsexington', 'chadspivey', 'chadu', 'chaduvel', 'chagf', 'chainsawhutch', 'chairman', 'chakadrum', 'challandler', 'challenja', 'chalsk', 'chambers138', 'champ103', 'chance269', 'changeup45', 'changus', 'channelzero0', 'chano', 'chaps77', 'chargerfanjess', 'charladam', 'charlatan', 'charlesbyrd', 'charleseddy', 'charlesmcd', 'charlesmingus55', 'charlesw', 'charliedango', 'charliedvrs', 'charlieos', 'charliez', 'charlottebeer', 'charlottebeerguy', 'charlzm', 'charmcityboh', 'chas1326', 'chase2634', 'chasebrownyeah1', 'chasintrout', 'chaswisler', 'chatham7', 'chaunur', 'chaz01', 'chaz410', 'chazmatz', 'chcfan', 'chchchchia', 'chcmiller', 'cheMan', 'cheapdatebeer', 'cheapxceptbeer', 'cheath', 'checkfeet', 'cheers2beers', 'cheesepuffs', 'cheezdawg', 'chefboy812', 'chefdaddy18042', 'chefdejour', 'chefelf', 'chefhatt', 'chefkevlar', 'chefmikeanderson', 'chefnash51', 'chefscott79', 'cheftasia28', 'chefzach', 'cheggly', 'chelovek', 'chemidtown', 'chemmie', 'chenzo9999', 'cherokeedan', 'cheryline', 'chesapeakegoody', 'chesterc87', 'chesterspot', 'chetp', 'chetripley', 'chetti76', 'chewy41464', 'chewyboy', 'cheztor', 'chezztone', 'chiapet', 'chiapete', 'chicagoabbot', 'chicagobeerriot', 'chicagobill13', 'chicagoish', 'chicagospots', 'chicano4craft', 'chiccabeer', 'chickenandrice', 'chickencoop', 'chickenflea', 'chickenm', 'chicowildcatbeer', 'chief3fingers', 'chiefcrazydawg', 'chiefgtx', 'chiefjames', 'chiefkellen', 'chiefthreebeers', 'chieftjc', 'chiefydawg', 'chiguy2420', 'chileman13', 'chilibeer', 'chiliboy98', 'chilidog', 'chillmunity', 'chillwinston', 'chilly460', 'chimaybier', 'chimaychimaynot', 'chimaylvr', 'chimney', 'chinchill', 'chinesebandit', 'chinning', 'chipachu2', 'chipaway', 'chipper', 'chiral3', 'chma', 'chocbrandy', 'chocosushi', 'chodinheaven', 'choicyalcoholic', 'chokmah33', 'chorizoandeggs', 'choyhosoi', 'chrhowe', 'chris11554', 'chris217', 'chrisa7777', 'chrisafari', 'chrischandler71', 'chriscolby', 'chrisdenny', 'chriseay', 'chrisemmons123', 'chrisgn', 'chrisgyory', 'chrishart74', 'chrishickman', 'chriskc', 'chriskozma', 'chriskq', 'chrislouden', 'chrism86', 'chrismac676', 'chrismg', 'chrismilner20', 'chrisms86', 'chrisny4205', 'chrispot', 'chrisrhoppe', 'christetro', 'christianAK', 'christmasg', 'chrisweingart', 'chriswilkes33', 'chrizow', 'chromemittenman', 'chronicbeerback', 'chronicflash', 'chsanders', 'chscjo84', 'chuchoteur', 'chuck19', 'chuckd123', 'chuckl8899', 'chuckm', 'chuckmastazero', 'chucko', 'chuckp', 'chuckq', 'chucktrivette', 'chugalug06', 'chugamugofsud', 'chuke', 'chukles', 'chumba526', 'chunkylover53', 'chupacabra', 'churchillps', 'chuuzetsu', 'chwilliams', 'ciDigital', 'ciachef1212', 'cichief', 'ciderfaerie', 'cigarchitect', 'cigardave', 'cilldalua', 'cincodm', 'cincycats02', 'cincyfan90', 'cindiwindi1025', 'cindyjeffsmith', 'cinemadust', 'cinematicgypsy', 'cipherbyte', 'circlenine', 'circuitmonkey', 'circuscyaneus', 'cisteve', 'citadelgrad', 'citan133', 'cittadipace', 'civilizedpsycho', 'cixelsydima', 'cj2002', 'cjacobsen', 'cjbeatty130', 'cjbinvt', 'cjgator3', 'cjgreen79', 'cjharris', 'cjhofelt', 'cjl1209', 'cjm', 'cjoc83', 'cjohnson', 'cjveitch', 'ckaufman', 'ckbailey97', 'ckcanady', 'ckeegan04', 'ckimchi', 'ckkrafty', 'ckollias', 'cktison', 'claaark13', 'claaberules', 'clabaugh', 'claireoakhammer', 'claminat420', 'clamper1069', 'clareo', 'clark123456', 'clarkjohnsen', 'clarkkr', 'clarkm04', 'clasher', 'claspada', 'claybeer', 'claykeller', 'claymanhb', 'clayphilly', 'clayrock81', 'claytong', 'claytri', 'claytron', 'clb', 'cld253', 'cldrc', 'cleanfeet', 'cleanneon98', 'clearlydiluted', 'cleeze', 'clef', 'clefoodandbrews', 'clegolfski', 'clegrand', 'clemsonbrewer', 'clemtig76', 'cleolicious', 'cleopas1028', 'clept', 'cleptosid', 'clevebeerlover', 'cleverbeername', 'clickpush', 'cliffnorm', 'cliftoncr', 'climax', 'climbhighnz', 'clingman71', 'clings', 'clint1019', 'clintone', 'clippersfanbob', 'clivem', 'cloakNdaggar', 'clockwerk', 'clonebrewer', 'clooney', 'clover44', 'clvand0', 'clwaldin', 'cmac1705', 'cmaloy', 'cmannes', 'cmartin45', 'cmeyer45', 'cmillard', 'cmiller1l66', 'cmistre', 'cmkendrick', 'cmmprez', 'cmoney311', 'cmoon', 'cmq103', 'cmula', 'cnally', 'cncbofh', 'cneville', 'cnikirk', 'cnits66', 'cnjohn19', 'cnozzy', 'cntryinthecty', 'cnybrewblog', 'coachdonovan', 'coalandsilver', 'coalclear', 'coalcracker', 'coasterfreak75', 'coastie04', 'coastiefish', 'coaxthefire', 'cobalt60', 'cobrarax', 'cocogan', 'coders11', 'codewarrior', 'codfeast', 'codhole', 'codsmith', 'codycia22', 'codynevels', 'codysjb', 'codyw', 'coffeebeing', 'coffeybreak', 'coggrog', 'cohumulone', 'cokes', 'colbyrodgersfire', 'coldchill', 'coldmachine', 'coldmeat23', 'coldriver', 'coldwarkid', 'cole2', 'colebenoit', 'colefsuwr', 'colforbin73', 'colinsk', 'collander', 'collegemate', 'collinsroth', 'colonelpants', 'colsandurz', 'colt45n', 'coltrane4me', 'colts9016', 'columbo', 'comat0se', 'combatswimmer', 'comeongethoppy', 'comfortablynumb1', 'comingbackdown', 'commandercool', 'commis', 'compass40204', 'conductorbrandon', 'confer', 'connecticutpoet', 'connoisseur', 'conpewter', 'constahoogan', 'cooch69', 'cook76', 'cookedw', 'cookin420', 'coolbrew', 'coolchris1400', 'cooler4life', 'coolitamigo', 'cooncat', 'coonjiggy', 'coonmanx', 'coopbrewer', 'coopd3ville', 'cooperstown', 'coorslitesucks', 'cooter', 'copasetic', 'cope0021', 'copyguyadam', 'corby112', 'corcoranjc', 'cordelia3310', 'corey0212', 'corey23', 'coreyfmcdonald', 'coreylag', 'cornet1', 'coronac23', 'coronajm', 'corporatejim', 'corpulent', 'corsendonkfan', 'coryking', 'corylew', 'coryroth', 'cosberger', 'cosmicevan', 'cosmo4u', 'cosmonick', 'cottone', 'cottonkoozie', 'cotullaguy', 'counselor', 'counterpart9', 'countrocula', 'courtneysd', 'covepark', 'covingtonky', 'cowace2', 'cowboy9from0hell', 'cowens22', 'cowislander', 'coy', 'cozmohollis', 'cpagh', 'cpanossian', 'cpetrone84', 'cpl78', 'cplbeisel', 'cpmau11', 'cpmichael', 'cpn920', 'cpo', 'cpolking', 'cpone', 'cpr2of7', 'cprice5', 'cproioi', 'cps98', 'cptierney', 'cptnjck101', 'cptnspeed1', 'cpz28', 'cr0ckett', 'crabsandbeer', 'cracgor', 'cracker', 'crackerpooch', 'crackmc', 'cradke', 'crafbrewwhore', 'craftaddict', 'craftbeerguy', 'craftfreak', 'cragus', 'craigo19', 'craigowens', 'craigreed', 'cranius', 'crashdavisinoh', 'crashlimo', 'crashoveride', 'crass751', 'cratez', 'crawfow', 'crawlingchaos', 'crayolahalls', 'crayphish', 'craytonic', 'crazeddaffy', 'crazeguy', 'crazybrody06', 'crazyc1', 'crazydiamond21', 'crazyfred', 'crazyivan', 'crazyjoedivola', 'crazynipple', 'crazyreagan', 'crazyyellowfox', 'crazzyf10', 'crckrmn', 'crenegar', 'crestwood37', 'cretemixer', 'crewealexandra', 'crewfan16', 'crhensel', 'crieken', 'crimsoncuda', 'crimsontide1013', 'crispy620', 'critterbug', 'crizmo2352', 'crnipeter', 'cro250klr', 'croc', 'crockdaddy', 'crockett70', 'crocodillonIPA', 'croct', 'crookedhalo', 'crosamich', 'crossovert', 'crowncapcollect', 'crowsoup', 'crs98', 'cruland', 'crumpsbrother', 'crunchiesdad', 'crunkchiggin2002', 'crunkonthereg', 'crushedvol', 'crusian', 'crusty123', 'cruzncomet', 'crvcac', 'crwills', 'cryinginmybeer', 'crzyc', 'crzyd12', 'cs45977', 'csais75', 'csalley2', 'csandsdenver', 'cschepers', 'cschwab', 'csg01752', 'csgreen', 'csheppard', 'csiewert', 'cskysbread', 'csmiley', 'csrbv', 'cstadoln', 'cstanhope555', 'cstayton', 'cstorm', 'csuho', 'cswhitehorse', 'ctbeggs5', 'ctbowman1980', 'ctdeathbrew', 'ctdfalconer', 'ctf12', 'ctfixer', 'ctgui', 'cthcarr', 'cthulu81', 'ctmaiden', 'ctownsoul', 'ctrlfreak', 'cualax23', 'cubang8r', 'cubbyswans', 'cubedbee', 'cubedoggy', 'cubsfan2004', 'cudmud', 'cudowninazbay', 'cueball52', 'cukeman', 'cuksumstu', 'cullen0013', 'cullenvens', 'culver501', 'cunife', 'cupcakequeenie', 'curasowa', 'curbfeetcub', 'curly31989', 'curly80', 'currysage1', 'curtisb8', 'curty42082', 'custardcb', 'cutlaz', 'cutmemick', 'cutout', 'cuttsjp', 'cuzinpete00', 'cvanderwerff', 'cvaypai', 'cvfish', 'cvm4', 'cvoss', 'cvs241', 'cvstrickland', 'cwachtel', 'cwc', 'cwcolby74', 'cwd', 'cwguy5', 'cwjames', 'cwocasio', 'cwok1980', 'cwps48', 'cwsattgast', 'cwylie0', 'cyanrules', 'cyberbmcd', 'cybergear', 'cybermecium', 'cyberstout', 'cyclescott', 'cyco', 'cycoduck', 'cyden', 'cyfan', 'cyguyjg', 'cynical1027', 'cynicgiraffe', 'cypressbob', 'cyraxx', 'cyrenaica', 'cyrock1', 'cyrusthecyrus', 'cyrusthepup', 'czechsaaz', 'czfreeman', 'czmate', 'czoch75', 'd07c0m', 'd0ggnate', 'd1blet', 'd1dane', 'd1ucb4u', 'd2thom', 'd4114', 'dBmV', 'dEM1972', 'daaldridge', 'daaowee', 'daaru', 'dabears', 'dabrews', 'dabruguy', 'daburtman', 'dac', 'dac0152', 'dacrza1', 'dacull', 'dacz76', 'daddycrack', 'dadonabike', 'daedalus', 'daedalusfinch', 'dafizzif', 'dafla67', 'daforrds', 'daftafne', 'dag06001', 'dahlen22', 'dajerzy52', 'dak246', 'dakeller80', 'dakeynr', 'dakid618', 'dalan', 'daledeee', 'daledm1', 'daleleboeuf', 'dalepryor', 'dalherring', 'dali27', 'daliandragon', 'dalimsta', 'dalion037', 'dalkvist', 'dalri', 'damato', 'damiandavila', 'damienblack', 'damifino', 'damndirtyape', 'damnfoolforbeer', 'damon', 'damuraus', 'dan4th', 'danadeny', 'dananabanana', 'danbar', 'danbehr', 'danbristol', 'dancingnancie', 'dancinwillie', 'danczyk', 'dandrews74', 'danedelman', 'danehycr', 'danetaylor', 'danetrain0101', 'danfisher1', 'dangle47', 'danglero', 'dangruver', 'danieelol', 'danielcc', 'danieldavies', 'danielespen', 'danielharper', 'danieljohn629', 'danielocean03', 'danielofthedale', 'danielplainview', 'danielsonc', 'danieltothemax', 'dankanatius', 'dankbrew21', 'dankelsey', 'dankendall8888', 'dankman38', 'dankster', 'danman0125', 'danman83', 'danmcg62', 'danmecum', 'danmouer', 'danneckar', 'dannon71', 'danny013', 'danny2209', 'danny88', 'dannyac', 'dannyancient', 'dannydetox', 'dannyhipps', 'dannyvee', 'dannywest26', 'danoeltico', 'danriverbrew', 'danrodrigue', 'danronian', 'dansett50', 'dansm', 'dansmcd', 'dansteino', 'danstheman', 'dantecl', 'dantheman13', 'danydakid', 'danzyl', 'dao46', 'dapabstfan', 'dar', 'darjoh', 'darkbeerlover89', 'darkbeeronly99', 'darkbegbie', 'darkbrew5', 'darkcarrington', 'darkeststoutman', 'darkfang34', 'darklager', 'darklordlager', 'darkmartin', 'darkmaven', 'darknova306', 'darkside7268', 'darkwise', 'darleys', 'darlinclementine', 'dart147', 'darthmiles', 'darthpeepee', 'darthweef', 'darylvelez', 'dasani', 'dasbootjoe', 'dasenebler', 'dasfunker', 'dashirey', 'dashmartino', 'dasmith52', 'dastrn', 'datalager', 'dataskatt', 'dauss', 'dav', 'dave097', 'dave12285', 'dave1822', 'dave43', 'dave750', 'daveGsus', 'daveatbharti', 'davec004', 'davedahl', 'davednyc', 'davelindquist', 'daveo876', 'daves1186', 'davestar', 'davestripel', 'davesway10', 'davetharave', 'davewade44', 'davewlfpckfan29', 'davewrona', 'davexisxrabid', 'davey', 'davey101', 'daveyb007', 'daveytheformer', 'david131', 'david18', 'david23', 'david370', 'davidaubrey', 'davidboone', 'davidbowers13', 'davidchollar', 'davidexactitude', 'davidf45', 'davidfoley', 'davidfortunato', 'davidhilgen', 'davidjphillips', 'davidlown', 'davidnboone', 'davidshamoon', 'davidt', 'davidvaz', 'davidw987', 'davis66', 'davod23', 'dawatts', 'dawg', 'dawgontap', 'dawwwgs', 'dayswonder', 'daythree16', 'dazdave', 'db27', 'db81', 'dbDaz1017', 'dbONE', 'dbaker61', 'dball', 'dbals', 'dbalsock', 'dbamarsj', 'dbastardman', 'dbatch', 'dbc5', 'dbedway', 'dbek', 'dbennett04', 'dberthia', 'dbexpert', 'dbhall', 'dblinkhorn', 'dblipajunkie', 'dbmata', 'dbmcrorie', 'dbmernin83', 'dboe', 'dbonecc', 'dboon', 'dborginis', 'dbossman', 'dbow56', 'dbraz45', 'dbtoe', 'dc55110', 'dcajero', 'dcall384', 'dcam1437', 'dcamella', 'dcgrp', 'dchester', 'dchew85', 'dciBA', 'dciskey', 'dcloeren', 'dcook11', 'dcosmas', 'dcoux09', 'dcrouanzoin', 'dcrubin', 'dcsoke', 'dcstish', 'dcteas17', 'dctrscola3', 'dcurfman', 'dcx10music', 'dcxxray', 'ddahlen', 'ddallas', 'ddanania', 'ddarden', 'ddarity', 'ddean', 'ddebals', 'ddellarocca', 'ddgrant', 'dditto2', 'ddtprm', 'deBeers', 'deaconblues', 'deaconoflove', 'deaconsmith', 'deadbody', 'deadguykelly', 'deadliest', 'deadmonkees', 'deadonhisfeet', 'deadsquirt', 'deafcat', 'deanhead', 'deano1118', 'deanwilson', 'deapokid', 'deathblosom', 'deathbysuplex', 'deathcab', 'deathdealer666', 'deathonthemounta', 'deathray', 'debaniel', 'decadance', 'decafron', 'decasere', 'deciding39', 'decimator', 'deck05', 'deckjohn', 'decks24', 'decom', 'dedalus', 'dederer', 'dedge85', 'dedrick', 'dedrinker', 'deebo', 'deejaydan', 'deepbass77', 'deepchills', 'deeplennon', 'deepsouth', 'deereless', 'deezbrewz', 'defnofmark', 'defubar', 'deg', 'degerbah', 'degochapa', 'dehsign', 'dejrrma', 'delahani', 'deletedmemory', 'delevy16', 'delicious', 'deliciousdude24', 'deliriumfest', 'deliriumtremens', 'delmarnate', 'delmet', 'delnoche', 'deltamike', 'deltatauhobbit', 'dem', 'demcorhip', 'dementionX', 'demetrius', 'demitriustown', 'demo3210', 'demodave', 'demuzik', 'denali99755', 'denflyr', 'denjen', 'denmah', 'dennarb', 'dennho', 'dennis', 'dennisil', 'denton2221', 'denver10', 'depechemode1983', 'derandscott', 'deranma', 'derbierTeufel', 'derek77', 'derekmorris7', 'derrickt007', 'ders', 'deruiz10', 'derwayne04', 'derwestone', 'descartes', 'deschutesGROWN', 'desertbronze', 'desiderius', 'designergeoff', 'deskim', 'despainmakesbeer', 'detlefchef', 'detroiter', 'detters', 'deuschbag', 'devgolfs', 'deviger', 'devilben02', 'devildog1633310', 'devilduckie', 'devilishprune', 'devils3cups', 'devinoconnor', 'devo', 'dewalt', 'dexcool707', 'dexterk1', 'dexterlovejoy', 'dfbvFBFBDFBDFbVb', 'dfclav', 'dfernandez77', 'dfiliaggi', 'dfillius', 'dfitch81', 'dfolmste', 'dfourh', 'dfranke', 'dfranks', 'dfried', 'dfuller', 'dfunkadillio', 'dgaddis', 'dgallina', 'dgb3', 'dgebler', 'dgfair', 'dgherm', 'dgilks', 'dgm6689', 'dgorski2', 'dgriffis', 'dgrof13', 'dgthompson', 'dgugliuzza', 'dgv0', 'dhannes', 'dhansen68', 'dhartogs', 'dhchatfield', 'dhd1491', 'dherling', 'dhilltop2000', 'dhollar2', 'dhowe', 'dhr', 'dhvnu', 'diabecktic', 'diablo14', 'diabolicaldumbas', 'diakron', 'diamondc', 'diamonddave', 'dick783', 'dickieb', 'dickroop', 'diddly', 'diddyb', 'dieBierStube', 'dieKanone', 'diechipmunk', 'diederich', 'diego', 'diegoangeles', 'diegobonatto', 'diesect20022000', 'dieselboy914', 'dieselmilk', 'dietenhofer', 'diezman', 'digita7693', 'digitalbullet', 'digitalczech', 'digitalhifi', 'digitalketchup', 'digkv', 'digporter', 'digr', 'dill', 'dillweed', 'dimenhetfield', 'dimhof78', 'dimitrius', 'dingo', 'dinnersd', 'dino213aa', 'diomz88', 'dionisio', 'dionysianarbiter', 'dippy', 'dirkchivers', 'dirt825', 'dirtbikejunkie', 'dirtsocks', 'dirtydeadbeat', 'dirtylou', 'dirtyoldtown53', 'dirtyskunk', 'dirvish', 'disastermouse', 'discovolante65', 'dislogik', 'dismal', 'dispholidus1', 'dissectional19', 'distantmantra', 'distichlis', 'ditch', 'ditmier', 'divecj5', 'dividius', 'divination3', 'divineaudio', 'diybrun', 'dizheafta', 'dizknee24', 'dj3001', 'djaeon', 'djamestc', 'djamieson', 'djbow', 'djbreezy', 'djbriane', 'djcrean', 'djcriple420', 'djeffbee', 'djeucalyptus', 'djgray1200', 'djhowell', 'djk7', 'djlilj', 'djmichaelk', 'djmincer', 'djmitche', 'djohnse', 'djoucy', 'djriggs', 'djsmith1174', 'djura', 'djvike', 'djwilson', 'dk83022', 'dkboileau', 'dkeramaty', 'dkfick', 'dkoehler42', 'dkrusekontrol', 'dlamie1', 'dlandry427', 'dlap', 'dleemiller', 'dlefand', 'dlello2', 'dlmatt', 'dlmccabe1', 'dloose', 'dlp1010', 'dluth2', 'dmad50', 'dmamiano', 'dmarch', 'dmbfrat420beers', 'dmbgator', 'dmbgirl', 'dmbsteve', 'dmcbeerington', 'dmfrench', 'dmgnyc', 'dmilo', 'dmits', 'dmk139', 'dmoney03', 'dmortens', 'dmowen', 'dmsohyea', 'dmtaylor', 'dmumper', 'dmvstu', 'dnarx', 'dnichols', 'dnjmed', 'dnolan36', 'dnonchalant', 'dnrobert24', 'dobiechief', 'doboy', 'doc10house', 'docfmf', 'doconnell46', 'docsrock', 'doctchad', 'doctor333', 'doctorjoeyboey', 'doctormo', 'doctortau', 'dodaro', 'dodgerrigo', 'dodgestratus', 'doerickson', 'dog', 'dogbones', 'dogboy', 'dogden3', 'dogfishandi', 'dogfishhead1117', 'dogfishlove120', 'dogfooddog', 'dogfoodman', 'dogger6253', 'dogman', 'dohastmich', 'doho95fu', 'dojobrewco', 'doktorhops', 'dolbex', 'doleeo', 'dolem98', 'dolemite77', 'dolphlungdren', 'dolzan', 'domancr', 'domba007', 'domjwl', 'domtronzero', 'donManguno', 'donaldchapman', 'donatebeerhere', 'donchata', 'dondeez21', 'donius', 'donkeyrunner', 'donmonkey1', 'donnebaby', 'donniecuffs', 'donnyw', 'donotknowme', 'donovanneb', 'donteatpoop', 'dontworrybeh0ppy', 'donutlord', 'doodah', 'dookiepower', 'doopiedoopiedoo', 'doopydoogle', 'doormats42', 'dopehousex3', 'doppelbock', 'doppelbockrob', 'doppelme', 'doppelmeup', 'dopperpod', 'doppler', 'doraex', 'dorianmarley', 'dorjeghost', 'dorsey', 'dortmunder7', 'dotlikeimpact', 'dotsonjamesg', 'doubledslc', 'doubledteague', 'doubleipa', 'doublenickel', 'doubleshovels', 'doucmehu', 'dougfir', 'douggoodavage', 'dough', 'doughanson78', 'dougjonz', 'douglasbarbin', 'douglasr', 'dougmaher434', 'dougofthefuture', 'dougriddle', 'doverhills', 'downes51', 'downhilldrift', 'downlo', 'downpulse', 'dozerdude', 'dozey', 'dpalsinger', 'dpasotti', 'dpaulmiller', 'dpcoz', 'dpd729', 'dpend', 'dpeters', 'dpeteuil', 'dph147', 'dpittard', 'dpjosuns', 'dpkpr', 'dpm12786', 'dpnelson1978', 'dpodratsky3', 'dpool', 'dpsychoholic69', 'dpuia', 'dqderrick', 'dqrull', 'dr23flavors', 'drSmoothie', 'drabmuh', 'draconianhand', 'dracula68', 'dragon0524', 'dragonWhale', 'dragonarcher', 'dragonbrew', 'dragonclan15', 'dragonglen', 'dragonofblood', 'dragonslayerdan0', 'draheim', 'drakelax42', 'draknurd', 'drathbone', 'drawbackwards', 'drbarnes', 'drbeef', 'drbeermd', 'drbenzo', 'drcarver', 'drdr48', 'drea0695', 'dreadnatty08', 'dreamandcream', 'dreamgazer', 'dreamstate7', 'dreed3333', 'dren', 'dretceterini', 'drew2u', 'drew37', 'drewba', 'drewbage', 'drewbudd', 'drewd', 'drewd0g', 'drewdoggydogg', 'drewmprs', 'drewone', 'drewsy', 'drewy813', 'drez511', 'drgarage', 'drgonzo3705', 'drh524', 'drhall61', 'drhinehart', 'drifter29', 'drink1121', 'drinkHoppy', 'drinkalot123', 'drinkandbemerry', 'drinkankuss', 'drinkathon', 'drinkdankbrews', 'drinkeroffortune', 'drinkinhman', 'drinkininthewood', 'drinkirish', 'drinkiusmaximus', 'drinkmybeer', 'drinknewbelgium', 'drinkofczars', 'drinksalotofbeer', 'drinksandeats', 'drinksyrup', 'drizzam', 'drjamyma', 'drjimmy', 'drjones633', 'drkfal', 'drluke21', 'drlumps62', 'drmario47', 'drmike', 'drnknmnky', 'drobo', 'drocpsu', 'droomyster', 'dropkick2356', 'dropout86', 'dropshotmusic', 'drotski', 'drouss48', 'drowland', 'drowninginhops', 'droyce', 'drparilla', 'drpdaddy', 'drperm', 'drpickles', 'drpimento', 'drseamus', 'drtacks37', 'drtampa33615', 'drtth', 'drugsbunny', 'drumenigma', 'drumhaggart', 'drumline', 'drummerben', 'drummermattie02', 'drummerwill03', 'drumminbrewer', 'drummstikk', 'drumnjake', 'drumrboy22', 'drums4matt', 'drumstik', 'drunkboxer1', 'drunkenmonk', 'drunkensailor', 'drunkkelly', 'drunkmonk', 'drunkskunk', 'drxandy', 'dsa7783', 'dsantos', 'dsartwell72', 'dscholl', 'dshawnm', 'dshockey', 'dsigmon', 'dsocaciu', 'dspell13', 'dspoonrt', 'dsprainman', 'dstanmyer', 'dstc', 'dstickel', 'dstrand', 'dsw4b', 'dswyman1', 'dtbr', 'dtceltic', 'dteal1', 'dthomase', 'dtivp', 'dtreindl', 'dual1246', 'dualcitizen', 'dubbletrouble', 'dubc19382', 'dubhlain', 'dubinsky', 'dublife1', 'dubman003', 'duckdown', 'dude', 'dudeandhisrug', 'dudecandle', 'dudelove7485', 'dudemuskie', 'dudeski', 'dudey', 'dudley', 'duece27', 'duells2000', 'duffcalifornia', 'duffextracold', 'duffman000yeah', 'duffmanrob', 'dugaldh', 'duhbled', 'duhrider', 'duicepop', 'duke1258', 'dukedevil0', 'dukew456', 'duluoz', 'dulwich', 'dumbledoom', 'duncan9idaho', 'dungaree', 'dunit697', 'dunleav1', 'dupee14', 'dupreydd', 'duracell', 'durango2005', 'dustified1234567', 'dustinTN', 'dustine', 'dustinjkline', 'dustylong', 'dutchboognish', 'dutchbrew2', 'dutchlq7', 'dv8', 'dvar', 'dvaughn78', 'dvb', 'dvorsd', 'dvotypka', 'dvs112', 'dvsbizzyb', 'dwalters', 'dwarbi', 'dwarf', 'dwarvenfriend', 'dwarvenspirits', 'dwarvenstout', 'dwatson', 'dwaz', 'dwc93086', 'dwclarkson', 'dweideman', 'dwennis', 'dwilkins', 'dwilson01', 'dwpiercetx', 'dwvarner77', 'dyan', 'dye7', 'dyezak', 'dyingwrist', 'dylanmiller', 'dylanrossi', 'dylnthmsn', 'dyoung3', 'dyremohr', 'dza360', 'dzedaschroeder', 'dzni', 'e036109', 'e11a627', 'e11iott', 'e2kmck', 'eCraig', 'eRoc', 'eaglefreak', 'eaglephile', 'eagles22', 'eaglescout48', 'eaglzphan', 'eallured', 'eamays', 'eammmbeer89', 'eandolina', 'earshplitten', 'earthboundagain', 'earthling', 'easement', 'eastwardbloke', 'eat', 'eatabagofbooger', 'eatdrinknbmerry', 'eatsleeprepeat', 'eatyourveggies', 'eaweiss', 'eb003', 'eballard', 'ebby82', 'ebeard2', 'eberkman', 'ebernabe', 'ebin', 'ebin6', 'ebingen', 'ebit', 'ebolden', 'ebraun', 'ebrauser', 'echdk3', 'echoes', 'eckerrob', 'eclaycamp', 'eclectic', 'eclipse54', 'eclipsehts', 'ecoastman', 'ecoboy', 'econ', 'ecooper', 'ecorrado', 'ecrawley', 'ectomorph', 'ecutler1', 'edbeer', 'edbeered', 'edchef1850', 'edchicma', 'eddiebo', 'eddiechilton', 'eddiekop98', 'eddocron', 'edegnan', 'edelweiss', 'edfish', 'edfitzjoneser', 'edgarderby', 'edge5', 'edgelow', 'edgeofcenter', 'edinchapelhill', 'edmastny', 'edmedina', 'edmonan', 'edmonds', 'edmundfitzoil', 'edoetsch', 'edonovan0', 'edrachman', 'edraid', 'edraven667', 'edsanchezz28', 'edskirk3', 'edstirling', 'edthecat', 'eduardoWB', 'eduardolinhalis', 'eduque14', 'edwardearl26', 'edwardeckel', 'edwardhenry', 'edwardhopper', 'edwardk', 'edwino', 'edzilla216', 'eeeesdeweis', 'eeguguy', 'eelriverbrewfan', 'eepopporkahah', 'eerbayman', 'eewhiz', 'ef88', 'efhart', 'efitton', 'egajdzis', 'eganissexy', 'egerlach', 'eggland', 'eggodoom', 'eggplantwiz', 'egreenbery', 'egshaun', 'egy', 'ehagedorn', 'ehammond1', 'eheff', 'ehlpitel', 'eholde', 'ehorn13', 'ehoyme', 'ehudbarniv', 'eijerkamp', 'einar85', 'einmt33', 'einx', 'eisbock1', 'ej285701', 'ejacques', 'ejames', 'ejcat', 'ejeffer11', 'ejimhof', 'ejl4', 'ejquin', 'ejr1953', 'ejyoung', 'ekardz', 'ekempey', 'ekfinn', 'ekmoody', 'eknee', 'ekpyrotic', 'ekstedt', 'elNopalero', 'elandant', 'elars', 'elbowone', 'elcaminodan77', 'elcapitano', 'elcapness17', 'elcervecero', 'electric27', 'electricfields', 'electrified', 'electrojosh', 'elephantrider', 'elfcounsul', 'elflake', 'elgiacomo', 'elginirishpunk', 'elguapo47', 'eliju', 'elinash', 'eliot', 'elitza', 'elizabethfowler', 'eljefe', 'eljefe21', 'ellflle', 'elliot23', 'elliottp', 'ellisdee97', 'ellman', 'elmocoso', 'elmore', 'elniko', 'elpistolero', 'elpollodiablo', 'elreekie', 'elricorico', 'elrom', 'elsinore', 'elton044', 'elvish', 'elvisnj', 'elwood522', 'ely2000k', 'emaciated', 'emagana', 'eman245', 'emancomeith', 'emanon', 'emerge077', 'emericanchaos', 'emersonlane', 'emetib0081', 'emilmuzz', 'emilystrange1', 'emiricius', 'emmasdad', 'emmasrue1', 'emmaxwell', 'emooze', 'emor8t', 'emptywords', 'emre007', 'emsoud726', 'emsroth', 'enaglio', 'ender10', 'endincolorado', 'endorphns', 'endovelico', 'enemyisyou', 'enfield249', 'engagechad', 'engineeringpunk', 'engisch', 'enigmattic122', 'enki', 'enolan24', 'ensign11', 'enso', 'entheogen', 'enzocc', 'eoffdog000', 'eonbluekarma', 'epearson', 'eph', 'epicness', 'epiinephriine', 'epistax', 'epk', 'eporter66', 'ergodyne', 'eric5bellies', 'erica', 'ericalbion', 'ericb5756', 'ericbeer', 'ericduran', 'ericj551', 'ericlawton007', 'ericmorgan', 'ericmunley', 'ericp87', 'ericsdawson', 'ericwgbeer', 'ericwo', 'eriduran', 'erik320', 'erikdwallace', 'erikeifert', 'erikjon', 'erikm25', 'eriknelson65', 'erikwibaeus', 'erindanika', 'ermeis06', 'ernie', 'erok', 'erosier', 'erp2', 'errantnight', 'erratic', 'errica', 'eruckart', 'erwin08', 'erz316', 'es42289', 'esbullsheet', 'escapegoat', 'escapements', 'esch', 'eschbach', 'eschuber', 'eslemarc', 'esperanto', 'esprit', 'essanceofcool', 'essie', 'estefano', 'estelja', 'estereich', 'estereicher', 'esurreal', 'esv', 'etaggie09', 'etenbus', 'eternaljester81', 'eth916', 'etherashe', 'ethon', 'ethosx19', 'etkndr', 'etn3000', 'etxparch', 'eulcedes', 'euro6er', 'euroshark', 'euroslvt', 'euskera', 'evanackerman', 'evanburck', 'evanc', 'evanlarkin', 'evansrdbrew', 'evantwomey', 'eveninghawk', 'everetends', 'everettsbeerguy', 'everfrost', 'everiand', 'evh883', 'evhwolf', 'evilbeefchan', 'evilbunnee', 'evilgeniusluke', 'evilinc', 'evilkalla', 'evilsoda', 'evlu1441', 'evolbob', 'evoljetta', 'evyoung', 'eweneek83', 'ewlarson', 'ewpgolf2', 'ewright', 'ewurm', 'exanimo', 'exciter', 'exitor', 'exlex', 'exodus1369', 'exolinear', 'exonthebottle', 'exparte', 'expatsteve', 'explorer83', 'explosivebeer', 'extralighter', 'exuma11', 'eye2', 'eyeamthewind', 'eyeenjoybeer', 'eyefeelgood', 'eyeheartIPA', 'eyera', 'eyncognito', 'eypmcfg', 'eze153', 'ezperkins2', 'ezpottsy', 'eztommyd', 'f0gg', 'f12', 'f355x3', 'fabiansoliz', 'faernt', 'fahne23', 'fainster', 'fairdinkum2', 'fairway31533', 'fakedelight', 'fakeducks', 'falbom3', 'falcn5', 'falcon1', 'falcon14', 'falcozappa', 'fallboyrappellin', 'fallopia', 'falloutsnow', 'fandgale', 'fank2788', 'fanofbond06', 'far333', 'farHillsBrewer', 'farkus888', 'farlieonfootie', 'faroutadventure', 'farrago', 'farside411', 'fartingdog', 'fartist71', 'fartkowski', 'fascistfaction', 'fastd03', 'fastfwd', 'fastpass17', 'fastsrt', 'fastwrx05', 'fat58hwy', 'fatalbert', 'fatalbert23', 'fatbot', 'fatdog', 'fatherbeer427', 'fatherofgirls', 'fatkahuna29', 'fatmcb1', 'fatmcq', 'fatmusic14', 'fattire513', 'fattyMcbutter', 'fattychubs', 'fattyre', 'faubs', 'fav628', 'fav920', 'fbandc', 'fbinla', 'fbone', 'fbs004', 'fbxdan', 'fcaf', 'fdkayti', 'fdoosey', 'fdrich29', 'fdw3', 'fdxeng', 'fear025', 'fearnloathing', 'federalwine', 'feedmechili', 'feedsasquatch', 'feelmefoam', 'feilb', 'fejlar027', 'felipe2toes', 'felipesegundo', 'feloniousmonk', 'femALEist', 'femmebiere', 'fenwaybeer', 'fergbag', 'fernz18', 'ferrari29', 'ferrisskull', 'fes1', 'festivechicken', 'fetzko', 'fewa', 'feylure', 'fezmeister', 'ffcpa2', 'ffejherb', 'ffenski', 'fff', 'ffking18', 'ficknish', 'fido', 'fields336', 'fightindaman', 'fightingirishcmk', 'fightingwords', 'filabrazilia', 'fillstation09', 'filthyphil', 'finagler', 'findlayfan', 'finepaws', 'fingerlaker', 'fingolfin72', 'finkployd', 'finz925', 'firedog23', 'fireman462', 'firkinhophead', 'fischerr3', 'fishacura', 'fishbrew', 'fishean', 'fisherman34', 'fishtownhxc', 'fitzy21', 'fitzy84', 'fivehoursfree', 'fiveo2270', 'fiver29', 'fixintheworld', 'fizikalbliss', 'fizzy', 'fizzyfred', 'fjordhook', 'fl0w', 'flacks360', 'flag8r', 'flagmantho', 'flaminghomer', 'flanmedic51', 'flannelman808', 'flarnrules', 'flatblack80', 'flatspin187', 'flavorshark', 'fletch1', 'flexabull', 'flexinwext', 'flieg44', 'flike', 'flipper2gv', 'flipshevanel', 'flood', 'floraday', 'flowerysong', 'fltmedic', 'fluffyjenn', 'flyerduke', 'flyingpig', 'flyingspatula', 'flyingv63', 'flyman683', 'flynnc', 'flyphisherman', 'flypn', 'flytyman', 'fmccormi', 'fo1ksguitar', 'fo5s', 'foXXtail', 'foamer', 'foamyhead', 'fobeer', 'fodeeoz', 'foggylovesbeer', 'foggymountainman', 'foil4you', 'foles', 'foles75', 'followfollow162', 'folsomharrier', 'foobeer', 'foofight11', 'foofightingfrog', 'foogerd', 'footballhead771', 'footy802', 'forcedlaughter', 'forrestio', 'forsakenpariah', 'forty', 'fostachild', 'fostah', 'fosterific', 'fostermutt', 'fostwal', 'fountainofyouth', 'foureyedgeek', 'fourkiddad', 'fourplayed', 'foursquare', 'fouty', 'fox227', 'foxbat2500', 'foxfiremike', 'foxmouse23', 'foxmul924', 'fpsdean', 'fragilehearted', 'fragilemacabre', 'frampin', 'francisfrisina', 'francisweizen', 'frank4sail', 'frankbro', 'frankburp', 'frankd97', 'frankdank', 'frankiepop', 'frankld2', 'franksnbeans', 'franktheman', 'frankypoo351', 'frayos', 'frazbri', 'freakinfrog', 'freddiesnow', 'freddpa', 'fredferrell', 'freed', 'freeeekyyy', 'freescribbles', 'freetake2', 'freewheelinbob', 'freewill35', 'frenchblood21', 'frenchtoast1982', 'frequentgear', 'fretlessman71', 'fretspyder68', 'fri3dric3boi', 'frickersticker3', 'friendofthedevil', 'frieralex', 'friesfox5', 'frimairist', 'frndthdevl', 'frog223', 'froggiestomp13', 'froggyfrog', 'froghop', 'frogjamm', 'froglord', 'frognot', 'fromage', 'froman694', 'fropones', 'frosty', 'frostycoldmug', 'fryman', 'fsears', 'fsimcox', 'fsunole', 'fsvan', 'ftsgibson', 'fuchebu', 'fugitive', 'fugitiveinkblot', 'fullsweep', 'funckygibbon', 'funhog', 'funkel81', 'funkendunkel', 'funkengruven', 'funkifiedus', 'funkmaster229', 'funkninja52', 'funkyaudio', 'funkybuddha', 'funkymuppet', 'funkyspunk87', 'funnyface27', 'funwithknives', 'furbs', 'furiousxgeorge', 'futaboots', 'futura123', 'futurefjp', 'futureman69', 'fuzzycasserole', 'fvernon', 'fwine36', 'fx20736', 'g00dness', 'g00ey', 'gab351', 'gabe1989', 'gabe23', 'gabedivision', 'gabeerfan', 'gabeerfanswife', 'gabeerman', 'gabemasiulis', 'gabeshanks', 'gabgab', 'gabrielpicasso', 'gabrielsyme', 'gadlor', 'gafferjohn', 'gainesvillegreg', 'galante27', 'galengueuze', 'gallagherman', 'galland944', 'galleech', 'gam3', 'gamanley', 'gamblor21', 'gameat10', 'gameface23', 'gamwich', 'gangrel7', 'garbanzobean', 'garbercury', 'garchooga', 'garcia2a', 'gardenofsound', 'gargamel01', 'gargonz', 'garp', 'garrettfitz', 'garrettmgruehl', 'garthwaite', 'garuda', 'garyc2112', 'garydemp', 'garylee', 'garylisk', 'garymoose13', 'garymuchow', 'gator0877', 'gatorbreath', 'gatorguy', 'gatorguy813', 'gatorhophead', 'gatorjames85', 'gatornation', 'gatornibs', 'gatorsuf1', 'gau8a', 'gauchebag', 'gaugebozo', 'gavdomdad', 'gavinstoub', 'gavmeconi', 'gawnphishin', 'gayg', 'gazongas', 'gbarbee', 'gbarron', 'gbbass16', 'gbeerletic', 'gbmoore', 'gbontrag', 'gbooch', 'gboy515duo', 'gbpackers84ale', 'gc4hokies', 'gcarl', 'gciccarelli', 'gcpanda', 'gcpxavier', 'gdanieljones', 'gdfan47', 'gdfullwv', 'gdkersey', 'gdodd12', 'gdogalishus', 'gdrakeman', 'gdrydenc', 'gdud14', 'gdw2', 'gearbike', 'gearkraft', 'gecasa', 'geckointhebox', 'geeooff1', 'geepus', 'geetlord', 'geexploitation', 'gellmeister', 'gemhooch', 'genaro', 'geneb', 'genek', 'generallee', 'generalnotsew', 'generationmy', 'genetru', 'gengoro', 'genitempo', 'genog', 'gentlebubbles', 'genuinedisciple', 'geodude', 'geoffersen', 'geoffsaidso', 'geographie', 'geokills', 'geomedic', 'geord', 'georgebrettisgod', 'georgehasara', 'georgekingfish', 'geovitray', 'gerardoguzmanh', 'gerardoluna', 'gerite', 'germanbeer1', 'germaniac', 'gerryd', 'gerrytripel', 'geryeb624', 'gestalt162', 'gestyr', 'getalife2k5', 'getch', 'getgetgettleman', 'getinmebelly', 'getkrunkhoe', 'getoffmylawnbro', 'gezondheid', 'gflo77', 'gford217', 'gfreed', 'gfshoexc', 'gfsufb', 'gfthree7', 'gg69nb', 'ggalex', 'ggaston82', 'ggaughan', 'ggddaaee1', 'ggibson793', 'ggilman', 'ggourde', 'ggrande2676', 'ggroller', 'gh02t', 'ghamal', 'ghaverfield', 'ghebb', 'ghebel', 'ghetto90007', 'ghettobrown', 'ghostdeini', 'ghostee', 'ghostmech007', 'ghostofpaulman', 'ghostwalker', 'ghowehattrick', 'ghscash', 'ghurux86', 'ghuston', 'ghwolf', 'gibby', 'giblet', 'gigaknight', 'gigem2423', 'gigi112086', 'gildobeer', 'gilem', 'gilli24', 'gillis', 'gilman', 'gimmedanger888', 'gimmehead', 'ginemesis', 'ginormousbrain', 'girlfriend', 'gixxerman', 'gixxerrider21', 'gizman609', 'gjh', 'gjoker321', 'gkatsoris', 'gks5004', 'gkunkle', 'glaketek', 'glamphetamine', 'glasscleaner', 'glassjaw25', 'glaze0101', 'glazeman', 'gleefulfiend', 'glennl', 'glib', 'glid02', 'glockf', 'gloobygloob', 'gloriousglo2', 'gluemouth', 'glyng', 'glyphus', 'gmc234', 'gmcfarre', 'gmf1991', 'gmfessen', 'gmhoover', 'gmuller', 'gmw', 'gnargnar', 'gnarlsbarley', 'gnaussea', 'gnbird', 'gnemesis', 'gnoeou', 'gnoff', 'gnuisance', 'goalie33', 'goaliepride', 'goast8127', 'goat000', 'goatgoat', 'goatherder', 'goatse', 'goatsgo2hell', 'goatxpower', 'gobias', 'goblet', 'goblue3509', 'gobucks1', 'godfathermg57', 'godless1one', 'godlessape', 'godsmoldingclay', 'goethean', 'goetta', 'goindownsouth', 'gojo1970', 'golazo', 'goldbot', 'golden1', 'goldeneye', 'goldenflake', 'goldenmonkey1', 'goldennectar', 'goldenpeanut', 'goldold', 'goldsackb2', 'golffan8', 'golfjunkie13', 'golfnbeer13', 'gomejar', 'gonedrinking', 'gonger', 'gonuts31', 'gonzales6', 'gonzo138', 'gonzo46and2', 'gonzogambler', 'gonzogrover', 'goo', 'gooch10186', 'goochpunch', 'goodatbeer', 'goodbyeohio', 'goodbyesoberday', 'goodheflover1280', 'goodmaml', 'goodonezach', 'goodspeed94', 'goofyfootrr', 'googoo1212', 'goom', 'goonster', 'goose13', 'goosewhisperer', 'gopens44', 'gorby10826', 'gorby16', 'gordonsliquor', 'gorilla19', 'gormerik', 'gory4d', 'goryshkewych', 'gos42', 'goschool', 'goster', 'gosurfobx', 'gotbeer', 'gothaicus', 'gotmeashiner', 'gottajiboo2', 'gotweid', 'gouldnash', 'govtmule', 'goz', 'gpatt55', 'gpcollen1', 'gpia7r', 'gpioski', 'gpogo', 'gportale', 'gps2388', 'gpzhumphrey', 'gqfiji', 'gr8brew', 'grac1970', 'gracebeliever', 'graebner3306', 'graffiti62', 'grag', 'graham515', 'grahambo', 'grahamprice', 'gramatton', 'grandq', 'granger10', 'granite', 'grannun', 'granola82', 'grapemaster', 'grapetonix', 'graphia', 'grasshopper', 'grassrootsVT', 'gratedjuice', 'gratefuld', 'gratefulstu', 'graveRacker', 'graveshifter666', 'gravytrain', 'grayburn', 'grayjg', 'graywalker', 'grbennett', 'grcash', 'grdahl', 'greaser', 'great7dividers', 'greatfookin', 'greatkindness', 'greebsnarf', 'greebz', 'greenbean3', 'greenbeaner', 'greenborn', 'greenengineer', 'greengorilla', 'greengourd', 'greenjeff4141', 'greenlab', 'greenlance', 'greenman2112', 'greenmiller', 'greenmonstah', 'greenmountain', 'greenpumas', 'greenreese', 'greenwood143', 'grees20', 'greg202stewart', 'gregalobeer', 'gregb13', 'gregc', 'gregf', 'gregg329', 'greggdogg', 'greggerino', 'greggivan', 'gregmoscetti', 'gregmurer', 'grego', 'gregobrew44', 'gregsandiego', 'gregshead', 'gregy55902', 'greid', 'greshdoghophead', 'greybeardloon', 'greydog', 'greygooose', 'greyvoodoo', 'greywolf', 'grhm', 'grikmok', 'grilledsquid', 'grimbo216', 'grimreeser', 'grindcore666', 'grinreaper31', 'grittlermoomoo', 'grittybrews', 'grizzly700', 'grmarcil', 'groganb', 'grogory', 'grogshopMike', 'gromis', 'groovemonster', 'groovy24', 'grospopperino', 'grote', 'grotonmarketguy', 'grover37', 'grs8313', 'grssmnperez', 'grub', 'grubas', 'gruberbeer', 'gruen', 'grumpy', 'grumpygerman', 'grumpyowl', 'gruvn', 'grynder33', 'gsanstra', 'gsh', 'gshak', 'gskitt', 'gte893m', 'gtermi', 'gtershel', 'gthornton', 'gtlaw', 'gtn80', 'gtochld11', 'gtw4c', 'gubbt', 'guel1977', 'guess98224', 'gueuzegeek', 'gueuzeonhigh', 'gueuzer', 'guild337', 'guinness310', 'guinness33', 'guinness72384', 'guinness9880', 'guinnessdoc', 'guinnessfan', 'guinnessman', 'guinnessnyc', 'guitarcrazy3', 'guitarguy2308', 'guitarmage', 'guitarninja', 'guitarsnbeer', 'gun1now', 'gundys10', 'gunhaver', 'gunick06', 'gunnerman', 'guntherhophead', 'gurpapete', 'gurulegend', 'gus', 'gusbuster811', 'gusdabrew', 'gushov', 'guthrie', 'guyforget', 'guyvershin', 'guywelch2000', 'guzzle211', 'gvbbjfalcon', 'gvntofly05', 'gwfrankpsu', 'gwguest', 'gwong', 'gwood', 'gwpom', 'gxm99', 'gyllenegrrrl', 'gyllstromk', 'gyoder', 'h00dak', 'h0pg0blin', 'hWordsmythe', 'haazer', 'habanero', 'habanosdarklord', 'hacienda', 'hackaxle', 'hackmann', 'hackomal', 'haddon', 'hadesvi', 'haggard1', 'haggis', 'hahahadave', 'hailtotheale', 'halfP1NT', 'halfacres05', 'halfassedjedi', 'halfbeer', 'halfbrewed', 'halfhorsefilms', 'halfpgl', 'halfpintsill', 'halfwaytoheaven', 'halloran4', 'halo21', 'hamilton23', 'hamletmachine72', 'hammer09', 'hammerhead', 'hammy', 'hamrick1', 'hanco005', 'hangclean', 'hangh', 'haningj2', 'hankster77', 'hannydawg', 'hansendc', 'hansgruber', 'happilysurly', 'happy4hoppybeer', 'happybear', 'happybrewer', 'happygnome', 'happyhappyjoyjoy', 'hardrockerdave94', 'hardy008', 'hargettf', 'harkjohnny', 'harlanhu28', 'harley101', 'harleymonster1', 'harmonmsp', 'haroldp', 'harperman69', 'harpo111', 'harpus', 'harris020106', 'harrmatees', 'harryhood1', 'harrymattcody', 'harrymel', 'harsley', 'hartsoet', 'harvester', 'harveystarr', 'hasbeen', 'hashiru', 'hasslerj', 'hastings', 'hathaway78', 'hatrix', 'hattingc', 'haver', 'havoc531', 'hawaiianguy', 'hawks10', 'hawkseven', 'hawksfan82', 'hayalex6', 'haydukeqc', 'hayes31', 'hayesez', 'haygood', 'haywire77', 'haz77', 'hazakaza', 'hb812', 'hbh739', 'hbielawski', 'hbis2gut', 'hchinaski', 'hckyfn9999', 'hdelavega', 'hdf561', 'hdofu', 'hdog09', 'headbucket', 'headhopper', 'headlessbob', 'headlessclown', 'headlessparrot', 'headofmyglass', 'heapofaoatmeal', 'heartofgold', 'heath1agnew', 'heathbaa132', 'heathtm', 'heatmiserSD', 'heavy216', 'heavyblanket', 'hedgiewan', 'hedonist91', 'hedonistjive', 'heebes', 'hefe300', 'hefegrizzly', 'hefehead', 'hefelover', 'hefevice', 'hefeweizbier', 'hefewisseguy', 'hegelec', 'hehndogg', 'heidelbeerg', 'heine1', 'heine21', 'heinekenike', 'heintzer', 'heinzdog9', 'heissebier', 'heliosphann', 'hellbilly', 'hellcatsjg', 'hellfire', 'helloglob', 'helloloser12345', 'hellomcfly', 'hellsing3', 'helmet', 'helmstreet', 'heman1kid', 'hemi611', 'hendecatope', 'hendrix2k', 'henryd30', 'henryspam', 'henrysunset', 'henskejk', 'hensonv', 'herbalist', 'herbg', 'herefordjeep', 'herman77', 'hermes01', 'hermesch', 'hero27', 'herter001', 'hevbus', 'heygeebee', 'heyitsbyron', 'heymikew', 'heynonono', 'heysuz', 'heyta', 'heythere', 'hga2009', 'hgais', 'hgrong', 'hhboulder', 'hickmancase', 'hideous', 'hiflynhamsterman', 'highsam', 'highvoltage61', 'highwa51', 'highwaychile82', 'hiikeeba', 'hijinx', 'hike20', 'hikebikemike', 'hikix', 'hiku7', 'hilbillyinca', 'himmelhuber', 'hindbender', 'hippityhophead24', 'hippityhops85', 'hippk9', 'hitokiri', 'hitter114', 'hiway58', 'hixsonj', 'hmc', 'hmf05', 'hmk22', 'hmmmmmm', 'hmph', 'hobbes2112', 'hobbes2150', 'hobbitking54', 'hobojon', 'hockeyblades', 'hockeydude', 'hockeyhead', 'hockeyzep', 'hodby', 'hodgsongreg', 'hoeferweisen', 'hoegaardenhero', 'hoffan1939', 'hoffman', 'hogansbrew', 'hoggerdog', 'hohnx012', 'hojuwestlake', 'hokies1999', 'holco34', 'holden303', 'hollicetales', 'hollis092', 'hollodonius', 'hollydae77', 'holycrapamoly', 'holyfool22', 'holzmann', 'hombrepalo', 'hombreverde', 'homebrew311', 'homebrewer88', 'homebrewhawk', 'homebrewz', 'homersimpson', 'homersimpson67', 'hondo2160', 'honestdave', 'honeybrewer', 'honkey', 'hoobaga', 'hooch', 'hooligan', 'hooliganlife', 'hoopermcbeal', 'hooplehead', 'hoosier3334', 'hootie', 'hooverw1', 'hopalongglassy', 'hopbar', 'hopburster', 'hopdog', 'hoped', 'hopfacebrew', 'hopfenteufel', 'hopfiend666', 'hopflop', 'hopgoddess76', 'hophead1901', 'hophead1981', 'hophead21210', 'hophead247', 'hophead4', 'hophead5353', 'hopheadben', 'hopheadgirlie', 'hopheadjuice', 'hopheadsal', 'hopheadtony1', 'hophopandaway', 'hophunter', 'hopjack13', 'hopjuicer', 'hopking311', 'hoploaf', 'hoplover82', 'hopluva1', 'hopman333', 'hopmania', 'hopmarx', 'hopmeamadeus', 'hopmonger', 'hopmonkey', 'hopper333', 'hopperhead1984', 'hoppheadIPA', 'hoppough', 'hoppusmaxximus', 'hoppyFreshness', 'hoppybrewer', 'hoppyeverafter', 'hoppygirl', 'hoppyhampy', 'hoppyhobby', 'hoppymcgee', 'hoppymeal', 'hoppyray', 'hoppyserpent', 'hoppyweasel311', 'hopquaffer', 'hoprock', 'hoprocketeer', 'hops1337', 'hops4life', 'hops4me', 'hopsaplenty', 'hopsbreath', 'hopsession', 'hopsgirl35', 'hopshopshops', 'hopslamds', 'hopsleeroy', 'hopsolutely', 'hopstat', 'hopstorm', 'hopstradamus', 'hopsyum', 'hoptimusprim3', 'hoptrip619', 'hoptualBrew', 'hopyardvmp', 'horndecker', 'hornitosmonster', 'horseblanket', 'horshack7', 'hosehead83', 'hoser', 'hossua34', 'hotboyz67129', 'hotliquor', 'hotmanflab666', 'hotmetal', 'hotsidehot', 'hotstuff', 'hotzenklotz', 'houdini', 'houghtrain', 'houma1965', 'housten', 'howandmeg', 'howielong', 'howlinowl', 'howser', 'howsyournipples', 'hrd', 'hreb', 'hrking', 'hrmhrm', 'hrockefeller', 'hseritt', 'hsway', 'htomsirveaux', 'hu5om', 'hubbjm', 'hube', 'hubearth', 'huck1081', 'huffstang', 'hughes1724', 'hughesm4', 'hughjohnson', 'hugopower', 'huguey', 'huhl23', 'hulahoophugs', 'hulmanite', 'humanawho', 'humanbeer', 'humanfactor', 'humanjoe', 'humbleevenstone', 'hummni', 'humuluslupulus8', 'hungerfordj', 'hungryghost', 'hunteraw', 'hunterrose2000', 'huntert', 'hunthearin', 'huricrane47', 'hurleymanvw', 'hurricaneez1', 'hurricaneez2', 'hurricanelars', 'husar', 'huskerdu', 'huskermike12', 'hustlemuscle', 'hustlesworth', 'huxcrunner', 'hworking', 'hwwty4', 'hwy61mb', 'hxcluv', 'hyattdaman', 'hyland24', 'hylton44', 'hyped83', 'hypercraft', 'hyprlt', 'hyuga', 'hyzershot', 'hz23hz23', 'iAmOverrated', 'iBeer16', 'iD9', 'iDrinkAlot', 'iDrinknewglarus', 'iGulp', 'iLovehops23', 'iMcBain', 'iNHaze', 'iPaleAle', 'iRoy', 'iRyan77', 'iSTOLEyourPOPE', 'iSip', 'iSrALE', 'iabeerbaron', 'iadler', 'iambeerviking', 'iamheasyouareme', 'iamjuanvaldez', 'iammatt', 'iamnitrox', 'iamntbatman', 'iamphillipjfry', 'iamsemigloss', 'iamthird36', 'iamtyler', 'ianL', 'ianbev', 'ianjsullivan', 'ianmhall', 'ianorama', 'ianranderson', 'ianrca19', 'ianroodt', 'iasanlee', 'ib7jhurley', 'ibashmuck', 'ibbjamin', 'ibeplato', 'ibrewaletx', 'ibryce', 'ibtuten', 'icculus304', 'iceball585', 'icebergfat', 'icecube', 'icefisherman', 'icehornet', 'icemanrulz', 'icemonkey908', 'icepik', 'icetrauma', 'icetraxx', 'iceviper22', 'icharus84', 'icheadle90', 'ichigodisaster', 'iconoklaztor', 'ictmattb', 'idResponse', 'idarwin', 'iddqd', 'idge', 'idiot', 'idiothek', 'idlepress', 'idrinkitup', 'idunno', 'idurra', 'ifixufly', 'iflah45', 'ifnkovhg', 'ifurlong', 'ig88b', 'igoristanimov', 'igotmilk', 'iguenard', 'ihaveabrain18', 'iheartIPA', 'iheartcraftbeer', 'iheartfreetshirt', 'iheartsheafstout', 'ihoffman', 'ihscout426', 'iiinterstate', 'ikantspel', 'ikats', 'ike4tay45', 'ikonoklast7', 'ilikebeerandski', 'illevor', 'illidurit', 'illinibeerman', 'illinijer', 'ilovebeer84', 'ilovebeer87', 'ilovedabeers', 'ilovesudz', 'iloveyani', 'ilpazzo', 'iluvBA4life', 'imacoug', 'imagese', 'imagineiii', 'imaguitargod', 'imanidiot777', 'imaregularjoe', 'imasickboy', 'imasloth', 'imblane', 'imdw', 'imintune2', 'imkittle', 'immacomputer', 'imn2it', 'imnotadoctor', 'imperialbigswig', 'imperialstout27', 'imperium11', 'importguy', 'imprezawrxsti', 'imrichbeeeatch', 'imwalle', 'in780', 'inane', 'inanimal', 'inathought', 'inbeertruth', 'indeed', 'indesertum', 'indiana1414', 'indiana24', 'indianastoutman', 'indiapaleale', 'industrialswill', 'indy169', 'indybigtom', 'indysamra', 'inebrius', 'ineva', 'infestaxion', 'infi', 'infinitejester', 'inflatablechair', 'inhoc', 'inhoc00', 'inhoclupo', 'inhopswetrust', 'inilegna', 'injuredreserve', 'inlimbo77', 'inman66', 'innersanctum', 'inpursuitofhops', 'insaneshow', 'insomnboy', 'inspektor', 'instantlunch', 'instrumentality', 'intensehops', 'intensify', 'interrogatrix', 'inthebeeraisle', 'introvertedone', 'invertedrdm', 'inxy', 'iohovah', 'iokals', 'iowaero', 'iowaherkeye', 'ipa7djh', 'ipa88', 'ipacac', 'ipaequalslove', 'ipafool', 'ipaloveit', 'ipaunfiltered', 'ipazilla', 'ipeeale', 'ipogios', 'ipscman', 'irirshsoldier', 'irischmatt', 'irish', 'irish53b', 'irishevans', 'irishgurl4', 'irishismyname', 'irishking1977', 'irishkyle21', 'irishmadness', 'irishman06', 'irishman14', 'irishmoss', 'irishtimepiece', 'irishtjb11', 'irisier', 'irmish', 'iron78', 'ironarrow42', 'ironbike1', 'ironchefchris', 'ironin', 'ironlung', 'irrevjim', 'irs', 'is11amtooearly', 'isaac', 'isaacpopp', 'isaiahcutright', 'isitsavage', 'isjohnder', 'iskivolkl', 'islandboi8204', 'isleroyale', 'ism', 'iso', 'ispeakfree', 'israel', 'israelleoni', 'isthatbeer', 'isthisme2', 'isualum12', 'isubsmith', 'itch135', 'itcomesnpints', 'iterationzero', 'itfaculty02', 'itfitz', 'ithacabaron', 'itlnstallion11', 'itp', 'itsagoodpicture', 'itsfreeasinbeer', 'itsmemandave', 'itsopy', 'itsromy', 'iubball', 'iuhoosier336', 'iuhophead87', 'ivan52', 'ivanwatling', 'iwantmorehops', 'iwantsomerocks', 'iwanturgrlfrnd', 'iwrs', 'ixodus', 'izombie', 'izzybeer', 'j2johnst', 'j37geogaddi', 'jDictionary', 'jDoubleU', 'jIsh', 'jUmB0', 'jab5161', 'jabel9', 'jabergess', 'jables7', 'jabocu', 'jabswitch', 'jack11c', 'jackhammer54', 'jackhig', 'jackie7787', 'jacklovesbeer', 'jackndan', 'jackofclubs', 'jackorain', 'jacksback', 'jackscrow', 'jacksonattack', 'jackthewelshman', 'jacob1226', 'jacob4999', 'jacobseyb', 'jacwomyn', 'jadejaws', 'jadpsu', 'jag0007', 'jag21', 'jagoffyinzer', 'jahannah', 'jahdan', 'jaheussner', 'jahickerson', 'jahilgen', 'jahlers', 'jahred', 'jahrun', 'jahsausage', 'jaialainut', 'jajablon', 'jakdracula', 'jake19drinks', 'jake87', 'jakeblues', 'jakekohut', 'jakelamotta', 'jakenunes', 'jakester', 'jakeyb', 'jakon', 'jakpot', 'jal30', 'jale', 'jalexanderhood', 'jaluria', 'jamdugan', 'jameaterblues', 'james1968', 'jamesashley', 'jamescain', 'jamesclark', 'jamescott', 'jamesdantes13', 'jamesdergen', 'jamesdr1968', 'jamesfrazer', 'jameskennedy', 'jamesm7485', 'jamesmbirchnyc', 'jamespub', 'jamesrobertson86', 'jamestsanders', 'jameswaldo', 'jamex', 'jamie2dope', 'jamiejohnson', 'jamiesessions', 'jammalamma', 'jammapamma', 'jampics2', 'jamsmad', 'jamusblack', 'janegrimaldi', 'jangotaurus', 'jantonius', 'janubio', 'japcmiller', 'japetus', 'jar2574', 'jaredvanderview', 'jarmby1711', 'jarraine1980', 'jarrettskibeer', 'jarryd', 'jarsh', 'jarspag04', 'jas0n50', 'jas30060', 'jaschones', 'jascox2', 'jashall99', 'jasmith', 'jasongootjes', 'jasonguit', 'jasonhender', 'jasonjlewis', 'jasonm', 'jasonmac', 'jasonmason', 'jasonpeckins32', 'jasrbrd', 'jastack', 'jaster', 'jault52', 'jaustin72403', 'javahwy', 'javaj79', 'javajeep1972', 'javatime', 'javelinarhae', 'javenbohall', 'javier', 'javincik', 'jawstone', 'jaxl', 'jaxon53', 'jay11284', 'jay52', 'jayavery', 'jayb', 'jayc333', 'jaycount', 'jayczar', 'jaydanahy', 'jayfarley3', 'jayhawk73', 'jayjay1976', 'jaymesbawned', 'jaymirage', 'jaymyers', 'jaypetermen', 'jayrod20', 'jayt206', 'jaytwo', 'jaz', 'jaz58', 'jazappi', 'jazer', 'jazzbone', 'jazzmac', 'jazzmanblue', 'jazzsmokes6786', 'jazztoloc', 'jazzyjake', 'jazzyjeff13', 'jb413', 'jbails007', 'jbakajust1', 'jballeng', 'jbarber1534', 'jbart', 'jbartlett89', 'jbase', 'jbbjr0387', 'jbcook311', 'jbear725', 'jbeaver', 'jbennett1919', 'jbertsch', 'jbhuxley', 'jbiafra', 'jbie', 'jbird1023', 'jbjohnso', 'jblo', 'jbm5', 'jbmorch', 'jboib82', 'jbonapar', 'jbone78', 'jboucher', 'jbowers56', 'jbphoto88', 'jbramley', 'jbrewer3', 'jbriggs7036', 'jbro', 'jbro434', 'jbsg02', 'jbsmth', 'jbsteiny', 'jbuddle', 'jbull', 'jburgo', 'jburns4', 'jbwrb', 'jbye4334', 'jc85', 'jcalabre', 'jcantrall', 'jcarper', 'jcartamdg', 'jcd2010', 'jcdgoad', 'jcdiflorio', 'jcghys', 'jchaney1', 'jcharlesmith', 'jchelf', 'jchow79', 'jcipa88', 'jcivetz', 'jckp64', 'jclone', 'jclovebrew', 'jclzony', 'jcm8756', 'jcmotz', 'jcnd9803', 'jcompton', 'jcoolgroove', 'jcpaulun', 'jcreegan', 'jcrizzle', 'jcrow97', 'jctribe25', 'jctull', 'jculler82', 'jcurtis55', 'jcw', 'jcw122', 'jcwenzel1', 'jczn', 'jd6stringman', 'jda007', 'jdaelhousen', 'jdanoff', 'jdavin', 'jdb8507', 'jdbuck', 'jdcollens', 'jdcomposer', 'jde123', 'jdeason', 'jdefont', 'jdense', 'jderflinger', 'jdetpsteel', 'jdflyer06', 'jdg204', 'jdgainor', 'jdhende', 'jdhilt', 'jditty', 'jdizzel', 'jdklks', 'jdlarkins', 'jdlaughead', 'jdm', 'jdmcel', 'jdmdrummer', 'jdmorgan', 'jdnovato', 'jdoherty', 'jdoncbus', 'jdoolin', 'jdrio', 'jdrury245', 'jds1469', 'jdskinns', 'jdspears41', 'jdub24', 'jdubjacket', 'jduffy21', 'jdweaver2', 'jealousmonk', 'jeanbenetti', 'jebert', 'jeburgdo', 'jed', 'jedahan', 'jeddsp', 'jedel', 'jedi77', 'jedschlueter', 'jedtheavenger', 'jeepboy76', 'jeeper2000', 'jeepreppert', 'jeepurz', 'jeff1973', 'jeff2486', 'jeff5451', 'jeffaz02t', 'jeffbearer', 'jeffbeck', 'jeffboo', 'jeffbrister', 'jefferyc', 'jefferz5000', 'jeffjeff1', 'jeffjfindley', 'jeffmart22', 'jeffmonarch', 'jeffpip', 'jeffreydurbin', 'jeffreyobrien', 'jeffry', 'jeffsala', 'jeffsket', 'jeffthecheff', 'jeffwhit', 'jegillikin', 'jegross2', 'jejingo', 'jekemp', 'jekka', 'jellis00', 'jellycabbage', 'jelsdad', 'jelsen', 'jenama', 'jenbys2001', 'jenitivecase', 'jenny7', 'jennyp', 'jennyrobot', 'jennyweanbean', 'jeonseh', 'jeortizrubi', 'jepflast', 'jera1350', 'jeranbrews', 'jerbaugh', 'jeremiahjsmith', 'jeremy13586', 'jeremy2027', 'jeremy93', 'jeremyd365', 'jeremyk00', 'jeremyn', 'jerlleutz', 'jermar', 'jermc68', 'jerradep', 'jerryc123', 'jerryj', 'jerryjeff', 'jerrymiller', 'jerryphil1', 'jerseyemt', 'jerseyguy', 'jerseyjoe', 'jerseyshore5', 'jerskine', 'jesey', 'jeshii', 'jesperm', 'jessecarr', 'jessecollins', 'jessejamesorez', 'jessycho', 'jester27lax', 'jester5120', 'jesushorse', 'jetfanzee', 'jethro479', 'jethrodium', 'jetpilots1', 'jettjon', 'jewbank', 'jewel942', 'jewski', 'jf2', 'jf60657', 'jfdean', 'jfisher', 'jfitzy78', 'jfmorey', 'jfp9198', 'jfr5049', 'jfrancis808', 'jfrank85', 'jfritsch', 'jfro', 'jfunkk79', 'jgagne', 'jgalbjr', 'jgans82', 'jgap', 'jgasparine', 'jgaston', 'jgbuff', 'jggibbs', 'jgirotto', 'jglazer75', 'jglenn49', 'jgnam', 'jgreenearrow', 'jgurley', 'jhaitsma', 'jhall00', 'jhammel01', 'jhammerly', 'jharrington', 'jhartley', 'jhaven007', 'jhchan', 'jhenderson88', 'jhicks12', 'jhimstedt', 'jhire70', 'jhoban19', 'jhollick', 'jholmes', 'jhonnieG', 'jhp40219', 'jhreginaldi', 'jhscarborough', 'jhtipton', 'jhu1995', 'jhubeifc', 'jhughb', 'jhughes23', 'jhyatt', 'jibbyvonjibb', 'jifigz', 'jifranz', 'jiggahertz', 'jii', 'jikvig', 'jillmart', 'jim102864', 'jim1904', 'jim45804', 'jimboeric', 'jimbomill', 'jimbotrost', 'jimboween', 'jimbus', 'jimcmiller2003', 'jimdkc', 'jimhonnaker', 'jimhowardsmith', 'jimiboi', 'jimifranchise', 'jiminindy', 'jimithebeerguy', 'jimiv73', 'jimixr', 'jimj21', 'jimland', 'jimlin', 'jimmaay', 'jimmothy86', 'jimmy82063', 'jimmydfrompa', 'jimmys3rdEye', 'jimmytheleg', 'jimmyvegas', 'jimnolimit', 'jimray', 'jims4210', 'jimsimply', 'jimspivey8', 'jisom123', 'jizdepski', 'jizfiasco', 'jj21', 'jj311', 'jjamieson36', 'jjanega08', 'jjansen', 'jjayjaye', 'jjazz', 'jjboesen', 'jjboyd', 'jjchristiano', 'jjfancybeers', 'jjflash20', 'jjh19', 'jjhbrfdds', 'jjhuffo', 'jjjeremy', 'jjkatter', 'jjkindalli', 'jjmunro', 'jjohnnyj', 'jjohnson', 'jjshowal', 'jjsleeper', 'jjubinvi', 'jjudge', 'jkaiser150', 'jkanavel', 'jkane101', 'jkaufman', 'jkbusman', 'jkc88', 'jkcurran99', 'jkdrummer', 'jkeane22', 'jkeller', 'jkempe11', 'jkempton', 'jkendrick', 'jkgraham', 'jkk109', 'jklinck', 'jknotwell', 'jkoogler', 'jkorbes', 'jkpm', 'jkrich', 'jktooley', 'jkwikkel', 'jkwuc89', 'jl8ltj', 'jla12', 'jlandis', 'jlannon', 'jlapennas', 'jlaplume76', 'jlb307', 'jlb502', 'jlenik', 'jlervine', 'jletts', 'jlewin', 'jlh8643', 'jlindros', 'jlipski', 'jlmarshall', 'jlmjl', 'jlpayne', 'jlpepper13', 'jlpred55', 'jlpressel', 'jlpryan', 'jlruthven84', 'jm1229', 'jmacdaddy2008', 'jmackeen', 'jmacpher', 'jmadrigal2', 'jmagnus87', 'jmalex', 'jman42', 'jman892', 'jmapple111', 'jmarc559', 'jmarklan', 'jmarsh123', 'jmarvin4189', 'jmatthew', 'jmaur345', 'jmbranum', 'jmc44', 'jmcgnn', 'jmdrpi', 'jmeador85', 'jmerloni', 'jmeyers78', 'jmfc8237', 'jmh210', 'jmhart', 'jmich24', 'jmichaeldesign', 'jmichaelp', 'jminsc76', 'jmjackson6880', 'jmkleymann', 'jmkratt', 'jmmakare', 'jmont1962', 'jmooy', 'jmp491', 'jmperez', 'jmpizzo', 'jmrydholm', 'jmscott', 'jmshipe', 'jmshulk', 'jmubrewer', 'jmugg', 'jmunsters', 'jmusic', 'jmvecchio1', 'jmw141', 'jmyers89', 'jmz62565', 'jnaz', 'jneiswender', 'jnelriley', 'jnelson54', 'jneuff', 'jnezda', 'jnfs', 'jngle24', 'jniagar1', 'jnm2008', 'jnn4v', 'joannavandenhaag', 'jobcrackerbah', 'jobyone', 'jockoELP', 'jockstrap2234', 'jockstrappy', 'jocosa', 'jodmike2000', 'jodyanthony', 'joe1510', 'joeack', 'joeament', 'joebags', 'joebeerdude', 'joeblackasnite', 'joebrewer', 'joebrewinesq', 'joecast', 'joedon', 'joedougherty', 'joefeidt', 'joefuzz', 'joegerards', 'joegrimes', 'joehawk333', 'joehiatt', 'joehop67', 'joejost', 'joek440', 'joekfsu', 'joekintyhtt', 'joekoolsnoopy', 'joeland', 'joelbb14', 'joeldp144', 'joeldtaylor', 'joellongview', 'joelshults', 'joemacpherson', 'joemcgrath27', 'joemeister', 'joepais', 'joepav92580', 'joeplyr', 'joeren', 'joerodiii', 'joesc230', 'joeshmo21', 'joesixpack', 'joeskirkie', 'joesmithrealname', 'joev', 'joeyels', 'joeykratz', 'joeysmokedporter', 'joeyspit', 'joezak5', 'jogadubwise', 'johannasclimacus', 'johanvond', 'johlendorf', 'johnbarrett', 'johnbjaeger', 'johnbonham1980', 'johncampbell', 'johnd513', 'johndoe8', 'johndrinkspliny', 'johne30587', 'johnfroy', 'johnfurbock', 'johnjuan8', 'johnkale', 'johnmacera', 'johnmichael712', 'johnmichaelsen', 'johnnasset', 'johnniemarg', 'johnnieoz', 'johnnnniee', 'johnnyb3', 'johnnybgood', 'johnnybgood1999', 'johnnyblaze1979', 'johnnybravo', 'johnnydollar', 'johnnygolden', 'johnnyirishman', 'johnnylandmine', 'johnnymoto', 'johnnysky16', 'johnnytfresh245', 'johnpmitchell', 'johnqdiablo', 'johnrf', 'johnrobe', 'johnsaulrubio', 'johnshuster', 'johnsonkr', 'johntangus', 'johntbs', 'johntp', 'johnwarne', 'johnymac2', 'jojomdma', 'jojox', 'jokeefe80', 'jokelahoma', 'jomo', 'jonB', 'jonahjuice', 'jonakerman', 'jonandhisflask', 'jonasfjt51', 'jonb5', 'jonbad19', 'jondeelee', 'jonedm', 'jones140', 'jones3aj', 'jonesy613', 'jonesy77', 'jongillin', 'jongullotti', 'jonkissee', 'jonnylieberman', 'jonnyoyeah', 'jonnypopgun', 'jonstep', 'jonsvws', 'jonvan04', 'jonworth', 'jonziefle', 'jool', 'joozyboozy', 'jophish17', 'jopl', 'jordanblaskey', 'jordankoza', 'jordanmattes', 'jordanmills', 'jordoo', 'jordynelson', 'jorg2619', 'jorjoria', 'josebartz', 'josefnewsong', 'josephoselander', 'josh07039', 'josh239', 'joshbatt', 'joshgambit', 'joshk', 'joshkennedy', 'joshlara', 'joshleo', 'joshmickelson', 'joshmkelly', 'joshmv', 'joshotron', 'joshrob06', 'joshrosborne', 'joshsbeerblog', 'joshstevens87', 'josht', 'joshuaburge', 'joshuacavett', 'joshuadlight', 'joshuaholt10', 'joshuasamantha', 'joshuaseresse', 'joshuatow', 'joshwilliams', 'joshwlt', 'josiahschlender', 'jourdanUGA', 'jovy1097', 'jowilant', 'joyastarr', 'joythief07', 'jozols', 'jp007', 'jp62099', 'jpagewatts', 'jpalarchio', 'jpaltan', 'jpbdeutschland', 'jpbebeau', 'jpelder1', 'jperls', 'jpeterman', 'jpgoodin', 'jph424', 'jpinkard', 'jpiper', 'jpittman80', 'jpkoch1962', 'jpm30', 'jpmclaug', 'jpnasty', 'jpoder', 'jpopejoy', 'jporf911', 'jporter188', 'jpr022', 'jpro', 'jps40', 'jpschouest', 'jpwadd', 'jpweisel', 'jpwild240', 'jpwilliamson', 'jr0d420', 'jr333', 'jradams76', 'jrallen34', 'jrarthur', 'jraycee', 'jrb1001', 'jrbuch', 'jrc01003', 'jrc64', 'jrdegriselles', 'jrebew', 'jred98rt', 'jrehmert', 'jreid53', 'jreitman', 'jrenihan', 'jrenn', 'jrhitchings', 'jrish', 'jrjohnso', 'jrnold', 'jrnyc', 'jrobbyrob', 'jrockstar90', 'jrodvog148', 'jrosene', 'jrsone', 'jrsully77', 'jrtobin', 'jrw5061', 'jsanford', 'jsanto', 'jsapunor', 'jsavino', 'jsbrendle', 'jschmitz', 'jschuster', 'jscondon', 'jscottku21', 'jsdunlop', 'jsed14', 'jseekamp84', 'jsg2220', 'jsgpu90', 'jsgreen16', 'jsh420', 'jsimmons', 'jsimon816', 'jsimons8', 'jsinnott', 'jsisko01', 'jskinner10', 'jskoog', 'jsled', 'jslern', 'jslot38', 'jsm1289', 'jsmurphy', 'jsolack', 'json83', 'jsouza', 'jsp', 'jsp2', 'jspace3', 'jspegg', 'jspooner', 'jsprain1', 'jspruit', 'jss38', 'jss79', 'jssheets', 'jstassi', 'jsteak523', 'jstilwell', 'jstnlowe', 'jstocksazag12', 'jstrahan', 'jsul3155', 'jsulko', 'jswigart', 'jsword25', 'jt31914', 'jt9636', 'jtd1969', 'jte', 'jtell', 'jtfest', 'jthahn', 'jtharrisbeer', 'jtheheist', 'jthomp000', 'jthor018', 'jtierney89', 'jtingue', 'jtinks', 'jtk', 'jtm5044', 'jtmOBX', 'jtneal111', 'jtothamo', 'jtpaperstacks', 'jtrem14', 'jtrockchalk', 'jtschroeter', 'jtslay', 'jtstott', 'jtucker7', 'jtw5877', 'juankzas', 'jubnat', 'juddalovin', 'juhl31', 'juiceboxdotnet', 'juicestam', 'juicy1484', 'juju341', 'juju7', 'jujubeast6000', 'jukeboxbox', 'jukesk9', 'julian', 'julian1117', 'julian89', 'julie1485', 'jumb0jet', 'jungleboof', 'juniorforce', 'junjun', 'junker18', 'junkman203', 'jupe13', 'jushoppy2beer', 'justcas', 'justfranks', 'justiceavocado', 'justin7742', 'justincobb', 'justincolts', 'justinjj1280', 'justinmartz', 'justintcoons', 'justncase80', 'justubean', 'juzy', 'jvajda', 'jvande7', 'jvdineen', 'jvillefan', 'jvlpdillon', 'jvmudd01', 'jvoelker', 'jvonkluck', 'jwalker37', 'jward', 'jwarren2388', 'jwax13', 'jwaybrewben', 'jwc215', 'jwebster412', 'jwellborn', 'jwff', 'jwfleck', 'jwhancher', 'jwhawkins81', 'jwheeler85', 'jwhite1979', 'jwhite82', 'jwillcourt', 'jwilli7122', 'jwilly03', 'jwilson', 'jwinkleblech', 'jwinship83', 'jwjeep1', 'jwjon1', 'jwm232', 'jwoizesk', 'jwolfie70', 'jwpurdy', 'jwweaver77', 'jxboldaslovexh', 'jxg948', 'jxhill', 'jxhowell', 'jyeast101', 'jyuhas', 'jzeilinger', 'jzholloway', 'jzm2500', 'jzmaxson27', 'jzolli', 'jzsams', 'k374', 'k3n', 'k3punk', 'k75', 'k7sw', 'kRaa', 'kaboose72', 'kackerlacka', 'kaelingirl', 'kagent777', 'kahjdfh', 'kaidasz', 'kaimcm', 'kaips1', 'kaiserbrown', 'kajerm', 'kakti', 'kalkavekkian', 'kallay', 'kamiller', 'kangarooAdam59', 'kansascity', 'kansascitytrader', 'kansasjohn', 'kanshiketsu', 'kaos14', 'kappldav123', 'karengarys', 'karin', 'karlbronson', 'karlf', 'karma99', 'karmaghost', 'karros270', 'karst', 'kaseydad', 'kashmir67', 'kashmoney', 'kasper', 'kaszeta', 'katan', 'katdaddy210', 'katelovesbeer', 'katethegreat', 'katieandtodd', 'katiebecck', 'katlynn04', 'katybee', 'kawilliams81', 'kayaeye', 'kayalla', 'kaybort', 'kaydeKat', 'kazmanbrew', 'kazmaniac', 'kb199', 'kballer', 'kbanks13', 'kbeals', 'kbkayla', 'kbm', 'kbnooshay', 'kboett77', 'kbrady9', 'kbraniga', 'kbrinson', 'kbub6f', 'kbuff13', 'kbutler1', 'kbuzz', 'kcbearkat', 'kcbrewfan', 'kcdc', 'kchag', 'kchannel9', 'kcillini77', 'kcinlober', 'kcirtap', 'kcopelan002', 'kcr357', 'kcsc007', 'kcstevens', 'kdales77', 'kdawg105', 'kdb8r4', 'kdiggidy', 'kdmcguire10', 'kdmorse', 'kdoc8', 'kdog630', 'kdorgan12', 'kdp2011', 'kdpark', 'kdpine', 'kdrobb2k', 'kds10011', 'keanex', 'keaston', 'keaton', 'kedlav', 'keeganfrank', 'keenberg87', 'keeper006', 'keeperchaos', 'keepersj12', 'keethrax', 'kegerator', 'kegger22', 'kegstand', 'keifffff', 'keilerdunkel', 'keith712', 'keith98895', 'keithmurray', 'keitho', 'keithricker', 'kekasper', 'kell50', 'kellertrumpet', 'kellog', 'kellsean', 'kellypodz', 'kellyst', 'kellywilson50', 'kels', 'kelticblood', 'kelvarus', 'kemoarps', 'ken2cart1', 'ken3c', 'kenatbeerswap', 'kenco12', 'kenito799', 'kenkochiss', 'kenn', 'kennedymattj', 'kennethska', 'kenneyho', 'kennin', 'kennylopez', 'kennyo', 'kenoftheyear', 'kenpo23', 'kensuthe', 'kent4beer', 'kentawan', 'kenwick', 'keoki182', 'keplertronics', 'kerklein2', 'kernalklink', 'kerouac', 'kershner23', 'ketchepillar', 'kevanb', 'kevd193213', 'kevenw98', 'kevin62', 'kevin718', 'kevinbudd', 'kevinconroy', 'kevindudek28', 'kevinglin', 'kevinhagen', 'kevinhulit', 'kevinjosephlee', 'kevinl6', 'kevinphish', 'kevinv', 'kevman527', 'kevo237', 'kevrob822', 'kexp', 'keydiddy', 'keyn', 'keyrouse', 'keyserkeg', 'keysofebony', 'keytones', 'keytown', 'kflack', 'kflorence', 'kfordham281', 'kfoss99', 'kfsv034', 'kgmurphy13', 'kgotcher', 'kgreen2k1', 'kgrober', 'kgs', 'kguyty', 'khagglund', 'kharaku', 'khd420', 'kheldar', 'khgeffigy', 'khiasmus', 'khill', 'khinman7', 'khoff82', 'khumbard', 'kickapoodude', 'kickert', 'kicktothehead', 'kidcas', 'kiddwhiz', 'kiddynamite920', 'kidhatesyou', 'kifn2', 'kikobcn', 'kilks', 'killthehatred', 'kilustration', 'kimber45acp', 'kimbo33', 'kimcgolf', 'kimd03', 'kimmoa147', 'kindacold', 'kindahungover', 'kindestcut', 'king75', 'kingalthe1st', 'kingchowchowwoof', 'kingcrimson', 'kingcrowing', 'kinged8th', 'kinger', 'kingface', 'kinggeedorah', 'kinghotpants', 'kingjames1', 'kingothewoods', 'kingrob615', 'kingtheater', 'kinnaird', 'kinupanda', 'kipling', 'kirkhorse', 'kirkmichel', 'kirkpjr', 'kirok1999', 'kirschy805', 'kitty66', 'kittylitter', 'kittylover7249', 'kittyplop', 'kittywamp', 'kiwanomelon', 'kiya', 'kizzypuppy', 'kjburrows', 'kjc51478', 'kjcourt', 'kjh5040', 'kjkopenski', 'kjloewe', 'kjlued', 'kjritt', 'kjussel', 'kjyost', 'kk73', 'kkipple', 'kkosmoski', 'kkoz', 'kkrez', 'klaybie', 'kldobbins', 'kleffman', 'kleing', 'klevelandrocks', 'klewis', 'klikger', 'klink40', 'klintok21', 'klk', 'klkatz', 'klow1', 'klshanks', 'kmac101', 'kmacphail', 'kmasi345', 'kmatlack', 'kmbaker', 'kmcnair', 'kmdawber', 'kmelwing', 'kmeves', 'kmk272727', 'kmo1030', 'kmoore149', 'kmpitz2', 'kms399', 'kms910', 'kmsimon', 'kmudrick', 'kmyers1214', 'kneeland', 'knephews', 'knepper', 'knight84', 'knightred', 'knm', 'knofac', 'knowledge', 'knox07', 'knoxtennessee', 'knucks999', 'knullefaen', 'kobainisalive', 'kobe9985', 'kobeer', 'kochea7', 'kohoutek', 'kojevergas', 'kola', 'kolbe', 'konabrewer', 'konadrinker', 'koolchas', 'koolex11', 'koolk', 'koolkat', 'koopa', 'kootermeatman', 'kooy005', 'kopper65', 'korektphool', 'korguy123', 'korndog', 'kosmoraios', 'kotayk', 'koticphreak', 'kozmo', 'kpantz', 'kpcart', 'kpmule', 'kpoole25', 'kpr121', 'kpw1000', 'kpwill07', 'kraken6100', 'kralmatej', 'kramerboy', 'kramerjt', 'kranker23', 'krantul', 'krasznaig', 'kratos69', 'krausenman', 'kraven', 'krawdaddy7', 'krayziejman', 'krazyboi', 'krazycure', 'krazyorange', 'krberg', 'krckrjck', 'krdowney', 'kreeper', 'krendelfish', 'krenjur', 'krequa', 'kripke', 'krisandajt', 'kristenrae8', 'krizzause', 'krkearney', 'krukster', 'krunchie', 'kruse', 'kruthar', 'kry1027', 'kryorkill', 'ksbeernuts', 'ksbrainard', 'kscaldef', 'kshankar', 'kshiemke', 'ksimons', 'kslsc400', 'ksmi116', 'ksmiley', 'kspongeworthy', 'kstokem', 'kstoltz', 'ksullnh', 'ktel', 'ktmaineiac', 'ktrillionaire', 'ktrout', 'ktsaiucla', 'kubilus1', 'kuchen75', 'kueric', 'kuhlektore', 'kundabuffer', 'kundog18', 'kungpao', 'kunstdrache', 'kunzbrew', 'kuranes', 'kurlare', 'kurp001', 'kurtiobst', 'kurtissellen', 'kurtisw', 'kush428', 'kush6875', 'kuykendall', 'kvazzo', 'kvltmetalhead', 'kw24ever', 'kwakwhore', 'kwalters', 'kwc017', 'kwesib', 'kwiik', 'kwill', 'kwjd', 'kwm13', 'kxcdman', 'kyleec', 'kyleelton', 'kyleg', 'kylegillick', 'kylehay2004', 'kylehayworth', 'kyleisdumb', 'kylejohnson03', 'kylemittskus', 'kylephillips', 'kylers', 'kylesobrien', 'kytashie', 'kzczp0', 'kzoobrew', 'l33tNinjaPirate', 'l3ftonm3', 'l4n3', 'labowski', 'lackenhauser', 'lackingfocus', 'lacqueredmouse', 'ladyfirefighter', 'ladygodiva', 'laffinsays', 'lagerbagger', 'lagermanny', 'lagomswedish', 'lagrin', 'laintringulis', 'laituegonflable', 'lakersfan16', 'lakestclairgoose', 'lakevalley', 'lakeviewmike', 'lamarr04', 'lambpasty', 'lamergod', 'laminado', 'lampkins', 'lanamj', 'lanbewardin', 'lancecenter', 'lancecjohnson', 'landonh', 'lanechaffin', 'langcpa', 'langept', 'langfot99', 'langm12', 'lansingj24', 'lantern1977', 'lapbplayr', 'larcoal', 'largadeer', 'largecar73', 'larisonbrew', 'lark', 'larryi86', 'larrytm56', 'larsee01', 'larsenju', 'larstheberserk', 'lastauss', 'lastdoctor', 'lastnightintown2', 'latackbeer', 'latercol', 'laughatdanger11', 'laurennn', 'lavalamp69', 'lavellen', 'lawaaaw', 'lawlerj', 'lawman834', 'lawrence76', 'lawrenceVZ', 'layinbrix', 'laza1979', 'lazjuarez', 'lazy8', 'lazyboy247', 'lazyloser', 'lazyslacker', 'lbaker', 'lbf', 'lbk105', 'lbkornlb14', 'lbower860', 'lcarlo', 'lcbNO', 'lcollis4', 'lcramer', 'leaddog', 'leadguit1', 'leadman', 'leagr', 'leakyfaucet12', 'leansean88', 'leantom', 'lecherous', 'lechowski', 'lechroy', 'ledemie', 'ledomelor', 'ledzepp817', 'leeaa01', 'leeburg', 'leechungsr', 'leecschmidt', 'leedorham', 'leeenglewood', 'leem', 'leepw2313', 'leeswagerty', 'leetyankees', 'lefchr051', 'leftmindedrighty', 'lefty', 'legalpete19340', 'legatovibrato24', 'lehawes', 'lehkost', 'lehows', 'leif86', 'leighton', 'leinie13', 'leipsicbob', 'lemasney', 'lement92', 'lemons', 'lemonwood', 'lenin2040', 'lennerja', 'lenzj247', 'leojharris', 'leokbelo', 'leonjenks', 'les1721', 'lesann87', 'leschkie', 'lespaul006', 'lespaul85', 'lespaulrocker', 'lessthanhadley', 'lestat314', 'lester619', 'letLoose', 'letsgoMets', 'letsgoblue89', 'letsgopanthers', 'letsgopens', 'letsgowhalers', 'letters4jeff', 'letzgo86', 'levbec', 'leviathan85', 'levifunk', 'levir08', 'levurek', 'leweascoba', 'lewis1rg', 'lewis8', 'lewwjr', 'lewybrewing', 'lewzer99', 'lexicondevil', 'lfd807', 'lflesh', 'lfrouse', 'lhaqq', 'lhibbard', 'liabobia', 'liammaloney', 'liamt07', 'libbekat', 'libbey', 'libeerguy', 'libertygrails', 'librarysports', 'liddytime', 'liecker', 'lifebeer', 'lifeboyq', 'lightindarkness', 'lightspeedplus1', 'likestoswallow', 'likethetaste', 'lilbigbudy', 'lilbuddha', 'lilbug09', 'lillearner', 'lilnardey', 'lilp', 'lilwineman', 'limabeverage', 'lincoln44', 'lindenboy', 'linecook12', 'linemanrt60', 'linguicafest', 'linkboy77', 'linnet', 'linusbwell', 'linuxn00b2004', 'lionchow', 'lionking', 'liporto', 'lipschitz', 'liquidcraft', 'liquide', 'liquidluker1', 'liquidnoise', 'liquidsunshine', 'liquorbucket', 'liquoredgoat', 'lisaode', 'lisomiso', 'litheum94', 'litlrch', 'littlebibs', 'littleeguiedo', 'littleg', 'littlekidlover', 'littlelorib', 'littlesgtpepper', 'littleshamrocks', 'littleshovel', 'liveandletdie', 'livedrinkbeer', 'livewire05', 'livewire78', 'livin4jc', 'livingregret', 'ljbrisson', 'ljette', 'ljs61387', 'llitsua', 'lllarzzz', 'llllDrGONZOllll', 'lloyd83', 'llyushin', 'lmdengis', 'lmuir', 'lnashsig', 'lobisser', 'loboD113', 'localhost', 'localone703', 'locarboy', 'locstir', 'locthebloke', 'loftisCT', 'logan0203', 'loganmule', 'logansboat15', 'logdogg', 'logelinjl', 'logicallypositiv', 'logmacschlog15', 'lokicat444', 'lokiikol', 'lolki', 'lollygagr', 'lolo317', 'lolwut', 'london1o1', 'lonestar1836', 'lonestar4lunch', 'long4hops', 'longarm', 'longbongsilver', 'longdivision', 'longpondbeerman', 'longwaytofall', 'loobear', 'lookitsfelias', 'lookitsmp', 'lookslikeabum', 'loosey', 'loozer789', 'lord2408', 'lord2464', 'lordbrad1', 'lordcoltcom', 'lordeche', 'lordfauber', 'lordkman', 'lordofthesox', 'lordofthewiens', 'lordredsnake', 'loren01', 'losdizzel', 'lostandwandering', 'lostbearbrew', 'lostdesperato', 'lostfrost', 'lostsurf24', 'lostwars', 'lotsuvhopsuv', 'lou50rp', 'lou91', 'loukennel', 'loutibbs', 'louturc', 'loveingminor', 'loveitdark', 'loveshischimay', 'lovesoutherntier', 'lovesweatbeers', 'lovethedeadguy', 'lovetranquillity', 'lovindahops', 'loving44', 'lowbrau', 'lowbrau68', 'loweball727', 'lowgear', 'lownote', 'lpayette', 'lpb1970', 'lpdean', 'lph0911', 'lpritchard', 'lr99gt', 'lramsey48', 'lrb23', 'lreice', 'lrntsrg', 'lsfrontman', 'lsholtzen', 'lsrose', 'lstokes', 'ltjska04', 'ltwhiskers', 'luc2057', 'lucasbm', 'lucasj82', 'luchris80', 'luciusgilmer', 'ludachris', 'luecke23', 'lugosi33', 'luigi205', 'luisfrancisco', 'lukeharrison', 'lukekruse1', 'lukester', 'luketerlaak', 'lukymann', 'lumberjackism', 'lumikuuro', 'lunchbox704', 'lungboy', 'lured2fish', 'lurpy1', 'lusciouslambic', 'lush101', 'luvGoldenMonkey', 'luvND', 'luvbeer', 'luvsMeaBock', 'luxbwin', 'lvbs', 'lweaver18240', 'lwhcchh', 'lwillitz', 'lwootton', 'lxCheshireCatxl', 'lykonluck', 'lynchmob9', 'lynchtae', 'lynx1245', 'lyons5223', 'lyonsthe3rd', 'lysistrata', 'lythea', 'lyttleb', 'm1ked', 'm1kekim', 'm2paulun', 'm3shuggah', 'ma121606', 'maawallace', 'mabirch', 'mabs', 'mac56', 'maccroz', 'machinelf', 'machostacos', 'mackd', 'macktbone', 'mackwhitlock', 'macleod', 'macmaster761', 'macpapi', 'macphersonj', 'macrent2', 'macster', 'mactrail', 'macx420', 'madamebeer', 'madarab55', 'madbrewer9', 'maddamish', 'maddmatt48', 'maddmaxstar', 'maddog13lb', 'maddogruss', 'maddydaddy', 'madeindade', 'madelf', 'madeofsteel', 'madjr80', 'madking666', 'madman69', 'madmanjf', 'madmax1775', 'madnick', 'madpentzer', 'madsquish', 'madtappers', 'madtowndmb1', 'madtrixter787', 'madvermin', 'madvoice', 'madwoodee', 'maek228', 'maestrophil', 'maestrotmbg', 'mafeeker', 'mafiasentinel21', 'magget', 'maggotbrain', 'magicgnome', 'magictacosinus', 'magictrokini', 'magikbaker', 'magine', 'magnj', 'magnod', 'magnus', 'magoo0903', 'magoo1960', 'mah0019', 'mahargcornsilk', 'mainlyale', 'maitiuoceallaigh', 'majaqua', 'majesticsock', 'majorhavok', 'makdeco', 'makinbacon', 'makisupa', 'makoshark', 'malabar21', 'malarichm', 'malcolm723', 'malcontent', 'maleman', 'males', 'malibujohnny', 'malloyca', 'mallthus', 'malmquna', 'maltedmilk', 'malthead', 'malthegal', 'maltiavelli', 'maltician', 'maltlikker', 'maltmaniac', 'maltmelon', 'maltmonster', 'maltnhop5', 'maltomeal', 'maltstress', 'maltusaurelius', 'malty', 'maltydog', 'maltymama', 'maltysfalcon', 'malysz7', 'mambiso1123', 'manahansf', 'manbrognig74', 'manchester81', 'mancide', 'mandarin', 'mandolinhomebrew', 'mandoskippy', 'mandudoguyo', 'manfrombadaxe', 'mangledorf', 'maniac', 'manitouman84', 'manja0banja', 'manjanai', 'manko99', 'manleyphoto', 'mannish', 'manofmanners', 'manutd5', 'manwich', 'manzilla86', 'maples', 'mapman97', 'mapofhawaii', 'mapofthedead', 'marble', 'marburg', 'marc77', 'marc956', 'marcel', 'marcellaproust', 'marchoftheclouds', 'marclaurence2000', 'marco', 'marcobrau', 'marcpal', 'marct', 'marcusR111', 'marden74', 'mareth01', 'mareyna82', 'margo', 'mariecupcake', 'marikoangel', 'marinebiostu', 'marinermc', 'marinobrew', 'mariposafan', 'maristfan', 'marjenmiller', 'mark5032', 'markaberrant', 'markas101', 'markb', 'markb33', 'markb40', 'markbatonrouge', 'markboarder', 'markchev', 'markcondit', 'marketesq', 'markferdinand', 'markgugs', 'markhobbs1', 'markjanderson86', 'marklar', 'markman', 'markpiazza', 'markrubbo', 'marksahara', 'markschiedon', 'markskar', 'marksto', 'marksweiner', 'markwise', 'marlinsfan4', 'marmenta', 'marqoid', 'marquinoftroy', 'marrisotter', 'marshallyyz', 'marshmelt', 'marshrat63', 'martincm', 'martinmayhem', 'martja', 'marty21', 'martymc', 'martymoat', 'martyspittler', 'martysullivan42', 'martywest', 'martyyy1', 'marvin213', 'marypha', 'marzen', 'masey222', 'mash4077', 'mashedpotatoes', 'mashmstr2', 'masikon', 'maskaggs', 'maskednegator', 'masonjer', 'masonl', 'massshortage', 'masstransplant', 'mastelma', 'masterallen', 'masterbruewer', 'masterchiefMD', 'masterhomebrewer', 'masterkush', 'masterofchaos', 'mastodonj', 'mat5175', 'mataelbata', 'match1112', 'matchbox9', 'matchz', 'matdot', 'mater', 'mathias', 'matildamd', 'matjack85', 'matracy68', 'matsputis', 'matt062286', 'matt20102', 'matt3lewis', 'matt7215', 'mattXdezzi', 'mattalive', 'mattarnold', 'mattbatt', 'mattbeer', 'mattbell', 'mattbing', 'mattbk', 'mattboyer182', 'mattcomstock213', 'mattcrill', 'mattd017', 'mattdavis452', 'mattdev', 'mattf311', 'mattffrost', 'mattgert', 'mattgreger', 'matthewalee', 'matthewb9', 'matthewduffin', 'matthewfox79', 'matthewfuchs', 'matthewjk', 'mattisloco', 'mattjv', 'mattkooler', 'mattkoon', 'mattloaf1', 'mattman688', 'mattmaples', 'mattmascari', 'mattmcmanus', 'mattmuck11', 'mattocs', 'mattp', 'mattpetti', 'mattpoin', 'mattr20', 'mattsdenney', 'mattsg', 'mattster', 'mattthunder', 'matttttYCE', 'mattviator', 'mattwjones', 'matty', 'matty2790', 'mattyb', 'mattyb319', 'mattyguenther', 'matylight', 'matyp99', 'maui4me', 'maulermithel', 'maundythirsty', 'maurag10', 'mavbrew', 'maven2k', 'mavesba', 'mawacki', 'maximum12', 'maximumsheehan', 'maxk', 'maxpower', 'maxxwelle', 'mayamike', 'maybrick', 'mayor55', 'mayorwalda', 'mazingblue', 'mazstar', 'mbarbuto2002', 'mbarn59', 'mbatley', 'mbbevers', 'mbboc15', 'mbenthall', 'mbjacob', 'mbo34', 'mbradle3', 'mbrady55', 'mbrandon2w', 'mbrasi', 'mbrooks', 'mbrown1102', 'mbrown26', 'mbudner', 'mbulandr', 'mbunje', 'mburkholtz', 'mbusster88', 'mbutter1997', 'mbuzzard', 'mc1775', 'mc98gg', 'mcBrewsAlot', 'mca47', 'mcalceet', 'mcallister', 'mcampanella', 'mcann2pu', 'mcarroll10177', 'mcashby', 'mcaulifww', 'mcb4538', 'mcbSTL', 'mcbackus', 'mcbarry77', 'mcbiydw2', 'mcboi1992', 'mccainca', 'mccarltone', 'mcclurmc', 'mccordbmw', 'mcd333', 'mcdevster', 'mcerka', 'mcfatty23', 'mcfisty', 'mcgeesc', 'mcguirmn', 'mcgwire756', 'mchlipala', 'mci', 'mcintits', 'mckajd03', 'mckemp', 'mckeowbc', 'mclaincausey', 'mclanem', 'mcleester', 'mcleod1455', 'mcmidc', 'mcnabb0001', 'mcnkuckles', 'mcnut', 'mcoh1030', 'mcomben', 'mcowgill', 'mcraw88', 'mcroper', 'mcslain', 'mcslims', 'mcsquint', 'mcstellar', 'mcsweep', 'mcwilson04', 'md311', 'md655321', 'mdagnew', 'mdale13', 'mdalston17', 'mdaschaf', 'mdavis31481', 'mdawson', 'mday', 'mdbdoc', 'mdcrouser', 'mdedwards', 'mdfb79', 'mdhunter', 'mdisher', 'mdkunzman', 'mdm4584', 'mdm46410', 'mdmako', 'mdnowak', 'mdogg', 'mdoyle1', 'mdquigley', 'mdr4669', 'mdresser', 'mdruiz', 'mdubord', 'mdubzfrumpdubz', 'mdumont', 'mduncan', 'mdunman', 'mdup8819', 'mdvatab', 'mdw1980', 'mdwalsh', 'meadhead', 'meatbeagle', 'meathookjones', 'meatmallet', 'meatyard', 'mecell2000', 'mechamifune', 'mechler', 'mechtech', 'meday', 'medic25', 'medic3616', 'medicineman25', 'medicvet66', 'meechum', 'meeekyh', 'meegs', 'meeomie', 'megahurts4', 'megapyro6', 'megatronstein', 'megletaj', 'megsue82', 'meich75', 'meintempe', 'meisburger', 'meister23', 'meisterkirke', 'mejustowen', 'melagnus', 'mello', 'melloashello', 'mellocello2003', 'mellowmark', 'mellowmoocow', 'melmoth100', 'melomel', 'melon123', 'meltinjohn', 'memory', 'mempath', 'memphischas', 'menace', 'mendonjoebeer', 'mendozozoza', 'mentaltraveller', 'mentor', 'mentz99', 'meowmix', 'mephifaust', 'mer191', 'merari', 'merc7186', 'merddyn2002', 'mereed2', 'merlin48', 'merryjoulton', 'merzeone', 'mesadanboogieman', 'mesofat', 'mesperon', 'messyhair42', 'metal850', 'metalhead3', 'metalitool', 'metallistout', 'metaltec15', 'methodius', 'methtlcai', 'metromiami', 'metropolis', 'mets1986', 'metter98', 'mevans05', 'meverbeaver', 'mewanderinghome', 'mexikrainian', 'meyerds', 'mf2004champ', 'mfabian12', 'mfcohiba', 'mfergus3', 'mfg143', 'mfgeorge', 'mfhlucky13', 'mfkr', 'mfleischauer', 'mfloydpink', 'mfreire212', 'mfrogs', 'mfunk9786', 'mgabrielayersu', 'mgaddy', 'mgbickel', 'mgdeth', 'mgeagles', 'mgeraci', 'mghotbi', 'mgmvh', 'mgoblue5743', 'mgobrew', 'mgp2675', 'mgp80', 'mgreenlaw', 'mgy100', 'mhackner', 'mhagan', 'mhatters', 'mhaugan', 'mhaws000', 'mheckman', 'mheide', 'mherring', 'mhewes', 'mhexum', 'mhillard', 'mhoman', 'mhoudeshell', 'mhowell', 'mhpalmer', 'mhraue', 'mht2113', 'mi6234', 'miadw3', 'micahgoldfus', 'micahk', 'micahmax', 'micalj', 'micb', 'michaelbutler', 'michaelc916', 'michaeld23', 'michaelgirvine', 'michaelgrant1983', 'michaelgulden', 'michaelk1985', 'michaelp937', 'michaelpcarney', 'michaelphines', 'michaeltrego', 'michaelwarling', 'michdmb', 'michfan23', 'michiganbeerfan', 'michilovesbeer', 'michizane', 'michultrachick', 'mickeymac', 'mickeyrocs', 'mickmantle', 'mickstepp', 'micmillon18', 'micro108', 'microbrew52', 'micromaniac129', 'micromatt', 'microwavabledish', 'micvin', 'midaszero', 'midcoaster', 'middarobusto', 'midlifec', 'midnite2sixman', 'midweb23', 'midwestbrewers', 'midworken', 'mig78', 'mightyheadbrew', 'mightyhef', 'mightyj', 'mightyjoemoon', 'mightymalt', 'mightymoksha', 'mikaelisu', 'mike1290', 'mike130', 'mike24', 'mike4aker', 'mikeaji', 'mikeal1917', 'mikeale', 'mikebeane', 'mikebeat1', 'mikebiewer', 'mikeborglum', 'mikechance', 'mikecharley', 'mikedashg', 'mikedepue', 'mikedevilsfan', 'mikedgt', 'mikedotnet', 'mikedownstttt', 'mikedrinksbeer2', 'mikeepeck', 'mikefromcanada', 'mikeg67', 'mikegodat', 'mikegreen138', 'mikehartmann45', 'mikehblack', 'mikeissogroovy', 'mikejk305', 'mikejmadden', 'mikejo', 'mikejramsey', 'mikel52588', 'mikelf77', 'mikem0487', 'mikem929', 'mikemcnick', 'mikemoore8711', 'mikeohhh', 'mikepreed', 'mikepthe11', 'mikepuke79', 'mikeracki', 'mikereaser', 'mikeriley', 'mikering', 'mikes2923', 'mikescags', 'mikesgroove', 'mikeshoup', 'mikesreview', 'mikestan06', 'miket163', 'miketd', 'miketizzy28', 'miketyree24', 'mikey711', 'mikeys01', 'mikeyv35', 'miko', 'mikrosnd', 'mikul93', 'miles5000', 'milesfan76', 'milesmayhem', 'milkbaby9', 'milkjunkie666', 'milkthedog', 'millerproject', 'millertime150', 'millertyme71', 'milljs', 'millsn1', 'miltonclipper', 'mimicic', 'mindlucent2007', 'mindspin315', 'mingo1968', 'minion2', 'minishfinish', 'minnesotaryan', 'minnunderground', 'minterro', 'mintjellie', 'minzbigg', 'miollnir', 'miracle1001', 'miramanmike', 'mirdreams', 'mirish72', 'miromanyth', 'misameow56', 'misfit1034', 'mishuggah', 'misinformed', 'miskatonic', 'missdawn', 'missginsu', 'missilesilo', 'missingsense', 'missingtoes', 'mistakebythelake', 'mistaya', 'misterbryanc', 'misterdmac', 'misterdork', 'misterhilleke', 'misterhops', 'misterjeb', 'mistermonkey', 'misterscooter', 'mistersixstring', 'mistygoblin', 'mitche24', 'mitchelsliwa', 'mitchfor3', 'mithrascruor', 'mixcat', 'mixedbrewer', 'mixitchugit', 'mixylplik3', 'mizary', 'mizzoueng', 'mizzouguy', 'mizzourah', 'mj001jk', 'mj71', 'mja07003', 'mjalder2', 'mjarosz', 'mjaseattle', 'mjaskula', 'mjbrewboy', 'mjc410', 'mjd83goblue', 'mjfisher', 'mjforres', 'mjgardner', 'mjgarrett2', 'mjgoode33', 'mjgooner13', 'mjhorn', 'mjl21', 'mjmadden', 'mjmbeer', 'mjn12', 'mjn5036', 'mjnich', 'mjohn27603', 'mjpolzin', 'mjrauch', 'mjrod2142', 'mjrtoo', 'mjryan', 'mjsheehan08', 'mjthor', 'mjtiernan', 'mjurney', 'mjuthewise', 'mjvos', 'mjw06', 'mjw1200', 'mjw2808', 'mjwoolley33', 'mjyoung', 'mk3', 'mkabull', 'mkanesalndean', 'mkaplanes', 'mkennedy119', 'mklinger', 'mklooster', 'mkobes', 'mkopera24', 'mkorpal', 'mkostuch', 'mkotsayfan', 'mkraus', 'mkruz', 'mkyle', 'ml67', 'mlarger', 'mlaroche', 'mlasher1', 'mlazzaro', 'mlermontov', 'mleroux21', 'mlhall55', 'mlibby', 'mlounsbury', 'mlstarbuck', 'mltobin', 'mm931c', 'mmager', 'mmahut', 'mmakunas', 'mmatt1', 'mmaubenh', 'mmcary', 'mmcave', 'mmciz', 'mmedina210', 'mmeinhart', 'mmercede', 'mmielnik', 'mmmbeer', 'mmmd925', 'mmmdonuts12000', 'mmmmBEEEER', 'mmmmmbeeer', 'mmmramen', 'mmoore114', 'mmopt', 'mmr012100', 'mmsikora', 'mmthompson33', 'mmtroop1218', 'mmurphy525', 'mmva321', 'mn6', 'mnapier', 'mnbeerfool', 'mnesporov', 'mnfinnkidd', 'mnj21655', 'mnjeff', 'mnovacanes', 'mnrider', 'mnstorm99', 'mntlover', 'mnwags', 'mo197', 'mobbarley1', 'mobettabeer', 'mobius024', 'mobius387', 'mobud', 'mobyfann', 'mobyviacheslov', 'mochabudd', 'mochops', 'mochunk', 'mocktm', 'modernartblues', 'moderndrunkard', 'modernfollies', 'modpod', 'modus', 'moebeer385', 'moester13', 'moger777', 'mogger', 'mogul37', 'mohamedgoldstein', 'mojo437', 'mojopilot', 'moki', 'moklett', 'molegar76', 'molinator', 'mollymcgrue', 'mon0x1d3', 'mondegreen', 'moneytastesbad', 'mongee', 'mongodestroy', 'monitorpop', 'monkaass', 'monkey911', 'monkeybeer', 'monkeybleu', 'monkeybrew', 'monkeybutler', 'monkeylovebeer', 'monkeynaut', 'monkeyonmaibock', 'monkeyrotica', 'monkeytoe', 'monkjuice', 'monkton317', 'monoXcide', 'montageman', 'montauk7', 'montecristo2', 'montypython', 'montyshoewalker', 'moocey', 'moon0', 'mooner', 'moonman00', 'moonstalker', 'moose151', 'moose3285', 'mooseisloose', 'mooselvlt', 'moosemoose', 'mooseo', 'moosington', 'moosiz', 'mopargoof', 'mophie', 'moratorii', 'morayeel', 'morbiddrumer', 'morc', 'morebeerNOW', 'morebeergood', 'morehoppps', 'morenone', 'morimech', 'morseehj86', 'mortarit', 'moshiric', 'mosswill75', 'mostpoetsdo', 'mot2614', 'mothman', 'motleybrew', 'motleybrew2010', 'motor', 'motorcyclemike63', 'motte', 'moulefrite', 'mound909', 'mountaineer99', 'mountdew1', 'mountsnow1010', 'mousley', 'mouth420', 'movieman', 'movingshadow152', 'movingtrain', 'mowowie', 'moyae84', 'moyalva2003', 'moz9', 'mp33pm', 'mpahnke', 'mpcrump', 'mpensworth', 'mperrin', 'mpg2384', 'mphopkins99', 'mpkill', 'mpl2', 'mplum', 'mpm180', 'mportsch', 'mpoulton', 'mpsul2', 'mpulfer89', 'mpyle', 'mralphabet', 'mrand01', 'mrandolph', 'mrandypandy', 'mrasskicktastic', 'mrbeermug', 'mrbeery', 'mrboost', 'mrbosworth', 'mrbowenz', 'mrbrewer', 'mrcarterxxl', 'mrclean20', 'mrdalton', 'mrdrinkypants', 'mrdudesir', 'mreaid', 'mreffuss', 'mrf008', 'mrferranto', 'mrfosters', 'mrfrancis', 'mrfusty', 'mrgnwlkr', 'mrgrandefromage', 'mrgrinch', 'mrgurbik', 'mrhiccups', 'mriracer2', 'mrjimcat', 'mrjordan', 'mrkc', 'mrkipling', 'mrkoss', 'mrkrispy', 'mrkun', 'mrmanning', 'mrmiles', 'mrmin123', 'mrmuskie', 'mrmysterious', 'mrnobody', 'mroberts1204', 'mrotstein', 'mrpicklerelish', 'mrpivo', 'mrpoizun', 'mrpunan', 'mrquartetman', 'mrryanmf', 'mrseano', 'mrsoul12', 'mrstevens', 'mruniverse', 'mrunseen', 'mryuk', 'ms11781', 'ms1madeline', 'msante79', 'msboyd', 'mschenk', 'mschiefelbein', 'mschofield', 'mschroeder7713', 'mschuman', 'msemich', 'msfoster77', 'msgraves', 'mshallah', 'mshannon', 'msjacilynn', 'msmezher', 'msnow34', 'msolar', 'msos945', 'mspeicher73', 'mspivey15', 'msproles', 'msromberg', 'mstenulis', 'mstral', 'mstrudle', 'mstudley', 'mstyne', 'msubulldog25', 'mt5443', 'mtalley999', 'mtanji', 'mtbbaboon', 'mtberry', 'mtbikeguru', 'mtcarr88', 'mteevin', 'mterrence5', 'mtnbikerpa', 'mtoniatt', 'mtrctyjoe', 'mtrentm', 'mtschmitz', 'mtstatebeer', 'mttaylor1066', 'mttfrog13', 'mtucci19', 'mtullius', 'mtwentz', 'mtwhitney', 'mtyrrell', 'mualphapiper', 'mudbug', 'muddyh2oblues', 'muddyriverduck', 'mudhoney', 'mudpuppy', 'mudshark698', 'muffguy4beer', 'muffins', 'mugglesandhops', 'mugoogio', 'muhoboika', 'mulder1010', 'muletrane', 'mullenite', 'mullenpc', 'mully', 'mummbearsfan', 'munchie101', 'munizr22', 'muqingjing', 'murdoch22', 'murphyl', 'murphysbleachers', 'murraydwertman', 'murrayswine', 'murtyman', 'musashi', 'mushu', 'musicforairports', 'musicjustintime', 'musicman575', 'musingmonkey', 'muskabeatz', 'muskiecf', 'must87anggt', 'mustang70', 'mustangguy1989', 'mustinsmitty', 'mustolense', 'mutd8710', 'mutt', 'mutterfudder', 'muttyd', 'mvanaskie13', 'mvasilis', 'mvforegonian', 'mvice001', 'mvmalesci', 'mvreeland', 'mwNMT', 'mwa423', 'mwagner1018', 'mwagner8', 'mwalters', 'mwc115', 'mwclark2', 'mwcory', 'mwcullnane', 'mwearl', 'mweso2000', 'mwhitmer', 'mwilbur', 'mwill7287', 'mwilson85', 'mwlyons02', 'mwolf1024', 'mwolfe', 'mwrecording', 'mwrseeley', 'mwthomas', 'mx13', 'myatomicpolygon', 'mychalg9', 'mydeadguy', 'myhair', 'mykie73', 'mymrnngjckt', 'mynameisbuzz', 'mynie', 'myocean', 'myost88', 'myoung530', 'myown66', 'myownsavior', 'myreflection462', 'mysphyt', 'myspoonistoobig', 'mysteriouspants', 'mytireisfat', 'myxomatosis', 'mzrebiec', 'mzwolinski', 'n00tz', 'n0315', 'n0blep1ls', 'n0rc41', 'n0rmann', 'n1ckels', 'n2185', 'n6zxe', 'n811', 'n8marks', 'n8tron', 'nach0king', 'naderator55', 'nadiezhda', 'nafnikufesin', 'nagyonz', 'nahthan', 'nairb80', 'naiserie', 'nakedchaplain', 'nakedwaffle', 'nambud', 'nanchen', 'nancyWolf', 'nancylunar13', 'nandemo1', 'nanertak', 'nano', 'nanobrew', 'nanzan', 'naproxen', 'narwhale', 'nas5755', 'nas8558', 'nase', 'nashvillebeerguy', 'nasman', 'nassaubeercop', 'nastley3', 'nasty15108', 'nasty31', 'naswan', 'nataku00', 'natasharai', 'nate4g63', 'natedanger', 'natedoggsd', 'natehead', 'natellis', 'natelocc787', 'natemort13', 'naterock', 'natewells', 'natezenmaster', 'nathanho', 'nathanmiller', 'nathanpenny', 'nathanrford', 'nathi', 'nator76', 'nattefrost', 'nattyking', 'naturalnate44', 'navinsula', 'navyman2', 'nazbotica', 'nbanman', 'nbayma', 'nbbd', 'nbblondie', 'nbeattie', 'nboris827', 'nbree00', 'nbrown', 'nc41', 'ncaudle', 'ncbeermonger', 'ncbrewerbun', 'ncfranklin', 'ncfrey', 'ncjoshman', 'ncketchum', 'ncliberal55', 'ncm45', 'ncmussell', 'ncpenrod', 'ncredible1', 'ncstateplaya', 'ncsutton', 'ncurry0', 'ncvbc', 'nd5282', 'ndaug21', 'ndekke39', 'ndillon45', 'ndm502', 'ndolover', 'ndubs360', 'ne0m00re', 'nebula1999', 'necoadam', 'necrat', 'nectar14', 'nectarkeeper', 'nectarofthegods1', 'neddy191', 'neelyjr1', 'neenerzig', 'nefarious13', 'neg007', 'negroobserver', 'nehllah', 'neil', 'neilgavigan', 'nekronos', 'neliam24', 'nelnutter', 'nelser01', 'nelso334', 'nelson4', 'nem2006', 'neo06051', 'neobassman', 'neophilus', 'neorunner', 'neotempest', 'nephilae', 'nephlim', 'nerdnire', 'nerdrocker101', 'nermo', 'nerow', 'nerual511', 'nesta', 'nestafl', 'new200guy', 'new2beantown75', 'newbiebrew', 'newbiegal4beer', 'newbrew001', 'newbrewer111', 'newcastleme', 'newglaruslover', 'newk340', 'newrbrewr', 'newsage', 'newyawker', 'nextdoorkelly', 'nezelrac', 'nflmvp', 'nfo', 'nfr5069', 'ngandhi', 'ngardner', 'ngeunit1', 'ngilbert', 'ngoins200', 'ngs123', 'nhark', 'nhbrewlover', 'nhindian', 'nhopkin', 'nhudson', 'niall', 'niangelo', 'nicdub', 'nicechalice', 'nicefix', 'nicevillebeer', 'nicholas2121', 'nicholasdes', 'nicholasofcusa', 'nicholsbrewing', 'nick76', 'nickadams2', 'nickapalooza86', 'nickc40', 'nickclarson', 'nickd717', 'nickd84', 'nickdago', 'nickeyx', 'nickfl', 'nickfromsacto', 'nickg902', 'nickhiller', 'nickkraft9', 'nickleslie1009', 'nickls82', 'nickmooduh', 'nickmv', 'nickname', 'nicknameddad', 'nickolasp', 'nickoya', 'nickp33', 'nickporjr', 'nicksawick', 'nickshep7', 'nickspagnolo', 'nickss', 'nicksta', 'nicktay', 'nickthegun12', 'nickthetick', 'nickydel', 'nickynick', 'nicnut45', 'nicpetit', 'nidobanddo', 'nige4958', 'nigglesnoosh88', 'nightcrawler', 'nighthawk', 'nightswatch', 'nightwing002', 'nihil2006', 'nihiloexnihil', 'niibuyaa', 'niklas0770', 'niknar', 'niknot', 'nikoelnutto', 'nikok24', 'nikthewerelion', 'nimrod979', 'ninaturner', 'nine05', 'niner9', 'ninetofive', 'ningfan', 'nishar', 'nisjer05', 'nismo80', 'nitemarebrewer', 'niteserver', 'nitro0292', 'nitroterrance', 'nitrotron', 'nivelper', 'nixhecks', 'niz', 'njbcmatt', 'njbeerdinker', 'njbeerlover', 'njbeernj', 'nje123', 'njmoons', 'njpink1887', 'njstoutguy', 'njthebestofme', 'nkersten', 'nklatt', 'nkmu', 'nkronma', 'nkruback', 'nkupras', 'nkurz129', 'nkwarrior', 'nlmartin', 'nlong', 'nmacsata', 'nmbr0ne', 'nmglick', 'nmoreilly', 'nms1987', 'nmyers', 'nniicckkww', 'nobeer4u', 'nocheinsbitte', 'noclue', 'noduckla', 'noel2977', 'noelcb', 'noeldundas', 'nofalltoofar', 'nogoodreason', 'nohead02', 'noirguy', 'nokes', 'noknife', 'noknife83', 'nolimits105', 'nolvar', 'nomad', 'nomar1', 'nomomentwasted', 'noob', 'nopcbs', 'nopucophop', 'norcar', 'nordicman', 'noremorse1', 'normZurawski', 'normyk', 'norsktorsk', 'northaustin', 'northernbrews', 'northyorksammy', 'nortmand', 'norwichboy', 'nosaj442', 'nosbocaj', 'noser', 'noslenwerd', 'nosurrender23', 'notCreative', 'nota', 'notafood', 'notalagerlugger', 'notchucknorris', 'notdan', 'nothingxs', 'notlob', 'notoriousdav', 'notown', 'notsobeersmart', 'notsoprobeer', 'notwolf', 'notyourdadsbeer', 'nouseforotacon', 'nova009', 'novajeepfreak', 'nowaydude', 'nowise', 'noxidgerg', 'np0x', 'npggefvert', 'npotratz', 'nppeders', 'npslaugh', 'nramsburg', 'nrbw23', 'nregitz', 'nriech', 'nrmiller', 'nrpellegrini', 'nrrd', 'nrs207', 'nsabo', 'nschueller', 'nse239', 'nsmartell', 'nsmit17', 'nsp73', 'nspeissegger', 'nsw', 'ntatum', 'ntillemans', 'ntjenn54', 'ntrogdon', 'nubz77', 'nuggetnectar01', 'nuggetsofnectar', 'nuggy', 'nukem5', 'nullforge', 'numbeercruncher', 'number1bum', 'numenor1', 'numerik2012', 'numinorian', 'nursetim', 'nutinajar', 'nutn', 'nutritionalfacts', 'nuttyviking', 'nutzpk', 'nvcjc', 'nvsblman', 'nwelter', 'nwilson023', 'nwshull', 'nyabinghi', 'nycbeerfreak', 'nycjag', 'nycwinter', 'nydalek85', 'nyjets1248', 'nypizzarules', 'nyrangerfan', 'nze', 'o19', 'oakbluff', 'oaktown', 'oaktown99', 'oatmealjunior', 'ob1Katoby', 'oberon', 'oberscrc', 'obireidkenobi', 'objectivemonkey', 'obphoney', 'obrendano', 'obrike', 'obywan59', 'oc0dyc', 'ocbears', 'occtipus', 'oceanman', 'ocelot2500', 'ocmpoma', 'oconman', 'ocpathfinder', 'octo', 'octongue', 'oddfire', 'oddipaman', 'odeed', 'odelay12v', 'odietrying', 'odonnekg', 'odysseus430', 'oejustin', 'oelergud', 'office888', 'ofosho', 'ogasnor', 'oggg', 'oglmcdgl', 'ohFace', 'ohfish', 'ohiobrewtus', 'ohiohophead', 'ohitsbrad', 'ohmybock', 'ohndray', 'ohnoitsthefuzz', 'ohoh', 'ohoove', 'oilhead', 'ojclark', 'ojdidit', 'ojiikun', 'okiebeermaster', 'okieredneck', 'okra', 'olacub', 'oldaleboy', 'oldbarrel', 'oldbutslow', 'oldcrustacean', 'oldefortran', 'oldfashioned', 'oldgranddad', 'oldgrowth', 'oldhippie247', 'oldirtdog', 'oldirtycaffrey', 'oldp0rt', 'oldpinecone', 'oldsailor', 'oldwinger50', 'olegv40', 'olfolxholme', 'olimpia84', 'oline73', 'olldogg', 'ollie78', 'olmatty', 'oloughlinrj', 'oluap', 'olympicgatorade', 'olympuszymurgus', 'omahawk', 'omar', 'omega4132', 'omgshesaboy', 'omi666', 'ommegangpbr', 'ommegoose', 'omnigrits', 'omnihappiness', 'omnipotentuser', 'omniscientcause', 'omnomct', 'omowasu', 'onansalad', 'oneaday', 'onebigword', 'onechordwonder', 'onecrazybreeze', 'onecrazymofo', 'oneeye', 'oneeyedhoolie', 'onefalsemove711', 'onefiveseven', 'onefmatt', 'onehate02', 'onehomesickalien', 'onehoppygirl', 'onehoppypoppy', 'onemanarne', 'oneredarm', 'oneswellfoop', 'onid678', 'onin2', 'onix1agr', 'onmyslide', 'onsite416', 'ontap', 'onthefarside', 'onyxrev', 'oolite', 'oomir11', 'optigon', 'optikon44', 'optimator13', 'optimistictour', 'optiontwo', 'opus111', 'opwog', 'oracle', 'oraclebrewer', 'orangedive', 'orangemoustache', 'orangesol', 'orbitalr0x', 'orcasteve', 'oregonbeerlover', 'oregone', 'oregonskibum', 'oreilly', 'orenand33', 'oreo', 'orfeu', 'orford', 'organicBrew', 'organicbrewer', 'orgymaggotfeast', 'oricon', 'origais', 'originalsin', 'ormuzd', 'orock25', 'orourkebr', 'orsulacp', 'ortsacul', 'orvalrugger45', 'orz', 'oscardog', 'oscarfuentes77', 'osi', 'oskoreien', 'oss68', 'ostavela', 'osubuckeye99', 'osusullins', 'otakuden', 'otersen73', 'oteyj', 'otter114', 'otto251068', 'ottobon100', 'ottovon', 'outdoorbrewer', 'output01x', 'oval', 'ovaltine', 'overfiend1976', 'ovrlrd', 'owessel', 'oxmasterscream', 'oxnard111', 'oysterchef', 'ozmodium', 'ozymandias', 'ozzmoon', 'ozzyCobblepot', 'ozzyfan97', 'ozzyj1', 'p0wn', 'p1nt', 'pBRale', 'pHunbalanced', 'paKIRK', 'pablot71', 'pabstblue78', 'pabstpunk', 'pabstsmear', 'pacbastard', 'pacchef23', 'paceyourself', 'packetgod', 'packetknife', 'packfanben', 'paco1029384756', 'pacothrash', 'padan7', 'padjo1', 'padraig1775', 'paganbeast', 'paganbraeu', 'pagejohn', 'pagoda2112', 'pagv0098', 'pah', 'paigertx', 'paintball363', 'paintedwall', 'paleale40oz', 'palealejeff', 'palehare', 'paleoplant', 'palffyfan', 'pallagust', 'palliko', 'palma', 'palmdalethriller', 'palmer69', 'palmerocity', 'panamaniac', 'pancho27', 'panda14', 'pandashaver', 'pants678', 'papabogen', 'papaganzhe', 'papaglide', 'papaloukas', 'papat444', 'papazulu', 'paperbackfoster', 'paperhurts', 'papollo', 'papsdatank', 'para2504', 'paradigmblue', 'paranoiajack', 'paraquinius', 'parawiss', 'parchedjay', 'parkeak0', 'parris', 'parsleyd12', 'partyworlddave', 'pasdachuri', 'paskinsj', 'passthatpurpyo', 'pastradul', 'patcoffman', 'patelc75', 'patelldp', 'paterlodie', 'patfshortflip', 'patjrooney', 'patm1986', 'patmcd', 'patoakes7', 'patobandito', 'patol8', 'patpbr', 'patra7', 'patreely12', 'patrick16o', 'patrickbateman', 'patrickbohlen', 'patrickenglish', 'patrickf', 'patrickmcstravic', 'patril', 'patriot76', 'patsalvaggio', 'patsliquor', 'patsmith', 'patsofatso', 'pattack', 'pattermj', 'pattyhopp', 'pattym', 'patvibrato', 'paul0311', 'paul0388', 'paulaner', 'paulbommel', 'pauley22', 'pauleyh', 'paulfear', 'paulginva', 'paulie', 'paulieatworld', 'pauliman', 'paulisme', 'pauljmccain', 'paulkramer', 'paulman86', 'paulozanello', 'pauls132000', 'paulthebeerguru', 'paultierney1', 'paulxqx', 'paulyrimz', 'paulys55', 'paulzy', 'pavandal', 'pavyaz19', 'paxchristi', 'paxkey', 'paxson001', 'paxtonthegreat', 'paylay32', 'paytoplay', 'pb342', 'pb9613', 'pb9617', 'pbcanuck', 'pbecsu2008', 'pbj0069', 'pbjclimber', 'pblank', 'pbmcguire', 'pbnagel', 'pbouley', 'pbr85', 'pbrian', 'pburland23', 'pbvikesfan', 'pcalcado', 'pcalvin76', 'pcardillo', 'pcblion', 'pcicere', 'pd360', 'pdangler', 'pdeepak', 'pdgreen', 'pdoran10', 'pdrizzle', 'pdxwhisky', 'peabody', 'peabody81', 'peacebone116', 'peacehammer', 'peacesignmoose', 'peakoil101', 'peanut070478', 'peanutSauce', 'pearljam118', 'peck95', 'pecochran1', 'pedrito', 'peedee', 'peensteen', 'peggyt', 'pegtheamazing', 'pelle79', 'pemulis', 'penguinjive7', 'pennatale', 'pennsybrau', 'pennvan', 'pennywhistle', 'pens44', 'pentathlete', 'penut', 'peoplewithhands', 'peppertopher', 'pepsican', 'pepsidac', 'perchula', 'perfectkaos', 'pernambucoetc', 'perrinvv', 'perrymarcus', 'perryw', 'pershan', 'petacutlasaurus', 'petebritton2003', 'petemckenzie', 'petemorris', 'petemoss14', 'petercmartin1', 'peterg321', 'petergchambers', 'peterittenhouse', 'peterjk', 'peterlovesbeer', 'peterthepiper', 'petitearvine', 'petrochile', 'petroos', 'pettis', 'pez000', 'pezfiend', 'pezoids', 'pfknapp', 'pfrdaly', 'pgaveau', 'pge17', 'pgenius', 'pgenrich', 'pghhead', 'pgroove', 'pgrow', 'ph2001', 'phaiel', 'phantomwyse', 'pharmer', 'phartzog', 'phatcrayonz', 'phatmatt20', 'phattgeek', 'phattysbox', 'pheggeseth', 'phenomenologian', 'phenoumenal', 'phenry', 'phergy', 'pheurton', 'phiberoptik', 'phichifiji00', 'phideltashaggy', 'phil123', 'phil7568', 'philbe311', 'philberinghele', 'philbertk', 'philcast', 'phildorsey', 'philerman', 'philibum13', 'philip1209', 'philipashley', 'philippehb', 'philipquarles', 'philipt', 'phillipzayas', 'philly224', 'phillybeer7779', 'philmath', 'philmont', 'philmorepunk87', 'philobetto', 'philosobeer', 'philphilphil', 'phils93rul', 'phingdong', 'phirleh', 'phishdaly', 'phishgator', 'phishisphunk', 'phishsihq', 'phisig137', 'phisigben', 'phissionkorps', 'phlaptaylor', 'phnphilly', 'phorty', 'phosphoryl', 'photomike', 'photonicgnostic', 'phreak1983', 'phrygian68', 'phunknerd', 'phunkykim', 'pi5porter', 'pibbxtrasucks', 'pielager', 'pieman25', 'pieper', 'pigc', 'pigdog', 'pigpen', 'pigpen55', 'pijiu', 'pik5el', 'pikemark', 'pilgrimskrew', 'pilka', 'pillu', 'pilosays', 'pilotgod', 'pinballwhizard', 'pinkano', 'pinkwheels', 'pinni', 'pinotboy007', 'pinpin', 'pintnhand', 'pintsized', 'pio', 'pioppo', 'pippin925', 'pirate252', 'piratebrewer', 'pirates', 'pisomojado8', 'pitasoup', 'pitbull89', 'pittcamp', 'pittpenguin', 'pittpens', 'pittsburghfw', 'pittvkyle7', 'pitweasel', 'piwodevo', 'pixieskid', 'pixrob', 'pizzahead', 'pjb171', 'pjblurton', 'pjcors', 'pjcummings', 'pjeagles', 'pjenkins1', 'pjohnston007', 'pjroomy', 'pjs234', 'pjwilson', 'pkaeding', 'pkarlisc', 'pkasten', 'pkeigs', 'pkington', 'pl8man49', 'plaid75', 'planetscott', 'plarson', 'plasma', 'plastik', 'plaztikjezuz', 'pleasewearpants', 'plehnus', 'pletnice', 'plexiprs', 'plfahey', 'plinythethirsty', 'ploobs', 'plowe70', 'plrooney', 'plumcrazyfx', 'plusorminus', 'pluto', 'plynthe', 'pmarlowe', 'pmatz2', 'pmb223', 'pmcadamis', 'pmcavena', 'pmccallum86', 'pmcgill10', 'pmkz', 'pmlondrigan', 'pmoore311', 'pmowen', 'pmphil33', 'pmpknface', 'pmsawyer', 'pnaimoli', 'pnewport', 'pnkHoody', 'pnkRed', 'pnkermiz', 'pnwclimber', 'poakman', 'pocketholes', 'pocwolf', 'poetaster', 'poibag808', 'poindexter85', 'pointyskull', 'pojo41', 'pokesbeerdude', 'pokeyrule', 'polakoff', 'poland7', 'polio', 'polisanl', 'politicsandbeer', 'pollard5', 'polloheavy', 'pollox87', 'polskapanda', 'poluti', 'polyester', 'polygman', 'polykarpos', 'ponderos', 'ponymaster', 'poohbah', 'pookiejn00', 'poonamibaxter', 'pooneej', 'poopsey', 'poopstheclown', 'poorblindman', 'pootz', 'popatop', 'popery', 'poporolo', 'poppercherry', 'poppollutesminds', 'poratfinklives', 'porcelli426', 'porcepic', 'poriggity', 'porkinator', 'porksodaboy', 'porntipsguzzardo', 'portajon', 'porter17', 'porterallen', 'porterboy57', 'porterplease62', 'porterwoobie', 'portia99', 'portlyporter', 'posbasso', 'poseidon8118', 'positiverpr', 'posshogg58', 'possumfollower2', 'postalroger', 'poster112', 'postulanTrappist', 'potownbill', 'poundboy', 'pourmeup', 'pournotha1', 'powellmg', 'powerpop', 'powerss13', 'powoo19', 'pphunkdelux', 'ppoitras', 'pradipta', 'prandolph', 'prattmeister14', 'pratyk', 'praufs01', 'prcrawford', 'prdstmnky', 'precurser', 'prep', 'preshamilton', 'presscaught', 'pressman57', 'pretibrwneyez', 'pretzellogic', 'prg1976', 'primo26xx', 'primrose54', 'princesserika', 'prmurphy63026', 'proc', 'procha1970', 'prodgerm', 'professa', 'professorninja', 'profzoom', 'progress518', 'projectflam86', 'promar', 'promethias405', 'properhops', 'prophetofdoom', 'propstm', 'prosit13', 'prosk8er480', 'prosper', 'prostparkbrau', 'protias', 'prototypic', 'prsguitarsr4me', 'prtwin2a', 'pryan64', 'ps42', 'psbmumbles', 'pschul4', 'psdriscoll', 'pseudo', 'pseudojamesdean', 'psinderson', 'psiweaver', 'psk540', 'psnare', 'pstew85', 'psuKinger', 'psuae98', 'psugrad98', 'psujesus', 'psulovesbeer', 'psumjl269', 'psunate', 'psurandy', 'psycho78', 'psychoholicagogo', 'psychosisgnome', 'psychotia', 'psycl0nb', 'psycle', 'psyco1', 'psycroptic', 'psyphin', 'psyphren', 'ptra1004', 'ptykozoon', 'puboflyons', 'pubrunner', 'pubscout', 'pubwiser', 'puckjer', 'puertobrewing', 'puffybh', 'pugdogbeer', 'puggy211', 'pughce', 'pumapal', 'pumarocks', 'pumpkin1', 'pumptrick', 'pumqueen', 'punisher31673', 'punkindrublic50', 'punkrkr27', 'punkrules45', 'punzak', 'purevinegar', 'purflyers', 'purplehatjoan', 'purplehops', 'purpletape', 'putnam', 'puttyman', 'pvignola', 'pvllbum', 'pvo', 'pvs6', 'pvsob', 'pwaldron', 'pweis909', 'pwent', 'pwi03', 'pwoods', 'pwoody11', 'pwrf12', 'pwsoldier', 'pwydra', 'pygmy67', 'pygmylush', 'pyro701n', 'pyrohsmok', 'pyrostic', 'pyrrha', 'pzrhsau', 'q5hj', 'qazelisc', 'qbushido', 'qchic', 'qcitydarkstar', 'qdeguchy', 'qmainracing', 'qpHalcy0n', 'qthompso', 'qua17', 'quad07', 'quaffsalot', 'quafster', 'quasimoto', 'quaybr', 'queenboadicea', 'queyak', 'quidquam', 'quiggibub', 'quikfish13', 'quilty', 'quincyships', 'quincyxg', 'quine', 'quinlin', 'quinnsi', 'quirkzoo', 'quisatzhaderach', 'qwert59', 'r00tarded', 'r0nyn', 'r12ax7', 'r3dsix', 'r3o', 'r3zim', 'r4ballar', 'rCubed', 'rKunda', 'rab53', 'rabbitdeath', 'rabbivj', 'rabidawg', 'rabsten', 'raceon4', 'racer2k', 'racerx', 'raceway40', 'raclark', 'radiator', 'radioscooter', 'radshoesbro', 'raebow', 'raffy313', 'raffy4', 'rafjr00', 'rafuzo', 'ragekage23', 'ragerx', 'ragglefraggle', 'ragnarsword', 'raid765', 'railcaider', 'railman', 'raiser', 'rajendra82', 'ralflord', 'rallison', 'rallisonsho', 'ralphw56', 'ralree', 'raly03', 'ram3139', 'rambojr03', 'ramob1920', 'ramos', 'rampole', 'ramrod666', 'ramseye4', 'ranbeer', 'rand', 'randal', 'randallpink', 'randawakes', 'randjuke', 'random846', 'randomdanger', 'randyrdh', 'randyw41', 'raney', 'rangel2', 'ranger7', 'rangerred', 'raninator84', 'ranneyj2', 'raoulduke37', 'rapayn01', 'rapidsequence', 'rarbring', 'rarevos', 'rarmbris', 'rashbash22', 'rashmore', 'rasta16ry', 'rastaman', 'rastapenguin22', 'rastaysballin', 'raszputini', 'ratatat', 'ratedz', 'ratm4484', 'ratmonkey', 'ratrod53', 'rattech', 'rattleweed', 'ratty918', 'raven3131', 'raverjames', 'raw', 'rawfish', 'rawhydes', 'rawhydes1', 'rawla', 'rawrgasaurus', 'rawthar', 'rayhead86', 'rayjay', 'raym179', 'raymo55', 'raymondofrish', 'raynmoon', 'raznug', 'razorsdescent', 'rbarrett', 'rbartow', 'rbb1010', 'rbbchbum', 'rbd13', 'rbennett0', 'rbettis', 'rbhockeyfan', 'rborthwick', 'rbowser', 'rbrianforrester', 'rbridges01', 'rbrough', 'rc1', 'rcarson', 'rcfunk', 'rchristensen', 'rcoughlin24', 'rcusick', 'rcwhiteky', 'rdailey76', 'rdel444', 'rdeyoung', 'rdickey', 'rdilauro', 'rdkottke', 'rdpoint', 'rdrummer', 'rdub', 'rdunham', 'readbaron', 'realbama', 'realbeerbaron', 'realbrewfan', 'reallyhoppie', 'realmpel', 'rebel1771', 'rebelred', 'rebelthrower', 'rebis1bear', 'rec', 'recons54', 'red80go', 'redbeard', 'redblacks75', 'reddomino', 'redearth329', 'redelephantdane', 'redfire89', 'redjameskidd', 'redleaves', 'redmagik99', 'redmash', 'redmatter', 'redmosquito', 'redneckchugger', 'redneckfarmer', 'rednrag', 'redred', 'redrocker', 'redsahx', 'redsand22', 'redsonja', 'redsox07704', 'redsox3g2', 'redteg02', 'redwolf1', 'redzone3120', 'reeder', 'reedy212', 'reedyjm', 'reeemer', 'reefkeeper99', 'reelwonders', 'reeseb', 'reesepzor', 'reeverbythespeak', 'reezun', 'refurb', 'reg', 'regeimbk', 'reginaldo', 'reginaldx', 'regionrat37', 'regspeir', 'regsucks', 'rehabis4quitters', 'reignsong', 'reilly88', 'reillybeer', 'rel', 'relapse', 'rell', 'rem5', 'rembrant', 'remhaze', 'remllof', 'remmyreel', 'renegadeburger', 'renekraski', 'renniksdb', 'renolayton', 'repeal06', 'reppertmr', 'reppinthe847', 'resirob', 'respeck27', 'ressletr', 'revbdub5446', 'revdrjbob', 'revdrkevind', 'revkibosh', 'revolt914', 'revolution', 'revwib', 'rexbanner420', 'rexbock', 'rexpostal', 'rexrowan', 'rextheone', 'rez0nator', 'rfabian', 'rfbenavi80', 'rfeld137', 'rfgetz', 'rfifer', 'rflickinger', 'rfwerth', 'rgb2807', 'rgbradley3', 'rgcmusic', 'rgctlc', 'rgdgerard', 'rgf001', 'rgirl', 'rgonzo', 'rgopalani', 'rgore', 'rgrace99', 'rgrholmes168', 'rhartogsq', 'rhenning', 'rhett7660', 'rhinos00', 'rhoadsrage', 'rhodamine', 'rhodeska', 'rhollman', 'rhomsy', 'rhong187', 'rhythmguitartz88', 'rhythmpirate', 'ribby', 'riboflavin88', 'ribsfate', 'ric4003', 'ricchezza', 'richago1', 'richalexander78', 'richardrray', 'richdebs', 'richiedog', 'richkrull', 'richmof', 'richtersf', 'rick0776', 'rickalessi', 'rickards9', 'rickcampie', 'rickcheese', 'rickdiaz', 'ricke', 'ricke49', 'rickj34', 'rickmick', 'rickyg', 'rickyleepotts', 'ricodewey', 'riddler4life', 'ridedammit', 'ridglens', 'ridiculous', 'riemenschneider', 'rigdont', 'riggser61', 'riggsley', 'righlander', 'rightbrained', 'righthereisay', 'rightsideways', 'rijanyoung', 'rikjohnson', 'rilbert', 'rileykr', 'rileyn8', 'rings', 'rinhaak', 'riordan93', 'riored4v', 'riotom', 'rippingstyle', 'rissues24', 'ritter57', 'ritzkiss', 'rivalrome', 'rivermapper', 'riversider76', 'riversidetravlr', 'rivertrance420', 'rizzo', 'rizzyo', 'rjfoster', 'rjhaupt', 'rjimlad', 'rjknyy', 'rjlemos', 'rjochman', 'rjohnson258', 'rjonnz', 'rjplumer', 'rjr8', 'rjs', 'rka758', 'rkarhnak', 'rkcrozier', 'rkdangerously', 'rkhaze', 'rkim420', 'rking', 'rkinsella', 'rkowalick', 'rkozicki', 'rkrisstewart', 'rkuhnel', 'rlambert', 'rlb4444', 'rlcnmeyer', 'rlcoffey', 'rlee1390', 'rlk1220', 'rll52485', 'rlparker3', 'rlshep', 'rluser', 'rm0312', 'rmalinowski4', 'rmarra', 'rmasen', 'rmaste6282', 'rmatson', 'rmcandre', 'rmckay09', 'rmclend', 'rmcnealy', 'rmfyeah', 'rmmm16', 'rmody999', 'rmolledo', 'rmoran', 'rmoriar1', 'rmp5s', 'rmwtsou', 'rnidetz', 'roachandroll', 'roadhouse', 'roadk', 'roadraper', 'roan22', 'roar1345', 'rob7870', 'robboyd', 'robbrandes', 'robbrauen', 'robbtjones68', 'robbyc1', 'robclark19', 'robe424', 'robeno', 'robertfulwiler', 'robertjbell', 'robertjohnson', 'robertmarsh', 'robertmitchum', 'robertp1024', 'robg2251', 'robhudson', 'robhunta', 'robinsmv', 'robkeely', 'roblowther', 'robmbrew', 'robmorris31', 'robmpreston', 'robnewhart', 'robnews', 'robobor', 'robocrouch', 'robotagogo', 'robrobrob', 'robsee', 'robsharpe', 'robtedesco', 'robwestcott', 'roccotuna', 'rochetremens', 'rock082082', 'rockdick', 'rocketmotor', 'rocknhocky', 'rockstarnati', 'rockyfire', 'rockytop', 'rodcom', 'roddwolff', 'rodeloper', 'rodenbach99', 'rodeomolester', 'rodney45', 'rodneyfaile', 'rodneyjankins', 'rodrot', 'rodtidwell', 'rogerse2', 'roggae', 'roggichiwa', 'rogueleonardi', 'roguetester', 'rohrbachsfan', 'rojo', 'rokoch27', 'rolandolopez2', 'rolands6', 'roller', 'romanbeerlover', 'rondogmeat1', 'ronhocker', 'ronicking', 'ronniebruner', 'ronny', 'ronzorelli', 'roodie', 'roopy40', 'roosevelt25', 'rootbeerman', 'rorytmeadows', 'roscoehnj', 'rosebud', 'rosenbergh', 'roskelley', 'rosmhuire', 'rossjp', 'rossmcd', 'rossmctostadas', 'rossthefireman', 'rosszimm36', 'rotfl42', 'rothoman', 'rotsaruch', 'roughboyrob', 'roughsax', 'rousee', 'route66pubs', 'rowew', 'rowey77', 'rowingbrewer', 'rpardon7', 'rpbaldwin', 'rpezl', 'rpgman456', 'rpguy4', 'rpkelly', 'rpowell', 'rpstevens', 'rregan', 'rrg1gb', 'rrheisler', 'rrob311', 'rroberts1013', 'rroper25', 'rrski198', 'rrwiltse', 'rsawyer', 'rsdaugherty', 'rseidlitz', 'rsfleming', 'rsgcwhite', 'rsher12', 'rshwayder', 'rslomin', 'rsm', 'rsrenfro83', 'rstone57', 'rsvlbrwr', 'rsween22', 'rsyberg01', 'rtaps', 'rteis', 'rtepiak', 'rtorres80', 'rtratzlaff', 'ruberbox', 'rubicon1983', 'rubyfruit', 'ruck304', 'ruckus232', 'ruckzuck', 'rudeboy916', 'rudolphjacksonm', 'rudyarmand', 'rudylaw', 'rudzud', 'rueyn', 'ruffbrew', 'rugbycritic', 'rugbyfan13', 'rugerj', 'rugger', 'rugirl4u', 'ruination', 'ruinationation', 'ruinsx', 'ruleof72', 'rummy666', 'rundocrun', 'runesead', 'runfoodrun', 'runner440', 'runner72', 'runningjoke', 'runtoglory', 'ruppert2p', 'rushpatrick', 'russellaaron69', 'russellcricket', 'russellgillette', 'russo', 'russpowell', 'russwaddell', 'russwbeck', 'rustan', 'rustrose', 'rustyhamilton', 'rustyhydrant217', 'rustymoore', 'ruthless325', 'rvandint', 'rvdoorn', 'rvonhagen', 'rwathree', 'rwdkosak', 'rwelsh88', 'rwf08', 'rwinzing', 'rwmiscik', 'rwrk42', 'rxdrewthejew', 'rxmaster', 'ryalmighty1', 'ryan1788a5', 'ryan58813', 'ryanblinkbrand', 'ryandurka', 'ryane', 'ryanfitz47', 'ryanfolty', 'ryanismean', 'ryanj87', 'ryank401', 'ryankliles', 'ryanlanders', 'ryanmac06', 'ryanmc', 'ryanms3030', 'ryanobeirne', 'ryanocerus', 'ryanonline', 'ryanpday', 'ryanriot77', 'ryantaussig', 'ryantho00', 'ryantretiak', 'ryantupy', 'rydar', 'rye726', 'ryejo', 'ryguillian', 'ryguy210375', 'ryno09', 'ryno23', 'ryno525', 'ryolz', 'ryoung66', 'ryrust5301', 'ryseone', 'rzoq', 'rzor', 's005jjf', 's1ckboy', 'sabalon', 'sabinelr', 'sablephish', 'sabre666', 'sabrills70', 'saccro', 'sacfly', 'sachsich', 'sacredduck', 'sacrelicio', 'sacullen', 'sadie23', 'sagito327', 'sahib', 'saigashooter', 'sailorastro', 'sailorjacko', 'saintwarrick', 'saj2694', 'salingrye85', 'salisbury', 'salivar08', 'salmonellahead', 'saltydog', 'salukiKMO', 'salvadorwill', 'salvo', 'samadams86', 'samccoy', 'samchaplain', 'samercado', 'samiam32', 'samiamaway', 'samie85', 'samlikesbeeralot', 'sammartin68', 'sammy44', 'sammyadams617', 'sammytag', 'samoblue', 'samriggins', 'samtallica', 'samueladams76', 'samuelzero', 'samwello', 'samyoung', 'sanatar', 'sanderson', 'sandmaker', 'sanjosey19', 'santa109', 'santafr0g', 'santanas95', 'santomark', 'santoslhalper', 'sar50', 'saradad', 'sarahbs', 'sarahspat', 'sardonic', 'sarigianis', 'sarjim51', 'sarquad', 'sarro', 'sartoric', 'saskguy', 'sasky7777', 'sasquatchsb', 'sassacrass', 'satchmo91', 'satowns', 'sauron681', 'saurus', 'savagearms', 'savagewhisky', 'savannahbrooks', 'savnac', 'sawbones420', 'sawyer776', 'saxman75', 'saxomophone', 'saxsays879', 'sayerofthelaw', 'saztheorybook', 'sb3000', 'sb305198', 'sbauer', 'sbe1', 'sbegraft', 'sbennett22', 'sberman77', 'sbiedenkapp', 'sbirny', 'sbkitty', 'sbricker', 'sbrotschul', 'sbry', 'sbw138', 'sc13ntific', 'scaaven', 'scalffd', 'scaliasux', 'scanlonbrad', 'scanman723', 'scanny79', 'scarfacecrowe', 'scarfield', 'scarlet', 'scarletfire79', 'scarnold8', 'scaudill', 'scbrew', 'sccala', 'scelesti', 'schackj', 'schanker21', 'schatzicat', 'scheissekrieg', 'schellsbeer', 'schemb', 'schenked', 'scherbi', 'scherbs', 'schiaveto', 'schiller75', 'schinebd', 'schlazzgraft', 'schlekeborg', 'schleprock', 'schlimenhaumer', 'schmidlove', 'schmidtn', 'schmit01', 'schmitter', 'schmitty6', 'schmoopsbeer', 'schofunk', 'schoolboy', 'schoolcb', 'schoolglue', 'schoolteacher', 'schrist275', 'schro126', 'schroe58', 'schroederm', 'schuim', 'schultzi22', 'schusterbauer', 'schuyhigh', 'schwaeh', 'schwaiger', 'schwemjw', 'scia', 'scifan', 'scinerd3000', 'scluffman', 'scninmer08', 'scoand', 'scobeer', 'scofielj', 'scohen', 'scojo', 'scol', 'scoley32', 'scones', 'scoobybrew', 'scoot1979', 'scooter231', 'scootny', 'scootpolute', 'scoots511', 'scoppi', 'scorched', 'scotch711', 'scotlandsp', 'scott', 'scott27', 'scott451', 'scottblaze', 'scottbrew4u', 'scottbullard', 'scottchesterhall', 'scottford', 'scottfrie', 'scottg', 'scottie369', 'scottmbolt', 'scottoale', 'scotttale316', 'scottum', 'scottwestphall', 'scotty2dope', 'scotty2hotty', 'scottyb88', 'scottyf1', 'scottyg354', 'scottyk04', 'scottypbeer', 'scottyr2', 'scottysgarage', 'scottyshades', 'scotvega18', 'scout', 'scout19d3', 'scout662', 'scratch69', 'scratchchance', 'scratman', 'scray24', 'scredsfan', 'screwcitybeernut', 'screws', 'scriabin', 'scrizo', 'scruffs2', 'scruffwhor', 'scthaden', 'scubachopper', 'scubahood', 'scubapoet', 'scubasteve04', 'scubazook', 'sculls65', 'scuppers', 'scurfie', 'scurvy311', 'scythemk', 'sd273', 'sd2sfbeer', 'sd42790', 'sdaurio', 'sdbaker2', 'sdbielecki', 'sddappstate', 'sdderek', 'sdj5', 'sdmrtn', 'sdmvd6', 'sdockter', 'sdscotty', 'sdsurfer217', 'se7enchurches', 'seabass87', 'seagis', 'seamonster', 'seamunkie', 'seamusmceagan', 'seanbez', 'seanbhudson', 'seancake', 'seand', 'seangroves', 'seanh99', 'seanlanefuller', 'seanluvsbeer', 'seanmhogan', 'seann', 'seanosh', 'seanpachefddfa', 'seanroto', 'seans86', 'seansvoice', 'seanthornton152', 'seanwhite', 'seanyfo', 'seanzion', 'seaoflament', 'searsclone', 'seasmokiee', 'seaweed', 'secondtooth', 'seditionist7', 'seebus', 'seedee17', 'seedsofchaos', 'seesnow3', 'seeswo', 'seetrider', 'seewitheyesshut', 'seh410', 'seinerHellige', 'seitzka', 'seivech', 'sekaijin', 'seldomsthirsty', 'selecter70', 'sellmeagod', 'semibaked', 'semihobo', 'sendsilk', 'sengbing', 'seniorcleaver', 'senojkram', 'senorhuba', 'senorton', 'sensorglitch', 'sentomaster', 'sepharious', 'sequenceman', 'sergeantstogie', 'sergio1va', 'servo12', 'sescallier', 'sespourteille', 'session1979', 'sessioneer', 'sessycuban', 'sestovez', 'setexascustoms', 'seth608', 'sethgale', 'sethmeister', 'sevefan', 'sevenarts', 'sevenredrabbits', 'sever', 'sevineyes', 'sevopie', 'sewald', 'sfair10784', 'sfm08', 'sfoley333', 'sfprint', 'sfreshnock', 'sfsean', 'sfsean28', 'sfz', 'sg3356', 'sgaloob', 'sgblais', 'sgharris', 'sgn4779', 'sgoodship', 'sgoro', 'sgraham4', 'sgrza316', 'sgsmfdoom', 'sgtaxt', 'sgtpepper1', 'sgtpepper420', 'sgy', 'shabbtastic', 'shadesofblack', 'shadow1961', 'shadow7', 'shaebs99', 'shageman331', 'shaggy151', 'shakercuda', 'shalowlou', 'shaman2788', 'shambeano', 'shamrock7', 'shamsoftabriz', 'shamus', 'shanblur', 'shand', 'shand1', 'shandy', 'shanecb', 'shanem', 'shanetemple', 'shangwang', 'shapudding', 'shark262', 'sharkboy', 'sharkdigital', 'sharkheadlasers', 'sharktank', 'sharpy26', 'shaunb81', 'shaunivan', 'shaunpatrick', 'shawn88ob', 'shawndango', 'shawnhooper1973', 'shawnp', 'shawnrdeane', 'shawnsmith1', 'shawnsmith8275', 'shawnw2', 'shbobdb', 'shealoftus14', 'sheathead', 'shehateme', 'sheikyerbouti', 'shellebrownies', 'shep133', 'shererjt', 'shertz', 'shertzogovina', 'shieldsy', 'shiftgorden', 'shiftypenguin', 'shippos', 'shiptoshore', 'shir0043', 'shirfan', 'shishidojo', 'shivtim', 'shlap', 'shlub', 'shmelke', 'shmidtb', 'shmingas', 'shodrod', 'shoduke', 'shoebacca', 'shoehornteeth', 'shoemillhal', 'shoetree', 'shohog', 'shoik', 'shokri', 'shoky01', 'sholland119', 'shoney', 'shoop12', 'shooter24', 'shooter31', 'shooterCO', 'shootncast', 'shootoman', 'shortbus7', 'shortordercook', 'shortsqueeze', 'shorty19', 'shortysdude285', 'shoude', 'showell', 'showpe01', 'shoxroxice', 'shrago', 'shredsofautumn', 'shroompod', 'shrxxm216', 'shuajw', 'shuriyukum', 'shutter', 'shutupdoodah', 'shuv', 'shwhat', 'sicilian', 'sickclown', 'sickpuppy', 'sictyrannis', 'sid', 'sid606licious', 'sidd', 'sideshowrob', 'sidetracked', 'siege06nd', 'sierra11b', 'sierria', 'sigurdurarnor', 'silasdc', 'silasmoon', 'silenius', 'silentbob44', 'silentjay', 'silentnoiz', 'silks636', 'sillajw0', 'sillygas', 'sillyswa', 'silver0rlead', 'silver1audi', 'silver7447', 'silverelizard', 'silverhorn', 'silverlabel101', 'sim0n17', 'simmons', 'simonjohansson', 'simplexiton', 'simpliciter', 'simskl', 'sincereNc', 'singlebarrel', 'sinistermadman', 'sinistersteve', 'sinistrsam', 'sinkfloridasink', 'sinstaineddemon', 'sionanni', 'sippieman', 'siptrip', 'siradmiralnelson', 'sirbelchalot', 'sirbryan21', 'sirdillon', 'sirdrinkwell', 'sirholdthem', 'sirhoward', 'sirk0rebreg', 'sirosler', 'sirpenny', 'sirpsycho', 'sirsaw', 'sirsteve42', 'sirxtasy', 'sisterray', 'sisuspeed', 'sitarist', 'sitbooboosit', 'sixerofelixir', 'sixstring821', 'sixthglass', 'sizzlemc', 'sj660', 'sjambok1', 'sjantiflow', 'sjccmd', 'sjclay00', 'sjh772', 'sjmacdougall', 'sjohansen', 'sjum29', 'sjverla', 'sjwahoo', 'sk8fr3ak27', 'sk8man121', 'sk8photo', 'skabbo', 'skalogre', 'skandha', 'skar', 'skatterbrainz', 'skaughty', 'skee1080', 'skeeordye11', 'skeetermoses', 'skempen', 'skenyon1811', 'sketchcornwell', 'sketchpunx', 'ski271', 'skiboy', 'skibumdc', 'skibumma70', 'skillerified', 'skimyear', 'skineg', 'skinivinny', 'skinny0ne', 'skippynorton2003', 'skittlebrau', 'skivers', 'skivtjerry', 'skizziks', 'sklinger990', 'skolwitz', 'skomahon', 'skotster13', 'skrib09', 'skridgeus', 'skull6969', 'skullsplitter', 'skullx', 'skunk', 'skunkhuffer', 'skutra', 'skuzalbut', 'skwee', 'skybluewater', 'skye', 'skylab', 'skyline31687', 'skynxnex', 'skypup', 'skywalker268', 'skywizzard', 'slackademic', 'slackerlack', 'slagle9480', 'slaintemhor', 'slaman992003', 'slammgrass', 'slammo', 'slando', 'slap', 'slaphappysnark', 'slapstick33', 'slargthorb', 'slash196', 'slasher007', 'slassy', 'slater1313', 'slaters5050', 'slatetupelo', 'slawsonator', 'slayer3604', 'slayerhellfire', 'slc129', 'sld66', 'sleazo', 'sleephowl', 'sleepingbear', 'sleepy10', 'sleestak4life', 'slentz', 'slept', 'slicecount', 'slick0ne', 'slick7rick', 'slickmick22', 'slicknuss', 'slider', 'slimspady', 'slimstout', 'slinhans', 'slinky0390', 'slitherySOB', 'sliv', 'sliverX', 'slk22', 'sloambbr', 'sloejams', 'sloescher', 'slogan', 'sloopy', 'sloppysocks', 'sloucho', 'slowbie', 'slowhand429', 'slowhead', 'sls0210', 'sluggermatt15', 'sluhdrum07', 'slumslum', 'slushthelush', 'slvrmon82', 'slygrin', 'slyke', 'sm007thie', 'sm0key', 'smadsen8486', 'smakawhat', 'smallbatchbrewer', 'sman262', 'smanders', 'smarcoly', 'smarks2327', 'smbslt', 'smc143', 'smchasta', 'smchenry75', 'smcolw', 'smcreator', 'smcyrone', 'sme4r', 'smedley', 'smekermann', 'smellandsip37', 'smellody', 'smellsofstout', 'smerkinb', 'smerrell', 'smg241', 'smh804', 'smibroncos', 'smilingPolitely', 'smilsdo', 'smithdc33', 'smithflipper', 'smithhomebrewing', 'smithza9', 'smitty1080', 'smitty2717', 'smittyjr', 'sml505', 'smm', 'smokeypeat', 'smorris291', 'smscoles', 'smsub185k', 'smtp4me', 'smttycty', 'smudgewhat', 'smulkowski', 'smurder187', 'smurfyou', 'smurphy77', 'smuttanator', 'smwesson500', 'smxr88', 'snaotheus', 'snarf4', 'snarl', 'snbcdewey', 'sneakybird', 'sneal', 'snegopady', 'sneth019', 'snevine', 'snglmltrblnd84', 'snilsen13', 'snipedthetender', 'sniper061', 'sniperman3006', 'sniperwolf48', 'snlvry33', 'snogglethorpe', 'snowlemur', 'snowranger05', 'snpub540', 'soad5109', 'soakthis', 'sobchack', 'socalde', 'socaltay', 'soccerman7', 'soccerpete', 'socialchug', 'sociallooter', 'sockeye101', 'soco7tyx7', 'socon67', 'sodiepop', 'sofakingawesome', 'sofingraw', 'softcough', 'sogrady', 'sohio', 'soilguy', 'soju6', 'solargoat', 'solidarity77', 'solidoxygen', 'solinvictus', 'solstarr', 'solus5899', 'somabeer', 'some5150', 'somestranger', 'somethingfishy', 'somewhatdamaged', 'sommersb', 'somnus71', 'sonata2008', 'sonicdescent', 'sonicstylee', 'sonicyouth45', 'sonnmr31', 'sonnybrew', 'sonofabeach', 'sonofdon', 'sonomafbi', 'sooperpaulie', 'sopclod', 'soper2000', 'sopernicus', 'sophisticated', 'sopor', 'sorryaboutbrooks', 'soskully', 'sottises', 'soughtbygod', 'soulfly1492', 'soulfly967', 'soulgrowl', 'soulsurvivor', 'soultrain', 'soultrain19', 'sound67', 'soundbarrier', 'soundhole', 'soup35', 'soupermirl', 'soupyman10', 'sourdoughsteve', 'southernbelle09', 'southernmagnus', 'southernshred', 'southjersey636', 'southside', 'southsider', 'southsiderookie', 'soze47', 'spaceboy', 'spacechimo155', 'spacecoyote', 'spaced', 'spaceranger', 'spacerat100', 'spaceycasey', 'spacholl', 'spaciorek', 'spackledust', 'spanky167', 'sparkdinko', 'sparkydoyle', 'spartan2k', 'spartan30', 'spartanfan', 'spartanjd', 'spartikvs', 'sparty0n', 'spazaru', 'spazmonkeyy', 'spdrz', 'spdyfire83', 'speakorspasm', 'specgravity', 'specialbob', 'specksnreds', 'specsbeer06', 'spector551', 'specvthis', 'speedy3d', 'speedybones', 'spencerchristie', 'spencerw', 'speter', 'spewdog', 'spfldcardinalfan', 'spicelab', 'spiffysamurai', 'spike88', 'spike882', 'spikemoves', 'spilhaus', 'spiner', 'spinrsx', 'spitInTheOcean', 'spithrash', 'spittingoutteeth', 'spk154', 'splat215', 'spmagargal', 'spmags', 'spoiledguy44', 'spointon', 'spokeydonkey', 'sponberg', 'spoon239', 'spoons', 'spoonturtle37', 'spoot129', 'spoots', 'sporr', 'sportscrazed2', 'sportsfn10gb', 'sprackops', 'spratmi', 'spree92', 'sprinkle', 'spruce488', 'sprucetip', 'spurr', 'spwalshesq', 'spycow', 'sqquuee', 'squaremile', 'squidbrand', 'squidswilbsquids', 'squidtrick', 'squilky', 'squirrelJS667', 'squirrelpirate', 'squish059', 'sraimondi', 'srandycarter', 'srbeezer', 'srkeefe', 'srlama1', 'srobertson59', 'srrn', 'srroos', 'srvisgod88', 'ss454', 'ssalgado', 'ssam', 'ssavon66', 'ssbeer', 'sschliv', 'sschwartz', 'ssimpson89', 'ssinger', 'ssmoraros', 'sstackho', 'ssuggs01', 'ssznyter', 'stabzmcgee', 'stace', 'stacey14', 'staffweilder', 'stageseven', 'stagger', 'stagman', 'stakem', 'stalefish666', 'stalker5', 'stammmc', 'stanZ', 'standupjack', 'stangbat', 'stangelj', 'stangski83', 'stanley123', 'stanleykoolbrick', 'staples', 'staplesjo', 'stapleton87', 'starflyer58', 'starke12', 'starkystark', 'starrdogg', 'startreker', 'starvinbarley', 'staveoffzombies', 'stawn', 'stayintheshade', 'stbfan', 'stbo101', 'stburke', 'stckhndlr', 'stcules', 'stdavid', 'steadydose', 'steamingheap', 'steanu', 'stearns16', 'steck34', 'steelcutoats', 'steeldoc36', 'steeler', 'steelerguy', 'steelerkiss', 'steelersxl', 'steelrazor', 'steelreign', 'steelscarab', 'steelstrings', 'steeltown71', 'steevo', 'stegmakk', 'stegosaurus', 'steinlifter', 'stellabrew', 'stellashay', 'stemcell001', 'steorn', 'stephadelphia', 'stephen1162', 'stephendedalus', 'stephendr', 'stephenjmoore', 'stephenlouis', 'stephens101', 'stepmash', 'steppnrazr', 'stercomm', 'stereosforgeeks', 'sterlingds', 'sterlingjames', 'sterstar1', 'steve8robin', 'stevecee2003', 'steveclarkus', 'stevecooks', 'stevef', 'stevefinny', 'stevegamburg', 'steveganz', 'steveh', 'stevehagy', 'stevehussey', 'steveja57', 'stevemcqueenjr', 'stevemoug', 'steven9000', 'stevengodkin', 'stevenseg', 'stevenstofen', 'steveshields', 'stevete13', 'stevoj', 'stewart124', 'stewdawg', 'stewfnrocker', 'sthompson519', 'stickman1220', 'stickynotes', 'stickyv', 'stig', 'stilts', 'stimulus', 'stimy', 'stin66', 'stingo', 'stingrayvr6', 'stinoski', 'stiv', 'stjaernstoft', 'stjarnflikka', 'stlbeerguy', 'stlemur', 'stlfan74', 'stlsportster', 'stmod', 'stoad', 'stockingcpl', 'stockton', 'stodbrew', 'stoepsel', 'stof0048', 'stollio', 'stompwampa', 'stone3187', 'stone9000', 'stoned2', 'stonedcrow', 'stonelis', 'stonequarrywest', 'stoner420', 'stonermouse', 'stonesean', 'stopbarking', 'stopmakingsteve', 'stoptime', 'storksonm', 'stormstarter28', 'stormywaters', 'stoudt', 'stout', 'stout1961', 'stoutNdunkel', 'stoutandreds', 'stoutfiend27', 'stoutguy23', 'stoutlove77', 'stoutluvr420', 'stoutman', 'stoutmasterjames', 'stoutordie', 'stouts4me', 'stoutseedling', 'stoutstevie703', 'stouty1', 'strangebrew52', 'strangefate', 'strangemusic', 'strata39', 'strattor', 'straybeer', 'streamrunner', 'streetcommander', 'strengthdoc', 'strichte', 'stricklandia', 'strictly4DK', 'strikertown', 'strimpf', 'strohme2', 'strongbeerrules', 'stryker512', 'strykzone', 'stubens', 'stuckonhops', 'studentofbeer', 'stulowitz', 'stumac', 'stupac2', 'stupefied', 'sturner26', 'stxSS07', 'stylinprofiylin', 'stylzdlux', 'styrene', 'styxnpicks', 'suIIy', 'subie1011', 'sublimesipping', 'subliminalurge', 'subs', 'suburbeer', 'subyman', 'sudsellier', 'sudsface69', 'sudsymcsudserson', 'sudz42', 'suedehead', 'suelpen', 'sugarbrew', 'sugarman71', 'sugeknight6289', 'sugit', 'suglis', 'suizethecat', 'sukwonee', 'sulldaddy', 'sullenbee', 'sullie519', 'sullied', 'sully42', 'sullysbeer', 'summerlightning', 'suncrust', 'sundevilbeerguy', 'sundevildog', 'sundevilstudent', 'suneal', 'sunjayc', 'sunkistxsudafed', 'sunrisechina', 'sunrisesolara', 'sunsetbrew', 'sunshinethewolf', 'supafly43218', 'supak', 'supascape', 'supe11', 'superBman', 'superbeeje', 'supercolter', 'superdavex', 'superdedooperboy', 'superdoopersauce', 'superdudeo', 'superjose', 'supermanjace', 'supermantoine', 'supermeniscus', 'supermetroid', 'supernaut', 'supernuke', 'superspak', 'superswing123', 'supertrirunner', 'superwombatgodde', 'supra429', 'surcorx', 'sureshot08', 'suretolose', 'surfadelic23', 'surfer4life', 'surferman576', 'surfinghaole', 'surfmanjim', 'surfmeister', 'surfnebr', 'suritalachouffe', 'surly1987', 'surlyfurious', 'surlyseth', 'surlysober', 'surlytheduff', 'surplusgunguy', 'surprenant1138', 'suspect', 'sustainabrew', 'sutcliff', 'svcbeerguy', 'svendryden', 'svingo23', 'svraines', 'swamiswamu', 'swanmann', 'swanny28', 'swant', 'sward84', 'swat93', 'sway0925', 'swbyps923', 'sweatpants06', 'swede96', 'sweemzander', 'sweetLew', 'sweetbrew82', 'sweethome', 'sweetkness', 'sweett3k', 'sweetwaterman', 'sweetwillyrolbar', 'swhite11', 'swhitt', 'swid', 'swierczt', 'swiftyschlifty', 'swigger', 'swihart', 'swingdjted', 'swirldog', 'swizzle672', 'swizzlenuts', 'swooshjtb', 'swt1trvlr', 'swthomas55', 'syntheticwings', 'syrupjoe', 'szartman', 't00sl0w', 't0rin0', 't3200', 't3hcho53non3', 't420o', 't8000shx', 't8s8l8', 'tab021', 'tab111', 'tacoman', 'tacubaya', 'tadashi1922', 'tadbrunye', 'taddymaster', 'taddyone', 'tadowdaddy', 'taez555', 'tag0519', 'tah908', 'tahlstro', 'tai4ji2x', 'taigor', 'tailleur', 'tajiandemello', 'takeabrewski', 'talkinghatrack', 'talkingpoints', 'tallar', 'tallboy27', 'tallmidget', 'tallpaullbc', 'talltexan259', 'tambourineman', 'tamedturtle', 'tanarm', 'tanfastic', 'tang214', 'tang3nt', 'tangentrider', 'tankg', 'tanklin001', 'tanousa', 'tanstaafl28', 'tanzaniakate', 'tapman', 'tapthat', 'tar', 'tardiffism', 'targheehucker', 'tarheelboy', 'tarheels86', 'tastechaser', 'tasteegood', 'tastermaster', 'tastybeer', 'tastynubulets', 'tatoodkelt', 'tatterdash', 'tattooed81', 'tattooedtolley', 'taulpepper', 'taverncast', 'tavernjef', 'tavernseeker', 'taxguyjase', 'taxwarrior', 'taylocd', 'taylor714914', 'taylorhamrick', 'taylorparsons', 'tayner', 'tazio', 'tazziedevil', 'tbart428', 'tbase', 'tbbrown', 'tbeck', 'tbeckett', 'tbern007', 'tbill6', 'tbizzle0', 'tblakebraddy', 'tblfan04', 'tbmurphy89', 'tbone53', 'tbone69', 'tbonematt', 'tbonevig', 'tboom29', 'tbow05', 'tbraun1', 'tbrown4', 'tburkhart', 'tburus', 'tbus89', 'tbzinger9', 'tcampbel1', 'tcayiajr', 'tcfishler', 'tch51', 'tchaos', 'tchenery', 'tchurchill7', 'tckattt', 'tclapper', 'tconboy', 'tctruffin', 'td507554', 'tdawgydog', 'tdehnel', 'tdeim2', 'tdevo', 'tdexterc', 'tdm168', 'tdmillerjr', 'tdrshayden', 'tdt560', 'tdubbydub', 'tealeaf', 'teamburma', 'teamhex', 'teamizm', 'teamslayer76', 'techboy', 'techcommdood', 'techdiver', 'techfed87', 'techlady', 'techtatu', 'tecknojoe', 'teddingston', 'tedho21', 'tedingr', 'tedpeer', 'tedsox31', 'tedwilson40', 'teejay76', 'teetee523', 'teg8612', 'tegelaar', 'tegwek', 'tehawful', 'tehchunk', 'tehstevo', 'tehwagon', 'tehzachatak', 'teisho', 'tekk9', 'tekn0ph1sh', 'teknofile', 'teknowaffle', 'telecaster54', 'telecomz', 'telejunkie', 'tempest', 'templar316', 'tempo013', 'tenaciousp65', 'tenant', 'tencents', 'tendermorsel', 'tenebrus', 'tenorvoice0739', 'teovaldi', 'tepickering', 'ter2112', 'terenceokeefe', 'teromous', 'terrabyte', 'terranova770', 'terrapinchris', 'terrapinfan88', 'terrybail', 'terryeckmeier', 'terrysmith', 'terryt5231', 'tesguino', 'tetonka4kzoo', 'tetsuoni', 'tetu', 'tewaris', 'texasbeerguy', 'texascarl', 'texaschainx', 'texasgrape', 'texashammer', 'tfarmstrong', 'tfield', 'tfinn', 'tfp4268', 'tfrench8985', 'tfsimpkins', 'tfuchs', 'tgat', 'tgavaghan', 'tgbljb', 'tgdigital', 'tgncc', 'tgorgz', 'thadbme', 'thagens', 'thagr81us', 'thaichile', 'thain709', 'thanse16', 'tharper', 'tharper178', 'thartman', 'thasnazzle', 'thatbrownbottle', 'thatguy314', 'thatguy3579', 'thatkid', 'thatlongname', 'thatothermitch', 'thatruth', 'thatsfine', 'thatsright', 'thaxomatic', 'thbeer', 'the1DarkLord', 'the1hammer', 'the42ndtourist', 'theAMBAS', 'theBubba', 'theCMPNY', 'theGOOCH', 'theGroove', 'theJollySin', 'theMarksRA', 'theProf', 'theRealDeal', 'theRooster90', 'theSaj', 'theWrkncacnter', 'thealliance', 'thebadman', 'thebarnesbomb', 'thebarracuda', 'thebeerbandit', 'thebeerbuddies', 'thebeerdoctor', 'thebeerisgood', 'thebeeve', 'thebfg', 'thebierbrewery', 'thebighungry', 'thebigyellowhat', 'thebluewizard', 'thebob', 'theboozecruise', 'thebreadguy', 'thebreederswow', 'thebrood1987', 'thebubble', 'thecarster1', 'thecdp', 'thechaacster', 'thechamp', 'thecheapies', 'thechemist', 'theclaudius', 'theclevername', 'thecoldesquire', 'thecrowg', 'thedalziel', 'thedeen123', 'thedeezy', 'thedindaniel', 'thedirector999', 'thedon10', 'thedoubler55', 'thedrewski86', 'thedrizzle', 'theembalmer', 'theerlking', 'thefarstrider', 'thefenst', 'thefinetaste376', 'thefingluke', 'thefireman', 'theformula', 'thefratguy', 'thefrizzle', 'theghost3', 'thegiggy86', 'thegodfather1076', 'thegodfather2701', 'thegreatbeerer', 'thegrillishot', 'thehand', 'thehbchemistry', 'thehenbarris', 'thehiggy', 'thehillsbar', 'thehodgie', 'thehooksman', 'thehopdevil', 'thehopsguy', 'thehosh', 'thehyperduck', 'theirishdago', 'thejewthatbrews', 'thekanna', 'thekevlarkid', 'thekinge', 'theklep', 'thekoz', 'thelagerheads', 'theman336', 'themango', 'themantis1', 'themaxx76', 'themilkman01', 'themotleyfool', 'thenewflesh', 'theo692', 'theo871', 'theopholis', 'theotherone87', 'theotheroneSC', 'theozag', 'thepassingofdays', 'thepegjet', 'thepeter', 'thepitch', 'thequeen711', 'therachinator', 'therapture', 'theraven', 'therealmcclurg', 'therealmccoy3', 'therealnod', 'thereido', 'therica', 'therickguy78', 'therivler1', 'therobot', 'theroboticpirate', 'therover413', 'thersnofork', 'therube', 'thesarahfuller', 'thesiege', 'thesilverhand', 'thesoup', 'thespaceman', 'thesquire', 'thestand818', 'thestuff', 'thesyko56', 'thetachibro', 'thethrone', 'thetomG', 'thetros', 'thevanillaninja', 'thewalkindude', 'thewhale', 'thewhitecosbykid', 'thewho', 'thewolf32', 'theycallmedoc', 'theyellowdart', 'thezenkeeper', 'thickerfreakness', 'thielges', 'thierrynantes', 'thinkbreakfast', 'thinkfull', 'thirdeye11', 'thirg', 'thirtysixbelow', 'thisisbigrob', 'thisismyname', 'thisisshsas', 'thisisxxmyIPA', 'thisnamestoolong', 'thistle3189', 'tholzerman', 'thomasben86', 'thomcatr3t', 'thor638', 'thorvale', 'thourgood', 'thrak', 'thrash420', 'thrashaholic', 'three1six', 'threeviews', 'throwitallaway', 'throwthechaff', 'thryn', 'thstevens12', 'thudy', 'thunderbucks7', 'thydarkprevails', 'tiamariajim', 'tibers', 'ticklechicken', 'tiffanya', 'tiger88', 'tigerbass', 'tigerbot', 'tigerdoc', 'tigernipples', 'tigerpaws', 'tigg924', 'tikibeer', 'tikk', 'tim9887', 'timbeer', 'timbercanoe', 'timbro81', 'timconnel', 'timdog44', 'timellison', 'timericka', 'timers', 'timfredricks', 'timherremans', 'timholio', 'timhoth', 'timjdavis', 'timmafawlz', 'timmah427', 'timmay41', 'timmick', 'timmlimestone', 'timmos1', 'timmy2b', 'timmyfury', 'timmytootimes', 'timobkg', 'timonan', 'timorousme', 'timr62', 'timrice', 'timrosenblatt', 'timski346', 'timspitz', 'timtheenchanta', 'timtim', 'timtwoface', 'timus1119', 'timus19', 'timvandyke', 'tinman1940', 'tinusch', 'tinybones', 'tinyosborne', 'tiodan', 'tipnsip', 'tippebrewcrew2', 'tipsytucsonian', 'tito42', 'titosupertramp', 'tittymcj', 'titusgroan', 'tj4288', 'tjacobs610', 'tjbartjr', 'tjcortez', 'tjd112', 'tjdev82', 'tjfinkle', 'tjfontaine', 'tjinohio', 'tjkinate', 'tjkurz', 'tjmuncy', 'tjsdomer2', 'tjsmith910', 'tjsprague', 'tjthresh', 'tjwarren', 'tkach', 'tkarsies', 'tkeHijacker', 'tkelley', 'tkepx182', 'tkerugger', 'tko741', 'tl00camaross', 'tlamb9', 'tlamond', 'tlazaroff', 'tlinner', 'tlitt2', 'tlnc2006', 'tlong421', 'tmaiaroto', 'tmcelvain', 'tmgcannon', 'tmgiddings', 'tmitch75', 'tmm254', 'tmoneyba', 'tmoore600', 'tmorgan003', 'tmp155', 'tmquire', 'tmurph24', 'tnacho', 'tnaratil', 'tncapt', 'tneel', 'tniless', 'tnlandsailor', 'toadsass79', 'toadstooltodd', 'toastage', 'toastdog', 'toastpowder', 'tobeerornottobe', 'tobelerone', 'tobin', 'tobin999', 'tobyandgina', 'tobyb41', 'tobymugg', 'todatsu', 'todd1', 'toddhett', 'toddjemery', 'toddw8', 'todisht', 'toetag39', 'tofulegend', 'togaman91', 'tom444', 'tomParis', 'tomahawk576', 'tomfneph', 'tomhenderson', 'tominator', 'tomj6', 'tommaco', 'tommak', 'tommiller819', 'tommy78', 'tommyv138', 'tomroeder', 'tomspalla', 'tomstaub', 'tomthumbsblues', 'tomtollman', 'tomvt', 'tone77', 'tonistruth', 'tonk', 'tonloco', 'tony223366', 'tonyb0d', 'tonyburkhart', 'tonyf55', 'tonymoore', 'tonytuffnuts', 'toolbrew', 'tooleypep', 'toolmangonnabe', 'toomuchhops', 'toosexi', 'toothharp', 'tooyoung', 'toppertrav11', 'topshlf', 'torchednoodle', 'torchedpunk', 'toreysan', 'torsoul', 'tosshin', 'totalimmortal24', 'touchmeimsac', 'toutaboutstout', 'toweringpoo', 'towersfall', 'toytan', 'tozerm', 'tozz8', 'tpbernardi', 'tpd975', 'tpdog86', 'tpet96', 'tpistilli', 'tpowenski', 'tprokop7', 'tr0n', 'tr0n2ooo', 'tr4nc3d', 'trachy314', 'trackstar1043', 'traderade', 'trafordboy', 'tragicrock', 'trahantheman', 'traillme', 'trancefishy', 'translucent', 'trappistbest', 'trappistlover', 'travMI13', 'travduke', 'travelfrog', 'travipa', 'travis224', 'travis3113', 'travisd13', 'travise', 'traviserickson', 'travisishigh', 'travisnd', 'travloh', 'travolta', 'travpard', 'trayofcoke', 'trbergman', 'treble', 'trecker', 'tredaug', 'treedoctor5002', 'treehouse', 'treehugger02010', 'treehugginslug', 'trekbiker3000', 'trelihan462', 'trem0lo', 'trenchtown4', 'trentley87', 'trep', 'treque', 'trettinma', 'trevorjn06', 'trevormiller', 'trevorwideman', 'treyfire', 'treyrab', 'treznor', 'trf32', 'trg', 'tribial', 'trickdaddy', 'trill', 'trinitone', 'tripelhops', 'tripelx', 'triplecoil', 'trippoint', 'triptens', 'trisweb', 'trixdout', 'trkerrigan', 'trm424', 'trock355', 'trodersark', 'trolification', 'trolinc', 'tronester', 'troobie', 'trooperp', 'trossi', 'troublebrewin', 'trouserbat', 'troutmask96', 'troysoy2', 'trpng0bily', 'trubeernick', 'truckerzero', 'truckinbob', 'truknon', 'trulyblue85', 'trumick', 'trumpetego', 'truncated', 'truncatedcone', 'truthbrew', 'trxxpaxxs', 'tryemall', 'tryger', 'trygger87', 'tryin', 'ts183', 'tsatem', 'tsauce', 'tsauce2', 'tsbuttry', 'tscheese', 'tschmidlin', 'tsmcneil', 'tsmthrs', 'tsparkinson', 'tspears', 'ttfreek', 'ttinyqc', 'ttrrooyy19', 'ttu94', 'tturaiders', 'tubacharlie', 'tubaguy', 'tubbfan', 'tubbnik', 'tubdog13', 'tubeboy', 'tuckevalastin', 'tucsonwaz', 'tugdriver7', 'tunamcdermot', 'tuo', 'turamarth', 'turbine2475', 'turbocactus', 'turboedtwo', 'turboge', 'turdburglar', 'turfmgr', 'turfy', 'turkob', 'turnblom79', 'turnerr79', 'turnstile', 'tut2528', 'tvail4', 'tvandragt', 'tvault', 'tvazteca', 'tvercil2', 'tvljr', 'tvv375ia', 'tw0st3p', 'twaddlac', 'twade', 'twbrewer', 'twduncan', 'tweeder263', 'tweek87', 'twelvelookslikex', 'twelvepack', 'twelvinlucifer', 'twelvsies', 'twi1609372', 'twichingbrewer', 'twig86', 'twigfarm', 'twiggamortis420', 'twilight', 'twisred57', 'twit', 'twitchr', 'twlynch12', 'twofattires', 'twoheadedboy', 'twoheartedheel', 'twokansamm', 'tworollsbeatone', 'txbeerdrinkr', 'txbrew81', 'txbrewer', 'txrzrbak', 'tyamhydrogen', 'tyanow', 'tyboxr', 'tyee', 'tyhillman', 'tykechandler', 'tykees88', 'tylerjonz', 'tylernim', 'tylerprince', 'tylerss20', 'tytm12', 'tytoanderso', 'tzchandler', 'tzieser', 'u2carew', 'uabigdaz', 'uamtey2', 'uawildcat', 'uberabr', 'uberbrau', 'uberez8', 'uberkane', 'ubermenschen001', 'ubermick', 'ubermunkey', 'ubernetizen', 'ubetchamn', 'ucis', 'uclajd', 'uconnalum2', 'uconnroller', 'udchemist', 'udrick', 'udu86922', 'udubdawg', 'ufoisgood', 'ufotofuturo', 'ugaterrapin', 'uglyblonde', 'uglyguy', 'uhhhaaron', 'uiplanner', 'ujsplace', 'ultima1080', 'ultralarry2006', 'ultrastiledivita', 'ultrasupergenius', 'umfskibum', 'ummswimmin', 'umpquabrewer', 'umtox', 'umustdrink', 'unHipHopHead', 'uncggop06', 'uncle8gil', 'unclecrappy', 'unclederby', 'unclejazz', 'unclejedi', 'unclejimbay', 'unclemeat9', 'unclemorgan', 'uncleozzy', 'unclewhale', 'uncultured', 'undeadozzy', 'undertow46', 'unholy2', 'unibrew', 'unionturf', 'unit555', 'unit91', 'unitas3', 'unitmonster', 'unkiedave', 'unkk33', 'unklesyd', 'unknownlamer', 'uno99', 'unojuno', 'unseenbyyou', 'unskinnyhop09', 'untamedbeer', 'upstateDave', 'urbanexplorer', 'urokosaki', 'urwithdave', 'urza', 'usa4neil', 'uselessgdtaste', 'user0317', 'username8000', 'ush81', 'ushikins', 'usmcphillips', 'usmittymc', 'usryguitar117', 'usualpulp', 'utah44', 'utahbeerdude', 'uticaclub86', 'uturn', 'uustal', 'uvascotto', 'uwharrieguy', 'uwmgdman', 'v8americanpower', 'vacax', 'vader', 'vagreek', 'valdesd1', 'valgalder', 'valosonthor', 'valpodogs', 'vanagon169', 'vancinator', 'vancurly', 'vande', 'vandebe', 'vandeg', 'vandemonian', 'vandenbochi', 'vaneson', 'vangambrel', 'vanrassel', 'vanrun', 'vapodge', 'variousartists', 'vasdef42', 'vazy', 'vcek', 'vdan02', 'vdoz3', 'vdread', 'vdubmatt', 'veachster', 'vecernicek', 'veech', 'vegantreats', 'vegasennui', 'veggiemafia', 'velkyal', 'velmalikevelvet', 'velo343', 'velosuds', 'venneman', 'veratyr9', 'verceman', 'verge', 'veritas88', 'vermeu25', 'veruus', 'veryhumble', 'vespahulb', 'vette2006c5r', 'vfgccp', 'vgarneth', 'vgoreham', 'vhiggins', 'viaingo', 'vic21234', 'vicg12', 'vickersspitfire', 'vicks22', 'vicsju1991', 'victordeprater', 'victory4me', 'victrola42', 'videofrog', 'vidisad', 'viejolander', 'vikingloki', 'vikingmike', 'vikings1988', 'vilago', 'vilerage', 'villainchiwwin', 'vin', 'vince4953529', 'vincentmeloni', 'vincicle', 'vinneef', 'vintagedjd', 'vintajuess', 'vinthebrewer', 'violanojblues', 'violentj', 'viperpiper522', 'virtualshock', 'vishneda', 'vissai', 'vitalnj', 'vitamaltz', 'vitesse', 'vitrael', 'vitriola', 'vivalanation734', 'vividox', 'vkv822', 'vladbzeev', 'vladimerjr', 'vladtheimpaler', 'vncolbert', 'vobr0002', 'voidmyrules', 'volklshred', 'volksman', 'volldampf', 'vonderbrink', 'vondew45', 'voraciousalky', 'voteforgoat', 'voyager', 'vpipkt', 'vpunk', 'vrazionale', 'vrbulldog22', 'vroney', 'vrushing88', 'vsmartinez', 'vtbeast34', 'vtblackdog', 'vtfan77', 'vtisme', 'vtrim', 'vtsaltydogg03', 'vurt', 'vw73182', 'vwaddict', 'vwahaszee', 'vwbus7', 'vwcraig', 'vyzer', 'w1n0', 'w4s', 'w5baron', 'waboone', 'wac9', 'wadds', 'waddsworth', 'wadecats', 'wafers', 'waffle611', 'wafflebeer', 'wagenvolks', 'wagnert', 'wahhmaster', 'wahooman', 'wailingwench', 'wajacobs', 'wakitabanana', 'walder', 'waldoiverson', 'waldon', 'waldowin', 'walker1200', 'wallaceandvomit', 'walleye', 'walloon', 'wallpaperbag', 'wallygatorca', 'wallymowrigley', 'walows', 'walshclimb', 'waltaburge', 'walteez', 'waltek1', 'waltersrj', 'waltertrush', 'waltonc', 'wampahoofus', 'wamu2000', 'wangbruins', 'wanglaoshi', 'wanglow24', 'wanker', 'wapack', 'warbird07', 'warchez', 'wardough', 'wareagle3020', 'warfordium', 'warmdog', 'warmstorage', 'warnecj', 'warnerry', 'warreagle13', 'warrech', 'warrenc', 'warriorsoul', 'warthogred', 'washburnkid', 'washingtonydc', 'washins', 'waskie', 'wasso', 'wataazu', 'watchnerd', 'water2wines', 'watercandy', 'waterintobeer', 'watermelonman', 'watkins', 'watthree', 'waughbrew', 'wavenger', 'wavz', 'waxworm', 'wbc', 'wbfarr', 'wbickerton', 'wbrown', 'wburch1967', 'wca005', 'wcdoyle', 'wcgortel', 'wchesak', 'wchollif', 'wcintula', 'wcpmohr88', 'wcuberos', 'wcudwight', 'wd40', 'wdempster', 'weasbri', 'weatherdog', 'weazal', 'webbcreative', 'webbrew', 'webdog76', 'webmanspidey', 'websherpa', 'wedge', 'wedge3d', 'wedge421', 'wedgie9', 'weeare138', 'weedandchicken', 'weedslegalcousin', 'weeezle1971', 'weefisheads', 'weezyfart', 'weisbierjeff', 'weiserr', 'weissbierdrinker', 'weissbierhead', 'weizenbob', 'weizendoc', 'weizenwittlich', 'welcherHB', 'welldigger888', 'welldogg', 'weller1js', 'wenkalman', 'werbeor', 'werdnacross', 'werewolfbrent', 'wertperch', 'wesblount', 'wesbrownyeah', 'wescj', 'wesclaypool', 'wesl56', 'wesleyhighley', 'wessells', 'wesside89', 'westernflight9', 'westernseraph', 'westlakeview', 'westong', 'westonhood', 'westsidemiller', 'westweasel', 'wethorseblanket', 'weylinfidler', 'wfaulk', 'wferguson', 'wfrigsby', 'wgarton', 'wgk', 'wgkealey', 'wgunders', 'whahoppened', 'whalen2390', 'wharfrat1', 'whartontallboy', 'whatigot3488', 'whatisbeer21', 'whatsleftofyou', 'whatthehull', 'wheatbeer1', 'wheatbeerstyle', 'wheatman106', 'wheaty', 'wheatyweiss', 'wheelinshirt', 'wheetlvr', 'whendeathsleeps', 'whhs55', 'whiplash3825', 'whiskeysoda', 'whisperjet', 'whit', 'whiteangel1238', 'whitehouse50', 'whitemomba', 'whitenickcannon', 'whiterabbit', 'whiterascal', 'whiteskittlz', 'whitestag', 'whittonj', 'whomas', 'whoneeds8', 'whrdabudatduce', 'whtguitarguy', 'whubbard', 'whynot44', 'wicklein', 'wide3345', 'widowmaker', 'wierdo1212d', 'wifehatesbeer', 'wifehatesthebike', 'wikk3d', 'wilbrew', 'wildsailorwolf', 'wildvikes', 'wildwilll445', 'wileycount', 'wilkinsb09', 'wilkowski', 'will1256', 'will4240', 'willPS21', 'willb', 'willbarrett', 'willc11', 'willdraper', 'willestrd', 'willeyone22', 'willgro', 'william5586', 'williambarret', 'williamherbert', 'williamkbeckman', 'williammellon', 'williamt', 'williepep', 'willjansen', 'willjschmidt', 'willmc', 'willseph', 'willyc', 'willysjeep134', 'willytime', 'willyumlong', 'willywise', 'wilofevil', 'wilwfu', 'wimpasaurus', 'windigo32', 'windypete', 'winebarleywine', 'winegourmet76', 'wingedeel', 'wingman14', 'wingnutter', 'winky13', 'wino47', 'winomark', 'winpig3', 'winters19', 'wiscokid920', 'wise456', 'wiseguy142', 'wisnerd', 'wisrarebeer', 'witflee', 'withliterature', 'witster18', 'wizzle', 'wjc26123', 'wjimson', 'wjstewart', 'wkcyr4', 'wke4estguy', 'wknight167', 'wkominos', 'wl0307', 'wlbromley', 'wllmsaccnt', 'wmaldridge', 'wmcneill26', 'wmmatt41', 'wmthorne', 'wmtxbb', 'wnbklb', 'wnh', 'wnhay', 'wo87810', 'wobblymailman', 'wobblynoggin', 'wocket', 'woemad', 'wofat', 'wogreen', 'wojoparkcity', 'wolf26', 'wolf323i', 'wolfbeast', 'wolffman17', 'wolfinthemirror', 'wolfio62', 'wolfpack87', 'wolfsdennc', 'wolfsleepy', 'wolfy', 'wollybugger', 'wolverinerocker', 'wolvie2', 'womencantsail', 'wonderbread23', 'wondrtim', 'wood2430', 'woodchuck69', 'woodjm', 'woodske1', 'woodychandler', 'woodymq', 'woodytele', 'woolhat', 'woolymammoth', 'woooch', 'woosterbill', 'wootenjones', 'wordemupg', 'wordhog61', 'wornout', 'wortchiller', 'wowbagger', 'wowbragger', 'wpattison', 'wray7276', 'wrayjustin', 'wrb357', 'wrcraigl', 'wrightro07', 'wrightst', 'writerLJBerg', 'wrx2ndregime', 'wrycon', 'wryepicures', 'wscaffe', 'wschmit', 'wschumac', 'wsouloa', 'wspscott', 'wstein70', 'wstuart', 'wtarheel1', 'wtfuggles', 'wugambino', 'wuntrikpony', 'wvbeerdad', 'wvbelgique', 'wvdrummer', 'wvmi', 'wvsabbath', 'wvu9787', 'wwbass', 'wwchamberlain', 'wwheeler', 'wwjb', 'wwwyzzerdd', 'wxjunkie', 'wyattearp', 'wyattgene', 'wyattshotmaker', 'wycked54', 'wyllder', 'wytshark', 'x2tallx', 'x63x77', 'xXTequila', 'xandman', 'xanok', 'xare', 'xav33', 'xcephalopodx', 'xcoderzach', 'xcrunner78', 'xdant', 'xdopiex', 'xdream', 'xduderx', 'xenolithic', 'xensure', 'xerenthar', 'xerotime', 'xerxes2695', 'xfactor9600', 'xforce', 'xgabe', 'xgrafcorex', 'xgrigorix', 'xhcadamx', 'xhermit', 'xhuskr', 'xichix', 'xjapanhomebrewx', 'xmahns', 'xmorgan', 'xnicknj', 'xodin', 'xoqx', 'xpando420', 'xpatriate', 'xpdrinker', 'xpimptastikx', 'xpoweruser', 'xq7a', 'xqed', 'xraided81', 'xrdsci', 'xsists', 'xstar823', 'xtacyturbo', 'xtalman', 'xthemystic', 'xtremejammn', 'xuehua', 'xumbi', 'xunorm', 'xuptygm', 'xv43', 'xvertirx', 'xvoltronx', 'xx99mustangGTxx', 'xxHelderxx', 'xxcarpxx', 'xxnite88', 'xxthepatientxx', 'xxxninjacorexxx', 'xybreeder', 'xylophonica', 'xymyl', 'xzqrut', 'y2j2280', 'y2jrock60', 'yadehtsiyadot', 'yaegerje', 'yael6666', 'yagosantgria', 'yakasmitsen', 'yakko', 'yakman', 'yamar68', 'yankeeheel', 'yankeej13', 'yankeetiger44', 'yankiac', 'yapi', 'yardguy', 'yarnto', 'yax75', 'ybnorml', 'yeagerbm', 'yeagmeister1', 'yeahman', 'yeahnatenelson', 'yeastiebeasties', 'yeastpuppet', 'yeastsipper', 'yelterdow', 'yemenmocha', 'yen157', 'yeoldeale', 'yermomma', 'yeroc40', 'yesferro', 'yesthatguy', 'yesyouam', 'yevuta', 'ygtbsm94', 'yinzer', 'yippiIPA', 'yippieIPA', 'yisseroff', 'yit4311', 'yitbos96bb', 'ykncornelius', 'yngvar', 'ynnpar', 'yobeerman', 'yoboy', 'yoda10175', 'yodaseo', 'yogurt', 'yoi55', 'yokefellow', 'yoko', 'yondermeister', 'yosh', 'yoshalan', 'yossarian14', 'yotyz250f', 'youbrewidrink', 'youngblood', 'younger35', 'younggunz', 'youngleo', 'youradhere', 'yourchoice', 'yourdudeness', 'yourefragile', 'yourunclewalt', 'yoyo', 'ypsifly', 'yuenglingfan101', 'yuenglinglover80', 'yuenglingman', 'yuenglings', 'yunggunn2k1', 'yunkers', 'yupitsmeadam', 'yuriruley', 'yusef', 'ywdwarner', 'yzer', 'yzerman', 'z3niMAGiNE', 'zImage', 'zac16125', 'zacarias', 'zacdrinksbeers', 'zach8270', 'zachariaIPA', 'zacharius', 'zachary37', 'zachary80', 'zachisspeaking', 'zachsmith', 'zackcg', 'zackmoney', 'zadams1', 'zagduck', 'zakery', 'zakyj', 'zander4dawin', 'zandy1123', 'zane2hyperzane', 'zao77', 'zapata', 'zapato', 'zapb42', 'zaphodchak', 'zappafan99', 'zappuh', 'zaq37', 'zassenhausen', 'zaxwizard', 'zbellino', 'zbones', 'zbs', 'zbuc919', 'zcapps', 'zchall23', 'zdebyo00', 'zdk9', 'zdyeates', 'zealot', 'zealouszymurgist', 'zeapo', 'zebco', 'zebedee', 'zebulon', 'zee3are0', 'zeff80', 'zeldar', 'zeledonia', 'zen', 'zenjamin', 'zep9865', 'zerk', 'zero920', 'zerofear13', 'zerojake', 'zfjohnson', 'zhadum', 'zhanson88', 'zhooker', 'zic', 'zig77', 'ziggy13', 'ziggycash', 'zigpenguin', 'zimm421', 'zimmerbloke', 'zimmth01', 'zingerhophead', 'zipyth3pinhead', 'zirb', 'zjungleist', 'zk1ipa', 'zloew', 'zminor', 'znarf', 'znichols', 'zodiacv1', 'zodiak3000', 'zooalbert', 'zooga', 'zook74', 'zoolou', 'zoolzoo', 'zorandra', 'zornbeast', 'zorro5683', 'zoso1967', 'zoso493', 'zpeid', 'zplug123', 'zrab11', 'zrmoyers', 'zrrbrrt', 'zseeanz', 'zstewart', 'ztaylor1', 'ztoellner', 'ztprez', 'ztruempy', 'zuccard', 'zuffenhausen', 'zuggy9', 'zuker', 'zulufactor', 'zumicroom', 'zwalk8', 'zwoehr', 'zymrgy', 'zymurgy4all', 'zymurgywhiz', 'zythus', 'zyzygy']],\n",
       "           labels=[[0, 0, 0, 0, 0, 0, 0, 0, 0, 0], [0, 1, 2, 3, 4, 5, 6, 7, 8, 9]],\n",
       "           names=[None, 'review_profilename'])"
      ]
     },
     "execution_count": 14,
     "metadata": {},
     "output_type": "execute_result"
    }
   ],
   "source": [
    "df_wide.columns[:10]"
   ]
  },
  {
   "cell_type": "markdown",
   "metadata": {
    "slideshow": {
     "slide_type": "slide"
    }
   },
   "source": [
    "Check that rows are beers by examining the first few rows."
   ]
  },
  {
   "cell_type": "code",
   "execution_count": 16,
   "metadata": {
    "collapsed": false,
    "slideshow": {
     "slide_type": "slide"
    }
   },
   "outputs": [
    {
     "data": {
      "text/plain": [
       "0                                    #9\n",
       "1                        120 Minute IPA\n",
       "2            1554 Enlightened Black Ale\n",
       "3                         60 Minute IPA\n",
       "4                         90 Minute IPA\n",
       "5    Aecht Schlenkerla Rauchbier Märzen\n",
       "6                          AleSmith IPA\n",
       "7               AleSmith Speedway Stout\n",
       "8                        Allagash White\n",
       "9                   Alpha King Pale Ale\n",
       "Name: beer_name, dtype: object"
      ]
     },
     "execution_count": 16,
     "metadata": {},
     "output_type": "execute_result"
    }
   ],
   "source": [
    "pd.Series(df_wide.index[:10])"
   ]
  },
  {
   "cell_type": "markdown",
   "metadata": {
    "slideshow": {
     "slide_type": "slide"
    }
   },
   "source": [
    "### Calculate distance between beers\n",
    "\n",
    "This is the key.  We have our ratings matrix now and we're going to use cosine_similarity from scikit-learn to compute the distance between all beers in this space."
   ]
  },
  {
   "cell_type": "markdown",
   "metadata": {
    "slideshow": {
     "slide_type": "slide"
    }
   },
   "source": [
    "Import stuff"
   ]
  },
  {
   "cell_type": "code",
   "execution_count": 17,
   "metadata": {
    "collapsed": false,
    "slideshow": {
     "slide_type": "slide"
    }
   },
   "outputs": [],
   "source": [
    "from sklearn.metrics.pairwise import cosine_similarity\n",
    "from sklearn.metrics.pairwise import manhattan_distances\n",
    "from sklearn.metrics.pairwise import euclidean_distances"
   ]
  },
  {
   "cell_type": "markdown",
   "metadata": {
    "slideshow": {
     "slide_type": "slide"
    }
   },
   "source": [
    "Apply `cosine_similarity()` to `df_wide` to calculate pairwise distances and store this in a variable called `dists`."
   ]
  },
  {
   "cell_type": "code",
   "execution_count": 18,
   "metadata": {
    "collapsed": false,
    "slideshow": {
     "slide_type": "slide"
    }
   },
   "outputs": [
    {
     "data": {
      "text/plain": [
       "array([[ 1.        ,  0.27540494,  0.27410345, ...,  0.32928048,\n",
       "         0.34805798,  0.31249922],\n",
       "       [ 0.27540494,  1.        ,  0.25151873, ...,  0.2854835 ,\n",
       "         0.23301356,  0.2802485 ],\n",
       "       [ 0.27410345,  0.25151873,  1.        , ...,  0.31629515,\n",
       "         0.22521858,  0.2737628 ],\n",
       "       ..., \n",
       "       [ 0.32928048,  0.2854835 ,  0.31629515, ...,  1.        ,\n",
       "         0.28025764,  0.34504013],\n",
       "       [ 0.34805798,  0.23301356,  0.22521858, ...,  0.28025764,\n",
       "         1.        ,  0.25526913],\n",
       "       [ 0.31249922,  0.2802485 ,  0.2737628 , ...,  0.34504013,\n",
       "         0.25526913,  1.        ]])"
      ]
     },
     "execution_count": 18,
     "metadata": {},
     "output_type": "execute_result"
    }
   ],
   "source": [
    "dists = cosine_similarity(df_wide)\n",
    "dists"
   ]
  },
  {
   "cell_type": "markdown",
   "metadata": {
    "slideshow": {
     "slide_type": "slide"
    }
   },
   "source": [
    "### Discussion: what type of object is dists?"
   ]
  },
  {
   "cell_type": "markdown",
   "metadata": {
    "slideshow": {
     "slide_type": "slide"
    }
   },
   "source": [
    "Convert dists to a Pandas DataFrame, use the index as column index as well (distances are a square matrix).  This means we'll have a beers by beers matrix of the distances between every beer from the ratings space.  Check out the first 10 or so rows and columns and make sure things look right (should see 1s on the diagonal)."
   ]
  },
  {
   "cell_type": "code",
   "execution_count": 19,
   "metadata": {
    "collapsed": false,
    "slideshow": {
     "slide_type": "slide"
    }
   },
   "outputs": [
    {
     "data": {
      "text/html": [
       "<div>\n",
       "<table border=\"1\" class=\"dataframe\">\n",
       "  <thead>\n",
       "    <tr style=\"text-align: right;\">\n",
       "      <th>beer_name</th>\n",
       "      <th>#9</th>\n",
       "      <th>120 Minute IPA</th>\n",
       "      <th>1554 Enlightened Black Ale</th>\n",
       "      <th>60 Minute IPA</th>\n",
       "      <th>90 Minute IPA</th>\n",
       "      <th>Aecht Schlenkerla Rauchbier Märzen</th>\n",
       "      <th>AleSmith IPA</th>\n",
       "      <th>AleSmith Speedway Stout</th>\n",
       "      <th>Allagash White</th>\n",
       "      <th>Alpha King Pale Ale</th>\n",
       "    </tr>\n",
       "    <tr>\n",
       "      <th>beer_name</th>\n",
       "      <th></th>\n",
       "      <th></th>\n",
       "      <th></th>\n",
       "      <th></th>\n",
       "      <th></th>\n",
       "      <th></th>\n",
       "      <th></th>\n",
       "      <th></th>\n",
       "      <th></th>\n",
       "      <th></th>\n",
       "    </tr>\n",
       "  </thead>\n",
       "  <tbody>\n",
       "    <tr>\n",
       "      <th>#9</th>\n",
       "      <td>1.000000</td>\n",
       "      <td>0.275405</td>\n",
       "      <td>0.274103</td>\n",
       "      <td>0.388364</td>\n",
       "      <td>0.365175</td>\n",
       "      <td>0.253841</td>\n",
       "      <td>0.228479</td>\n",
       "      <td>0.227612</td>\n",
       "      <td>0.340681</td>\n",
       "      <td>0.293315</td>\n",
       "    </tr>\n",
       "    <tr>\n",
       "      <th>120 Minute IPA</th>\n",
       "      <td>0.275405</td>\n",
       "      <td>1.000000</td>\n",
       "      <td>0.251519</td>\n",
       "      <td>0.378258</td>\n",
       "      <td>0.410366</td>\n",
       "      <td>0.262425</td>\n",
       "      <td>0.315971</td>\n",
       "      <td>0.337541</td>\n",
       "      <td>0.282273</td>\n",
       "      <td>0.336796</td>\n",
       "    </tr>\n",
       "    <tr>\n",
       "      <th>1554 Enlightened Black Ale</th>\n",
       "      <td>0.274103</td>\n",
       "      <td>0.251519</td>\n",
       "      <td>1.000000</td>\n",
       "      <td>0.319887</td>\n",
       "      <td>0.314028</td>\n",
       "      <td>0.252486</td>\n",
       "      <td>0.266866</td>\n",
       "      <td>0.261761</td>\n",
       "      <td>0.260275</td>\n",
       "      <td>0.307296</td>\n",
       "    </tr>\n",
       "    <tr>\n",
       "      <th>60 Minute IPA</th>\n",
       "      <td>0.388364</td>\n",
       "      <td>0.378258</td>\n",
       "      <td>0.319887</td>\n",
       "      <td>1.000000</td>\n",
       "      <td>0.533042</td>\n",
       "      <td>0.316928</td>\n",
       "      <td>0.312343</td>\n",
       "      <td>0.307627</td>\n",
       "      <td>0.360975</td>\n",
       "      <td>0.385249</td>\n",
       "    </tr>\n",
       "    <tr>\n",
       "      <th>90 Minute IPA</th>\n",
       "      <td>0.365175</td>\n",
       "      <td>0.410366</td>\n",
       "      <td>0.314028</td>\n",
       "      <td>0.533042</td>\n",
       "      <td>1.000000</td>\n",
       "      <td>0.312861</td>\n",
       "      <td>0.344218</td>\n",
       "      <td>0.358754</td>\n",
       "      <td>0.356804</td>\n",
       "      <td>0.418582</td>\n",
       "    </tr>\n",
       "    <tr>\n",
       "      <th>Aecht Schlenkerla Rauchbier Märzen</th>\n",
       "      <td>0.253841</td>\n",
       "      <td>0.262425</td>\n",
       "      <td>0.252486</td>\n",
       "      <td>0.316928</td>\n",
       "      <td>0.312861</td>\n",
       "      <td>1.000000</td>\n",
       "      <td>0.244490</td>\n",
       "      <td>0.246063</td>\n",
       "      <td>0.297672</td>\n",
       "      <td>0.263248</td>\n",
       "    </tr>\n",
       "    <tr>\n",
       "      <th>AleSmith IPA</th>\n",
       "      <td>0.228479</td>\n",
       "      <td>0.315971</td>\n",
       "      <td>0.266866</td>\n",
       "      <td>0.312343</td>\n",
       "      <td>0.344218</td>\n",
       "      <td>0.244490</td>\n",
       "      <td>1.000000</td>\n",
       "      <td>0.521889</td>\n",
       "      <td>0.277409</td>\n",
       "      <td>0.400741</td>\n",
       "    </tr>\n",
       "    <tr>\n",
       "      <th>AleSmith Speedway Stout</th>\n",
       "      <td>0.227612</td>\n",
       "      <td>0.337541</td>\n",
       "      <td>0.261761</td>\n",
       "      <td>0.307627</td>\n",
       "      <td>0.358754</td>\n",
       "      <td>0.246063</td>\n",
       "      <td>0.521889</td>\n",
       "      <td>1.000000</td>\n",
       "      <td>0.273930</td>\n",
       "      <td>0.420247</td>\n",
       "    </tr>\n",
       "    <tr>\n",
       "      <th>Allagash White</th>\n",
       "      <td>0.340681</td>\n",
       "      <td>0.282273</td>\n",
       "      <td>0.260275</td>\n",
       "      <td>0.360975</td>\n",
       "      <td>0.356804</td>\n",
       "      <td>0.297672</td>\n",
       "      <td>0.277409</td>\n",
       "      <td>0.273930</td>\n",
       "      <td>1.000000</td>\n",
       "      <td>0.295666</td>\n",
       "    </tr>\n",
       "    <tr>\n",
       "      <th>Alpha King Pale Ale</th>\n",
       "      <td>0.293315</td>\n",
       "      <td>0.336796</td>\n",
       "      <td>0.307296</td>\n",
       "      <td>0.385249</td>\n",
       "      <td>0.418582</td>\n",
       "      <td>0.263248</td>\n",
       "      <td>0.400741</td>\n",
       "      <td>0.420247</td>\n",
       "      <td>0.295666</td>\n",
       "      <td>1.000000</td>\n",
       "    </tr>\n",
       "  </tbody>\n",
       "</table>\n",
       "</div>"
      ],
      "text/plain": [
       "beer_name                                 #9  120 Minute IPA  \\\n",
       "beer_name                                                      \n",
       "#9                                  1.000000        0.275405   \n",
       "120 Minute IPA                      0.275405        1.000000   \n",
       "1554 Enlightened Black Ale          0.274103        0.251519   \n",
       "60 Minute IPA                       0.388364        0.378258   \n",
       "90 Minute IPA                       0.365175        0.410366   \n",
       "Aecht Schlenkerla Rauchbier Märzen  0.253841        0.262425   \n",
       "AleSmith IPA                        0.228479        0.315971   \n",
       "AleSmith Speedway Stout             0.227612        0.337541   \n",
       "Allagash White                      0.340681        0.282273   \n",
       "Alpha King Pale Ale                 0.293315        0.336796   \n",
       "\n",
       "beer_name                           1554 Enlightened Black Ale  60 Minute IPA  \\\n",
       "beer_name                                                                       \n",
       "#9                                                    0.274103       0.388364   \n",
       "120 Minute IPA                                        0.251519       0.378258   \n",
       "1554 Enlightened Black Ale                            1.000000       0.319887   \n",
       "60 Minute IPA                                         0.319887       1.000000   \n",
       "90 Minute IPA                                         0.314028       0.533042   \n",
       "Aecht Schlenkerla Rauchbier Märzen                    0.252486       0.316928   \n",
       "AleSmith IPA                                          0.266866       0.312343   \n",
       "AleSmith Speedway Stout                               0.261761       0.307627   \n",
       "Allagash White                                        0.260275       0.360975   \n",
       "Alpha King Pale Ale                                   0.307296       0.385249   \n",
       "\n",
       "beer_name                           90 Minute IPA  \\\n",
       "beer_name                                           \n",
       "#9                                       0.365175   \n",
       "120 Minute IPA                           0.410366   \n",
       "1554 Enlightened Black Ale               0.314028   \n",
       "60 Minute IPA                            0.533042   \n",
       "90 Minute IPA                            1.000000   \n",
       "Aecht Schlenkerla Rauchbier Märzen       0.312861   \n",
       "AleSmith IPA                             0.344218   \n",
       "AleSmith Speedway Stout                  0.358754   \n",
       "Allagash White                           0.356804   \n",
       "Alpha King Pale Ale                      0.418582   \n",
       "\n",
       "beer_name                           Aecht Schlenkerla Rauchbier Märzen  \\\n",
       "beer_name                                                                \n",
       "#9                                                            0.253841   \n",
       "120 Minute IPA                                                0.262425   \n",
       "1554 Enlightened Black Ale                                    0.252486   \n",
       "60 Minute IPA                                                 0.316928   \n",
       "90 Minute IPA                                                 0.312861   \n",
       "Aecht Schlenkerla Rauchbier Märzen                            1.000000   \n",
       "AleSmith IPA                                                  0.244490   \n",
       "AleSmith Speedway Stout                                       0.246063   \n",
       "Allagash White                                                0.297672   \n",
       "Alpha King Pale Ale                                           0.263248   \n",
       "\n",
       "beer_name                           AleSmith IPA  AleSmith Speedway Stout  \\\n",
       "beer_name                                                                   \n",
       "#9                                      0.228479                 0.227612   \n",
       "120 Minute IPA                          0.315971                 0.337541   \n",
       "1554 Enlightened Black Ale              0.266866                 0.261761   \n",
       "60 Minute IPA                           0.312343                 0.307627   \n",
       "90 Minute IPA                           0.344218                 0.358754   \n",
       "Aecht Schlenkerla Rauchbier Märzen      0.244490                 0.246063   \n",
       "AleSmith IPA                            1.000000                 0.521889   \n",
       "AleSmith Speedway Stout                 0.521889                 1.000000   \n",
       "Allagash White                          0.277409                 0.273930   \n",
       "Alpha King Pale Ale                     0.400741                 0.420247   \n",
       "\n",
       "beer_name                           Allagash White  Alpha King Pale Ale  \n",
       "beer_name                                                                \n",
       "#9                                        0.340681             0.293315  \n",
       "120 Minute IPA                            0.282273             0.336796  \n",
       "1554 Enlightened Black Ale                0.260275             0.307296  \n",
       "60 Minute IPA                             0.360975             0.385249  \n",
       "90 Minute IPA                             0.356804             0.418582  \n",
       "Aecht Schlenkerla Rauchbier Märzen        0.297672             0.263248  \n",
       "AleSmith IPA                              0.277409             0.400741  \n",
       "AleSmith Speedway Stout                   0.273930             0.420247  \n",
       "Allagash White                            1.000000             0.295666  \n",
       "Alpha King Pale Ale                       0.295666             1.000000  "
      ]
     },
     "execution_count": 19,
     "metadata": {},
     "output_type": "execute_result"
    }
   ],
   "source": [
    "dists = pd.DataFrame(dists, columns=df_wide.index)\n",
    "\n",
    "dists.index = dists.columns\n",
    "dists.ix[0:10, 0:10]"
   ]
  },
  {
   "cell_type": "markdown",
   "metadata": {
    "slideshow": {
     "slide_type": "slide"
    }
   },
   "source": [
    "Select some beers and store them in `beers_i_like` then look their distances to other beers with `head()`"
   ]
  },
  {
   "cell_type": "code",
   "execution_count": 20,
   "metadata": {
    "collapsed": false,
    "slideshow": {
     "slide_type": "slide"
    }
   },
   "outputs": [
    {
     "data": {
      "text/html": [
       "<div>\n",
       "<table border=\"1\" class=\"dataframe\">\n",
       "  <thead>\n",
       "    <tr style=\"text-align: right;\">\n",
       "      <th>beer_name</th>\n",
       "      <th>Sierra Nevada Pale Ale</th>\n",
       "      <th>120 Minute IPA</th>\n",
       "      <th>Allagash White</th>\n",
       "    </tr>\n",
       "    <tr>\n",
       "      <th>beer_name</th>\n",
       "      <th></th>\n",
       "      <th></th>\n",
       "      <th></th>\n",
       "    </tr>\n",
       "  </thead>\n",
       "  <tbody>\n",
       "    <tr>\n",
       "      <th>#9</th>\n",
       "      <td>0.373968</td>\n",
       "      <td>0.275405</td>\n",
       "      <td>0.340681</td>\n",
       "    </tr>\n",
       "    <tr>\n",
       "      <th>120 Minute IPA</th>\n",
       "      <td>0.301693</td>\n",
       "      <td>1.000000</td>\n",
       "      <td>0.282273</td>\n",
       "    </tr>\n",
       "    <tr>\n",
       "      <th>1554 Enlightened Black Ale</th>\n",
       "      <td>0.330033</td>\n",
       "      <td>0.251519</td>\n",
       "      <td>0.260275</td>\n",
       "    </tr>\n",
       "    <tr>\n",
       "      <th>60 Minute IPA</th>\n",
       "      <td>0.459641</td>\n",
       "      <td>0.378258</td>\n",
       "      <td>0.360975</td>\n",
       "    </tr>\n",
       "    <tr>\n",
       "      <th>90 Minute IPA</th>\n",
       "      <td>0.441189</td>\n",
       "      <td>0.410366</td>\n",
       "      <td>0.356804</td>\n",
       "    </tr>\n",
       "  </tbody>\n",
       "</table>\n",
       "</div>"
      ],
      "text/plain": [
       "beer_name                   Sierra Nevada Pale Ale  120 Minute IPA  \\\n",
       "beer_name                                                            \n",
       "#9                                        0.373968        0.275405   \n",
       "120 Minute IPA                            0.301693        1.000000   \n",
       "1554 Enlightened Black Ale                0.330033        0.251519   \n",
       "60 Minute IPA                             0.459641        0.378258   \n",
       "90 Minute IPA                             0.441189        0.410366   \n",
       "\n",
       "beer_name                   Allagash White  \n",
       "beer_name                                   \n",
       "#9                                0.340681  \n",
       "120 Minute IPA                    0.282273  \n",
       "1554 Enlightened Black Ale        0.260275  \n",
       "60 Minute IPA                     0.360975  \n",
       "90 Minute IPA                     0.356804  "
      ]
     },
     "execution_count": 20,
     "metadata": {},
     "output_type": "execute_result"
    }
   ],
   "source": [
    "beers_i_like = ['Sierra Nevada Pale Ale', '120 Minute IPA', 'Allagash White']\n",
    "dists[beers_i_like].head()"
   ]
  },
  {
   "cell_type": "markdown",
   "metadata": {
    "slideshow": {
     "slide_type": "slide"
    }
   },
   "source": [
    "Sum the distances of my favorite beers by row, to have one distance from each beer in the sample.  For instance if there are 3 beers in your `beers_i_like` then you will be summing 3 numbers for each row.  Store the results in `beers_summed`.  There are 2 ways you can do this:  \n",
    "1. Calling `apply()` with a lambda function that contains `np.sum()` with `axis=1`\n",
    "2. Calling `np.sum()` with `axis=1` on the entire dataframe (sliced by columns you like)"
   ]
  },
  {
   "cell_type": "code",
   "execution_count": 21,
   "metadata": {
    "collapsed": false,
    "slideshow": {
     "slide_type": "slide"
    }
   },
   "outputs": [],
   "source": [
    "beers_summed = dists[beers_i_like].apply(lambda row: np.sum(row), axis=1)\n",
    "#beers_summed = np.sum(dists[beers_i_like], axis=1)"
   ]
  },
  {
   "cell_type": "markdown",
   "metadata": {
    "slideshow": {
     "slide_type": "slide"
    }
   },
   "source": [
    "Optional: which one is faster? use ```%timeit``` to check"
   ]
  },
  {
   "cell_type": "code",
   "execution_count": 22,
   "metadata": {
    "collapsed": false,
    "slideshow": {
     "slide_type": "slide"
    }
   },
   "outputs": [
    {
     "name": "stdout",
     "output_type": "stream",
     "text": [
      "10 loops, best of 3: 22.6 ms per loop\n"
     ]
    }
   ],
   "source": [
    "%timeit dists[beers_i_like].apply(lambda row: np.sum(row), axis=1)"
   ]
  },
  {
   "cell_type": "code",
   "execution_count": 23,
   "metadata": {
    "collapsed": false,
    "slideshow": {
     "slide_type": "slide"
    }
   },
   "outputs": [
    {
     "name": "stdout",
     "output_type": "stream",
     "text": [
      "The slowest run took 4.50 times longer than the fastest. This could mean that an intermediate result is being cached.\n",
      "1000 loops, best of 3: 804 µs per loop\n"
     ]
    }
   ],
   "source": [
    "%timeit np.sum(dists[beers_i_like], axis=1)"
   ]
  },
  {
   "cell_type": "markdown",
   "metadata": {
    "slideshow": {
     "slide_type": "slide"
    }
   },
   "source": [
    "Sort summed beers from best to worse using `order()`"
   ]
  },
  {
   "cell_type": "code",
   "execution_count": 24,
   "metadata": {
    "collapsed": false,
    "slideshow": {
     "slide_type": "slide"
    }
   },
   "outputs": [
    {
     "data": {
      "text/plain": [
       "beer_name\n",
       "Sierra Nevada Pale Ale                        1.654205\n",
       "Allagash White                                1.634784\n",
       "120 Minute IPA                                1.583966\n",
       "HopDevil Ale                                  1.224217\n",
       "Sierra Nevada Celebration Ale                 1.215156\n",
       "90 Minute IPA                                 1.208359\n",
       "60 Minute IPA                                 1.198874\n",
       "Stone Ruination IPA                           1.194210\n",
       "Stone IPA (India Pale Ale)                    1.193193\n",
       "Storm King Stout                              1.192405\n",
       "Arrogant Bastard Ale                          1.189981\n",
       "Sierra Nevada Bigfoot Barleywine Style Ale    1.178245\n",
       "Prima Pils                                    1.178093\n",
       "Brooklyn Black Chocolate Stout                1.156365\n",
       "Ayinger Celebrator Doppelbock                 1.148356\n",
       "Hennepin (Farmhouse Saison)                   1.147501\n",
       "Samuel Adams Boston Lager                     1.146304\n",
       "Hop Rod Rye                                   1.140271\n",
       "Old Rasputin Russian Imperial Stout           1.136691\n",
       "La Fin Du Monde                               1.128933\n",
       "Hop Wallop                                    1.127292\n",
       "Double Bastard Ale                            1.123117\n",
       "Two Hearted Ale                               1.120865\n",
       "Stone Smoked Porter                           1.115290\n",
       "St. Bernardus Abt 12                          1.109141\n",
       "Schneider Aventinus                           1.106357\n",
       "India Pale Ale                                1.104981\n",
       "Stone Imperial Russian Stout                  1.102951\n",
       "Anchor Steam Beer                             1.101660\n",
       "Duvel                                         1.099554\n",
       "                                                ...   \n",
       "Samuel Adams Cherry Wheat                     0.813352\n",
       "Sculpin India Pale Ale                        0.803009\n",
       "Blind Pig IPA                                 0.796287\n",
       "Red Stripe Jamaican Lager                     0.793733\n",
       "Left Hand Milk Stout                          0.791853\n",
       "Creme Brulee (Imperial Milk Stout)            0.791077\n",
       "Black Butte Porter                            0.789189\n",
       "Boddingtons Pub Ale                           0.788361\n",
       "Imperial IPA                                  0.785819\n",
       "Dark Lord Imperial Stout                      0.782857\n",
       "Murphy's Irish Stout                          0.782647\n",
       "Founders Backwoods Bastard                    0.779792\n",
       "Founders Porter                               0.764203\n",
       "Pabst Blue Ribbon (PBR)                       0.760712\n",
       "Supplication                                  0.760145\n",
       "Budweiser                                     0.758390\n",
       "Furious                                       0.757417\n",
       "New Holland Dragon's Milk Oak Barrel Ale      0.756746\n",
       "Raging Bitch Belgian-Style IPA                0.752031\n",
       "Terrapin Coffee Oatmeal Imperial Stout        0.750240\n",
       "Hobgoblin                                     0.748117\n",
       "Shiner Bock                                   0.739454\n",
       "The Abyss                                     0.723008\n",
       "Miller Lite                                   0.716208\n",
       "Leinenkugel's Sunset Wheat                    0.710691\n",
       "Bud Light                                     0.710377\n",
       "Corona Extra                                  0.682882\n",
       "Miller High Life                              0.682360\n",
       "Coors Light                                   0.670167\n",
       "Vanilla Porter                                0.664363\n",
       "dtype: float64"
      ]
     },
     "execution_count": 24,
     "metadata": {},
     "output_type": "execute_result"
    }
   ],
   "source": [
    "beers_summed = beers_summed.sort_values(ascending=False)\n",
    "beers_summed"
   ]
  },
  {
   "cell_type": "markdown",
   "metadata": {
    "slideshow": {
     "slide_type": "slide"
    }
   },
   "source": [
    "Filter out the beers used as input using `isin()` and store this in `ranked_beers`, then transform this to a list using `tolist()`.  Print out the first 5 elements."
   ]
  },
  {
   "cell_type": "code",
   "execution_count": 25,
   "metadata": {
    "collapsed": false,
    "slideshow": {
     "slide_type": "slide"
    }
   },
   "outputs": [
    {
     "data": {
      "text/plain": [
       "['HopDevil Ale',\n",
       " 'Sierra Nevada Celebration Ale',\n",
       " '90 Minute IPA',\n",
       " '60 Minute IPA',\n",
       " 'Stone Ruination IPA']"
      ]
     },
     "execution_count": 25,
     "metadata": {},
     "output_type": "execute_result"
    }
   ],
   "source": [
    "ranked_beers = beers_summed.index[beers_summed.index.isin(beers_i_like)==False]\n",
    "ranked_beers = ranked_beers.tolist()\n",
    "ranked_beers[:5]"
   ]
  },
  {
   "cell_type": "markdown",
   "metadata": {
    "slideshow": {
     "slide_type": "slide"
    }
   },
   "source": [
    "Define a function that does what we just did for an arbitrary input list of beers. it should also receive the maximum number of beers requested n as optional parameter."
   ]
  },
  {
   "cell_type": "code",
   "execution_count": 26,
   "metadata": {
    "collapsed": false,
    "slideshow": {
     "slide_type": "slide"
    }
   },
   "outputs": [],
   "source": [
    "def get_similar(beers, n=None):\n",
    "    \"\"\"\n",
    "    calculates which beers are most similar to the beers provided. Does not return\n",
    "    the beers that were provided\n",
    "    \n",
    "    Parameters\n",
    "    ----------\n",
    "    beers: list\n",
    "        some beers!\n",
    "    \n",
    "    Returns\n",
    "    -------\n",
    "    ranked_beers: list\n",
    "        rank ordered beers\n",
    "    \"\"\"\n",
    "    beers = [beer for beer in beers if beer in dists.columns]\n",
    "    beers_summed = dists[beers].apply(lambda row: np.sum(row), axis=1)\n",
    "    beers_summed = beers_summed.order(ascending=False)\n",
    "    ranked_beers = beers_summed.index[beers_summed.index.isin(beers)==False]\n",
    "    ranked_beers = ranked_beers.tolist()\n",
    "    if n is None:\n",
    "        return ranked_beers\n",
    "    else:\n",
    "        return ranked_beers[:n]"
   ]
  },
  {
   "cell_type": "markdown",
   "metadata": {
    "slideshow": {
     "slide_type": "slide"
    }
   },
   "source": [
    "Test your function. Find the 10 beers most similar to \"120 Minute IPA\""
   ]
  },
  {
   "cell_type": "code",
   "execution_count": 28,
   "metadata": {
    "collapsed": false,
    "slideshow": {
     "slide_type": "slide"
    }
   },
   "outputs": [
    {
     "name": "stdout",
     "output_type": "stream",
     "text": [
      "World Wide Stout\n",
      "90 Minute IPA\n",
      "Double Bastard Ale\n",
      "Stone Ruination IPA\n",
      "Stone Imperial Russian Stout\n",
      "Storm King Stout\n",
      "60 Minute IPA\n",
      "Oaked Arrogant Bastard Ale\n",
      "Sierra Nevada Bigfoot Barleywine Style Ale\n",
      "Brooklyn Black Chocolate Stout\n"
     ]
    },
    {
     "name": "stderr",
     "output_type": "stream",
     "text": [
      "/Users/ablevins/anaconda/envs/py35/lib/python3.5/site-packages/ipykernel/__main__.py:18: FutureWarning: order is deprecated, use sort_values(...)\n"
     ]
    }
   ],
   "source": [
    "for beer in get_similar([\"120 Minute IPA\"], 10):\n",
    "    print(beer)"
   ]
  },
  {
   "cell_type": "markdown",
   "metadata": {
    "slideshow": {
     "slide_type": "slide"
    }
   },
   "source": [
    "Cool, let's try again with the 10 beers most similar to [\"Coors Light\", \"Bud Light\", \"Amstel Light\"]"
   ]
  },
  {
   "cell_type": "code",
   "execution_count": 29,
   "metadata": {
    "collapsed": false
   },
   "outputs": [
    {
     "name": "stdout",
     "output_type": "stream",
     "text": [
      "1) Miller Lite\n",
      "2) Budweiser\n",
      "3) Corona Extra\n",
      "4) Samuel Adams Boston Lager\n",
      "5) Heineken Lager Beer\n",
      "6) Blue Moon Belgian White\n",
      "7) Guinness Draught\n",
      "8) Miller High Life\n",
      "9) Samuel Adams Summer Ale\n",
      "10) Sierra Nevada Pale Ale\n"
     ]
    },
    {
     "name": "stderr",
     "output_type": "stream",
     "text": [
      "/Users/ablevins/anaconda/envs/py35/lib/python3.5/site-packages/ipykernel/__main__.py:18: FutureWarning: order is deprecated, use sort_values(...)\n"
     ]
    }
   ],
   "source": [
    "for i, beer in enumerate(get_similar([\"Coors Light\", \"Bud Light\", \"Amstel Light\"], 10)):\n",
    "    print(\"%d) %s\" % (i+1, beer))"
   ]
  },
  {
   "cell_type": "code",
   "execution_count": null,
   "metadata": {
    "collapsed": true
   },
   "outputs": [],
   "source": []
  },
  {
   "cell_type": "markdown",
   "metadata": {
    "slideshow": {
     "slide_type": "slide"
    }
   },
   "source": [
    "## Movie Recommendations with Recsys\n",
    "[python-recsys](https://github.com/ocelma/python-recsys) is a nice python library for implementing recommender systems.  We'll use it here to try and make movie recommendations from the [movielens dataset](http://grouplens.org/datasets/movielens/).  "
   ]
  },
  {
   "cell_type": "markdown",
   "metadata": {
    "slideshow": {
     "slide_type": "slide"
    }
   },
   "source": [
    "### Install Recsys\n",
    "First run something like the below code to install everything that you need for recsys."
   ]
  },
  {
   "cell_type": "markdown",
   "metadata": {
    "slideshow": {
     "slide_type": "slide"
    }
   },
   "source": [
    "## install python-recsys"
   ]
  },
  {
   "cell_type": "markdown",
   "metadata": {
    "slideshow": {
     "slide_type": "slide"
    }
   },
   "source": [
    "### first install dependencies\n",
    "\n",
    "pip install csc-pysparse networkx divisi2"
   ]
  },
  {
   "cell_type": "markdown",
   "metadata": {
    "slideshow": {
     "slide_type": "slide"
    }
   },
   "source": [
    "### Get the Data\n",
    "Download the movielens dataset [here](http://files.grouplens.org/datasets/movielens/ml-20m.zip) "
   ]
  },
  {
   "cell_type": "markdown",
   "metadata": {
    "slideshow": {
     "slide_type": "slide"
    }
   },
   "source": [
    "Let's look at the files, you can do this however you like."
   ]
  },
  {
   "cell_type": "code",
   "execution_count": 35,
   "metadata": {
    "collapsed": false,
    "slideshow": {
     "slide_type": "slide"
    }
   },
   "outputs": [
    {
     "name": "stdout",
     "output_type": "stream",
     "text": [
      "GoogleNews-vectors-negative300.bin    beer_reviews.tar.gz\r\n",
      "GoogleNews-vectors-negative300.bin.gz enable1.txt\r\n",
      "\u001b[34mbeer_reviews\u001b[m\u001b[m                          text8.zip\r\n",
      "beer_reviews.tar                      text8.zip.1\r\n"
     ]
    }
   ],
   "source": [
    "! ls /Users/ablevins/data"
   ]
  },
  {
   "cell_type": "markdown",
   "metadata": {
    "slideshow": {
     "slide_type": "slide"
    }
   },
   "source": [
    "Read in the movies.dat data into a variable `movies` by using `pd.read_table` with `sep='::'`.  Make sure to set the `names` to ITEMID, Title, and Genres to set the columns and the `index_col` to ITEMID."
   ]
  },
  {
   "cell_type": "code",
   "execution_count": 40,
   "metadata": {
    "collapsed": false,
    "slideshow": {
     "slide_type": "slide"
    }
   },
   "outputs": [],
   "source": [
    "movies = pd.read_table('~/data/ml-20m/movies.csv', sep=',')"
   ]
  },
  {
   "cell_type": "markdown",
   "metadata": {
    "slideshow": {
     "slide_type": "slide"
    }
   },
   "source": [
    "### Explore the Data\n",
    "Take a look at the movies data with `head()`."
   ]
  },
  {
   "cell_type": "code",
   "execution_count": 41,
   "metadata": {
    "collapsed": false,
    "slideshow": {
     "slide_type": "slide"
    }
   },
   "outputs": [
    {
     "data": {
      "text/html": [
       "<div>\n",
       "<table border=\"1\" class=\"dataframe\">\n",
       "  <thead>\n",
       "    <tr style=\"text-align: right;\">\n",
       "      <th></th>\n",
       "      <th>movieId</th>\n",
       "      <th>title</th>\n",
       "      <th>genres</th>\n",
       "    </tr>\n",
       "  </thead>\n",
       "  <tbody>\n",
       "    <tr>\n",
       "      <th>0</th>\n",
       "      <td>1</td>\n",
       "      <td>Toy Story (1995)</td>\n",
       "      <td>Adventure|Animation|Children|Comedy|Fantasy</td>\n",
       "    </tr>\n",
       "    <tr>\n",
       "      <th>1</th>\n",
       "      <td>2</td>\n",
       "      <td>Jumanji (1995)</td>\n",
       "      <td>Adventure|Children|Fantasy</td>\n",
       "    </tr>\n",
       "    <tr>\n",
       "      <th>2</th>\n",
       "      <td>3</td>\n",
       "      <td>Grumpier Old Men (1995)</td>\n",
       "      <td>Comedy|Romance</td>\n",
       "    </tr>\n",
       "    <tr>\n",
       "      <th>3</th>\n",
       "      <td>4</td>\n",
       "      <td>Waiting to Exhale (1995)</td>\n",
       "      <td>Comedy|Drama|Romance</td>\n",
       "    </tr>\n",
       "    <tr>\n",
       "      <th>4</th>\n",
       "      <td>5</td>\n",
       "      <td>Father of the Bride Part II (1995)</td>\n",
       "      <td>Comedy</td>\n",
       "    </tr>\n",
       "  </tbody>\n",
       "</table>\n",
       "</div>"
      ],
      "text/plain": [
       "   movieId                               title  \\\n",
       "0        1                    Toy Story (1995)   \n",
       "1        2                      Jumanji (1995)   \n",
       "2        3             Grumpier Old Men (1995)   \n",
       "3        4            Waiting to Exhale (1995)   \n",
       "4        5  Father of the Bride Part II (1995)   \n",
       "\n",
       "                                        genres  \n",
       "0  Adventure|Animation|Children|Comedy|Fantasy  \n",
       "1                   Adventure|Children|Fantasy  \n",
       "2                               Comedy|Romance  \n",
       "3                         Comedy|Drama|Romance  \n",
       "4                                       Comedy  "
      ]
     },
     "execution_count": 41,
     "metadata": {},
     "output_type": "execute_result"
    }
   ],
   "source": [
    "movies.head()"
   ]
  },
  {
   "cell_type": "markdown",
   "metadata": {
    "slideshow": {
     "slide_type": "slide"
    }
   },
   "source": [
    "Load the ratings.dat data into a `ratings` variable with the same separator, and the column names UserID, MovieID, Rating, Timestamp."
   ]
  },
  {
   "cell_type": "code",
   "execution_count": 5,
   "metadata": {
    "collapsed": false,
    "slideshow": {
     "slide_type": "slide"
    }
   },
   "outputs": [],
   "source": [
    "ratings = pd.read_table('~/data/ml-20m/ratings.csv', sep=',')"
   ]
  },
  {
   "cell_type": "code",
   "execution_count": 6,
   "metadata": {
    "collapsed": false,
    "slideshow": {
     "slide_type": "slide"
    }
   },
   "outputs": [
    {
     "data": {
      "text/html": [
       "<div>\n",
       "<table border=\"1\" class=\"dataframe\">\n",
       "  <thead>\n",
       "    <tr style=\"text-align: right;\">\n",
       "      <th></th>\n",
       "      <th>userId</th>\n",
       "      <th>movieId</th>\n",
       "      <th>rating</th>\n",
       "      <th>timestamp</th>\n",
       "    </tr>\n",
       "  </thead>\n",
       "  <tbody>\n",
       "    <tr>\n",
       "      <th>0</th>\n",
       "      <td>1</td>\n",
       "      <td>2</td>\n",
       "      <td>3.5</td>\n",
       "      <td>1112486027</td>\n",
       "    </tr>\n",
       "    <tr>\n",
       "      <th>1</th>\n",
       "      <td>1</td>\n",
       "      <td>29</td>\n",
       "      <td>3.5</td>\n",
       "      <td>1112484676</td>\n",
       "    </tr>\n",
       "    <tr>\n",
       "      <th>2</th>\n",
       "      <td>1</td>\n",
       "      <td>32</td>\n",
       "      <td>3.5</td>\n",
       "      <td>1112484819</td>\n",
       "    </tr>\n",
       "    <tr>\n",
       "      <th>3</th>\n",
       "      <td>1</td>\n",
       "      <td>47</td>\n",
       "      <td>3.5</td>\n",
       "      <td>1112484727</td>\n",
       "    </tr>\n",
       "    <tr>\n",
       "      <th>4</th>\n",
       "      <td>1</td>\n",
       "      <td>50</td>\n",
       "      <td>3.5</td>\n",
       "      <td>1112484580</td>\n",
       "    </tr>\n",
       "  </tbody>\n",
       "</table>\n",
       "</div>"
      ],
      "text/plain": [
       "   userId  movieId  rating   timestamp\n",
       "0       1        2     3.5  1112486027\n",
       "1       1       29     3.5  1112484676\n",
       "2       1       32     3.5  1112484819\n",
       "3       1       47     3.5  1112484727\n",
       "4       1       50     3.5  1112484580"
      ]
     },
     "execution_count": 6,
     "metadata": {},
     "output_type": "execute_result"
    }
   ],
   "source": [
    "ratings.head()"
   ]
  },
  {
   "cell_type": "code",
   "execution_count": 13,
   "metadata": {
    "collapsed": false,
    "slideshow": {
     "slide_type": "slide"
    }
   },
   "outputs": [
    {
     "data": {
      "text/plain": [
       "296       67310\n",
       "356       66172\n",
       "318       63366\n",
       "593       63299\n",
       "480       59715\n",
       "260       54502\n",
       "110       53769\n",
       "589       52244\n",
       "2571      51334\n",
       "527       50054\n",
       "1         49695\n",
       "457       49581\n",
       "150       47777\n",
       "780       47048\n",
       "50        47006\n",
       "1210      46839\n",
       "592       46054\n",
       "1196      45313\n",
       "2858      44987\n",
       "32        44980\n",
       "590       44208\n",
       "1198      43295\n",
       "608       43272\n",
       "47        43249\n",
       "380       43159\n",
       "588       41842\n",
       "377       41562\n",
       "1270      41426\n",
       "858       41355\n",
       "2959      40106\n",
       "          ...  \n",
       "107238        1\n",
       "123629        1\n",
       "107236        1\n",
       "74478         1\n",
       "123621        1\n",
       "116323        1\n",
       "107248        1\n",
       "123645        1\n",
       "107252        1\n",
       "107147        1\n",
       "90777         1\n",
       "123627        1\n",
       "107241        1\n",
       "107268        1\n",
       "123596        1\n",
       "90883         1\n",
       "123669        1\n",
       "90935         1\n",
       "107316        1\n",
       "123587        1\n",
       "107202        1\n",
       "107204        1\n",
       "107243        1\n",
       "99939         1\n",
       "123600        1\n",
       "123607        1\n",
       "90823         1\n",
       "123609        1\n",
       "123613        1\n",
       "131136        1\n",
       "Name: movieId, dtype: int64"
      ]
     },
     "execution_count": 13,
     "metadata": {},
     "output_type": "execute_result"
    }
   ],
   "source": [
    "ratings.movieId.value_counts()"
   ]
  },
  {
   "cell_type": "code",
   "execution_count": 15,
   "metadata": {
    "collapsed": false,
    "slideshow": {
     "slide_type": "slide"
    }
   },
   "outputs": [
    {
     "data": {
      "text/html": [
       "<div>\n",
       "<table border=\"1\" class=\"dataframe\">\n",
       "  <thead>\n",
       "    <tr style=\"text-align: right;\">\n",
       "      <th></th>\n",
       "      <th>userId</th>\n",
       "      <th>movieId</th>\n",
       "      <th>rating</th>\n",
       "      <th>timestamp</th>\n",
       "    </tr>\n",
       "  </thead>\n",
       "  <tbody>\n",
       "    <tr>\n",
       "      <th>0</th>\n",
       "      <td>1</td>\n",
       "      <td>2</td>\n",
       "      <td>3.5</td>\n",
       "      <td>1112486027</td>\n",
       "    </tr>\n",
       "    <tr>\n",
       "      <th>2</th>\n",
       "      <td>1</td>\n",
       "      <td>32</td>\n",
       "      <td>3.5</td>\n",
       "      <td>1112484819</td>\n",
       "    </tr>\n",
       "    <tr>\n",
       "      <th>3</th>\n",
       "      <td>1</td>\n",
       "      <td>47</td>\n",
       "      <td>3.5</td>\n",
       "      <td>1112484727</td>\n",
       "    </tr>\n",
       "    <tr>\n",
       "      <th>4</th>\n",
       "      <td>1</td>\n",
       "      <td>50</td>\n",
       "      <td>3.5</td>\n",
       "      <td>1112484580</td>\n",
       "    </tr>\n",
       "    <tr>\n",
       "      <th>7</th>\n",
       "      <td>1</td>\n",
       "      <td>223</td>\n",
       "      <td>4.0</td>\n",
       "      <td>1112485573</td>\n",
       "    </tr>\n",
       "  </tbody>\n",
       "</table>\n",
       "</div>"
      ],
      "text/plain": [
       "   userId  movieId  rating   timestamp\n",
       "0       1        2     3.5  1112486027\n",
       "2       1       32     3.5  1112484819\n",
       "3       1       47     3.5  1112484727\n",
       "4       1       50     3.5  1112484580\n",
       "7       1      223     4.0  1112485573"
      ]
     },
     "execution_count": 15,
     "metadata": {},
     "output_type": "execute_result"
    }
   ],
   "source": [
    "n = 250\n",
    "top_n = ratings.movieId.value_counts().index[:n]\n",
    "ratings = ratings[ratings.movieId.isin(top_n)]\n",
    "ratings.head()"
   ]
  },
  {
   "cell_type": "code",
   "execution_count": 16,
   "metadata": {
    "collapsed": false,
    "slideshow": {
     "slide_type": "slide"
    }
   },
   "outputs": [],
   "source": [
    "\n",
    "UserMovieMatrix = pd.pivot_table(ratings,values='rating',\n",
    "                                index=['userId','movieId'],\n",
    "                                aggfunc=np.mean).unstack()"
   ]
  },
  {
   "cell_type": "code",
   "execution_count": 17,
   "metadata": {
    "collapsed": false,
    "slideshow": {
     "slide_type": "slide"
    }
   },
   "outputs": [
    {
     "data": {
      "text/html": [
       "<div>\n",
       "<table border=\"1\" class=\"dataframe\">\n",
       "  <thead>\n",
       "    <tr style=\"text-align: right;\">\n",
       "      <th>movieId</th>\n",
       "      <th>1</th>\n",
       "      <th>2</th>\n",
       "      <th>6</th>\n",
       "      <th>10</th>\n",
       "      <th>11</th>\n",
       "      <th>16</th>\n",
       "      <th>17</th>\n",
       "      <th>19</th>\n",
       "      <th>21</th>\n",
       "      <th>25</th>\n",
       "      <th>...</th>\n",
       "      <th>6711</th>\n",
       "      <th>6874</th>\n",
       "      <th>7153</th>\n",
       "      <th>7361</th>\n",
       "      <th>7438</th>\n",
       "      <th>8636</th>\n",
       "      <th>8961</th>\n",
       "      <th>32587</th>\n",
       "      <th>33794</th>\n",
       "      <th>58559</th>\n",
       "    </tr>\n",
       "    <tr>\n",
       "      <th>userId</th>\n",
       "      <th></th>\n",
       "      <th></th>\n",
       "      <th></th>\n",
       "      <th></th>\n",
       "      <th></th>\n",
       "      <th></th>\n",
       "      <th></th>\n",
       "      <th></th>\n",
       "      <th></th>\n",
       "      <th></th>\n",
       "      <th></th>\n",
       "      <th></th>\n",
       "      <th></th>\n",
       "      <th></th>\n",
       "      <th></th>\n",
       "      <th></th>\n",
       "      <th></th>\n",
       "      <th></th>\n",
       "      <th></th>\n",
       "      <th></th>\n",
       "      <th></th>\n",
       "    </tr>\n",
       "  </thead>\n",
       "  <tbody>\n",
       "    <tr>\n",
       "      <th>1</th>\n",
       "      <td>NaN</td>\n",
       "      <td>3.5</td>\n",
       "      <td>NaN</td>\n",
       "      <td>NaN</td>\n",
       "      <td>NaN</td>\n",
       "      <td>NaN</td>\n",
       "      <td>NaN</td>\n",
       "      <td>NaN</td>\n",
       "      <td>NaN</td>\n",
       "      <td>NaN</td>\n",
       "      <td>...</td>\n",
       "      <td>NaN</td>\n",
       "      <td>NaN</td>\n",
       "      <td>5.0</td>\n",
       "      <td>NaN</td>\n",
       "      <td>4.0</td>\n",
       "      <td>4.5</td>\n",
       "      <td>4.0</td>\n",
       "      <td>NaN</td>\n",
       "      <td>NaN</td>\n",
       "      <td>NaN</td>\n",
       "    </tr>\n",
       "    <tr>\n",
       "      <th>2</th>\n",
       "      <td>NaN</td>\n",
       "      <td>NaN</td>\n",
       "      <td>NaN</td>\n",
       "      <td>NaN</td>\n",
       "      <td>NaN</td>\n",
       "      <td>NaN</td>\n",
       "      <td>NaN</td>\n",
       "      <td>NaN</td>\n",
       "      <td>NaN</td>\n",
       "      <td>NaN</td>\n",
       "      <td>...</td>\n",
       "      <td>NaN</td>\n",
       "      <td>NaN</td>\n",
       "      <td>NaN</td>\n",
       "      <td>NaN</td>\n",
       "      <td>NaN</td>\n",
       "      <td>NaN</td>\n",
       "      <td>NaN</td>\n",
       "      <td>NaN</td>\n",
       "      <td>NaN</td>\n",
       "      <td>NaN</td>\n",
       "    </tr>\n",
       "    <tr>\n",
       "      <th>3</th>\n",
       "      <td>4.0</td>\n",
       "      <td>NaN</td>\n",
       "      <td>NaN</td>\n",
       "      <td>NaN</td>\n",
       "      <td>NaN</td>\n",
       "      <td>NaN</td>\n",
       "      <td>NaN</td>\n",
       "      <td>NaN</td>\n",
       "      <td>NaN</td>\n",
       "      <td>NaN</td>\n",
       "      <td>...</td>\n",
       "      <td>NaN</td>\n",
       "      <td>NaN</td>\n",
       "      <td>NaN</td>\n",
       "      <td>NaN</td>\n",
       "      <td>NaN</td>\n",
       "      <td>NaN</td>\n",
       "      <td>NaN</td>\n",
       "      <td>NaN</td>\n",
       "      <td>NaN</td>\n",
       "      <td>NaN</td>\n",
       "    </tr>\n",
       "    <tr>\n",
       "      <th>4</th>\n",
       "      <td>NaN</td>\n",
       "      <td>NaN</td>\n",
       "      <td>3.0</td>\n",
       "      <td>4.0</td>\n",
       "      <td>NaN</td>\n",
       "      <td>NaN</td>\n",
       "      <td>NaN</td>\n",
       "      <td>3.0</td>\n",
       "      <td>NaN</td>\n",
       "      <td>NaN</td>\n",
       "      <td>...</td>\n",
       "      <td>NaN</td>\n",
       "      <td>NaN</td>\n",
       "      <td>NaN</td>\n",
       "      <td>NaN</td>\n",
       "      <td>NaN</td>\n",
       "      <td>NaN</td>\n",
       "      <td>NaN</td>\n",
       "      <td>NaN</td>\n",
       "      <td>NaN</td>\n",
       "      <td>NaN</td>\n",
       "    </tr>\n",
       "    <tr>\n",
       "      <th>5</th>\n",
       "      <td>NaN</td>\n",
       "      <td>3.0</td>\n",
       "      <td>NaN</td>\n",
       "      <td>NaN</td>\n",
       "      <td>5.0</td>\n",
       "      <td>NaN</td>\n",
       "      <td>3.0</td>\n",
       "      <td>NaN</td>\n",
       "      <td>NaN</td>\n",
       "      <td>NaN</td>\n",
       "      <td>...</td>\n",
       "      <td>NaN</td>\n",
       "      <td>NaN</td>\n",
       "      <td>NaN</td>\n",
       "      <td>NaN</td>\n",
       "      <td>NaN</td>\n",
       "      <td>NaN</td>\n",
       "      <td>NaN</td>\n",
       "      <td>NaN</td>\n",
       "      <td>NaN</td>\n",
       "      <td>NaN</td>\n",
       "    </tr>\n",
       "  </tbody>\n",
       "</table>\n",
       "<p>5 rows × 250 columns</p>\n",
       "</div>"
      ],
      "text/plain": [
       "movieId  1      2      6      10     11     16     17     19     21     25     \\\n",
       "userId                                                                          \n",
       "1          NaN    3.5    NaN    NaN    NaN    NaN    NaN    NaN    NaN    NaN   \n",
       "2          NaN    NaN    NaN    NaN    NaN    NaN    NaN    NaN    NaN    NaN   \n",
       "3          4.0    NaN    NaN    NaN    NaN    NaN    NaN    NaN    NaN    NaN   \n",
       "4          NaN    NaN    3.0    4.0    NaN    NaN    NaN    3.0    NaN    NaN   \n",
       "5          NaN    3.0    NaN    NaN    5.0    NaN    3.0    NaN    NaN    NaN   \n",
       "\n",
       "movieId  ...    6711   6874   7153   7361   7438   8636   8961   32587  33794  \\\n",
       "userId   ...                                                                    \n",
       "1        ...      NaN    NaN    5.0    NaN    4.0    4.5    4.0    NaN    NaN   \n",
       "2        ...      NaN    NaN    NaN    NaN    NaN    NaN    NaN    NaN    NaN   \n",
       "3        ...      NaN    NaN    NaN    NaN    NaN    NaN    NaN    NaN    NaN   \n",
       "4        ...      NaN    NaN    NaN    NaN    NaN    NaN    NaN    NaN    NaN   \n",
       "5        ...      NaN    NaN    NaN    NaN    NaN    NaN    NaN    NaN    NaN   \n",
       "\n",
       "movieId  58559  \n",
       "userId          \n",
       "1          NaN  \n",
       "2          NaN  \n",
       "3          NaN  \n",
       "4          NaN  \n",
       "5          NaN  \n",
       "\n",
       "[5 rows x 250 columns]"
      ]
     },
     "execution_count": 17,
     "metadata": {},
     "output_type": "execute_result"
    }
   ],
   "source": [
    "UserMovieMatrix.head()"
   ]
  },
  {
   "cell_type": "markdown",
   "metadata": {
    "slideshow": {
     "slide_type": "slide"
    }
   },
   "source": [
    "Initialize an `SVD` instance called `svd`"
   ]
  },
  {
   "cell_type": "code",
   "execution_count": 20,
   "metadata": {
    "collapsed": false
   },
   "outputs": [],
   "source": [
    "UserMovieMatrixz = UserMovieMatrix.fillna(2.5)"
   ]
  },
  {
   "cell_type": "code",
   "execution_count": 21,
   "metadata": {
    "collapsed": false,
    "slideshow": {
     "slide_type": "slide"
    }
   },
   "outputs": [],
   "source": [
    "from sklearn.utils.extmath import randomized_svd\n",
    "\n",
    "U, Sigma, VT = randomized_svd(UserMovieMatrixz, \n",
    "                              n_components=15,\n",
    "                              n_iter=5,\n",
    "                              random_state=None)"
   ]
  },
  {
   "cell_type": "code",
   "execution_count": 24,
   "metadata": {
    "collapsed": false,
    "slideshow": {
     "slide_type": "slide"
    }
   },
   "outputs": [
    {
     "data": {
      "text/plain": [
       "array([[ 0.10175526,  0.04401612,  0.05358105, ...,  0.04304211,\n",
       "         0.04993961,  0.04361131],\n",
       "       [ 0.02227473,  0.04958232,  0.0340221 , ..., -0.05179667,\n",
       "        -0.05739599, -0.05808536],\n",
       "       [-0.01404039, -0.0387483 ,  0.03251913, ..., -0.08670394,\n",
       "        -0.11178202, -0.10526736],\n",
       "       ..., \n",
       "       [ 0.11517488,  0.02861333, -0.02146591, ...,  0.01648529,\n",
       "         0.00231085, -0.01335648],\n",
       "       [ 0.01779486,  0.06436341,  0.07961331, ..., -0.03372538,\n",
       "        -0.01111026, -0.0045956 ],\n",
       "       [-0.23715209,  0.05962051, -0.07311029, ..., -0.0151384 ,\n",
       "        -0.02143973,  0.08025806]])"
      ]
     },
     "execution_count": 24,
     "metadata": {},
     "output_type": "execute_result"
    }
   ],
   "source": [
    "VT"
   ]
  },
  {
   "cell_type": "markdown",
   "metadata": {
    "slideshow": {
     "slide_type": "slide"
    }
   },
   "source": [
    " \n",
    "- Use `k=100`\n",
    "- Use `min_values=10`\n",
    "- Use `pre_normalize=None`\n",
    "- Use `mean_center=True`\n",
    "- Use `post_normalize=True`\n",
    "\n",
    "$M=U \\Sigma V^T$:"
   ]
  },
  {
   "cell_type": "code",
   "execution_count": null,
   "metadata": {
    "collapsed": false,
    "slideshow": {
     "slide_type": "slide"
    }
   },
   "outputs": [],
   "source": []
  },
  {
   "cell_type": "markdown",
   "metadata": {
    "slideshow": {
     "slide_type": "slide"
    }
   },
   "source": [
    "you can also save the output SVD model (in a zip file)"
   ]
  },
  {
   "cell_type": "code",
   "execution_count": null,
   "metadata": {
    "collapsed": false,
    "slideshow": {
     "slide_type": "slide"
    }
   },
   "outputs": [],
   "source": [
    "# svd.compute(k=k, min_values=10, pre_normalize=None, mean_center=True, post_normalize=True, savefile='/tmp/movielens')"
   ]
  },
  {
   "cell_type": "markdown",
   "metadata": {
    "slideshow": {
     "slide_type": "slide"
    }
   },
   "source": [
    "Reload a saved model:"
   ]
  },
  {
   "cell_type": "code",
   "execution_count": null,
   "metadata": {
    "collapsed": false,
    "slideshow": {
     "slide_type": "slide"
    }
   },
   "outputs": [],
   "source": [
    "# svd2 = SVD(filename='/tmp/movielens')"
   ]
  },
  {
   "cell_type": "markdown",
   "metadata": {},
   "source": [
    "### Computing Similarities and Making Recommendations\n",
    "Let's compute similarity between two movies, first we need to use the movies table to get the itemid that will be used with the ratings data that generated our svd.\n",
    "\n",
    "Determine the movie ids of \"Toy Story (1995)\" and \"Bug's Life, A (1998)\"."
   ]
  },
  {
   "cell_type": "code",
   "execution_count": null,
   "metadata": {
    "collapsed": false
   },
   "outputs": [],
   "source": [
    "movies[movies.Title == \"Toy Story (1995)\"]"
   ]
  },
  {
   "cell_type": "code",
   "execution_count": null,
   "metadata": {
    "collapsed": false,
    "slideshow": {
     "slide_type": "slide"
    }
   },
   "outputs": [],
   "source": [
    "movies[movies.Title == \"Bug's Life, A (1998)\"]"
   ]
  },
  {
   "cell_type": "markdown",
   "metadata": {
    "slideshow": {
     "slide_type": "slide"
    }
   },
   "source": [
    "Print the similarity of these 2 movies by calling `svd.similarity()` with those 2 IDs."
   ]
  },
  {
   "cell_type": "code",
   "execution_count": null,
   "metadata": {
    "collapsed": false,
    "slideshow": {
     "slide_type": "slide"
    }
   },
   "outputs": [],
   "source": [
    "ITEMID1 = 1    # Toy Story (1995)\n",
    "ITEMID2 = 2355 # A bug's life (1998)\n",
    "print svd.similarity(ITEMID1, ITEMID2)\n",
    "# print svd2.similarity(ITEMID1, ITEMID2) to check"
   ]
  },
  {
   "cell_type": "markdown",
   "metadata": {
    "slideshow": {
     "slide_type": "slide"
    }
   },
   "source": [
    "Use `svd.similar()` to get movies similar to Toy Story."
   ]
  },
  {
   "cell_type": "code",
   "execution_count": null,
   "metadata": {
    "collapsed": false,
    "slideshow": {
     "slide_type": "slide"
    }
   },
   "outputs": [],
   "source": [
    "svd.similar(ITEMID1)"
   ]
  },
  {
   "cell_type": "markdown",
   "metadata": {
    "slideshow": {
     "slide_type": "slide"
    }
   },
   "source": [
    "Try using `svd.predict()` to predict ratings for a given user and movie, $\\hat{r}_{ui}$"
   ]
  },
  {
   "cell_type": "code",
   "execution_count": null,
   "metadata": {
    "collapsed": false,
    "scrolled": true,
    "slideshow": {
     "slide_type": "slide"
    }
   },
   "outputs": [],
   "source": [
    "MIN_RATING = 0.0\n",
    "MAX_RATING = 5.0\n",
    "ITEMID = 1\n",
    "USERID = 1\n",
    "svd.predict(ITEMID, USERID, MIN_RATING, MAX_RATING)"
   ]
  },
  {
   "cell_type": "markdown",
   "metadata": {
    "slideshow": {
     "slide_type": "slide"
    }
   },
   "source": [
    "Look it up in the matrix..."
   ]
  },
  {
   "cell_type": "code",
   "execution_count": null,
   "metadata": {
    "collapsed": false,
    "slideshow": {
     "slide_type": "slide"
    }
   },
   "outputs": [],
   "source": [
    "svd.get_matrix().value(ITEMID, USERID)"
   ]
  },
  {
   "cell_type": "markdown",
   "metadata": {
    "slideshow": {
     "slide_type": "slide"
    }
   },
   "source": [
    "Try using `svd.recommend()` to Recommend non rated movies to a user (`is_row=False`)"
   ]
  },
  {
   "cell_type": "code",
   "execution_count": null,
   "metadata": {
    "collapsed": false,
    "slideshow": {
     "slide_type": "slide"
    }
   },
   "outputs": [],
   "source": [
    "svd.recommend(USERID, is_row=False)"
   ]
  },
  {
   "cell_type": "markdown",
   "metadata": {
    "slideshow": {
     "slide_type": "slide"
    }
   },
   "source": [
    "Which users should see Toy Story? (e.g. which users -that have not rated Toy Story- would give it a high rating?)"
   ]
  },
  {
   "cell_type": "code",
   "execution_count": null,
   "metadata": {
    "collapsed": false,
    "slideshow": {
     "slide_type": "slide"
    }
   },
   "outputs": [],
   "source": [
    "svd.recommend(ITEMID)"
   ]
  },
  {
   "cell_type": "markdown",
   "metadata": {
    "slideshow": {
     "slide_type": "slide"
    }
   },
   "source": [
    "Find out more here: [https://github.com/ocelma/python-recsys](https://github.com/ocelma/python-recsys)"
   ]
  }
 ],
 "metadata": {
  "anaconda-cloud": {},
  "celltoolbar": "Slideshow",
  "kernelspec": {
   "display_name": "Python 3",
   "language": "python",
   "name": "python3"
  },
  "language_info": {
   "codemirror_mode": {
    "name": "ipython",
    "version": 3
   },
   "file_extension": ".py",
   "mimetype": "text/x-python",
   "name": "python",
   "nbconvert_exporter": "python",
   "pygments_lexer": "ipython3",
   "version": "3.5.2"
  }
 },
 "nbformat": 4,
 "nbformat_minor": 0
}
