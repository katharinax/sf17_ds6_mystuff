{
 "cells": [
  {
   "cell_type": "code",
   "execution_count": 62,
   "metadata": {
    "collapsed": true
   },
   "outputs": [],
   "source": [
    "import pandas as pd\n",
    "import numpy as np\n",
    "import matplotlib.pyplot as plt\n",
    "from sklearn.preprocessing import PolynomialFeatures\n",
    "import re\n",
    "from sqlalchemy import create_engine\n",
    "import pickle\n",
    "import warnings\n",
    "#import requests\n",
    "#from bs4 import BeautifulSoup\n",
    "#import time\n",
    "#from fake_useragent import UserAgent\n",
    "#import sys, os\n",
    "\n",
    "warnings.filterwarnings(\"ignore\")\n",
    "%matplotlib inline"
   ]
  },
  {
   "cell_type": "markdown",
   "metadata": {},
   "source": [
    "### import data"
   ]
  },
  {
   "cell_type": "code",
   "execution_count": 63,
   "metadata": {
    "collapsed": true
   },
   "outputs": [],
   "source": [
    "with open(\"my_data.pkl\", 'rb') as picklefile: \n",
    "    raw_q = pickle.load(picklefile).drop_duplicates()\n",
    "    raw_a = pickle.load(picklefile).drop_duplicates()\n",
    "    raw_tag = pickle.load(picklefile).drop_duplicates()\n",
    "    raw_view = pickle.load(picklefile).drop_duplicates()"
   ]
  },
  {
   "cell_type": "code",
   "execution_count": 50,
   "metadata": {
    "collapsed": false
   },
   "outputs": [],
   "source": [
    "#raw_q.tail(1)\n",
    "#raw_q.shape"
   ]
  },
  {
   "cell_type": "code",
   "execution_count": 51,
   "metadata": {
    "collapsed": false
   },
   "outputs": [],
   "source": [
    "#raw_view.tail(1)\n",
    "#raw_view.shape"
   ]
  },
  {
   "cell_type": "code",
   "execution_count": 52,
   "metadata": {
    "collapsed": false
   },
   "outputs": [],
   "source": [
    "#raw_tag.tail(1)\n",
    "#raw_tag.shape"
   ]
  },
  {
   "cell_type": "code",
   "execution_count": 53,
   "metadata": {
    "collapsed": false
   },
   "outputs": [],
   "source": [
    "#raw_a.tail(1)\n",
    "#raw_a.shape"
   ]
  },
  {
   "cell_type": "markdown",
   "metadata": {},
   "source": [
    "### merge data"
   ]
  },
  {
   "cell_type": "code",
   "execution_count": 64,
   "metadata": {
    "collapsed": false
   },
   "outputs": [],
   "source": [
    "df = raw_view.merge(raw_q, how = \"inner\", left_on = \"questionid\", right_on = \"id\")\n",
    "raw_tag = raw_tag[raw_tag['tag'] == 'python']\n",
    "df = df.merge(raw_tag, how = \"inner\", left_on = \"questionid\", right_on = \"id\")\n",
    "keep_cols = ['questionid','owneruserid', 'creationdate', 'score', 'views', 'title', 'body']\n",
    "df = df[keep_cols]\n",
    "df.columns = ['q_id', 'q_user', 'q_date', 'q_score', 'q_views', 'q_title', 'q_body']\n",
    "raw_a.columns = ['a_id', 'a_user', 'a_date', 'q_id', 'a_score', 'a_body']\n",
    "df = df.merge(raw_a, how = \"inner\", on = \"q_id\")\n",
    "#TODO merge user badges"
   ]
  },
  {
   "cell_type": "code",
   "execution_count": 61,
   "metadata": {
    "collapsed": false
   },
   "outputs": [],
   "source": [
    "#df[df['q_id'] == 21346177]"
   ]
  },
  {
   "cell_type": "markdown",
   "metadata": {},
   "source": [
    "### exploratory"
   ]
  },
  {
   "cell_type": "code",
   "execution_count": 66,
   "metadata": {
    "collapsed": false
   },
   "outputs": [
    {
     "name": "stdout",
     "output_type": "stream",
     "text": [
      "<class 'pandas.core.frame.DataFrame'>\n",
      "Int64Index: 479339 entries, 0 to 479338\n",
      "Data columns (total 12 columns):\n",
      "q_id       479339 non-null int64\n",
      "q_user     479339 non-null float64\n",
      "q_date     479339 non-null datetime64[ns]\n",
      "q_score    479339 non-null int64\n",
      "q_views    479339 non-null object\n",
      "q_title    479339 non-null object\n",
      "q_body     479339 non-null object\n",
      "a_id       479339 non-null int64\n",
      "a_user     479339 non-null float64\n",
      "a_date     479339 non-null datetime64[ns]\n",
      "a_score    479339 non-null int64\n",
      "a_body     479339 non-null object\n",
      "dtypes: datetime64[ns](2), float64(2), int64(4), object(4)\n",
      "memory usage: 47.5+ MB\n"
     ]
    }
   ],
   "source": [
    "df.info()"
   ]
  },
  {
   "cell_type": "markdown",
   "metadata": {},
   "source": [
    "### add features"
   ]
  },
  {
   "cell_type": "code",
   "execution_count": null,
   "metadata": {
    "collapsed": true
   },
   "outputs": [],
   "source": [
    "#TODO\n",
    "#time diff btwn q and a\n",
    "#a length\n",
    "#a has code\n",
    "#else?"
   ]
  },
  {
   "cell_type": "code",
   "execution_count": null,
   "metadata": {
    "collapsed": true
   },
   "outputs": [],
   "source": []
  },
  {
   "cell_type": "markdown",
   "metadata": {},
   "source": [
    "### pickle data"
   ]
  },
  {
   "cell_type": "code",
   "execution_count": 65,
   "metadata": {
    "collapsed": true
   },
   "outputs": [],
   "source": [
    "with open('cleaned_data.pkl', 'wb') as picklefile:\n",
    "    pickle.dump(df, picklefile)"
   ]
  },
  {
   "cell_type": "code",
   "execution_count": null,
   "metadata": {
    "collapsed": true
   },
   "outputs": [],
   "source": []
  }
 ],
 "metadata": {
  "kernelspec": {
   "display_name": "Python 3",
   "language": "python",
   "name": "python3"
  },
  "language_info": {
   "codemirror_mode": {
    "name": "ipython",
    "version": 3
   },
   "file_extension": ".py",
   "mimetype": "text/x-python",
   "name": "python",
   "nbconvert_exporter": "python",
   "pygments_lexer": "ipython3",
   "version": "3.6.0"
  }
 },
 "nbformat": 4,
 "nbformat_minor": 2
}
