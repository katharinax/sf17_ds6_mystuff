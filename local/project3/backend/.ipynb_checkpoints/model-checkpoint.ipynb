{
 "cells": [
  {
   "cell_type": "markdown",
   "metadata": {},
   "source": [
    "# aim: Ad-hoc classifier of Python 2 vs 3"
   ]
  },
  {
   "cell_type": "code",
   "execution_count": 2,
   "metadata": {
    "collapsed": false
   },
   "outputs": [],
   "source": [
    "import pandas as pd\n",
    "import numpy as np\n",
    "import matplotlib.pyplot as plt\n",
    "from sklearn.preprocessing import PolynomialFeatures\n",
    "from sklearn.model_selection import KFold\n",
    "from sklearn.model_selection import GridSearchCV\n",
    "from sklearn.pipeline import make_pipeline\n",
    "from sklearn.linear_model import SGDClassifier\n",
    "from sklearn.kernel_approximation import RBFSampler\n",
    "from sklearn.model_selection import train_test_split\n",
    "from sklearn.model_selection import cross_val_score\n",
    "from sklearn.neighbors import KNeighborsClassifier\n",
    "from sklearn.metrics import accuracy_score, precision_score, recall_score, f1_score, roc_curve, auc, make_scorer\n",
    "from sklearn.linear_model import LogisticRegression\n",
    "from sklearn.model_selection import learning_curve\n",
    "from sklearn.naive_bayes import GaussianNB\n",
    "from sklearn.svm import SVC # not stochastic\n",
    "from sklearn.tree import DecisionTreeClassifier\n",
    "from sklearn.ensemble import RandomForestClassifier, GradientBoostingClassifier\n",
    "from sklearn.preprocessing import label_binarize\n",
    "from sklearn.multiclass import OneVsRestClassifier\n",
    "from sklearn.tree import export_graphviz\n",
    "import re\n",
    "from sqlalchemy import create_engine\n",
    "import pickle\n",
    "import warnings\n",
    "#import requests\n",
    "#from bs4 import BeautifulSoup\n",
    "#import time\n",
    "#from fake_useragent import UserAgent\n",
    "#import sys, os\n",
    "import flask\n",
    "import json\n",
    "from collections import defaultdict\n",
    "\n",
    "warnings.filterwarnings(\"ignore\")\n",
    "%matplotlib inline\n",
    "\n",
    "RANDOM_STATE = 1\n",
    "TEST_SIZE = 0.3"
   ]
  },
  {
   "cell_type": "markdown",
   "metadata": {},
   "source": [
    "### import cleaned data"
   ]
  },
  {
   "cell_type": "code",
   "execution_count": 3,
   "metadata": {
    "collapsed": true
   },
   "outputs": [],
   "source": [
    "with open(\"cleaned2_data.pkl\", 'rb') as picklefile: \n",
    "    df_all = pickle.load(picklefile)"
   ]
  },
  {
   "cell_type": "markdown",
   "metadata": {},
   "source": [
    "### holdout set"
   ]
  },
  {
   "cell_type": "code",
   "execution_count": 4,
   "metadata": {
    "collapsed": true
   },
   "outputs": [],
   "source": [
    "df, df_holdout = train_test_split(df_all, test_size = TEST_SIZE)\n",
    "#TODO Need to sample questions, not rows, when doing any train_test_split"
   ]
  },
  {
   "cell_type": "markdown",
   "metadata": {},
   "source": [
    "### model"
   ]
  },
  {
   "cell_type": "code",
   "execution_count": 5,
   "metadata": {
    "collapsed": false
   },
   "outputs": [],
   "source": [
    "X_cols = [col for col in df.columns if col not in ['q_id', 'q_user', 'a_id', 'a_user', 'label_col']]\n",
    "X = df[X_cols]\n",
    "y = df['label_col']\n",
    "\n",
    "X_holdout = df_holdout[X_cols]\n",
    "y_holdout = df_holdout['label_col']"
   ]
  },
  {
   "cell_type": "markdown",
   "metadata": {},
   "source": [
    "- naiive Bayes"
   ]
  },
  {
   "cell_type": "code",
   "execution_count": null,
   "metadata": {
    "collapsed": false
   },
   "outputs": [],
   "source": [
    "nb = GaussianNB()\n",
    "nb_cv_f1 = np.mean(cross_val_score(nb, X, y, cv = 5, scoring = make_scorer(f1_score)))\n",
    "nb_cv_f1"
   ]
  },
  {
   "cell_type": "markdown",
   "metadata": {},
   "source": [
    "- stochastic linaer SVM"
   ]
  },
  {
   "cell_type": "code",
   "execution_count": null,
   "metadata": {
    "collapsed": false
   },
   "outputs": [],
   "source": [
    "svm = SGDClassifier(loss = 'hinge', penalty = 'l1', alpha = 0.0001, random_state = RANDOM_STATE)\n",
    "svm_cv_f1 = np.mean(cross_val_score(rbf_svm, X, y, cv = 5, scoring = make_scorer(f1_score)))\n",
    "svm_cv_f1"
   ]
  },
  {
   "cell_type": "markdown",
   "metadata": {},
   "source": [
    "- stochastic SVM with rbf kernel"
   ]
  },
  {
   "cell_type": "code",
   "execution_count": null,
   "metadata": {
    "collapsed": false
   },
   "outputs": [],
   "source": [
    "rbf_X_fun = RBFSampler(gamma = 1, random_state = RANDOM_STATE)\n",
    "rbf_X_fun.fit(X)\n",
    "rbf_X = rbf_X_fun.transform(X)\n",
    "\n",
    "rbf_svm = SGDClassifier(loss = 'hinge', penalty = 'l1', alpha = 0.0001, random_state = RANDOM_STATE)\n",
    "rbf_svm_cv_f1 = np.mean(cross_val_score(rbf_svm, rbf_X, y, cv = 5, scoring = make_scorer(f1_score)))\n",
    "rbf_svm_cv_f1\n",
    "#TODO GridSearchCV"
   ]
  },
  {
   "cell_type": "markdown",
   "metadata": {
    "collapsed": true
   },
   "source": [
    "- logistic reg"
   ]
  },
  {
   "cell_type": "code",
   "execution_count": null,
   "metadata": {
    "collapsed": false
   },
   "outputs": [],
   "source": [
    "logr = LogisticRegression()\n",
    "logr_cv_f1 = np.mean(cross_val_score(logr, X, y, cv = 5, scoring = make_scorer(f1_score)))\n",
    "logr_cv_f1"
   ]
  },
  {
   "cell_type": "markdown",
   "metadata": {},
   "source": [
    "- logistic reg w LASSO"
   ]
  },
  {
   "cell_type": "code",
   "execution_count": null,
   "metadata": {
    "collapsed": false
   },
   "outputs": [],
   "source": [
    "logr_lasso = LogisticRegression(penalty = 'l1', C = 1)\n",
    "logr_lasso_cv_f1 = np.mean(cross_val_score(logr_lasso, X, y, cv = 5, scoring = make_scorer(f1_score)))\n",
    "logr_lasso_cv_f1\n",
    "#TODO GridSearchCV"
   ]
  },
  {
   "cell_type": "markdown",
   "metadata": {},
   "source": [
    "- knn"
   ]
  },
  {
   "cell_type": "code",
   "execution_count": null,
   "metadata": {
    "collapsed": false
   },
   "outputs": [],
   "source": [
    "knn = KNeighborsClassifier(n_neighbors = 5)\n",
    "knn_cv_f1 = np.mean(cross_val_score(knn, X, y, cv = 5, scoring = make_scorer(f1_score)))\n",
    "knn_cv_f1\n",
    "#TODO loop thru diff k's"
   ]
  },
  {
   "cell_type": "markdown",
   "metadata": {},
   "source": [
    "- gboost"
   ]
  },
  {
   "cell_type": "code",
   "execution_count": null,
   "metadata": {
    "collapsed": false
   },
   "outputs": [],
   "source": [
    "gboost = GradientBoostingClassifier()\n",
    "gboost_cv_f1 = np.mean(cross_val_score(gboost, X, y, cv = 5, scoring = make_scorer(f1_score)))\n",
    "gboost_cv_f1\n",
    "#TODO GridSearchCV"
   ]
  },
  {
   "cell_type": "markdown",
   "metadata": {},
   "source": [
    "- rf"
   ]
  },
  {
   "cell_type": "code",
   "execution_count": 6,
   "metadata": {
    "collapsed": false
   },
   "outputs": [
    {
     "data": {
      "text/plain": [
       "0.96295699032394388"
      ]
     },
     "execution_count": 6,
     "metadata": {},
     "output_type": "execute_result"
    }
   ],
   "source": [
    "rf = RandomForestClassifier(n_estimators = 10)\n",
    "rf_cv_f1 = np.mean(cross_val_score(rf, X, y, cv = 5, scoring = make_scorer(f1_score)))\n",
    "rf_cv_f1\n",
    "#TODO GridSearchCV"
   ]
  },
  {
   "cell_type": "code",
   "execution_count": null,
   "metadata": {
    "collapsed": true
   },
   "outputs": [],
   "source": []
  },
  {
   "cell_type": "code",
   "execution_count": null,
   "metadata": {
    "collapsed": true
   },
   "outputs": [],
   "source": []
  },
  {
   "cell_type": "markdown",
   "metadata": {},
   "source": [
    "### final model"
   ]
  },
  {
   "cell_type": "code",
   "execution_count": 7,
   "metadata": {
    "collapsed": false
   },
   "outputs": [],
   "source": [
    "fit = rf.fit(X, y)"
   ]
  },
  {
   "cell_type": "code",
   "execution_count": 8,
   "metadata": {
    "collapsed": false
   },
   "outputs": [
    {
     "name": "stdout",
     "output_type": "stream",
     "text": [
      "Random Forest holdout set accuracy 0.979379 precision 0.988048 recall 0.968277 f1 0.978063\n"
     ]
    }
   ],
   "source": [
    "rf_holdout_pred = rf.predict(X_holdout)\n",
    "mypos_label = 1 #label_col == 1 means it's a Python3 question\n",
    "\n",
    "accuracy = accuracy_score(y_holdout, rf_holdout_pred)\n",
    "precision = precision_score(y_holdout, rf_holdout_pred, pos_label = mypos_label) \n",
    "recall = recall_score(y_holdout, rf_holdout_pred, pos_label = mypos_label)\n",
    "f1 = f1_score(y_holdout, rf_holdout_pred, pos_label = mypos_label)\n",
    "print(\"Random Forest\", \"holdout set\",\n",
    "      \"accuracy\", format(accuracy, \"8.6f\"), \n",
    "      \"precision\", format(precision, \"8.6f\"), \n",
    "      \"recall\", format(recall, \"8.6f\"), \n",
    "      \"f1\", format(f1, \"8.6f\"))"
   ]
  },
  {
   "cell_type": "code",
   "execution_count": 9,
   "metadata": {
    "collapsed": false
   },
   "outputs": [
    {
     "data": {
      "image/png": "[encoded data removed]",
      "text/plain": [
       "<matplotlib.figure.Figure at 0x109f3b2b0>"
      ]
     },
     "metadata": {},
     "output_type": "display_data"
    }
   ],
   "source": [
    "rf_holdout_proba = rf.predict_proba(X_holdout)[:, 1]\n",
    "fpr, tpr, thresholds = roc_curve(y_holdout, rf_holdout_proba, pos_label = mypos_label)\n",
    "auc_value = auc(fpr, tpr)\n",
    "\n",
    "plt.figure()\n",
    "plt.plot(fpr, tpr)\n",
    "plt.title(\"Random Forest\" + \" ROC Curve (AUC=\" + str(format(auc_value, \"6.4f\")) + \")\", fontweight = 'bold')\n",
    "plt.xlabel(\"False Positive Rate (1 - Specificity)\")\n",
    "plt.ylabel(\"True Positive Rate (Sensitivity)\")\n",
    "plt.show()"
   ]
  },
  {
   "cell_type": "code",
   "execution_count": 10,
   "metadata": {
    "collapsed": true
   },
   "outputs": [],
   "source": [
    "#TODO Look into rf importance festures, vidualize if/then trees"
   ]
  },
  {
   "cell_type": "code",
   "execution_count": null,
   "metadata": {
    "collapsed": true
   },
   "outputs": [],
   "source": []
  },
  {
   "cell_type": "markdown",
   "metadata": {
    "collapsed": true
   },
   "source": [
    "### sandbox"
   ]
  },
  {
   "cell_type": "code",
   "execution_count": null,
   "metadata": {
    "collapsed": false
   },
   "outputs": [],
   "source": [
    "first_tree = rf[0]"
   ]
  },
  {
   "cell_type": "code",
   "execution_count": null,
   "metadata": {
    "collapsed": false
   },
   "outputs": [],
   "source": [
    "X.columns[29]"
   ]
  },
  {
   "cell_type": "code",
   "execution_count": null,
   "metadata": {
    "collapsed": false
   },
   "outputs": [],
   "source": [
    "avg_f_imp = pd.DataFrame(rf.feature_importances_, columns = [\"imp\"])\n",
    "avg_f_imp['name'] = X.columns\n",
    "avg_f_imp.sort_values('imp', ascending = False, inplace = True)\n",
    "#avg_f_imp"
   ]
  },
  {
   "cell_type": "code",
   "execution_count": null,
   "metadata": {
    "collapsed": false
   },
   "outputs": [],
   "source": [
    "export_graphviz(first_tree)\n",
    "first_tree.tree_."
   ]
  },
  {
   "cell_type": "code",
   "execution_count": null,
   "metadata": {
    "collapsed": false
   },
   "outputs": [],
   "source": [
    "first_tree.tree_.children_left[0:10]"
   ]
  },
  {
   "cell_type": "code",
   "execution_count": null,
   "metadata": {
    "collapsed": false
   },
   "outputs": [],
   "source": [
    "first_tree.tree_.children_right[0:10]"
   ]
  },
  {
   "cell_type": "code",
   "execution_count": null,
   "metadata": {
    "collapsed": true
   },
   "outputs": [],
   "source": []
  },
  {
   "cell_type": "code",
   "execution_count": null,
   "metadata": {
    "collapsed": true
   },
   "outputs": [],
   "source": []
  },
  {
   "cell_type": "markdown",
   "metadata": {},
   "source": [
    "### reshape final model trees for visualization"
   ]
  },
  {
   "cell_type": "code",
   "execution_count": 11,
   "metadata": {
    "collapsed": true
   },
   "outputs": [],
   "source": [
    "def tree_to_li(one_tree, parent_index = None, direction = None):\n",
    "    node = {}\n",
    "    if direction == \"l\":\n",
    "        node['name'] = one_tree.children_left[parent_index]\n",
    "    elif direction == \"r\":\n",
    "        node['name'] = one_tree.children_right[parent_index]\n",
    "    else:\n",
    "        node['name'] = 0\n",
    "    node['feat'] = one_tree.feature[node['name']]\n",
    "    node['thres'] = one_tree.threshold[node['name']]\n",
    "    if node['name'] != -1:\n",
    "        node['children'] = [tree_to_li(one_tree, node['name'], 'l'), \n",
    "                            tree_to_li(one_tree, node['name'], 'r')] \n",
    "    return node"
   ]
  },
  {
   "cell_type": "code",
   "execution_count": 16,
   "metadata": {
    "collapsed": false
   },
   "outputs": [],
   "source": [
    "tree_lists = []\n",
    "for i in range(len(rf)):\n",
    "    tree_lists += [tree_to_li(rf[i].tree_)]"
   ]
  },
  {
   "cell_type": "markdown",
   "metadata": {
    "collapsed": true
   },
   "source": [
    "### pickle model"
   ]
  },
  {
   "cell_type": "code",
   "execution_count": 19,
   "metadata": {
    "collapsed": true
   },
   "outputs": [],
   "source": [
    "with open('model.pkl', 'wb') as picklefile:\n",
    "    pickle.dump(rf, picklefile)\n",
    "    pickle.dump(tree_lists, picklefile)"
   ]
  },
  {
   "cell_type": "code",
   "execution_count": null,
   "metadata": {
    "collapsed": true
   },
   "outputs": [],
   "source": []
  }
 ],
 "metadata": {
  "kernelspec": {
   "display_name": "Python 3",
   "language": "python",
   "name": "python3"
  },
  "language_info": {
   "codemirror_mode": {
    "name": "ipython",
    "version": 3
   },
   "file_extension": ".py",
   "mimetype": "text/x-python",
   "name": "python",
   "nbconvert_exporter": "python",
   "pygments_lexer": "ipython3",
   "version": "3.6.0"
  }
 },
 "nbformat": 4,
 "nbformat_minor": 2
}
