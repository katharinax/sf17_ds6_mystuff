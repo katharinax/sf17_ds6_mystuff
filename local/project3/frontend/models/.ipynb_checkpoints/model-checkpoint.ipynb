{
 "cells": [
  {
   "cell_type": "markdown",
   "metadata": {},
   "source": [
    "# aim: Ad-hoc classifier of Python 2 vs 3"
   ]
  },
  {
   "cell_type": "code",
   "execution_count": 1,
   "metadata": {
    "collapsed": false
   },
   "outputs": [],
   "source": [
    "import pandas as pd\n",
    "import numpy as np\n",
    "import matplotlib.pyplot as plt\n",
    "from sklearn.preprocessing import PolynomialFeatures\n",
    "from sklearn.model_selection import KFold, GroupKFold\n",
    "from sklearn.model_selection import GridSearchCV\n",
    "from sklearn.pipeline import make_pipeline\n",
    "from sklearn.linear_model import SGDClassifier\n",
    "from sklearn.kernel_approximation import RBFSampler\n",
    "from sklearn.model_selection import train_test_split\n",
    "from sklearn.model_selection import cross_val_score\n",
    "from sklearn.neighbors import KNeighborsClassifier\n",
    "from sklearn.metrics import accuracy_score, precision_score, recall_score, f1_score, roc_curve, auc, make_scorer\n",
    "from sklearn.linear_model import LogisticRegression\n",
    "from sklearn.model_selection import learning_curve\n",
    "from sklearn.naive_bayes import GaussianNB\n",
    "from sklearn.svm import SVC # not stochastic\n",
    "from sklearn.tree import DecisionTreeClassifier\n",
    "from sklearn.ensemble import RandomForestClassifier, GradientBoostingClassifier\n",
    "from sklearn.preprocessing import label_binarize\n",
    "from sklearn.multiclass import OneVsRestClassifier\n",
    "from sklearn.tree import export_graphviz\n",
    "import re\n",
    "from sqlalchemy import create_engine\n",
    "import pickle\n",
    "import warnings\n",
    "#import requests\n",
    "#from bs4 import BeautifulSoup\n",
    "#import time\n",
    "#from fake_useragent import UserAgent\n",
    "#import sys, os\n",
    "import flask\n",
    "import json\n",
    "from collections import defaultdict\n",
    "\n",
    "warnings.filterwarnings(\"ignore\")\n",
    "%matplotlib inline\n",
    "\n",
    "RANDOM_STATE = 1\n",
    "TEST_SIZE = 0.3\n",
    "MYFOLDS = 5"
   ]
  },
  {
   "cell_type": "markdown",
   "metadata": {},
   "source": [
    "### import cleaned data"
   ]
  },
  {
   "cell_type": "code",
   "execution_count": 2,
   "metadata": {
    "collapsed": true
   },
   "outputs": [],
   "source": [
    "with open(\"cleaned2_data.pkl\", 'rb') as picklefile: \n",
    "    df_all = pickle.load(picklefile)"
   ]
  },
  {
   "cell_type": "code",
   "execution_count": 3,
   "metadata": {
    "collapsed": false
   },
   "outputs": [],
   "source": [
    "X_cols = [col for col in df_all.columns if col not in ['q_id', 'q_user', 'a_id', 'a_user', 'label_col']]\n",
    "X_cols_label = ['Question Score', 'Question Views', 'Answer Score', 'Asker Reputation', 'Asker Gold Badges', \n",
    "    'Asker Silver Badges', 'Asker Bronze Badges', 'Answerer Reputation', 'Answerer Gold Badges', \n",
    "    'Answerer Silver Badges', 'Answerer Bronze Badges', 'Array Tag',\n",
    "    'Beautifulsoup Tag', 'CSV Tag', 'Dataframe Tag', 'Datetime Tag', 'Dictionary Tag', 'Django Tag',\n",
    "    'Flask Tag', 'Json Tag', 'List Tag', 'Matplotlib Tag', 'Numpy Tag', 'Pandas Tag', 'Python Tag',\n",
    "    'Regex Tag', 'String Tag', 'Unicode Tag', 'Unit-testing Tag', 'Log Seconds between Question and Answer',\n",
    "    'Year of Question', 'Month of Question', 'Day of Question', 'Day of Week of Question', \n",
    "    'Log Seconds between Question and Present Day', 'Year of Answer',\n",
    "    'Month of Answer', 'Day of Answer', 'Day of Week of Answer', 'Log Seconds between Answer and Present Day', \n",
    "    'Length of Question Title', 'Length of Question', 'Length of Answer']"
   ]
  },
  {
   "cell_type": "markdown",
   "metadata": {},
   "source": [
    "### holdout set"
   ]
  },
  {
   "cell_type": "code",
   "execution_count": 4,
   "metadata": {
    "collapsed": false
   },
   "outputs": [],
   "source": [
    "#sample questions, not rows, b/c one person esp. power users can ask multiple questions \n",
    "id_set = df_all[['q_id']].drop_duplicates()\n",
    "ids, id_holdout = train_test_split(id_set, test_size = TEST_SIZE)"
   ]
  },
  {
   "cell_type": "code",
   "execution_count": 5,
   "metadata": {
    "collapsed": false
   },
   "outputs": [],
   "source": [
    "df = df_all.loc[df_all['q_id'].map(lambda x: x in ids['q_id'].tolist())]\n",
    "df.reset_index(drop = True, inplace = True)\n",
    "df_holdout = df_all.loc[df_all['q_id'].map(lambda x: x in id_holdout['q_id'].tolist())]\n",
    "df_holdout.reset_index(drop = True, inplace = True)\n",
    "\n",
    "X = df[X_cols]\n",
    "y = df['label_col']\n",
    "\n",
    "X_holdout = df_holdout[X_cols]\n",
    "y_holdout = df_holdout['label_col']\n",
    "# print(df.shape, X.shape, y.shape, df_holdout.shape, X_holdout.shape, y_holdout.shape, \n",
    "#       y.shape[0] / y_holdout.shape[0])"
   ]
  },
  {
   "cell_type": "code",
   "execution_count": 89,
   "metadata": {
    "collapsed": false
   },
   "outputs": [],
   "source": [
    "#make a tr/ts for plotting ROC curve\n",
    "trid_for_roc, tsid_for_roc = train_test_split(ids, test_size = TEST_SIZE)"
   ]
  },
  {
   "cell_type": "code",
   "execution_count": 92,
   "metadata": {
    "collapsed": false
   },
   "outputs": [],
   "source": [
    "tr_for_roc = df_all.loc[df_all['q_id'].map(lambda x: x in trid_for_roc['q_id'].tolist())]\n",
    "tr_for_roc.reset_index(drop = True, inplace = True)\n",
    "ts_for_roc = df_all.loc[df_all['q_id'].map(lambda x: x in tsid_for_roc['q_id'].tolist())]\n",
    "ts_for_roc.reset_index(drop = True, inplace = True)\n",
    "\n",
    "X_tr_for_roc = tr_for_roc[X_cols]\n",
    "y_tr_for_roc = tr_for_roc['label_col']\n",
    "\n",
    "X_ts_for_roc = ts_for_roc[X_cols]\n",
    "y_ts_for_roc = ts_for_roc['label_col']\n",
    "# print(tr_for_roc.shape, X_tr_for_roc.shape, y_tr_for_roc.shape, ts_for_roc.shape, \n",
    "#       X_ts_for_roc.shape, y_ts_for_roc.shape, y_tr_for_roc.shape[0] / y_ts_for_roc.shape[0])"
   ]
  },
  {
   "cell_type": "markdown",
   "metadata": {},
   "source": [
    "### model"
   ]
  },
  {
   "cell_type": "code",
   "execution_count": 6,
   "metadata": {
    "collapsed": false
   },
   "outputs": [],
   "source": [
    "metric_cols = [\"Accuracy\", \"Precision\", \"Recall\", \"F1\", \"model\"]\n",
    "def get_metrics(model, X = X, cv = MYFOLDS):\n",
    "    return [np.mean(cross_val_score(model, X, y, groups = df['q_id'], cv = cv, scoring = make_scorer(accuracy_score))),\n",
    "          np.mean(cross_val_score(model, X, y, groups = df['q_id'], cv = cv, scoring = make_scorer(precision_score))),\n",
    "          np.mean(cross_val_score(model, X, y, groups = df['q_id'], cv = cv, scoring = make_scorer(recall_score))),\n",
    "          np.mean(cross_val_score(model, X, y, groups = df['q_id'], cv = cv, scoring = make_scorer(f1_score)))]"
   ]
  },
  {
   "cell_type": "code",
   "execution_count": 7,
   "metadata": {
    "collapsed": true
   },
   "outputs": [],
   "source": [
    "model_metrics_cv5 = pd.DataFrame()"
   ]
  },
  {
   "cell_type": "markdown",
   "metadata": {},
   "source": [
    "- naiive Bayes"
   ]
  },
  {
   "cell_type": "code",
   "execution_count": 8,
   "metadata": {
    "collapsed": false
   },
   "outputs": [
    {
     "data": {
      "text/html": [
       "<div>\n",
       "<table border=\"1\" class=\"dataframe\">\n",
       "  <thead>\n",
       "    <tr style=\"text-align: right;\">\n",
       "      <th></th>\n",
       "      <th>0</th>\n",
       "      <th>1</th>\n",
       "      <th>2</th>\n",
       "      <th>3</th>\n",
       "      <th>4</th>\n",
       "    </tr>\n",
       "  </thead>\n",
       "  <tbody>\n",
       "    <tr>\n",
       "      <th>0</th>\n",
       "      <td>0.552625343166</td>\n",
       "      <td>0.531306675031</td>\n",
       "      <td>0.0792668957617</td>\n",
       "      <td>0.135600788778</td>\n",
       "      <td>GaussianNB</td>\n",
       "    </tr>\n",
       "  </tbody>\n",
       "</table>\n",
       "</div>"
      ],
      "text/plain": [
       "                0               1                2               3           4\n",
       "0  0.552625343166  0.531306675031  0.0792668957617  0.135600788778  GaussianNB"
      ]
     },
     "execution_count": 8,
     "metadata": {},
     "output_type": "execute_result"
    }
   ],
   "source": [
    "nb = GaussianNB()\n",
    "model_metrics_cv5 = model_metrics_cv5.append(pd.DataFrame(np.array(get_metrics(nb) + [\"GaussianNB\"]).reshape(1, 5)))\n",
    "model_metrics_cv5"
   ]
  },
  {
   "cell_type": "markdown",
   "metadata": {},
   "source": [
    "- stochastic linaer SVM"
   ]
  },
  {
   "cell_type": "code",
   "execution_count": 9,
   "metadata": {
    "collapsed": false
   },
   "outputs": [
    {
     "data": {
      "text/html": [
       "<div>\n",
       "<table border=\"1\" class=\"dataframe\">\n",
       "  <thead>\n",
       "    <tr style=\"text-align: right;\">\n",
       "      <th></th>\n",
       "      <th>0</th>\n",
       "      <th>1</th>\n",
       "      <th>2</th>\n",
       "      <th>3</th>\n",
       "      <th>4</th>\n",
       "    </tr>\n",
       "  </thead>\n",
       "  <tbody>\n",
       "    <tr>\n",
       "      <th>0</th>\n",
       "      <td>0.552625343166</td>\n",
       "      <td>0.531306675031</td>\n",
       "      <td>0.0792668957617</td>\n",
       "      <td>0.135600788778</td>\n",
       "      <td>GaussianNB</td>\n",
       "    </tr>\n",
       "    <tr>\n",
       "      <th>0</th>\n",
       "      <td>0.529373016765</td>\n",
       "      <td>0.487743565266</td>\n",
       "      <td>0.504009163803</td>\n",
       "      <td>0.432794021555</td>\n",
       "      <td>SVM</td>\n",
       "    </tr>\n",
       "  </tbody>\n",
       "</table>\n",
       "</div>"
      ],
      "text/plain": [
       "                0               1                2               3           4\n",
       "0  0.552625343166  0.531306675031  0.0792668957617  0.135600788778  GaussianNB\n",
       "0  0.529373016765  0.487743565266   0.504009163803  0.432794021555         SVM"
      ]
     },
     "execution_count": 9,
     "metadata": {},
     "output_type": "execute_result"
    }
   ],
   "source": [
    "svm = SGDClassifier(loss = 'hinge', penalty = 'l1', alpha = 0.0001, random_state = RANDOM_STATE)\n",
    "model_metrics_cv5 = model_metrics_cv5.append(pd.DataFrame(np.array(get_metrics(svm) + [\"SVM\"]).reshape(1, 5)))\n",
    "model_metrics_cv5"
   ]
  },
  {
   "cell_type": "markdown",
   "metadata": {},
   "source": [
    "- stochastic SVM with rbf kernel"
   ]
  },
  {
   "cell_type": "code",
   "execution_count": 10,
   "metadata": {
    "collapsed": false
   },
   "outputs": [
    {
     "data": {
      "text/html": [
       "<div>\n",
       "<table border=\"1\" class=\"dataframe\">\n",
       "  <thead>\n",
       "    <tr style=\"text-align: right;\">\n",
       "      <th></th>\n",
       "      <th>0</th>\n",
       "      <th>1</th>\n",
       "      <th>2</th>\n",
       "      <th>3</th>\n",
       "      <th>4</th>\n",
       "    </tr>\n",
       "  </thead>\n",
       "  <tbody>\n",
       "    <tr>\n",
       "      <th>0</th>\n",
       "      <td>0.552625343166</td>\n",
       "      <td>0.531306675031</td>\n",
       "      <td>0.0792668957617</td>\n",
       "      <td>0.135600788778</td>\n",
       "      <td>GaussianNB</td>\n",
       "    </tr>\n",
       "    <tr>\n",
       "      <th>0</th>\n",
       "      <td>0.529373016765</td>\n",
       "      <td>0.487743565266</td>\n",
       "      <td>0.504009163803</td>\n",
       "      <td>0.432794021555</td>\n",
       "      <td>SVM</td>\n",
       "    </tr>\n",
       "    <tr>\n",
       "      <th>0</th>\n",
       "      <td>0.53000200209</td>\n",
       "      <td>0.463880952465</td>\n",
       "      <td>0.181901489118</td>\n",
       "      <td>0.243953568721</td>\n",
       "      <td>SVM(RBF)</td>\n",
       "    </tr>\n",
       "  </tbody>\n",
       "</table>\n",
       "</div>"
      ],
      "text/plain": [
       "                0               1                2               3           4\n",
       "0  0.552625343166  0.531306675031  0.0792668957617  0.135600788778  GaussianNB\n",
       "0  0.529373016765  0.487743565266   0.504009163803  0.432794021555         SVM\n",
       "0   0.53000200209  0.463880952465   0.181901489118  0.243953568721    SVM(RBF)"
      ]
     },
     "execution_count": 10,
     "metadata": {},
     "output_type": "execute_result"
    }
   ],
   "source": [
    "rbf_X_fun = RBFSampler(gamma = 1, random_state = RANDOM_STATE)\n",
    "rbf_X_fun.fit(X)\n",
    "rbf_X = rbf_X_fun.transform(X)\n",
    "\n",
    "rbf_svm = SGDClassifier(loss = 'hinge', penalty = 'l1', alpha = 0.0001, random_state = RANDOM_STATE)\n",
    "model_metrics_cv5 = model_metrics_cv5.append(pd.DataFrame(np.array(get_metrics(rbf_svm, X = rbf_X) + [r\"SVM(RBF)\"]).reshape(1, 5)))\n",
    "model_metrics_cv5\n",
    "#TODO GridSearchCV"
   ]
  },
  {
   "cell_type": "markdown",
   "metadata": {
    "collapsed": true
   },
   "source": [
    "- logistic reg"
   ]
  },
  {
   "cell_type": "code",
   "execution_count": 11,
   "metadata": {
    "collapsed": false
   },
   "outputs": [
    {
     "data": {
      "text/html": [
       "<div>\n",
       "<table border=\"1\" class=\"dataframe\">\n",
       "  <thead>\n",
       "    <tr style=\"text-align: right;\">\n",
       "      <th></th>\n",
       "      <th>0</th>\n",
       "      <th>1</th>\n",
       "      <th>2</th>\n",
       "      <th>3</th>\n",
       "      <th>4</th>\n",
       "    </tr>\n",
       "  </thead>\n",
       "  <tbody>\n",
       "    <tr>\n",
       "      <th>0</th>\n",
       "      <td>0.552625343166</td>\n",
       "      <td>0.531306675031</td>\n",
       "      <td>0.0792668957617</td>\n",
       "      <td>0.135600788778</td>\n",
       "      <td>GaussianNB</td>\n",
       "    </tr>\n",
       "    <tr>\n",
       "      <th>0</th>\n",
       "      <td>0.529373016765</td>\n",
       "      <td>0.487743565266</td>\n",
       "      <td>0.504009163803</td>\n",
       "      <td>0.432794021555</td>\n",
       "      <td>SVM</td>\n",
       "    </tr>\n",
       "    <tr>\n",
       "      <th>0</th>\n",
       "      <td>0.53000200209</td>\n",
       "      <td>0.463880952465</td>\n",
       "      <td>0.181901489118</td>\n",
       "      <td>0.243953568721</td>\n",
       "      <td>SVM(RBF)</td>\n",
       "    </tr>\n",
       "    <tr>\n",
       "      <th>0</th>\n",
       "      <td>0.537749705857</td>\n",
       "      <td>0.469282531776</td>\n",
       "      <td>0.246048109966</td>\n",
       "      <td>0.311049608536</td>\n",
       "      <td>LogisticReg</td>\n",
       "    </tr>\n",
       "  </tbody>\n",
       "</table>\n",
       "</div>"
      ],
      "text/plain": [
       "                0               1                2               3  \\\n",
       "0  0.552625343166  0.531306675031  0.0792668957617  0.135600788778   \n",
       "0  0.529373016765  0.487743565266   0.504009163803  0.432794021555   \n",
       "0   0.53000200209  0.463880952465   0.181901489118  0.243953568721   \n",
       "0  0.537749705857  0.469282531776   0.246048109966  0.311049608536   \n",
       "\n",
       "             4  \n",
       "0   GaussianNB  \n",
       "0          SVM  \n",
       "0     SVM(RBF)  \n",
       "0  LogisticReg  "
      ]
     },
     "execution_count": 11,
     "metadata": {},
     "output_type": "execute_result"
    }
   ],
   "source": [
    "logr = LogisticRegression()\n",
    "model_metrics_cv5 = model_metrics_cv5.append(pd.DataFrame(np.array(get_metrics(logr) + [\"LogisticReg\"]).reshape(1, 5)))\n",
    "model_metrics_cv5"
   ]
  },
  {
   "cell_type": "markdown",
   "metadata": {},
   "source": [
    "- logistic reg w LASSO"
   ]
  },
  {
   "cell_type": "code",
   "execution_count": 12,
   "metadata": {
    "collapsed": false
   },
   "outputs": [
    {
     "data": {
      "text/html": [
       "<div>\n",
       "<table border=\"1\" class=\"dataframe\">\n",
       "  <thead>\n",
       "    <tr style=\"text-align: right;\">\n",
       "      <th></th>\n",
       "      <th>0</th>\n",
       "      <th>1</th>\n",
       "      <th>2</th>\n",
       "      <th>3</th>\n",
       "      <th>4</th>\n",
       "    </tr>\n",
       "  </thead>\n",
       "  <tbody>\n",
       "    <tr>\n",
       "      <th>0</th>\n",
       "      <td>0.552625343166</td>\n",
       "      <td>0.531306675031</td>\n",
       "      <td>0.0792668957617</td>\n",
       "      <td>0.135600788778</td>\n",
       "      <td>GaussianNB</td>\n",
       "    </tr>\n",
       "    <tr>\n",
       "      <th>0</th>\n",
       "      <td>0.529373016765</td>\n",
       "      <td>0.487743565266</td>\n",
       "      <td>0.504009163803</td>\n",
       "      <td>0.432794021555</td>\n",
       "      <td>SVM</td>\n",
       "    </tr>\n",
       "    <tr>\n",
       "      <th>0</th>\n",
       "      <td>0.53000200209</td>\n",
       "      <td>0.463880952465</td>\n",
       "      <td>0.181901489118</td>\n",
       "      <td>0.243953568721</td>\n",
       "      <td>SVM(RBF)</td>\n",
       "    </tr>\n",
       "    <tr>\n",
       "      <th>0</th>\n",
       "      <td>0.537749705857</td>\n",
       "      <td>0.469282531776</td>\n",
       "      <td>0.246048109966</td>\n",
       "      <td>0.311049608536</td>\n",
       "      <td>LogisticReg</td>\n",
       "    </tr>\n",
       "    <tr>\n",
       "      <th>0</th>\n",
       "      <td>0.532725941325</td>\n",
       "      <td>0.453674742412</td>\n",
       "      <td>0.319129438717</td>\n",
       "      <td>0.362155414766</td>\n",
       "      <td>LogisticReg(LASSO)</td>\n",
       "    </tr>\n",
       "  </tbody>\n",
       "</table>\n",
       "</div>"
      ],
      "text/plain": [
       "                0               1                2               3  \\\n",
       "0  0.552625343166  0.531306675031  0.0792668957617  0.135600788778   \n",
       "0  0.529373016765  0.487743565266   0.504009163803  0.432794021555   \n",
       "0   0.53000200209  0.463880952465   0.181901489118  0.243953568721   \n",
       "0  0.537749705857  0.469282531776   0.246048109966  0.311049608536   \n",
       "0  0.532725941325  0.453674742412   0.319129438717  0.362155414766   \n",
       "\n",
       "                    4  \n",
       "0          GaussianNB  \n",
       "0                 SVM  \n",
       "0            SVM(RBF)  \n",
       "0         LogisticReg  \n",
       "0  LogisticReg(LASSO)  "
      ]
     },
     "execution_count": 12,
     "metadata": {},
     "output_type": "execute_result"
    }
   ],
   "source": [
    "logr_lasso = LogisticRegression(penalty = 'l1', C = 1)\n",
    "model_metrics_cv5 = model_metrics_cv5.append(pd.DataFrame(np.array(get_metrics(logr_lasso) + [r\"LogisticReg(LASSO)\"]).reshape(1, 5)))\n",
    "model_metrics_cv5\n",
    "#TODO GridSearchCV"
   ]
  },
  {
   "cell_type": "markdown",
   "metadata": {},
   "source": [
    "- knn"
   ]
  },
  {
   "cell_type": "code",
   "execution_count": 13,
   "metadata": {
    "collapsed": false
   },
   "outputs": [
    {
     "data": {
      "text/html": [
       "<div>\n",
       "<table border=\"1\" class=\"dataframe\">\n",
       "  <thead>\n",
       "    <tr style=\"text-align: right;\">\n",
       "      <th></th>\n",
       "      <th>0</th>\n",
       "      <th>1</th>\n",
       "      <th>2</th>\n",
       "      <th>3</th>\n",
       "      <th>4</th>\n",
       "    </tr>\n",
       "  </thead>\n",
       "  <tbody>\n",
       "    <tr>\n",
       "      <th>0</th>\n",
       "      <td>0.552625343166</td>\n",
       "      <td>0.531306675031</td>\n",
       "      <td>0.0792668957617</td>\n",
       "      <td>0.135600788778</td>\n",
       "      <td>GaussianNB</td>\n",
       "    </tr>\n",
       "    <tr>\n",
       "      <th>0</th>\n",
       "      <td>0.529373016765</td>\n",
       "      <td>0.487743565266</td>\n",
       "      <td>0.504009163803</td>\n",
       "      <td>0.432794021555</td>\n",
       "      <td>SVM</td>\n",
       "    </tr>\n",
       "    <tr>\n",
       "      <th>0</th>\n",
       "      <td>0.53000200209</td>\n",
       "      <td>0.463880952465</td>\n",
       "      <td>0.181901489118</td>\n",
       "      <td>0.243953568721</td>\n",
       "      <td>SVM(RBF)</td>\n",
       "    </tr>\n",
       "    <tr>\n",
       "      <th>0</th>\n",
       "      <td>0.537749705857</td>\n",
       "      <td>0.469282531776</td>\n",
       "      <td>0.246048109966</td>\n",
       "      <td>0.311049608536</td>\n",
       "      <td>LogisticReg</td>\n",
       "    </tr>\n",
       "    <tr>\n",
       "      <th>0</th>\n",
       "      <td>0.532725941325</td>\n",
       "      <td>0.453674742412</td>\n",
       "      <td>0.319129438717</td>\n",
       "      <td>0.362155414766</td>\n",
       "      <td>LogisticReg(LASSO)</td>\n",
       "    </tr>\n",
       "    <tr>\n",
       "      <th>0</th>\n",
       "      <td>0.54508635041</td>\n",
       "      <td>0.505904574624</td>\n",
       "      <td>0.545246277205</td>\n",
       "      <td>0.522472922362</td>\n",
       "      <td>KNN(5)</td>\n",
       "    </tr>\n",
       "  </tbody>\n",
       "</table>\n",
       "</div>"
      ],
      "text/plain": [
       "                0               1                2               3  \\\n",
       "0  0.552625343166  0.531306675031  0.0792668957617  0.135600788778   \n",
       "0  0.529373016765  0.487743565266   0.504009163803  0.432794021555   \n",
       "0   0.53000200209  0.463880952465   0.181901489118  0.243953568721   \n",
       "0  0.537749705857  0.469282531776   0.246048109966  0.311049608536   \n",
       "0  0.532725941325  0.453674742412   0.319129438717  0.362155414766   \n",
       "0   0.54508635041  0.505904574624   0.545246277205  0.522472922362   \n",
       "\n",
       "                    4  \n",
       "0          GaussianNB  \n",
       "0                 SVM  \n",
       "0            SVM(RBF)  \n",
       "0         LogisticReg  \n",
       "0  LogisticReg(LASSO)  \n",
       "0              KNN(5)  "
      ]
     },
     "execution_count": 13,
     "metadata": {},
     "output_type": "execute_result"
    }
   ],
   "source": [
    "knn = KNeighborsClassifier(n_neighbors = 5)\n",
    "model_metrics_cv5 = model_metrics_cv5.append(pd.DataFrame(np.array(get_metrics(knn) + [\"KNN(5)\"]).reshape(1, 5)))\n",
    "model_metrics_cv5\n",
    "#TODO loop thru diff k's"
   ]
  },
  {
   "cell_type": "markdown",
   "metadata": {},
   "source": [
    "- gboost"
   ]
  },
  {
   "cell_type": "code",
   "execution_count": 14,
   "metadata": {
    "collapsed": false
   },
   "outputs": [
    {
     "data": {
      "text/html": [
       "<div>\n",
       "<table border=\"1\" class=\"dataframe\">\n",
       "  <thead>\n",
       "    <tr style=\"text-align: right;\">\n",
       "      <th></th>\n",
       "      <th>0</th>\n",
       "      <th>1</th>\n",
       "      <th>2</th>\n",
       "      <th>3</th>\n",
       "      <th>4</th>\n",
       "    </tr>\n",
       "  </thead>\n",
       "  <tbody>\n",
       "    <tr>\n",
       "      <th>0</th>\n",
       "      <td>0.552625343166</td>\n",
       "      <td>0.531306675031</td>\n",
       "      <td>0.0792668957617</td>\n",
       "      <td>0.135600788778</td>\n",
       "      <td>GaussianNB</td>\n",
       "    </tr>\n",
       "    <tr>\n",
       "      <th>0</th>\n",
       "      <td>0.529373016765</td>\n",
       "      <td>0.487743565266</td>\n",
       "      <td>0.504009163803</td>\n",
       "      <td>0.432794021555</td>\n",
       "      <td>SVM</td>\n",
       "    </tr>\n",
       "    <tr>\n",
       "      <th>0</th>\n",
       "      <td>0.53000200209</td>\n",
       "      <td>0.463880952465</td>\n",
       "      <td>0.181901489118</td>\n",
       "      <td>0.243953568721</td>\n",
       "      <td>SVM(RBF)</td>\n",
       "    </tr>\n",
       "    <tr>\n",
       "      <th>0</th>\n",
       "      <td>0.537749705857</td>\n",
       "      <td>0.469282531776</td>\n",
       "      <td>0.246048109966</td>\n",
       "      <td>0.311049608536</td>\n",
       "      <td>LogisticReg</td>\n",
       "    </tr>\n",
       "    <tr>\n",
       "      <th>0</th>\n",
       "      <td>0.532725941325</td>\n",
       "      <td>0.453674742412</td>\n",
       "      <td>0.319129438717</td>\n",
       "      <td>0.362155414766</td>\n",
       "      <td>LogisticReg(LASSO)</td>\n",
       "    </tr>\n",
       "    <tr>\n",
       "      <th>0</th>\n",
       "      <td>0.54508635041</td>\n",
       "      <td>0.505904574624</td>\n",
       "      <td>0.545246277205</td>\n",
       "      <td>0.522472922362</td>\n",
       "      <td>KNN(5)</td>\n",
       "    </tr>\n",
       "    <tr>\n",
       "      <th>0</th>\n",
       "      <td>0.62393117199</td>\n",
       "      <td>0.615563316842</td>\n",
       "      <td>0.482932416953</td>\n",
       "      <td>0.529136991649</td>\n",
       "      <td>GBoost</td>\n",
       "    </tr>\n",
       "  </tbody>\n",
       "</table>\n",
       "</div>"
      ],
      "text/plain": [
       "                0               1                2               3  \\\n",
       "0  0.552625343166  0.531306675031  0.0792668957617  0.135600788778   \n",
       "0  0.529373016765  0.487743565266   0.504009163803  0.432794021555   \n",
       "0   0.53000200209  0.463880952465   0.181901489118  0.243953568721   \n",
       "0  0.537749705857  0.469282531776   0.246048109966  0.311049608536   \n",
       "0  0.532725941325  0.453674742412   0.319129438717  0.362155414766   \n",
       "0   0.54508635041  0.505904574624   0.545246277205  0.522472922362   \n",
       "0   0.62393117199  0.615563316842   0.482932416953  0.529136991649   \n",
       "\n",
       "                    4  \n",
       "0          GaussianNB  \n",
       "0                 SVM  \n",
       "0            SVM(RBF)  \n",
       "0         LogisticReg  \n",
       "0  LogisticReg(LASSO)  \n",
       "0              KNN(5)  \n",
       "0              GBoost  "
      ]
     },
     "execution_count": 14,
     "metadata": {},
     "output_type": "execute_result"
    }
   ],
   "source": [
    "gboost = GradientBoostingClassifier()\n",
    "model_metrics_cv5 = model_metrics_cv5.append(pd.DataFrame(np.array(get_metrics(gboost) + [\"GBoost\"]).reshape(1, 5)))\n",
    "model_metrics_cv5\n",
    "#TODO GridSearchCV"
   ]
  },
  {
   "cell_type": "markdown",
   "metadata": {},
   "source": [
    "- rf"
   ]
  },
  {
   "cell_type": "code",
   "execution_count": 16,
   "metadata": {
    "collapsed": false
   },
   "outputs": [
    {
     "name": "stdout",
     "output_type": "stream",
     "text": [
      "RandomForestClassifier(bootstrap=True, class_weight=None, criterion='gini',\n",
      "            max_depth=11, max_features='auto', max_leaf_nodes=None,\n",
      "            min_impurity_split=1e-07, min_samples_leaf=1,\n",
      "            min_samples_split=2, min_weight_fraction_leaf=0.0,\n",
      "            n_estimators=20, n_jobs=1, oob_score=False, random_state=None,\n",
      "            verbose=0, warm_start=False)\n"
     ]
    }
   ],
   "source": [
    "mygrid = {\"n_estimators\": [10, 20, 30, 40], \n",
    "          \"max_depth\": [5, 7, 9, 11, 13],\n",
    "          \"min_samples_split\": [2, 0.02],\n",
    "          \"min_samples_leaf\": [1, 0.01]\n",
    "         }\n",
    "grid_search = GridSearchCV(RandomForestClassifier(), param_grid = mygrid, scoring = make_scorer(f1_score), cv = MYFOLDS)\n",
    "fit = grid_search.fit(X, y, groups = df['q_id'])\n",
    "all_result = grid_search.cv_results_\n",
    "rf_final = grid_search.best_estimator_\n",
    "print(rf_final)"
   ]
  },
  {
   "cell_type": "code",
   "execution_count": 17,
   "metadata": {
    "collapsed": false
   },
   "outputs": [
    {
     "data": {
      "text/html": [
       "<div>\n",
       "<table border=\"1\" class=\"dataframe\">\n",
       "  <thead>\n",
       "    <tr style=\"text-align: right;\">\n",
       "      <th></th>\n",
       "      <th>0</th>\n",
       "      <th>1</th>\n",
       "      <th>2</th>\n",
       "      <th>3</th>\n",
       "      <th>4</th>\n",
       "    </tr>\n",
       "  </thead>\n",
       "  <tbody>\n",
       "    <tr>\n",
       "      <th>0</th>\n",
       "      <td>0.552625343166</td>\n",
       "      <td>0.531306675031</td>\n",
       "      <td>0.0792668957617</td>\n",
       "      <td>0.135600788778</td>\n",
       "      <td>GaussianNB</td>\n",
       "    </tr>\n",
       "    <tr>\n",
       "      <th>0</th>\n",
       "      <td>0.529373016765</td>\n",
       "      <td>0.487743565266</td>\n",
       "      <td>0.504009163803</td>\n",
       "      <td>0.432794021555</td>\n",
       "      <td>SVM</td>\n",
       "    </tr>\n",
       "    <tr>\n",
       "      <th>0</th>\n",
       "      <td>0.53000200209</td>\n",
       "      <td>0.463880952465</td>\n",
       "      <td>0.181901489118</td>\n",
       "      <td>0.243953568721</td>\n",
       "      <td>SVM(RBF)</td>\n",
       "    </tr>\n",
       "    <tr>\n",
       "      <th>0</th>\n",
       "      <td>0.537749705857</td>\n",
       "      <td>0.469282531776</td>\n",
       "      <td>0.246048109966</td>\n",
       "      <td>0.311049608536</td>\n",
       "      <td>LogisticReg</td>\n",
       "    </tr>\n",
       "    <tr>\n",
       "      <th>0</th>\n",
       "      <td>0.532725941325</td>\n",
       "      <td>0.453674742412</td>\n",
       "      <td>0.319129438717</td>\n",
       "      <td>0.362155414766</td>\n",
       "      <td>LogisticReg(LASSO)</td>\n",
       "    </tr>\n",
       "    <tr>\n",
       "      <th>0</th>\n",
       "      <td>0.54508635041</td>\n",
       "      <td>0.505904574624</td>\n",
       "      <td>0.545246277205</td>\n",
       "      <td>0.522472922362</td>\n",
       "      <td>KNN(5)</td>\n",
       "    </tr>\n",
       "    <tr>\n",
       "      <th>0</th>\n",
       "      <td>0.62393117199</td>\n",
       "      <td>0.615563316842</td>\n",
       "      <td>0.482932416953</td>\n",
       "      <td>0.529136991649</td>\n",
       "      <td>GBoost</td>\n",
       "    </tr>\n",
       "    <tr>\n",
       "      <th>0</th>\n",
       "      <td>0.651374722656</td>\n",
       "      <td>0.627210522414</td>\n",
       "      <td>0.445589919817</td>\n",
       "      <td>0.533032633883</td>\n",
       "      <td>RF</td>\n",
       "    </tr>\n",
       "  </tbody>\n",
       "</table>\n",
       "</div>"
      ],
      "text/plain": [
       "                0               1                2               3  \\\n",
       "0  0.552625343166  0.531306675031  0.0792668957617  0.135600788778   \n",
       "0  0.529373016765  0.487743565266   0.504009163803  0.432794021555   \n",
       "0   0.53000200209  0.463880952465   0.181901489118  0.243953568721   \n",
       "0  0.537749705857  0.469282531776   0.246048109966  0.311049608536   \n",
       "0  0.532725941325  0.453674742412   0.319129438717  0.362155414766   \n",
       "0   0.54508635041  0.505904574624   0.545246277205  0.522472922362   \n",
       "0   0.62393117199  0.615563316842   0.482932416953  0.529136991649   \n",
       "0  0.651374722656  0.627210522414   0.445589919817  0.533032633883   \n",
       "\n",
       "                    4  \n",
       "0          GaussianNB  \n",
       "0                 SVM  \n",
       "0            SVM(RBF)  \n",
       "0         LogisticReg  \n",
       "0  LogisticReg(LASSO)  \n",
       "0              KNN(5)  \n",
       "0              GBoost  \n",
       "0                  RF  "
      ]
     },
     "execution_count": 17,
     "metadata": {},
     "output_type": "execute_result"
    }
   ],
   "source": [
    "model_metrics_cv5 = model_metrics_cv5.append(pd.DataFrame(np.array(get_metrics(rf_final) + [\"RF\"]).reshape(1, 5)))\n",
    "model_metrics_cv5"
   ]
  },
  {
   "cell_type": "code",
   "execution_count": 18,
   "metadata": {
    "collapsed": false
   },
   "outputs": [
    {
     "data": {
      "text/html": [
       "<div>\n",
       "<table border=\"1\" class=\"dataframe\">\n",
       "  <thead>\n",
       "    <tr style=\"text-align: right;\">\n",
       "      <th></th>\n",
       "      <th>Accuracy</th>\n",
       "      <th>Precision</th>\n",
       "      <th>Recall</th>\n",
       "      <th>F1</th>\n",
       "      <th>model</th>\n",
       "    </tr>\n",
       "  </thead>\n",
       "  <tbody>\n",
       "    <tr>\n",
       "      <th>0</th>\n",
       "      <td>0.552625343166</td>\n",
       "      <td>0.531306675031</td>\n",
       "      <td>0.0792668957617</td>\n",
       "      <td>0.135600788778</td>\n",
       "      <td>GaussianNB</td>\n",
       "    </tr>\n",
       "    <tr>\n",
       "      <th>1</th>\n",
       "      <td>0.529373016765</td>\n",
       "      <td>0.487743565266</td>\n",
       "      <td>0.504009163803</td>\n",
       "      <td>0.432794021555</td>\n",
       "      <td>SVM</td>\n",
       "    </tr>\n",
       "    <tr>\n",
       "      <th>2</th>\n",
       "      <td>0.53000200209</td>\n",
       "      <td>0.463880952465</td>\n",
       "      <td>0.181901489118</td>\n",
       "      <td>0.243953568721</td>\n",
       "      <td>SVM(RBF)</td>\n",
       "    </tr>\n",
       "    <tr>\n",
       "      <th>3</th>\n",
       "      <td>0.537749705857</td>\n",
       "      <td>0.469282531776</td>\n",
       "      <td>0.246048109966</td>\n",
       "      <td>0.311049608536</td>\n",
       "      <td>LogisticReg</td>\n",
       "    </tr>\n",
       "    <tr>\n",
       "      <th>4</th>\n",
       "      <td>0.532725941325</td>\n",
       "      <td>0.453674742412</td>\n",
       "      <td>0.319129438717</td>\n",
       "      <td>0.362155414766</td>\n",
       "      <td>LogisticReg(LASSO)</td>\n",
       "    </tr>\n",
       "    <tr>\n",
       "      <th>5</th>\n",
       "      <td>0.54508635041</td>\n",
       "      <td>0.505904574624</td>\n",
       "      <td>0.545246277205</td>\n",
       "      <td>0.522472922362</td>\n",
       "      <td>KNN(5)</td>\n",
       "    </tr>\n",
       "    <tr>\n",
       "      <th>6</th>\n",
       "      <td>0.62393117199</td>\n",
       "      <td>0.615563316842</td>\n",
       "      <td>0.482932416953</td>\n",
       "      <td>0.529136991649</td>\n",
       "      <td>GBoost</td>\n",
       "    </tr>\n",
       "    <tr>\n",
       "      <th>7</th>\n",
       "      <td>0.651374722656</td>\n",
       "      <td>0.627210522414</td>\n",
       "      <td>0.445589919817</td>\n",
       "      <td>0.533032633883</td>\n",
       "      <td>RF</td>\n",
       "    </tr>\n",
       "  </tbody>\n",
       "</table>\n",
       "</div>"
      ],
      "text/plain": [
       "         Accuracy       Precision           Recall              F1  \\\n",
       "0  0.552625343166  0.531306675031  0.0792668957617  0.135600788778   \n",
       "1  0.529373016765  0.487743565266   0.504009163803  0.432794021555   \n",
       "2   0.53000200209  0.463880952465   0.181901489118  0.243953568721   \n",
       "3  0.537749705857  0.469282531776   0.246048109966  0.311049608536   \n",
       "4  0.532725941325  0.453674742412   0.319129438717  0.362155414766   \n",
       "5   0.54508635041  0.505904574624   0.545246277205  0.522472922362   \n",
       "6   0.62393117199  0.615563316842   0.482932416953  0.529136991649   \n",
       "7  0.651374722656  0.627210522414   0.445589919817  0.533032633883   \n",
       "\n",
       "                model  \n",
       "0          GaussianNB  \n",
       "1                 SVM  \n",
       "2            SVM(RBF)  \n",
       "3         LogisticReg  \n",
       "4  LogisticReg(LASSO)  \n",
       "5              KNN(5)  \n",
       "6              GBoost  \n",
       "7                  RF  "
      ]
     },
     "execution_count": 18,
     "metadata": {},
     "output_type": "execute_result"
    }
   ],
   "source": [
    "model_metrics_cv5.columns = metric_cols\n",
    "model_metrics_cv5.reset_index(inplace = True, drop = True)\n",
    "model_metrics_cv5"
   ]
  },
  {
   "cell_type": "code",
   "execution_count": 121,
   "metadata": {
    "collapsed": false
   },
   "outputs": [
    {
     "data": {
      "image/png": "[encoded data removed]",
      "text/plain": [
       "<matplotlib.figure.Figure at 0x111989470>"
      ]
     },
     "metadata": {},
     "output_type": "display_data"
    }
   ],
   "source": [
    "plt.figure(figsize = (20, 7))\n",
    "plt.plot(model_metrics_cv5.index, model_metrics_cv5['Accuracy'], \"b-o\", label = 'Accuracy', linewidth = 2)\n",
    "plt.plot(model_metrics_cv5.index, model_metrics_cv5['Precision'], \"y-o\", label = 'Precision', linewidth = 2)\n",
    "plt.plot(model_metrics_cv5.index, model_metrics_cv5['Recall'], \"g-o\", label = 'Recall', linewidth = 2)\n",
    "plt.plot(model_metrics_cv5.index, model_metrics_cv5['F1'], \"r-o\", label = 'F1', linewidth = 2)\n",
    "plt.xticks(model_metrics_cv5.index, model_metrics_cv5['model'], fontsize = 16, fontweight = 'bold')\n",
    "plt.ylim([0, 1])\n",
    "plt.yticks(np.array(range(0, 101, 10)) / 100, fontsize = 16)\n",
    "plt.legend(loc = 'lower right', fontsize = 16)\n",
    "plt.title(r\"Model Metric Comparison (5 Fold CV)\", fontsize = 22, fontweight = 'bold')\n",
    "plt.show()"
   ]
  },
  {
   "cell_type": "code",
   "execution_count": 93,
   "metadata": {
    "collapsed": false
   },
   "outputs": [
    {
     "data": {
      "text/plain": [
       "RandomForestClassifier(bootstrap=True, class_weight=None, criterion='gini',\n",
       "            max_depth=11, max_features='auto', max_leaf_nodes=None,\n",
       "            min_impurity_split=1e-07, min_samples_leaf=1,\n",
       "            min_samples_split=2, min_weight_fraction_leaf=0.0,\n",
       "            n_estimators=20, n_jobs=1, oob_score=False, random_state=None,\n",
       "            verbose=0, warm_start=False)"
      ]
     },
     "execution_count": 93,
     "metadata": {},
     "output_type": "execute_result"
    }
   ],
   "source": [
    "rf_final.fit(X_tr_for_roc, y_tr_for_roc)"
   ]
  },
  {
   "cell_type": "code",
   "execution_count": 97,
   "metadata": {
    "collapsed": true
   },
   "outputs": [],
   "source": [
    "def get_metrics2(X, y, whatdata, final_model = rf_final, mypos_label = 1): #label_col == 1 means it's a Python3 question\n",
    "    pred = final_model.predict(X)\n",
    "    accuracy = accuracy_score(y, pred)\n",
    "    precision = precision_score(y, pred, pos_label = mypos_label) \n",
    "    recall = recall_score(y, pred, pos_label = mypos_label)\n",
    "    f1 = f1_score(y, pred, pos_label = mypos_label)\n",
    "    \n",
    "    pred_proba = final_model.predict_proba(X)[:, 1]\n",
    "    fpr, tpr, thres = roc_curve(y, pred_proba, pos_label = mypos_label)\n",
    "    auc_value = auc(fpr, tpr)\n",
    "\n",
    "    mystr = \"Random Forest \" + whatdata + \\\n",
    "      \" accuracy \" +  str(format(accuracy, \"8.4f\")).strip(\" \") + \\\n",
    "      \" precision \" +  str(format(precision, \"8.4f\")).strip(\" \") + \\\n",
    "      \" recall \" +  str(format(recall, \"8.4f\")).strip(\" \") + \\\n",
    "      \" f1 \" +  str(format(f1, \"8.4f\")).strip(\" \") + \\\n",
    "      \" auc \" +  str(format(auc_value, \"8.4f\")).strip(\" \")\n",
    "    \n",
    "    return pred, pred_proba, accuracy, precision, recall, f1, fpr, tpr, thres, auc_value, mystr"
   ]
  },
  {
   "cell_type": "code",
   "execution_count": 98,
   "metadata": {
    "collapsed": false
   },
   "outputs": [
    {
     "name": "stdout",
     "output_type": "stream",
     "text": [
      "Random Forest testing set accuracy 0.6229 precision 0.5936 recall 0.4783 f1 0.5297 auc 0.6494\n"
     ]
    }
   ],
   "source": [
    "pred_ts, pred_proba_ts, accuracy_ts, precision_ts, recall_ts, \\\n",
    "f1_ts, fpr_ts, tpr_ts, thres_ts, auc_value_ts, mystr_ts = get_metrics2(X_ts_for_roc, y_ts_for_roc, \"testing set\")\n",
    "print(mystr_ts)"
   ]
  },
  {
   "cell_type": "code",
   "execution_count": 99,
   "metadata": {
    "collapsed": false
   },
   "outputs": [
    {
     "name": "stdout",
     "output_type": "stream",
     "text": [
      "Random Forest holdout set accuracy 0.6415 precision 0.6972 recall 0.5135 f1 0.5914 auc 0.6842\n"
     ]
    }
   ],
   "source": [
    "pred, pred_proba, accuracy, precision, recall, \\\n",
    "f1, fpr, tpr, thres, auc_value, mystr = get_metrics2(X_holdout, y_holdout, \"holdout set\")\n",
    "print(mystr)"
   ]
  },
  {
   "cell_type": "code",
   "execution_count": 130,
   "metadata": {
    "collapsed": false
   },
   "outputs": [
    {
     "name": "stdout",
     "output_type": "stream",
     "text": [
      "Random Forest 5 fold CV accuracy 0.6514 precision 0.6272 recall 0.4456 f1 0.5330 auc -.----    \n"
     ]
    }
   ],
   "source": [
    "mystr_cv = \"Random Forest \" + \"5 fold CV\" + \\\n",
    "      \" accuracy \" +  str(format(float(model_metrics_cv5.loc[cond, \"Accuracy\"]), \"8.4f\")).strip(\" \") + \\\n",
    "      \" precision \" +  str(format(float(model_metrics_cv5.loc[cond, \"Precision\"]), \"8.4f\")).strip(\" \") + \\\n",
    "      \" recall \" +  str(format(float(model_metrics_cv5.loc[cond, \"Recall\"]), \"8.4f\")).strip(\" \") + \\\n",
    "      \" f1 \" +  str(format(float(model_metrics_cv5.loc[cond, \"F1\"]), \"8.4f\")).strip(\" \") + \\\n",
    "      \" auc -.----    \"\n",
    "print(mystr_cv)"
   ]
  },
  {
   "cell_type": "code",
   "execution_count": 148,
   "metadata": {
    "collapsed": false
   },
   "outputs": [
    {
     "data": {
      "image/png": "[encoded data removed]",
      "text/plain": [
       "<matplotlib.figure.Figure at 0x114fdc630>"
      ]
     },
     "metadata": {},
     "output_type": "display_data"
    }
   ],
   "source": [
    "plt.figure(figsize = (12, 4))\n",
    "plt.plot(fpr_ts, tpr_ts, \"b-\", label = \"Testing\")\n",
    "plt.plot(fpr, tpr, \"r-\", label = \"Holdout\")\n",
    "plt.suptitle(\"Random Forest Classifier ROC Curve\", fontsize = 18, fontweight = 'bold')\n",
    "plt.title(\"\", fontsize = 4)\n",
    "plt.xlabel(\"False Positive Rate (1 - Specificity)\", fontsize = 14, fontweight = 'bold')\n",
    "plt.ylabel(\"True Positive Rate (Sensitivity)\", fontsize = 14, fontweight = 'bold')\n",
    "plt.annotate(mystr_cv + \"\\n\" + mystr_ts + \"\\n\" + mystr + \"\\n\\n\\n\", xy=(0.935, 0), xycoords='figure fraction',\n",
    "            xytext=(0, -45), textcoords='offset points',\n",
    "            ha = \"right\", fontsize = 14, style='italic')\n",
    "plt.yticks(fontweight = 'bold')\n",
    "plt.xticks(fontweight = 'bold')\n",
    "plt.legend(fontsize = 14)\n",
    "plt.show()"
   ]
  },
  {
   "cell_type": "code",
   "execution_count": 156,
   "metadata": {
    "collapsed": false
   },
   "outputs": [
    {
     "data": {
      "text/html": [
       "<div>\n",
       "<table border=\"1\" class=\"dataframe\">\n",
       "  <thead>\n",
       "    <tr style=\"text-align: right;\">\n",
       "      <th></th>\n",
       "      <th>imp</th>\n",
       "      <th>feat</th>\n",
       "    </tr>\n",
       "  </thead>\n",
       "  <tbody>\n",
       "    <tr>\n",
       "      <th>1</th>\n",
       "      <td>0.078956</td>\n",
       "      <td>Asker Reputation</td>\n",
       "    </tr>\n",
       "    <tr>\n",
       "      <th>2</th>\n",
       "      <td>0.069106</td>\n",
       "      <td>Asker Bronze Badges</td>\n",
       "    </tr>\n",
       "    <tr>\n",
       "      <th>3</th>\n",
       "      <td>0.068227</td>\n",
       "      <td>Length of Question</td>\n",
       "    </tr>\n",
       "  </tbody>\n",
       "</table>\n",
       "</div>"
      ],
      "text/plain": [
       "        imp                 feat\n",
       "1  0.078956     Asker Reputation\n",
       "2  0.069106  Asker Bronze Badges\n",
       "3  0.068227   Length of Question"
      ]
     },
     "execution_count": 156,
     "metadata": {},
     "output_type": "execute_result"
    }
   ],
   "source": [
    "imp = pd.DataFrame(rf_final.feature_importances_, columns = [\"imp\"])\n",
    "imp['feat'] = X_cols_label\n",
    "imp.sort_values('imp', ascending = False, inplace = True)\n",
    "imp.set_index(np.array(range(len(X_cols_label)))+1, inplace = True)\n",
    "imp.head(3)"
   ]
  },
  {
   "cell_type": "code",
   "execution_count": 175,
   "metadata": {
    "collapsed": false
   },
   "outputs": [
    {
     "data": {
      "text/html": [
       "<div>\n",
       "<table border=\"1\" class=\"dataframe\">\n",
       "  <thead>\n",
       "    <tr style=\"text-align: right;\">\n",
       "      <th>Pred</th>\n",
       "      <th>False</th>\n",
       "      <th>True</th>\n",
       "    </tr>\n",
       "    <tr>\n",
       "      <th>True</th>\n",
       "      <th></th>\n",
       "      <th></th>\n",
       "    </tr>\n",
       "  </thead>\n",
       "  <tbody>\n",
       "    <tr>\n",
       "      <th>False</th>\n",
       "      <td>1848</td>\n",
       "      <td>545</td>\n",
       "    </tr>\n",
       "    <tr>\n",
       "      <th>True</th>\n",
       "      <td>1189</td>\n",
       "      <td>1255</td>\n",
       "    </tr>\n",
       "  </tbody>\n",
       "</table>\n",
       "</div>"
      ],
      "text/plain": [
       "Pred   False  True \n",
       "True               \n",
       "False   1848    545\n",
       "True    1189   1255"
      ]
     },
     "execution_count": 175,
     "metadata": {},
     "output_type": "execute_result"
    }
   ],
   "source": [
    "pd.crosstab(pd.DataFrame(np.array(y_holdout), columns = [\"True\"]).iloc[:, 0], \\\n",
    "            pd.DataFrame(np.array(pred), columns = [\"Pred\"]).iloc[:, 0])"
   ]
  },
  {
   "cell_type": "markdown",
   "metadata": {
    "collapsed": true
   },
   "source": [
    "### sandbox"
   ]
  },
  {
   "cell_type": "code",
   "execution_count": null,
   "metadata": {
    "collapsed": false
   },
   "outputs": [],
   "source": [
    "first_tree = rf[0]"
   ]
  },
  {
   "cell_type": "code",
   "execution_count": null,
   "metadata": {
    "collapsed": false
   },
   "outputs": [],
   "source": [
    "X.columns[29]"
   ]
  },
  {
   "cell_type": "code",
   "execution_count": null,
   "metadata": {
    "collapsed": false
   },
   "outputs": [],
   "source": [
    "avg_f_imp = pd.DataFrame(rf.feature_importances_, columns = [\"imp\"])\n",
    "avg_f_imp['name'] = X.columns\n",
    "avg_f_imp.sort_values('imp', ascending = False, inplace = True)\n",
    "#avg_f_imp"
   ]
  },
  {
   "cell_type": "code",
   "execution_count": null,
   "metadata": {
    "collapsed": false
   },
   "outputs": [],
   "source": [
    "export_graphviz(first_tree)\n",
    "first_tree.tree_."
   ]
  },
  {
   "cell_type": "code",
   "execution_count": null,
   "metadata": {
    "collapsed": false
   },
   "outputs": [],
   "source": [
    "first_tree.tree_.children_left[0:10]"
   ]
  },
  {
   "cell_type": "code",
   "execution_count": null,
   "metadata": {
    "collapsed": false
   },
   "outputs": [],
   "source": [
    "first_tree.tree_.children_right[0:10]"
   ]
  },
  {
   "cell_type": "code",
   "execution_count": null,
   "metadata": {
    "collapsed": false
   },
   "outputs": [],
   "source": [
    "df_all[\"label_col\"].value_counts()"
   ]
  },
  {
   "cell_type": "code",
   "execution_count": null,
   "metadata": {
    "collapsed": true
   },
   "outputs": [],
   "source": []
  },
  {
   "cell_type": "code",
   "execution_count": null,
   "metadata": {
    "collapsed": false
   },
   "outputs": [],
   "source": [
    "X.columns"
   ]
  },
  {
   "cell_type": "code",
   "execution_count": null,
   "metadata": {
    "collapsed": true
   },
   "outputs": [],
   "source": []
  },
  {
   "cell_type": "markdown",
   "metadata": {
    "collapsed": true
   },
   "source": [
    "### pickle model"
   ]
  },
  {
   "cell_type": "markdown",
   "metadata": {
    "collapsed": true
   },
   "source": [
    "- rf for viz"
   ]
  },
  {
   "cell_type": "code",
   "execution_count": 117,
   "metadata": {
    "collapsed": false
   },
   "outputs": [],
   "source": [
    "# print(rf_final)"
   ]
  },
  {
   "cell_type": "code",
   "execution_count": 119,
   "metadata": {
    "collapsed": false
   },
   "outputs": [
    {
     "name": "stdout",
     "output_type": "stream",
     "text": [
      "Random Forest  accuracy 0.6183 precision 0.6013 recall 0.4172 f1 0.4926 auc 0.6407\n"
     ]
    }
   ],
   "source": [
    "rf_viz = RandomForestClassifier(n_estimators=40, max_depth=9)\n",
    "rf_viz.fit(X_tr_for_roc, y_tr_for_roc)\n",
    "pred_viz, pred_proba_viz, accuracy_viz, precision_viz, recall_viz, \\\n",
    "f1_viz, fpr_viz, tpr_viz, thres_viz, auc_value_viz, mystr_viz = \\\n",
    "get_metrics2(X_ts_for_roc, y_ts_for_roc, \"\", final_model=rf_viz)\n",
    "print(mystr_viz)"
   ]
  },
  {
   "cell_type": "code",
   "execution_count": 120,
   "metadata": {
    "collapsed": true
   },
   "outputs": [],
   "source": [
    "with open('data_for_viz.pkl', 'wb') as picklefile:\n",
    "    pickle.dump(rf_viz, picklefile)\n",
    "    pickle.dump(X_cols_label, picklefile)"
   ]
  },
  {
   "cell_type": "code",
   "execution_count": null,
   "metadata": {
    "collapsed": true
   },
   "outputs": [],
   "source": []
  }
 ],
 "metadata": {
  "kernelspec": {
   "display_name": "Python 3",
   "language": "python",
   "name": "python3"
  },
  "language_info": {
   "codemirror_mode": {
    "name": "ipython",
    "version": 3
   },
   "file_extension": ".py",
   "mimetype": "text/x-python",
   "name": "python",
   "nbconvert_exporter": "python",
   "pygments_lexer": "ipython3",
   "version": "3.6.0"
  }
 },
 "nbformat": 4,
 "nbformat_minor": 2
}
