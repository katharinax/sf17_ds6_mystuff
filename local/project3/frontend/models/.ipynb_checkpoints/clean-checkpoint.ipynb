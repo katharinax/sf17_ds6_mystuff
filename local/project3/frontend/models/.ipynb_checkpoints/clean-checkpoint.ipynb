{
 "cells": [
  {
   "cell_type": "code",
   "execution_count": 1,
   "metadata": {
    "collapsed": true
   },
   "outputs": [],
   "source": [
    "import pandas as pd\n",
    "import numpy as np\n",
    "import matplotlib.pyplot as plt\n",
    "from sklearn.preprocessing import PolynomialFeatures\n",
    "import re\n",
    "from sqlalchemy import create_engine\n",
    "import pickle\n",
    "import warnings\n",
    "#import requests\n",
    "#from bs4 import BeautifulSoup\n",
    "#import time\n",
    "#from fake_useragent import UserAgent\n",
    "#import sys, os\n",
    "\n",
    "warnings.filterwarnings(\"ignore\")\n",
    "%matplotlib inline"
   ]
  },
  {
   "cell_type": "markdown",
   "metadata": {},
   "source": [
    "### import data"
   ]
  },
  {
   "cell_type": "code",
   "execution_count": 2,
   "metadata": {
    "collapsed": true
   },
   "outputs": [],
   "source": [
    "with open(\"my_data.pkl\", 'rb') as picklefile: \n",
    "    raw_q = pickle.load(picklefile).drop_duplicates()\n",
    "    raw_a = pickle.load(picklefile).drop_duplicates()\n",
    "    raw_tag = pickle.load(picklefile).drop_duplicates()\n",
    "    raw_view = pickle.load(picklefile).drop_duplicates()\n",
    "    raw_badge = pickle.load(picklefile).drop_duplicates()"
   ]
  },
  {
   "cell_type": "code",
   "execution_count": 48,
   "metadata": {
    "collapsed": false
   },
   "outputs": [],
   "source": [
    "#raw_q.tail(1)\n",
    "#raw_q.shape"
   ]
  },
  {
   "cell_type": "code",
   "execution_count": 49,
   "metadata": {
    "collapsed": false
   },
   "outputs": [],
   "source": [
    "#raw_view.tail(1)\n",
    "#raw_view.shape"
   ]
  },
  {
   "cell_type": "code",
   "execution_count": 50,
   "metadata": {
    "collapsed": false
   },
   "outputs": [],
   "source": [
    "#raw_tag.tail(1)\n",
    "#raw_tag.shape"
   ]
  },
  {
   "cell_type": "code",
   "execution_count": 51,
   "metadata": {
    "collapsed": false
   },
   "outputs": [],
   "source": [
    "#raw_a.tail(1)\n",
    "#raw_a.shape"
   ]
  },
  {
   "cell_type": "code",
   "execution_count": 52,
   "metadata": {
    "collapsed": false
   },
   "outputs": [],
   "source": [
    "#raw_badge.tail(1)\n",
    "#raw_badge.shape"
   ]
  },
  {
   "cell_type": "markdown",
   "metadata": {},
   "source": [
    "### merge data"
   ]
  },
  {
   "cell_type": "code",
   "execution_count": 3,
   "metadata": {
    "collapsed": false
   },
   "outputs": [],
   "source": [
    "df = raw_view.merge(raw_q, how = \"inner\", left_on = \"questionid\", right_on = \"id\")\n",
    "raw_tag = raw_tag[raw_tag['tag'] == 'python']\n",
    "df = df.merge(raw_tag, how = \"inner\", left_on = \"questionid\", right_on = \"id\")\n",
    "keep_cols = ['questionid','owneruserid', 'creationdate', 'score', 'views', 'title', 'body']\n",
    "df = df[keep_cols]\n",
    "df.columns = ['q_id', 'q_user', 'q_date', 'q_score', 'q_views', 'q_title', 'q_body']\n",
    "raw_a.columns = ['a_id', 'a_user', 'a_date', 'q_id', 'a_score', 'a_body']\n",
    "df = df.merge(raw_a, how = \"inner\", on = \"q_id\")\n",
    "\n",
    "raw_badge = raw_badge.loc[:, ['id', 'rep', 'gold', 'silver', 'bronze']]\n",
    "raw_badge.rename(index = str, columns = {\"id\": \"user\"}, inplace = True)\n",
    "temp_badge = raw_badge.copy()\n",
    "temp_badge.columns = 'q_' + np.array(temp_badge.columns)\n",
    "df = df.merge(temp_badge, how = \"inner\", on = \"q_user\")\n",
    "\n",
    "temp_badge = raw_badge.copy()\n",
    "temp_badge.columns\n",
    "temp_badge.columns = 'a_' + np.array(temp_badge.columns)\n",
    "df = df.merge(temp_badge, how = \"inner\", on = \"a_user\")"
   ]
  },
  {
   "cell_type": "markdown",
   "metadata": {},
   "source": [
    "### cleaning"
   ]
  },
  {
   "cell_type": "code",
   "execution_count": 4,
   "metadata": {
    "collapsed": false
   },
   "outputs": [],
   "source": [
    "df['q_views'] = df['q_views'].map(float)"
   ]
  },
  {
   "cell_type": "code",
   "execution_count": null,
   "metadata": {
    "collapsed": true
   },
   "outputs": [],
   "source": []
  },
  {
   "cell_type": "code",
   "execution_count": null,
   "metadata": {
    "collapsed": true
   },
   "outputs": [],
   "source": []
  },
  {
   "cell_type": "code",
   "execution_count": null,
   "metadata": {
    "collapsed": true
   },
   "outputs": [],
   "source": []
  },
  {
   "cell_type": "markdown",
   "metadata": {},
   "source": [
    "### exploratory"
   ]
  },
  {
   "cell_type": "code",
   "execution_count": 5,
   "metadata": {
    "collapsed": false
   },
   "outputs": [
    {
     "data": {
      "text/html": [
       "<div>\n",
       "<table border=\"1\" class=\"dataframe\">\n",
       "  <thead>\n",
       "    <tr style=\"text-align: right;\">\n",
       "      <th></th>\n",
       "      <th>q_id</th>\n",
       "      <th>q_user</th>\n",
       "      <th>q_date</th>\n",
       "      <th>q_score</th>\n",
       "      <th>q_views</th>\n",
       "      <th>q_title</th>\n",
       "      <th>q_body</th>\n",
       "      <th>a_id</th>\n",
       "      <th>a_user</th>\n",
       "      <th>a_date</th>\n",
       "      <th>a_score</th>\n",
       "      <th>a_body</th>\n",
       "      <th>q_rep</th>\n",
       "      <th>q_gold</th>\n",
       "      <th>q_silver</th>\n",
       "      <th>q_bronze</th>\n",
       "      <th>a_rep</th>\n",
       "      <th>a_gold</th>\n",
       "      <th>a_silver</th>\n",
       "      <th>a_bronze</th>\n",
       "    </tr>\n",
       "  </thead>\n",
       "  <tbody>\n",
       "    <tr>\n",
       "      <th>48013</th>\n",
       "      <td>21690171</td>\n",
       "      <td>3015420.0</td>\n",
       "      <td>2014-02-10 23:37:26</td>\n",
       "      <td>1</td>\n",
       "      <td>327.0</td>\n",
       "      <td>Matlab Concatenating Row Vectors With A For Loop</td>\n",
       "      <td>&lt;p&gt;Here is what I did:&lt;/p&gt;\\n\\n&lt;pre&gt;&lt;code&gt;w = z...</td>\n",
       "      <td>21690402</td>\n",
       "      <td>1586200.0</td>\n",
       "      <td>2014-02-10 23:55:23</td>\n",
       "      <td>2</td>\n",
       "      <td>&lt;p&gt;You don't need a cell array to concatenate ...</td>\n",
       "      <td>45.0</td>\n",
       "      <td>0.0</td>\n",
       "      <td>0.0</td>\n",
       "      <td>6.0</td>\n",
       "      <td>5906.0</td>\n",
       "      <td>0.0</td>\n",
       "      <td>16.0</td>\n",
       "      <td>46.0</td>\n",
       "    </tr>\n",
       "  </tbody>\n",
       "</table>\n",
       "</div>"
      ],
      "text/plain": [
       "           q_id     q_user              q_date  q_score  q_views  \\\n",
       "48013  21690171  3015420.0 2014-02-10 23:37:26        1    327.0   \n",
       "\n",
       "                                                q_title  \\\n",
       "48013  Matlab Concatenating Row Vectors With A For Loop   \n",
       "\n",
       "                                                  q_body      a_id     a_user  \\\n",
       "48013  <p>Here is what I did:</p>\\n\\n<pre><code>w = z...  21690402  1586200.0   \n",
       "\n",
       "                   a_date  a_score  \\\n",
       "48013 2014-02-10 23:55:23        2   \n",
       "\n",
       "                                                  a_body  q_rep  q_gold  \\\n",
       "48013  <p>You don't need a cell array to concatenate ...   45.0     0.0   \n",
       "\n",
       "       q_silver  q_bronze   a_rep  a_gold  a_silver  a_bronze  \n",
       "48013       0.0       6.0  5906.0     0.0      16.0      46.0  "
      ]
     },
     "execution_count": 5,
     "metadata": {},
     "output_type": "execute_result"
    }
   ],
   "source": [
    "df.tail(1)"
   ]
  },
  {
   "cell_type": "code",
   "execution_count": 7,
   "metadata": {
    "collapsed": false
   },
   "outputs": [],
   "source": [
    "#df.info()"
   ]
  },
  {
   "cell_type": "code",
   "execution_count": 53,
   "metadata": {
    "collapsed": false
   },
   "outputs": [
    {
     "data": {
      "image/png": "[encoded data removed]",
      "text/plain": [
       "<matplotlib.figure.Figure at 0x12b74ffd0>"
      ]
     },
     "metadata": {},
     "output_type": "display_data"
    }
   ],
   "source": [
    "ct = df['a_user'].value_counts()\n",
    "ct.sort_values(ascending = False)\n",
    "n_row = 30\n",
    "y_axis = list(range(n_row, 0, -1))\n",
    "ytick_li = list(pd.Series(ct.index).map(lambda x: str(int(x))))\n",
    "plt.figure(figsize = (6, 10))\n",
    "plt.barh(y_axis, ct.values[:n_row])\n",
    "plt.yticks(y_axis[:n_row], ytick_li[:n_row])\n",
    "plt.show()"
   ]
  },
  {
   "cell_type": "code",
   "execution_count": null,
   "metadata": {
    "collapsed": true
   },
   "outputs": [],
   "source": []
  },
  {
   "cell_type": "markdown",
   "metadata": {},
   "source": [
    "### pickle data"
   ]
  },
  {
   "cell_type": "code",
   "execution_count": 56,
   "metadata": {
    "collapsed": true
   },
   "outputs": [],
   "source": [
    "with open('cleaned_data.pkl', 'wb') as picklefile:\n",
    "    pickle.dump(df, picklefile)"
   ]
  },
  {
   "cell_type": "code",
   "execution_count": null,
   "metadata": {
    "collapsed": true
   },
   "outputs": [],
   "source": []
  }
 ],
 "metadata": {
  "kernelspec": {
   "display_name": "Python 3",
   "language": "python",
   "name": "python3"
  },
  "language_info": {
   "codemirror_mode": {
    "name": "ipython",
    "version": 3
   },
   "file_extension": ".py",
   "mimetype": "text/x-python",
   "name": "python",
   "nbconvert_exporter": "python",
   "pygments_lexer": "ipython3",
   "version": "3.6.0"
  }
 },
 "nbformat": 4,
 "nbformat_minor": 2
}
