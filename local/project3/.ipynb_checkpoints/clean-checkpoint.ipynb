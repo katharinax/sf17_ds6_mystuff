{
 "cells": [
  {
   "cell_type": "code",
   "execution_count": 1,
   "metadata": {
    "collapsed": true
   },
   "outputs": [],
   "source": [
    "import pandas as pd\n",
    "import numpy as np\n",
    "import matplotlib.pyplot as plt\n",
    "import re\n",
    "from sqlalchemy import create_engine\n",
    "import pickle\n",
    "import warnings\n",
    "#import requests\n",
    "#from bs4 import BeautifulSoup\n",
    "#import time\n",
    "#from fake_useragent import UserAgent\n",
    "#import sys, os\n",
    "\n",
    "warnings.filterwarnings(\"ignore\")\n",
    "%matplotlib inline"
   ]
  },
  {
   "cell_type": "code",
   "execution_count": 54,
   "metadata": {
    "collapsed": true
   },
   "outputs": [],
   "source": [
    "with open(\"my_data.pkl\", 'rb') as picklefile: \n",
    "    raw_q = pickle.load(picklefile).drop_duplicates()\n",
    "    raw_a = pickle.load(picklefile).drop_duplicates()\n",
    "    raw_tag = pickle.load(picklefile).drop_duplicates()\n",
    "    raw_view = pickle.load(picklefile).drop_duplicates()"
   ]
  },
  {
   "cell_type": "code",
   "execution_count": 50,
   "metadata": {
    "collapsed": false
   },
   "outputs": [],
   "source": [
    "#raw_q.tail(1)\n",
    "#raw_q.shape"
   ]
  },
  {
   "cell_type": "code",
   "execution_count": 51,
   "metadata": {
    "collapsed": false
   },
   "outputs": [],
   "source": [
    "#raw_view.tail(1)\n",
    "#raw_view.shape"
   ]
  },
  {
   "cell_type": "code",
   "execution_count": 52,
   "metadata": {
    "collapsed": false
   },
   "outputs": [],
   "source": [
    "#raw_tag.tail(1)\n",
    "#raw_tag.shape"
   ]
  },
  {
   "cell_type": "code",
   "execution_count": 53,
   "metadata": {
    "collapsed": false
   },
   "outputs": [],
   "source": [
    "#raw_a.tail(1)\n",
    "#raw_a.shape"
   ]
  },
  {
   "cell_type": "code",
   "execution_count": 55,
   "metadata": {
    "collapsed": false
   },
   "outputs": [],
   "source": [
    "df = raw_view.merge(raw_q, how = \"inner\", left_on = \"questionid\", right_on = \"id\")\n",
    "df = df.merge(raw_tag, how = \"inner\", left_on = \"questionid\", right_on = \"id\")\n",
    "keep_cols = ['questionid','owneruserid', 'creationdate', 'score', 'views', 'tag', 'title', 'body']\n",
    "df = df[keep_cols]\n",
    "df.columns = ['q_id', 'q_user', 'q_date', 'q_score', 'q_views', 'q_tag', 'q_title', 'q_body']\n",
    "raw_a.columns = ['a_id', 'a_user', 'a_date', 'q_id', 'a_score', 'a_body']\n",
    "df = df.merge(raw_a, how = \"inner\", on = \"q_id\")\n",
    "#TODO merge user badges"
   ]
  },
  {
   "cell_type": "code",
   "execution_count": 56,
   "metadata": {
    "collapsed": false
   },
   "outputs": [
    {
     "data": {
      "text/html": [
       "<div>\n",
       "<table border=\"1\" class=\"dataframe\">\n",
       "  <thead>\n",
       "    <tr style=\"text-align: right;\">\n",
       "      <th></th>\n",
       "      <th>q_id</th>\n",
       "      <th>q_user</th>\n",
       "      <th>q_date</th>\n",
       "      <th>q_score</th>\n",
       "      <th>q_views</th>\n",
       "      <th>q_tag</th>\n",
       "      <th>q_title</th>\n",
       "      <th>q_body</th>\n",
       "      <th>a_id</th>\n",
       "      <th>a_user</th>\n",
       "      <th>a_date</th>\n",
       "      <th>a_score</th>\n",
       "      <th>a_body</th>\n",
       "    </tr>\n",
       "  </thead>\n",
       "  <tbody>\n",
       "    <tr>\n",
       "      <th>1453429</th>\n",
       "      <td>21346177</td>\n",
       "      <td>2317070.0</td>\n",
       "      <td>2014-01-25 03:19:13</td>\n",
       "      <td>0</td>\n",
       "      <td>741</td>\n",
       "      <td>dictionary</td>\n",
       "      <td>creating proper tsv output from dictionary of ...</td>\n",
       "      <td>&lt;p&gt;I have a server log file, linked &lt;a href=\"h...</td>\n",
       "      <td>21356633</td>\n",
       "      <td>2317067.0</td>\n",
       "      <td>2014-01-25 21:43:50</td>\n",
       "      <td>0</td>\n",
       "      <td>&lt;p&gt;After some tinkering (and sleep),  I have a...</td>\n",
       "    </tr>\n",
       "  </tbody>\n",
       "</table>\n",
       "</div>"
      ],
      "text/plain": [
       "             q_id     q_user              q_date  q_score q_views       q_tag  \\\n",
       "1453429  21346177  2317070.0 2014-01-25 03:19:13        0     741  dictionary   \n",
       "\n",
       "                                                   q_title  \\\n",
       "1453429  creating proper tsv output from dictionary of ...   \n",
       "\n",
       "                                                    q_body      a_id  \\\n",
       "1453429  <p>I have a server log file, linked <a href=\"h...  21356633   \n",
       "\n",
       "            a_user              a_date  a_score  \\\n",
       "1453429  2317067.0 2014-01-25 21:43:50        0   \n",
       "\n",
       "                                                    a_body  \n",
       "1453429  <p>After some tinkering (and sleep),  I have a...  "
      ]
     },
     "execution_count": 56,
     "metadata": {},
     "output_type": "execute_result"
    }
   ],
   "source": [
    "df.tail(1)"
   ]
  },
  {
   "cell_type": "code",
   "execution_count": null,
   "metadata": {
    "collapsed": true
   },
   "outputs": [],
   "source": []
  },
  {
   "cell_type": "code",
   "execution_count": null,
   "metadata": {
    "collapsed": true
   },
   "outputs": [],
   "source": []
  },
  {
   "cell_type": "code",
   "execution_count": null,
   "metadata": {
    "collapsed": true
   },
   "outputs": [],
   "source": []
  }
 ],
 "metadata": {
  "kernelspec": {
   "display_name": "Python 3",
   "language": "python",
   "name": "python3"
  },
  "language_info": {
   "codemirror_mode": {
    "name": "ipython",
    "version": 3
   },
   "file_extension": ".py",
   "mimetype": "text/x-python",
   "name": "python",
   "nbconvert_exporter": "python",
   "pygments_lexer": "ipython3",
   "version": "3.6.0"
  }
 },
 "nbformat": 4,
 "nbformat_minor": 2
}
