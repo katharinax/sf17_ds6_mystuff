{
 "cells": [
  {
   "cell_type": "code",
   "execution_count": 1,
   "metadata": {
    "collapsed": false
   },
   "outputs": [],
   "source": [
    "import numpy as np\n",
    "import pandas as pd\n",
    "import copy\n",
    "import matplotlib.pyplot as plt\n",
    "import re\n",
    "import requests\n",
    "from bs4 import BeautifulSoup\n",
    "import pickle\n",
    "import sys\n",
    "%matplotlib inline  "
   ]
  },
  {
   "cell_type": "code",
   "execution_count": 2,
   "metadata": {
    "collapsed": true
   },
   "outputs": [],
   "source": [
    "def get_html(url):\n",
    "    response = requests.get(url)\n",
    "    return (BeautifulSoup(response.text, \"lxml\"))"
   ]
  },
  {
   "cell_type": "code",
   "execution_count": 3,
   "metadata": {
    "collapsed": true
   },
   "outputs": [],
   "source": [
    "def get_ranking_page(url):\n",
    "    \"\"\"\n",
    "    input: url of one single webpage that shows ranking of a certain genre\n",
    "    output: pandas df of that webpage\n",
    "    Limitation: Works on boxofficemojo.com\n",
    "    \"\"\"\n",
    "    page = get_html(url)\n",
    "    movie_list = []\n",
    "    id_pattern = r\".*?id=(?P<id>.*).htm\"\n",
    "    for element in page.find_all(\"table\")[3].find_all(\"td\")[6:]:\n",
    "        text_temp = element.text\n",
    "        if text_temp == \"TOTAL (All Movies):\":\n",
    "            break\n",
    "        try:\n",
    "            movie_list += [re.search(id_pattern, element.find(\"a\")[\"href\"]).group(\"id\")]\n",
    "        except:\n",
    "            pass       \n",
    "        movie_list += [text_temp]\n",
    "    row_ct = int(len(movie_list) / 9)\n",
    "    return(pd.DataFrame(np.array(movie_list).reshape([row_ct, 9])))"
   ]
  },
  {
   "cell_type": "code",
   "execution_count": 4,
   "metadata": {
    "collapsed": true
   },
   "outputs": [],
   "source": [
    "def get_ranking_pages(genre, total_pages):\n",
    "    \"\"\"\n",
    "    output: one pandas df of all ranking webpages of a certain genre\n",
    "    Limitation: Works on boxofficemojo.com\n",
    "    \"\"\"\n",
    "    num = 1\n",
    "    movie_main = pd.DataFrame()\n",
    "    for num in range(total_pages):\n",
    "        genre_url = r\"http://www.boxofficemojo.com/genres/chart/?view=main&sort=gross&order=DESC&pagenum=\" + str(num + 1) + r\"&id=\" + str(genre) + r\".htm\"\n",
    "        movie_main = movie_main.append(get_ranking_page(genre_url))\n",
    "    movie_main = movie_main.reset_index(drop = True)\n",
    "    movie_main.columns = [\"Rank\", \"movieid\", \"Title\", \"Studio\", \"life_gross\", \"life_theater\", \\\n",
    "                          \"open_gross\", \"open_theater\", \"release_date\"]   \n",
    "    movie_main[\"genre\"] = genre\n",
    "    return movie_main"
   ]
  },
  {
   "cell_type": "code",
   "execution_count": 5,
   "metadata": {
    "collapsed": false
   },
   "outputs": [],
   "source": [
    "def get_movie_metadata(corpus):\n",
    "    movie_meta_text = corpus.find_all(\"table\")[0].find_all(\"td\")[5].getText()\n",
    "    movie_pattern = r\".*Runtime: (?P<runtime>.*)MPAA Rating: (?P<mpaa>.*)Production Budget: \\$(?P<budget>.*)\"\n",
    "    data = np.array((movieid,) + re.search(movie_pattern, movie_meta_text).groups())\n",
    "    data.shape = (1, 4)\n",
    "    col_names = [\"movieid\",\"runtime\", \"mpaa\", \"budget\"]\n",
    "    return(pd.DataFrame(data, columns=col_names))"
   ]
  },
  {
   "cell_type": "code",
   "execution_count": 6,
   "metadata": {
    "collapsed": false
   },
   "outputs": [],
   "source": [
    "def get_gross(corpus):\n",
    "    text = corpus.find_all(\"div\", {\"class\": \"mp_box_content\"})[0].find_all(\"tr\")[1].find_all(\"td\")[1].getText()\n",
    "    pattern = r\".*\\$(?P<life_frn_gross>.*)$\"\n",
    "    life_frn_gross = re.search(pattern, text).group(\"life_frn_gross\")\n",
    "    del text, pattern\n",
    "\n",
    "    text = corpus.find_all(\"div\", {\"class\": \"mp_box_content\"})[1].find_all(\"tr\")[1].getText()\n",
    "    pattern = r\".*\\$(?P<avg_open_gross>.*)average\\)$\"\n",
    "    avg_open_gross = re.search(pattern, text).group(\"avg_open_gross\")\n",
    "    del text, pattern\n",
    "\n",
    "    text = corpus.find_all(\"div\", {\"class\": \"mp_box_content\"})[1].find_all(\"tr\")[2].find_all(\"td\")[1].getText()\n",
    "    pattern = r\"([^0-9])*(?P<pct_open_gross>.*)%$\"\n",
    "    pct_open_gross = float(re.search(pattern, text).group(\"pct_open_gross\")) / 100\n",
    "    del text, pattern\n",
    "\n",
    "    data = np.array([life_frn_gross, avg_open_gross, pct_open_gross])\n",
    "    data.shape = (1, 3)\n",
    "    col_names = [\"life_frn_gross\",\"avg_open_gross\", \"pct_open_gross\"]\n",
    "    movie_gross = pd.DataFrame(data, columns=col_names)\n",
    "    movie_gross.loc[:, \"movieid\"] = movieid\n",
    "    return(movie_gross)"
   ]
  },
  {
   "cell_type": "code",
   "execution_count": 7,
   "metadata": {
    "collapsed": false
   },
   "outputs": [],
   "source": [
    "def get_players(corpus):\n",
    "    players = corpus.find_all(\"div\", {\"class\": \"mp_box_content\"})[2].find_all(\"td\")\n",
    "    movie_player = pd.DataFrame(columns = [\"role\", \"playerid\", \"player\"])\n",
    "    for player in players:\n",
    "        text = player.getText()\n",
    "        if re.search(\":\", text):  \n",
    "            role = copy.copy(text)\n",
    "        else:\n",
    "            for atag in player.find_all(\"a\"):\n",
    "                pattern = r'id=(?P<playerid>.*).htm\">(?P<player>.*)<\\/a>$'\n",
    "                playerid = re.search(pattern, str(atag)).group(\"playerid\")\n",
    "                player = re.search(pattern, str(atag)).group(\"player\")\n",
    "                data = np.array([role, playerid, player])\n",
    "                data.shape = (1, 3)\n",
    "                col_names = [\"role\",\"playerid\", \"player\"]\n",
    "                movie_player = movie_player.append(pd.DataFrame(data, columns = col_names))\n",
    "    movie_player = movie_player.reset_index(drop = True)\n",
    "    movie_player.loc[:, \"movieid\"] = movieid\n",
    "    return movie_player"
   ]
  },
  {
   "cell_type": "code",
   "execution_count": 8,
   "metadata": {
    "collapsed": true
   },
   "outputs": [],
   "source": [
    "def get_movie(movieid):\n",
    "    movie_url = r\"http://www.boxofficemojo.com/movies/?id=\" + movieid + \".htm\"\n",
    "    corpus = get_html(movie_url)\n",
    "    try: #TODO refine html search\n",
    "        meta_df = get_movie_metadata(corpus)\n",
    "    except:\n",
    "        meta_df = None\n",
    "    try:\n",
    "        gross_df = get_gross(corpus)\n",
    "    except:\n",
    "        gross_df = None\n",
    "    try:\n",
    "        players_df = get_players(corpus)\n",
    "    except:\n",
    "        players_df = None\n",
    "    return (meta_df, gross_df, players_df)"
   ]
  },
  {
   "cell_type": "code",
   "execution_count": 9,
   "metadata": {
    "collapsed": false
   },
   "outputs": [],
   "source": [
    "def get_player_metadata(role, playerid):\n",
    "    player_url = r\"http://www.boxofficemojo.com/people/chart/?view=\" + role + r\"&id=\" + playerid + r\".htm\"\n",
    "    player_corpus = get_html(player_url)\n",
    "    common_tree = player_corpus.find_all(\"div\", {'id': 'body'})[0]\n",
    "    \n",
    "    #past movies\n",
    "    player_meta_df = pd.DataFrame()\n",
    "    player_meta_li = []\n",
    "    id_pattern = r\".*?id=(?P<id>.*).htm\"\n",
    "    break_nested_loop = False\n",
    "    for row in common_tree.find_all(\"tr\")[1].find_all(\"tr\")[1:]:\n",
    "        for element in row.find_all(\"td\"):\n",
    "            text = element.getText()\n",
    "            if text == \"Title (click to view)\":\n",
    "                break_nested_loop = True\n",
    "                break\n",
    "            try:\n",
    "                player_meta_li += [re.search(id_pattern, element.find(\"a\")[\"href\"]).group(\"id\")]\n",
    "            except:\n",
    "                pass  \n",
    "            player_meta_li += [text]\n",
    "        if break_nested_loop:\n",
    "            break\n",
    "    row_ct = int(len(player_meta_li) / 9)\n",
    "    player_meta_df = pd.DataFrame(np.array(player_meta_li).reshape([row_ct, 9]))\n",
    "    player_meta_df.columns = [\"release_date\",\"movieid\", \"Title\", \"Studio\", \"life_gross\", \"life_theater\", \\\n",
    "                              \"open_gross\", \"open_theater\", \"Rank\"]\n",
    "    player_meta_df.loc[:, \"role\"] = role\n",
    "    player_meta_df.loc[:, \"playerid\"] = playerid\n",
    "    \n",
    "    #gross\n",
    "    text = common_tree.find_all(\"table\")[1].find(\"table\").find_next_siblings()[3].getText()\n",
    "    pattern = r\".*\\((?P<plr_life_mv_num>[0-9]*)\\).*\\$(?P<plr_life_gross>[0-9,]*)Average: \\$(?P<plr_avg_gross>[0-9,]*).*\\((?P<plr_open_mv_num>[0-9]*)\\).*\\$(?P<plr_avg_open_gross>[0-9,]*)\"\n",
    "    try: #TODO refine html search. Most records are only missing plr_open_mv_num and plr_avg_open_gross\n",
    "        player_gross_df = np.array(re.search(pattern, text).groups())\n",
    "    except:\n",
    "        player_gross_df = np.array([None] * 5)\n",
    "    player_gross_df.shape = (1, 5)\n",
    "    player_gross_df = pd.DataFrame(player_gross_df)\n",
    "    player_gross_df.columns = [\"plr_life_mv_num\", \"plr_life_gross\", \"plr_avg_gross\", \"plr_open_mv_num\", \"plr_avg_open_gross\"]   \n",
    "    player_gross_df.loc[:, \"role\"] = role\n",
    "    player_gross_df.loc[:, \"playerid\"] = playerid\n",
    "    return(player_meta_df, player_gross_df)"
   ]
  },
  {
   "cell_type": "code",
   "execution_count": 10,
   "metadata": {
    "collapsed": true
   },
   "outputs": [],
   "source": [
    "# I sorted genre by gross, then num of movies (comedysequel excluded) \n",
    "# and picked these five with similar values\n",
    "GENRE_LIST = [(\"summerdrama\", 2),\n",
    "              (\"supernaturalhorror\", 2),\n",
    "              (\"crime\", 2),\n",
    "              (\"caper\", 2),\n",
    "              (\"r-ratedcomedy\", 2)]"
   ]
  },
  {
   "cell_type": "markdown",
   "metadata": {},
   "source": [
    "# import movie list"
   ]
  },
  {
   "cell_type": "code",
   "execution_count": 17,
   "metadata": {
    "collapsed": false
   },
   "outputs": [],
   "source": [
    "movie_main = pd.DataFrame()\n",
    "for genre in GENRE_LIST:\n",
    "    movie_main = movie_main.append(get_ranking_pages(genre[0], genre[1]), ignore_index = True)\n",
    "movie_main = movie_main.reset_index(drop = True)"
   ]
  },
  {
   "cell_type": "code",
   "execution_count": 20,
   "metadata": {
    "collapsed": false
   },
   "outputs": [],
   "source": [
    "#movie_main.tail()"
   ]
  },
  {
   "cell_type": "markdown",
   "metadata": {},
   "source": [
    "# import movie data"
   ]
  },
  {
   "cell_type": "code",
   "execution_count": null,
   "metadata": {
    "collapsed": true
   },
   "outputs": [],
   "source": [
    "#toy corpus\n",
    "#movieid = movie_main[\"movieid\"][5]\n",
    "#movie_meta = pd.DataFrame()\n",
    "#movie_url = r\"http://www.boxofficemojo.com/movies/?id=\" + movieid + \".htm\"\n",
    "#corpus = get_html(movie_url)"
   ]
  },
  {
   "cell_type": "code",
   "execution_count": 21,
   "metadata": {
    "collapsed": false
   },
   "outputs": [],
   "source": [
    "meta_df = pd.DataFrame()\n",
    "gross_df = pd.DataFrame()\n",
    "players_df = pd.DataFrame()\n",
    "for movieid in movie_main[\"movieid\"]:\n",
    "    movie_tup = get_movie(movieid)\n",
    "    meta_df = meta_df.append(movie_tup[0])\n",
    "    gross_df = gross_df.append(movie_tup[1])\n",
    "    players_df = players_df.append(movie_tup[2])\n",
    "meta_df = meta_df.reset_index(drop = True)\n",
    "gross_df = gross_df.reset_index(drop = True)\n",
    "players_df = players_df.reset_index(drop = True)"
   ]
  },
  {
   "cell_type": "code",
   "execution_count": 27,
   "metadata": {
    "collapsed": false
   },
   "outputs": [],
   "source": [
    "#clean player role\n",
    "#players_df[players_df['role'] == 'Writers:']\n",
    "players_df['role'] = players_df['role'].map(lambda x: re.sub(r\"(.*r).*\", \"\\g<1>\", x))"
   ]
  },
  {
   "cell_type": "code",
   "execution_count": 29,
   "metadata": {
    "collapsed": false
   },
   "outputs": [],
   "source": [
    "#meta_df.tail()\n",
    "#gross_df.tail()\n",
    "#players_df.tail()\n",
    "#players_df['role'].value_counts()"
   ]
  },
  {
   "cell_type": "markdown",
   "metadata": {},
   "source": [
    "# import player data"
   ]
  },
  {
   "cell_type": "code",
   "execution_count": null,
   "metadata": {
    "collapsed": false
   },
   "outputs": [],
   "source": [
    "#toy player param\n",
    "#role = 'Producer'\n",
    "#playerid = 'barrymendel'"
   ]
  },
  {
   "cell_type": "code",
   "execution_count": 30,
   "metadata": {
    "collapsed": false
   },
   "outputs": [],
   "source": [
    "#make a set of role-playerid\n",
    "players_set = set()\n",
    "for i in range(players_df.shape[0]):\n",
    "    players_set.add(tuple(players_df.iloc[i, :2]))"
   ]
  },
  {
   "cell_type": "code",
   "execution_count": 32,
   "metadata": {
    "collapsed": false
   },
   "outputs": [],
   "source": [
    "player_meta_df = pd.DataFrame()\n",
    "player_gross_df = pd.DataFrame()\n",
    "for li in players_set:\n",
    "    data_tup = get_player_metadata(li[0], li[1])\n",
    "    player_meta_df = player_meta_df.append(data_tup[0])\n",
    "    player_gross_df = player_gross_df.append(data_tup[1])\n",
    "player_meta_df = player_meta_df.reset_index(drop = True)\n",
    "player_gross_df = player_gross_df.reset_index(drop = True)"
   ]
  },
  {
   "cell_type": "code",
   "execution_count": 36,
   "metadata": {
    "collapsed": false
   },
   "outputs": [],
   "source": [
    "#players_set\n",
    "#player_meta_df.tail()\n",
    "#player_gross_df.tail()"
   ]
  },
  {
   "cell_type": "markdown",
   "metadata": {},
   "source": [
    "# pickle"
   ]
  },
  {
   "cell_type": "code",
   "execution_count": 38,
   "metadata": {
    "collapsed": false
   },
   "outputs": [],
   "source": [
    "df_li = [x for x in dir() if (type(eval(x)) == type(pd.DataFrame())) & (x[0] != '_')]"
   ]
  },
  {
   "cell_type": "code",
   "execution_count": 46,
   "metadata": {
    "collapsed": false
   },
   "outputs": [],
   "source": [
    "#df_li"
   ]
  },
  {
   "cell_type": "code",
   "execution_count": 47,
   "metadata": {
    "collapsed": false
   },
   "outputs": [],
   "source": [
    "with open('my_data.pkl', 'wb') as picklefile:\n",
    "    for df in df_li:\n",
    "        pickle.dump(eval(df), picklefile)"
   ]
  },
  {
   "cell_type": "code",
   "execution_count": null,
   "metadata": {
    "collapsed": true
   },
   "outputs": [],
   "source": []
  }
 ],
 "metadata": {
  "kernelspec": {
   "display_name": "Python 3",
   "language": "python",
   "name": "python3"
  },
  "language_info": {
   "codemirror_mode": {
    "name": "ipython",
    "version": 3
   },
   "file_extension": ".py",
   "mimetype": "text/x-python",
   "name": "python",
   "nbconvert_exporter": "python",
   "pygments_lexer": "ipython3",
   "version": "3.6.0"
  }
 },
 "nbformat": 4,
 "nbformat_minor": 2
}
