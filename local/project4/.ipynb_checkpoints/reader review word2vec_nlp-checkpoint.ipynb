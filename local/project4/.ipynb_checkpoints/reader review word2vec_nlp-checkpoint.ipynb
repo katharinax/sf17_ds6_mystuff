{
 "cells": [
  {
   "cell_type": "code",
   "execution_count": 1,
   "metadata": {
    "collapsed": false
   },
   "outputs": [],
   "source": [
    "import pandas as pd\n",
    "import math\n",
    "import numpy as np\n",
    "import matplotlib.pyplot as plt\n",
    "import re\n",
    "from sklearn.utils.extmath import randomized_svd\n",
    "from sklearn.decomposition import TruncatedSVD\n",
    "from nltk.tokenize import word_tokenize, wordpunct_tokenize, WhitespaceTokenizer, \\\n",
    "                          RegexpTokenizer, sent_tokenize, MWETokenizer\n",
    "from nltk.util import ngrams\n",
    "from nltk.chunk import ne_chunk\n",
    "from nltk.sentiment.vader import SentimentIntensityAnalyzer\n",
    "from nltk.stem.lancaster import LancasterStemmer\n",
    "from nltk.stem.porter import PorterStemmer\n",
    "from nltk.stem.snowball import SnowballStemmer\n",
    "from sklearn.pipeline import Pipeline\n",
    "from sklearn.feature_extraction.text import CountVectorizer, TfidfVectorizer\n",
    "import gensim\n",
    "import warnings\n",
    "import logging\n",
    "import pickle\n",
    "\n",
    "%matplotlib inline\n",
    "pd.options.display.max_rows = 500"
   ]
  },
  {
   "cell_type": "code",
   "execution_count": 2,
   "metadata": {
    "collapsed": false
   },
   "outputs": [],
   "source": [
    "def get_sim_from_review_word2vec(word):\n",
    "    try:\n",
    "        return gensim_model.most_similar(word.lower())\n",
    "    except Exception as e:\n",
    "        return e"
   ]
  },
  {
   "cell_type": "code",
   "execution_count": 6,
   "metadata": {
    "collapsed": false
   },
   "outputs": [],
   "source": [
    "# this code doesn't work anymore after upgrading to pandas 0.20.1,\n",
    "# will get ModuleNotFoundError: No module named 'pandas.indexes'\n",
    "# with open(\"cleaned_data.pkl\", 'rb') as picklefile: \n",
    "#     book_review = pickle.load(picklefile)\n",
    "book_review = pd.read_pickle(\"cleaned_w_bknlp.pkl\")"
   ]
  },
  {
   "cell_type": "code",
   "execution_count": 7,
   "metadata": {
    "collapsed": false
   },
   "outputs": [],
   "source": [
    "cond = book_review['review_desc_len'] == 0\n",
    "review_coll = book_review.loc[~cond, ['bookid', 'userid', 'review_desc']].drop_duplicates()\n",
    "review_coll.set_index(['bookid', 'userid'], inplace = True)"
   ]
  },
  {
   "cell_type": "code",
   "execution_count": 8,
   "metadata": {
    "collapsed": false
   },
   "outputs": [
    {
     "data": {
      "text/html": [
       "<div>\n",
       "<style>\n",
       "    .dataframe thead tr:only-child th {\n",
       "        text-align: right;\n",
       "    }\n",
       "\n",
       "    .dataframe thead th {\n",
       "        text-align: left;\n",
       "    }\n",
       "\n",
       "    .dataframe tbody tr th {\n",
       "        vertical-align: top;\n",
       "    }\n",
       "</style>\n",
       "<table border=\"1\" class=\"dataframe\">\n",
       "  <thead>\n",
       "    <tr style=\"text-align: right;\">\n",
       "      <th></th>\n",
       "      <th></th>\n",
       "      <th>review_desc</th>\n",
       "    </tr>\n",
       "    <tr>\n",
       "      <th>bookid</th>\n",
       "      <th>userid</th>\n",
       "      <th></th>\n",
       "    </tr>\n",
       "  </thead>\n",
       "  <tbody>\n",
       "    <tr>\n",
       "      <th>17261174</th>\n",
       "      <th>1722508</th>\n",
       "      <td>Utterly charming, well paced, written and draw...</td>\n",
       "    </tr>\n",
       "  </tbody>\n",
       "</table>\n",
       "</div>"
      ],
      "text/plain": [
       "                                                        review_desc\n",
       "bookid   userid                                                    \n",
       "17261174 1722508  Utterly charming, well paced, written and draw..."
      ]
     },
     "execution_count": 8,
     "metadata": {},
     "output_type": "execute_result"
    }
   ],
   "source": [
    "review_coll.tail(1)"
   ]
  },
  {
   "cell_type": "code",
   "execution_count": 10,
   "metadata": {
    "collapsed": false
   },
   "outputs": [],
   "source": [
    "row_order = review_coll.index"
   ]
  },
  {
   "cell_type": "markdown",
   "metadata": {},
   "source": [
    "### preprocessing"
   ]
  },
  {
   "cell_type": "code",
   "execution_count": 11,
   "metadata": {
    "collapsed": false
   },
   "outputs": [
    {
     "data": {
      "text/html": [
       "<div>\n",
       "<style>\n",
       "    .dataframe thead tr:only-child th {\n",
       "        text-align: right;\n",
       "    }\n",
       "\n",
       "    .dataframe thead th {\n",
       "        text-align: left;\n",
       "    }\n",
       "\n",
       "    .dataframe tbody tr th {\n",
       "        vertical-align: top;\n",
       "    }\n",
       "</style>\n",
       "<table border=\"1\" class=\"dataframe\">\n",
       "  <thead>\n",
       "    <tr style=\"text-align: right;\">\n",
       "      <th></th>\n",
       "      <th></th>\n",
       "      <th>review_desc</th>\n",
       "      <th>tokens</th>\n",
       "    </tr>\n",
       "    <tr>\n",
       "      <th>bookid</th>\n",
       "      <th>userid</th>\n",
       "      <th></th>\n",
       "      <th></th>\n",
       "    </tr>\n",
       "  </thead>\n",
       "  <tbody>\n",
       "    <tr>\n",
       "      <th>17261174</th>\n",
       "      <th>1722508</th>\n",
       "      <td>Utterly charming, well paced, written and draw...</td>\n",
       "      <td>[Utterly, charming, ,, well, paced, ,, written...</td>\n",
       "    </tr>\n",
       "  </tbody>\n",
       "</table>\n",
       "</div>"
      ],
      "text/plain": [
       "                                                        review_desc  \\\n",
       "bookid   userid                                                       \n",
       "17261174 1722508  Utterly charming, well paced, written and draw...   \n",
       "\n",
       "                                                             tokens  \n",
       "bookid   userid                                                      \n",
       "17261174 1722508  [Utterly, charming, ,, well, paced, ,, written...  "
      ]
     },
     "execution_count": 11,
     "metadata": {},
     "output_type": "execute_result"
    }
   ],
   "source": [
    "review_coll['tokens'] = review_coll[\"review_desc\"].map(lambda x: word_tokenize(x))\n",
    "review_coll.tail(1)"
   ]
  },
  {
   "cell_type": "code",
   "execution_count": 12,
   "metadata": {
    "collapsed": false
   },
   "outputs": [
    {
     "data": {
      "text/html": [
       "<div>\n",
       "<style>\n",
       "    .dataframe thead tr:only-child th {\n",
       "        text-align: right;\n",
       "    }\n",
       "\n",
       "    .dataframe thead th {\n",
       "        text-align: left;\n",
       "    }\n",
       "\n",
       "    .dataframe tbody tr th {\n",
       "        vertical-align: top;\n",
       "    }\n",
       "</style>\n",
       "<table border=\"1\" class=\"dataframe\">\n",
       "  <thead>\n",
       "    <tr style=\"text-align: right;\">\n",
       "      <th></th>\n",
       "      <th></th>\n",
       "      <th>review_desc</th>\n",
       "      <th>tokens</th>\n",
       "      <th>stemmed</th>\n",
       "    </tr>\n",
       "    <tr>\n",
       "      <th>bookid</th>\n",
       "      <th>userid</th>\n",
       "      <th></th>\n",
       "      <th></th>\n",
       "      <th></th>\n",
       "    </tr>\n",
       "  </thead>\n",
       "  <tbody>\n",
       "    <tr>\n",
       "      <th>17261174</th>\n",
       "      <th>1722508</th>\n",
       "      <td>Utterly charming, well paced, written and draw...</td>\n",
       "      <td>[Utterly, charming, ,, well, paced, ,, written...</td>\n",
       "      <td>ut charm , wel pac , writ and drawn . would al...</td>\n",
       "    </tr>\n",
       "  </tbody>\n",
       "</table>\n",
       "</div>"
      ],
      "text/plain": [
       "                                                        review_desc  \\\n",
       "bookid   userid                                                       \n",
       "17261174 1722508  Utterly charming, well paced, written and draw...   \n",
       "\n",
       "                                                             tokens  \\\n",
       "bookid   userid                                                       \n",
       "17261174 1722508  [Utterly, charming, ,, well, paced, ,, written...   \n",
       "\n",
       "                                                            stemmed  \n",
       "bookid   userid                                                      \n",
       "17261174 1722508  ut charm , wel pac , writ and drawn . would al...  "
      ]
     },
     "execution_count": 12,
     "metadata": {},
     "output_type": "execute_result"
    }
   ],
   "source": [
    "stemmer = LancasterStemmer()\n",
    "review_coll['stemmed'] = review_coll[\"tokens\"].map(lambda x: \" \".join([stemmer.stem(y) for y in x]))\n",
    "review_coll.tail(1)"
   ]
  },
  {
   "cell_type": "markdown",
   "metadata": {},
   "source": [
    "### sentiment"
   ]
  },
  {
   "cell_type": "code",
   "execution_count": 13,
   "metadata": {
    "collapsed": false
   },
   "outputs": [],
   "source": [
    "sid = SentimentIntensityAnalyzer()"
   ]
  },
  {
   "cell_type": "code",
   "execution_count": 14,
   "metadata": {
    "collapsed": false
   },
   "outputs": [
    {
     "data": {
      "text/html": [
       "<div>\n",
       "<style>\n",
       "    .dataframe thead tr:only-child th {\n",
       "        text-align: right;\n",
       "    }\n",
       "\n",
       "    .dataframe thead th {\n",
       "        text-align: left;\n",
       "    }\n",
       "\n",
       "    .dataframe tbody tr th {\n",
       "        vertical-align: top;\n",
       "    }\n",
       "</style>\n",
       "<table border=\"1\" class=\"dataframe\">\n",
       "  <thead>\n",
       "    <tr style=\"text-align: right;\">\n",
       "      <th></th>\n",
       "      <th></th>\n",
       "      <th>review_desc</th>\n",
       "      <th>tokens</th>\n",
       "      <th>stemmed</th>\n",
       "      <th>compound</th>\n",
       "      <th>neg</th>\n",
       "      <th>neu</th>\n",
       "      <th>pos</th>\n",
       "    </tr>\n",
       "    <tr>\n",
       "      <th>bookid</th>\n",
       "      <th>userid</th>\n",
       "      <th></th>\n",
       "      <th></th>\n",
       "      <th></th>\n",
       "      <th></th>\n",
       "      <th></th>\n",
       "      <th></th>\n",
       "      <th></th>\n",
       "    </tr>\n",
       "  </thead>\n",
       "  <tbody>\n",
       "    <tr>\n",
       "      <th>17261174</th>\n",
       "      <th>1722508</th>\n",
       "      <td>Utterly charming, well paced, written and draw...</td>\n",
       "      <td>[Utterly, charming, ,, well, paced, ,, written...</td>\n",
       "      <td>ut charm , wel pac , writ and drawn . would al...</td>\n",
       "      <td>0.6808</td>\n",
       "      <td>0.0</td>\n",
       "      <td>0.865</td>\n",
       "      <td>0.135</td>\n",
       "    </tr>\n",
       "  </tbody>\n",
       "</table>\n",
       "</div>"
      ],
      "text/plain": [
       "                                                        review_desc  \\\n",
       "bookid   userid                                                       \n",
       "17261174 1722508  Utterly charming, well paced, written and draw...   \n",
       "\n",
       "                                                             tokens  \\\n",
       "bookid   userid                                                       \n",
       "17261174 1722508  [Utterly, charming, ,, well, paced, ,, written...   \n",
       "\n",
       "                                                            stemmed  compound  \\\n",
       "bookid   userid                                                                 \n",
       "17261174 1722508  ut charm , wel pac , writ and drawn . would al...    0.6808   \n",
       "\n",
       "                  neg    neu    pos  \n",
       "bookid   userid                      \n",
       "17261174 1722508  0.0  0.865  0.135  "
      ]
     },
     "execution_count": 14,
     "metadata": {},
     "output_type": "execute_result"
    }
   ],
   "source": [
    "sid_df = review_coll.copy()\n",
    "sid_df['dict'] = sid_df[\"stemmed\"].map(sid.polarity_scores)\n",
    "sid_df = pd.concat([sid_df.drop(['dict'], axis=1), sid_df['dict'].apply(pd.Series)], axis=1)\n",
    "sid_df.tail(1)"
   ]
  },
  {
   "cell_type": "code",
   "execution_count": 15,
   "metadata": {
    "collapsed": false
   },
   "outputs": [
    {
     "data": {
      "text/html": [
       "<div>\n",
       "<style>\n",
       "    .dataframe thead tr:only-child th {\n",
       "        text-align: right;\n",
       "    }\n",
       "\n",
       "    .dataframe thead th {\n",
       "        text-align: left;\n",
       "    }\n",
       "\n",
       "    .dataframe tbody tr th {\n",
       "        vertical-align: top;\n",
       "    }\n",
       "</style>\n",
       "<table border=\"1\" class=\"dataframe\">\n",
       "  <thead>\n",
       "    <tr style=\"text-align: right;\">\n",
       "      <th></th>\n",
       "      <th>bookid</th>\n",
       "      <th>userid</th>\n",
       "      <th>compound</th>\n",
       "      <th>neg</th>\n",
       "      <th>neu</th>\n",
       "      <th>pos</th>\n",
       "    </tr>\n",
       "  </thead>\n",
       "  <tbody>\n",
       "    <tr>\n",
       "      <th>21262</th>\n",
       "      <td>17261174</td>\n",
       "      <td>1722508</td>\n",
       "      <td>0.6808</td>\n",
       "      <td>0.0</td>\n",
       "      <td>0.865</td>\n",
       "      <td>0.135</td>\n",
       "    </tr>\n",
       "  </tbody>\n",
       "</table>\n",
       "</div>"
      ],
      "text/plain": [
       "         bookid   userid  compound  neg    neu    pos\n",
       "21262  17261174  1722508    0.6808  0.0  0.865  0.135"
      ]
     },
     "execution_count": 15,
     "metadata": {},
     "output_type": "execute_result"
    }
   ],
   "source": [
    "sid_df = sid_df.drop(['review_desc', 'tokens', 'stemmed'], axis = 1)\n",
    "sid_df.reset_index(inplace = True)\n",
    "sid_df.tail(1)"
   ]
  },
  {
   "cell_type": "markdown",
   "metadata": {},
   "source": [
    "### more preprocessing"
   ]
  },
  {
   "cell_type": "code",
   "execution_count": 16,
   "metadata": {
    "collapsed": false
   },
   "outputs": [
    {
     "data": {
      "text/html": [
       "<div>\n",
       "<style>\n",
       "    .dataframe thead tr:only-child th {\n",
       "        text-align: right;\n",
       "    }\n",
       "\n",
       "    .dataframe thead th {\n",
       "        text-align: left;\n",
       "    }\n",
       "\n",
       "    .dataframe tbody tr th {\n",
       "        vertical-align: top;\n",
       "    }\n",
       "</style>\n",
       "<table border=\"1\" class=\"dataframe\">\n",
       "  <thead>\n",
       "    <tr style=\"text-align: right;\">\n",
       "      <th></th>\n",
       "      <th>00</th>\n",
       "      <th>000</th>\n",
       "      <th>000 000</th>\n",
       "      <th>000 leagu</th>\n",
       "      <th>000 pag</th>\n",
       "      <th>000 peopl</th>\n",
       "      <th>000 tim</th>\n",
       "      <th>000 word</th>\n",
       "      <th>000 year</th>\n",
       "      <th>01</th>\n",
       "      <th>...</th>\n",
       "      <th>হয</th>\n",
       "      <th>হল</th>\n",
       "      <th>งก</th>\n",
       "      <th>งท</th>\n",
       "      <th>งเร</th>\n",
       "      <th>นท</th>\n",
       "      <th>หล</th>\n",
       "      <th>อง</th>\n",
       "      <th>อเร</th>\n",
       "      <th>เป</th>\n",
       "    </tr>\n",
       "  </thead>\n",
       "  <tbody>\n",
       "    <tr>\n",
       "      <th>21262</th>\n",
       "      <td>0.0</td>\n",
       "      <td>0.0</td>\n",
       "      <td>0.0</td>\n",
       "      <td>0.0</td>\n",
       "      <td>0.0</td>\n",
       "      <td>0.0</td>\n",
       "      <td>0.0</td>\n",
       "      <td>0.0</td>\n",
       "      <td>0.0</td>\n",
       "      <td>0.0</td>\n",
       "      <td>...</td>\n",
       "      <td>0.0</td>\n",
       "      <td>0.0</td>\n",
       "      <td>0.0</td>\n",
       "      <td>0.0</td>\n",
       "      <td>0.0</td>\n",
       "      <td>0.0</td>\n",
       "      <td>0.0</td>\n",
       "      <td>0.0</td>\n",
       "      <td>0.0</td>\n",
       "      <td>0.0</td>\n",
       "    </tr>\n",
       "  </tbody>\n",
       "</table>\n",
       "<p>1 rows × 114619 columns</p>\n",
       "</div>"
      ],
      "text/plain": [
       "        00  000  000 000  000 leagu  000 pag  000 peopl  000 tim  000 word  \\\n",
       "21262  0.0  0.0      0.0        0.0      0.0        0.0      0.0       0.0   \n",
       "\n",
       "       000 year   01 ...    হয   হল   งก   งท  งเร   นท   หล   อง  อเร   เป  \n",
       "21262       0.0  0.0 ...   0.0  0.0  0.0  0.0  0.0  0.0  0.0  0.0  0.0  0.0  \n",
       "\n",
       "[1 rows x 114619 columns]"
      ]
     },
     "execution_count": 16,
     "metadata": {},
     "output_type": "execute_result"
    }
   ],
   "source": [
    "cv = TfidfVectorizer(strip_accents = 'unicode' \n",
    "                     , ngram_range = (1, 2)\n",
    "                     , stop_words = \"english\"\n",
    "                     , max_df = 0.5\n",
    "                     , min_df = 5 # TODO raise this?\n",
    "                     , norm = 'l2' # important to normalize?\n",
    "                     )\n",
    "review_coll = cv.fit_transform(review_coll['stemmed'])\n",
    "review_coll = pd.DataFrame(review_coll.todense(), columns=[cv.get_feature_names()])\n",
    "review_coll.tail(1)"
   ]
  },
  {
   "cell_type": "markdown",
   "metadata": {},
   "source": [
    "### get word2vec "
   ]
  },
  {
   "cell_type": "code",
   "execution_count": null,
   "metadata": {
    "collapsed": false
   },
   "outputs": [],
   "source": [
    "# It barely works on my Mac...\n",
    "# model = gensim.models.KeyedVectors.load_word2vec_format('GoogleNews-vectors-negative300.bin', binary=True)  "
   ]
  },
  {
   "cell_type": "code",
   "execution_count": 17,
   "metadata": {
    "collapsed": false
   },
   "outputs": [],
   "source": [
    "gensim_input = list(review_coll.apply(lambda y: [x for x in review_coll.columns.where(y != 0) if type(x) == str], axis = 1))"
   ]
  },
  {
   "cell_type": "code",
   "execution_count": 19,
   "metadata": {
    "collapsed": false
   },
   "outputs": [],
   "source": [
    "gensim_model = gensim.models.Word2Vec(gensim_input, \n",
    "                                      seed = 0,\n",
    "                                      window = 5,\n",
    "                                      size = 100, # np.sqrt(len(gensim_input)),\n",
    "                                      min_count = 6,\n",
    "                                      sg = 1,\n",
    "                                      iter = 5\n",
    "                                     ) # TODO tune params"
   ]
  },
  {
   "cell_type": "markdown",
   "metadata": {},
   "source": [
    "- get similarity"
   ]
  },
  {
   "cell_type": "code",
   "execution_count": 27,
   "metadata": {
    "collapsed": false
   },
   "outputs": [
    {
     "data": {
      "text/plain": [
       "[('neil gaim', 0.9786978363990784),\n",
       " ('naz', 0.9660971164703369),\n",
       " ('napoleon', 0.9617670178413391),\n",
       " ('nerd', 0.9610073566436768),\n",
       " ('napoleon war', 0.9547801613807678),\n",
       " ('naz germany', 0.9545779228210449),\n",
       " ('neat', 0.954541027545929),\n",
       " ('nar thi', 0.9541645050048828),\n",
       " ('mytho', 0.9538546800613403),\n",
       " ('nerv', 0.9537649154663086)]"
      ]
     },
     "execution_count": 27,
     "metadata": {},
     "output_type": "execute_result"
    }
   ],
   "source": [
    "get_sim_from_review_word2vec(\"Neil\")"
   ]
  },
  {
   "cell_type": "markdown",
   "metadata": {},
   "source": [
    "- plot word in latent vector space (using first two vectors)"
   ]
  },
  {
   "cell_type": "code",
   "execution_count": 28,
   "metadata": {
    "collapsed": false
   },
   "outputs": [
    {
     "data": {
      "text/html": [
       "<div>\n",
       "<style>\n",
       "    .dataframe thead tr:only-child th {\n",
       "        text-align: right;\n",
       "    }\n",
       "\n",
       "    .dataframe thead th {\n",
       "        text-align: left;\n",
       "    }\n",
       "\n",
       "    .dataframe tbody tr th {\n",
       "        vertical-align: top;\n",
       "    }\n",
       "</style>\n",
       "<table border=\"1\" class=\"dataframe\">\n",
       "  <thead>\n",
       "    <tr style=\"text-align: right;\">\n",
       "      <th></th>\n",
       "      <th>0</th>\n",
       "      <th>1</th>\n",
       "      <th>2</th>\n",
       "      <th>3</th>\n",
       "      <th>4</th>\n",
       "      <th>5</th>\n",
       "      <th>6</th>\n",
       "      <th>7</th>\n",
       "      <th>8</th>\n",
       "      <th>9</th>\n",
       "      <th>...</th>\n",
       "      <th>90</th>\n",
       "      <th>91</th>\n",
       "      <th>92</th>\n",
       "      <th>93</th>\n",
       "      <th>94</th>\n",
       "      <th>95</th>\n",
       "      <th>96</th>\n",
       "      <th>97</th>\n",
       "      <th>98</th>\n",
       "      <th>99</th>\n",
       "    </tr>\n",
       "  </thead>\n",
       "  <tbody>\n",
       "    <tr>\n",
       "      <th>00</th>\n",
       "      <td>-0.027428</td>\n",
       "      <td>-0.042040</td>\n",
       "      <td>-0.011743</td>\n",
       "      <td>-0.418889</td>\n",
       "      <td>0.089596</td>\n",
       "      <td>-0.385997</td>\n",
       "      <td>0.224088</td>\n",
       "      <td>0.314112</td>\n",
       "      <td>-0.287266</td>\n",
       "      <td>-0.333719</td>\n",
       "      <td>...</td>\n",
       "      <td>-0.046550</td>\n",
       "      <td>0.196701</td>\n",
       "      <td>0.357280</td>\n",
       "      <td>-0.516436</td>\n",
       "      <td>-0.242412</td>\n",
       "      <td>0.373151</td>\n",
       "      <td>0.268950</td>\n",
       "      <td>0.284363</td>\n",
       "      <td>-0.027694</td>\n",
       "      <td>-0.143104</td>\n",
       "    </tr>\n",
       "    <tr>\n",
       "      <th>000</th>\n",
       "      <td>-0.064458</td>\n",
       "      <td>0.064440</td>\n",
       "      <td>-0.127581</td>\n",
       "      <td>-0.692749</td>\n",
       "      <td>0.188995</td>\n",
       "      <td>-0.284046</td>\n",
       "      <td>0.449437</td>\n",
       "      <td>0.388449</td>\n",
       "      <td>-0.583587</td>\n",
       "      <td>-0.468883</td>\n",
       "      <td>...</td>\n",
       "      <td>0.044549</td>\n",
       "      <td>0.294980</td>\n",
       "      <td>0.547868</td>\n",
       "      <td>-0.713725</td>\n",
       "      <td>-0.427918</td>\n",
       "      <td>0.817388</td>\n",
       "      <td>0.371244</td>\n",
       "      <td>0.219177</td>\n",
       "      <td>-0.300550</td>\n",
       "      <td>-0.251772</td>\n",
       "    </tr>\n",
       "    <tr>\n",
       "      <th>000 000</th>\n",
       "      <td>-0.033330</td>\n",
       "      <td>-0.020460</td>\n",
       "      <td>-0.010009</td>\n",
       "      <td>-0.309926</td>\n",
       "      <td>0.086147</td>\n",
       "      <td>-0.334299</td>\n",
       "      <td>0.170493</td>\n",
       "      <td>0.238200</td>\n",
       "      <td>-0.292253</td>\n",
       "      <td>-0.307018</td>\n",
       "      <td>...</td>\n",
       "      <td>0.038121</td>\n",
       "      <td>0.151909</td>\n",
       "      <td>0.275046</td>\n",
       "      <td>-0.409158</td>\n",
       "      <td>-0.202177</td>\n",
       "      <td>0.392216</td>\n",
       "      <td>0.229956</td>\n",
       "      <td>0.240248</td>\n",
       "      <td>-0.082480</td>\n",
       "      <td>-0.138478</td>\n",
       "    </tr>\n",
       "    <tr>\n",
       "      <th>000 leagu</th>\n",
       "      <td>-0.022590</td>\n",
       "      <td>-0.033803</td>\n",
       "      <td>0.026261</td>\n",
       "      <td>-0.288005</td>\n",
       "      <td>0.069500</td>\n",
       "      <td>-0.263833</td>\n",
       "      <td>0.160540</td>\n",
       "      <td>0.241615</td>\n",
       "      <td>-0.205218</td>\n",
       "      <td>-0.252759</td>\n",
       "      <td>...</td>\n",
       "      <td>-0.020554</td>\n",
       "      <td>0.145880</td>\n",
       "      <td>0.251152</td>\n",
       "      <td>-0.374008</td>\n",
       "      <td>-0.174944</td>\n",
       "      <td>0.265866</td>\n",
       "      <td>0.200064</td>\n",
       "      <td>0.216816</td>\n",
       "      <td>-0.024948</td>\n",
       "      <td>-0.111534</td>\n",
       "    </tr>\n",
       "    <tr>\n",
       "      <th>000 pag</th>\n",
       "      <td>-0.084534</td>\n",
       "      <td>-0.038735</td>\n",
       "      <td>-0.009430</td>\n",
       "      <td>-0.318970</td>\n",
       "      <td>0.102867</td>\n",
       "      <td>-0.287310</td>\n",
       "      <td>0.170176</td>\n",
       "      <td>0.213983</td>\n",
       "      <td>-0.210753</td>\n",
       "      <td>-0.286877</td>\n",
       "      <td>...</td>\n",
       "      <td>0.019767</td>\n",
       "      <td>0.200046</td>\n",
       "      <td>0.279869</td>\n",
       "      <td>-0.420881</td>\n",
       "      <td>-0.155469</td>\n",
       "      <td>0.321626</td>\n",
       "      <td>0.188799</td>\n",
       "      <td>0.217812</td>\n",
       "      <td>-0.039459</td>\n",
       "      <td>-0.119686</td>\n",
       "    </tr>\n",
       "    <tr>\n",
       "      <th>000 peopl</th>\n",
       "      <td>-0.054274</td>\n",
       "      <td>-0.047488</td>\n",
       "      <td>0.003292</td>\n",
       "      <td>-0.276429</td>\n",
       "      <td>0.088486</td>\n",
       "      <td>-0.279545</td>\n",
       "      <td>0.152170</td>\n",
       "      <td>0.199156</td>\n",
       "      <td>-0.191418</td>\n",
       "      <td>-0.286598</td>\n",
       "      <td>...</td>\n",
       "      <td>0.008192</td>\n",
       "      <td>0.170177</td>\n",
       "      <td>0.237788</td>\n",
       "      <td>-0.386247</td>\n",
       "      <td>-0.139942</td>\n",
       "      <td>0.298533</td>\n",
       "      <td>0.174979</td>\n",
       "      <td>0.221010</td>\n",
       "      <td>-0.011074</td>\n",
       "      <td>-0.121645</td>\n",
       "    </tr>\n",
       "    <tr>\n",
       "      <th>000 word</th>\n",
       "      <td>-0.050898</td>\n",
       "      <td>-0.044904</td>\n",
       "      <td>-0.000196</td>\n",
       "      <td>-0.239945</td>\n",
       "      <td>0.070744</td>\n",
       "      <td>-0.231141</td>\n",
       "      <td>0.116062</td>\n",
       "      <td>0.188614</td>\n",
       "      <td>-0.174855</td>\n",
       "      <td>-0.253663</td>\n",
       "      <td>...</td>\n",
       "      <td>-0.004657</td>\n",
       "      <td>0.137673</td>\n",
       "      <td>0.249209</td>\n",
       "      <td>-0.353233</td>\n",
       "      <td>-0.150893</td>\n",
       "      <td>0.262393</td>\n",
       "      <td>0.157356</td>\n",
       "      <td>0.203923</td>\n",
       "      <td>-0.023189</td>\n",
       "      <td>-0.113006</td>\n",
       "    </tr>\n",
       "    <tr>\n",
       "      <th>000 year</th>\n",
       "      <td>-0.078532</td>\n",
       "      <td>-0.015674</td>\n",
       "      <td>-0.032308</td>\n",
       "      <td>-0.509103</td>\n",
       "      <td>0.126484</td>\n",
       "      <td>-0.335486</td>\n",
       "      <td>0.260443</td>\n",
       "      <td>0.341760</td>\n",
       "      <td>-0.391362</td>\n",
       "      <td>-0.387359</td>\n",
       "      <td>...</td>\n",
       "      <td>0.005273</td>\n",
       "      <td>0.250360</td>\n",
       "      <td>0.416893</td>\n",
       "      <td>-0.607318</td>\n",
       "      <td>-0.317324</td>\n",
       "      <td>0.542031</td>\n",
       "      <td>0.298490</td>\n",
       "      <td>0.270454</td>\n",
       "      <td>-0.094471</td>\n",
       "      <td>-0.175037</td>\n",
       "    </tr>\n",
       "    <tr>\n",
       "      <th>01</th>\n",
       "      <td>-0.007239</td>\n",
       "      <td>-0.047597</td>\n",
       "      <td>-0.004238</td>\n",
       "      <td>-0.415262</td>\n",
       "      <td>0.082059</td>\n",
       "      <td>-0.341414</td>\n",
       "      <td>0.273979</td>\n",
       "      <td>0.327275</td>\n",
       "      <td>-0.280172</td>\n",
       "      <td>-0.320426</td>\n",
       "      <td>...</td>\n",
       "      <td>-0.058522</td>\n",
       "      <td>0.183403</td>\n",
       "      <td>0.365739</td>\n",
       "      <td>-0.528793</td>\n",
       "      <td>-0.227786</td>\n",
       "      <td>0.415925</td>\n",
       "      <td>0.255360</td>\n",
       "      <td>0.262859</td>\n",
       "      <td>-0.104477</td>\n",
       "      <td>-0.170153</td>\n",
       "    </tr>\n",
       "    <tr>\n",
       "      <th>02</th>\n",
       "      <td>-0.029391</td>\n",
       "      <td>-0.028643</td>\n",
       "      <td>-0.040778</td>\n",
       "      <td>-0.459899</td>\n",
       "      <td>0.077707</td>\n",
       "      <td>-0.336567</td>\n",
       "      <td>0.265980</td>\n",
       "      <td>0.335603</td>\n",
       "      <td>-0.337400</td>\n",
       "      <td>-0.334146</td>\n",
       "      <td>...</td>\n",
       "      <td>-0.043875</td>\n",
       "      <td>0.188863</td>\n",
       "      <td>0.411938</td>\n",
       "      <td>-0.570320</td>\n",
       "      <td>-0.275724</td>\n",
       "      <td>0.445447</td>\n",
       "      <td>0.263976</td>\n",
       "      <td>0.292986</td>\n",
       "      <td>-0.050743</td>\n",
       "      <td>-0.140646</td>\n",
       "    </tr>\n",
       "  </tbody>\n",
       "</table>\n",
       "<p>10 rows × 100 columns</p>\n",
       "</div>"
      ],
      "text/plain": [
       "                 0         1         2         3         4         5   \\\n",
       "00        -0.027428 -0.042040 -0.011743 -0.418889  0.089596 -0.385997   \n",
       "000       -0.064458  0.064440 -0.127581 -0.692749  0.188995 -0.284046   \n",
       "000 000   -0.033330 -0.020460 -0.010009 -0.309926  0.086147 -0.334299   \n",
       "000 leagu -0.022590 -0.033803  0.026261 -0.288005  0.069500 -0.263833   \n",
       "000 pag   -0.084534 -0.038735 -0.009430 -0.318970  0.102867 -0.287310   \n",
       "000 peopl -0.054274 -0.047488  0.003292 -0.276429  0.088486 -0.279545   \n",
       "000 word  -0.050898 -0.044904 -0.000196 -0.239945  0.070744 -0.231141   \n",
       "000 year  -0.078532 -0.015674 -0.032308 -0.509103  0.126484 -0.335486   \n",
       "01        -0.007239 -0.047597 -0.004238 -0.415262  0.082059 -0.341414   \n",
       "02        -0.029391 -0.028643 -0.040778 -0.459899  0.077707 -0.336567   \n",
       "\n",
       "                 6         7         8         9     ...           90  \\\n",
       "00         0.224088  0.314112 -0.287266 -0.333719    ...    -0.046550   \n",
       "000        0.449437  0.388449 -0.583587 -0.468883    ...     0.044549   \n",
       "000 000    0.170493  0.238200 -0.292253 -0.307018    ...     0.038121   \n",
       "000 leagu  0.160540  0.241615 -0.205218 -0.252759    ...    -0.020554   \n",
       "000 pag    0.170176  0.213983 -0.210753 -0.286877    ...     0.019767   \n",
       "000 peopl  0.152170  0.199156 -0.191418 -0.286598    ...     0.008192   \n",
       "000 word   0.116062  0.188614 -0.174855 -0.253663    ...    -0.004657   \n",
       "000 year   0.260443  0.341760 -0.391362 -0.387359    ...     0.005273   \n",
       "01         0.273979  0.327275 -0.280172 -0.320426    ...    -0.058522   \n",
       "02         0.265980  0.335603 -0.337400 -0.334146    ...    -0.043875   \n",
       "\n",
       "                 91        92        93        94        95        96  \\\n",
       "00         0.196701  0.357280 -0.516436 -0.242412  0.373151  0.268950   \n",
       "000        0.294980  0.547868 -0.713725 -0.427918  0.817388  0.371244   \n",
       "000 000    0.151909  0.275046 -0.409158 -0.202177  0.392216  0.229956   \n",
       "000 leagu  0.145880  0.251152 -0.374008 -0.174944  0.265866  0.200064   \n",
       "000 pag    0.200046  0.279869 -0.420881 -0.155469  0.321626  0.188799   \n",
       "000 peopl  0.170177  0.237788 -0.386247 -0.139942  0.298533  0.174979   \n",
       "000 word   0.137673  0.249209 -0.353233 -0.150893  0.262393  0.157356   \n",
       "000 year   0.250360  0.416893 -0.607318 -0.317324  0.542031  0.298490   \n",
       "01         0.183403  0.365739 -0.528793 -0.227786  0.415925  0.255360   \n",
       "02         0.188863  0.411938 -0.570320 -0.275724  0.445447  0.263976   \n",
       "\n",
       "                 97        98        99  \n",
       "00         0.284363 -0.027694 -0.143104  \n",
       "000        0.219177 -0.300550 -0.251772  \n",
       "000 000    0.240248 -0.082480 -0.138478  \n",
       "000 leagu  0.216816 -0.024948 -0.111534  \n",
       "000 pag    0.217812 -0.039459 -0.119686  \n",
       "000 peopl  0.221010 -0.011074 -0.121645  \n",
       "000 word   0.203923 -0.023189 -0.113006  \n",
       "000 year   0.270454 -0.094471 -0.175037  \n",
       "01         0.262859 -0.104477 -0.170153  \n",
       "02         0.292986 -0.050743 -0.140646  \n",
       "\n",
       "[10 rows x 100 columns]"
      ]
     },
     "execution_count": 28,
     "metadata": {},
     "output_type": "execute_result"
    }
   ],
   "source": [
    "wv_df = dict()\n",
    "for key, val in gensim_model.wv.vocab.items():\n",
    "        wv_df[key] = gensim_model.wv[key]\n",
    "wv_df = pd.DataFrame(wv_df).transpose()\n",
    "wv_df.head(10)"
   ]
  },
  {
   "cell_type": "code",
   "execution_count": 36,
   "metadata": {
    "collapsed": false
   },
   "outputs": [
    {
     "data": {
      "image/png": "[encoded data removed]",
      "text/plain": [
       "<matplotlib.figure.Figure at 0x13cc3bb70>"
      ]
     },
     "metadata": {},
     "output_type": "display_data"
    }
   ],
   "source": [
    "fig = plt.figure(figsize = (8, 6))\n",
    "tot_words = wv_df.shape[0]\n",
    "n_words_to_plot = 10\n",
    "sample = range(0, tot_words, tot_words // n_words_to_plot)\n",
    "ax = fig.add_subplot(111)\n",
    "a = wv_df.iloc[sample, 0]\n",
    "b = wv_df.iloc[sample, 1]\n",
    "c = wv_df.index[sample]\n",
    "plt.plot(a, b, \"bo\")\n",
    "for tup in zip(a, b, c):                                      \n",
    "    ax.annotate(tup[2], xy = (tup[0] + 0.0001, tup[1] + 0.005), textcoords='data', fontsize = 14)\n",
    "plt.show()"
   ]
  },
  {
   "cell_type": "markdown",
   "metadata": {},
   "source": [
    "### get latent features"
   ]
  },
  {
   "cell_type": "code",
   "execution_count": 37,
   "metadata": {
    "collapsed": false
   },
   "outputs": [
    {
     "data": {
      "text/plain": [
       "100"
      ]
     },
     "execution_count": 37,
     "metadata": {},
     "output_type": "execute_result"
    }
   ],
   "source": [
    "init_n_components = 100 # min(review_coll.shape) - 1\n",
    "init_n_components"
   ]
  },
  {
   "cell_type": "code",
   "execution_count": null,
   "metadata": {
    "collapsed": false
   },
   "outputs": [],
   "source": [
    "tSVD_model = TruncatedSVD(n_components = init_n_components)\n",
    "tSVD_model.fit(review_coll)"
   ]
  },
  {
   "cell_type": "code",
   "execution_count": null,
   "metadata": {
    "collapsed": false
   },
   "outputs": [],
   "source": [
    "var_ratio_df = pd.DataFrame(tSVD_model.explained_variance_ratio_)\n",
    "var_ratio_df.columns = ['var_ratio']\n",
    "var_ratio_df['cum_var_ratio'] = var_ratio_df['var_ratio'].cumsum()\n",
    "var_ratio_df.head(1)"
   ]
  },
  {
   "cell_type": "code",
   "execution_count": null,
   "metadata": {
    "collapsed": false
   },
   "outputs": [],
   "source": [
    "plt.figure(figsize = (16, 4))\n",
    "plt.plot(var_ratio_df['var_ratio'], 'b-o')\n",
    "plt.axvline(20)\n",
    "plt.show()"
   ]
  },
  {
   "cell_type": "code",
   "execution_count": null,
   "metadata": {
    "collapsed": false
   },
   "outputs": [],
   "source": [
    "plt.figure(figsize = (16, 4))\n",
    "plt.plot(var_ratio_df['cum_var_ratio'], 'r-')\n",
    "plt.axvline(20)\n",
    "plt.axhline(0.8)\n",
    "plt.show()"
   ]
  },
  {
   "cell_type": "code",
   "execution_count": null,
   "metadata": {
    "collapsed": true
   },
   "outputs": [],
   "source": [
    "elbow_n_components = 20 # TODO Or 400? Tune this?"
   ]
  },
  {
   "cell_type": "code",
   "execution_count": null,
   "metadata": {
    "collapsed": false
   },
   "outputs": [],
   "source": [
    "U, Sigma, VT = randomized_svd(review_coll, \n",
    "                              n_components=elbow_n_components,\n",
    "                              n_iter=5,\n",
    "                              random_state=None)\n",
    "print(review_coll.shape, U.shape, Sigma.shape, VT.shape)"
   ]
  },
  {
   "cell_type": "code",
   "execution_count": null,
   "metadata": {
    "collapsed": true
   },
   "outputs": [],
   "source": [
    "# reconstruc_recomm_by_stars = pd.DataFrame(np.dot(U, np.dot(np.diag(Sigma), VT)))\n",
    "# reconstruc_recomm_by_stars.index = recomm_by_stars.index\n",
    "# reconstruc_recomm_by_stars.columns = recomm_by_stars.columns\n",
    "# print(reconstruc_recomm_by_stars.shape)\n",
    "# reconstruc_recomm_by_stars.iloc[:5, :5]"
   ]
  },
  {
   "cell_type": "code",
   "execution_count": null,
   "metadata": {
    "collapsed": false
   },
   "outputs": [],
   "source": [
    "book_latent = pd.DataFrame(U)\n",
    "book_latent.index = review_coll.index\n",
    "book_latent.columns = pd.Series(book_latent.columns).map(lambda x: 'bk_latent' + str(x))\n",
    "book_latent['bookid'] = bookid_order"
   ]
  },
  {
   "cell_type": "markdown",
   "metadata": {},
   "source": [
    "### pickle additional feature"
   ]
  },
  {
   "cell_type": "code",
   "execution_count": null,
   "metadata": {
    "collapsed": false
   },
   "outputs": [],
   "source": [
    "book_review = book_review.merge(book_latent, how = 'left', on = 'bookid')\n",
    "book_review.tail(1)"
   ]
  },
  {
   "cell_type": "code",
   "execution_count": null,
   "metadata": {
    "collapsed": false
   },
   "outputs": [],
   "source": [
    "sid_df.columns = ['bookid', 'bk_compound', 'bk_neg', 'bk_neu', 'bk_pos']\n",
    "book_review = book_review.merge(sid_df, how = 'left', on = 'bookid')\n",
    "book_review.tail(1)"
   ]
  },
  {
   "cell_type": "code",
   "execution_count": null,
   "metadata": {
    "collapsed": false
   },
   "outputs": [],
   "source": [
    "book_review.columns"
   ]
  },
  {
   "cell_type": "code",
   "execution_count": null,
   "metadata": {
    "collapsed": false
   },
   "outputs": [],
   "source": [
    "book_review.to_pickle(\"cleaned_w_bkrvwnlp.pkl\")"
   ]
  },
  {
   "cell_type": "code",
   "execution_count": null,
   "metadata": {
    "collapsed": true
   },
   "outputs": [],
   "source": []
  }
 ],
 "metadata": {
  "kernelspec": {
   "display_name": "Python 3",
   "language": "python",
   "name": "python3"
  },
  "language_info": {
   "codemirror_mode": {
    "name": "ipython",
    "version": 3
   },
   "file_extension": ".py",
   "mimetype": "text/x-python",
   "name": "python",
   "nbconvert_exporter": "python",
   "pygments_lexer": "ipython3",
   "version": "3.6.0"
  }
 },
 "nbformat": 4,
 "nbformat_minor": 2
}
