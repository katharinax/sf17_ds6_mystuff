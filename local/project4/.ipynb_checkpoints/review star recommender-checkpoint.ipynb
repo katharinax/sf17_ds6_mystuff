{
 "cells": [
  {
   "cell_type": "code",
   "execution_count": 1,
   "metadata": {
    "collapsed": true
   },
   "outputs": [],
   "source": [
    "import pandas as pd\n",
    "import numpy as np\n",
    "import matplotlib.pyplot as plt\n",
    "from sklearn.utils.extmath import randomized_svd\n",
    "from sklearn.decomposition import TruncatedSVD\n",
    "import re\n",
    "import warnings\n",
    "import logging\n",
    "import pickle\n",
    "\n",
    "%matplotlib inline\n",
    "pd.options.display.max_columns = 50"
   ]
  },
  {
   "cell_type": "code",
   "execution_count": 2,
   "metadata": {
    "collapsed": true
   },
   "outputs": [],
   "source": [
    "def del_read_books(recommender, yesno_df):\n",
    "    recommender_mod = recommender.unstack()\n",
    "    recommender_mod[yesno_df.unstack()] = np.nan\n",
    "    recommender_mod = recommender_mod.unstack().transpose()\n",
    "    return recommender_mod"
   ]
  },
  {
   "cell_type": "code",
   "execution_count": 25,
   "metadata": {
    "collapsed": false
   },
   "outputs": [],
   "source": [
    "def recommend_books(userid, n_books):\n",
    "    \"\"\"\n",
    "    assumes existence of\n",
    "        recommender \"reconstruc_recomm_by_stars\" \n",
    "        read or not df \"read_yesno\"\n",
    "        book title list \"order_in_recomm\" \n",
    "    also assumes userid in recommender dataFrame\n",
    "    \"\"\"\n",
    "    reconstruc_recomm_by_stars_exclude_read = del_read_books(reconstruc_recomm_by_stars, read_yesno)\n",
    "    book_li = pd.DataFrame(reconstruc_recomm_by_stars_exclude_read.loc[userid].sort_values(ascending = False))\n",
    "    book_li.index = book_li.index.droplevel()\n",
    "    book_li.reset_index(inplace = True)\n",
    "    book_li.columns = ['bookid', 'match_score']\n",
    "    book_li = book_li.loc[:n_books].merge(order_in_recomm[['bookid', 'bk_title']], how = \"left\", on = 'bookid')\n",
    "    return book_li"
   ]
  },
  {
   "cell_type": "code",
   "execution_count": 4,
   "metadata": {
    "collapsed": false
   },
   "outputs": [],
   "source": [
    "# this code doesn't work anymore after upgrading to pandas 0.20.1,\n",
    "# will get ModuleNotFoundError: No module named 'pandas.indexes'\n",
    "# with open(\"cleaned_data.pkl\", 'rb') as picklefile: \n",
    "#     book_review = pickle.load(picklefile)\n",
    "book_review = pd.read_pickle(\"cleaned_data.pkl\")"
   ]
  },
  {
   "cell_type": "code",
   "execution_count": 5,
   "metadata": {
    "collapsed": false
   },
   "outputs": [
    {
     "data": {
      "text/html": [
       "<div>\n",
       "<style>\n",
       "    .dataframe thead tr:only-child th {\n",
       "        text-align: right;\n",
       "    }\n",
       "\n",
       "    .dataframe thead th {\n",
       "        text-align: left;\n",
       "    }\n",
       "\n",
       "    .dataframe tbody tr th {\n",
       "        vertical-align: top;\n",
       "    }\n",
       "</style>\n",
       "<table border=\"1\" class=\"dataframe\">\n",
       "  <thead>\n",
       "    <tr style=\"text-align: right;\">\n",
       "      <th></th>\n",
       "      <th>bookid</th>\n",
       "      <th>review_like_ct</th>\n",
       "      <th>review_rating</th>\n",
       "      <th>review_desc</th>\n",
       "      <th>userid</th>\n",
       "      <th>review_date</th>\n",
       "      <th>review_yr</th>\n",
       "      <th>review_mon</th>\n",
       "      <th>review_wday_num</th>\n",
       "      <th>review_d_since_1streview</th>\n",
       "      <th>bk_author</th>\n",
       "      <th>bk_avg_rating</th>\n",
       "      <th>bk_desc</th>\n",
       "      <th>bk_n_ratings</th>\n",
       "      <th>bk_n_text_reviews</th>\n",
       "      <th>bk_page_ct</th>\n",
       "      <th>bk_pub_yr</th>\n",
       "      <th>bk_title</th>\n",
       "      <th>user_tot_reviews</th>\n",
       "      <th>dup_ind</th>\n",
       "      <th>bk_desc_len</th>\n",
       "      <th>review_desc_len</th>\n",
       "    </tr>\n",
       "  </thead>\n",
       "  <tbody>\n",
       "    <tr>\n",
       "      <th>19230</th>\n",
       "      <td>17261174</td>\n",
       "      <td>1</td>\n",
       "      <td>5</td>\n",
       "      <td>Utterly charming, well paced, written and draw...</td>\n",
       "      <td>1722508</td>\n",
       "      <td>2016-09-23</td>\n",
       "      <td>2016</td>\n",
       "      <td>9</td>\n",
       "      <td>5</td>\n",
       "      <td>1177.0</td>\n",
       "      <td>Tony  Cliff</td>\n",
       "      <td>3.94</td>\n",
       "      <td>A little bit Tintin, a little bit Indiana Jone...</td>\n",
       "      <td>5828</td>\n",
       "      <td>642</td>\n",
       "      <td>122.0</td>\n",
       "      <td>2013.0</td>\n",
       "      <td>Delilah Dirk and the Turkish Lieutenant</td>\n",
       "      <td>1</td>\n",
       "      <td>0.0</td>\n",
       "      <td>169</td>\n",
       "      <td>234</td>\n",
       "    </tr>\n",
       "  </tbody>\n",
       "</table>\n",
       "</div>"
      ],
      "text/plain": [
       "         bookid  review_like_ct  review_rating  \\\n",
       "19230  17261174               1              5   \n",
       "\n",
       "                                             review_desc   userid review_date  \\\n",
       "19230  Utterly charming, well paced, written and draw...  1722508  2016-09-23   \n",
       "\n",
       "       review_yr  review_mon  review_wday_num  review_d_since_1streview  \\\n",
       "19230       2016           9                5                    1177.0   \n",
       "\n",
       "         bk_author  bk_avg_rating  \\\n",
       "19230  Tony  Cliff           3.94   \n",
       "\n",
       "                                                 bk_desc  bk_n_ratings  \\\n",
       "19230  A little bit Tintin, a little bit Indiana Jone...          5828   \n",
       "\n",
       "       bk_n_text_reviews  bk_page_ct  bk_pub_yr  \\\n",
       "19230                642       122.0     2013.0   \n",
       "\n",
       "                                      bk_title  user_tot_reviews  dup_ind  \\\n",
       "19230  Delilah Dirk and the Turkish Lieutenant                 1      0.0   \n",
       "\n",
       "       bk_desc_len  review_desc_len  \n",
       "19230          169              234  "
      ]
     },
     "execution_count": 5,
     "metadata": {},
     "output_type": "execute_result"
    }
   ],
   "source": [
    "book_review.tail(1)"
   ]
  },
  {
   "cell_type": "code",
   "execution_count": 6,
   "metadata": {
    "collapsed": false
   },
   "outputs": [
    {
     "data": {
      "image/png": "[encoded data removed]",
      "text/plain": [
       "<matplotlib.figure.Figure at 0x10d563a58>"
      ]
     },
     "metadata": {},
     "output_type": "display_data"
    }
   ],
   "source": [
    "plt.figure(figsize = (16, 4))\n",
    "plt.hist(book_review['user_tot_reviews'], bins = 60)\n",
    "plt.show()"
   ]
  },
  {
   "cell_type": "code",
   "execution_count": 8,
   "metadata": {
    "collapsed": false
   },
   "outputs": [
    {
     "data": {
      "text/plain": [
       "1"
      ]
     },
     "execution_count": 8,
     "metadata": {},
     "output_type": "execute_result"
    }
   ],
   "source": [
    "min(book_review['user_tot_reviews'])"
   ]
  },
  {
   "cell_type": "code",
   "execution_count": 7,
   "metadata": {
    "collapsed": false
   },
   "outputs": [
    {
     "name": "stdout",
     "output_type": "stream",
     "text": [
      "11372 total users\n",
      "931 total books\n",
      "(3067, 734)\n"
     ]
    }
   ],
   "source": [
    "# TODO don't cut down users or cut more?\n",
    "cond = book_review['user_tot_reviews'] > 1\n",
    "recomm_by_stars = pd.pivot_table(book_review.loc[cond], values=[\"review_rating\"],\n",
    "                                 index=[\"userid\", \"bookid\"],\n",
    "                                 aggfunc=np.mean).unstack()\n",
    "print(len(book_review['userid'].unique()), \"total users\")\n",
    "print(len(book_review['bookid'].unique()), \"total books\")\n",
    "print(recomm_by_stars.shape)"
   ]
  },
  {
   "cell_type": "markdown",
   "metadata": {},
   "source": [
    "### get read_yesno and bk_title_cols for later use"
   ]
  },
  {
   "cell_type": "code",
   "execution_count": 9,
   "metadata": {
    "collapsed": false
   },
   "outputs": [
    {
     "name": "stdout",
     "output_type": "stream",
     "text": [
      "(3067, 734)\n"
     ]
    },
    {
     "data": {
      "text/html": [
       "<div>\n",
       "<style>\n",
       "    .dataframe thead tr:only-child th {\n",
       "        text-align: right;\n",
       "    }\n",
       "\n",
       "    .dataframe thead th {\n",
       "        text-align: left;\n",
       "    }\n",
       "\n",
       "    .dataframe tbody tr th {\n",
       "        vertical-align: top;\n",
       "    }\n",
       "</style>\n",
       "<table border=\"1\" class=\"dataframe\">\n",
       "  <thead>\n",
       "    <tr>\n",
       "      <th></th>\n",
       "      <th colspan=\"5\" halign=\"left\">review_rating</th>\n",
       "    </tr>\n",
       "    <tr>\n",
       "      <th>bookid</th>\n",
       "      <th>1</th>\n",
       "      <th>3</th>\n",
       "      <th>350</th>\n",
       "      <th>415</th>\n",
       "      <th>662</th>\n",
       "    </tr>\n",
       "    <tr>\n",
       "      <th>userid</th>\n",
       "      <th></th>\n",
       "      <th></th>\n",
       "      <th></th>\n",
       "      <th></th>\n",
       "      <th></th>\n",
       "    </tr>\n",
       "  </thead>\n",
       "  <tbody>\n",
       "    <tr>\n",
       "      <th>8561</th>\n",
       "      <td>False</td>\n",
       "      <td>False</td>\n",
       "      <td>False</td>\n",
       "      <td>False</td>\n",
       "      <td>False</td>\n",
       "    </tr>\n",
       "    <tr>\n",
       "      <th>13779</th>\n",
       "      <td>False</td>\n",
       "      <td>False</td>\n",
       "      <td>False</td>\n",
       "      <td>False</td>\n",
       "      <td>False</td>\n",
       "    </tr>\n",
       "    <tr>\n",
       "      <th>16600</th>\n",
       "      <td>False</td>\n",
       "      <td>False</td>\n",
       "      <td>False</td>\n",
       "      <td>False</td>\n",
       "      <td>False</td>\n",
       "    </tr>\n",
       "    <tr>\n",
       "      <th>19993</th>\n",
       "      <td>False</td>\n",
       "      <td>False</td>\n",
       "      <td>False</td>\n",
       "      <td>False</td>\n",
       "      <td>False</td>\n",
       "    </tr>\n",
       "    <tr>\n",
       "      <th>26259</th>\n",
       "      <td>False</td>\n",
       "      <td>False</td>\n",
       "      <td>False</td>\n",
       "      <td>False</td>\n",
       "      <td>False</td>\n",
       "    </tr>\n",
       "  </tbody>\n",
       "</table>\n",
       "</div>"
      ],
      "text/plain": [
       "       review_rating                            \n",
       "bookid           1      3      350    415    662\n",
       "userid                                          \n",
       "8561           False  False  False  False  False\n",
       "13779          False  False  False  False  False\n",
       "16600          False  False  False  False  False\n",
       "19993          False  False  False  False  False\n",
       "26259          False  False  False  False  False"
      ]
     },
     "execution_count": 9,
     "metadata": {},
     "output_type": "execute_result"
    }
   ],
   "source": [
    "read_yesno = np.isnan(recomm_by_stars) == False\n",
    "print(read_yesno.shape)\n",
    "read_yesno.iloc[:5, :5]"
   ]
  },
  {
   "cell_type": "code",
   "execution_count": 10,
   "metadata": {
    "collapsed": true
   },
   "outputs": [],
   "source": [
    "bk_title_cols = book_review[['bookid', 'bk_title']].drop_duplicates()\n",
    "bk_title_cols = bk_title_cols.sort_values('bookid')\n",
    "\n",
    "order_in_recomm = pd.DataFrame([x[1] for x in read_yesno.columns])\n",
    "order_in_recomm.reset_index(inplace = True)\n",
    "order_in_recomm.columns = ['order', 'bookid']\n",
    "order_in_recomm = order_in_recomm.merge(bk_title_cols, how = \"left\", on = \"bookid\")\n",
    "order_in_recomm = order_in_recomm.sort_values('order')"
   ]
  },
  {
   "cell_type": "code",
   "execution_count": 11,
   "metadata": {
    "collapsed": false
   },
   "outputs": [
    {
     "data": {
      "text/html": [
       "<div>\n",
       "<style>\n",
       "    .dataframe thead tr:only-child th {\n",
       "        text-align: right;\n",
       "    }\n",
       "\n",
       "    .dataframe thead th {\n",
       "        text-align: left;\n",
       "    }\n",
       "\n",
       "    .dataframe tbody tr th {\n",
       "        vertical-align: top;\n",
       "    }\n",
       "</style>\n",
       "<table border=\"1\" class=\"dataframe\">\n",
       "  <thead>\n",
       "    <tr>\n",
       "      <th></th>\n",
       "      <th colspan=\"5\" halign=\"left\">review_rating</th>\n",
       "    </tr>\n",
       "    <tr>\n",
       "      <th>bookid</th>\n",
       "      <th>1</th>\n",
       "      <th>3</th>\n",
       "      <th>350</th>\n",
       "      <th>415</th>\n",
       "      <th>662</th>\n",
       "    </tr>\n",
       "    <tr>\n",
       "      <th>userid</th>\n",
       "      <th></th>\n",
       "      <th></th>\n",
       "      <th></th>\n",
       "      <th></th>\n",
       "      <th></th>\n",
       "    </tr>\n",
       "  </thead>\n",
       "  <tbody>\n",
       "    <tr>\n",
       "      <th>8561</th>\n",
       "      <td>3.0</td>\n",
       "      <td>3.0</td>\n",
       "      <td>3.0</td>\n",
       "      <td>3.0</td>\n",
       "      <td>3.0</td>\n",
       "    </tr>\n",
       "    <tr>\n",
       "      <th>13779</th>\n",
       "      <td>3.0</td>\n",
       "      <td>3.0</td>\n",
       "      <td>3.0</td>\n",
       "      <td>3.0</td>\n",
       "      <td>3.0</td>\n",
       "    </tr>\n",
       "    <tr>\n",
       "      <th>16600</th>\n",
       "      <td>3.0</td>\n",
       "      <td>3.0</td>\n",
       "      <td>3.0</td>\n",
       "      <td>3.0</td>\n",
       "      <td>3.0</td>\n",
       "    </tr>\n",
       "    <tr>\n",
       "      <th>19993</th>\n",
       "      <td>3.0</td>\n",
       "      <td>3.0</td>\n",
       "      <td>3.0</td>\n",
       "      <td>3.0</td>\n",
       "      <td>3.0</td>\n",
       "    </tr>\n",
       "    <tr>\n",
       "      <th>26259</th>\n",
       "      <td>3.0</td>\n",
       "      <td>3.0</td>\n",
       "      <td>3.0</td>\n",
       "      <td>3.0</td>\n",
       "      <td>3.0</td>\n",
       "    </tr>\n",
       "  </tbody>\n",
       "</table>\n",
       "</div>"
      ],
      "text/plain": [
       "       review_rating                    \n",
       "bookid           1    3    350  415  662\n",
       "userid                                  \n",
       "8561             3.0  3.0  3.0  3.0  3.0\n",
       "13779            3.0  3.0  3.0  3.0  3.0\n",
       "16600            3.0  3.0  3.0  3.0  3.0\n",
       "19993            3.0  3.0  3.0  3.0  3.0\n",
       "26259            3.0  3.0  3.0  3.0  3.0"
      ]
     },
     "execution_count": 11,
     "metadata": {},
     "output_type": "execute_result"
    }
   ],
   "source": [
    "mean_rating = np.mean(book_review['review_rating'].groupby(np.ones(len(book_review))).agg([min, max]).loc[1])\n",
    "recomm_by_stars = recomm_by_stars.fillna(mean_rating)\n",
    "recomm_by_stars.iloc[:5, :5]"
   ]
  },
  {
   "cell_type": "code",
   "execution_count": 12,
   "metadata": {
    "collapsed": false
   },
   "outputs": [
    {
     "data": {
      "text/plain": [
       "733"
      ]
     },
     "execution_count": 12,
     "metadata": {},
     "output_type": "execute_result"
    }
   ],
   "source": [
    "init_n_components = min(recomm_by_stars.shape) - 1\n",
    "init_n_components"
   ]
  },
  {
   "cell_type": "code",
   "execution_count": 13,
   "metadata": {
    "collapsed": false
   },
   "outputs": [
    {
     "data": {
      "text/plain": [
       "TruncatedSVD(algorithm='randomized', n_components=733, n_iter=5,\n",
       "       random_state=None, tol=0.0)"
      ]
     },
     "execution_count": 13,
     "metadata": {},
     "output_type": "execute_result"
    }
   ],
   "source": [
    "tSVD_model = TruncatedSVD(n_components = init_n_components)\n",
    "tSVD_model.fit(recomm_by_stars)"
   ]
  },
  {
   "cell_type": "code",
   "execution_count": 14,
   "metadata": {
    "collapsed": false
   },
   "outputs": [
    {
     "data": {
      "text/html": [
       "<div>\n",
       "<style>\n",
       "    .dataframe thead tr:only-child th {\n",
       "        text-align: right;\n",
       "    }\n",
       "\n",
       "    .dataframe thead th {\n",
       "        text-align: left;\n",
       "    }\n",
       "\n",
       "    .dataframe tbody tr th {\n",
       "        vertical-align: top;\n",
       "    }\n",
       "</style>\n",
       "<table border=\"1\" class=\"dataframe\">\n",
       "  <thead>\n",
       "    <tr style=\"text-align: right;\">\n",
       "      <th></th>\n",
       "      <th>var_ratio</th>\n",
       "      <th>cum_var_ratio</th>\n",
       "    </tr>\n",
       "  </thead>\n",
       "  <tbody>\n",
       "    <tr>\n",
       "      <th>0</th>\n",
       "      <td>0.003072</td>\n",
       "      <td>0.003072</td>\n",
       "    </tr>\n",
       "  </tbody>\n",
       "</table>\n",
       "</div>"
      ],
      "text/plain": [
       "   var_ratio  cum_var_ratio\n",
       "0   0.003072       0.003072"
      ]
     },
     "execution_count": 14,
     "metadata": {},
     "output_type": "execute_result"
    }
   ],
   "source": [
    "var_ratio_df = pd.DataFrame(tSVD_model.explained_variance_ratio_)\n",
    "var_ratio_df.columns = ['var_ratio']\n",
    "var_ratio_df['cum_var_ratio'] = var_ratio_df['var_ratio'].cumsum()\n",
    "var_ratio_df.head(1)"
   ]
  },
  {
   "cell_type": "code",
   "execution_count": 15,
   "metadata": {
    "collapsed": false
   },
   "outputs": [
    {
     "data": {
      "image/png": "[encoded data removed]",
      "text/plain": [
       "<matplotlib.figure.Figure at 0x10d80ac18>"
      ]
     },
     "metadata": {},
     "output_type": "display_data"
    }
   ],
   "source": [
    "plt.figure(figsize = (16, 4))\n",
    "plt.plot(var_ratio_df['var_ratio'], 'b-o')\n",
    "plt.axvline(35)\n",
    "plt.show()"
   ]
  },
  {
   "cell_type": "code",
   "execution_count": 16,
   "metadata": {
    "collapsed": false
   },
   "outputs": [
    {
     "data": {
      "image/png": "[encoded data removed]",
      "text/plain": [
       "<matplotlib.figure.Figure at 0x10d9e7518>"
      ]
     },
     "metadata": {},
     "output_type": "display_data"
    }
   ],
   "source": [
    "plt.figure(figsize = (16, 4))\n",
    "plt.plot(var_ratio_df['cum_var_ratio'], 'r-')\n",
    "plt.axvline(35)\n",
    "plt.axhline(0.8)\n",
    "plt.show()\n"
   ]
  },
  {
   "cell_type": "code",
   "execution_count": 17,
   "metadata": {
    "collapsed": true
   },
   "outputs": [],
   "source": [
    "elbow_n_components = 35 # TODO Or 200? Tune this?"
   ]
  },
  {
   "cell_type": "code",
   "execution_count": 18,
   "metadata": {
    "collapsed": false
   },
   "outputs": [
    {
     "name": "stdout",
     "output_type": "stream",
     "text": [
      "(3067, 734) (3067, 35) (35,) (35, 734)\n"
     ]
    }
   ],
   "source": [
    "U, Sigma, VT = randomized_svd(recomm_by_stars, \n",
    "                              n_components=elbow_n_components,\n",
    "                              n_iter=5,\n",
    "                              random_state=None)\n",
    "print(recomm_by_stars.shape, U.shape, Sigma.shape, VT.shape)"
   ]
  },
  {
   "cell_type": "code",
   "execution_count": 19,
   "metadata": {
    "collapsed": false
   },
   "outputs": [
    {
     "name": "stdout",
     "output_type": "stream",
     "text": [
      "(3067, 734)\n"
     ]
    },
    {
     "data": {
      "text/html": [
       "<div>\n",
       "<style>\n",
       "    .dataframe thead tr:only-child th {\n",
       "        text-align: right;\n",
       "    }\n",
       "\n",
       "    .dataframe thead th {\n",
       "        text-align: left;\n",
       "    }\n",
       "\n",
       "    .dataframe tbody tr th {\n",
       "        vertical-align: top;\n",
       "    }\n",
       "</style>\n",
       "<table border=\"1\" class=\"dataframe\">\n",
       "  <thead>\n",
       "    <tr>\n",
       "      <th></th>\n",
       "      <th colspan=\"5\" halign=\"left\">review_rating</th>\n",
       "    </tr>\n",
       "    <tr>\n",
       "      <th>bookid</th>\n",
       "      <th>1</th>\n",
       "      <th>3</th>\n",
       "      <th>350</th>\n",
       "      <th>415</th>\n",
       "      <th>662</th>\n",
       "    </tr>\n",
       "    <tr>\n",
       "      <th>userid</th>\n",
       "      <th></th>\n",
       "      <th></th>\n",
       "      <th></th>\n",
       "      <th></th>\n",
       "      <th></th>\n",
       "    </tr>\n",
       "  </thead>\n",
       "  <tbody>\n",
       "    <tr>\n",
       "      <th>8561</th>\n",
       "      <td>2.988310</td>\n",
       "      <td>3.001500</td>\n",
       "      <td>2.993537</td>\n",
       "      <td>3.000731</td>\n",
       "      <td>2.995761</td>\n",
       "    </tr>\n",
       "    <tr>\n",
       "      <th>13779</th>\n",
       "      <td>3.004723</td>\n",
       "      <td>3.002238</td>\n",
       "      <td>2.987447</td>\n",
       "      <td>2.995907</td>\n",
       "      <td>2.991167</td>\n",
       "    </tr>\n",
       "    <tr>\n",
       "      <th>16600</th>\n",
       "      <td>2.963425</td>\n",
       "      <td>2.974567</td>\n",
       "      <td>2.998083</td>\n",
       "      <td>3.008983</td>\n",
       "      <td>2.998914</td>\n",
       "    </tr>\n",
       "    <tr>\n",
       "      <th>19993</th>\n",
       "      <td>2.999659</td>\n",
       "      <td>3.001677</td>\n",
       "      <td>2.993782</td>\n",
       "      <td>2.998851</td>\n",
       "      <td>2.994232</td>\n",
       "    </tr>\n",
       "    <tr>\n",
       "      <th>26259</th>\n",
       "      <td>2.919213</td>\n",
       "      <td>2.984803</td>\n",
       "      <td>3.019775</td>\n",
       "      <td>3.011841</td>\n",
       "      <td>2.996635</td>\n",
       "    </tr>\n",
       "  </tbody>\n",
       "</table>\n",
       "</div>"
      ],
      "text/plain": [
       "       review_rating                                        \n",
       "bookid           1         3         350       415       662\n",
       "userid                                                      \n",
       "8561        2.988310  3.001500  2.993537  3.000731  2.995761\n",
       "13779       3.004723  3.002238  2.987447  2.995907  2.991167\n",
       "16600       2.963425  2.974567  2.998083  3.008983  2.998914\n",
       "19993       2.999659  3.001677  2.993782  2.998851  2.994232\n",
       "26259       2.919213  2.984803  3.019775  3.011841  2.996635"
      ]
     },
     "execution_count": 19,
     "metadata": {},
     "output_type": "execute_result"
    }
   ],
   "source": [
    "reconstruc_recomm_by_stars = pd.DataFrame(np.dot(U, np.dot(np.diag(Sigma), VT)))\n",
    "reconstruc_recomm_by_stars.index = recomm_by_stars.index\n",
    "reconstruc_recomm_by_stars.columns = recomm_by_stars.columns\n",
    "print(reconstruc_recomm_by_stars.shape)\n",
    "reconstruc_recomm_by_stars.iloc[:5, :5]"
   ]
  },
  {
   "cell_type": "markdown",
   "metadata": {},
   "source": [
    "### test it out"
   ]
  },
  {
   "cell_type": "code",
   "execution_count": 26,
   "metadata": {
    "collapsed": false
   },
   "outputs": [
    {
     "data": {
      "text/html": [
       "<div>\n",
       "<style>\n",
       "    .dataframe thead tr:only-child th {\n",
       "        text-align: right;\n",
       "    }\n",
       "\n",
       "    .dataframe thead th {\n",
       "        text-align: left;\n",
       "    }\n",
       "\n",
       "    .dataframe tbody tr th {\n",
       "        vertical-align: top;\n",
       "    }\n",
       "</style>\n",
       "<table border=\"1\" class=\"dataframe\">\n",
       "  <thead>\n",
       "    <tr style=\"text-align: right;\">\n",
       "      <th></th>\n",
       "      <th>bookid</th>\n",
       "      <th>match_score</th>\n",
       "      <th>bk_title</th>\n",
       "    </tr>\n",
       "  </thead>\n",
       "  <tbody>\n",
       "    <tr>\n",
       "      <th>0</th>\n",
       "      <td>38180</td>\n",
       "      <td>3.017926</td>\n",
       "      <td>On the Beach</td>\n",
       "    </tr>\n",
       "    <tr>\n",
       "      <th>1</th>\n",
       "      <td>61886</td>\n",
       "      <td>3.017846</td>\n",
       "      <td>The Curse of Chalion</td>\n",
       "    </tr>\n",
       "    <tr>\n",
       "      <th>2</th>\n",
       "      <td>26892110</td>\n",
       "      <td>3.017201</td>\n",
       "      <td>The Library at Mount Char</td>\n",
       "    </tr>\n",
       "    <tr>\n",
       "      <th>3</th>\n",
       "      <td>920607</td>\n",
       "      <td>3.016680</td>\n",
       "      <td>The Arrival</td>\n",
       "    </tr>\n",
       "    <tr>\n",
       "      <th>4</th>\n",
       "      <td>56842</td>\n",
       "      <td>3.016511</td>\n",
       "      <td>Fatherland</td>\n",
       "    </tr>\n",
       "    <tr>\n",
       "      <th>5</th>\n",
       "      <td>6148028</td>\n",
       "      <td>3.015308</td>\n",
       "      <td>Catching Fire</td>\n",
       "    </tr>\n",
       "  </tbody>\n",
       "</table>\n",
       "</div>"
      ],
      "text/plain": [
       "     bookid  match_score                   bk_title\n",
       "0     38180     3.017926               On the Beach\n",
       "1     61886     3.017846       The Curse of Chalion\n",
       "2  26892110     3.017201  The Library at Mount Char\n",
       "3    920607     3.016680                The Arrival\n",
       "4     56842     3.016511                 Fatherland\n",
       "5   6148028     3.015308              Catching Fire"
      ]
     },
     "execution_count": 26,
     "metadata": {},
     "output_type": "execute_result"
    }
   ],
   "source": [
    "recommend_books(8561, 5)"
   ]
  },
  {
   "cell_type": "markdown",
   "metadata": {
    "collapsed": true
   },
   "source": [
    "### pickle star recommender"
   ]
  },
  {
   "cell_type": "code",
   "execution_count": 21,
   "metadata": {
    "collapsed": true
   },
   "outputs": [],
   "source": [
    "reconstruc_recomm_by_stars.to_pickle(\"star_recommender.pkl\")\n",
    "read_yesno.to_pickle(\"read_yesno.pkl\")\n",
    "order_in_recomm.to_pickle(\"star_recommender_order.pkl\")"
   ]
  },
  {
   "cell_type": "code",
   "execution_count": null,
   "metadata": {
    "collapsed": true
   },
   "outputs": [],
   "source": []
  }
 ],
 "metadata": {
  "kernelspec": {
   "display_name": "Python 3",
   "language": "python",
   "name": "python3"
  },
  "language_info": {
   "codemirror_mode": {
    "name": "ipython",
    "version": 3
   },
   "file_extension": ".py",
   "mimetype": "text/x-python",
   "name": "python",
   "nbconvert_exporter": "python",
   "pygments_lexer": "ipython3",
   "version": "3.6.0"
  }
 },
 "nbformat": 4,
 "nbformat_minor": 2
}
