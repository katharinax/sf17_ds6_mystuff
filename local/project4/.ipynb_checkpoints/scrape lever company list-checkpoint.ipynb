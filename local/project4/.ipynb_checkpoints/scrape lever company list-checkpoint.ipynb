{
 "cells": [
  {
   "cell_type": "code",
   "execution_count": null,
   "metadata": {
    "collapsed": true
   },
   "outputs": [],
   "source": [
    "import numpy as np\n",
    "import pandas as pd\n",
    "import matplotlib.pyplot as plt\n",
    "import re\n",
    "import requests\n",
    "#from bs4 import BeautifulSoup\n",
    "from selenium import webdriver\n",
    "from selenium.webdriver.common.keys import Keys\n",
    "import pickle\n",
    "%matplotlib inline  "
   ]
  },
  {
   "cell_type": "code",
   "execution_count": null,
   "metadata": {
    "collapsed": false
   },
   "outputs": [],
   "source": [
    "class seleniumdriver():\n",
    "    def __init__(self):\n",
    "        chromedriver = \"/Applications/chromedriver\"\n",
    "        self.driver = webdriver.Chrome(chromedriver)\n",
    "    def get_url(self, url):\n",
    "        self.driver.get(url)\n",
    "    def get_companies(self):\n",
    "        company_li = []\n",
    "        for i in range(31):\n",
    "            try:\n",
    "                company = self.driver.find_element_by_class_name(\"cell-container\"). \\\n",
    "                find_element_by_xpath(\"//div[\" + str(i) + \"]/div/section/a\").get_attribute(\"href\")\n",
    "                company_li += [re.sub(\"https://siftery.com/company/\", \"\", company)]\n",
    "            except:\n",
    "                pass\n",
    "        self.driver.delete_all_cookies()\n",
    "        return company_li\n",
    "    def get_present_url(self):\n",
    "        return self.driver.current_url"
   ]
  },
  {
   "cell_type": "code",
   "execution_count": null,
   "metadata": {
    "collapsed": false
   },
   "outputs": [],
   "source": [
    "for pagenum in range(1, 1065//30 + 2): # get total num of pages to scrape\n",
    "    url = r\"https://siftery.com/lever?page=\" + str(pagenum) + r\"&group=unicorns\"\n",
    "    driver = seleniumdriver()\n",
    "    driver.get_url(url)\n",
    "    print(driver.get_present_url())\n",
    "    print(driver.get_companies())\n",
    "    print(\"\\n\")"
   ]
  },
  {
   "cell_type": "code",
   "execution_count": null,
   "metadata": {
    "collapsed": true
   },
   "outputs": [],
   "source": []
  },
  {
   "cell_type": "code",
   "execution_count": null,
   "metadata": {
    "collapsed": true
   },
   "outputs": [],
   "source": []
  },
  {
   "cell_type": "code",
   "execution_count": null,
   "metadata": {
    "collapsed": true
   },
   "outputs": [],
   "source": []
  }
 ],
 "metadata": {
  "kernelspec": {
   "display_name": "Python 3",
   "language": "python",
   "name": "python3"
  },
  "language_info": {
   "codemirror_mode": {
    "name": "ipython",
    "version": 3
   },
   "file_extension": ".py",
   "mimetype": "text/x-python",
   "name": "python",
   "nbconvert_exporter": "python",
   "pygments_lexer": "ipython3",
   "version": "3.6.0"
  }
 },
 "nbformat": 4,
 "nbformat_minor": 2
}
