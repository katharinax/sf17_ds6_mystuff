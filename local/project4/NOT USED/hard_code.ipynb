{
 "cells": [
  {
   "cell_type": "code",
   "execution_count": 1,
   "metadata": {
    "collapsed": true
   },
   "outputs": [],
   "source": [
    "import pandas as pd\n",
    "import numpy as np\n",
    "import matplotlib.pyplot as plt\n",
    "import requests\n",
    "from requests.auth import HTTPBasicAuth\n",
    "from bs4 import BeautifulSoup\n",
    "from fake_useragent import UserAgent\n",
    "import time\n",
    "import re\n",
    "import json\n",
    "from pymongo import MongoClient\n",
    "import warnings\n",
    "import logging\n",
    "import gc"
   ]
  },
  {
   "cell_type": "code",
   "execution_count": 27,
   "metadata": {
    "collapsed": false
   },
   "outputs": [
    {
     "name": "stdout",
     "output_type": "stream",
     "text": [
      "['The Man in the High Castle (Paperback)', \"His Majesty's Dragon (Temeraire, #1)\", 'Leviathan (Leviathan, #1)', 'Jonathan Strange & Mr Norrell (Paperback)', 'Throne of Jade (Temeraire, #2)', 'Fatherland (Paperback)', '1632 (Assiti Shards, #1)', '11/22/63 (Hardcover)', 'The Guns of the South (Mass Market Paperback)', 'Black Powder War (Temeraire, #3)', 'Behemoth (Leviathan, #2)', 'The Years of Rice and Salt (Mass Market Paperback)', 'The Eyre Affair (Thursday Next, #1)', 'Boneshaker (The Clockwork Century, #1)', 'Empire of Ivory (Temeraire, #4)', 'Farthing (Small Change, #1)', 'How Few Remain: A Novel of the Second War Between the States (Timeline-191, #1)', 'Victory of Eagles (Temeraire, #5)', 'Abraham Lincoln: Vampire Hunter (Hardcover)', 'In the Balance (Worldwar, #1)', 'Soulless (Parasol Protectorate, #1)', 'The Plot Against America (Paperback)', 'Goliath (Leviathan, #3)', 'Watchmen (Paperback)', 'American Front (The Great War, #1)', 'Wolf by Wolf (Wolf by Wolf, #1)', 'Island in the Sea of Time (Nantucket, #1)', 'Walk in Hell (Great War, #2)', 'Tongues of Serpents (Temeraire, #6)', 'Tilting the Balance (Worldwar, #2)', 'Blood & Iron (American Empire, #1)', 'Seventh Son (Tales of Alvin Maker, #1)', 'Breakthroughs (The Great War, #3)', 'Underground Airlines (Hardcover)', 'Striking the Balance (Worldwar, #4)', 'Upsetting the Balance (Worldwar, #3)', 'The Center Cannot Hold (American Empire, #2)', 'Drive to the East (Settling Accounts, #2)', 'Bitter Seeds (The Milkweed Triptych, #1)', 'The Grapple (Settling Accounts, #3)', 'Return Engagement (Settling Accounts, #1)', 'Crucible of Gold (Temeraire, #7)', 'The Victorious Opposition (American Empire, #3)', 'Changeless (Parasol Protectorate, #2)', 'The Difference Engine  (Paperback)', 'World War Z: An Oral History of the Zombie War (Hardcover)', 'In at the Death (Settling Accounts, #4)', 'Second Contact (Colonization, #1)']\n"
     ]
    }
   ],
   "source": [
    "s = requests.Session()\n",
    "data = {r'user[email]': 'katharinax@gmail.com', r'user[password]': 'pp5749', 'remember_me': 'on'}\n",
    "s.post('https://www.goodreads.com/user/sign_in?source=home', data=data)\n",
    "r1 = s.get(\"https://www.goodreads.com/shelf/show/alternate-history?page=22\",allow_redirects=False)\n",
    "soup1 = BeautifulSoup(r1.text, 'lxml')\n",
    "book_links1 = soup1.find_all(\"a\", {\"class\", \"bookTitle\"})\n",
    "print([l.text for l in book_links1])"
   ]
  },
  {
   "cell_type": "code",
   "execution_count": 46,
   "metadata": {
    "collapsed": false,
    "scrolled": true
   },
   "outputs": [
    {
     "data": {
      "text/plain": [
       "-5.781050544977188"
      ]
     },
     "execution_count": 46,
     "metadata": {},
     "output_type": "execute_result"
    }
   ],
   "source": [
    "from time import time\n",
    "(time()-1495858985)/60/60"
   ]
  },
  {
   "cell_type": "code",
   "execution_count": 44,
   "metadata": {
    "collapsed": false
   },
   "outputs": [
    {
     "data": {
      "text/plain": [
       "<RequestsCookieJar[Cookie(version=0, name='_session_id2', value='446d7510a66e43f5925e9c3db1141e7b', port=None, port_specified=False, domain='www.goodreads.com', domain_specified=False, domain_initial_dot=False, path='/', path_specified=True, secure=False, expires=1495858985, discard=False, comment=None, comment_url=None, rest={'HttpOnly': None}, rfc2109=False), Cookie(version=0, name='csid', value='BAhJIhgxMzAtMzc3Mjg2Mi00MTczMzQyBjoGRVQ%3D--292b9a94e9bc00d34b243a096f427eedf068feab', port=None, port_specified=False, domain='www.goodreads.com', domain_specified=False, domain_initial_dot=False, path='/', path_specified=True, secure=False, expires=2126989383, discard=False, comment=None, comment_url=None, rest={}, rfc2109=False), Cookie(version=0, name='locale', value='en', port=None, port_specified=False, domain='www.goodreads.com', domain_specified=False, domain_initial_dot=False, path='/', path_specified=True, secure=False, expires=None, discard=True, comment=None, comment_url=None, rest={}, rfc2109=False)]>"
      ]
     },
     "execution_count": 44,
     "metadata": {},
     "output_type": "execute_result"
    }
   ],
   "source": [
    "s.cookies\n"
   ]
  },
  {
   "cell_type": "code",
   "execution_count": 30,
   "metadata": {
    "collapsed": true
   },
   "outputs": [],
   "source": [
    "cook = {\n",
    "'Host': 'www.goodreads.com',\n",
    "'Connection': 'keep-alive',\n",
    "'Upgrade-Insecure-Requests': '1',\n",
    "'User-Agent': 'Mozilla/5.0 (Macintosh; Intel Mac OS X 10_12_4) AppleWebKit/537.36 (KHTML, like Gecko) Chrome/58.0.3029.110 Safari/537.36',\n",
    "'Accept': 'text/html,application/xhtml+xml,application/xml;q=0.9,image/webp,*/*;q=0.8',\n",
    "'Accept-Encoding': 'gzip, deflate, sdch, br',\n",
    "'Accept-Language': 'en-US,en;q=0.8,zh-TW;q=0.6,zh;q=0.4',\n",
    "'Cookie': 'csid=BAhJIhg0MjQtOTQxNDM0My04MTQ3MTU5BjoGRVQ%3D--3769321063104d2fdca8460feb1d6bc3ccf37973; locale=en; csm-sid=654-1843675-5161952; u=LNqZ0RiQEdr8wQDbVI-0pFIBJyV-d6x0bFoID-Zv1lYNS4LK; p=FWSM7ysoJqrQRyJKlPMebjpUWZgP0mmSiQFa4lIefiy5mWRs; _session_id2=95a8c537cdfc330d0d67489207d2fb4e',\n",
    "'If-None-Match': 'W/\"656e01f96c055e677f1eb0f548dc54d4\"'}"
   ]
  },
  {
   "cell_type": "code",
   "execution_count": 32,
   "metadata": {
    "collapsed": false
   },
   "outputs": [
    {
     "name": "stdout",
     "output_type": "stream",
     "text": [
      "['1634 The Baltic War (Assiti Shards, #5)', 'Lost in a Good Book (Thursday Next, #2)', 'Weapons of Choice (Axis of Time, #1)', 'Anno Dracula (Anno Dracula, #1)', 'The Peshawar Lancers (Paperback)', 'Into the Storm (Destroyermen, #1)', 'Against the Tide of Years (Nantucket, #2)', 'Ruled Britannia (Paperback)', 'Ink and Bone (The Great Library, #1)', 'Down to Earth (Colonization, #2)', \"Ha'penny (Small Change, #2)\", 'Dies the Fire (Emberverse, #1)', 'Blameless (Parasol Protectorate, #3)', 'Etiquette & Espionage (Finishing School, #1)', 'Aftershocks (Colonization, #3)', 'On the Oceans of Eternity (Nantucket, #3)', 'Red Prophet (Tales of Alvin Maker, #2)', 'Conquistador (Mass Market Paperback)', 'Ring of Fire (Ring of Fire Anthology, #1)', \"Hitler's War (The War That Came Early, #1)\", \"Kushiel's Dart (Phèdre's Trilogy, #1)\", 'Blood of Tyrants (Temeraire, #8)', 'Thirteenth Child (Frontier Magic, #1)', 'Prentice Alvin (Tales of Alvin Maker, #3)', 'Dreadnought (The Clockwork Century, #2)', 'Shades of Milk and Honey (Glamourist Histories, #1)', 'Half a Crown (Small Change, #3)', 'Something Rotten (Thursday Next, #4)', 'My Lady Jane (The Lady Janies #1)', 'In the Presence of Mine Enemies (Paperback)', 'Opening Atlantis (Atlantis, #1)', 'Days of Infamy (Days of Infamy, #1)', 'My Real Children (Hardcover)', 'The Rithmatist (The Rithmatist, #1)', 'Designated Targets (Axis of Time, #2)', 'Heartless (Parasol Protectorate, #4)', 'The Well of Lost Plots (Thursday Next #3)', 'The Golden Compass (His Dark Materials, #1)', 'Alvin Journeyman (Tales of Alvin Maker, #4)', 'Dominion (Hardcover)', 'Pavane (Paperback)', 'Hard Magic (Grimnoir Chronicles, #1)', 'Bring the Jubilee (Paperback)', 'Fatherland (Paperback)', 'Leviathan (Leviathan, #1)', 'Marvel 1602 (Paperback)', '1984 (Mass Market Paperback)', 'Cold Magic (Spiritwalker, #1)', 'Homeward Bound (Tosev, #8)', 'The Two Georges (Paperback)']\n"
     ]
    }
   ],
   "source": [
    "r1 = requests.get(\"https://www.goodreads.com/shelf/show/alternate-history?page=2\",headers=cook)\n",
    "soup1 = BeautifulSoup(r1.text, 'lxml')\n",
    "book_links1 = soup1.find_all(\"a\", {\"class\", \"bookTitle\"})\n",
    "print([l.text for l in book_links1])"
   ]
  },
  {
   "cell_type": "code",
   "execution_count": 5,
   "metadata": {
    "collapsed": false
   },
   "outputs": [
    {
     "name": "stdout",
     "output_type": "stream",
     "text": [
      "['The Man in the High Castle (Paperback)', \"His Majesty's Dragon (Temeraire, #1)\", 'Leviathan (Leviathan, #1)', 'Jonathan Strange & Mr Norrell (Paperback)', 'Throne of Jade (Temeraire, #2)', 'Fatherland (Paperback)', '1632 (Assiti Shards, #1)', '11/22/63 (Hardcover)', 'The Guns of the South (Mass Market Paperback)', 'Black Powder War (Temeraire, #3)', 'Behemoth (Leviathan, #2)', 'The Years of Rice and Salt (Mass Market Paperback)', 'The Eyre Affair (Thursday Next, #1)', 'Boneshaker (The Clockwork Century, #1)', 'Empire of Ivory (Temeraire, #4)', 'Farthing (Small Change, #1)', 'How Few Remain: A Novel of the Second War Between the States (Timeline-191, #1)', 'Victory of Eagles (Temeraire, #5)', 'Abraham Lincoln: Vampire Hunter (Hardcover)', 'In the Balance (Worldwar, #1)', 'Soulless (Parasol Protectorate, #1)', 'The Plot Against America (Paperback)', 'Goliath (Leviathan, #3)', 'Watchmen (Paperback)', 'American Front (The Great War, #1)', 'Wolf by Wolf (Wolf by Wolf, #1)', 'Island in the Sea of Time (Nantucket, #1)', 'Walk in Hell (Great War, #2)', 'Tongues of Serpents (Temeraire, #6)', 'Tilting the Balance (Worldwar, #2)', 'Blood & Iron (American Empire, #1)', 'Seventh Son (Tales of Alvin Maker, #1)', 'Breakthroughs (The Great War, #3)', 'Underground Airlines (Hardcover)', 'Striking the Balance (Worldwar, #4)', 'Upsetting the Balance (Worldwar, #3)', 'The Center Cannot Hold (American Empire, #2)', 'Drive to the East (Settling Accounts, #2)', 'Bitter Seeds (The Milkweed Triptych, #1)', 'The Grapple (Settling Accounts, #3)', 'Return Engagement (Settling Accounts, #1)', 'Crucible of Gold (Temeraire, #7)', 'The Victorious Opposition (American Empire, #3)', 'Changeless (Parasol Protectorate, #2)', 'The Difference Engine  (Paperback)', 'World War Z: An Oral History of the Zombie War (Hardcover)', 'In at the Death (Settling Accounts, #4)', 'Second Contact (Colonization, #1)']\n"
     ]
    }
   ],
   "source": [
    "r2 = s.get(r\"https://www.goodreads.com/shelf/show/alternate-history?page=2\")\n",
    "soup2 = BeautifulSoup(r2.text, 'lxml')\n",
    "book_links2 = soup2.find_all(\"a\", {\"class\", \"bookTitle\"})\n",
    "print([l.text for l in book_links2])"
   ]
  },
  {
   "cell_type": "code",
   "execution_count": 6,
   "metadata": {
    "collapsed": false
   },
   "outputs": [
    {
     "name": "stdout",
     "output_type": "stream",
     "text": [
      "['The Man in the High Castle (Paperback)', \"His Majesty's Dragon (Temeraire, #1)\", 'Leviathan (Leviathan, #1)', 'Jonathan Strange & Mr Norrell (Paperback)', 'Throne of Jade (Temeraire, #2)', 'Fatherland (Paperback)', '1632 (Assiti Shards, #1)', '11/22/63 (Hardcover)', 'The Guns of the South (Mass Market Paperback)', 'Black Powder War (Temeraire, #3)', 'Behemoth (Leviathan, #2)', 'The Years of Rice and Salt (Mass Market Paperback)', 'The Eyre Affair (Thursday Next, #1)', 'Boneshaker (The Clockwork Century, #1)', 'Empire of Ivory (Temeraire, #4)', 'Farthing (Small Change, #1)', 'How Few Remain: A Novel of the Second War Between the States (Timeline-191, #1)', 'Victory of Eagles (Temeraire, #5)', 'Abraham Lincoln: Vampire Hunter (Hardcover)', 'In the Balance (Worldwar, #1)', 'Soulless (Parasol Protectorate, #1)', 'The Plot Against America (Paperback)', 'Goliath (Leviathan, #3)', 'Watchmen (Paperback)', 'American Front (The Great War, #1)', 'Wolf by Wolf (Wolf by Wolf, #1)', 'Island in the Sea of Time (Nantucket, #1)', 'Walk in Hell (Great War, #2)', 'Tongues of Serpents (Temeraire, #6)', 'Tilting the Balance (Worldwar, #2)', 'Blood & Iron (American Empire, #1)', 'Seventh Son (Tales of Alvin Maker, #1)', 'Breakthroughs (The Great War, #3)', 'Underground Airlines (Hardcover)', 'Striking the Balance (Worldwar, #4)', 'Upsetting the Balance (Worldwar, #3)', 'The Center Cannot Hold (American Empire, #2)', 'Drive to the East (Settling Accounts, #2)', 'Bitter Seeds (The Milkweed Triptych, #1)', 'The Grapple (Settling Accounts, #3)', 'Return Engagement (Settling Accounts, #1)', 'Crucible of Gold (Temeraire, #7)', 'The Victorious Opposition (American Empire, #3)', 'Changeless (Parasol Protectorate, #2)', 'The Difference Engine  (Paperback)', 'World War Z: An Oral History of the Zombie War (Hardcover)', 'In at the Death (Settling Accounts, #4)', 'Second Contact (Colonization, #1)']\n"
     ]
    }
   ],
   "source": [
    "r2_wo_https = s.get(r\"http://www.goodreads.com/shelf/show/alternate-history?page=2\")\n",
    "soup2_wo_https = BeautifulSoup(r2_wo_https.text, 'lxml')\n",
    "book_links2_wo_https = soup2_wo_https.find_all(\"a\", {\"class\", \"bookTitle\"})\n",
    "print([l.text for l in book_links2_wo_https])"
   ]
  },
  {
   "cell_type": "code",
   "execution_count": 13,
   "metadata": {
    "collapsed": false
   },
   "outputs": [
    {
     "name": "stdout",
     "output_type": "stream",
     "text": [
      "['The Man in the High Castle (Paperback)', \"His Majesty's Dragon (Temeraire, #1)\", 'Leviathan (Leviathan, #1)', 'Jonathan Strange & Mr Norrell (Paperback)', 'Throne of Jade (Temeraire, #2)', 'Fatherland (Paperback)', '1632 (Assiti Shards, #1)', '11/22/63 (Hardcover)', 'The Guns of the South (Mass Market Paperback)', 'Black Powder War (Temeraire, #3)', 'Behemoth (Leviathan, #2)', 'The Years of Rice and Salt (Mass Market Paperback)', 'The Eyre Affair (Thursday Next, #1)', 'Boneshaker (The Clockwork Century, #1)', 'Empire of Ivory (Temeraire, #4)', 'Farthing (Small Change, #1)', 'How Few Remain: A Novel of the Second War Between the States (Timeline-191, #1)', 'Victory of Eagles (Temeraire, #5)', 'Abraham Lincoln: Vampire Hunter (Hardcover)', 'In the Balance (Worldwar, #1)', 'Soulless (Parasol Protectorate, #1)', 'The Plot Against America (Paperback)', 'Goliath (Leviathan, #3)', 'Watchmen (Paperback)', 'American Front (The Great War, #1)', 'Wolf by Wolf (Wolf by Wolf, #1)', 'Island in the Sea of Time (Nantucket, #1)', 'Walk in Hell (Great War, #2)', 'Tongues of Serpents (Temeraire, #6)', 'Tilting the Balance (Worldwar, #2)', 'Blood & Iron (American Empire, #1)', 'Seventh Son (Tales of Alvin Maker, #1)', 'Breakthroughs (The Great War, #3)', 'Underground Airlines (Hardcover)', 'Striking the Balance (Worldwar, #4)', 'Upsetting the Balance (Worldwar, #3)', 'The Center Cannot Hold (American Empire, #2)', 'Drive to the East (Settling Accounts, #2)', 'Bitter Seeds (The Milkweed Triptych, #1)', 'The Grapple (Settling Accounts, #3)', 'Return Engagement (Settling Accounts, #1)', 'Crucible of Gold (Temeraire, #7)', 'The Victorious Opposition (American Empire, #3)', 'Changeless (Parasol Protectorate, #2)', 'The Difference Engine  (Paperback)', 'World War Z: An Oral History of the Zombie War (Hardcover)', 'In at the Death (Settling Accounts, #4)', 'Second Contact (Colonization, #1)']\n"
     ]
    }
   ],
   "source": [
    "params = {\"page\": '2'}\n",
    "r2_param = s.get(r\"http://www.goodreads.com/shelf/show/alternate-history\", params = params)\n",
    "soup2_param = BeautifulSoup(r2_param.text, 'lxml')\n",
    "book_links2_param = soup2_param.find_all(\"a\", {\"class\", \"bookTitle\"})\n",
    "print([l.text for l in book_links2_param])"
   ]
  },
  {
   "cell_type": "code",
   "execution_count": null,
   "metadata": {
    "collapsed": true
   },
   "outputs": [],
   "source": []
  }
 ],
 "metadata": {
  "kernelspec": {
   "display_name": "Python 3",
   "language": "python",
   "name": "python3"
  },
  "language_info": {
   "codemirror_mode": {
    "name": "ipython",
    "version": 3
   },
   "file_extension": ".py",
   "mimetype": "text/x-python",
   "name": "python",
   "nbconvert_exporter": "python",
   "pygments_lexer": "ipython3",
   "version": "3.6.0"
  }
 },
 "nbformat": 4,
 "nbformat_minor": 2
}
