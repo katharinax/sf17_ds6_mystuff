{
 "cells": [
  {
   "cell_type": "code",
   "execution_count": 2,
   "metadata": {
    "collapsed": true
   },
   "outputs": [],
   "source": [
    "import numpy as np"
   ]
  },
  {
   "cell_type": "code",
   "execution_count": 8,
   "metadata": {
    "collapsed": false
   },
   "outputs": [
    {
     "name": "stdout",
     "output_type": "stream",
     "text": [
      "0.12533804166666707\n"
     ]
    }
   ],
   "source": [
    "import numpy as np\n",
    "counter = 0\n",
    "for i in range(10000):\n",
    "    a = np.random.randint(0, 7200)\n",
    "    if a <= 3600:\n",
    "        pass\n",
    "    if a > 3600:\n",
    "        counter += ((a - 3600) / 7200)\n",
    "prob = counter / 10000\n",
    "print(prob) #0.126"
   ]
  },
  {
   "cell_type": "markdown",
   "metadata": {},
   "source": [
    "#plot solutoin\n",
    "\n",
    "A:  [.....A.....]\n",
    "B:        [.....B.....]\n",
    "\n",
    "A+B:  [.....AB.....]\n",
    "\n",
    "P(A9-10 = .5\n",
    "P(B9-10) = .5\n",
    "P(A9-10 and B9-10) = .5*.5 = .25\n",
    "\n",
    "Within the one hour interesection, there is a 50% chance that A will arrive after B (hard to plot in markdown) so the final answer is:\n",
    "P(B<A) = .5*.25 = .125"
   ]
  },
  {
   "cell_type": "code",
   "execution_count": 9,
   "metadata": {
    "collapsed": true
   },
   "outputs": [],
   "source": [
    "#2 ping pong"
   ]
  },
  {
   "cell_type": "code",
   "execution_count": null,
   "metadata": {
    "collapsed": true
   },
   "outputs": [],
   "source": []
  }
 ],
 "metadata": {
  "kernelspec": {
   "display_name": "Python 3",
   "language": "python",
   "name": "python3"
  },
  "language_info": {
   "codemirror_mode": {
    "name": "ipython",
    "version": 3
   },
   "file_extension": ".py",
   "mimetype": "text/x-python",
   "name": "python",
   "nbconvert_exporter": "python",
   "pygments_lexer": "ipython3",
   "version": "3.6.0"
  }
 },
 "nbformat": 4,
 "nbformat_minor": 2
}
