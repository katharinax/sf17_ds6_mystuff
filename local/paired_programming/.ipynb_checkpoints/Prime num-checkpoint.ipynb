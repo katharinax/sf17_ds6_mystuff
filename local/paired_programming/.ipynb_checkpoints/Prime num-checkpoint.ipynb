{
 "cells": [
  {
   "cell_type": "code",
   "execution_count": 34,
   "metadata": {
    "collapsed": true
   },
   "outputs": [],
   "source": [
    "#What is the largest prime factor of the number 600851475143 ?"
   ]
  },
  {
   "cell_type": "code",
   "execution_count": 54,
   "metadata": {
    "collapsed": false
   },
   "outputs": [
    {
     "data": {
      "text/plain": [
       "486847"
      ]
     },
     "execution_count": 54,
     "metadata": {},
     "output_type": "execute_result"
    }
   ],
   "source": [
    "#method I\n",
    "import numpy as np\n",
    "num = 600851475143\n",
    "max1 = 500000\n",
    "\n",
    "def largest_prime(num, max_to_check):\n",
    "    set1 = set()\n",
    "    for i in range(2, 8):\n",
    "        for j in range(i*2, max1, i):\n",
    "            set1.add(j)\n",
    "    #print(set1)\n",
    "\n",
    "    primes = [x for x in range(2, max1) if x not in set1]\n",
    "    #print(primes)\n",
    "    \n",
    "    for prime in primes[::-1]:\n",
    "        if num % prime == 0:\n",
    "            return prime\n",
    "        \n",
    "largest_prime(num, max1)"
   ]
  },
  {
   "cell_type": "code",
   "execution_count": 55,
   "metadata": {
    "collapsed": false
   },
   "outputs": [
    {
     "data": {
      "text/plain": [
       "486847"
      ]
     },
     "execution_count": 55,
     "metadata": {},
     "output_type": "execute_result"
    }
   ],
   "source": [
    "#method II (http://stackoverflow.com/questions/567222/simple-prime-generator-in-python)\n",
    "import numpy as np\n",
    "num = 600851475143\n",
    "max1 = int(np.ceil(np.sqrt(num)))\n",
    "#print(max1)\n",
    "\n",
    "def largest_prime(num):\n",
    "    for x in range(max1, 2-1, -1):\n",
    "        #print(x)\n",
    "        if num % x == 0: \n",
    "            return x\n",
    "largest_prime(num)\n"
   ]
  },
  {
   "cell_type": "code",
   "execution_count": 44,
   "metadata": {
    "collapsed": false
   },
   "outputs": [
    {
     "name": "stdout",
     "output_type": "stream",
     "text": [
      "775147\n"
     ]
    }
   ],
   "source": [
    "#generate prime - method III (from Sonal)\n",
    "#TBD"
   ]
  },
  {
   "cell_type": "code",
   "execution_count": null,
   "metadata": {
    "collapsed": true
   },
   "outputs": [],
   "source": []
  }
 ],
 "metadata": {
  "kernelspec": {
   "display_name": "Python 3",
   "language": "python",
   "name": "python3"
  },
  "language_info": {
   "codemirror_mode": {
    "name": "ipython",
    "version": 3
   },
   "file_extension": ".py",
   "mimetype": "text/x-python",
   "name": "python",
   "nbconvert_exporter": "python",
   "pygments_lexer": "ipython3",
   "version": "3.6.0"
  }
 },
 "nbformat": 4,
 "nbformat_minor": 2
}
