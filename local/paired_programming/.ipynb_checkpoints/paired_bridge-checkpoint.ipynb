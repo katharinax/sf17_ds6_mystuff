{
 "cells": [
  {
   "cell_type": "code",
   "execution_count": 1,
   "metadata": {
    "collapsed": true
   },
   "outputs": [],
   "source": [
    "import numpy as np\n",
    "import pandas as pd"
   ]
  },
  {
   "cell_type": "code",
   "execution_count": 10,
   "metadata": {
    "collapsed": true
   },
   "outputs": [],
   "source": [
    "def cross_bridge(time_list):\n",
    "    sorted_li = sorted(time_list)\n",
    "    time_needed = 0\n",
    "    n_pp = len(sorted_li)\n",
    "    for i in range(1, n_pp):\n",
    "        time_needed += sorted_li[i]\n",
    "    time_needed += ((n_pp - 2) * sorted_li[0])\n",
    "    return time_needed"
   ]
  },
  {
   "cell_type": "code",
   "execution_count": 14,
   "metadata": {
    "collapsed": false
   },
   "outputs": [
    {
     "data": {
      "text/plain": [
       "45"
      ]
     },
     "execution_count": 14,
     "metadata": {},
     "output_type": "execute_result"
    }
   ],
   "source": [
    "cross_bridge([1, 1, 10, 10, 10, 10])"
   ]
  },
  {
   "cell_type": "code",
   "execution_count": 39,
   "metadata": {
    "collapsed": true
   },
   "outputs": [],
   "source": [
    "def cross_bridge2(time_list):\n",
    "    staying = time_list\n",
    "    arriving = []\n",
    "    n_pp = len(time_list)\n",
    "    time_needed = 0\n",
    "    for i in range(n_pp - 1):\n",
    "        # send a pair over\n",
    "        if i == 0:\n",
    "            sorted_staying = sorted(staying)\n",
    "        else:\n",
    "            sorted_staying = sorted(staying, reverse = True)\n",
    "        arriving += sorted_staying[:2]\n",
    "        time_needed += sorted_staying[0]\n",
    "        staying.remove(sorted_staying[0])\n",
    "        time_needed += sorted_staying[1]\n",
    "        staying.remove(sorted_staying[1])\n",
    "        print(\"staying\", staying, \"arriving\", arriving)\n",
    "        \n",
    "        # send fastest back\n",
    "        sorted_arriving = sorted(arriving)\n",
    "        staying += [sorted_arriving[0]]\n",
    "        time_needed += sorted_arriving[0]\n",
    "        arriving.remove(sorted_arriving[0])\n",
    "        print(\"staying\", staying, \"arriving\", arriving, \"\\n\")\n",
    "    return time_needed"
   ]
  },
  {
   "cell_type": "code",
   "execution_count": 40,
   "metadata": {
    "collapsed": false
   },
   "outputs": [
    {
     "name": "stdout",
     "output_type": "stream",
     "text": [
      "staying [10, 10, 10, 10] arriving [1, 1]\n",
      "staying [10, 10, 10, 10, 1] arriving [1] \n",
      "\n",
      "staying [10, 10, 1] arriving [1, 10, 10]\n",
      "staying [10, 10, 1, 1] arriving [10, 10] \n",
      "\n",
      "staying [1, 1] arriving [10, 10, 10, 10]\n",
      "staying [1, 1, 10] arriving [10, 10, 10] \n",
      "\n",
      "staying [1] arriving [10, 10, 10, 10, 1]\n",
      "staying [1, 1] arriving [10, 10, 10, 10] \n",
      "\n",
      "staying [] arriving [10, 10, 10, 10, 1, 1]\n",
      "staying [1] arriving [10, 10, 10, 10, 1] \n",
      "\n"
     ]
    },
    {
     "data": {
      "text/plain": [
       "69"
      ]
     },
     "execution_count": 40,
     "metadata": {},
     "output_type": "execute_result"
    }
   ],
   "source": [
    "cross_bridge2([1, 1, 10, 10, 10, 10])"
   ]
  },
  {
   "cell_type": "code",
   "execution_count": 53,
   "metadata": {
    "collapsed": false
   },
   "outputs": [],
   "source": [
    "def cross_bridge3(time_list):\n",
    "    staying = time_list\n",
    "    arriving = []\n",
    "    n_pp = len(time_list)\n",
    "    time_needed = 0\n",
    "    for i in range(n_pp - 1):\n",
    "        # send a pair over\n",
    "        if i % 2 == 0:\n",
    "            sorted_staying = sorted(staying)\n",
    "        else:\n",
    "            sorted_staying = sorted(staying, reverse = True)\n",
    "        time_needed += max(sorted_staying[:2])\n",
    "        arriving += sorted_staying[:2]\n",
    "        staying.remove(sorted_staying[0])\n",
    "        staying.remove(sorted_staying[1])\n",
    "        print(\"staying\", staying, \"arriving\", arriving)\n",
    "        \n",
    "        if staying == []:\n",
    "            break\n",
    "            \n",
    "        # send fastest back\n",
    "        sorted_arriving = sorted(arriving)       \n",
    "        time_needed += sorted_arriving[0]\n",
    "        staying += [sorted_arriving[0]]\n",
    "        arriving.remove(sorted_arriving[0])\n",
    "        print(\"staying\", staying, \"arriving\", arriving, \"\\n\")\n",
    "    return time_needed"
   ]
  },
  {
   "cell_type": "code",
   "execution_count": 54,
   "metadata": {
    "collapsed": false
   },
   "outputs": [
    {
     "name": "stdout",
     "output_type": "stream",
     "text": [
      "staying [10, 10, 10, 10] arriving [1, 1]\n",
      "staying [10, 10, 10, 10, 1] arriving [1] \n",
      "\n",
      "staying [10, 10, 1] arriving [1, 10, 10]\n",
      "staying [10, 10, 1, 1] arriving [10, 10] \n",
      "\n",
      "staying [10, 10] arriving [10, 10, 1, 1]\n",
      "staying [10, 10, 1] arriving [10, 10, 1] \n",
      "\n",
      "staying [1] arriving [10, 10, 1, 10, 10]\n",
      "staying [1, 1] arriving [10, 10, 10, 10] \n",
      "\n",
      "staying [] arriving [10, 10, 10, 10, 1, 1]\n"
     ]
    },
    {
     "data": {
      "text/plain": [
       "27"
      ]
     },
     "execution_count": 54,
     "metadata": {},
     "output_type": "execute_result"
    }
   ],
   "source": [
    "cross_bridge3([1, 1, 10, 10, 10, 10])"
   ]
  },
  {
   "cell_type": "code",
   "execution_count": 47,
   "metadata": {
    "collapsed": true
   },
   "outputs": [],
   "source": [
    "# Guo's answer\n",
    "def bridge_cross(list1):\n",
    "    list2 = []\n",
    "    list1 = sorted(list1)\n",
    "    time = 0\n",
    "    while list1:       \n",
    "        a = list1.pop(0)\n",
    "        b = list1.pop(0)\n",
    "        list2.insert(0,b)\n",
    "        list2.insert(0,a)\n",
    "        time +=b\n",
    "        if not list1:\n",
    "            break\n",
    "\n",
    "        c = list2.pop(0)\n",
    "        list1.insert(0, c)\n",
    "        time +=c\n",
    "\n",
    "        d = list1.pop(-1)\n",
    "        e = list1.pop(-1)\n",
    "        list2.extend([d,e])\n",
    "        time+=d\n",
    "        if not list1:\n",
    "            break\n",
    "        \n",
    "        f = list2.pop(0)\n",
    "        list1.insert(1, f)\n",
    "        time+=f\n",
    "    return time"
   ]
  },
  {
   "cell_type": "code",
   "execution_count": 48,
   "metadata": {
    "collapsed": false
   },
   "outputs": [
    {
     "data": {
      "text/plain": [
       "27"
      ]
     },
     "execution_count": 48,
     "metadata": {},
     "output_type": "execute_result"
    }
   ],
   "source": [
    "bridge_cross([1, 1, 10, 10, 10, 10])"
   ]
  },
  {
   "cell_type": "code",
   "execution_count": null,
   "metadata": {
    "collapsed": true
   },
   "outputs": [],
   "source": []
  }
 ],
 "metadata": {
  "kernelspec": {
   "display_name": "Python 3",
   "language": "python",
   "name": "python3"
  },
  "language_info": {
   "codemirror_mode": {
    "name": "ipython",
    "version": 3
   },
   "file_extension": ".py",
   "mimetype": "text/x-python",
   "name": "python",
   "nbconvert_exporter": "python",
   "pygments_lexer": "ipython3",
   "version": "3.6.0"
  }
 },
 "nbformat": 4,
 "nbformat_minor": 2
}
