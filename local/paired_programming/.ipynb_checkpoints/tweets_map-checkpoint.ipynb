{
 "cells": [
  {
   "cell_type": "code",
   "execution_count": 56,
   "metadata": {
    "collapsed": false
   },
   "outputs": [],
   "source": [
    "import numpy as np\n",
    "import pandas as pd\n",
    "import pprint\n",
    "import sys\n",
    "import json"
   ]
  },
  {
   "cell_type": "code",
   "execution_count": 59,
   "metadata": {
    "collapsed": true
   },
   "outputs": [],
   "source": [
    "for line in sys.stdin:\n",
    "    try:\n",
    "        username = eval(line)['user']['screen_name']\n",
    "        # pprint.pprint(username)\n",
    "        print(\"{}\\t{}\".format(username, 1))\n",
    "    except:\n",
    "        pass"
   ]
  },
  {
   "cell_type": "code",
   "execution_count": 61,
   "metadata": {
    "collapsed": false
   },
   "outputs": [
    {
     "name": "stdout",
     "output_type": "stream",
     "text": [
      "JennZimm72\t1\n",
      "EXINMUSICA\t1\n",
      "RobinToubac\t1\n",
      "NuriaMariaT\t1\n",
      "RedPaTo2\t1\n",
      "IBMBigDataUK\t1\n",
      "ValueRecovery\t1\n",
      "anhldbk\t1\n",
      "___louder\t1\n",
      "daniel_junior_s\t1\n",
      "hoisamu0619\t1\n",
      "JennZimm72\t1\n",
      "EXINMUSICA\t1\n",
      "RobinToubac\t1\n",
      "NuriaMariaT\t1\n",
      "JennZimm72\t1\n",
      "EXINMUSICA\t1\n",
      "RobinToubac\t1\n",
      "NuriaMariaT\t1\n",
      "RedPaTo2\t1\n",
      "IBMBigDataUK\t1\n",
      "ValueRecovery\t1\n",
      "anhldbk\t1\n",
      "___louder\t1\n",
      "JennZimm72\t1\n"
     ]
    }
   ],
   "source": [
    "with open('input.txt') as f:\n",
    "    for line in f.readlines():\n",
    "        try:\n",
    "            username = eval(line)['user']['screen_name']\n",
    "            # pprint.pprint(username)\n",
    "            print(\"{}\\t{}\".format(username, 1))\n",
    "        except:\n",
    "            pass"
   ]
  },
  {
   "cell_type": "code",
   "execution_count": null,
   "metadata": {
    "collapsed": true
   },
   "outputs": [],
   "source": []
  }
 ],
 "metadata": {
  "kernelspec": {
   "display_name": "Python 3",
   "language": "python",
   "name": "python3"
  },
  "language_info": {
   "codemirror_mode": {
    "name": "ipython",
    "version": 3
   },
   "file_extension": ".py",
   "mimetype": "text/x-python",
   "name": "python",
   "nbconvert_exporter": "python",
   "pygments_lexer": "ipython3",
   "version": "3.6.0"
  }
 },
 "nbformat": 4,
 "nbformat_minor": 2
}
