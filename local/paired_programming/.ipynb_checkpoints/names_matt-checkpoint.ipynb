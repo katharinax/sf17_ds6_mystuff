{
 "cells": [
  {
   "cell_type": "code",
   "execution_count": 70,
   "metadata": {
    "collapsed": false
   },
   "outputs": [],
   "source": [
    "import numpy as np\n",
    "import pandas as pd\n",
    "import matplotlib.pyplot as plt\n",
    "import wget\n",
    "from itertools import permutations\n",
    "%matplotlib inline"
   ]
  },
  {
   "cell_type": "code",
   "execution_count": 107,
   "metadata": {
    "collapsed": false
   },
   "outputs": [],
   "source": [
    "words = set(pd.read_csv(\"http://norvig.com/ngrams/enable1.txt\", header=None).iloc[:, 0].tolist())"
   ]
  },
  {
   "cell_type": "code",
   "execution_count": 44,
   "metadata": {
    "collapsed": true
   },
   "outputs": [],
   "source": [
    "name = \"azb\""
   ]
  },
  {
   "cell_type": "code",
   "execution_count": 45,
   "metadata": {
    "collapsed": true
   },
   "outputs": [],
   "source": [
    "def get_username(name):\n",
    "    name = name.split(\" \")\n",
    "    name = \"\".join(name).lower()\n",
    "    \n",
    "    if name in words:\n",
    "        return name\n",
    "    else:\n",
    "        for name_minus_one in take_out_one(name):\n",
    "            if name_minus_one in words:\n",
    "                return name_minus_one\n",
    "    #print(name)"
   ]
  },
  {
   "cell_type": "code",
   "execution_count": 46,
   "metadata": {
    "collapsed": false
   },
   "outputs": [
    {
     "data": {
      "text/plain": [
       "'ab'"
      ]
     },
     "execution_count": 46,
     "metadata": {},
     "output_type": "execute_result"
    }
   ],
   "source": [
    "get_username(name)"
   ]
  },
  {
   "cell_type": "code",
   "execution_count": 33,
   "metadata": {
    "collapsed": true
   },
   "outputs": [],
   "source": [
    "def take_out_one(string):\n",
    "    li = []\n",
    "    for index in range(len(string)):\n",
    "         li += [string[:index] + string[index + 1:]]\n",
    "    return li"
   ]
  },
  {
   "cell_type": "code",
   "execution_count": 35,
   "metadata": {
    "collapsed": false
   },
   "outputs": [
    {
     "data": {
      "text/plain": [
       "['cde', 'bde', 'bce', 'bcd']"
      ]
     },
     "execution_count": 35,
     "metadata": {},
     "output_type": "execute_result"
    }
   ],
   "source": [
    "string = \"bcde\"\n",
    "take_out_one(string)"
   ]
  },
  {
   "cell_type": "code",
   "execution_count": null,
   "metadata": {
    "collapsed": true
   },
   "outputs": [],
   "source": [
    "def get_username(name):\n",
    "    final_li = []\n",
    "    name = name.split(\" \")\n",
    "    name = \"\".join(name).lower()\n",
    "    \n",
    "    if name in words:\n",
    "        return name\n",
    "    else:\n",
    "        minus_ones = take_out_one(name)\n",
    "        for minus_one in minus_ones:\n",
    "            if minus_one in words:\n",
    "                final_li.append(minus_one)\n",
    "        if len(final_li) == 0:\n",
    "            return get_username2(take_out_one(minus_ones))\n",
    "        else:\n",
    "            return final_li\n",
    "    #print(name)"
   ]
  },
  {
   "cell_type": "code",
   "execution_count": 49,
   "metadata": {
    "collapsed": true
   },
   "outputs": [],
   "source": [
    "def get_username2(li_names):\n",
    "    final_li = []\n",
    "    for name in li_names:\n",
    "        if name in words:\n",
    "            final_li.append(name)\n",
    "    return final_li"
   ]
  },
  {
   "cell_type": "code",
   "execution_count": 54,
   "metadata": {
    "collapsed": false
   },
   "outputs": [
    {
     "data": {
      "text/plain": [
       "['ab', 'aby']"
      ]
     },
     "execution_count": 54,
     "metadata": {},
     "output_type": "execute_result"
    }
   ],
   "source": [
    "get_username2(['ab', 'aby'])"
   ]
  },
  {
   "cell_type": "code",
   "execution_count": 73,
   "metadata": {
    "collapsed": true
   },
   "outputs": [],
   "source": [
    "def clean_name(name):\n",
    "    name = name.split(\" \")\n",
    "    name = \"\".join(name).lower()\n",
    "    return name"
   ]
  },
  {
   "cell_type": "code",
   "execution_count": 74,
   "metadata": {
    "collapsed": true
   },
   "outputs": [],
   "source": [
    "def check_one_name(name):\n",
    "    if name in words:\n",
    "        return name"
   ]
  },
  {
   "cell_type": "code",
   "execution_count": 75,
   "metadata": {
    "collapsed": true
   },
   "outputs": [],
   "source": [
    "def check_li_of_names(li_names):\n",
    "    final_li = []\n",
    "    for name in li_names:\n",
    "        final_li.append(check_one_name(name))\n",
    "    return final_li"
   ]
  },
  {
   "cell_type": "code",
   "execution_count": 76,
   "metadata": {
    "collapsed": true
   },
   "outputs": [],
   "source": [
    "def take_out_one(li_names):\n",
    "    li = []\n",
    "    for string in li_names:\n",
    "        for index in range(len(string)):\n",
    "             li += [string[:index] + string[index + 1:]]\n",
    "    return li"
   ]
  },
  {
   "cell_type": "code",
   "execution_count": 72,
   "metadata": {
    "collapsed": false
   },
   "outputs": [
    {
     "data": {
      "text/plain": [
       "['onald',\n",
       " 'Dnald',\n",
       " 'Doald',\n",
       " 'Donld',\n",
       " 'Donad',\n",
       " 'Donal',\n",
       " 'nuth',\n",
       " 'Kuth',\n",
       " 'Knth',\n",
       " 'Knuh',\n",
       " 'Knut']"
      ]
     },
     "execution_count": 72,
     "metadata": {},
     "output_type": "execute_result"
    }
   ],
   "source": [
    "take_out_one([\"Donald\", \"Knuth\"])"
   ]
  },
  {
   "cell_type": "code",
   "execution_count": 114,
   "metadata": {
    "collapsed": true
   },
   "outputs": [],
   "source": [
    "#This incorporates Andrew's set() idea, but it gives wrong answers:(\n",
    "def recursive(name):\n",
    "    if type(name) != type([]):\n",
    "        clean_name(name)\n",
    "        name = [name]\n",
    "    check_result = check_li_of_names(name)\n",
    "    #print(check_result)\n",
    "    if all(v is None for v in check_result):\n",
    "        return recursive(take_out_one(name))\n",
    "    else:\n",
    "        return set([v.capitalize() for v in check_result if (v is None) == False])"
   ]
  },
  {
   "cell_type": "code",
   "execution_count": 115,
   "metadata": {
    "collapsed": false
   },
   "outputs": [
    {
     "data": {
      "text/plain": [
       "{'Oath'}"
      ]
     },
     "execution_count": 115,
     "metadata": {},
     "output_type": "execute_result"
    }
   ],
   "source": [
    "recursive(\"Donald Knuth\")"
   ]
  },
  {
   "cell_type": "code",
   "execution_count": null,
   "metadata": {
    "collapsed": true
   },
   "outputs": [],
   "source": []
  },
  {
   "cell_type": "code",
   "execution_count": null,
   "metadata": {
    "collapsed": true
   },
   "outputs": [],
   "source": [
    "def take_out_one(li_names):\n",
    "    li = []\n",
    "    for string in li_names:\n",
    "        if check_one_name(string):\n",
    "            li.append(string)\n",
    "        if len(li) > 0:\n",
    "            return li\n",
    "        else:\n",
    "            for index in range(len(string)):\n",
    "                li += [string[:index] + string[index + 1:]]\n",
    "            return check_li_of_names(li)"
   ]
  },
  {
   "cell_type": "code",
   "execution_count": null,
   "metadata": {
    "collapsed": true
   },
   "outputs": [],
   "source": []
  },
  {
   "cell_type": "code",
   "execution_count": null,
   "metadata": {
    "collapsed": true
   },
   "outputs": [],
   "source": []
  },
  {
   "cell_type": "code",
   "execution_count": null,
   "metadata": {
    "collapsed": true
   },
   "outputs": [],
   "source": []
  },
  {
   "cell_type": "code",
   "execution_count": null,
   "metadata": {
    "collapsed": true
   },
   "outputs": [],
   "source": []
  }
 ],
 "metadata": {
  "kernelspec": {
   "display_name": "Python 3",
   "language": "python",
   "name": "python3"
  },
  "language_info": {
   "codemirror_mode": {
    "name": "ipython",
    "version": 3
   },
   "file_extension": ".py",
   "mimetype": "text/x-python",
   "name": "python",
   "nbconvert_exporter": "python",
   "pygments_lexer": "ipython3",
   "version": "3.6.0"
  }
 },
 "nbformat": 4,
 "nbformat_minor": 2
}
