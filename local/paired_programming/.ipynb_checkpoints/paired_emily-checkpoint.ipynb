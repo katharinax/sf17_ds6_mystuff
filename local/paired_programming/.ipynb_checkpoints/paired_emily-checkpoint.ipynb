{
 "cells": [
  {
   "cell_type": "code",
   "execution_count": 43,
   "metadata": {
    "collapsed": true
   },
   "outputs": [],
   "source": [
    "import numpy as np\n",
    "import pandas as pd\n",
    "import itertools"
   ]
  },
  {
   "cell_type": "code",
   "execution_count": 2,
   "metadata": {
    "collapsed": true
   },
   "outputs": [],
   "source": [
    "a = [[27, 'dog', 5],\n",
    " [19, 'cat', 9],\n",
    " [33, 'bat', 3]]\n",
    "\n",
    "b = [[14, 8, 'elf'],\n",
    " [33, 7, 'fat'],\n",
    " [27, 2, 'rat']]"
   ]
  },
  {
   "cell_type": "code",
   "execution_count": 3,
   "metadata": {
    "collapsed": false
   },
   "outputs": [
    {
     "data": {
      "text/plain": [
       "[[27, 'dog', 5], [19, 'cat', 9], [33, 'bat', 3]]"
      ]
     },
     "execution_count": 3,
     "metadata": {},
     "output_type": "execute_result"
    }
   ],
   "source": [
    "a"
   ]
  },
  {
   "cell_type": "code",
   "execution_count": 53,
   "metadata": {
    "collapsed": false
   },
   "outputs": [],
   "source": [
    "def merge_lists(a, b):\n",
    "    masterindex = set([a[i][0] for i in range(len(a)) if a[i][0] in [b[i][0] for i in range(len(b))]])\n",
    "#     print(masterindex)\n",
    "      \n",
    "    adict = {a[i][0]: a[i][1:] for i in range(len(a))}\n",
    "    bdict = {b[i][0]: b[i][1:] for i in range(len(b))}\n",
    "\n",
    "    dictfinal = {}\n",
    "    \n",
    "    for index in masterindex:\n",
    "        dictfinal[index] = adict[index]\n",
    "        dictfinal[index].extend(bdict[index])\n",
    "\n",
    "    table = [[k] + newdict[k] for k in newdict.keys()]\n",
    "    \n",
    "    return table"
   ]
  },
  {
   "cell_type": "code",
   "execution_count": 54,
   "metadata": {
    "collapsed": false
   },
   "outputs": [
    {
     "data": {
      "text/plain": [
       "[[33, 'bat', 3, 7, 'fat'], [27, 'dog', 5, 2, 'rat']]"
      ]
     },
     "execution_count": 54,
     "metadata": {},
     "output_type": "execute_result"
    }
   ],
   "source": [
    "merge_lists(a, b)"
   ]
  },
  {
   "cell_type": "code",
   "execution_count": 49,
   "metadata": {
    "collapsed": false
   },
   "outputs": [
    {
     "data": {
      "text/plain": [
       "{27: ['dog', 5, 2, 'rat'], 33: ['bat', 3, 7, 'fat']}"
      ]
     },
     "execution_count": 49,
     "metadata": {},
     "output_type": "execute_result"
    }
   ],
   "source": [
    "newdict"
   ]
  },
  {
   "cell_type": "code",
   "execution_count": 51,
   "metadata": {
    "collapsed": true
   },
   "outputs": [],
   "source": [
    "newlist = [[k] + newdict[k] for k in newdict.keys()]"
   ]
  },
  {
   "cell_type": "code",
   "execution_count": 52,
   "metadata": {
    "collapsed": false
   },
   "outputs": [
    {
     "data": {
      "text/plain": [
       "[[33, 'bat', 3, 7, 'fat'], [27, 'dog', 5, 2, 'rat']]"
      ]
     },
     "execution_count": 52,
     "metadata": {},
     "output_type": "execute_result"
    }
   ],
   "source": [
    "newlist"
   ]
  },
  {
   "cell_type": "code",
   "execution_count": null,
   "metadata": {
    "collapsed": true
   },
   "outputs": [],
   "source": [
    "def "
   ]
  }
 ],
 "metadata": {
  "kernelspec": {
   "display_name": "Python 3",
   "language": "python",
   "name": "python3"
  },
  "language_info": {
   "codemirror_mode": {
    "name": "ipython",
    "version": 3
   },
   "file_extension": ".py",
   "mimetype": "text/x-python",
   "name": "python",
   "nbconvert_exporter": "python",
   "pygments_lexer": "ipython3",
   "version": "3.6.0"
  }
 },
 "nbformat": 4,
 "nbformat_minor": 2
}
