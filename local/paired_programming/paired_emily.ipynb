{
 "cells": [
  {
   "cell_type": "code",
   "execution_count": 1,
   "metadata": {
    "collapsed": true
   },
   "outputs": [],
   "source": [
    "import numpy as np\n",
    "import pandas as pd\n",
    "import itertools"
   ]
  },
  {
   "cell_type": "code",
   "execution_count": 2,
   "metadata": {
    "collapsed": true
   },
   "outputs": [],
   "source": [
    "a = [[27, 'dog', 5],\n",
    " [19, 'cat', 9],\n",
    " [33, 'bat', 3]]\n",
    "\n",
    "b = [[14, 8, 'elf'],\n",
    " [33, 7, 'fat'],\n",
    " [27, 2, 'rat']]"
   ]
  },
  {
   "cell_type": "code",
   "execution_count": null,
   "metadata": {
    "collapsed": false
   },
   "outputs": [],
   "source": [
    "a"
   ]
  },
  {
   "cell_type": "code",
   "execution_count": null,
   "metadata": {
    "collapsed": false
   },
   "outputs": [],
   "source": [
    "def merge_lists(a, b):\n",
    "    masterindex = set([a[i][0] for i in range(len(a)) if a[i][0] in [b[i][0] for i in range(len(b))]])\n",
    "#     print(masterindex)\n",
    "      \n",
    "    adict = {a[i][0]: a[i][1:] for i in range(len(a))}\n",
    "    bdict = {b[i][0]: b[i][1:] for i in range(len(b))}\n",
    "\n",
    "    dictfinal = {}\n",
    "    \n",
    "    for index in masterindex:\n",
    "        dictfinal[index] = adict[index]\n",
    "        dictfinal[index].extend(bdict[index])\n",
    "\n",
    "    table = [[k] + newdict[k] for k in newdict.keys()]\n",
    "    \n",
    "    return table"
   ]
  },
  {
   "cell_type": "code",
   "execution_count": null,
   "metadata": {
    "collapsed": false
   },
   "outputs": [],
   "source": [
    "merge_lists(a, b)"
   ]
  },
  {
   "cell_type": "code",
   "execution_count": null,
   "metadata": {
    "collapsed": false
   },
   "outputs": [],
   "source": [
    "newdict"
   ]
  },
  {
   "cell_type": "code",
   "execution_count": null,
   "metadata": {
    "collapsed": true
   },
   "outputs": [],
   "source": [
    "newlist = [[k] + newdict[k] for k in newdict.keys()]"
   ]
  },
  {
   "cell_type": "code",
   "execution_count": null,
   "metadata": {
    "collapsed": false
   },
   "outputs": [],
   "source": [
    "newlist"
   ]
  },
  {
   "cell_type": "markdown",
   "metadata": {
    "collapsed": true
   },
   "source": [
    "# Above uses hash join; implementing merge join below"
   ]
  },
  {
   "cell_type": "code",
   "execution_count": 21,
   "metadata": {
    "collapsed": true
   },
   "outputs": [],
   "source": [
    "def merge_join(a, b):\n",
    "    temp_a = sorted(a)\n",
    "    temp_b = sorted(b)\n",
    "    merged = []\n",
    "    \n",
    "    while temp_a and temp_b:\n",
    "        ele_a = temp_a.pop()\n",
    "        ele_b = temp_b.pop()\n",
    "        if ele_a[0] == ele_b[0]:\n",
    "            merged += [ele_a + ele_b[1:]]  \n",
    "    return merged\n",
    "%timeit merge_join(test1, test2)\n",
    "# 100 loops, best of 3: 4.73 ms per loop\n",
    "# ps. we're on a Pro"
   ]
  },
  {
   "cell_type": "code",
   "execution_count": 22,
   "metadata": {
    "collapsed": false
   },
   "outputs": [
    {
     "data": {
      "text/plain": [
       "[[27, 'dog', 5, 2, 'rat'], [33, 'bat', 3, 7, 'fat']]"
      ]
     },
     "execution_count": 22,
     "metadata": {},
     "output_type": "execute_result"
    }
   ],
   "source": [
    "merge_join(a, b)"
   ]
  },
  {
   "cell_type": "code",
   "execution_count": 32,
   "metadata": {
    "collapsed": false
   },
   "outputs": [],
   "source": [
    "import random\n",
    "random.seed(127)\n",
    "numbers = list(range(10000))\n",
    "random.shuffle(numbers)\n",
    "test1 = [[index] + [random.random() for _ in range(100)] for index in numbers]\n",
    "random.shuffle(numbers)\n",
    "test2 = [[index] + [random.random() for _ in range(100)] for index in numbers]"
   ]
  },
  {
   "cell_type": "code",
   "execution_count": 33,
   "metadata": {
    "collapsed": false
   },
   "outputs": [
    {
     "data": {
      "text/plain": [
       "[4900,\n",
       " 0.43896311005223465,\n",
       " 0.20455452123272821,\n",
       " 0.31810136444382864,\n",
       " 0.8188633371423119]"
      ]
     },
     "execution_count": 33,
     "metadata": {},
     "output_type": "execute_result"
    }
   ],
   "source": [
    "# checking things\n",
    "test2[0][:5]"
   ]
  },
  {
   "cell_type": "code",
   "execution_count": 34,
   "metadata": {
    "collapsed": false
   },
   "outputs": [
    {
     "name": "stdout",
     "output_type": "stream",
     "text": [
      "10 loops, best of 3: 62.7 ms per loop\n"
     ]
    }
   ],
   "source": [
    "%timeit merge_join(test1, test2)"
   ]
  },
  {
   "cell_type": "code",
   "execution_count": null,
   "metadata": {
    "collapsed": true
   },
   "outputs": [],
   "source": []
  },
  {
   "cell_type": "code",
   "execution_count": null,
   "metadata": {
    "collapsed": true
   },
   "outputs": [],
   "source": []
  }
 ],
 "metadata": {
  "kernelspec": {
   "display_name": "Python 3",
   "language": "python",
   "name": "python3"
  },
  "language_info": {
   "codemirror_mode": {
    "name": "ipython",
    "version": 3
   },
   "file_extension": ".py",
   "mimetype": "text/x-python",
   "name": "python",
   "nbconvert_exporter": "python",
   "pygments_lexer": "ipython3",
   "version": "3.6.0"
  }
 },
 "nbformat": 4,
 "nbformat_minor": 2
}
