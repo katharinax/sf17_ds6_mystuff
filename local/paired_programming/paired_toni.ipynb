{
 "cells": [
  {
   "cell_type": "code",
   "execution_count": 1,
   "metadata": {
    "collapsed": true
   },
   "outputs": [],
   "source": [
    "import numpy as np\n",
    "import pandas as pd"
   ]
  },
  {
   "cell_type": "code",
   "execution_count": 4,
   "metadata": {
    "collapsed": false
   },
   "outputs": [
    {
     "data": {
      "text/plain": [
       "(6, 6)"
      ]
     },
     "execution_count": 4,
     "metadata": {},
     "output_type": "execute_result"
    }
   ],
   "source": [
    "dist_mx = np.array([[0, 4, 9, 3, 1, 2],\n",
    "           [4, 0, 2, 1, 4, 2],\n",
    "           [9, 2, 0, 7, 2, 1],\n",
    "           [3, 1, 7, 0, 6, 6],\n",
    "           [1, 4, 2, 6, 0, 2],\n",
    "           [2, 2, 1, 6, 2, 0]])\n",
    "dist_mx\n",
    "dist_mx.shape"
   ]
  },
  {
   "cell_type": "code",
   "execution_count": 8,
   "metadata": {
    "collapsed": true
   },
   "outputs": [],
   "source": [
    "def shortest(city1_index, city2_index):\n",
    "    max_dist = dist_mx[city1_index, city2_index]\n",
    "    for i, x in enumerate(dist_mx[city1_index, :]):\n",
    "        if x > 0 and x < max_dist - 1:\n",
    "            new_dist = x + dist_mx[i, city2_index]\n",
    "            if new_dist < max_dist:\n",
    "                max_dist = new_dist \n",
    "    return max_dist"
   ]
  },
  {
   "cell_type": "code",
   "execution_count": 68,
   "metadata": {
    "collapsed": false
   },
   "outputs": [],
   "source": [
    "def shortest2(city1_index, city2_index, been_to = [], dist_so_far = 0 ):\n",
    "    max_dist = dist_mx[city1_index, city2_index]\n",
    "    print(\"city\", city1_index)\n",
    "    for i, x in enumerate(dist_mx[city1_index, :]):\n",
    "        dist_so_far = max_dist\n",
    "        if x > 0 and x < max_dist - 1 and i not in been_to and x < dist_so_far:\n",
    "            been_to.append(city1_index)\n",
    "            new_dist = x + shortest2(i, city2_index, been_to, )\n",
    "\n",
    "            if new_dist < max_dist:\n",
    "                max_dist = new_dist    \n",
    "             \n",
    "    return max_dist"
   ]
  },
  {
   "cell_type": "code",
   "execution_count": 67,
   "metadata": {
    "collapsed": false
   },
   "outputs": [
    {
     "name": "stdout",
     "output_type": "stream",
     "text": [
      "city 3\n",
      "city 0\n",
      "city 1\n"
     ]
    },
    {
     "data": {
      "text/plain": [
       "3"
      ]
     },
     "execution_count": 67,
     "metadata": {},
     "output_type": "execute_result"
    }
   ],
   "source": [
    "shortest2(3, 5)"
   ]
  },
  {
   "cell_type": "code",
   "execution_count": null,
   "metadata": {
    "collapsed": true
   },
   "outputs": [],
   "source": []
  }
 ],
 "metadata": {
  "kernelspec": {
   "display_name": "Python 3",
   "language": "python",
   "name": "python3"
  },
  "language_info": {
   "codemirror_mode": {
    "name": "ipython",
    "version": 3
   },
   "file_extension": ".py",
   "mimetype": "text/x-python",
   "name": "python",
   "nbconvert_exporter": "python",
   "pygments_lexer": "ipython3",
   "version": "3.6.0"
  }
 },
 "nbformat": 4,
 "nbformat_minor": 2
}
