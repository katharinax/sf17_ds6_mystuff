{
 "cells": [
  {
   "cell_type": "code",
   "execution_count": 51,
   "metadata": {
    "collapsed": true
   },
   "outputs": [],
   "source": [
    "import numpy as np\n",
    "import matplotlib.pyplot as plt\n",
    "%matplotlib inline"
   ]
  },
  {
   "cell_type": "code",
   "execution_count": 6,
   "metadata": {
    "collapsed": true
   },
   "outputs": [],
   "source": [
    "def get_point():\n",
    "    return np.random.rand(1, 2) * 2 "
   ]
  },
  {
   "cell_type": "code",
   "execution_count": 15,
   "metadata": {
    "collapsed": false
   },
   "outputs": [],
   "source": [
    "point = get_point()\n",
    "#point[0][0] "
   ]
  },
  {
   "cell_type": "code",
   "execution_count": 16,
   "metadata": {
    "collapsed": true
   },
   "outputs": [],
   "source": [
    "def check_in_circle(point):\n",
    "    center = [1, 1]\n",
    "    distance = ((point[0][0] - center[0]) ** 2 + (point[0][1] - center[1]) ** 2) ** (1/2)\n",
    "    if distance <= 1:\n",
    "        return True\n",
    "    else:\n",
    "        return False"
   ]
  },
  {
   "cell_type": "code",
   "execution_count": 17,
   "metadata": {
    "collapsed": false
   },
   "outputs": [
    {
     "data": {
      "text/plain": [
       "True"
      ]
     },
     "execution_count": 17,
     "metadata": {},
     "output_type": "execute_result"
    }
   ],
   "source": [
    "check_in_circle(a)"
   ]
  },
  {
   "cell_type": "code",
   "execution_count": 24,
   "metadata": {
    "collapsed": true
   },
   "outputs": [],
   "source": [
    "def simulate_it(num_of_simulation):\n",
    "    counter = 0\n",
    "    for i in range(num_of_simulation):\n",
    "        if check_in_circle(get_point()) == True:\n",
    "            counter += 1\n",
    "    ratio = counter / num_of_simulation\n",
    "    return ratio  "
   ]
  },
  {
   "cell_type": "code",
   "execution_count": 28,
   "metadata": {
    "collapsed": false
   },
   "outputs": [
    {
     "data": {
      "text/plain": [
       "0.7877"
      ]
     },
     "execution_count": 28,
     "metadata": {},
     "output_type": "execute_result"
    }
   ],
   "source": [
    "simulate_it(10000)"
   ]
  },
  {
   "cell_type": "code",
   "execution_count": null,
   "metadata": {
    "collapsed": true
   },
   "outputs": [],
   "source": [
    "# Q2"
   ]
  },
  {
   "cell_type": "code",
   "execution_count": 37,
   "metadata": {
    "collapsed": true
   },
   "outputs": [],
   "source": [
    "def get_point2(n_dim):\n",
    "    return np.random.rand(1, n_dim) * 2 "
   ]
  },
  {
   "cell_type": "code",
   "execution_count": 38,
   "metadata": {
    "collapsed": false
   },
   "outputs": [
    {
     "name": "stdout",
     "output_type": "stream",
     "text": [
      "[[ 1.456767    0.95912379  0.77317566  1.80065997]] 1.45676699695 0.959123794738 0.773175663292\n"
     ]
    }
   ],
   "source": [
    "point = get_point(4)\n",
    "print(point, point[0][0], point[0][1], point[0][2])"
   ]
  },
  {
   "cell_type": "code",
   "execution_count": 39,
   "metadata": {
    "collapsed": true
   },
   "outputs": [],
   "source": [
    "def check_in_circle2(point, n_dim):\n",
    "    distance = 0\n",
    "    for dim in range(n_dim):\n",
    "        distance += (point[0][dim] - 1) ** 2\n",
    "    distance = distance ** (1/2)\n",
    "    if distance <= 1:\n",
    "        return True\n",
    "    else:\n",
    "        return False"
   ]
  },
  {
   "cell_type": "code",
   "execution_count": 44,
   "metadata": {
    "collapsed": false
   },
   "outputs": [],
   "source": [
    "def simulate_it2(num_of_simulation, n_dim):\n",
    "    counter = 0\n",
    "    for i in range(num_of_simulation):\n",
    "        if check_in_circle2(get_point2(n_dim), n_dim) == True:\n",
    "            counter += 1\n",
    "    ratio = counter / num_of_simulation\n",
    "    return ratio  "
   ]
  },
  {
   "cell_type": "code",
   "execution_count": 48,
   "metadata": {
    "collapsed": false
   },
   "outputs": [
    {
     "data": {
      "text/plain": [
       "0.52645"
      ]
     },
     "execution_count": 48,
     "metadata": {},
     "output_type": "execute_result"
    }
   ],
   "source": [
    "simulate_it2(20000, 3)"
   ]
  },
  {
   "cell_type": "code",
   "execution_count": 49,
   "metadata": {
    "collapsed": true
   },
   "outputs": [],
   "source": [
    "# Q2 - plot"
   ]
  },
  {
   "cell_type": "code",
   "execution_count": 61,
   "metadata": {
    "collapsed": true
   },
   "outputs": [],
   "source": [
    "def get_ratio_list(num_of_simulation, dim_list):\n",
    "    ratio_list = []\n",
    "    for dim in dim_list:\n",
    "        ratio_list += [simulate_it2(num_of_simulation, dim)]\n",
    "    return ratio_list"
   ]
  },
  {
   "cell_type": "code",
   "execution_count": 62,
   "metadata": {
    "collapsed": false
   },
   "outputs": [
    {
     "name": "stdout",
     "output_type": "stream",
     "text": [
      "[0.78, 0.5152, 0.3077, 0.1615, 0.0753, 0.0391, 0.0166, 0.0072, 0.0021]\n"
     ]
    }
   ],
   "source": [
    "num_of_simulation = 10000\n",
    "dim_list = list(range(2, 11))\n",
    "ratio_list = get_ratio_list(num_of_simulation, dim_list)\n",
    "print(ratio_list)"
   ]
  },
  {
   "cell_type": "code",
   "execution_count": 63,
   "metadata": {
    "collapsed": false
   },
   "outputs": [
    {
     "data": {
      "text/plain": [
       "[<matplotlib.lines.Line2D at 0x11a34aeb8>]"
      ]
     },
     "execution_count": 63,
     "metadata": {},
     "output_type": "execute_result"
    },
    {
     "data": {
      "image/png": "[encoded data removed]",
      "text/plain": [
       "<matplotlib.figure.Figure at 0x11a2a5898>"
      ]
     },
     "metadata": {},
     "output_type": "display_data"
    }
   ],
   "source": [
    "plt.plot(dim_list, ratio_list)"
   ]
  },
  {
   "cell_type": "code",
   "execution_count": 64,
   "metadata": {
    "collapsed": true
   },
   "outputs": [],
   "source": [
    "# avg dist"
   ]
  },
  {
   "cell_type": "code",
   "execution_count": 66,
   "metadata": {
    "collapsed": true
   },
   "outputs": [],
   "source": [
    "def check_in_circle3(point, n_dim):\n",
    "    distance = 0\n",
    "    for dim in range(n_dim):\n",
    "        distance += (point[0][dim] - 1) ** 2\n",
    "    distance = distance ** (1/2)\n",
    "    return distance"
   ]
  },
  {
   "cell_type": "code",
   "execution_count": 67,
   "metadata": {
    "collapsed": true
   },
   "outputs": [],
   "source": [
    "def simulate_it3(num_of_simulation, n_dim):\n",
    "    sum_dist = 0\n",
    "    for i in range(num_of_simulation):\n",
    "        sum_dist += check_in_circle3(get_point2(n_dim), n_dim)\n",
    "    avg_dist = sum_dist / num_of_simulation\n",
    "    return avg_dist  "
   ]
  },
  {
   "cell_type": "code",
   "execution_count": 71,
   "metadata": {
    "collapsed": false
   },
   "outputs": [
    {
     "data": {
      "text/plain": [
       "1.8084561756061688"
      ]
     },
     "execution_count": 71,
     "metadata": {},
     "output_type": "execute_result"
    }
   ],
   "source": [
    "simulate_it3(num_of_simulation, 10)"
   ]
  },
  {
   "cell_type": "code",
   "execution_count": 73,
   "metadata": {
    "collapsed": true
   },
   "outputs": [],
   "source": [
    "def get_avgdist_list(num_of_simulation, dim_list):\n",
    "    avgdist_list = []\n",
    "    for dim in dim_list:\n",
    "        avgdist_list += [simulate_it3(num_of_simulation, dim)]\n",
    "    return avgdist_list"
   ]
  },
  {
   "cell_type": "code",
   "execution_count": 78,
   "metadata": {
    "collapsed": false
   },
   "outputs": [
    {
     "name": "stdout",
     "output_type": "stream",
     "text": [
      "[0.76500821015329135, 0.96038218866932912, 1.1281346300408222, 1.2610455986779168, 1.3849411371970297, 1.5066328062484931, 1.6107370466380817, 1.7083902316297288, 1.8063044876872925, 1.8951478057219515, 1.9880413101289236, 2.064549150569511, 2.1404936044198046, 2.2201423012503532, 2.296470185191863, 2.3655879047929109, 2.4376227170876161, 2.503426552238321]\n"
     ]
    }
   ],
   "source": [
    "num_of_simulation = 10000\n",
    "dim_list = list(range(2, 20))\n",
    "avgdist_list = get_avgdist_list(num_of_simulation, dim_list)\n",
    "print(avgdist_list)"
   ]
  },
  {
   "cell_type": "code",
   "execution_count": 79,
   "metadata": {
    "collapsed": false
   },
   "outputs": [
    {
     "data": {
      "text/plain": [
       "[<matplotlib.lines.Line2D at 0x11a806860>]"
      ]
     },
     "execution_count": 79,
     "metadata": {},
     "output_type": "execute_result"
    },
    {
     "data": {
      "image/png": "[encoded data removed]",
      "text/plain": [
       "<matplotlib.figure.Figure at 0x11a614080>"
      ]
     },
     "metadata": {},
     "output_type": "display_data"
    }
   ],
   "source": [
    "plt.plot(dim_list, avgdist_list)"
   ]
  },
  {
   "cell_type": "code",
   "execution_count": null,
   "metadata": {
    "collapsed": true
   },
   "outputs": [],
   "source": []
  },
  {
   "cell_type": "code",
   "execution_count": null,
   "metadata": {
    "collapsed": true
   },
   "outputs": [],
   "source": []
  }
 ],
 "metadata": {
  "kernelspec": {
   "display_name": "Python 3",
   "language": "python",
   "name": "python3"
  },
  "language_info": {
   "codemirror_mode": {
    "name": "ipython",
    "version": 3
   },
   "file_extension": ".py",
   "mimetype": "text/x-python",
   "name": "python",
   "nbconvert_exporter": "python",
   "pygments_lexer": "ipython3",
   "version": "3.6.0"
  }
 },
 "nbformat": 4,
 "nbformat_minor": 2
}
