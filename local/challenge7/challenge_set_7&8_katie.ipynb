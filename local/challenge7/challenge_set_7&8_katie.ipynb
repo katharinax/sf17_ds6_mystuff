{
 "cells": [
  {
   "cell_type": "code",
   "execution_count": 338,
   "metadata": {
    "collapsed": false
   },
   "outputs": [],
   "source": [
    "import numpy as np\n",
    "import pandas as pd\n",
    "import matplotlib.pyplot as plt\n",
    "import re\n",
    "import warnings\n",
    "from sklearn.model_selection import train_test_split\n",
    "from sklearn.model_selection import cross_val_score\n",
    "from sklearn.neighbors import KNeighborsClassifier\n",
    "from sklearn.metrics import accuracy_score, precision_score, recall_score, f1_score, roc_curve, auc, make_scorer\n",
    "from sklearn.linear_model import LogisticRegression\n",
    "from sklearn.model_selection import learning_curve\n",
    "from sklearn.naive_bayes import GaussianNB\n",
    "from sklearn.svm import SVC\n",
    "from sklearn.tree import DecisionTreeClassifier\n",
    "from sklearn.ensemble import RandomForestClassifier\n",
    "from sklearn.preprocessing import label_binarize\n",
    "from sklearn.multiclass import OneVsRestClassifier\n",
    "%matplotlib inline\n",
    "warnings.filterwarnings('ignore')"
   ]
  },
  {
   "cell_type": "code",
   "execution_count": 160,
   "metadata": {
    "collapsed": true
   },
   "outputs": [],
   "source": [
    "TEST_SIZE = .30\n",
    "RANDOM_STATE = 4444\n",
    "HOUSE_DICT = {'democrat': 1, 'republican': 0}\n",
    "RATING_DICT = {'PG-13': 3, 'R': 2, 'PG': 1, 'G': 0}\n",
    "SURVIVE_DICT = {1: '>5yrs', 2: '<5yrs'}"
   ]
  },
  {
   "cell_type": "markdown",
   "metadata": {},
   "source": [
    "# Challenge Set 7"
   ]
  },
  {
   "cell_type": "markdown",
   "metadata": {},
   "source": [
    "### Challenge 1"
   ]
  },
  {
   "cell_type": "code",
   "execution_count": 3,
   "metadata": {
    "collapsed": false
   },
   "outputs": [],
   "source": [
    "house = pd.read_csv(\"house-votes-84.data\", header = None)\n",
    "house.iloc[:, -1] = house.iloc[:, -1].str.strip(\".\")\n",
    "house = house.replace({\"y\": 1, \"n\": 0, \"?\": np.nan})\n",
    "house = house.fillna(house.mean())"
   ]
  },
  {
   "cell_type": "code",
   "execution_count": 4,
   "metadata": {
    "collapsed": false
   },
   "outputs": [
    {
     "data": {
      "text/html": [
       "<div>\n",
       "<table border=\"1\" class=\"dataframe\">\n",
       "  <thead>\n",
       "    <tr style=\"text-align: right;\">\n",
       "      <th></th>\n",
       "      <th>0</th>\n",
       "      <th>1</th>\n",
       "      <th>2</th>\n",
       "      <th>3</th>\n",
       "      <th>4</th>\n",
       "      <th>5</th>\n",
       "      <th>6</th>\n",
       "      <th>7</th>\n",
       "      <th>8</th>\n",
       "      <th>9</th>\n",
       "      <th>10</th>\n",
       "      <th>11</th>\n",
       "      <th>12</th>\n",
       "      <th>13</th>\n",
       "      <th>14</th>\n",
       "      <th>15</th>\n",
       "      <th>16</th>\n",
       "    </tr>\n",
       "  </thead>\n",
       "  <tbody>\n",
       "    <tr>\n",
       "      <th>434</th>\n",
       "      <td>0.0</td>\n",
       "      <td>1.0</td>\n",
       "      <td>0.0</td>\n",
       "      <td>1.0</td>\n",
       "      <td>1.0</td>\n",
       "      <td>1.0</td>\n",
       "      <td>0.0</td>\n",
       "      <td>0.0</td>\n",
       "      <td>0.0</td>\n",
       "      <td>1.0</td>\n",
       "      <td>0.0</td>\n",
       "      <td>1.0</td>\n",
       "      <td>1.0</td>\n",
       "      <td>1.0</td>\n",
       "      <td>0.427518</td>\n",
       "      <td>0.0</td>\n",
       "      <td>republican</td>\n",
       "    </tr>\n",
       "  </tbody>\n",
       "</table>\n",
       "</div>"
      ],
      "text/plain": [
       "      0    1    2    3    4    5    6    7    8    9    10   11   12   13  \\\n",
       "434  0.0  1.0  0.0  1.0  1.0  1.0  0.0  0.0  0.0  1.0  0.0  1.0  1.0  1.0   \n",
       "\n",
       "           14   15          16  \n",
       "434  0.427518  0.0  republican  "
      ]
     },
     "execution_count": 4,
     "metadata": {},
     "output_type": "execute_result"
    }
   ],
   "source": [
    "house.tail(1)"
   ]
  },
  {
   "cell_type": "markdown",
   "metadata": {},
   "source": [
    "### Challenge 2"
   ]
  },
  {
   "cell_type": "code",
   "execution_count": 5,
   "metadata": {
    "collapsed": false
   },
   "outputs": [],
   "source": [
    "X = house.iloc[:, :-1]\n",
    "y = house.iloc[:, -1]\n",
    "X_train, X_test, y_train, y_test = train_test_split(X, y, test_size = TEST_SIZE, random_state = RANDOM_STATE)"
   ]
  },
  {
   "cell_type": "markdown",
   "metadata": {},
   "source": [
    "### Challenge 3"
   ]
  },
  {
   "cell_type": "code",
   "execution_count": 6,
   "metadata": {
    "collapsed": false
   },
   "outputs": [],
   "source": [
    "acc = []\n",
    "for k in range(1, 21):\n",
    "    knn = KNeighborsClassifier(k)\n",
    "    knn.fit(X_train, y_train)\n",
    "    acc += [(k, accuracy_score(knn.predict(X_test), y_test))]\n",
    "acc.sort(key = (lambda x: x[1]), reverse = True)"
   ]
  },
  {
   "cell_type": "code",
   "execution_count": 7,
   "metadata": {
    "collapsed": false
   },
   "outputs": [
    {
     "name": "stdout",
     "output_type": "stream",
     "text": [
      "The highest accuracy, 0.931297709924, occurs when k = 6\n"
     ]
    }
   ],
   "source": [
    "best_k = acc[0][0]\n",
    "print(\"The highest accuracy,\", str(acc[0][1]) + \", occurs when k =\", best_k)"
   ]
  },
  {
   "cell_type": "markdown",
   "metadata": {},
   "source": [
    "### Challenge 4"
   ]
  },
  {
   "cell_type": "code",
   "execution_count": 8,
   "metadata": {
    "collapsed": false
   },
   "outputs": [],
   "source": [
    "logr = LogisticRegression()\n",
    "fit = logr.fit(X_train, y_train)\n",
    "log_acc = accuracy_score(logr.predict(X_test), y_test)"
   ]
  },
  {
   "cell_type": "code",
   "execution_count": 9,
   "metadata": {
    "collapsed": false
   },
   "outputs": [
    {
     "name": "stdout",
     "output_type": "stream",
     "text": [
      "The test accuracy for logistic regression is 0.93893129771\n"
     ]
    }
   ],
   "source": [
    "print(\"The test accuracy for logistic regression is\", log_acc)"
   ]
  },
  {
   "cell_type": "markdown",
   "metadata": {},
   "source": [
    "### Challenge 5"
   ]
  },
  {
   "cell_type": "code",
   "execution_count": 10,
   "metadata": {
    "collapsed": false
   },
   "outputs": [],
   "source": [
    "ct = pd.DataFrame(y.value_counts())\n",
    "ct.reset_index(inplace = True)\n",
    "ct['index_num'] = ct['index'].map(lambda x: HOUSE_DICT[x])"
   ]
  },
  {
   "cell_type": "code",
   "execution_count": 11,
   "metadata": {
    "collapsed": false
   },
   "outputs": [
    {
     "data": {
      "image/png": "[encoded data removed]",
      "text/plain": [
       "<matplotlib.figure.Figure at 0x114488fd0>"
      ]
     },
     "metadata": {},
     "output_type": "display_data"
    }
   ],
   "source": [
    "plt.figure()\n",
    "plt.barh(ct['index_num'], ct.iloc[:, 1], tick_label = ct['index'])\n",
    "plt.show()"
   ]
  },
  {
   "cell_type": "code",
   "execution_count": 12,
   "metadata": {
    "collapsed": true
   },
   "outputs": [],
   "source": [
    "def always_predict_democrat(X):\n",
    "    \"\"\"\n",
    "    X: an array or matrix with input examples\n",
    "    \"\"\"\n",
    "    return ['democrat'] * len(X)"
   ]
  },
  {
   "cell_type": "code",
   "execution_count": 13,
   "metadata": {
    "collapsed": true
   },
   "outputs": [],
   "source": [
    "def always_predict_republican(X):\n",
    "    \"\"\"\n",
    "    X: an array or matrix with input examples\n",
    "    \"\"\"\n",
    "    return ['republican'] * len(X)"
   ]
  },
  {
   "cell_type": "markdown",
   "metadata": {},
   "source": [
    "### Challenge 6"
   ]
  },
  {
   "cell_type": "code",
   "execution_count": 14,
   "metadata": {
    "collapsed": false
   },
   "outputs": [
    {
     "data": {
      "image/png": "[encoded data removed]",
      "text/plain": [
       "<matplotlib.figure.Figure at 0x116cd20f0>"
      ]
     },
     "metadata": {},
     "output_type": "display_data"
    }
   ],
   "source": [
    "acc.sort(key = (lambda x: x[0]))\n",
    "unzip_acc = list(zip(*acc))\n",
    "y_axis = unzip_acc[1]\n",
    "x_axis = unzip_acc[0]\n",
    "acc_d = accuracy_score(always_predict_democrat(X_test), y_test)\n",
    "acc_r = accuracy_score(always_predict_republican(X_test), y_test)\n",
    "plt.figure()\n",
    "plt.ylim([0, 1])\n",
    "plt.xlim([min(x_axis), max(x_axis)])\n",
    "plt.plot(x_axis, y_axis, \"g-\", label = \"KNN\")\n",
    "plt.axhline(y = log_acc, color = \"grey\", label = \"logistic reg\")\n",
    "plt.axhline(y = acc_d, color = \"blue\", label = \"democrat predictor\")\n",
    "plt.axhline(y = acc_r, color = \"red\", label = \"republican predictor\")\n",
    "plt.legend()\n",
    "plt.show()"
   ]
  },
  {
   "cell_type": "markdown",
   "metadata": {},
   "source": [
    "### Challenge 7"
   ]
  },
  {
   "cell_type": "code",
   "execution_count": 15,
   "metadata": {
    "collapsed": true
   },
   "outputs": [],
   "source": [
    "m, train_err, ts_err = learning_curve(logr, X, y)\n",
    "train_cv_err = np.mean(train_err, axis=1)\n",
    "test_cv_err = np.mean(ts_err, axis=1)"
   ]
  },
  {
   "cell_type": "code",
   "execution_count": 16,
   "metadata": {
    "collapsed": false
   },
   "outputs": [
    {
     "data": {
      "image/png": "[encoded data removed]",
      "text/plain": [
       "<matplotlib.figure.Figure at 0x109b3f9e8>"
      ]
     },
     "metadata": {},
     "output_type": "display_data"
    }
   ],
   "source": [
    "plt.figure()\n",
    "plt.plot(m, train_cv_err, label = \"Train\")\n",
    "plt.plot(m, test_cv_err, label = \"Test\")\n",
    "plt.title(\"Log-Reg Learning Curve\", fontweight = \"bold\")\n",
    "plt.ylabel(\"Mean Accuracy\")\n",
    "plt.legend()\n",
    "plt.show()"
   ]
  },
  {
   "cell_type": "code",
   "execution_count": 17,
   "metadata": {
    "collapsed": false
   },
   "outputs": [],
   "source": [
    "best_knn = KNeighborsClassifier(best_k)\n",
    "m, train_err, ts_err = learning_curve(knn, X, y)\n",
    "train_cv_err = np.mean(train_err, axis=1)\n",
    "test_cv_err = np.mean(ts_err, axis=1)"
   ]
  },
  {
   "cell_type": "code",
   "execution_count": 18,
   "metadata": {
    "collapsed": false
   },
   "outputs": [
    {
     "data": {
      "image/png": "[encoded data removed]",
      "text/plain": [
       "<matplotlib.figure.Figure at 0x116c519b0>"
      ]
     },
     "metadata": {},
     "output_type": "display_data"
    }
   ],
   "source": [
    "plt.figure()\n",
    "plt.plot(m, train_cv_err, label = \"Train\")\n",
    "plt.plot(m, test_cv_err, label = \"Test\")\n",
    "plt.title(\"KNN Learning Curve (k = \" + str(best_k) + \")\", fontweight = \"bold\")\n",
    "plt.ylabel(\"Mean Accuracy\")\n",
    "plt.legend()\n",
    "plt.show()"
   ]
  },
  {
   "cell_type": "markdown",
   "metadata": {
    "collapsed": true
   },
   "source": [
    "### Challenge 8"
   ]
  },
  {
   "cell_type": "code",
   "execution_count": 19,
   "metadata": {
    "collapsed": true
   },
   "outputs": [],
   "source": [
    "def get_test_acc(modelname, *args, **kwargs):\n",
    "    model = modelname(*args, **kwargs)\n",
    "    model.fit(X_train, y_train)\n",
    "    acc = accuracy_score(model.predict(X_test), y_test)\n",
    "    print(modelname.__name__, \"test accuracy:\", acc)\n",
    "    return acc"
   ]
  },
  {
   "cell_type": "code",
   "execution_count": 21,
   "metadata": {
    "collapsed": false
   },
   "outputs": [
    {
     "name": "stdout",
     "output_type": "stream",
     "text": [
      "LogisticRegression test accuracy: 0.93893129771\n",
      "KNeighborsClassifier test accuracy: 0.931297709924\n",
      "GaussianNB test accuracy: 0.93893129771\n",
      "SVC test accuracy: 0.954198473282\n",
      "DecisionTreeClassifier test accuracy: 0.954198473282\n",
      "RandomForestClassifier test accuracy: 0.954198473282\n"
     ]
    }
   ],
   "source": [
    "acc = get_test_acc(LogisticRegression)\n",
    "acc = get_test_acc(KNeighborsClassifier, best_k)\n",
    "acc = get_test_acc(GaussianNB)\n",
    "acc = get_test_acc(SVC)\n",
    "acc = get_test_acc(DecisionTreeClassifier)\n",
    "acc = get_test_acc(RandomForestClassifier)"
   ]
  },
  {
   "cell_type": "markdown",
   "metadata": {
    "collapsed": true
   },
   "source": [
    "### Challenge 9"
   ]
  },
  {
   "cell_type": "code",
   "execution_count": 22,
   "metadata": {
    "collapsed": true
   },
   "outputs": [],
   "source": [
    "def get_cv_acc(modelname, *args, **kwargs):\n",
    "    model = modelname(*args, **kwargs)\n",
    "    mean_acc = np.mean(cross_val_score(model, X, y))\n",
    "    print(modelname.__name__, \"mean CV accuracy:\", mean_acc)\n",
    "    return mean_acc"
   ]
  },
  {
   "cell_type": "code",
   "execution_count": 24,
   "metadata": {
    "collapsed": false
   },
   "outputs": [
    {
     "name": "stdout",
     "output_type": "stream",
     "text": [
      "LogisticRegression mean CV accuracy: 0.96091954023\n",
      "KNeighborsClassifier mean CV accuracy: 0.933333333333\n",
      "GaussianNB mean CV accuracy: 0.931034482759\n",
      "SVC mean CV accuracy: 0.954022988506\n",
      "DecisionTreeClassifier mean CV accuracy: 0.95632183908\n",
      "RandomForestClassifier mean CV accuracy: 0.958620689655\n"
     ]
    }
   ],
   "source": [
    "acc = get_cv_acc(LogisticRegression)\n",
    "acc = get_cv_acc(KNeighborsClassifier, best_k)\n",
    "acc = get_cv_acc(GaussianNB)\n",
    "acc = get_cv_acc(SVC)\n",
    "acc = get_cv_acc(DecisionTreeClassifier)\n",
    "acc = get_cv_acc(RandomForestClassifier)"
   ]
  },
  {
   "cell_type": "markdown",
   "metadata": {},
   "source": [
    "### Challenge 10"
   ]
  },
  {
   "cell_type": "code",
   "execution_count": 25,
   "metadata": {
    "collapsed": false
   },
   "outputs": [],
   "source": [
    "house = pd.read_csv(\"house-votes-84.data\", header = None)\n",
    "house = house.iloc[:, :-1].copy()\n",
    "house = house.replace({\"y\": 1, \"n\": 0, \"?\": np.nan})\n",
    "house = house.fillna(np.round(house.mean()))"
   ]
  },
  {
   "cell_type": "code",
   "execution_count": 26,
   "metadata": {
    "collapsed": false
   },
   "outputs": [
    {
     "data": {
      "text/html": [
       "<div>\n",
       "<table border=\"1\" class=\"dataframe\">\n",
       "  <thead>\n",
       "    <tr style=\"text-align: right;\">\n",
       "      <th></th>\n",
       "      <th>0</th>\n",
       "      <th>1</th>\n",
       "      <th>2</th>\n",
       "      <th>3</th>\n",
       "      <th>4</th>\n",
       "      <th>5</th>\n",
       "      <th>6</th>\n",
       "      <th>7</th>\n",
       "      <th>8</th>\n",
       "      <th>9</th>\n",
       "      <th>10</th>\n",
       "      <th>11</th>\n",
       "      <th>12</th>\n",
       "      <th>13</th>\n",
       "      <th>14</th>\n",
       "      <th>15</th>\n",
       "    </tr>\n",
       "  </thead>\n",
       "  <tbody>\n",
       "    <tr>\n",
       "      <th>434</th>\n",
       "      <td>0.0</td>\n",
       "      <td>1.0</td>\n",
       "      <td>0.0</td>\n",
       "      <td>1.0</td>\n",
       "      <td>1.0</td>\n",
       "      <td>1.0</td>\n",
       "      <td>0.0</td>\n",
       "      <td>0.0</td>\n",
       "      <td>0.0</td>\n",
       "      <td>1.0</td>\n",
       "      <td>0.0</td>\n",
       "      <td>1.0</td>\n",
       "      <td>1.0</td>\n",
       "      <td>1.0</td>\n",
       "      <td>0.0</td>\n",
       "      <td>0.0</td>\n",
       "    </tr>\n",
       "  </tbody>\n",
       "</table>\n",
       "</div>"
      ],
      "text/plain": [
       "      0    1    2    3    4    5    6    7    8    9    10   11   12   13  \\\n",
       "434  0.0  1.0  0.0  1.0  1.0  1.0  0.0  0.0  0.0  1.0  0.0  1.0  1.0  1.0   \n",
       "\n",
       "      14   15  \n",
       "434  0.0  0.0  "
      ]
     },
     "execution_count": 26,
     "metadata": {},
     "output_type": "execute_result"
    }
   ],
   "source": [
    "house.tail(1)"
   ]
  },
  {
   "cell_type": "code",
   "execution_count": 27,
   "metadata": {
    "collapsed": true
   },
   "outputs": [],
   "source": [
    "X = house.iloc[:, 1:] \n",
    "y = house.iloc[:, 0] # I'm picking the first vote as my target"
   ]
  },
  {
   "cell_type": "code",
   "execution_count": 28,
   "metadata": {
    "collapsed": false
   },
   "outputs": [
    {
     "name": "stdout",
     "output_type": "stream",
     "text": [
      "LogisticRegression mean CV accuracy: 0.6756145139\n"
     ]
    }
   ],
   "source": [
    "acc = get_cv_acc(LogisticRegression)"
   ]
  },
  {
   "cell_type": "markdown",
   "metadata": {},
   "source": [
    "### Challenge 11"
   ]
  },
  {
   "cell_type": "code",
   "execution_count": 29,
   "metadata": {
    "collapsed": false
   },
   "outputs": [],
   "source": [
    "movie = pd.read_csv(\"2013_movies.csv\")"
   ]
  },
  {
   "cell_type": "code",
   "execution_count": 30,
   "metadata": {
    "collapsed": false
   },
   "outputs": [
    {
     "data": {
      "text/html": [
       "<div>\n",
       "<table border=\"1\" class=\"dataframe\">\n",
       "  <thead>\n",
       "    <tr style=\"text-align: right;\">\n",
       "      <th></th>\n",
       "      <th>Title</th>\n",
       "      <th>Budget</th>\n",
       "      <th>DomesticTotalGross</th>\n",
       "      <th>Director</th>\n",
       "      <th>Rating</th>\n",
       "      <th>Runtime</th>\n",
       "      <th>ReleaseDate</th>\n",
       "    </tr>\n",
       "  </thead>\n",
       "  <tbody>\n",
       "    <tr>\n",
       "      <th>99</th>\n",
       "      <td>Her</td>\n",
       "      <td>23000000.0</td>\n",
       "      <td>25568251</td>\n",
       "      <td>Spike Jonze</td>\n",
       "      <td>R</td>\n",
       "      <td>120</td>\n",
       "      <td>2013-12-18 00:00:00</td>\n",
       "    </tr>\n",
       "  </tbody>\n",
       "</table>\n",
       "</div>"
      ],
      "text/plain": [
       "   Title      Budget  DomesticTotalGross     Director Rating  Runtime  \\\n",
       "99   Her  23000000.0            25568251  Spike Jonze      R      120   \n",
       "\n",
       "            ReleaseDate  \n",
       "99  2013-12-18 00:00:00  "
      ]
     },
     "execution_count": 30,
     "metadata": {},
     "output_type": "execute_result"
    }
   ],
   "source": [
    "movie.tail(1)"
   ]
  },
  {
   "cell_type": "code",
   "execution_count": 31,
   "metadata": {
    "collapsed": false
   },
   "outputs": [
    {
     "data": {
      "text/plain": [
       "PG-13    47\n",
       "R        37\n",
       "PG       15\n",
       "G         1\n",
       "Name: Rating, dtype: int64"
      ]
     },
     "execution_count": 31,
     "metadata": {},
     "output_type": "execute_result"
    }
   ],
   "source": [
    "movie['Rating'].value_counts()"
   ]
  },
  {
   "cell_type": "code",
   "execution_count": 32,
   "metadata": {
    "collapsed": true
   },
   "outputs": [],
   "source": [
    "ct = pd.DataFrame(movie['Rating'].value_counts())\n",
    "ct.reset_index(inplace = True)\n",
    "ct['index_num'] = ct['index'].map(lambda x: RATING_DICT[x])"
   ]
  },
  {
   "cell_type": "code",
   "execution_count": 33,
   "metadata": {
    "collapsed": false
   },
   "outputs": [
    {
     "data": {
      "image/png": "[encoded data removed]",
      "text/plain": [
       "<matplotlib.figure.Figure at 0x1173989b0>"
      ]
     },
     "metadata": {},
     "output_type": "display_data"
    }
   ],
   "source": [
    "plt.figure()\n",
    "plt.barh(ct['index_num'], ct.iloc[:, 1], tick_label = ct['index'])\n",
    "plt.show()"
   ]
  },
  {
   "cell_type": "code",
   "execution_count": 34,
   "metadata": {
    "collapsed": false
   },
   "outputs": [],
   "source": [
    "X = movie.loc[:, ['Budget', 'DomesticTotalGross', 'Runtime']]\n",
    "X = X.fillna(X.mean())\n",
    "y = movie['Rating']\n",
    "#y = label_binarize(y, classes = list(y.value_counts().index))\n",
    "#X_train, X_test, y_train, y_test = train_test_split(X, y, test_size = TEST_SIZE, random_state = RANDOM_STATE)"
   ]
  },
  {
   "cell_type": "code",
   "execution_count": 35,
   "metadata": {
    "collapsed": true
   },
   "outputs": [],
   "source": [
    "# def get_multiclass_cv_acc(modelname, *args, **kwargs):\n",
    "#     model = OneVsRestClassifier(modelname(*args, **kwargs))\n",
    "#     mean_acc = np.mean(cross_val_score(model, X, y))\n",
    "#     print(modelname.__name__, \"mean CV accuracy for multi-classes:\", mean_acc)\n",
    "#     return mean_acc"
   ]
  },
  {
   "cell_type": "code",
   "execution_count": 43,
   "metadata": {
    "collapsed": false
   },
   "outputs": [
    {
     "name": "stdout",
     "output_type": "stream",
     "text": [
      "LogisticRegression test accuracy: 0.466666666667\n"
     ]
    }
   ],
   "source": [
    "#acc = get_cv_acc(LogisticRegression)\n",
    "logr = LogisticRegression()\n",
    "logr = logr.fit(X_train, y_train)\n",
    "logr_acc = accuracy_score(logr.predict(X_test), y_test)\n",
    "print(\"LogisticRegression test accuracy:\", logr_acc)"
   ]
  },
  {
   "cell_type": "code",
   "execution_count": 39,
   "metadata": {
    "collapsed": false
   },
   "outputs": [
    {
     "name": "stdout",
     "output_type": "stream",
     "text": [
      "KNeighborsClassifier test accuracy: 0.566666666667\n"
     ]
    }
   ],
   "source": [
    "#acc = get_cv_acc(KNeighborsClassifier)\n",
    "acc = get_test_acc(KNeighborsClassifier)"
   ]
  },
  {
   "cell_type": "code",
   "execution_count": 37,
   "metadata": {
    "collapsed": true
   },
   "outputs": [],
   "source": [
    "def always_predict_most_common_rating(X):\n",
    "    \"\"\"\n",
    "    X: an array or matrix with input examples\n",
    "    \"\"\"\n",
    "    return [ct.iloc[0]['index']] * len(X)"
   ]
  },
  {
   "cell_type": "code",
   "execution_count": 38,
   "metadata": {
    "collapsed": false
   },
   "outputs": [
    {
     "name": "stdout",
     "output_type": "stream",
     "text": [
      "Test accuracy when always predict the most common rating: 0.466666666667\n"
     ]
    }
   ],
   "source": [
    "correct = sum(always_predict_most_common_rating(X_test) == y_test)\n",
    "tot_n = len(y_test)\n",
    "acc = correct / tot_n\n",
    "print(\"Test accuracy when always predict the most common rating:\", acc)"
   ]
  },
  {
   "cell_type": "markdown",
   "metadata": {
    "collapsed": true
   },
   "source": [
    "**How much better do KNN and logistic regression do versus the baseline?**"
   ]
  },
  {
   "cell_type": "markdown",
   "metadata": {
    "collapsed": true
   },
   "source": [
    "They are actually not doing any better than the baseline if we used accuracy as the evaluation metric."
   ]
  },
  {
   "cell_type": "markdown",
   "metadata": {},
   "source": [
    "**What are the coefficients of logistic regression? Which features affect the outcome how?**"
   ]
  },
  {
   "cell_type": "code",
   "execution_count": 64,
   "metadata": {
    "collapsed": false
   },
   "outputs": [
    {
     "name": "stdout",
     "output_type": "stream",
     "text": [
      "Logistic regression coefficient table:\n",
      "\n",
      "              Budget  DomesticTotalGross       Runtime\n",
      "G     -8.502649e-08        1.970775e-09 -1.876850e-12\n",
      "PG    -5.973429e-09       -8.805605e-09 -9.874941e-14\n",
      "PG-13  6.563587e-09       -3.871376e-09 -2.079594e-14\n",
      "R     -1.394498e-08        2.313955e-09  7.607976e-14\n"
     ]
    }
   ],
   "source": [
    "logr_coef = pd.DataFrame(logr.coef_, columns = X.columns)\n",
    "logr_coef = logr_coef.set_index(logr.classes_)\n",
    "print(\"Logistic regression coefficient table:\\n\\n\", logr_coef)"
   ]
  },
  {
   "cell_type": "markdown",
   "metadata": {
    "collapsed": true
   },
   "source": [
    "I don't think these features were very good predictors, and the features were probably correlated to each other. But in general, the higher the budget, the less likely the movie was rated G. On the other hand, the higher the domestic total gross, the less likely the movie was rated PG."
   ]
  },
  {
   "cell_type": "markdown",
   "metadata": {
    "collapsed": true
   },
   "source": [
    "### Challenge 12"
   ]
  },
  {
   "cell_type": "code",
   "execution_count": 89,
   "metadata": {
    "collapsed": false
   },
   "outputs": [],
   "source": [
    "cancer = pd.read_csv(\"haberman.data\", header = None)\n",
    "cancer.columns = ['age', 'year', 'pos_node', 'Survived']"
   ]
  },
  {
   "cell_type": "code",
   "execution_count": 90,
   "metadata": {
    "collapsed": false
   },
   "outputs": [
    {
     "data": {
      "text/html": [
       "<div>\n",
       "<table border=\"1\" class=\"dataframe\">\n",
       "  <thead>\n",
       "    <tr style=\"text-align: right;\">\n",
       "      <th></th>\n",
       "      <th>age</th>\n",
       "      <th>year</th>\n",
       "      <th>pos_node</th>\n",
       "      <th>Survived</th>\n",
       "    </tr>\n",
       "  </thead>\n",
       "  <tbody>\n",
       "    <tr>\n",
       "      <th>305</th>\n",
       "      <td>83</td>\n",
       "      <td>58</td>\n",
       "      <td>2</td>\n",
       "      <td>2</td>\n",
       "    </tr>\n",
       "  </tbody>\n",
       "</table>\n",
       "</div>"
      ],
      "text/plain": [
       "     age  year  pos_node  Survived\n",
       "305   83    58         2         2"
      ]
     },
     "execution_count": 90,
     "metadata": {},
     "output_type": "execute_result"
    }
   ],
   "source": [
    "cancer.tail(1)"
   ]
  },
  {
   "cell_type": "markdown",
   "metadata": {},
   "source": [
    "**What is the average and standard deviation of the age of all of the patients?**"
   ]
  },
  {
   "cell_type": "code",
   "execution_count": 92,
   "metadata": {
    "collapsed": false
   },
   "outputs": [
    {
     "data": {
      "text/html": [
       "<div>\n",
       "<table border=\"1\" class=\"dataframe\">\n",
       "  <thead>\n",
       "    <tr>\n",
       "      <th></th>\n",
       "      <th colspan=\"2\" halign=\"left\">age</th>\n",
       "    </tr>\n",
       "    <tr>\n",
       "      <th></th>\n",
       "      <th>mean</th>\n",
       "      <th>std</th>\n",
       "    </tr>\n",
       "  </thead>\n",
       "  <tbody>\n",
       "    <tr>\n",
       "      <th>0</th>\n",
       "      <td>52.457516</td>\n",
       "      <td>10.803452</td>\n",
       "    </tr>\n",
       "  </tbody>\n",
       "</table>\n",
       "</div>"
      ],
      "text/plain": [
       "         age           \n",
       "        mean        std\n",
       "0  52.457516  10.803452"
      ]
     },
     "execution_count": 92,
     "metadata": {},
     "output_type": "execute_result"
    }
   ],
   "source": [
    "cancer[['age']].groupby(lambda dummy: 0).agg(['mean', 'std'])"
   ]
  },
  {
   "cell_type": "markdown",
   "metadata": {
    "collapsed": true
   },
   "source": [
    "**What is the average and standard deviation of the age of those patients that survived 5 or more years after surgery?**"
   ]
  },
  {
   "cell_type": "code",
   "execution_count": 97,
   "metadata": {
    "collapsed": false
   },
   "outputs": [
    {
     "data": {
      "text/html": [
       "<div>\n",
       "<table border=\"1\" class=\"dataframe\">\n",
       "  <thead>\n",
       "    <tr style=\"text-align: right;\">\n",
       "      <th></th>\n",
       "      <th>mean</th>\n",
       "      <th>std</th>\n",
       "    </tr>\n",
       "  </thead>\n",
       "  <tbody>\n",
       "    <tr>\n",
       "      <th>0</th>\n",
       "      <td>52.017778</td>\n",
       "      <td>11.012154</td>\n",
       "    </tr>\n",
       "  </tbody>\n",
       "</table>\n",
       "</div>"
      ],
      "text/plain": [
       "        mean        std\n",
       "0  52.017778  11.012154"
      ]
     },
     "execution_count": 97,
     "metadata": {},
     "output_type": "execute_result"
    }
   ],
   "source": [
    "cond = cancer['Survived'] == 1\n",
    "cancer.loc[cond, 'age'].groupby(lambda dummy: 0).agg(['mean', 'std'])"
   ]
  },
  {
   "cell_type": "markdown",
   "metadata": {},
   "source": [
    "**What is the average and standard deviation of the age of those patients who survived fewer than 5 years after surgery?**"
   ]
  },
  {
   "cell_type": "code",
   "execution_count": 98,
   "metadata": {
    "collapsed": false
   },
   "outputs": [
    {
     "data": {
      "text/html": [
       "<div>\n",
       "<table border=\"1\" class=\"dataframe\">\n",
       "  <thead>\n",
       "    <tr style=\"text-align: right;\">\n",
       "      <th></th>\n",
       "      <th>mean</th>\n",
       "      <th>std</th>\n",
       "    </tr>\n",
       "  </thead>\n",
       "  <tbody>\n",
       "    <tr>\n",
       "      <th>0</th>\n",
       "      <td>53.679012</td>\n",
       "      <td>10.167137</td>\n",
       "    </tr>\n",
       "  </tbody>\n",
       "</table>\n",
       "</div>"
      ],
      "text/plain": [
       "        mean        std\n",
       "0  53.679012  10.167137"
      ]
     },
     "execution_count": 98,
     "metadata": {},
     "output_type": "execute_result"
    }
   ],
   "source": [
    "cond = cancer['Survived'] == 2\n",
    "cancer.loc[cond, 'age'].groupby(lambda dummy: 0).agg(['mean', 'std'])"
   ]
  },
  {
   "cell_type": "markdown",
   "metadata": {},
   "source": [
    "**Plot a histogram of the ages side by side with a histogram of the number of axillary nodes**"
   ]
  },
  {
   "cell_type": "code",
   "execution_count": 103,
   "metadata": {
    "collapsed": false
   },
   "outputs": [
    {
     "data": {
      "image/png": "[encoded data removed]",
      "text/plain": [
       "<matplotlib.figure.Figure at 0x1175154a8>"
      ]
     },
     "metadata": {},
     "output_type": "display_data"
    }
   ],
   "source": [
    "plt.subplots(1, 2, figsize = (15, 4))\n",
    "plt.subplot(1, 2, 1)\n",
    "plt.hist(cancer['age'])\n",
    "plt.title(\"Histogram of age of operation\")\n",
    "plt.subplot(1, 2, 2)\n",
    "plt.hist(cancer['pos_node'])\n",
    "plt.title(\"Histogram of positive axillary nodes\")\n",
    "plt.show()"
   ]
  },
  {
   "cell_type": "markdown",
   "metadata": {},
   "source": [
    "**What is the earliest year of surgery in this dataset?**"
   ]
  },
  {
   "cell_type": "code",
   "execution_count": 106,
   "metadata": {
    "collapsed": false
   },
   "outputs": [
    {
     "name": "stdout",
     "output_type": "stream",
     "text": [
      "30\n"
     ]
    }
   ],
   "source": [
    "print(min(cancer['age']))"
   ]
  },
  {
   "cell_type": "markdown",
   "metadata": {},
   "source": [
    "**What is the most recent year of surgery?**"
   ]
  },
  {
   "cell_type": "code",
   "execution_count": 108,
   "metadata": {
    "collapsed": false
   },
   "outputs": [
    {
     "name": "stdout",
     "output_type": "stream",
     "text": [
      "1969\n"
     ]
    }
   ],
   "source": [
    "print(max(cancer['year'] + 1900))"
   ]
  },
  {
   "cell_type": "markdown",
   "metadata": {},
   "source": [
    "**Use logistic regression to predict survival after 5 years. How well does your model do?**"
   ]
  },
  {
   "cell_type": "code",
   "execution_count": 111,
   "metadata": {
    "collapsed": true
   },
   "outputs": [],
   "source": [
    "X = cancer.iloc[:, :-1]\n",
    "y = cancer.iloc[:, -1]\n",
    "X_train, X_test, y_train, y_test = train_test_split(X, y, test_size = TEST_SIZE, random_state = RANDOM_STATE)"
   ]
  },
  {
   "cell_type": "code",
   "execution_count": 112,
   "metadata": {
    "collapsed": false
   },
   "outputs": [
    {
     "name": "stdout",
     "output_type": "stream",
     "text": [
      "LogisticRegression test accuracy: 0.815217391304\n"
     ]
    }
   ],
   "source": [
    "#acc = get_cv_acc(LogisticRegression)\n",
    "logr = LogisticRegression()\n",
    "logr = logr.fit(X_train, y_train)\n",
    "logr_acc = accuracy_score(logr.predict(X_test), y_test)\n",
    "print(\"LogisticRegression test accuracy:\", logr_acc)"
   ]
  },
  {
   "cell_type": "markdown",
   "metadata": {},
   "source": [
    "**What are the coefficients of logistic regression? Which features affect the outcome how?**"
   ]
  },
  {
   "cell_type": "code",
   "execution_count": 129,
   "metadata": {
    "collapsed": false
   },
   "outputs": [
    {
     "name": "stdout",
     "output_type": "stream",
     "text": [
      "Logistic regression coefficients:\n",
      "\n",
      "         age      year  pos_node\n",
      "0  0.015552 -0.028993  0.071362\n"
     ]
    }
   ],
   "source": [
    "logr_coef = pd.DataFrame(logr.coef_, columns = X.columns)\n",
    "print(\"Logistic regression coefficients:\\n\\n\", logr_coef)"
   ]
  },
  {
   "cell_type": "markdown",
   "metadata": {},
   "source": [
    "Survival chance decresed the older the patient was and the more positive axillary nodes the patient had. On the other hand, the more recent the patient had the surgery, the more likely the patient survived longer."
   ]
  },
  {
   "cell_type": "markdown",
   "metadata": {},
   "source": [
    "**Draw the learning curve for logistic regression in this case**"
   ]
  },
  {
   "cell_type": "code",
   "execution_count": 141,
   "metadata": {
    "collapsed": false
   },
   "outputs": [],
   "source": [
    "m, train_err, ts_err = learning_curve(logr, X, y)\n",
    "train_cv_err = np.mean(train_err, axis=1)\n",
    "test_cv_err = np.mean(ts_err, axis=1)"
   ]
  },
  {
   "cell_type": "code",
   "execution_count": 142,
   "metadata": {
    "collapsed": false
   },
   "outputs": [
    {
     "data": {
      "image/png": "[encoded data removed]",
      "text/plain": [
       "<matplotlib.figure.Figure at 0x117bcc0f0>"
      ]
     },
     "metadata": {},
     "output_type": "display_data"
    }
   ],
   "source": [
    "plt.figure()\n",
    "plt.plot(m, train_cv_err, label = \"Train\")\n",
    "plt.plot(m, test_cv_err, label = \"Test\")\n",
    "plt.title(\"Log-reg Learning Curve\", fontweight = \"bold\")\n",
    "plt.ylabel(\"Mean Accuracy\")\n",
    "plt.legend()\n",
    "plt.show()"
   ]
  },
  {
   "cell_type": "markdown",
   "metadata": {},
   "source": [
    "<br />\n",
    "<br />\n",
    "# Challenge Set 8"
   ]
  },
  {
   "cell_type": "markdown",
   "metadata": {},
   "source": [
    "### Challenge 1"
   ]
  },
  {
   "cell_type": "code",
   "execution_count": 391,
   "metadata": {
    "collapsed": true
   },
   "outputs": [],
   "source": [
    "#rerun data just to make sure I'm using the right one\n",
    "house = pd.read_csv(\"house-votes-84.data\", header = None)\n",
    "house.iloc[:, -1] = house.iloc[:, -1].str.strip(\".\")\n",
    "house = house.replace({\"y\": 1, \"n\": 0, \"?\": np.nan})\n",
    "house = house.fillna(house.mean())\n",
    "X = house.iloc[:, :-1]\n",
    "y = house.iloc[:, -1]\n",
    "X_train, X_test, y_train, y_test = train_test_split(X, y, test_size = TEST_SIZE, random_state = RANDOM_STATE)"
   ]
  },
  {
   "cell_type": "code",
   "execution_count": 392,
   "metadata": {
    "collapsed": false
   },
   "outputs": [],
   "source": [
    "def get_test_metrics(modelname, test_label, test_pred, mypos = 'democrat'):\n",
    "    mypos_label = mypos #Assuming democrat is the \"event\"\n",
    "    accuracy = accuracy_score(test_label, test_pred)\n",
    "    precision = precision_score(test_label, test_pred, pos_label = mypos_label) \n",
    "    recall = recall_score(test_label, test_pred, pos_label = mypos_label)\n",
    "    f1 = f1_score(test_label, test_pred, pos_label = mypos_label)\n",
    "    print(modelname, \"test set\",\n",
    "          \"accuracy\", format(accuracy, \"8.6f\"), \n",
    "          \"precision\", format(precision, \"8.6f\"), \n",
    "          \"recall\", format(recall, \"8.6f\"), \n",
    "          \"f1\", format(f1, \"8.6f\"))\n",
    "    return accuracy, precision, recall, f1"
   ]
  },
  {
   "cell_type": "code",
   "execution_count": 393,
   "metadata": {
    "collapsed": false
   },
   "outputs": [],
   "source": [
    "def get_test_pred(modelname, *args, **kwargs):\n",
    "    model = modelname(*args)\n",
    "    model.fit(X_train, y_train)\n",
    "    test_pred = model.predict(X_test)\n",
    "    get_test_metrics(modelname.__name__, y_test, test_pred, **kwargs)\n",
    "    return test_pred"
   ]
  },
  {
   "cell_type": "code",
   "execution_count": 394,
   "metadata": {
    "collapsed": false
   },
   "outputs": [
    {
     "name": "stdout",
     "output_type": "stream",
     "text": [
      "LogisticRegression test set accuracy 0.938931 precision 0.925926 recall 0.974026 f1 0.949367\n",
      "KNeighborsClassifier test set accuracy 0.931298 precision 0.925000 recall 0.961039 f1 0.942675\n",
      "GaussianNB test set accuracy 0.938931 precision 0.915663 recall 0.987013 f1 0.950000\n",
      "SVC test set accuracy 0.954198 precision 0.949367 recall 0.974026 f1 0.961538\n",
      "DecisionTreeClassifier test set accuracy 0.946565 precision 0.948718 recall 0.961039 f1 0.954839\n",
      "RandomForestClassifier test set accuracy 0.938931 precision 0.915663 recall 0.987013 f1 0.950000\n"
     ]
    }
   ],
   "source": [
    "logr_pred = get_test_pred(LogisticRegression)\n",
    "knn_pred = get_test_pred(KNeighborsClassifier, best_k)\n",
    "nb_pred = get_test_pred(GaussianNB)\n",
    "svm_pred = get_test_pred(SVC)\n",
    "tree_pred = get_test_pred(DecisionTreeClassifier)\n",
    "rf_pred = get_test_pred(RandomForestClassifier)"
   ]
  },
  {
   "cell_type": "markdown",
   "metadata": {},
   "source": [
    "### Challenge 2"
   ]
  },
  {
   "cell_type": "code",
   "execution_count": 400,
   "metadata": {
    "collapsed": false
   },
   "outputs": [],
   "source": [
    "def plt_test_roc(modelname, mypos, *args, **kwargs):\n",
    "    model = modelname(*args, **kwargs)\n",
    "    model.fit(X_train, y_train)\n",
    "    test_proba = model.predict_proba(X_test)[:, 0]\n",
    "    fpr, tpr, thresholds = roc_curve(y_test, test_proba, pos_label = mypos)\n",
    "    auc_value = auc(fpr, tpr)\n",
    "    \n",
    "    plt.figure()\n",
    "    plt.plot(fpr, tpr)\n",
    "    plt.title(modelname.__name__ + \" ROC Curve (AUC=\" + str(format(auc_value, \"6.4f\")) + \")\")\n",
    "    plt.show()\n",
    "    return None"
   ]
  },
  {
   "cell_type": "code",
   "execution_count": 401,
   "metadata": {
    "collapsed": false
   },
   "outputs": [
    {
     "data": {
      "image/png": "[encoded data removed]",
      "text/plain": [
       "<matplotlib.figure.Figure at 0x116c3d7b8>"
      ]
     },
     "metadata": {},
     "output_type": "display_data"
    }
   ],
   "source": [
    "plt_test_roc(LogisticRegression, 'democrat')"
   ]
  },
  {
   "cell_type": "code",
   "execution_count": 403,
   "metadata": {
    "collapsed": false
   },
   "outputs": [
    {
     "data": {
      "image/png": "[encoded data removed]",
      "text/plain": [
       "<matplotlib.figure.Figure at 0x114488cc0>"
      ]
     },
     "metadata": {},
     "output_type": "display_data"
    }
   ],
   "source": [
    "knn_pred = plt_test_roc(KNeighborsClassifier, 'democrat', best_k)"
   ]
  },
  {
   "cell_type": "code",
   "execution_count": 404,
   "metadata": {
    "collapsed": false
   },
   "outputs": [
    {
     "data": {
      "image/png": "[encoded data removed]",
      "text/plain": [
       "<matplotlib.figure.Figure at 0x118a13470>"
      ]
     },
     "metadata": {},
     "output_type": "display_data"
    }
   ],
   "source": [
    "nb_pred = plt_test_roc(GaussianNB, 'democrat')"
   ]
  },
  {
   "cell_type": "code",
   "execution_count": 405,
   "metadata": {
    "collapsed": false
   },
   "outputs": [
    {
     "data": {
      "image/png": "[encoded data removed]",
      "text/plain": [
       "<matplotlib.figure.Figure at 0x118273390>"
      ]
     },
     "metadata": {},
     "output_type": "display_data"
    }
   ],
   "source": [
    "svm_pred = plt_test_roc(SVC, 'democrat', probability = True)"
   ]
  },
  {
   "cell_type": "code",
   "execution_count": 406,
   "metadata": {
    "collapsed": false
   },
   "outputs": [
    {
     "data": {
      "image/png": "[encoded data removed]",
      "text/plain": [
       "<matplotlib.figure.Figure at 0x1183a12b0>"
      ]
     },
     "metadata": {},
     "output_type": "display_data"
    }
   ],
   "source": [
    "tree_pred = plt_test_roc(DecisionTreeClassifier, 'democrat')"
   ]
  },
  {
   "cell_type": "code",
   "execution_count": 407,
   "metadata": {
    "collapsed": false
   },
   "outputs": [
    {
     "data": {
      "image/png": "[encoded data removed]",
      "text/plain": [
       "<matplotlib.figure.Figure at 0x11750e0f0>"
      ]
     },
     "metadata": {},
     "output_type": "display_data"
    }
   ],
   "source": [
    "rf_pred = plt_test_roc(RandomForestClassifier, 'democrat')"
   ]
  },
  {
   "cell_type": "markdown",
   "metadata": {},
   "source": [
    "### Challenge 3"
   ]
  },
  {
   "cell_type": "code",
   "execution_count": 408,
   "metadata": {
    "collapsed": true
   },
   "outputs": [],
   "source": [
    "def get_cv_metrics(modelname, *args, **kwargs):\n",
    "    model = modelname(*args, **kwargs)\n",
    "    accuracy = np.mean(cross_val_score(model, X, y, scoring = make_scorer(accuracy_score)))\n",
    "    precision = np.mean(cross_val_score(model, X, y, scoring = make_scorer(precision_score, pos_label = mypos_label)))\n",
    "    recall = np.mean(cross_val_score(model, X, y, scoring = make_scorer(recall_score, pos_label = mypos_label)))\n",
    "    f1 = np.mean(cross_val_score(model, X, y, scoring = make_scorer(f1_score, pos_label = mypos_label)))\n",
    "\n",
    "    print(modelname.__name__, \"CV\",\n",
    "      \"accuracy\", format(accuracy, \"8.6f\"), \n",
    "      \"precision\", format(precision, \"8.6f\"), \n",
    "      \"recall\", format(recall, \"8.6f\"), \n",
    "      \"f1\", format(f1, \"8.6f\"))\n",
    "    return accuracy, precision, recall, f1"
   ]
  },
  {
   "cell_type": "code",
   "execution_count": 409,
   "metadata": {
    "collapsed": false
   },
   "outputs": [
    {
     "name": "stdout",
     "output_type": "stream",
     "text": [
      "LogisticRegression CV accuracy 0.960920 precision 0.970163 recall 0.966292 f1 0.967864\n",
      "KNeighborsClassifier CV accuracy 0.933333 precision 0.957892 recall 0.932584 f1 0.945019\n",
      "GaussianNB CV accuracy 0.931034 precision 0.948219 recall 0.940075 f1 0.943525\n",
      "SVC CV accuracy 0.954023 precision 0.977123 recall 0.947566 f1 0.961804\n",
      "DecisionTreeClassifier CV accuracy 0.954023 precision 0.962245 recall 0.958801 f1 0.961984\n",
      "RandomForestClassifier CV accuracy 0.965517 precision 0.973889 recall 0.970037 f1 0.964003\n"
     ]
    }
   ],
   "source": [
    "logr_cv_metrics = get_cv_metrics(LogisticRegression)\n",
    "knn_cv_metrics = get_cv_metrics(KNeighborsClassifier, best_k)\n",
    "nb_cv_metrics = get_cv_metrics(GaussianNB)\n",
    "svm_cv_metrics = get_cv_metrics(SVC)\n",
    "tree_cv_metrics = get_cv_metrics(DecisionTreeClassifier)\n",
    "rf_cv_metrics = get_cv_metrics(RandomForestClassifier)"
   ]
  },
  {
   "cell_type": "markdown",
   "metadata": {},
   "source": [
    "### Challenge 4"
   ]
  },
  {
   "cell_type": "code",
   "execution_count": 526,
   "metadata": {
    "collapsed": true
   },
   "outputs": [],
   "source": [
    "RATING_DICT = {'PG-13': 0, 'R': 1, 'PG': 2, 'G': 3}\n",
    "movie = pd.read_csv(\"2013_movies.csv\")"
   ]
  },
  {
   "cell_type": "code",
   "execution_count": 527,
   "metadata": {
    "collapsed": true
   },
   "outputs": [],
   "source": [
    "X = movie.loc[:, ['Budget', 'DomesticTotalGross', 'Runtime']]\n",
    "X = X.fillna(X.mean())\n",
    "y = movie['Rating']\n",
    "y = label_binarize(y, classes = list(RATING_DICT.keys()))\n",
    "y = y[:, :3] #note: dropping movies rated \"G\" dur to lack of variance in the data\n",
    "#X_train, X_test, y_train, y_test = train_test_split(X, y, test_size = TEST_SIZE, random_state = RANDOM_STATE)"
   ]
  },
  {
   "cell_type": "code",
   "execution_count": 529,
   "metadata": {
    "collapsed": false
   },
   "outputs": [
    {
     "name": "stdout",
     "output_type": "stream",
     "text": [
      "PG-13 precision 0.638754696726 recall 0.518055555556\n",
      "R precision 0.0 recall 0.0\n",
      "PG precision 0.0 recall 0.0\n"
     ]
    }
   ],
   "source": [
    "model = LogisticRegression() #model = OneVsRestClassifier(LogisticRegression())\n",
    "for item in [item for item in RATING_DICT.items() if item[0] != \"G\"]:\n",
    "    p = np.mean(cross_val_score(model, X, y[:, item[1]], scoring = make_scorer(precision_score)))\n",
    "    r = np.mean(cross_val_score(model, X, y[:, item[1]], scoring = make_scorer(recall_score)))\n",
    "    print(item[0], \"precision\", p, \"recall\", r)"
   ]
  },
  {
   "cell_type": "markdown",
   "metadata": {},
   "source": [
    "### Challenge 5"
   ]
  },
  {
   "cell_type": "code",
   "execution_count": 410,
   "metadata": {
    "collapsed": true
   },
   "outputs": [],
   "source": [
    "cancer = pd.read_csv(\"haberman.data\", header = None)\n",
    "cancer.columns = ['age', 'year', 'pos_node', 'Survived']"
   ]
  },
  {
   "cell_type": "code",
   "execution_count": 411,
   "metadata": {
    "collapsed": true
   },
   "outputs": [],
   "source": [
    "X = cancer.iloc[:, :-1]\n",
    "y = cancer.iloc[:, -1]\n",
    "X_train, X_test, y_train, y_test = train_test_split(X, y, test_size = TEST_SIZE, random_state = RANDOM_STATE)"
   ]
  },
  {
   "cell_type": "code",
   "execution_count": 414,
   "metadata": {
    "collapsed": false
   },
   "outputs": [
    {
     "data": {
      "image/png": "[encoded data removed]",
      "text/plain": [
       "<matplotlib.figure.Figure at 0x118916898>"
      ]
     },
     "metadata": {},
     "output_type": "display_data"
    }
   ],
   "source": [
    "logr_pred = plt_test_roc(LogisticRegression, mypos = 1) #note: predicting cancer['Survived'] == 1"
   ]
  },
  {
   "cell_type": "code",
   "execution_count": null,
   "metadata": {
    "collapsed": true
   },
   "outputs": [],
   "source": []
  }
 ],
 "metadata": {
  "kernelspec": {
   "display_name": "Python 3",
   "language": "python",
   "name": "python3"
  },
  "language_info": {
   "codemirror_mode": {
    "name": "ipython",
    "version": 3
   },
   "file_extension": ".py",
   "mimetype": "text/x-python",
   "name": "python",
   "nbconvert_exporter": "python",
   "pygments_lexer": "ipython3",
   "version": "3.6.0"
  }
 },
 "nbformat": 4,
 "nbformat_minor": 2
}
