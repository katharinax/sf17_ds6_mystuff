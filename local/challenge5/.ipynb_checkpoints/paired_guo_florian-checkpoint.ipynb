{
 "cells": [
  {
   "cell_type": "code",
   "execution_count": 2,
   "metadata": {
    "collapsed": false
   },
   "outputs": [],
   "source": [
    "def factorial(n):\n",
    "    if n == 1:\n",
    "        return 1\n",
    "    else:\n",
    "        return n * factorial(n-1)"
   ]
  },
  {
   "cell_type": "code",
   "execution_count": 5,
   "metadata": {
    "collapsed": false
   },
   "outputs": [
    {
     "data": {
      "text/plain": [
       "24"
      ]
     },
     "execution_count": 5,
     "metadata": {},
     "output_type": "execute_result"
    }
   ],
   "source": [
    "factorial(4)"
   ]
  },
  {
   "cell_type": "code",
   "execution_count": 16,
   "metadata": {
    "collapsed": true
   },
   "outputs": [],
   "source": [
    " def Fibonacci(n):\n",
    "    if n == 1:\n",
    "        return [0, 1]\n",
    "    else:\n",
    "        a = Fibonacci(n - 1)\n",
    "        a.append(sum(a[-2:]))\n",
    "        return a "
   ]
  },
  {
   "cell_type": "code",
   "execution_count": 17,
   "metadata": {
    "collapsed": false
   },
   "outputs": [
    {
     "data": {
      "text/plain": [
       "[0, 1, 1, 2, 3, 5, 8, 13, 21, 34]"
      ]
     },
     "execution_count": 17,
     "metadata": {},
     "output_type": "execute_result"
    }
   ],
   "source": [
    "Fibonacci(9)"
   ]
  },
  {
   "cell_type": "code",
   "execution_count": 46,
   "metadata": {
    "collapsed": false
   },
   "outputs": [],
   "source": [
    "import numpy as np \n",
    "\n",
    "def sort_two_sorted_li(left, right):\n",
    "    l_pointer = 0\n",
    "    r_pointer = 0\n",
    "    li = []\n",
    "    while l_pointer < len(left) and r_pointer < len(right):\n",
    "        if left[l_pointer] < right[r_pointer]:\n",
    "            li.append(left[l_pointer])\n",
    "            l_pointer += 1\n",
    "        #if left[l_pointer] >= right[r_pointer]:\n",
    "        else:\n",
    "            li.append(right[r_pointer])\n",
    "            r_pointer += 1\n",
    "    if l_pointer == len(left):\n",
    "        li.extend(right[r_pointer:])\n",
    "    else:\n",
    "        li.extend(left[l_pointer:])\n",
    "    return li\n",
    "\n",
    "def MergeSort(li):\n",
    "    len_of_li = len(li)\n",
    "    if len_of_li < 2:\n",
    "        return li\n",
    "    else:\n",
    "        mid = len(li) // 2\n",
    "        left = MergeSort(li[:mid])\n",
    "        right = MergeSort(li[mid:])\n",
    "    return sort_two_sorted_li(left, right)"
   ]
  },
  {
   "cell_type": "code",
   "execution_count": 57,
   "metadata": {
    "collapsed": false
   },
   "outputs": [],
   "source": []
  },
  {
   "cell_type": "code",
   "execution_count": 58,
   "metadata": {
    "collapsed": false
   },
   "outputs": [
    {
     "data": {
      "text/plain": [
       "[1, 2, 3, 4, 5, 6, 14]"
      ]
     },
     "execution_count": 58,
     "metadata": {},
     "output_type": "execute_result"
    }
   ],
   "source": [
    "sort_two_sorted_li([1, 2, 3, 14], [4, 5, 6])"
   ]
  },
  {
   "cell_type": "code",
   "execution_count": 60,
   "metadata": {
    "collapsed": false
   },
   "outputs": [
    {
     "data": {
      "text/plain": [
       "[5]"
      ]
     },
     "execution_count": 60,
     "metadata": {},
     "output_type": "execute_result"
    }
   ],
   "source": [
    "MergeSort([5]) #[5]"
   ]
  },
  {
   "cell_type": "code",
   "execution_count": null,
   "metadata": {
    "collapsed": true
   },
   "outputs": [],
   "source": []
  }
 ],
 "metadata": {
  "kernelspec": {
   "display_name": "Python 3",
   "language": "python",
   "name": "python3"
  },
  "language_info": {
   "codemirror_mode": {
    "name": "ipython",
    "version": 3
   },
   "file_extension": ".py",
   "mimetype": "text/x-python",
   "name": "python",
   "nbconvert_exporter": "python",
   "pygments_lexer": "ipython3",
   "version": "3.6.0"
  }
 },
 "nbformat": 4,
 "nbformat_minor": 2
}
