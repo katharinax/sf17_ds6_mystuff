{
 "cells": [
  {
   "cell_type": "code",
   "execution_count": 1,
   "metadata": {
    "collapsed": true
   },
   "outputs": [],
   "source": [
    "import numpy as np\n",
    "import math\n",
    "import pandas as pd\n",
    "import matplotlib.pyplot as plt\n",
    "import datetime as dt\n",
    "import dateutil as du\n",
    "import re\n",
    "import requests\n",
    "import io\n",
    "import os\n",
    "%matplotlib inline  "
   ]
  },
  {
   "cell_type": "code",
   "execution_count": 2,
   "metadata": {
    "collapsed": false
   },
   "outputs": [],
   "source": [
    "def get_day(df, dOfWk, val):\n",
    "    \"\"\"\n",
    "    purpose: flatten pandas DataFrame from day to wk level\n",
    "    input: \n",
    "        df - one wk long DataFrame with values of interest by day\n",
    "        dOfWk - day of week varname\n",
    "        val - varname of the value we are interested in\n",
    "    output: DataFrame flattened to one row per wk\n",
    "    note: see Paul's example code in Slack\n",
    "    \"\"\"\n",
    "    li = []\n",
    "    for day in range(1, 8):\n",
    "        item = list(df[df[dOfWk] == day][val])\n",
    "        if item:\n",
    "            li += item\n",
    "        else:\n",
    "            li += [np.nan]\n",
    "    return li"
   ]
  },
  {
   "cell_type": "code",
   "execution_count": 3,
   "metadata": {
    "collapsed": true
   },
   "outputs": [],
   "source": [
    "def ChooseTurnstile(station):\n",
    "    #by Walter\n",
    "    a = turn.loc[turn[\"STATION\"] == station]\n",
    "    return a"
   ]
  },
  {
   "cell_type": "code",
   "execution_count": 4,
   "metadata": {
    "collapsed": true
   },
   "outputs": [],
   "source": [
    "FILENAME = ['turnstile_170408', 'turnstile_170401']\n",
    "STATION_GROUP = ['C/A', 'UNIT', 'STATION']\n",
    "        #Our group found duplicated C/A's in one Station. We think STATION > UNIT ? C/A > SCP\n",
    "TURN_GROUP = STATION_GROUP + ['SCP']"
   ]
  },
  {
   "cell_type": "code",
   "execution_count": 5,
   "metadata": {
    "collapsed": false
   },
   "outputs": [],
   "source": [
    "#data import (note: I decided to go with two arbitrary files)\n",
    "if os.path.isfile('turn_cleaned.csv'):\n",
    "    turn = pd.read_csv('turn_cleaned.csv', index_col=0)\n",
    "else:\n",
    "    turn = pd.DataFrame()\n",
    "    for fn in FILENAME:\n",
    "        url = r\"http://web.mta.info/developers/data/nyct/turnstile/\"+fn+r\".txt\"\n",
    "        temp = requests.get(url).content\n",
    "        temp = pd.read_csv(io.StringIO(temp.decode('utf-8')))\n",
    "        try:\n",
    "            turn = turn.append(temp)\n",
    "        except:\n",
    "            turn = temp.copy()\n",
    "            \n",
    "    #toy dataset\n",
    "    #turn = turn.head(500).append(turn.tail(500)); \n",
    "    #turn.reset_index(inplace=True) \n",
    "\n",
    "    #check data\n",
    "    #turn.shape\n",
    "    #turn['DATE'].sort_values().value_counts()\n",
    "    #turn.head(2)\n",
    "    #turn.tail(2)\n",
    "\n",
    "    #cleaning and feature engineering\n",
    "    shape = turn.shape\n",
    "    turn.columns = turn.columns.str.strip()\n",
    "    turn.loc[:, 'd'] = turn['DATE'].map(lambda x: pd.to_datetime(x))\n",
    "    turn.loc[:, 'ts'] = turn['DATE'].str.cat(turn['TIME'], sep = \" \").map(lambda x: pd.to_datetime(x))\n",
    "    turn.loc[:, 'hr'] = turn['ts'].dt.hour\n",
    "    turn.loc[:, 'wday_ch'] = turn.loc[:, 'd'].map(lambda x: x.strftime(\"%A\"))\n",
    "    turn.loc[:, 'wday_num'] = turn.loc[:, 'd'].map(lambda x: x.isoweekday())\n",
    "    turn.loc[:, 'wk'] = turn.loc[:, 'd'].map(lambda x: x.isocalendar()[1])\n",
    "\n",
    "    ##cols for Benson proj\n",
    "    #turn['d'].value_counts()\n",
    "    turn.loc[turn['d'].isin(pd.date_range(dt.datetime(2015, 6, 1), dt.datetime(2015, 8, 1))), 'timeslot'] = \"Summer2015\"\n",
    "    turn.loc[turn['d'].isin(pd.date_range(dt.datetime(2015, 9, 1), dt.datetime(2015, 11, 1))), 'timeslot'] = \"Fall2015\"\n",
    "    turn.loc[turn['d'].isin(pd.date_range(dt.datetime(2016, 6, 1), dt.datetime(2016, 8, 1))), 'timeslot'] = \"Summer2016\"\n",
    "    turn.loc[turn['d'].isin(pd.date_range(dt.datetime(2016, 9, 1), dt.datetime(2016, 11, 1))), 'timeslot'] = \"Fall2016\"\n",
    "\n",
    "    turn.sort_values(TURN_GROUP + ['ts'], inplace = True)\n",
    "    turn.loc[:, 'net_enter'] = turn['ENTRIES'] - turn.groupby(TURN_GROUP)['ENTRIES'].shift(1)\n",
    "    turn.loc[:, 'net_exits'] = turn['EXITS'] - turn.groupby(TURN_GROUP)['EXITS'].shift(1)\n",
    "    turn.loc[:, 'tot_traffic'] = turn['net_enter'] + turn['net_exits']\n",
    "    #turn.loc[:, 'net_traffic'] = turn['net_enter'] - turn['net_exits']\n",
    "\n",
    "    ##get rid of duplicates and audit\n",
    "    turn = turn[turn['DESC'] == 'REGULAR']\n",
    "\n",
    "    ##make counter resets missing\n",
    "    turn.loc[turn['net_enter'] < 0, 'net_enter'] = np.nan\n",
    "    turn.loc[turn['net_exits'] < 0, 'net_exits'] = np.nan\n",
    "\n",
    "    ##make outliers missing (one of the records show a marathon weekend)\n",
    "    #turn['net_exits'].hist(); turn.loc[turn['net_exits'] > 20000, 'd'].value_counts()\n",
    "    turn.loc[turn['net_exits'] > 20000, 'net_exits'] = np.nan\n",
    "\n",
    "    turn.reset_index(inplace = True)\n",
    "    turn.to_csv('turn_cleaned.csv')"
   ]
  },
  {
   "cell_type": "code",
   "execution_count": 12,
   "metadata": {
    "collapsed": false
   },
   "outputs": [],
   "source": [
    "#challenge 1\n",
    "turn_dic = {}\n",
    "val_col = ['LINENAME', 'DIVISION', 'DATE', 'TIME', 'DESC', 'ENTRIES', 'EXITS']\n",
    "for row in range(10): #range(shape[0]):\n",
    "    key = tuple(turn.loc[row, TURN_GROUP])\n",
    "    val = list(turn.loc[row, val_col])\n",
    "    try:\n",
    "        turn_dic[key] += [val]\n",
    "    except:\n",
    "        turn_dic[key] = [val]"
   ]
  },
  {
   "cell_type": "code",
   "execution_count": 14,
   "metadata": {
    "collapsed": false
   },
   "outputs": [],
   "source": [
    "#turn_dic"
   ]
  },
  {
   "cell_type": "code",
   "execution_count": 15,
   "metadata": {
    "collapsed": false
   },
   "outputs": [],
   "source": [
    "#challenge 2\n",
    "turn_ts = {}\n",
    "for row in range(10): #range(shape[0]):\n",
    "    key = tuple(turn.loc[row, TURN_GROUP])\n",
    "    val = [du.parser.parse(turn['ts'][row]), turn['tot_traffic'][row]]\n",
    "    try:\n",
    "        turn_ts[key] += [val]\n",
    "    except:\n",
    "        turn_ts[key] = [val]"
   ]
  },
  {
   "cell_type": "code",
   "execution_count": 17,
   "metadata": {
    "collapsed": false
   },
   "outputs": [],
   "source": [
    "#turn_ts"
   ]
  },
  {
   "cell_type": "code",
   "execution_count": 18,
   "metadata": {
    "collapsed": false
   },
   "outputs": [
    {
     "name": "stdout",
     "output_type": "stream",
     "text": [
      "These counts are for every 4 hours.\n"
     ]
    }
   ],
   "source": [
    "#challenge 3\n",
    "time_obj = turn.loc[:2, 'ts'].map(du.parser.parse)\n",
    "n = int((time_obj[1] - time_obj[0]).seconds / 3600)\n",
    "print(\"These counts are for every\", n, \"hours.\")"
   ]
  },
  {
   "cell_type": "code",
   "execution_count": 19,
   "metadata": {
    "collapsed": false
   },
   "outputs": [],
   "source": [
    "dt_turn_day = turn[TURN_GROUP + ['d', 'tot_traffic']]\n",
    "dt_turn_day = dt_turn_day.groupby(TURN_GROUP + ['d']).sum()\n",
    "dt_turn_day.reset_index(inplace=True)\n",
    "dt_turn_day.loc[dt_turn_day['tot_traffic'].map(math.isnan), 'tot_traffic'] = 0\n",
    "dt_turn_day['tot_traffic'] = dt_turn_day['tot_traffic'].astype(int)\n",
    "\n",
    "turn_day = {}\n",
    "for row in range(100): #range(dt_turn_day.shape[0]):\n",
    "    key = tuple(dt_turn_day.iloc[row, 0:4])\n",
    "    val = [du.parser.parse(dt_turn_day['d'][row]).date(), dt_turn_day['tot_traffic'][row]]\n",
    "    try:\n",
    "        turn_day[key] += [val]\n",
    "    except:\n",
    "        turn_day[key] = [val]"
   ]
  },
  {
   "cell_type": "code",
   "execution_count": 21,
   "metadata": {
    "collapsed": false
   },
   "outputs": [],
   "source": [
    "#turn_day"
   ]
  },
  {
   "cell_type": "code",
   "execution_count": 22,
   "metadata": {
    "collapsed": false
   },
   "outputs": [
    {
     "data": {
      "image/png": "[encoded data removed]",
      "text/plain": [
       "<matplotlib.figure.Figure at 0x10f116c88>"
      ]
     },
     "metadata": {},
     "output_type": "display_data"
    }
   ],
   "source": [
    "#challenge 4\n",
    "one_turnstile = list(turn_day.keys())[0] #arbitrary pick\n",
    "dates = [x[0] for x in turn_day[one_turnstile]]\n",
    "counts = [x[1] for x in turn_day[one_turnstile]]\n",
    "     \n",
    "plt.figure(figsize=(10,3))\n",
    "plt.plot(dates,counts)\n",
    "plt.ylim(ymin = 0)\n",
    "plt.show() #TODO add title and stuff\n",
    "        \n",
    "#plt.scatter(turn['d'].map(lambda x: x.isoweekday()), turn['tot_traffic'])\n",
    "#plt.scatter(turn['hr'], turn['tot_traffic'])"
   ]
  },
  {
   "cell_type": "code",
   "execution_count": 23,
   "metadata": {
    "collapsed": true
   },
   "outputs": [],
   "source": [
    "#challenge 5\n",
    "dt_turn_day_station = turn[STATION_GROUP + ['d', 'tot_traffic']]\n",
    "dt_turn_day_station = dt_turn_day_station.groupby(STATION_GROUP + ['d']).sum()\n",
    "dt_turn_day_station.reset_index(inplace=True)\n",
    "dt_turn_day_station['tot_traffic'] = dt_turn_day_station['tot_traffic'].astype(int)"
   ]
  },
  {
   "cell_type": "code",
   "execution_count": 26,
   "metadata": {
    "collapsed": false
   },
   "outputs": [
    {
     "data": {
      "text/html": [
       "<div>\n",
       "<table border=\"1\" class=\"dataframe\">\n",
       "  <thead>\n",
       "    <tr style=\"text-align: right;\">\n",
       "      <th></th>\n",
       "      <th>C/A</th>\n",
       "      <th>UNIT</th>\n",
       "      <th>STATION</th>\n",
       "      <th>d</th>\n",
       "      <th>tot_traffic</th>\n",
       "    </tr>\n",
       "  </thead>\n",
       "  <tbody>\n",
       "    <tr>\n",
       "      <th>0</th>\n",
       "      <td>A002</td>\n",
       "      <td>R051</td>\n",
       "      <td>59 ST</td>\n",
       "      <td>2017-03-25 00:00:00</td>\n",
       "      <td>11320</td>\n",
       "    </tr>\n",
       "    <tr>\n",
       "      <th>1</th>\n",
       "      <td>A002</td>\n",
       "      <td>R051</td>\n",
       "      <td>59 ST</td>\n",
       "      <td>2017-03-26 00:00:00</td>\n",
       "      <td>10749</td>\n",
       "    </tr>\n",
       "  </tbody>\n",
       "</table>\n",
       "</div>"
      ],
      "text/plain": [
       "    C/A  UNIT STATION                    d  tot_traffic\n",
       "0  A002  R051   59 ST  2017-03-25 00:00:00        11320\n",
       "1  A002  R051   59 ST  2017-03-26 00:00:00        10749"
      ]
     },
     "execution_count": 26,
     "metadata": {},
     "output_type": "execute_result"
    }
   ],
   "source": [
    "#dt_turn_day_station.head(2)"
   ]
  },
  {
   "cell_type": "code",
   "execution_count": 28,
   "metadata": {
    "collapsed": false
   },
   "outputs": [],
   "source": [
    "#Challenge 6      \n",
    "turn_day_station = {}\n",
    "for row in range(dt_turn_day_station.shape[0]):\n",
    "    key = tuple(dt_turn_day_station[STATION_GROUP].iloc[row])\n",
    "    val = [du.parser.parse(dt_turn_day_station['d'][row]).date(), dt_turn_day_station['tot_traffic'][row]]\n",
    "    try:\n",
    "        turn_day_station[key] += [val]\n",
    "    except:\n",
    "        turn_day_station[key] = [val]   "
   ]
  },
  {
   "cell_type": "code",
   "execution_count": 30,
   "metadata": {
    "collapsed": false
   },
   "outputs": [],
   "source": [
    "#turn_day_station"
   ]
  },
  {
   "cell_type": "code",
   "execution_count": 31,
   "metadata": {
    "collapsed": false
   },
   "outputs": [
    {
     "data": {
      "image/png": "[encoded data removed]",
      "text/plain": [
       "<matplotlib.figure.Figure at 0x110c0f3c8>"
      ]
     },
     "metadata": {},
     "output_type": "display_data"
    }
   ],
   "source": [
    "#Challenge 7\n",
    "one_station = list(turn_day_station.keys())[0]\n",
    "dates = [x[0] for x in turn_day_station[one_station]]\n",
    "counts = [x[1] for x in turn_day_station[one_station]]\n",
    "     \n",
    "plt.figure(figsize=(10,3))\n",
    "plt.plot(dates,counts)\n",
    "plt.ylim(ymin = 0)\n",
    "plt.show() "
   ]
  },
  {
   "cell_type": "code",
   "execution_count": 32,
   "metadata": {
    "collapsed": false
   },
   "outputs": [
    {
     "data": {
      "image/png": "[encoded data removed]",
      "text/plain": [
       "<matplotlib.figure.Figure at 0x10ee57d30>"
      ]
     },
     "metadata": {},
     "output_type": "display_data"
    }
   ],
   "source": [
    "#Challenge 8\n",
    "dt_turn_wk_station = turn[STATION_GROUP + ['wk', 'wday_num', 'tot_traffic']]\n",
    "dt_turn_wk_station = dt_turn_wk_station.groupby(STATION_GROUP + ['wk', 'wday_num']).sum()       \n",
    "dt_turn_wk_station.reset_index(inplace=True)  \n",
    "gp = STATION_GROUP + ['wk'] \n",
    "g = dt_turn_wk_station.groupby(gp)\n",
    "dt_turn_wk_station = pd.DataFrame(g.apply(lambda x: get_day(x, 'wday_num', 'tot_traffic')))\n",
    "dt_turn_wk_station.rename(columns = {0: 'tot_traffic'}, inplace = True)  \n",
    "#alternative method \n",
    "#dt_turn_wk_station = dt_turn_wk_station.pivot_table( \n",
    "#        values = 'tot_traffic', \n",
    "#        index = STATION_GROUP + ['wk'], \n",
    "#        columns = ['wday']) \n",
    "dt_turn_wk_station.reset_index(inplace=True)               \n",
    "        \n",
    "turn_wk_station = {}\n",
    "    #data structure: (ca, unit, station): [{wk1: [m,t,w,t,f,s,s]}, {wk2: [m,t,w,t,f,s,s]}]\n",
    "for row in range(dt_turn_wk_station.shape[0]):\n",
    "    key = tuple(dt_turn_wk_station[STATION_GROUP].iloc[row])\n",
    "    val_key = dt_turn_wk_station['wk'].iloc[row]\n",
    "    val_val = dt_turn_wk_station['tot_traffic'].iloc[row]\n",
    "    val = {val_key: val_val}\n",
    "    try:\n",
    "        turn_wk_station[key] += [val]\n",
    "    except:\n",
    "        turn_wk_station[key] = [val]\n",
    "        \n",
    "dates = [x for x in turn_wk_station[one_station]]\n",
    "plt.figure(figsize=(10,3))\n",
    "for li in dates:\n",
    "    week_count_list = list(li.values())[0]\n",
    "    lab = list(li.keys())[0]\n",
    "    plt.plot(week_count_list, label = \"wk\" + str(lab))   \n",
    "plt.ylim(ymin = 0)\n",
    "plt.legend()\n",
    "plt.show()"
   ]
  },
  {
   "cell_type": "code",
   "execution_count": 34,
   "metadata": {
    "collapsed": false
   },
   "outputs": [
    {
     "name": "stdout",
     "output_type": "stream",
     "text": [
      "Top 4 stations with the highest traffic during the time I investigate: \n",
      "\n"
     ]
    },
    {
     "data": {
      "text/html": [
       "<div>\n",
       "<table border=\"1\" class=\"dataframe\">\n",
       "  <thead>\n",
       "    <tr style=\"text-align: right;\">\n",
       "      <th></th>\n",
       "      <th>C/A</th>\n",
       "      <th>UNIT</th>\n",
       "      <th>STATION</th>\n",
       "      <th>count</th>\n",
       "      <th>sum</th>\n",
       "      <th>mean</th>\n",
       "    </tr>\n",
       "  </thead>\n",
       "  <tbody>\n",
       "    <tr>\n",
       "      <th>374</th>\n",
       "      <td>N508</td>\n",
       "      <td>R453</td>\n",
       "      <td>23 ST</td>\n",
       "      <td>14</td>\n",
       "      <td>539299083357</td>\n",
       "      <td>3.852136e+10</td>\n",
       "    </tr>\n",
       "    <tr>\n",
       "      <th>35</th>\n",
       "      <td>A066</td>\n",
       "      <td>R118</td>\n",
       "      <td>CANAL ST</td>\n",
       "      <td>14</td>\n",
       "      <td>496745522854</td>\n",
       "      <td>3.548182e+10</td>\n",
       "    </tr>\n",
       "    <tr>\n",
       "      <th>164</th>\n",
       "      <td>J034</td>\n",
       "      <td>R007</td>\n",
       "      <td>104 ST</td>\n",
       "      <td>14</td>\n",
       "      <td>462801948479</td>\n",
       "      <td>3.305728e+10</td>\n",
       "    </tr>\n",
       "    <tr>\n",
       "      <th>214</th>\n",
       "      <td>N063A</td>\n",
       "      <td>R011</td>\n",
       "      <td>42 ST-PORT AUTH</td>\n",
       "      <td>14</td>\n",
       "      <td>421615996857</td>\n",
       "      <td>3.011543e+10</td>\n",
       "    </tr>\n",
       "  </tbody>\n",
       "</table>\n",
       "</div>"
      ],
      "text/plain": [
       "       C/A  UNIT          STATION  count           sum          mean\n",
       "374   N508  R453            23 ST     14  539299083357  3.852136e+10\n",
       "35    A066  R118         CANAL ST     14  496745522854  3.548182e+10\n",
       "164   J034  R007           104 ST     14  462801948479  3.305728e+10\n",
       "214  N063A  R011  42 ST-PORT AUTH     14  421615996857  3.011543e+10"
      ]
     },
     "execution_count": 34,
     "metadata": {},
     "output_type": "execute_result"
    }
   ],
   "source": [
    "#Challenge 9\n",
    "g = dt_turn_day_station.groupby(STATION_GROUP)\n",
    "dt_turn_station_avg = pd.DataFrame(g.agg({'tot_traffic': [pd.Series.count, np.sum, pd.Series.mean]}))\n",
    "dt_turn_station_avg.columns = dt_turn_station_avg.columns.get_level_values(1)\n",
    "dt_turn_station_avg.reset_index(inplace = True)\n",
    "dt_turn_station_avg.sort_values('mean', ascending = False, inplace = True)\n",
    "\n",
    "top_num = 4\n",
    "print(r\"Top \" + str(top_num) + \" stations with the highest traffic during the time I investigate:\", \"\\n\")\n",
    "dt_turn_station_avg.head(top_num)"
   ]
  },
  {
   "cell_type": "code",
   "execution_count": 38,
   "metadata": {
    "collapsed": false
   },
   "outputs": [
    {
     "data": {
      "image/png": "[encoded data removed]",
      "text/plain": [
       "<matplotlib.figure.Figure at 0x110d00668>"
      ]
     },
     "metadata": {},
     "output_type": "display_data"
    }
   ],
   "source": [
    "#Challenge 10\n",
    "total_ridership_counts = list(dt_turn_station_avg[\"mean\"])\n",
    "plt.figure(figsize=(10,3))\n",
    "plt.hist(total_ridership_counts, bins = 30)\n",
    "plt.show()"
   ]
  },
  {
   "cell_type": "code",
   "execution_count": 42,
   "metadata": {
    "collapsed": false
   },
   "outputs": [
    {
     "data": {
      "image/png": "[encoded data removed]",
      "text/plain": [
       "<matplotlib.figure.Figure at 0x10ee0f9b0>"
      ]
     },
     "metadata": {},
     "output_type": "display_data"
    }
   ],
   "source": [
    "indices = range(len(total_ridership_counts)-1, -1, -1)\n",
    "plt.figure(figsize=(10,3))\n",
    "plt.barh(list(indices)[:top_num], total_ridership_counts[:top_num], align='center')\n",
    "#plt.ylim(ymin = -0.5)\n",
    "label1 = list(dt_turn_station_avg[\"STATION\"])[:top_num]\n",
    "plt.yticks(list(indices)[:top_num], label1)\n",
    "plt.show()"
   ]
  },
  {
   "cell_type": "code",
   "execution_count": null,
   "metadata": {
    "collapsed": true
   },
   "outputs": [],
   "source": []
  }
 ],
 "metadata": {
  "kernelspec": {
   "display_name": "Python 3",
   "language": "python",
   "name": "python3"
  },
  "language_info": {
   "codemirror_mode": {
    "name": "ipython",
    "version": 3
   },
   "file_extension": ".py",
   "mimetype": "text/x-python",
   "name": "python",
   "nbconvert_exporter": "python",
   "pygments_lexer": "ipython3",
   "version": "3.6.0"
  }
 },
 "nbformat": 4,
 "nbformat_minor": 2
}
