{
 "cells": [
  {
   "cell_type": "code",
   "execution_count": 1,
   "metadata": {
    "collapsed": true
   },
   "outputs": [],
   "source": [
    "# Keep this running in the command line:\n",
    "# ssh -NL 12345:localhost:27017 myaws &\n",
    "# To kill:\n",
    "# use ps | grep \"ssh -NL\" to find jobID, then\n",
    "# kill [jobID]\n",
    "# \n",
    "# Indeed API: https://github.com/indeedlabs/indeed-python"
   ]
  },
  {
   "cell_type": "code",
   "execution_count": 5,
   "metadata": {
    "collapsed": true
   },
   "outputs": [],
   "source": [
    "import numpy as np\n",
    "import pandas as pd\n",
    "import matplotlib.pyplot as plt\n",
    "import re\n",
    "import json\n",
    "from pymongo import MongoClient\n",
    "from indeed import IndeedClient\n",
    "import pickle\n",
    "%matplotlib inline"
   ]
  },
  {
   "cell_type": "markdown",
   "metadata": {},
   "source": [
    "### set up indeed connection"
   ]
  },
  {
   "cell_type": "code",
   "execution_count": 6,
   "metadata": {
    "collapsed": true
   },
   "outputs": [],
   "source": [
    "indeedClient = IndeedClient(publisher = 5028694075236965)"
   ]
  },
  {
   "cell_type": "markdown",
   "metadata": {},
   "source": [
    "### set up mongo connection"
   ]
  },
  {
   "cell_type": "code",
   "execution_count": 10,
   "metadata": {
    "collapsed": true
   },
   "outputs": [],
   "source": [
    "mongoClient = MongoClient(port = 12345)"
   ]
  },
  {
   "cell_type": "code",
   "execution_count": 11,
   "metadata": {
    "collapsed": false
   },
   "outputs": [],
   "source": [
    "db = mongoClient.indeed"
   ]
  },
  {
   "cell_type": "code",
   "execution_count": 12,
   "metadata": {
    "collapsed": false
   },
   "outputs": [],
   "source": [
    "coll = mongoClient.indeedColl"
   ]
  },
  {
   "cell_type": "markdown",
   "metadata": {},
   "source": [
    "### indeed query"
   ]
  },
  {
   "cell_type": "code",
   "execution_count": 73,
   "metadata": {
    "collapsed": false
   },
   "outputs": [],
   "source": [
    "i = 0\n",
    "params = {\n",
    "    'q' : \"(python or 'data science' or 'data scientist')\",\n",
    "    'l' : \"Foster City, CA\", # kind of the midpoint of SF to South Bay\n",
    "    'userip' : \"13.56.31.137\", # my AWS instance static IP\n",
    "    'useragent' : \"Mozilla/5.0 (Macintosh; Intel Mac OS X 10_8_2)\", # this is fake...\n",
    "    'format' : 'json', # this is the default anyways\n",
    "    'radius' : 50, # n miles,\n",
    "    'start' : i, # page num\n",
    "    'fromage' : 60, # get results from within n days\n",
    "    'limit' : 25, # display per page, 25 is max, probably doesn't matter\n",
    "    'latlong' : 1 # If latlong=1, returns latitude and longitude information\n",
    "}\n",
    "\n",
    "search_response = indeedClient.search(**params)"
   ]
  },
  {
   "cell_type": "code",
   "execution_count": 74,
   "metadata": {
    "collapsed": false
   },
   "outputs": [
    {
     "data": {
      "text/plain": [
       "dict_keys(['version', 'query', 'location', 'paginationPayload', 'radius', 'dupefilter', 'highlight', 'totalResults', 'start', 'end', 'pageNumber', 'results'])"
      ]
     },
     "execution_count": 74,
     "metadata": {},
     "output_type": "execute_result"
    }
   ],
   "source": [
    "search_response.keys()"
   ]
  },
  {
   "cell_type": "code",
   "execution_count": 82,
   "metadata": {
    "collapsed": false
   },
   "outputs": [
    {
     "data": {
      "text/plain": [
       "2815"
      ]
     },
     "execution_count": 82,
     "metadata": {},
     "output_type": "execute_result"
    }
   ],
   "source": [
    "search_response['totalResults']"
   ]
  },
  {
   "cell_type": "code",
   "execution_count": 105,
   "metadata": {
    "collapsed": false
   },
   "outputs": [
    {
     "data": {
      "text/plain": [
       "{'city': 'Menlo Park',\n",
       " 'company': 'GRAIL, Inc.',\n",
       " 'country': 'US',\n",
       " 'date': 'Fri, 21 Apr 2017 19:25:00 GMT',\n",
       " 'expired': False,\n",
       " 'formattedLocation': 'Menlo Park, CA',\n",
       " 'formattedLocationFull': 'Menlo Park, CA',\n",
       " 'formattedRelativeTime': '30+ days ago',\n",
       " 'indeedApply': False,\n",
       " 'jobkey': '3ca55e0327b8b7a1',\n",
       " 'jobtitle': 'DATA SCIENTIST',\n",
       " 'language': 'en',\n",
       " 'latitude': 37.453297,\n",
       " 'longitude': -122.18132,\n",
       " 'onmousedown': \"indeed_clk(this,'7542');\",\n",
       " 'snippet': '(e.g., as a statistician / <b>data</b> <b>scientist</b> / computational biologist / bioinformatician). Our <b>data</b> <b>science</b> team is responsible for cleaning, preparing, and...',\n",
       " 'source': 'GRAIL, Inc.',\n",
       " 'sponsored': False,\n",
       " 'state': 'CA',\n",
       " 'stations': '',\n",
       " 'url': 'http://www.indeed.com/viewjob?jk=3ca55e0327b8b7a1&qd=4FBHK2sUebDRNvMMiQDczzbHzQ-UZ4C4-oK5eLO8_jT88N2g4AZtysN66g5h9LVhyrqCy1phgtnIprHVf4O82a3yVzE5vdpHnSOwHcA7tdK0bs24pKrFxhqoHah2yOE0kUfBOdYpj1ytmz3gC0lTzHSYkm1y7z4S2QfxOYra11BwpeO1BCqxKFMqdiiXWteu&indpubnum=5028694075236965&atk=1bgrtugn7a4tmdda'}"
      ]
     },
     "execution_count": 105,
     "metadata": {},
     "output_type": "execute_result"
    }
   ],
   "source": [
    "search_response['results'][14]"
   ]
  },
  {
   "cell_type": "code",
   "execution_count": null,
   "metadata": {
    "collapsed": true
   },
   "outputs": [],
   "source": []
  },
  {
   "cell_type": "code",
   "execution_count": 106,
   "metadata": {
    "collapsed": true
   },
   "outputs": [],
   "source": [
    "jobkey_li = [\"3ca55e0327b8b7a1\"]\n",
    "job_response = indeedClient.jobs(jobkeys = jobkey_li)"
   ]
  },
  {
   "cell_type": "code",
   "execution_count": 87,
   "metadata": {
    "collapsed": false
   },
   "outputs": [
    {
     "data": {
      "text/plain": [
       "dict_keys(['version', 'results'])"
      ]
     },
     "execution_count": 87,
     "metadata": {},
     "output_type": "execute_result"
    }
   ],
   "source": [
    "job_response.keys()"
   ]
  },
  {
   "cell_type": "code",
   "execution_count": 110,
   "metadata": {
    "collapsed": false
   },
   "outputs": [
    {
     "data": {
      "text/plain": [
       "{'city': 'Menlo Park',\n",
       " 'company': 'GRAIL, Inc.',\n",
       " 'country': 'US',\n",
       " 'date': 'Fri, 21 Apr 2017 19:25:00 GMT',\n",
       " 'expired': False,\n",
       " 'formattedLocation': 'Menlo Park, CA',\n",
       " 'formattedLocationFull': 'Menlo Park, CA',\n",
       " 'formattedRelativeTime': '30+ days ago',\n",
       " 'indeedApply': False,\n",
       " 'jobkey': '3ca55e0327b8b7a1',\n",
       " 'jobtitle': 'DATA SCIENTIST',\n",
       " 'language': 'en',\n",
       " 'latitude': 37.453297,\n",
       " 'longitude': -122.18132,\n",
       " 'onmousedown': \"indeed_clk(this,'');\",\n",
       " 'recommendations': [],\n",
       " 'snippet': 'PhD degree in a quantitative discipline (e.g., statistics, computational biology, computer science, mathematics, physics, electrical engineering). 2+ years of relevant work experience in data analysis or related field. Conduct end-to-end analysis that include design, data gathering, processing, analysis, iteration with stakeholders, and dissemination of results....',\n",
       " 'source': 'GRAIL, Inc.',\n",
       " 'sponsored': False,\n",
       " 'state': 'CA',\n",
       " 'stations': '',\n",
       " 'url': 'http://www.indeed.com/rc/clk?jk=3ca55e0327b8b7a1&atk='}"
      ]
     },
     "execution_count": 110,
     "metadata": {},
     "output_type": "execute_result"
    }
   ],
   "source": [
    "job_response['results'][0]"
   ]
  },
  {
   "cell_type": "code",
   "execution_count": 97,
   "metadata": {
    "collapsed": false
   },
   "outputs": [
    {
     "data": {
      "text/plain": [
       "dict_keys(['jobtitle', 'company', 'city', 'state', 'country', 'language', 'formattedLocation', 'source', 'date', 'snippet', 'url', 'onmousedown', 'latitude', 'longitude', 'jobkey', 'sponsored', 'expired', 'indeedApply', 'formattedLocationFull', 'formattedRelativeTime', 'stations', 'recommendations'])"
      ]
     },
     "execution_count": 97,
     "metadata": {},
     "output_type": "execute_result"
    }
   ],
   "source": [
    "job_response['results'][0].keys()"
   ]
  },
  {
   "cell_type": "code",
   "execution_count": 98,
   "metadata": {
    "collapsed": false
   },
   "outputs": [
    {
     "data": {
      "text/plain": [
       "dict_keys(['jobtitle', 'company', 'city', 'state', 'country', 'language', 'formattedLocation', 'source', 'date', 'snippet', 'url', 'onmousedown', 'latitude', 'longitude', 'jobkey', 'sponsored', 'expired', 'indeedApply', 'formattedLocationFull', 'formattedRelativeTime', 'stations'])"
      ]
     },
     "execution_count": 98,
     "metadata": {},
     "output_type": "execute_result"
    }
   ],
   "source": [
    "search_response['results'][4].keys()"
   ]
  },
  {
   "cell_type": "code",
   "execution_count": null,
   "metadata": {
    "collapsed": true
   },
   "outputs": [],
   "source": []
  },
  {
   "cell_type": "code",
   "execution_count": 108,
   "metadata": {
    "collapsed": false
   },
   "outputs": [
    {
     "data": {
      "text/plain": [
       "367"
      ]
     },
     "execution_count": 108,
     "metadata": {},
     "output_type": "execute_result"
    }
   ],
   "source": [
    "len(job_response['results'][0]['snippet'])"
   ]
  },
  {
   "cell_type": "code",
   "execution_count": 109,
   "metadata": {
    "collapsed": false
   },
   "outputs": [
    {
     "name": "stdout",
     "output_type": "stream",
     "text": [
      "PhD degree in a quantitative discipline (e.g., statistics, computational biology, computer science, mathematics, physics, electrical engineering). 2+ years of relevant work experience in data analysis or related field. Conduct end-to-end analysis that include design, data gathering, processing, analysis, iteration with stakeholders, and dissemination of results....\n"
     ]
    }
   ],
   "source": [
    "print(job_response['results'][0]['snippet'])"
   ]
  },
  {
   "cell_type": "code",
   "execution_count": null,
   "metadata": {
    "collapsed": true
   },
   "outputs": [],
   "source": []
  },
  {
   "cell_type": "code",
   "execution_count": null,
   "metadata": {
    "collapsed": true
   },
   "outputs": [],
   "source": []
  },
  {
   "cell_type": "code",
   "execution_count": null,
   "metadata": {
    "collapsed": true
   },
   "outputs": [],
   "source": []
  },
  {
   "cell_type": "code",
   "execution_count": null,
   "metadata": {
    "collapsed": true
   },
   "outputs": [],
   "source": []
  },
  {
   "cell_type": "markdown",
   "metadata": {},
   "source": [
    "### populate mongo"
   ]
  },
  {
   "cell_type": "code",
   "execution_count": 45,
   "metadata": {
    "collapsed": false
   },
   "outputs": [
    {
     "ename": "AttributeError",
     "evalue": "'dict' object has no attribute 'next'",
     "output_type": "error",
     "traceback": [
      "\u001b[0;31m---------------------------------------------------------------------------\u001b[0m",
      "\u001b[0;31mAttributeError\u001b[0m                            Traceback (most recent call last)",
      "\u001b[0;32m<ipython-input-45-b8fcb061b031>\u001b[0m in \u001b[0;36m<module>\u001b[0;34m()\u001b[0m\n\u001b[0;32m----> 1\u001b[0;31m \u001b[0msearch_response\u001b[0m\u001b[0;34m.\u001b[0m\u001b[0mnext\u001b[0m\u001b[0;34m(\u001b[0m\u001b[0;34m)\u001b[0m\u001b[0;34m\u001b[0m\u001b[0m\n\u001b[0m",
      "\u001b[0;31mAttributeError\u001b[0m: 'dict' object has no attribute 'next'"
     ]
    }
   ],
   "source": [
    "search_response.next()"
   ]
  },
  {
   "cell_type": "code",
   "execution_count": null,
   "metadata": {
    "collapsed": true
   },
   "outputs": [],
   "source": []
  },
  {
   "cell_type": "code",
   "execution_count": null,
   "metadata": {
    "collapsed": true
   },
   "outputs": [],
   "source": []
  },
  {
   "cell_type": "code",
   "execution_count": null,
   "metadata": {
    "collapsed": true
   },
   "outputs": [],
   "source": []
  },
  {
   "cell_type": "code",
   "execution_count": null,
   "metadata": {
    "collapsed": true
   },
   "outputs": [],
   "source": []
  },
  {
   "cell_type": "code",
   "execution_count": null,
   "metadata": {
    "collapsed": true
   },
   "outputs": [],
   "source": []
  },
  {
   "cell_type": "code",
   "execution_count": null,
   "metadata": {
    "collapsed": true
   },
   "outputs": [],
   "source": []
  }
 ],
 "metadata": {
  "kernelspec": {
   "display_name": "Python 3",
   "language": "python",
   "name": "python3"
  },
  "language_info": {
   "codemirror_mode": {
    "name": "ipython",
    "version": 3
   },
   "file_extension": ".py",
   "mimetype": "text/x-python",
   "name": "python",
   "nbconvert_exporter": "python",
   "pygments_lexer": "ipython3",
   "version": "3.6.0"
  }
 },
 "nbformat": 4,
 "nbformat_minor": 2
}
