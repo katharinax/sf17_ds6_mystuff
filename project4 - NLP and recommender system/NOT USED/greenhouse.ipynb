{
 "cells": [
  {
   "cell_type": "code",
   "execution_count": 3,
   "metadata": {
    "collapsed": false
   },
   "outputs": [],
   "source": [
    "import requests\n",
    "import lxml\n",
    "from bs4 import BeautifulSoup\n",
    "from fake_useragent import UserAgent\n",
    "from datetime import datetime, timedelta\n",
    "import argparse\n",
    "import json\n",
    "import os\n",
    "import re"
   ]
  },
  {
   "cell_type": "code",
   "execution_count": null,
   "metadata": {
    "collapsed": true
   },
   "outputs": [],
   "source": []
  },
  {
   "cell_type": "code",
   "execution_count": null,
   "metadata": {
    "collapsed": true
   },
   "outputs": [],
   "source": [
    "def pull_data_gh(url):\n",
    "    ''' Helper function to scrape a Greenhouse posting returns a dict'''\n",
    "    ua = UserAgent()\n",
    "    head = ua.random\n",
    "    resp = requests.get(url, headers={'User-Agent': head})\n",
    "    soup = BeautifulSoup(resp.text, 'lxml')\n",
    "#     job title\n",
    "    job = soup.find(id='header').find(class_='app-title').text\n",
    "#     app link\n",
    "    ap_url = url + '#app'\n",
    "    ap_type = 'Greenhouse'\n",
    "    # content\n",
    "    cont = soup.find(id = 'content')\n",
    "    h = html2text.HTML2Text()\n",
    "    desc = h.handle(str(cont))\n",
    "#     don't need deschtml, should probably get rid everywhere\n",
    "#     company\n",
    "    co_name = soup.find(id='header').find(class_='company-name')\n",
    "    company = list(co_name.stripped_strings)[0].strip('at ')\n",
    "    city = soup.find(id='header').find(class_='location')\n",
    "    city = list(city.stripped_strings)[0]\n",
    "    dept = ''\n",
    "    referer='GreenHouse'\n",
    "    data = dict(job=job, ap_url=ap_url, ap_type=ap_type, desc=desc,\n",
    "                referer=referer, company=company, city=city, dept=dept)\n",
    "    return data"
   ]
  },
  {
   "cell_type": "code",
   "execution_count": null,
   "metadata": {
    "collapsed": true
   },
   "outputs": [],
   "source": []
  }
 ],
 "metadata": {
  "kernelspec": {
   "display_name": "Python 3",
   "language": "python",
   "name": "python3"
  },
  "language_info": {
   "codemirror_mode": {
    "name": "ipython",
    "version": 3
   },
   "file_extension": ".py",
   "mimetype": "text/x-python",
   "name": "python",
   "nbconvert_exporter": "python",
   "pygments_lexer": "ipython3",
   "version": "3.6.0"
  }
 },
 "nbformat": 4,
 "nbformat_minor": 2
}
