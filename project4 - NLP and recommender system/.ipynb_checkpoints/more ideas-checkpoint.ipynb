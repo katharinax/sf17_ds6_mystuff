{
 "cells": [
  {
   "cell_type": "code",
   "execution_count": 1,
   "metadata": {
    "collapsed": true
   },
   "outputs": [],
   "source": [
    "# TODO ideas:\n",
    "\n",
    "#     supervised learning (target: user rating stars, feats: book embedding, book sentiment, \n",
    "#                          reader review embedding, review sentiment, scraped metadata)\n",
    "#     topics of books based on book embedding, book sentiment, scraped metadata (agg reader review embedding and sentiment?)\n",
    "#     cluster readers based on ??\n",
    "#     reader review CF vs rating star CF \n",
    "#     reader review comp w. sentiment comp w. rating stars\n",
    "#     content-based filtering on book synopsis \n",
    "#     weighted sum of content-based and CF => final recommendation\n",
    "#     cluster readers based on latent feature (embedding) cosine sim"
   ]
  },
  {
   "cell_type": "code",
   "execution_count": null,
   "metadata": {
    "collapsed": true
   },
   "outputs": [],
   "source": [
    "# Stuff I've done so far:\n",
    "\n",
    "# book synopsis word2vec_nlp.ipynb =>\n",
    "#     word2vec based on book synopsis => \n",
    "#         api that outputs sim words\n",
    "#         plot of words on first two latent axes\n",
    "#     book synopsis latent feature\n",
    "#     book sentiment\n",
    "# reader review word2vec_nlp.ipynb =>\n",
    "#     word2vec based on reader review => \n",
    "#         api that outputs sim words\n",
    "#         plot of words on first two latent axes\n",
    "#     review latent feature\n",
    "#     review sentiment\n",
    "# review star recommender.ipynb =>\n",
    "#     collaborative filtering recommender based on reader rating stars"
   ]
  },
  {
   "cell_type": "code",
   "execution_count": null,
   "metadata": {
    "collapsed": true
   },
   "outputs": [],
   "source": [
    "# Future work I'll definitely not do now:\n",
    "#     CF recommender with ALL features (tensor factorization)\n",
    "#     play with pre-trained word2vec models on AWS "
   ]
  }
 ],
 "metadata": {
  "kernelspec": {
   "display_name": "Python 3",
   "language": "python",
   "name": "python3"
  },
  "language_info": {
   "codemirror_mode": {
    "name": "ipython",
    "version": 3
   },
   "file_extension": ".py",
   "mimetype": "text/x-python",
   "name": "python",
   "nbconvert_exporter": "python",
   "pygments_lexer": "ipython3",
   "version": "3.6.0"
  }
 },
 "nbformat": 4,
 "nbformat_minor": 2
}
