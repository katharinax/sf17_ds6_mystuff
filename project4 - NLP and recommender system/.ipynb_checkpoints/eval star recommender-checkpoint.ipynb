{
 "cells": [
  {
   "cell_type": "code",
   "execution_count": 39,
   "metadata": {
    "collapsed": false
   },
   "outputs": [],
   "source": [
    "import pandas as pd\n",
    "import numpy as np\n",
    "import matplotlib.pyplot as plt\n",
    "import seaborn as sns\n",
    "from sklearn.utils.extmath import randomized_svd\n",
    "from sklearn.decomposition import TruncatedSVD\n",
    "import re\n",
    "import warnings\n",
    "import logging\n",
    "import pickle\n",
    "\n",
    "%matplotlib inline\n",
    "pd.options.display.max_columns = 50"
   ]
  },
  {
   "cell_type": "code",
   "execution_count": 2,
   "metadata": {
    "collapsed": true
   },
   "outputs": [],
   "source": [
    "def del_read_books(recommender, yesno_df):\n",
    "    recommender_mod = recommender.unstack()\n",
    "    recommender_mod[yesno_df.unstack()] = np.nan\n",
    "    recommender_mod = recommender_mod.unstack().transpose()\n",
    "    return recommender_mod"
   ]
  },
  {
   "cell_type": "code",
   "execution_count": 3,
   "metadata": {
    "collapsed": true
   },
   "outputs": [],
   "source": [
    "# def recommend_books(userid, n_books):\n",
    "#     \"\"\"\n",
    "#     assumes existence of\n",
    "#         recommender \"reconstruc_recomm_by_stars\" \n",
    "#         read or not df \"read_yesno\"\n",
    "#         book title list \"order_in_recomm\" \n",
    "#     also assumes userid in recommender dataFrame\n",
    "#     \"\"\"\n",
    "#     reconstruc_recomm_by_stars_exclude_read = del_read_books(reconstruc_recomm_by_stars, read_yesno)\n",
    "#     book_li = pd.DataFrame(reconstruc_recomm_by_stars_exclude_read.loc[userid].sort_values(ascending = False))\n",
    "#     book_li.index = book_li.index.droplevel()\n",
    "#     book_li.reset_index(inplace = True)\n",
    "#     book_li.columns = ['bookid', 'match_score']\n",
    "#     book_li = book_li.loc[:n_books].merge(order_in_recomm[['bookid', 'bk_title']], how = \"left\", on = 'bookid')\n",
    "#     return book_li"
   ]
  },
  {
   "cell_type": "markdown",
   "metadata": {},
   "source": [
    "### get star recommender"
   ]
  },
  {
   "cell_type": "code",
   "execution_count": 4,
   "metadata": {
    "collapsed": true
   },
   "outputs": [],
   "source": [
    "reconstruc_recomm_by_stars = pd.read_pickle(\"star_recommender.pkl\")\n",
    "read_yesno = pd.read_pickle(\"read_yesno.pkl\")\n",
    "order_in_recomm = pd.read_pickle(\"star_recommender_order.pkl\")"
   ]
  },
  {
   "cell_type": "code",
   "execution_count": 5,
   "metadata": {
    "collapsed": false
   },
   "outputs": [
    {
     "data": {
      "text/html": [
       "<div>\n",
       "<style>\n",
       "    .dataframe thead tr:only-child th {\n",
       "        text-align: right;\n",
       "    }\n",
       "\n",
       "    .dataframe thead th {\n",
       "        text-align: left;\n",
       "    }\n",
       "\n",
       "    .dataframe tbody tr th {\n",
       "        vertical-align: top;\n",
       "    }\n",
       "</style>\n",
       "<table border=\"1\" class=\"dataframe\">\n",
       "  <thead>\n",
       "    <tr style=\"text-align: right;\">\n",
       "      <th></th>\n",
       "      <th>bookid</th>\n",
       "      <th>match_score</th>\n",
       "      <th>bk_title</th>\n",
       "    </tr>\n",
       "  </thead>\n",
       "  <tbody>\n",
       "    <tr>\n",
       "      <th>0</th>\n",
       "      <td>38180</td>\n",
       "      <td>3.017926</td>\n",
       "      <td>On the Beach</td>\n",
       "    </tr>\n",
       "    <tr>\n",
       "      <th>1</th>\n",
       "      <td>61886</td>\n",
       "      <td>3.017846</td>\n",
       "      <td>The Curse of Chalion</td>\n",
       "    </tr>\n",
       "    <tr>\n",
       "      <th>2</th>\n",
       "      <td>26892110</td>\n",
       "      <td>3.017201</td>\n",
       "      <td>The Library at Mount Char</td>\n",
       "    </tr>\n",
       "    <tr>\n",
       "      <th>3</th>\n",
       "      <td>920607</td>\n",
       "      <td>3.016680</td>\n",
       "      <td>The Arrival</td>\n",
       "    </tr>\n",
       "    <tr>\n",
       "      <th>4</th>\n",
       "      <td>56842</td>\n",
       "      <td>3.016511</td>\n",
       "      <td>Fatherland</td>\n",
       "    </tr>\n",
       "    <tr>\n",
       "      <th>5</th>\n",
       "      <td>6148028</td>\n",
       "      <td>3.015308</td>\n",
       "      <td>Catching Fire</td>\n",
       "    </tr>\n",
       "  </tbody>\n",
       "</table>\n",
       "</div>"
      ],
      "text/plain": [
       "     bookid  match_score                   bk_title\n",
       "0     38180     3.017926               On the Beach\n",
       "1     61886     3.017846       The Curse of Chalion\n",
       "2  26892110     3.017201  The Library at Mount Char\n",
       "3    920607     3.016680                The Arrival\n",
       "4     56842     3.016511                 Fatherland\n",
       "5   6148028     3.015308              Catching Fire"
      ]
     },
     "execution_count": 5,
     "metadata": {},
     "output_type": "execute_result"
    }
   ],
   "source": [
    "#check it still works\n",
    "recommend_books(8561, 5)"
   ]
  },
  {
   "cell_type": "markdown",
   "metadata": {},
   "source": [
    "### get holdoutset"
   ]
  },
  {
   "cell_type": "code",
   "execution_count": 6,
   "metadata": {
    "collapsed": false
   },
   "outputs": [
    {
     "data": {
      "text/html": [
       "<div>\n",
       "<style>\n",
       "    .dataframe thead tr:only-child th {\n",
       "        text-align: right;\n",
       "    }\n",
       "\n",
       "    .dataframe thead th {\n",
       "        text-align: left;\n",
       "    }\n",
       "\n",
       "    .dataframe tbody tr th {\n",
       "        vertical-align: top;\n",
       "    }\n",
       "</style>\n",
       "<table border=\"1\" class=\"dataframe\">\n",
       "  <thead>\n",
       "    <tr style=\"text-align: right;\">\n",
       "      <th></th>\n",
       "      <th>bookid</th>\n",
       "      <th>userid</th>\n",
       "      <th>review_rating</th>\n",
       "      <th>user_tot_reviews</th>\n",
       "    </tr>\n",
       "  </thead>\n",
       "  <tbody>\n",
       "    <tr>\n",
       "      <th>2033</th>\n",
       "      <td>6261189</td>\n",
       "      <td>4765786</td>\n",
       "      <td>5</td>\n",
       "      <td>3</td>\n",
       "    </tr>\n",
       "  </tbody>\n",
       "</table>\n",
       "</div>"
      ],
      "text/plain": [
       "       bookid   userid  review_rating  user_tot_reviews\n",
       "2033  6261189  4765786              5                 3"
      ]
     },
     "execution_count": 6,
     "metadata": {},
     "output_type": "execute_result"
    }
   ],
   "source": [
    "book_review_holdout = pd.read_pickle(\"cleaned_data_holdout.pkl\")\n",
    "book_review_holdout = book_review_holdout[['bookid', 'userid', 'review_rating', 'user_tot_reviews']]\n",
    "book_review_holdout.tail(1)"
   ]
  },
  {
   "cell_type": "markdown",
   "metadata": {},
   "source": [
    "### eval"
   ]
  },
  {
   "cell_type": "code",
   "execution_count": 72,
   "metadata": {
    "collapsed": false
   },
   "outputs": [
    {
     "data": {
      "text/html": [
       "<div>\n",
       "<style>\n",
       "    .dataframe thead tr:only-child th {\n",
       "        text-align: right;\n",
       "    }\n",
       "\n",
       "    .dataframe thead th {\n",
       "        text-align: left;\n",
       "    }\n",
       "\n",
       "    .dataframe tbody tr th {\n",
       "        vertical-align: top;\n",
       "    }\n",
       "</style>\n",
       "<table border=\"1\" class=\"dataframe\">\n",
       "  <thead>\n",
       "    <tr style=\"text-align: right;\">\n",
       "      <th></th>\n",
       "      <th>bookid</th>\n",
       "      <th>userid</th>\n",
       "      <th>review_rating</th>\n",
       "      <th>user_tot_reviews</th>\n",
       "      <th>recomm_stars</th>\n",
       "    </tr>\n",
       "  </thead>\n",
       "  <tbody>\n",
       "    <tr>\n",
       "      <th>2032</th>\n",
       "      <td>99383</td>\n",
       "      <td>13070326</td>\n",
       "      <td>4</td>\n",
       "      <td>12</td>\n",
       "      <td>3.595329</td>\n",
       "    </tr>\n",
       "    <tr>\n",
       "      <th>2033</th>\n",
       "      <td>6261189</td>\n",
       "      <td>4765786</td>\n",
       "      <td>5</td>\n",
       "      <td>3</td>\n",
       "      <td>2.979483</td>\n",
       "    </tr>\n",
       "  </tbody>\n",
       "</table>\n",
       "</div>"
      ],
      "text/plain": [
       "       bookid    userid  review_rating  user_tot_reviews  recomm_stars\n",
       "2032    99383  13070326              4                12      3.595329\n",
       "2033  6261189   4765786              5                 3      2.979483"
      ]
     },
     "execution_count": 72,
     "metadata": {},
     "output_type": "execute_result"
    }
   ],
   "source": [
    "reconstruc_recomm_by_stars_exclude_read = del_read_books(reconstruc_recomm_by_stars, read_yesno)\n",
    "eval_df = reconstruc_recomm_by_stars_exclude_read.transpose()\n",
    "# eval_df = eval_df.rank(axis = 0, pct = True)\n",
    "eval_df = pd.DataFrame(eval_df.stack())\n",
    "eval_df.columns = ['recomm_stars']\n",
    "eval_df.reset_index(inplace = True)\n",
    "del eval_df['level_0']\n",
    "eval_df = book_review_holdout.merge(eval_df, how = \"left\", on = ['bookid', 'userid'])\n",
    "eval_df.tail(2)"
   ]
  },
  {
   "cell_type": "code",
   "execution_count": 73,
   "metadata": {
    "collapsed": true
   },
   "outputs": [],
   "source": [
    "eval_df['log_user_tot_reviews'] = eval_df['user_tot_reviews'].map(np.log)"
   ]
  },
  {
   "cell_type": "code",
   "execution_count": 132,
   "metadata": {
    "collapsed": false
   },
   "outputs": [
    {
     "data": {
      "image/png": "[encoded data removed]",
      "text/plain": [
       "<matplotlib.figure.Figure at 0x11a3ff390>"
      ]
     },
     "metadata": {},
     "output_type": "display_data"
    }
   ],
   "source": [
    "plt.figure(figsize = (16, 6))\n",
    "sns.set(font_scale=1.5) \n",
    "cmap = sns.cubehelix_palette(rot=-.4, as_cmap=True)\n",
    "plt.scatter(eval_df['recomm_stars'], eval_df['review_rating'], c = eval_df['log_user_tot_reviews'], \\\n",
    "            cmap = cmap, s = 50)\n",
    "plt.colorbar(label = \"log n of user total reviews\")\n",
    "plt.xlim([0.9, 5.1])\n",
    "plt.ylim([0.8, 5.2])\n",
    "plt.ylabel(r\"review stars (gold standard)\")\n",
    "plt.xlabel(r\"my recommendation (in stars)\")\n",
    "plt.title(\"Comparing my recommendation to reader rating stars\", y=1.02, fontweight=\"bold\")\n",
    "plt.show()"
   ]
  },
  {
   "cell_type": "code",
   "execution_count": 124,
   "metadata": {
    "collapsed": false
   },
   "outputs": [],
   "source": [
    "# sns.set(font_scale=2) \n",
    "# g = sns.lmplot('recomm_stars', 'log_user_tot_reviews', data=eval_df, hue='review_rating', legend=False, \\\n",
    "#                fit_reg=False, palette=sns.color_palette(\"RdBu_r\", 5), size=8, aspect=2)\n",
    "# g.fig.suptitle(\"Comparing my recommendation to reader rating stars\", y=1.02)\n",
    "# g.set_axis_labels(r\"my recommendation (in stars)\", \"log n of user total reviews\")\n",
    "# g.add_legend(title= r\"review stars (gold standard)\")\n",
    "# plt.show() # TODO try a different ranking!"
   ]
  },
  {
   "cell_type": "code",
   "execution_count": null,
   "metadata": {
    "collapsed": true
   },
   "outputs": [],
   "source": []
  },
  {
   "cell_type": "markdown",
   "metadata": {},
   "source": [
    "### pickle eval"
   ]
  },
  {
   "cell_type": "code",
   "execution_count": 133,
   "metadata": {
    "collapsed": true
   },
   "outputs": [],
   "source": [
    "eval_df.to_pickle(\"eval_star_recommender.pkl\")"
   ]
  },
  {
   "cell_type": "code",
   "execution_count": null,
   "metadata": {
    "collapsed": true
   },
   "outputs": [],
   "source": []
  }
 ],
 "metadata": {
  "kernelspec": {
   "display_name": "Python 3",
   "language": "python",
   "name": "python3"
  },
  "language_info": {
   "codemirror_mode": {
    "name": "ipython",
    "version": 3
   },
   "file_extension": ".py",
   "mimetype": "text/x-python",
   "name": "python",
   "nbconvert_exporter": "python",
   "pygments_lexer": "ipython3",
   "version": "3.6.0"
  }
 },
 "nbformat": 4,
 "nbformat_minor": 2
}
