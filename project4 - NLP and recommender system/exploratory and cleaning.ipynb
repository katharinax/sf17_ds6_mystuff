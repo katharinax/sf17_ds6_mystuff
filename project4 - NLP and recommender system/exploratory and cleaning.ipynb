{
 "cells": [
  {
   "cell_type": "code",
   "execution_count": 27,
   "metadata": {
    "collapsed": true
   },
   "outputs": [],
   "source": [
    "# If not running on AWS instance,\n",
    "# keep this running in the command line:\n",
    "# ssh -NL 12345:localhost:27017 myaws &\n",
    "# To kill:\n",
    "# use ps | grep \"ssh -NL\" to find jobID, then\n",
    "# kill [jobID]"
   ]
  },
  {
   "cell_type": "code",
   "execution_count": 32,
   "metadata": {
    "collapsed": true
   },
   "outputs": [],
   "source": [
    "import pandas as pd\n",
    "import numpy as np\n",
    "import matplotlib.pyplot as plt\n",
    "import requests\n",
    "from bs4 import BeautifulSoup\n",
    "from fake_useragent import UserAgent\n",
    "from sklearn.model_selection import train_test_split\n",
    "import time\n",
    "import re\n",
    "import json\n",
    "from pymongo import MongoClient\n",
    "import warnings\n",
    "import logging\n",
    "import gc\n",
    "import pickle\n",
    "\n",
    "%matplotlib inline\n",
    "pd.options.display.max_columns = 50"
   ]
  },
  {
   "cell_type": "code",
   "execution_count": 33,
   "metadata": {
    "collapsed": true
   },
   "outputs": [],
   "source": [
    "def to_num(x):\n",
    "    if x == \"\":\n",
    "        return np.nan\n",
    "    else:\n",
    "        return float(x)"
   ]
  },
  {
   "cell_type": "code",
   "execution_count": 34,
   "metadata": {
    "collapsed": true
   },
   "outputs": [],
   "source": [
    "mongoClient = MongoClient(port = 12345)\n",
    "bookiddb = mongoClient.bookiddb2\n",
    "bookidColl = bookiddb.bookidColl\n",
    "\n",
    "bookdb = mongoClient.bookdb2\n",
    "bookColl = bookdb.bookColl\n",
    "\n",
    "reviewdb = mongoClient.reviewdb2\n",
    "reviewColl = reviewdb.reviewColl"
   ]
  },
  {
   "cell_type": "code",
   "execution_count": 35,
   "metadata": {
    "collapsed": false
   },
   "outputs": [],
   "source": [
    "c = bookidColl.find()\n",
    "bookid_li = list(c)[0]['book_li']\n",
    "\n",
    "c = bookColl.find()\n",
    "book_df = pd.DataFrame(list(c))\n",
    "\n",
    "c = reviewColl.find()\n",
    "review_df = pd.DataFrame(list(c))"
   ]
  },
  {
   "cell_type": "markdown",
   "metadata": {},
   "source": [
    "### cleaning"
   ]
  },
  {
   "cell_type": "code",
   "execution_count": 36,
   "metadata": {
    "collapsed": false
   },
   "outputs": [],
   "source": [
    "book_df['avg_rating'] = book_df['avg_rating'].astype(float)\n",
    "book_df['bookid'] = book_df['bookid'].astype(int)\n",
    "book_df['n_ratings'] = book_df['n_ratings'].astype(int)\n",
    "book_df['n_text_reviews'] = book_df['n_text_reviews'].astype(int)\n",
    "book_df['page_ct'] = book_df['page_ct'].map(to_num)\n",
    "book_df['pub_yr'] = book_df['pub_yr'].map(to_num)\n",
    "book_df['title'] = book_df['title'].map(lambda x: re.sub(\"Reviews\", \"\", x).strip(\" \"))\n",
    "book_df['desc'] = book_df['desc'].map(lambda x: re.sub(r\"\\n|\\t\", \" \", x).strip(\" \"))\n",
    "book_df = book_df.drop(['_id', 'leng'], axis = 1) # TODO exclude non-Engilsh?\n",
    "book_df.columns = ['bk_author', 'bk_avg_rating', 'bookid', \"bk_desc\", 'bk_n_ratings', 'bk_n_text_reviews', \\\n",
    "                   'bk_page_ct', 'bk_pub_yr', 'bk_title']"
   ]
  },
  {
   "cell_type": "code",
   "execution_count": 37,
   "metadata": {
    "collapsed": false
   },
   "outputs": [],
   "source": [
    "review_df['bookid'] = review_df['bookid'].astype(int)\n",
    "review_df['like_ct'] = review_df['like_ct'].astype(int)\n",
    "review_df['rating'] = review_df['rating'].astype(int)\n",
    "review_df['userid'] = review_df['userid'].map(lambda x: int(re.sub(r\"[^0-9]\", \"\", x).strip(\" \")))\n",
    "review_df['review'] = review_df['review'].map(lambda x: re.sub(r\"\\n|\\t\", \" \", x).strip(\" \"))\n",
    "del review_df['_id']"
   ]
  },
  {
   "cell_type": "code",
   "execution_count": 38,
   "metadata": {
    "collapsed": false
   },
   "outputs": [],
   "source": [
    "review_df['review_date'] = pd.to_datetime(review_df['review_yr'])\n",
    "review_df['review_yr_num'] = review_df['review_date'].dt.year\n",
    "review_df['review_mon_num'] = review_df['review_date'].dt.month\n",
    "review_df['review_wday_num'] = review_df['review_date'].map(lambda x: x.isoweekday())\n",
    "del review_df['review_yr']"
   ]
  },
  {
   "cell_type": "code",
   "execution_count": 39,
   "metadata": {
    "collapsed": false
   },
   "outputs": [],
   "source": [
    "first_review = pd.DataFrame(review_df.groupby('bookid').min()['review_date'])\n",
    "first_review.reset_index(inplace = True)\n",
    "first_review.columns = ['bookid', 'first_review']\n",
    "first_review.tail(1)\n",
    "review_df = review_df.merge(first_review, on = 'bookid')\n",
    "review_df['since_first_review'] = (review_df['review_date'] - review_df['first_review']).astype('timedelta64[D]')\n",
    "del review_df['first_review']"
   ]
  },
  {
   "cell_type": "code",
   "execution_count": 40,
   "metadata": {
    "collapsed": false
   },
   "outputs": [],
   "source": [
    "review_df.columns = ['bookid', 'review_like_ct', 'review_rating', 'review_desc', 'userid', \\\n",
    "                     'review_date', 'review_yr', 'review_mon', 'review_wday_num', 'review_d_since_1streview']"
   ]
  },
  {
   "cell_type": "code",
   "execution_count": 41,
   "metadata": {
    "collapsed": false
   },
   "outputs": [
    {
     "name": "stdout",
     "output_type": "stream",
     "text": [
      "(21278, 10)\n",
      "(21278, 18)\n"
     ]
    }
   ],
   "source": [
    "print(review_df.shape)\n",
    "book_review = review_df.merge(book_df, how = \"inner\", on = \"bookid\")\n",
    "print(book_review.shape)"
   ]
  },
  {
   "cell_type": "code",
   "execution_count": 42,
   "metadata": {
    "collapsed": false
   },
   "outputs": [
    {
     "data": {
      "text/plain": [
       "(937,)"
      ]
     },
     "execution_count": 42,
     "metadata": {},
     "output_type": "execute_result"
    }
   ],
   "source": [
    "book_review['bookid'].drop_duplicates().shape"
   ]
  },
  {
   "cell_type": "markdown",
   "metadata": {},
   "source": [
    "### add features"
   ]
  },
  {
   "cell_type": "code",
   "execution_count": 12,
   "metadata": {
    "collapsed": false
   },
   "outputs": [],
   "source": [
    "user_tot_reviews = pd.DataFrame(book_review['userid'].value_counts())\n",
    "user_tot_reviews.reset_index(inplace = True)\n",
    "user_tot_reviews.columns = ['userid', 'user_tot_reviews']\n",
    "book_review = book_review.merge(user_tot_reviews, how = \"left\", on = \"userid\")"
   ]
  },
  {
   "cell_type": "code",
   "execution_count": 13,
   "metadata": {
    "collapsed": false
   },
   "outputs": [],
   "source": [
    "dups = pd.concat(g for _, g in book_review.groupby(['bookid', 'userid']) if len(g) > 1)\n",
    "dups = dups[['bookid', 'userid']].drop_duplicates()\n",
    "dups['dup_ind'] = 1\n",
    "book_review = book_review.merge(dups, how = \"left\", on = ['bookid', 'userid'])\n",
    "book_review['dup_ind'] = book_review['dup_ind'].fillna(0)"
   ]
  },
  {
   "cell_type": "code",
   "execution_count": 14,
   "metadata": {
    "collapsed": true
   },
   "outputs": [],
   "source": [
    "book_review['bk_desc_len'] = book_review['bk_desc'].map(len)\n",
    "book_review['review_desc_len'] = book_review['review_desc'].map(len)"
   ]
  },
  {
   "cell_type": "code",
   "execution_count": null,
   "metadata": {
    "collapsed": true
   },
   "outputs": [],
   "source": []
  },
  {
   "cell_type": "code",
   "execution_count": null,
   "metadata": {
    "collapsed": true
   },
   "outputs": [],
   "source": [
    "# TODO else? transform data?"
   ]
  },
  {
   "cell_type": "code",
   "execution_count": null,
   "metadata": {
    "collapsed": true
   },
   "outputs": [],
   "source": []
  },
  {
   "cell_type": "code",
   "execution_count": null,
   "metadata": {
    "collapsed": true
   },
   "outputs": [],
   "source": []
  },
  {
   "cell_type": "code",
   "execution_count": null,
   "metadata": {
    "collapsed": true
   },
   "outputs": [],
   "source": []
  },
  {
   "cell_type": "code",
   "execution_count": null,
   "metadata": {
    "collapsed": true
   },
   "outputs": [],
   "source": []
  },
  {
   "cell_type": "code",
   "execution_count": null,
   "metadata": {
    "collapsed": true
   },
   "outputs": [],
   "source": []
  },
  {
   "cell_type": "markdown",
   "metadata": {},
   "source": [
    "### overall check"
   ]
  },
  {
   "cell_type": "code",
   "execution_count": null,
   "metadata": {
    "collapsed": false
   },
   "outputs": [],
   "source": [
    "book_review.tail(1)"
   ]
  },
  {
   "cell_type": "code",
   "execution_count": null,
   "metadata": {
    "collapsed": false
   },
   "outputs": [],
   "source": [
    "book_review.info()"
   ]
  },
  {
   "cell_type": "code",
   "execution_count": null,
   "metadata": {
    "collapsed": true
   },
   "outputs": [],
   "source": []
  },
  {
   "cell_type": "code",
   "execution_count": null,
   "metadata": {
    "collapsed": true
   },
   "outputs": [],
   "source": []
  },
  {
   "cell_type": "code",
   "execution_count": null,
   "metadata": {
    "collapsed": true
   },
   "outputs": [],
   "source": []
  },
  {
   "cell_type": "markdown",
   "metadata": {},
   "source": [
    "### check dups"
   ]
  },
  {
   "cell_type": "code",
   "execution_count": null,
   "metadata": {
    "collapsed": false
   },
   "outputs": [],
   "source": [
    "bookid_li[:10]"
   ]
  },
  {
   "cell_type": "code",
   "execution_count": null,
   "metadata": {
    "collapsed": false
   },
   "outputs": [],
   "source": [
    "print(len(bookid_li))\n",
    "bookid_set = set(bookid_li)\n",
    "print(len(bookid_set))"
   ]
  },
  {
   "cell_type": "code",
   "execution_count": null,
   "metadata": {
    "collapsed": false
   },
   "outputs": [],
   "source": [
    "book_df.tail(1)"
   ]
  },
  {
   "cell_type": "code",
   "execution_count": null,
   "metadata": {
    "collapsed": false
   },
   "outputs": [],
   "source": [
    "print(book_df.shape)\n",
    "book_df_dedupall = book_df.drop_duplicates()\n",
    "print(book_df_dedupall.shape)\n",
    "book_df_dedup = book_df.drop_duplicates(subset = ['bookid'])\n",
    "print(book_df_dedup.shape)"
   ]
  },
  {
   "cell_type": "code",
   "execution_count": null,
   "metadata": {
    "collapsed": false
   },
   "outputs": [],
   "source": [
    "review_df.tail(1)"
   ]
  },
  {
   "cell_type": "code",
   "execution_count": null,
   "metadata": {
    "collapsed": false
   },
   "outputs": [],
   "source": [
    "print(review_df.shape)\n",
    "review_df_dedupall = review_df.drop_duplicates()\n",
    "print(review_df_dedupall.shape)\n",
    "review_df_dedup = review_df.drop_duplicates(subset = ['bookid', 'userid'])\n",
    "print(review_df_dedup.shape, str((1 - review_df_dedup.shape[0] / review_df_dedupall.shape[0]) * 100) + \"%\")"
   ]
  },
  {
   "cell_type": "code",
   "execution_count": null,
   "metadata": {
    "collapsed": false
   },
   "outputs": [],
   "source": [
    "dups = pd.concat(g for _, g in review_df.groupby(['bookid', 'userid']) if len(g) > 1)\n",
    "print(dups.shape)\n",
    "dups.head(4)"
   ]
  },
  {
   "cell_type": "markdown",
   "metadata": {},
   "source": [
    "### checking things"
   ]
  },
  {
   "cell_type": "code",
   "execution_count": null,
   "metadata": {
    "collapsed": false
   },
   "outputs": [],
   "source": [
    "# book_df['leng'].value_counts()"
   ]
  },
  {
   "cell_type": "code",
   "execution_count": null,
   "metadata": {
    "collapsed": false
   },
   "outputs": [],
   "source": [
    "cond = book_df['bk_author'] == 'Ray Bradbury'\n",
    "book_df.loc[cond]"
   ]
  },
  {
   "cell_type": "code",
   "execution_count": null,
   "metadata": {
    "collapsed": false
   },
   "outputs": [],
   "source": [
    "cond = review_df['bookid'] == 23929479\n",
    "review_df.loc[cond]"
   ]
  },
  {
   "cell_type": "code",
   "execution_count": null,
   "metadata": {
    "collapsed": true
   },
   "outputs": [],
   "source": []
  },
  {
   "cell_type": "code",
   "execution_count": null,
   "metadata": {
    "collapsed": true
   },
   "outputs": [],
   "source": []
  },
  {
   "cell_type": "code",
   "execution_count": null,
   "metadata": {
    "collapsed": false
   },
   "outputs": [],
   "source": []
  },
  {
   "cell_type": "code",
   "execution_count": null,
   "metadata": {
    "collapsed": false
   },
   "outputs": [],
   "source": [
    "review_ct = pd.DataFrame(review_df['userid'].value_counts())\n",
    "review_ct.columns = ['review_ct']\n",
    "review_ct.sort_values('review_ct', ascending = False, inplace = True)\n",
    "review_ct.head(1)"
   ]
  },
  {
   "cell_type": "code",
   "execution_count": null,
   "metadata": {
    "collapsed": false
   },
   "outputs": [],
   "source": [
    "num_display = 500\n",
    "my_yticks = range(num_display, 0, -1)\n",
    "plt.figure()\n",
    "plt.barh(my_yticks, review_ct['review_ct'].iloc[:num_display])\n",
    "plt.yticks(my_yticks, review_ct.index)\n",
    "plt.show()"
   ]
  },
  {
   "cell_type": "code",
   "execution_count": null,
   "metadata": {
    "collapsed": false
   },
   "outputs": [],
   "source": [
    "review_ct_per_book = review_df.groupby('bookid').agg('count')[['userid']]\n",
    "review_ct_per_book.reset_index(inplace = True)\n",
    "review_ct_per_book.columns = ['bookid', 'review_ct_per_book']\n",
    "review_ct_per_book.sort_values('review_ct_per_book', ascending = False, inplace = True)\n",
    "review_ct_per_book.head(1)"
   ]
  },
  {
   "cell_type": "code",
   "execution_count": null,
   "metadata": {
    "collapsed": true
   },
   "outputs": [],
   "source": []
  },
  {
   "cell_type": "code",
   "execution_count": null,
   "metadata": {
    "collapsed": true
   },
   "outputs": [],
   "source": []
  },
  {
   "cell_type": "code",
   "execution_count": null,
   "metadata": {
    "collapsed": true
   },
   "outputs": [],
   "source": []
  },
  {
   "cell_type": "code",
   "execution_count": null,
   "metadata": {
    "collapsed": true
   },
   "outputs": [],
   "source": []
  },
  {
   "cell_type": "code",
   "execution_count": null,
   "metadata": {
    "collapsed": false
   },
   "outputs": [],
   "source": [
    "avg_review_ct = review_df.shape[0] / book_df.shape[0]\n",
    "avg_review_ct"
   ]
  },
  {
   "cell_type": "code",
   "execution_count": null,
   "metadata": {
    "collapsed": true
   },
   "outputs": [],
   "source": []
  },
  {
   "cell_type": "code",
   "execution_count": null,
   "metadata": {
    "collapsed": false
   },
   "outputs": [],
   "source": [
    "book_review.tail(1)"
   ]
  },
  {
   "cell_type": "code",
   "execution_count": null,
   "metadata": {
    "collapsed": true
   },
   "outputs": [],
   "source": []
  },
  {
   "cell_type": "code",
   "execution_count": null,
   "metadata": {
    "collapsed": true
   },
   "outputs": [],
   "source": []
  },
  {
   "cell_type": "code",
   "execution_count": null,
   "metadata": {
    "collapsed": true
   },
   "outputs": [],
   "source": []
  },
  {
   "cell_type": "code",
   "execution_count": null,
   "metadata": {
    "collapsed": true
   },
   "outputs": [],
   "source": []
  },
  {
   "cell_type": "markdown",
   "metadata": {},
   "source": [
    "### check failed scraping cookie"
   ]
  },
  {
   "cell_type": "code",
   "execution_count": 43,
   "metadata": {
    "collapsed": false
   },
   "outputs": [
    {
     "data": {
      "text/html": [
       "<div>\n",
       "<style>\n",
       "    .dataframe thead tr:only-child th {\n",
       "        text-align: right;\n",
       "    }\n",
       "\n",
       "    .dataframe thead th {\n",
       "        text-align: left;\n",
       "    }\n",
       "\n",
       "    .dataframe tbody tr th {\n",
       "        vertical-align: top;\n",
       "    }\n",
       "</style>\n",
       "<table border=\"1\" class=\"dataframe\">\n",
       "  <thead>\n",
       "    <tr style=\"text-align: right;\">\n",
       "      <th></th>\n",
       "      <th>bookid</th>\n",
       "      <th>order</th>\n",
       "      <th>bk_n_text_reviews</th>\n",
       "      <th>scrape_ct</th>\n",
       "    </tr>\n",
       "  </thead>\n",
       "  <tbody>\n",
       "    <tr>\n",
       "      <th>936</th>\n",
       "      <td>17261174</td>\n",
       "      <td>2148</td>\n",
       "      <td>642</td>\n",
       "      <td>22</td>\n",
       "    </tr>\n",
       "  </tbody>\n",
       "</table>\n",
       "</div>"
      ],
      "text/plain": [
       "       bookid  order  bk_n_text_reviews  scrape_ct\n",
       "936  17261174   2148                642         22"
      ]
     },
     "execution_count": 43,
     "metadata": {},
     "output_type": "execute_result"
    }
   ],
   "source": [
    "check_cookie = pd.DataFrame({\"order\": np.array(range(len(bookid_li))) + 1, \"bookid\": pd.Series(bookid_li).map(int)})\n",
    "check_cookie = check_cookie.merge(book_df[['bookid', 'bk_n_text_reviews']], on = 'bookid')\n",
    "\n",
    "scrape_ct = pd.DataFrame(review_df['bookid'].value_counts())\n",
    "scrape_ct.reset_index(inplace = True)\n",
    "scrape_ct.columns = ['bookid', 'scrape_ct']\n",
    "check_cookie = check_cookie.merge(scrape_ct, on = 'bookid')\n",
    "check_cookie.tail(1)"
   ]
  },
  {
   "cell_type": "code",
   "execution_count": 47,
   "metadata": {
    "collapsed": false
   },
   "outputs": [
    {
     "data": {
      "image/png": "[encoded data removed]",
      "text/plain": [
       "<matplotlib.figure.Figure at 0x10ffeaf28>"
      ]
     },
     "metadata": {},
     "output_type": "display_data"
    }
   ],
   "source": [
    "plt.figure(figsize = (16, 4))\n",
    "sample = range(0, check_cookie.shape[0], 10)\n",
    "plt.plot(check_cookie['order'].iloc[sample], check_cookie['bk_n_text_reviews'].iloc[sample] / 100, \"b-\")\n",
    "plt.plot(check_cookie['order'].iloc[sample], check_cookie['scrape_ct'].iloc[sample], \"y-\")\n",
    "plt.axhline(90, color = 'red')\n",
    "plt.ylim([0, 200])\n",
    "# plt.yticks(list(range(0, 91, 10)))\n",
    "plt.xlim([-10, 2160])\n",
    "plt.xticks(list(range(0, 2160, 200)))\n",
    "plt.ylabel(\"N of reviews\", fontsize = 16)\n",
    "plt.xlabel(\"Books indexed with pagination sequence\", fontsize = 16)\n",
    "plt.legend(fontsize = 16)\n",
    "plt.show()"
   ]
  },
  {
   "cell_type": "code",
   "execution_count": null,
   "metadata": {
    "collapsed": true
   },
   "outputs": [],
   "source": []
  },
  {
   "cell_type": "markdown",
   "metadata": {},
   "source": [
    "### check language"
   ]
  },
  {
   "cell_type": "code",
   "execution_count": null,
   "metadata": {
    "collapsed": false
   },
   "outputs": [],
   "source": [
    "# book_review['leng'].value_counts() "
   ]
  },
  {
   "cell_type": "code",
   "execution_count": null,
   "metadata": {
    "collapsed": false
   },
   "outputs": [],
   "source": [
    "# cond = book_review['leng'] == 'spa'\n",
    "# book_review.loc[cond, 'title'].value_counts()"
   ]
  },
  {
   "cell_type": "code",
   "execution_count": null,
   "metadata": {
    "collapsed": false
   },
   "outputs": [],
   "source": [
    "# cond = book_review['leng'] == 'ind' # Indonesian, but the webpage looks English:(\n",
    "# book_review.loc[cond]"
   ]
  },
  {
   "cell_type": "code",
   "execution_count": null,
   "metadata": {
    "collapsed": true
   },
   "outputs": [],
   "source": []
  },
  {
   "cell_type": "code",
   "execution_count": null,
   "metadata": {
    "collapsed": true
   },
   "outputs": [],
   "source": []
  },
  {
   "cell_type": "markdown",
   "metadata": {
    "collapsed": true
   },
   "source": [
    "### check book desc len"
   ]
  },
  {
   "cell_type": "code",
   "execution_count": null,
   "metadata": {
    "collapsed": false
   },
   "outputs": [],
   "source": [
    "cond = book_review['bk_desc_len'] == 0\n",
    "n_zero_len = sum(cond)\n",
    "n = len(book_review['bk_desc_len'])\n",
    "print(n_zero_len, n, n_zero_len / n * 100)"
   ]
  },
  {
   "cell_type": "code",
   "execution_count": null,
   "metadata": {
    "collapsed": false
   },
   "outputs": [],
   "source": [
    "book_review[cond].head(1)"
   ]
  },
  {
   "cell_type": "code",
   "execution_count": null,
   "metadata": {
    "collapsed": true
   },
   "outputs": [],
   "source": [
    "# blank book synopsis seems to be scraping error, but other columns look fine"
   ]
  },
  {
   "cell_type": "code",
   "execution_count": null,
   "metadata": {
    "collapsed": false
   },
   "outputs": [],
   "source": [
    "plt.figure(figsize = (8, 4))\n",
    "plt.hist(book_review.loc[~cond, 'bk_desc_len'], bins = 100)\n",
    "plt.show()"
   ]
  },
  {
   "cell_type": "markdown",
   "metadata": {},
   "source": [
    "### check review text len"
   ]
  },
  {
   "cell_type": "code",
   "execution_count": null,
   "metadata": {
    "collapsed": false
   },
   "outputs": [],
   "source": [
    "cond = book_review['review_desc_len'] == 0\n",
    "n_zero_len = sum(cond)\n",
    "n = len(book_review['review_desc_len'])\n",
    "print(n_zero_len, n, n_zero_len / n * 100)"
   ]
  },
  {
   "cell_type": "code",
   "execution_count": null,
   "metadata": {
    "collapsed": false
   },
   "outputs": [],
   "source": [
    "non0_cond = book_review['review_desc_len'] > 0\n",
    "new_cond = book_review['review_desc_len'] == min(book_review.loc[non0_cond, 'review_desc_len'])\n",
    "book_review[new_cond] # someone actually wrote this.."
   ]
  },
  {
   "cell_type": "code",
   "execution_count": null,
   "metadata": {
    "collapsed": false
   },
   "outputs": [],
   "source": [
    "plt.figure(figsize = (16, 4))\n",
    "plt.hist(book_review.loc[~cond, 'review_desc_len'], bins = 200)\n",
    "plt.show()"
   ]
  },
  {
   "cell_type": "code",
   "execution_count": null,
   "metadata": {
    "collapsed": true
   },
   "outputs": [],
   "source": []
  },
  {
   "cell_type": "code",
   "execution_count": null,
   "metadata": {
    "collapsed": true
   },
   "outputs": [],
   "source": []
  },
  {
   "cell_type": "code",
   "execution_count": null,
   "metadata": {
    "collapsed": true
   },
   "outputs": [],
   "source": []
  },
  {
   "cell_type": "markdown",
   "metadata": {
    "collapsed": true
   },
   "source": [
    "### holdout split"
   ]
  },
  {
   "cell_type": "code",
   "execution_count": 16,
   "metadata": {
    "collapsed": false
   },
   "outputs": [
    {
     "data": {
      "text/plain": [
       "2128"
      ]
     },
     "execution_count": 16,
     "metadata": {},
     "output_type": "execute_result"
    }
   ],
   "source": [
    "holdout_ratio = 0.1\n",
    "holdout_n_rows = round(book_review.shape[0] * holdout_ratio)\n",
    "holdout_n_rows"
   ]
  },
  {
   "cell_type": "code",
   "execution_count": 17,
   "metadata": {
    "collapsed": false
   },
   "outputs": [
    {
     "data": {
      "text/html": [
       "<div>\n",
       "<style>\n",
       "    .dataframe thead tr:only-child th {\n",
       "        text-align: right;\n",
       "    }\n",
       "\n",
       "    .dataframe thead th {\n",
       "        text-align: left;\n",
       "    }\n",
       "\n",
       "    .dataframe tbody tr th {\n",
       "        vertical-align: top;\n",
       "    }\n",
       "</style>\n",
       "<table border=\"1\" class=\"dataframe\">\n",
       "  <thead>\n",
       "    <tr style=\"text-align: right;\">\n",
       "      <th></th>\n",
       "      <th>userid</th>\n",
       "      <th>ct</th>\n",
       "    </tr>\n",
       "  </thead>\n",
       "  <tbody>\n",
       "    <tr>\n",
       "      <th>11299</th>\n",
       "      <td>59458347</td>\n",
       "      <td>3</td>\n",
       "    </tr>\n",
       "    <tr>\n",
       "      <th>11347</th>\n",
       "      <td>63472114</td>\n",
       "      <td>10</td>\n",
       "    </tr>\n",
       "  </tbody>\n",
       "</table>\n",
       "</div>"
      ],
      "text/plain": [
       "         userid  ct\n",
       "11299  59458347   3\n",
       "11347  63472114  10"
      ]
     },
     "execution_count": 17,
     "metadata": {},
     "output_type": "execute_result"
    }
   ],
   "source": [
    "# TODO don't need this part; I forgot there's user_tot_reviews\n",
    "review_ct_per_user = pd.DataFrame(book_review.groupby('userid').count()['bookid'])\n",
    "review_ct_per_user.reset_index(inplace = True)\n",
    "review_ct_per_user.columns = ['userid', 'ct']\n",
    "cond = review_ct_per_user['ct'] >= 3\n",
    "review_ct_per_user = review_ct_per_user.loc[cond]\n",
    "review_ct_per_user.tail(2)"
   ]
  },
  {
   "cell_type": "code",
   "execution_count": 18,
   "metadata": {
    "collapsed": false
   },
   "outputs": [
    {
     "data": {
      "text/plain": [
       "0.2"
      ]
     },
     "execution_count": 18,
     "metadata": {},
     "output_type": "execute_result"
    }
   ],
   "source": [
    "n_in_subset = review_ct_per_user.groupby(np.ones(review_ct_per_user.shape[0])).sum(axis = 1)['ct']\n",
    "subset_ratio = float(round(holdout_n_rows / n_in_subset, 1))\n",
    "subset_ratio"
   ]
  },
  {
   "cell_type": "code",
   "execution_count": 19,
   "metadata": {
    "collapsed": false
   },
   "outputs": [],
   "source": [
    "cond = book_review['userid'].map(str).str.contains(\"|\".join(review_ct_per_user['userid'].map(str)))\n",
    "subset = book_review.loc[cond]"
   ]
  },
  {
   "cell_type": "code",
   "execution_count": 20,
   "metadata": {
    "collapsed": false
   },
   "outputs": [],
   "source": [
    "# subset.tail(1)\n",
    "# subset[subset['userid'] == 92508]"
   ]
  },
  {
   "cell_type": "code",
   "execution_count": 21,
   "metadata": {
    "collapsed": false
   },
   "outputs": [],
   "source": [
    "_, book_review_holdout = train_test_split(subset, test_size = subset_ratio, random_state = 0)\n",
    "# book_review_holdout.tail(1)"
   ]
  },
  {
   "cell_type": "code",
   "execution_count": 22,
   "metadata": {
    "collapsed": false
   },
   "outputs": [],
   "source": [
    "book_review_holdout = book_review_holdout.copy() # debugging line\n",
    "book_review_holdout['holdout'] = 1\n",
    "book_review_train = book_review.merge(book_review_holdout[['bookid', 'userid', 'holdout']], how = \"left\", \\\n",
    "                                      on = ['bookid', 'userid'])\n",
    "cond = book_review_train['holdout'] != 1\n",
    "book_review_train = book_review_train[cond]"
   ]
  },
  {
   "cell_type": "code",
   "execution_count": 23,
   "metadata": {
    "collapsed": false
   },
   "outputs": [
    {
     "data": {
      "text/html": [
       "<div>\n",
       "<style>\n",
       "    .dataframe thead tr:only-child th {\n",
       "        text-align: right;\n",
       "    }\n",
       "\n",
       "    .dataframe thead th {\n",
       "        text-align: left;\n",
       "    }\n",
       "\n",
       "    .dataframe tbody tr th {\n",
       "        vertical-align: top;\n",
       "    }\n",
       "</style>\n",
       "<table border=\"1\" class=\"dataframe\">\n",
       "  <thead>\n",
       "    <tr style=\"text-align: right;\">\n",
       "      <th></th>\n",
       "      <th>bookid</th>\n",
       "      <th>review_like_ct</th>\n",
       "      <th>review_rating</th>\n",
       "      <th>review_desc</th>\n",
       "      <th>userid</th>\n",
       "      <th>review_date</th>\n",
       "      <th>review_yr</th>\n",
       "      <th>review_mon</th>\n",
       "      <th>review_wday_num</th>\n",
       "      <th>review_d_since_1streview</th>\n",
       "      <th>bk_author</th>\n",
       "      <th>bk_avg_rating</th>\n",
       "      <th>bk_desc</th>\n",
       "      <th>bk_n_ratings</th>\n",
       "      <th>bk_n_text_reviews</th>\n",
       "      <th>bk_page_ct</th>\n",
       "      <th>bk_pub_yr</th>\n",
       "      <th>bk_title</th>\n",
       "      <th>user_tot_reviews</th>\n",
       "      <th>dup_ind</th>\n",
       "      <th>bk_desc_len</th>\n",
       "      <th>review_desc_len</th>\n",
       "    </tr>\n",
       "  </thead>\n",
       "  <tbody>\n",
       "    <tr>\n",
       "      <th>19230</th>\n",
       "      <td>17261174</td>\n",
       "      <td>1</td>\n",
       "      <td>5</td>\n",
       "      <td>Utterly charming, well paced, written and draw...</td>\n",
       "      <td>1722508</td>\n",
       "      <td>2016-09-23</td>\n",
       "      <td>2016</td>\n",
       "      <td>9</td>\n",
       "      <td>5</td>\n",
       "      <td>1177.0</td>\n",
       "      <td>Tony  Cliff</td>\n",
       "      <td>3.94</td>\n",
       "      <td>A little bit Tintin, a little bit Indiana Jone...</td>\n",
       "      <td>5828</td>\n",
       "      <td>642</td>\n",
       "      <td>122.0</td>\n",
       "      <td>2013.0</td>\n",
       "      <td>Delilah Dirk and the Turkish Lieutenant</td>\n",
       "      <td>1</td>\n",
       "      <td>0.0</td>\n",
       "      <td>169</td>\n",
       "      <td>234</td>\n",
       "    </tr>\n",
       "  </tbody>\n",
       "</table>\n",
       "</div>"
      ],
      "text/plain": [
       "         bookid  review_like_ct  review_rating  \\\n",
       "19230  17261174               1              5   \n",
       "\n",
       "                                             review_desc   userid review_date  \\\n",
       "19230  Utterly charming, well paced, written and draw...  1722508  2016-09-23   \n",
       "\n",
       "       review_yr  review_mon  review_wday_num  review_d_since_1streview  \\\n",
       "19230       2016           9                5                    1177.0   \n",
       "\n",
       "         bk_author  bk_avg_rating  \\\n",
       "19230  Tony  Cliff           3.94   \n",
       "\n",
       "                                                 bk_desc  bk_n_ratings  \\\n",
       "19230  A little bit Tintin, a little bit Indiana Jone...          5828   \n",
       "\n",
       "       bk_n_text_reviews  bk_page_ct  bk_pub_yr  \\\n",
       "19230                642       122.0     2013.0   \n",
       "\n",
       "                                      bk_title  user_tot_reviews  dup_ind  \\\n",
       "19230  Delilah Dirk and the Turkish Lieutenant                 1      0.0   \n",
       "\n",
       "       bk_desc_len  review_desc_len  \n",
       "19230          169              234  "
      ]
     },
     "execution_count": 23,
     "metadata": {},
     "output_type": "execute_result"
    }
   ],
   "source": [
    "del book_review_train['holdout']\n",
    "book_review_train.reset_index(drop = True, inplace = True)\n",
    "book_review_train.tail(1)"
   ]
  },
  {
   "cell_type": "code",
   "execution_count": 24,
   "metadata": {
    "collapsed": false
   },
   "outputs": [
    {
     "data": {
      "text/html": [
       "<div>\n",
       "<style>\n",
       "    .dataframe thead tr:only-child th {\n",
       "        text-align: right;\n",
       "    }\n",
       "\n",
       "    .dataframe thead th {\n",
       "        text-align: left;\n",
       "    }\n",
       "\n",
       "    .dataframe tbody tr th {\n",
       "        vertical-align: top;\n",
       "    }\n",
       "</style>\n",
       "<table border=\"1\" class=\"dataframe\">\n",
       "  <thead>\n",
       "    <tr style=\"text-align: right;\">\n",
       "      <th></th>\n",
       "      <th>bookid</th>\n",
       "      <th>review_like_ct</th>\n",
       "      <th>review_rating</th>\n",
       "      <th>review_desc</th>\n",
       "      <th>userid</th>\n",
       "      <th>review_date</th>\n",
       "      <th>review_yr</th>\n",
       "      <th>review_mon</th>\n",
       "      <th>review_wday_num</th>\n",
       "      <th>review_d_since_1streview</th>\n",
       "      <th>bk_author</th>\n",
       "      <th>bk_avg_rating</th>\n",
       "      <th>bk_desc</th>\n",
       "      <th>bk_n_ratings</th>\n",
       "      <th>bk_n_text_reviews</th>\n",
       "      <th>bk_page_ct</th>\n",
       "      <th>bk_pub_yr</th>\n",
       "      <th>bk_title</th>\n",
       "      <th>user_tot_reviews</th>\n",
       "      <th>dup_ind</th>\n",
       "      <th>bk_desc_len</th>\n",
       "      <th>review_desc_len</th>\n",
       "    </tr>\n",
       "  </thead>\n",
       "  <tbody>\n",
       "    <tr>\n",
       "      <th>2033</th>\n",
       "      <td>6261189</td>\n",
       "      <td>9</td>\n",
       "      <td>5</td>\n",
       "      <td>This book took me totally by suprise! It's dar...</td>\n",
       "      <td>4765786</td>\n",
       "      <td>2011-01-07</td>\n",
       "      <td>2011</td>\n",
       "      <td>1</td>\n",
       "      <td>5</td>\n",
       "      <td>493.0</td>\n",
       "      <td>Stacia Kane</td>\n",
       "      <td>3.64</td>\n",
       "      <td>The world is not the way it was. The dead have...</td>\n",
       "      <td>12776</td>\n",
       "      <td>1541</td>\n",
       "      <td>323.0</td>\n",
       "      <td>2010.0</td>\n",
       "      <td>Unholy Ghosts</td>\n",
       "      <td>3</td>\n",
       "      <td>0.0</td>\n",
       "      <td>802</td>\n",
       "      <td>548</td>\n",
       "    </tr>\n",
       "  </tbody>\n",
       "</table>\n",
       "</div>"
      ],
      "text/plain": [
       "       bookid  review_like_ct  review_rating  \\\n",
       "2033  6261189               9              5   \n",
       "\n",
       "                                            review_desc   userid review_date  \\\n",
       "2033  This book took me totally by suprise! It's dar...  4765786  2011-01-07   \n",
       "\n",
       "      review_yr  review_mon  review_wday_num  review_d_since_1streview  \\\n",
       "2033       2011           1                5                     493.0   \n",
       "\n",
       "        bk_author  bk_avg_rating  \\\n",
       "2033  Stacia Kane           3.64   \n",
       "\n",
       "                                                bk_desc  bk_n_ratings  \\\n",
       "2033  The world is not the way it was. The dead have...         12776   \n",
       "\n",
       "      bk_n_text_reviews  bk_page_ct  bk_pub_yr       bk_title  \\\n",
       "2033               1541       323.0     2010.0  Unholy Ghosts   \n",
       "\n",
       "      user_tot_reviews  dup_ind  bk_desc_len  review_desc_len  \n",
       "2033                 3      0.0          802              548  "
      ]
     },
     "execution_count": 24,
     "metadata": {},
     "output_type": "execute_result"
    }
   ],
   "source": [
    "del book_review_holdout['holdout']\n",
    "book_review_holdout.reset_index(drop = True, inplace = True)\n",
    "book_review_holdout.tail(1)"
   ]
  },
  {
   "cell_type": "code",
   "execution_count": 25,
   "metadata": {
    "collapsed": false
   },
   "outputs": [
    {
     "name": "stdout",
     "output_type": "stream",
     "text": [
      "(19231, 22) (2034, 22) 0.10576673079923041\n"
     ]
    }
   ],
   "source": [
    "print(book_review_train.shape, book_review_holdout.shape, book_review_holdout.shape[0] / book_review_train.shape[0])"
   ]
  },
  {
   "cell_type": "code",
   "execution_count": 35,
   "metadata": {
    "collapsed": false
   },
   "outputs": [
    {
     "data": {
      "image/png": "[encoded data removed]",
      "text/plain": [
       "<matplotlib.figure.Figure at 0x1126ba630>"
      ]
     },
     "metadata": {},
     "output_type": "display_data"
    }
   ],
   "source": [
    "plt.subplots(1, 3, figsize = (16, 4))\n",
    "plt.subplot(1, 3, 1)\n",
    "plt.hist(book_review['review_rating'])\n",
    "plt.title(\"all\", fontsize = 20)\n",
    "plt.xticks(range(1, 6))\n",
    "\n",
    "plt.subplot(1, 3, 2)\n",
    "plt.hist(book_review_train['review_rating'])\n",
    "plt.title(\"train\", fontsize = 20)\n",
    "plt.xticks(range(1, 6))\n",
    "\n",
    "plt.subplot(1, 3, 3)\n",
    "plt.hist(book_review_holdout['review_rating'])\n",
    "plt.title(\"holdout\", fontsize = 20)\n",
    "plt.xticks(range(1, 6))\n",
    "plt.show()"
   ]
  },
  {
   "cell_type": "markdown",
   "metadata": {},
   "source": [
    "### pickle"
   ]
  },
  {
   "cell_type": "code",
   "execution_count": 15,
   "metadata": {
    "collapsed": true
   },
   "outputs": [],
   "source": [
    "with open('cleaned_data_all.pkl', 'wb') as picklefile:\n",
    "    pickle.dump(book_review, picklefile)"
   ]
  },
  {
   "cell_type": "code",
   "execution_count": 26,
   "metadata": {
    "collapsed": true
   },
   "outputs": [],
   "source": [
    "with open('cleaned_data_holdout.pkl', 'wb') as picklefile:\n",
    "    pickle.dump(book_review_holdout, picklefile)"
   ]
  },
  {
   "cell_type": "code",
   "execution_count": 27,
   "metadata": {
    "collapsed": true
   },
   "outputs": [],
   "source": [
    "with open('cleaned_data.pkl', 'wb') as picklefile: # for most of the anaylsis\n",
    "    pickle.dump(book_review_train, picklefile)"
   ]
  },
  {
   "cell_type": "code",
   "execution_count": null,
   "metadata": {
    "collapsed": true
   },
   "outputs": [],
   "source": []
  }
 ],
 "metadata": {
  "kernelspec": {
   "display_name": "Python 3",
   "language": "python",
   "name": "python3"
  },
  "language_info": {
   "codemirror_mode": {
    "name": "ipython",
    "version": 3
   },
   "file_extension": ".py",
   "mimetype": "text/x-python",
   "name": "python",
   "nbconvert_exporter": "python",
   "pygments_lexer": "ipython3",
   "version": "3.6.0"
  }
 },
 "nbformat": 4,
 "nbformat_minor": 2
}
